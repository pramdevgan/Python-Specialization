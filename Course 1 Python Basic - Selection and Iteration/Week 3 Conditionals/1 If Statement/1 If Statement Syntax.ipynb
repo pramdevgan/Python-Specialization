{
 "cells": [
  {
   "cell_type": "markdown",
   "metadata": {},
   "source": [
    "# **If Statement Syntax**\n",
    "![](https://apollo-media.codio.com/media%2F1%2Fc4b0ac2fe33a0a310ae98f0310f2d741-2cb4c017-c0b8-408a-a39a-f3437f48b87f.webp)\n",
    "\n",
    "Conditionals are pieces of code that make a decision about what the program is going to do next. The most common conditional is the if statement.\n",
    "If statements in Python must contain the following items:\n",
    "- the keyword ***if***\n",
    "- a boolean expression\n",
    "- a colon\n",
    "- 4 spaces of indentation for all lines of code that will run if the boolean expression is true."
   ]
  },
  {
   "cell_type": "code",
   "execution_count": 4,
   "metadata": {},
   "outputs": [],
   "source": [
    "from metakernel import register_ipython_magics\n",
    "register_ipython_magics()"
   ]
  },
  {
   "cell_type": "code",
   "execution_count": 5,
   "metadata": {},
   "outputs": [
    {
     "data": {
      "text/html": [
       "\n",
       "        <iframe\n",
       "            width=\"100%\"\n",
       "            height=\"500\"\n",
       "            src=\"https://pythontutor.com/iframe-embed.html#code=if%205%20%3E%204%3A%0A%20%20%20%20print%28%221st%20command%20if%20true%22%29%0A%20%20%20%20print%28%222nd%20command%20if%20true%22%29%0A&origin=opt-frontend.js&cumulative=false&heapPrimitives=false&textReferences=false&py=3&rawInputLstJSON=%5B%5D&curInstr=0&codeDivWidth=350&codeDivHeight=400\"\n",
       "            frameborder=\"0\"\n",
       "            allowfullscreen\n",
       "            \n",
       "        ></iframe>\n",
       "        "
      ],
      "text/plain": [
       "<IPython.lib.display.IFrame at 0x2778049e5f0>"
      ]
     },
     "metadata": {},
     "output_type": "display_data"
    }
   ],
   "source": [
    "%%tutor\n",
    "if 5 > 4:\n",
    "    print(\"1st command if true\")\n",
    "    print(\"2nd command if true\")"
   ]
  },
  {
   "cell_type": "markdown",
   "metadata": {},
   "source": [
    "Reading Question\n",
    "Rearrange the code blocks below to create an if statement. Not all of the code blocks will be used. Hint: do not forget about indenting.\n",
    "\n",
    "\n",
    "Drag from here\n",
    "```\n",
    "if {5 > 4}\n",
    "if 5 > 4\n",
    "```\n",
    "Construct your solution here\n",
    "```\n",
    "if 5 > 4:\n",
    "    print(\"1st command if true\")\n",
    "    print(\"2nd command if true\")\n",
    "```\n",
    "\n",
    "If statements in Python do not have { } and end with a :. Code that will run if the statement is true must be indented.\n"
   ]
  }
 ],
 "metadata": {
  "interpreter": {
   "hash": "12d9efd1b418ad7485587f2da0512ee7fc7c20b6462fdb2a696d6f33bbf19b58"
  },
  "kernelspec": {
   "display_name": "Python 3.10.4 64-bit",
   "language": "python",
   "name": "python3"
  },
  "language_info": {
   "codemirror_mode": {
    "name": "ipython",
    "version": 3
   },
   "file_extension": ".py",
   "mimetype": "text/x-python",
   "name": "python",
   "nbconvert_exporter": "python",
   "pygments_lexer": "ipython3",
   "version": "3.10.4"
  },
  "orig_nbformat": 4
 },
 "nbformat": 4,
 "nbformat_minor": 2
}
