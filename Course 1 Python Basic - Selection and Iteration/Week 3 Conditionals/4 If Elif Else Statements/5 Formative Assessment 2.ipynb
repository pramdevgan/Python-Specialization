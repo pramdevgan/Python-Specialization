{
 "cells": [
  {
   "cell_type": "markdown",
   "metadata": {},
   "source": [
    "## ***Formative Assessment 2***\n",
    "#### ***Constructing an Elif Statement***\n",
    "Look at the code below:\n",
    "\n",
    "    if my_var < 1:\n",
    "        print(\"my_var is less than 1\")\n",
    "    if my_var == 1:\n",
    "        print(\"my_var is 1\")\n",
    "    if my_var > 1:\n",
    "        print(\"my_var is greater than 1\")\n",
    "\n",
    "Drag from here\n",
    "\n",
    "    print(\"my_var is less than 1\")\n",
    "    print(\"my_var is 1\")\n",
    "    else if my_var == 1:\n",
    "    else:\n",
    "    if my_var < 1:\n",
    "    print(\"my_var is greater than 1\")\n",
    "    elif my_var == 1:\n",
    "    else my_var > 1:\n",
    "\n",
    "\n",
    "Construct your solution here"
   ]
  },
  {
   "cell_type": "code",
   "execution_count": 1,
   "metadata": {},
   "outputs": [
    {
     "name": "stdout",
     "output_type": "stream",
     "text": [
      "my_var is 1\n"
     ]
    }
   ],
   "source": [
    "my_var = 1\n",
    "\n",
    "if my_var < 1:\n",
    "    print(\"my_var is less than 1\")\n",
    "elif my_var == 1:\n",
    "    print(\"my_var is 1\")\n",
    "else:\n",
    "    print(\"my_var is greater than 1\")"
   ]
  },
  {
   "cell_type": "markdown",
   "metadata": {},
   "source": [
    "    All of the print statements are correct, so they can all be used. The if statement should be first, followed by the elif statement. elif is an abbreviation for else if, so the statement with else if can be ignored. Finally, the program should end with else, which does not require a boolean expression."
   ]
  }
 ],
 "metadata": {
  "interpreter": {
   "hash": "12d9efd1b418ad7485587f2da0512ee7fc7c20b6462fdb2a696d6f33bbf19b58"
  },
  "kernelspec": {
   "display_name": "Python 3.10.4 64-bit",
   "language": "python",
   "name": "python3"
  },
  "language_info": {
   "codemirror_mode": {
    "name": "ipython",
    "version": 3
   },
   "file_extension": ".py",
   "mimetype": "text/x-python",
   "name": "python",
   "nbconvert_exporter": "python",
   "pygments_lexer": "ipython3",
   "version": "3.10.4"
  },
  "orig_nbformat": 4
 },
 "nbformat": 4,
 "nbformat_minor": 2
}
