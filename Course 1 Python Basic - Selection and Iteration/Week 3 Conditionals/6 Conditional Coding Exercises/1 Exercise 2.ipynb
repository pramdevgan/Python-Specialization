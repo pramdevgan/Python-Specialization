{
 "cells": [
  {
   "cell_type": "markdown",
   "metadata": {},
   "source": [
    "## ***Exercise 2***\n",
    "#### ***Conditionals Exercise 2***\n",
    "\n",
    "**Problem**\n",
    "Use the variable x as you write this program. x will represent a positive integer. Write a program that determines if x is divisible by 5. If yes, print _ is divisible by 5, where the blank is the value of x. If no, print _ is not divisible by 5, where the blank is the value of x.\n",
    "\n",
    "##### ***Expected Output***\n",
    "- If x is 50, then the output would be: 50 is divisible by 5.\n",
    "- If x is 37, then the output would be: 37 is not divisible by 5.\n",
    "\n",
    "##### ***Important***\n",
    "The variable **x** is already declared for you. Please do not modify the code on lines 5 and 6.\n",
    "\n",
    "##### **Type Casting**\n",
    "Use the **str(x)** command to type cast the variable x as a string."
   ]
  },
  {
   "cell_type": "markdown",
   "metadata": {},
   "source": [
    "The question is asking a single question, is ***x*** divisible by 5? You do not need a compound conditional. Since you have to print two separate messages (one for true, the other for false), you will need to use ***else***. There are no more questions about ***x***, so you do not need to use ***elif*** Here is a possible solution:"
   ]
  },
  {
   "cell_type": "code",
   "execution_count": 2,
   "metadata": {},
   "outputs": [
    {
     "name": "stdout",
     "output_type": "stream",
     "text": [
      "50 is divisible by 5\n"
     ]
    }
   ],
   "source": [
    "x = 50\n",
    "\n",
    "if x % 5 == 0:\n",
    "    print(str(x) + \" is divisible by 5\")\n",
    "else:\n",
    "    print(str(x) + \" is not divisible by 5\")"
   ]
  }
 ],
 "metadata": {
  "interpreter": {
   "hash": "12d9efd1b418ad7485587f2da0512ee7fc7c20b6462fdb2a696d6f33bbf19b58"
  },
  "kernelspec": {
   "display_name": "Python 3.10.4 64-bit",
   "language": "python",
   "name": "python3"
  },
  "language_info": {
   "codemirror_mode": {
    "name": "ipython",
    "version": 3
   },
   "file_extension": ".py",
   "mimetype": "text/x-python",
   "name": "python",
   "nbconvert_exporter": "python",
   "pygments_lexer": "ipython3",
   "version": "3.10.4"
  },
  "orig_nbformat": 4
 },
 "nbformat": 4,
 "nbformat_minor": 2
}
