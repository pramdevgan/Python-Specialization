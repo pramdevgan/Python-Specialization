{
 "cells": [
  {
   "cell_type": "markdown",
   "metadata": {},
   "source": [
    "## **Formative Assessment 1**\n",
    "#### **Compound Conditionals**\n",
    "Drag the code blocks below to create a compound conditional that prints Hello World. **Hint**, not all of the code blocks will be used.\n",
    "\n",
    "Drag from here\n",
    "\n",
    "- if True not True:\n",
    "- if True:\n",
    "- if not True:\n",
    "\n",
    "Construct your solution here\n",
    "\n",
    "    if True or True:\n",
    "        print(\"Hello World\")\n",
    "```\n",
    "A compound conditional requires two boolean expressions joined by either and or or.\n",
    "```"
   ]
  },
  {
   "cell_type": "code",
   "execution_count": 1,
   "metadata": {},
   "outputs": [
    {
     "name": "stdout",
     "output_type": "stream",
     "text": [
      "Hello World\n"
     ]
    }
   ],
   "source": [
    "if True or True:\n",
    "    print(\"Hello World\")"
   ]
  }
 ],
 "metadata": {
  "interpreter": {
   "hash": "12d9efd1b418ad7485587f2da0512ee7fc7c20b6462fdb2a696d6f33bbf19b58"
  },
  "kernelspec": {
   "display_name": "Python 3.10.4 64-bit",
   "language": "python",
   "name": "python3"
  },
  "language_info": {
   "codemirror_mode": {
    "name": "ipython",
    "version": 3
   },
   "file_extension": ".py",
   "mimetype": "text/x-python",
   "name": "python",
   "nbconvert_exporter": "python",
   "pygments_lexer": "ipython3",
   "version": "3.10.4"
  },
  "orig_nbformat": 4
 },
 "nbformat": 4,
 "nbformat_minor": 2
}
