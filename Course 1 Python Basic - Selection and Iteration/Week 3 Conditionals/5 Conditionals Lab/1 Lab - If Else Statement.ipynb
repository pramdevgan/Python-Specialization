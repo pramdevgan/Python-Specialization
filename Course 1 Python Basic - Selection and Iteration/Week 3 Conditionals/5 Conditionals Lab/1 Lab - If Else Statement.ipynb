{
 "cells": [
  {
   "cell_type": "markdown",
   "metadata": {},
   "source": [
    "# ***Lab - If Else Statement***\n",
    "#### ***Tutorial Lab 2: If Else Statements***\n",
    "The if else statement gives your program the ability to ask a question, perform actions if the answer is true, and perform another set of actions if the answer is false."
   ]
  },
  {
   "cell_type": "code",
   "execution_count": 1,
   "metadata": {},
   "outputs": [
    {
     "name": "stdout",
     "output_type": "stream",
     "text": [
      "10 is less than 50\n"
     ]
    }
   ],
   "source": [
    "x = 10\n",
    "\n",
    "if x > 50:\n",
    "    print(str(x) + \" is greater than 50\")\n",
    "else:\n",
    "    print(str(x) + \" is less than 50\")"
   ]
  },
  {
   "cell_type": "markdown",
   "metadata": {},
   "source": [
    "The if part of the if else statement is written as before. The **else** keyword is ***not*** indented; it should be aligned with the **if** keyword. **else** is followed by a **:**. You do not use a boolean expression with **else**. All code that should run when the boolean expression is false must be indented four spaces.\n",
    "\n",
    "Be careful when expression your boolean expression in terms of \"less than or greater than\". This does not take into account when the values being compared are equal. Consider the code from above, but with **x** having the value of **50**."
   ]
  },
  {
   "cell_type": "code",
   "execution_count": 2,
   "metadata": {},
   "outputs": [
    {
     "name": "stdout",
     "output_type": "stream",
     "text": [
      "50 is less than 50\n"
     ]
    }
   ],
   "source": [
    "x = 50\n",
    "if x > 50:\n",
    "    print(str(x) + \" is greater than 50\")\n",
    "else:\n",
    "    print(str(x) + \" is less than 50\")"
   ]
  },
  {
   "cell_type": "markdown",
   "metadata": {},
   "source": [
    "The output of the program does not make sense. 50 is not less than 50. Sometimes using <= and >= need to be used. Be sure to think through all of the possible outcomes, and make sure your code can function properly in all of those scenarios."
   ]
  },
  {
   "cell_type": "code",
   "execution_count": 3,
   "metadata": {},
   "outputs": [
    {
     "name": "stdout",
     "output_type": "stream",
     "text": [
      "50 is equal to 50\n"
     ]
    }
   ],
   "source": [
    "x = 50\n",
    "if x > 50:\n",
    "    print(str(x) + \" is greater than 50\")\n",
    "elif x == 50:\n",
    "    print(str(x) + \" is equal to 50\")\n",
    "else:\n",
    "    print(str(x) + \" is less than 50\")"
   ]
  },
  {
   "cell_type": "markdown",
   "metadata": {},
   "source": [
    "## ***Lab Question**\n",
    "Drag the appropriate code blocks into the box below. Your program should check to see if a number is even and print \"Even\". If the number is odd, then print \"Odd\". Assume the variable **x** represents the number to be tested.\n",
    "\n",
    "Drag from here\n",
    "\n",
    "        print(Odd)\n",
    "        print(Even)\n",
    "        else\n",
    "        if x % 2 == 0:\n",
    "        else:\n",
    "        if x % 2 = 0\n",
    "        if x // 2 == 0:\n",
    "        elif:\n",
    "        print(\"Odd\")\n",
    "        print(\"Even\")\n",
    "\n",
    "Construct your solution here\n",
    "\n",
    "        if x % 2 == 0:\n",
    "           print(\"Even\")\n",
    "        else:\n",
    "            print(\"Odd\")"
   ]
  },
  {
   "cell_type": "code",
   "execution_count": 4,
   "metadata": {},
   "outputs": [
    {
     "name": "stdout",
     "output_type": "stream",
     "text": [
      "Odd\n"
     ]
    }
   ],
   "source": [
    "x = 3\n",
    "if x % 2 == 0:\n",
    "    print(\"Even\")\n",
    "else:\n",
    "    print(\"Odd\")"
   ]
  },
  {
   "cell_type": "markdown",
   "metadata": {},
   "source": [
    "Here is why the other options are incorrect:\n",
    "\n",
    "- if x % 2 = 0 - The equality operator (==) is not used.\n",
    "- if x // 2 == 0 - The // operator is floor division. To be even, there can be no remainder. The modulo operator (%) must be used instead.\n",
    "- elif: - First, elif required a boolean expression. Since a number can be either even or odd, else: is the better choice.\n",
    "- else - The : is missing.\n",
    "- print(Even) - The quotation marks are missing. Without them, Python will try to print the variable Even, which has not been declared.\n",
    "- print(Odd) - The quotation marks are missing. Without them, Python will try to print the variable Odd, which has not been declared."
   ]
  }
 ],
 "metadata": {
  "interpreter": {
   "hash": "12d9efd1b418ad7485587f2da0512ee7fc7c20b6462fdb2a696d6f33bbf19b58"
  },
  "kernelspec": {
   "display_name": "Python 3.10.4 64-bit",
   "language": "python",
   "name": "python3"
  },
  "language_info": {
   "codemirror_mode": {
    "name": "ipython",
    "version": 3
   },
   "file_extension": ".py",
   "mimetype": "text/x-python",
   "name": "python",
   "nbconvert_exporter": "python",
   "pygments_lexer": "ipython3",
   "version": "3.10.4"
  },
  "orig_nbformat": 4
 },
 "nbformat": 4,
 "nbformat_minor": 2
}
