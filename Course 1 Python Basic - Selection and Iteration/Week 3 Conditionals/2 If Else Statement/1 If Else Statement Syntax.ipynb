{
 "cells": [
  {
   "cell_type": "markdown",
   "metadata": {},
   "source": [
    "# **If Else Syntax**\n",
    "The if else statement checks to see if a condition is true, and then has specific actions that take place. But it also provides a specific set of actions if the boolean expression is false. Use the **else** keyword to introduce the code to run when false. Notice, **else** is aligned with the **if** keyword (no indentation) and has a **:**. You do not write another boolean expression with **else**.\n",
    "\n",
    "![](https://apollo-media.codio.com/media%2F1%2F590ede3614bbf03691c4c949c20b69f7-3f71dbad-90d6-41c8-acb8-d8c602805725.webp)"
   ]
  },
  {
   "cell_type": "code",
   "execution_count": 3,
   "metadata": {},
   "outputs": [],
   "source": [
    "from metakernel import register_ipython_magics\n",
    "register_ipython_magics()"
   ]
  },
  {
   "cell_type": "code",
   "execution_count": 4,
   "metadata": {},
   "outputs": [
    {
     "name": "stdout",
     "output_type": "stream",
     "text": [
      "The boolean expression is true\n"
     ]
    }
   ],
   "source": [
    "if 5 > 4:\n",
    "    print(\"The boolean expression is true\")\n",
    "else:\n",
    "    print(\"The boolean expression is false\")"
   ]
  },
  {
   "cell_type": "code",
   "execution_count": 5,
   "metadata": {},
   "outputs": [
    {
     "data": {
      "text/html": [
       "\n",
       "        <iframe\n",
       "            width=\"100%\"\n",
       "            height=\"500\"\n",
       "            src=\"https://pythontutor.com/iframe-embed.html#code=if%205%20%3E%204%3A%0A%20%20%20%20print%28%22The%20boolean%20expression%20is%20true%22%29%0Aelse%3A%0A%20%20%20%20print%28%22The%20boolean%20expression%20is%20false%22%29%0A&origin=opt-frontend.js&cumulative=false&heapPrimitives=false&textReferences=false&py=3&rawInputLstJSON=%5B%5D&curInstr=0&codeDivWidth=350&codeDivHeight=400\"\n",
       "            frameborder=\"0\"\n",
       "            allowfullscreen\n",
       "            \n",
       "        ></iframe>\n",
       "        "
      ],
      "text/plain": [
       "<IPython.lib.display.IFrame at 0x1810248e320>"
      ]
     },
     "metadata": {},
     "output_type": "display_data"
    }
   ],
   "source": [
    "%%tutor\n",
    "if 5 > 4:\n",
    "    print(\"The boolean expression is true\")\n",
    "else:\n",
    "    print(\"The boolean expression is false\")"
   ]
  },
  {
   "cell_type": "markdown",
   "metadata": {},
   "source": [
    "### **What happens if you:**\n",
    "- Change 4 to 6?\n",
    "- Indent the else statement four spaces?"
   ]
  },
  {
   "cell_type": "code",
   "execution_count": 7,
   "metadata": {},
   "outputs": [
    {
     "name": "stdout",
     "output_type": "stream",
     "text": [
      "The boolean expression is false\n"
     ]
    }
   ],
   "source": [
    "if 5 > 6:\n",
    "    print(\"The boolean expression is true\")\n",
    "else:\n",
    "    print(\"The boolean expression is false\")"
   ]
  },
  {
   "cell_type": "code",
   "execution_count": 9,
   "metadata": {},
   "outputs": [
    {
     "ename": "IndentationError",
     "evalue": "expected an indented block after 'else' statement on line 3 (155368703.py, line 4)",
     "output_type": "error",
     "traceback": [
      "\u001b[1;36m  Input \u001b[1;32mIn [9]\u001b[1;36m\u001b[0m\n\u001b[1;33m    print(\"The boolean expression is false\")\u001b[0m\n\u001b[1;37m    ^\u001b[0m\n\u001b[1;31mIndentationError\u001b[0m\u001b[1;31m:\u001b[0m expected an indented block after 'else' statement on line 3\n"
     ]
    }
   ],
   "source": [
    "if 5 > 6:\n",
    "    print(\"The boolean expression is true\")\n",
    "else:\n",
    "print(\"The boolean expression is false\")"
   ]
  },
  {
   "cell_type": "markdown",
   "metadata": {},
   "source": [
    "## **Reading Question**\n",
    "What are the requirements of using an else statement? **Hint, there is more than one right answer.\n",
    "\n",
    "- There is no indentationc  **Correct Answer**\n",
    "- Use a : at the end **Correct Answer**\n",
    "- Do not use another boolean expression **Correct Answer**\n",
    "- Code after the else must be indented **Correct Answer**\n",
    "\n",
    "    All of the statements are true:\n",
    "    \n",
    "    else should not be indented, i.e. it is aligned with the preceding if statement\n",
    "    Use a : after else\n",
    "    You do not declare another boolean expression\n",
    "    All code that runs if the boolean expression is false should be indented"
   ]
  }
 ],
 "metadata": {
  "interpreter": {
   "hash": "12d9efd1b418ad7485587f2da0512ee7fc7c20b6462fdb2a696d6f33bbf19b58"
  },
  "kernelspec": {
   "display_name": "Python 3.10.4 64-bit",
   "language": "python",
   "name": "python3"
  },
  "language_info": {
   "codemirror_mode": {
    "name": "ipython",
    "version": 3
   },
   "file_extension": ".py",
   "mimetype": "text/x-python",
   "name": "python",
   "nbconvert_exporter": "python",
   "pygments_lexer": "ipython3",
   "version": "3.10.4"
  },
  "orig_nbformat": 4
 },
 "nbformat": 4,
 "nbformat_minor": 2
}
