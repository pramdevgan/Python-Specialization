{
 "cells": [
  {
   "cell_type": "markdown",
   "metadata": {},
   "source": [
    "# ***Exercise 4***\n",
    "#### ***Conditionals Exercise 4***\n",
    "\n",
    "***Problem***\n",
    "Use the variable x as you write this program. x will represent a string. Write a program using the elif keyword that determines if x is a primary color (red, blue, or yellow). If yes, print _ is primary color, where the blank is the value of x. If no, print _ is not a primary color, where the blank is the value of x.\n",
    "\n",
    "#### ***Expected Output***\n",
    "- If x is red, then the output would be: red is a primary color.\n",
    "- If x is teal, then the output would be: teal is not a primary color.\n",
    "\n",
    "##### ***Important***\n",
    "The variable x is already declared for you. Please do not modify the code on lines 5 and 6."
   ]
  },
  {
   "cell_type": "code",
   "execution_count": 1,
   "metadata": {},
   "outputs": [
    {
     "name": "stdout",
     "output_type": "stream",
     "text": [
      "red is a primary color\n"
     ]
    }
   ],
   "source": [
    "x = \"red\"\n",
    "\n",
    "if x == \"red\" or x == \"blue\" or x == \"yellow\":\n",
    "    print(x + \" is a primary color\")\n",
    "else:\n",
    "    print(x + \" is not a primary color\")"
   ]
  },
  {
   "cell_type": "markdown",
   "metadata": {},
   "source": [
    "The problem states that you have to use an **elif** statement. You also do not need a compound conditional because of the **elif**. Here is one possible solution:"
   ]
  },
  {
   "cell_type": "code",
   "execution_count": 2,
   "metadata": {},
   "outputs": [
    {
     "name": "stdout",
     "output_type": "stream",
     "text": [
      "red is a primary color\n"
     ]
    }
   ],
   "source": [
    "if x == \"red\":\n",
    "    print(x + \" is a primary color\")\n",
    "elif x == \"blue\":\n",
    "    print(x + \" is a primary color\")\n",
    "elif x == \"yellow\":\n",
    "    print(x + \" is a primary color\")\n",
    "else:\n",
    "    print(x + \" is not a primary color\")"
   ]
  }
 ],
 "metadata": {
  "interpreter": {
   "hash": "12d9efd1b418ad7485587f2da0512ee7fc7c20b6462fdb2a696d6f33bbf19b58"
  },
  "kernelspec": {
   "display_name": "Python 3.10.4 64-bit",
   "language": "python",
   "name": "python3"
  },
  "language_info": {
   "codemirror_mode": {
    "name": "ipython",
    "version": 3
   },
   "file_extension": ".py",
   "mimetype": "text/x-python",
   "name": "python",
   "nbconvert_exporter": "python",
   "pygments_lexer": "ipython3",
   "version": "3.10.4"
  },
  "orig_nbformat": 4
 },
 "nbformat": 4,
 "nbformat_minor": 2
}
