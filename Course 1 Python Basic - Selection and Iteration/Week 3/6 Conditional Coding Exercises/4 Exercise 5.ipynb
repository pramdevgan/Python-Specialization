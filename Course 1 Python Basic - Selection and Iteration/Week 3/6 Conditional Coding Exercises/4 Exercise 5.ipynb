{
 "cells": [
  {
   "cell_type": "markdown",
   "metadata": {},
   "source": [
    "## ***Exercise 5***\n",
    "#### ***Conditionals Exercise 5**\n",
    "Problem\n",
    "Use the variable x as you write this program. x will represent a string. Write a program that determines if x is a vowel (a, e, i, o, and u ). If yes, print _ is a vowel, where the blank is the value of x. If no, print _ is not a vowel, where the blank is the value of x.\n",
    "#### ***Expected Output***\n",
    "- If x is a, then the output would be: a is a vowel.\n",
    "- If x is z, then the output would be: z is not a vowel.\n",
    "\n",
    "#### ***Important***\n",
    "The variable x is already declared for you. Please do not modify the code on lines 5 and 6"
   ]
  },
  {
   "cell_type": "markdown",
   "metadata": {},
   "source": [
    "The problem does not specify how to code the solution. Like Exercise 4, you can use a series of elif statements to determine if x is a vowel. It is also possible to use a long compound conditional. Here is one possible solution:"
   ]
  },
  {
   "cell_type": "code",
   "execution_count": 3,
   "metadata": {},
   "outputs": [
    {
     "name": "stdout",
     "output_type": "stream",
     "text": [
      "b is not a vowel\n"
     ]
    }
   ],
   "source": [
    "x = \"b\"\n",
    "\n",
    "if x == \"a\" or x == \"e\" or x == \"i\" or x == \"o\" or x == \"u\":\n",
    "    print(x + \" is a vowel\")\n",
    "else:\n",
    "    print(x + \" is not a vowel\")"
   ]
  }
 ],
 "metadata": {
  "interpreter": {
   "hash": "12d9efd1b418ad7485587f2da0512ee7fc7c20b6462fdb2a696d6f33bbf19b58"
  },
  "kernelspec": {
   "display_name": "Python 3.10.4 64-bit",
   "language": "python",
   "name": "python3"
  },
  "language_info": {
   "codemirror_mode": {
    "name": "ipython",
    "version": 3
   },
   "file_extension": ".py",
   "mimetype": "text/x-python",
   "name": "python",
   "nbconvert_exporter": "python",
   "pygments_lexer": "ipython3",
   "version": "3.10.4"
  },
  "orig_nbformat": 4
 },
 "nbformat": 4,
 "nbformat_minor": 2
}
