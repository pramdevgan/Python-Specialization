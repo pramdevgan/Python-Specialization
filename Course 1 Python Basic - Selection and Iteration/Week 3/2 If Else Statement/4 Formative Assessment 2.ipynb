{
 "cells": [
  {
   "cell_type": "markdown",
   "metadata": {},
   "source": [
    "### **Formative Assessment 2**\n",
    "You want to make your voice assistant (Google Home, Alexa, Siri, etc.) give more helpful weather-based information.\n",
    "\n",
    "\n",
    "Construct code that will print out messages based on the weather:\n",
    "\n",
    "- “Bring an umbrella!” if it is rainy but not windy\n",
    "- “Wear a rain jacket.” if it is rainy and windy\n",
    "- “You might need a coat.” if it is cold but not rainy\n",
    "- “Enjoy your day!” if it is not cold and not rainy\n",
    "\n",
    "Assume the following boolean variables have already been declared and initialized: **rainy**, **windy**, **cold**\n",
    "\n",
    "Reminder Please indent your code where appropriate."
   ]
  },
  {
   "cell_type": "code",
   "execution_count": 2,
   "metadata": {},
   "outputs": [
    {
     "name": "stdout",
     "output_type": "stream",
     "text": [
      "Wear a rain jacket.\n"
     ]
    }
   ],
   "source": [
    "rainy = True\n",
    "windy = True\n",
    "cold = True\n",
    "\n",
    "if rainy:\n",
    "    if windy:\n",
    "        print(\"Wear a rain jacket.\")\n",
    "    else:\n",
    "        print(\"Bring an umbrella!\")\n",
    "else:\n",
    "    if cold:\n",
    "        print(\"You might need a coat.\")\n",
    "    else:\n",
    "        print(\"Enjoy your day!\")"
   ]
  },
  {
   "cell_type": "markdown",
   "metadata": {},
   "source": [
    "```\n",
    "By nesting if-else statements, you can create 4 unique cases: rainy and windy, rainy but not windy, not rainy and cold, and not rainy or cold.\n",
    "```"
   ]
  }
 ],
 "metadata": {
  "interpreter": {
   "hash": "12d9efd1b418ad7485587f2da0512ee7fc7c20b6462fdb2a696d6f33bbf19b58"
  },
  "kernelspec": {
   "display_name": "Python 3.10.4 64-bit",
   "language": "python",
   "name": "python3"
  },
  "language_info": {
   "codemirror_mode": {
    "name": "ipython",
    "version": 3
   },
   "file_extension": ".py",
   "mimetype": "text/x-python",
   "name": "python",
   "nbconvert_exporter": "python",
   "pygments_lexer": "ipython3",
   "version": "3.10.4"
  },
  "orig_nbformat": 4
 },
 "nbformat": 4,
 "nbformat_minor": 2
}
