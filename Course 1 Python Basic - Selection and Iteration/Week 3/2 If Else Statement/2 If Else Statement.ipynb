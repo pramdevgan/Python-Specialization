{
 "cells": [
  {
   "cell_type": "markdown",
   "metadata": {},
   "source": [
    "## **If Else Statement**\n",
    "The if else statement is used when you want something to specific to happen if the boolean expression is true and if you want something else to happen if it is false."
   ]
  },
  {
   "cell_type": "code",
   "execution_count": 1,
   "metadata": {},
   "outputs": [
    {
     "name": "stdout",
     "output_type": "stream",
     "text": [
      "The value of my_bool is true\n"
     ]
    }
   ],
   "source": [
    "my_bool = True\n",
    "if my_bool:\n",
    "    print(\"The value of my_bool is true\")\n",
    "else:\n",
    "    print(\"The value of my_bool is false\")"
   ]
  },
  {
   "cell_type": "markdown",
   "metadata": {},
   "source": [
    "### **What happens if you:**\n",
    "- Change the value of my_bool to False?\n",
    "- Change the value of my_bool to not True and not False?"
   ]
  },
  {
   "cell_type": "code",
   "execution_count": 2,
   "metadata": {},
   "outputs": [
    {
     "name": "stdout",
     "output_type": "stream",
     "text": [
      "The value of my_bool is false\n"
     ]
    }
   ],
   "source": [
    "my_bool = False\n",
    "if my_bool:\n",
    "    print(\"The value of my_bool is true\")\n",
    "else:\n",
    "    print(\"The value of my_bool is false\")"
   ]
  },
  {
   "cell_type": "code",
   "execution_count": 3,
   "metadata": {},
   "outputs": [
    {
     "name": "stdout",
     "output_type": "stream",
     "text": [
      "The value of my_bool is false\n"
     ]
    }
   ],
   "source": [
    "my_bool = not True and not False\n",
    "if my_bool:\n",
    "    print(\"The value of my_bool is true\")\n",
    "else:\n",
    "    print(\"The value of my_bool is false\")"
   ]
  },
  {
   "cell_type": "markdown",
   "metadata": {},
   "source": [
    "## **Odd or Even**\n",
    "You can combine the if else statement with the modulo operator to determine if a number is odd or even:\n",
    "- Modulo returns the remainder after division is performed\n",
    "- Calculate the modulo (%) of any number and 2\n",
    "- If the modulo is 0, then the number is even"
   ]
  },
  {
   "cell_type": "code",
   "execution_count": 4,
   "metadata": {},
   "outputs": [
    {
     "name": "stdout",
     "output_type": "stream",
     "text": [
      "4 is an even number\n"
     ]
    }
   ],
   "source": [
    "num = 4\n",
    "if num % 2 == 0:\n",
    "    print(str(num) + \" is an even number\")\n",
    "else:\n",
    "    print(str(num) + \" is an odd number\")"
   ]
  },
  {
   "cell_type": "markdown",
   "metadata": {},
   "source": [
    "##### ***Refresher:str***\n",
    "The str function is used to convert (also called type casting) the value of num into a string so that it can be joined (concatenated) with the other string."
   ]
  },
  {
   "cell_type": "markdown",
   "metadata": {},
   "source": [
    "### **What happens if you:**\n",
    "- Change num to 3?\n",
    "- Change num to 0?\n",
    "- Change num to -8?"
   ]
  },
  {
   "cell_type": "code",
   "execution_count": 5,
   "metadata": {},
   "outputs": [
    {
     "name": "stdout",
     "output_type": "stream",
     "text": [
      "3 is an odd number\n"
     ]
    }
   ],
   "source": [
    "num = 3\n",
    "if num % 2 == 0:\n",
    "    print(str(num) + \" is an even number\")\n",
    "else:\n",
    "    print(str(num) + \" is an odd number\")"
   ]
  },
  {
   "cell_type": "code",
   "execution_count": 6,
   "metadata": {},
   "outputs": [
    {
     "name": "stdout",
     "output_type": "stream",
     "text": [
      "0 is an even number\n"
     ]
    }
   ],
   "source": [
    "num = 0\n",
    "if num % 2 == 0:\n",
    "    print(str(num) + \" is an even number\")\n",
    "else:\n",
    "    print(str(num) + \" is an odd number\")"
   ]
  },
  {
   "cell_type": "code",
   "execution_count": 7,
   "metadata": {},
   "outputs": [
    {
     "name": "stdout",
     "output_type": "stream",
     "text": [
      "-8 is an even number\n"
     ]
    }
   ],
   "source": [
    "num = -8\n",
    "if num % 2 == 0:\n",
    "    print(str(num) + \" is an even number\")\n",
    "else:\n",
    "    print(str(num) + \" is an odd number\")"
   ]
  },
  {
   "cell_type": "markdown",
   "metadata": {},
   "source": [
    "### **Reading Question**\n",
    "Place the following code blocks in their proper place.\n",
    "\n",
    "Drag from here\n",
    "\n",
    "Construct your solution here\n",
    "```\n",
    "if 10 < 7:\n",
    "    print(\"10 is less than 7\")\n",
    "else:\n",
    "    print(\"10 is not less than 7\")\n",
    "```\n",
    "The if statement comes first. Of the two print statements, the one that prints **10 is less than 7** comes first. Then comes the else statement. Finally, the statement that prints **10 is not less than 7** comes last."
   ]
  },
  {
   "cell_type": "code",
   "execution_count": 8,
   "metadata": {},
   "outputs": [
    {
     "name": "stdout",
     "output_type": "stream",
     "text": [
      "10 is not less than 7\n"
     ]
    }
   ],
   "source": [
    "if 10 < 7:\n",
    "    print(\"10 is less than 7\")\n",
    "else:\n",
    "    print(\"10 is not less than 7\")"
   ]
  }
 ],
 "metadata": {
  "interpreter": {
   "hash": "12d9efd1b418ad7485587f2da0512ee7fc7c20b6462fdb2a696d6f33bbf19b58"
  },
  "kernelspec": {
   "display_name": "Python 3.10.4 64-bit",
   "language": "python",
   "name": "python3"
  },
  "language_info": {
   "codemirror_mode": {
    "name": "ipython",
    "version": 3
   },
   "file_extension": ".py",
   "mimetype": "text/x-python",
   "name": "python",
   "nbconvert_exporter": "python",
   "pygments_lexer": "ipython3",
   "version": "3.10.4"
  },
  "orig_nbformat": 4
 },
 "nbformat": 4,
 "nbformat_minor": 2
}
