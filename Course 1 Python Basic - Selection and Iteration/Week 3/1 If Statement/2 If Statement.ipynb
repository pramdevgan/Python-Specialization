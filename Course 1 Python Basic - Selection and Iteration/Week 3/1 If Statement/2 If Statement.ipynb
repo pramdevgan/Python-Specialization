{
 "cells": [
  {
   "cell_type": "markdown",
   "metadata": {},
   "source": [
    "## ***If Statement***\n",
    "If statements test to see if a certain condition is true. If yes, then a specific commands are run. The simple if statement does not do anything if the boolean expression is false."
   ]
  },
  {
   "cell_type": "code",
   "execution_count": 13,
   "metadata": {},
   "outputs": [],
   "source": [
    "from metakernel import register_ipython_magics\n",
    "register_ipython_magics()"
   ]
  },
  {
   "cell_type": "code",
   "execution_count": 14,
   "metadata": {},
   "outputs": [
    {
     "data": {
      "text/html": [
       "\n",
       "        <iframe\n",
       "            width=\"100%\"\n",
       "            height=\"500\"\n",
       "            src=\"https://pythontutor.com/iframe-embed.html#code=if%207%21%3D%2010%3A%0A%20%20%20%20print%28%22The%20above%20statement%20is%20ture%22%29%0A%20%20%20%20print%28%22Thi%20is%20not%20related%20to%20the%20if%20statement%22%29%0A&origin=opt-frontend.js&cumulative=false&heapPrimitives=false&textReferences=false&py=3&rawInputLstJSON=%5B%5D&curInstr=0&codeDivWidth=350&codeDivHeight=400\"\n",
       "            frameborder=\"0\"\n",
       "            allowfullscreen\n",
       "            \n",
       "        ></iframe>\n",
       "        "
      ],
      "text/plain": [
       "<IPython.lib.display.IFrame at 0x1905b4eea10>"
      ]
     },
     "metadata": {},
     "output_type": "display_data"
    }
   ],
   "source": [
    "%%tutor\n",
    "if 7!= 10:\n",
    "    print(\"The above statement is ture\")\n",
    "    print(\"Thi is not related to the if statement\")"
   ]
  },
  {
   "cell_type": "markdown",
   "metadata": {},
   "source": [
    "### **What happens if you:**\n",
    "- Change != to ==?\n",
    "- Change 7 == 10 to True?\n",
    "- Change True to False?\n",
    "- Remove the indentation on line 2?"
   ]
  },
  {
   "cell_type": "code",
   "execution_count": 15,
   "metadata": {},
   "outputs": [
    {
     "data": {
      "text/html": [
       "\n",
       "        <iframe\n",
       "            width=\"100%\"\n",
       "            height=\"500\"\n",
       "            src=\"https://pythontutor.com/iframe-embed.html#code=if%207%20%3D%3D%2010%3A%0A%20%20%20%20print%28%22The%20above%20statement%20is%20ture%22%29%0A%20%20%20%20print%28%22Thi%20is%20not%20related%20to%20the%20if%20statement%22%29%0A&origin=opt-frontend.js&cumulative=false&heapPrimitives=false&textReferences=false&py=3&rawInputLstJSON=%5B%5D&curInstr=0&codeDivWidth=350&codeDivHeight=400\"\n",
       "            frameborder=\"0\"\n",
       "            allowfullscreen\n",
       "            \n",
       "        ></iframe>\n",
       "        "
      ],
      "text/plain": [
       "<IPython.lib.display.IFrame at 0x1905b6d9720>"
      ]
     },
     "metadata": {},
     "output_type": "display_data"
    }
   ],
   "source": [
    "%%tutor\n",
    "if 7 == 10:\n",
    "    print(\"The above statement is ture\")\n",
    "    print(\"Thi is not related to the if statement\")"
   ]
  },
  {
   "cell_type": "code",
   "execution_count": 16,
   "metadata": {},
   "outputs": [
    {
     "data": {
      "text/html": [
       "\n",
       "        <iframe\n",
       "            width=\"100%\"\n",
       "            height=\"500\"\n",
       "            src=\"https://pythontutor.com/iframe-embed.html#code=if%20True%3A%0A%20%20%20%20print%28%22The%20above%20statement%20is%20ture%22%29%0A%20%20%20%20print%28%22Thi%20is%20not%20related%20to%20the%20if%20statement%22%29%0A&origin=opt-frontend.js&cumulative=false&heapPrimitives=false&textReferences=false&py=3&rawInputLstJSON=%5B%5D&curInstr=0&codeDivWidth=350&codeDivHeight=400\"\n",
       "            frameborder=\"0\"\n",
       "            allowfullscreen\n",
       "            \n",
       "        ></iframe>\n",
       "        "
      ],
      "text/plain": [
       "<IPython.lib.display.IFrame at 0x1905b6d9540>"
      ]
     },
     "metadata": {},
     "output_type": "display_data"
    }
   ],
   "source": [
    "%%tutor\n",
    "if True:\n",
    "    print(\"The above statement is ture\")\n",
    "    print(\"Thi is not related to the if statement\")"
   ]
  },
  {
   "cell_type": "code",
   "execution_count": 17,
   "metadata": {},
   "outputs": [
    {
     "data": {
      "text/html": [
       "\n",
       "        <iframe\n",
       "            width=\"100%\"\n",
       "            height=\"500\"\n",
       "            src=\"https://pythontutor.com/iframe-embed.html#code=if%20False%3A%0A%20%20%20%20print%28%22The%20above%20statement%20is%20ture%22%29%0A%20%20%20%20print%28%22Thi%20is%20not%20related%20to%20the%20if%20statement%22%29%0A&origin=opt-frontend.js&cumulative=false&heapPrimitives=false&textReferences=false&py=3&rawInputLstJSON=%5B%5D&curInstr=0&codeDivWidth=350&codeDivHeight=400\"\n",
       "            frameborder=\"0\"\n",
       "            allowfullscreen\n",
       "            \n",
       "        ></iframe>\n",
       "        "
      ],
      "text/plain": [
       "<IPython.lib.display.IFrame at 0x1905b6d9810>"
      ]
     },
     "metadata": {},
     "output_type": "display_data"
    }
   ],
   "source": [
    "%%tutor\n",
    "if False:\n",
    "    print(\"The above statement is ture\")\n",
    "    print(\"Thi is not related to the if statement\")"
   ]
  },
  {
   "cell_type": "code",
   "execution_count": 18,
   "metadata": {},
   "outputs": [
    {
     "data": {
      "text/html": [
       "\n",
       "        <iframe\n",
       "            width=\"100%\"\n",
       "            height=\"500\"\n",
       "            src=\"https://pythontutor.com/iframe-embed.html#code=if%20False%3A%0A%20%20%20%20print%28%22The%20above%20statement%20is%20ture%22%29%0Aprint%28%22Thi%20is%20not%20related%20to%20the%20if%20statement%22%29%0A&origin=opt-frontend.js&cumulative=false&heapPrimitives=false&textReferences=false&py=3&rawInputLstJSON=%5B%5D&curInstr=0&codeDivWidth=350&codeDivHeight=400\"\n",
       "            frameborder=\"0\"\n",
       "            allowfullscreen\n",
       "            \n",
       "        ></iframe>\n",
       "        "
      ],
      "text/plain": [
       "<IPython.lib.display.IFrame at 0x1905b6d9870>"
      ]
     },
     "metadata": {},
     "output_type": "display_data"
    }
   ],
   "source": [
    "%%tutor\n",
    "if False:\n",
    "    print(\"The above statement is ture\")\n",
    "print(\"Thi is not related to the if statement\")"
   ]
  },
  {
   "cell_type": "markdown",
   "metadata": {},
   "source": [
    "## ***Testing Multiple Cases***\n",
    "You will find yourself needing to test the same variable multiple times. Be sure that you set up your conditionals to test **all** possible values of the variable."
   ]
  },
  {
   "cell_type": "code",
   "execution_count": 19,
   "metadata": {},
   "outputs": [
    {
     "data": {
      "text/html": [
       "\n",
       "        <iframe\n",
       "            width=\"100%\"\n",
       "            height=\"500\"\n",
       "            src=\"https://pythontutor.com/iframe-embed.html#code=grade%20%3D%2090%0Aif%20grade%20%3E%2070%3A%0A%20%20%20%20print%28%22Congrats%2C%20you%20passed%20the%20class%22%29%0Aif%20grade%20%3C%2070%3A%0A%20%20%20%20print%28%22Condolences%2C%20you%20did%20not%20pass%20the%20class%22%29%0A&origin=opt-frontend.js&cumulative=false&heapPrimitives=false&textReferences=false&py=3&rawInputLstJSON=%5B%5D&curInstr=0&codeDivWidth=350&codeDivHeight=400\"\n",
       "            frameborder=\"0\"\n",
       "            allowfullscreen\n",
       "            \n",
       "        ></iframe>\n",
       "        "
      ],
      "text/plain": [
       "<IPython.lib.display.IFrame at 0x1905b6d9780>"
      ]
     },
     "metadata": {},
     "output_type": "display_data"
    }
   ],
   "source": [
    "%%tutor\n",
    "grade = 90\n",
    "if grade > 70:\n",
    "    print(\"Congrats, you passed the class\")\n",
    "if grade < 70:\n",
    "    print(\"Condolences, you did not pass the class\")"
   ]
  },
  {
   "cell_type": "markdown",
   "metadata": {},
   "source": [
    "### ***What happens if you:***\n",
    "- Change grade to 60?\n",
    "- Change grade to 70?\n",
    "- Change grade > 70 to grade >= 70?"
   ]
  },
  {
   "cell_type": "code",
   "execution_count": 20,
   "metadata": {},
   "outputs": [
    {
     "data": {
      "text/html": [
       "\n",
       "        <iframe\n",
       "            width=\"100%\"\n",
       "            height=\"500\"\n",
       "            src=\"https://pythontutor.com/iframe-embed.html#code=grade%20%3D%2060%0Aif%20grade%20%3E%2070%3A%0A%20%20%20%20print%28%22Congrats%2C%20you%20passed%20the%20class%22%29%0Aif%20grade%20%3C%2070%3A%0A%20%20%20%20print%28%22Condolences%2C%20you%20did%20not%20pass%20the%20class%22%29%0A&origin=opt-frontend.js&cumulative=false&heapPrimitives=false&textReferences=false&py=3&rawInputLstJSON=%5B%5D&curInstr=0&codeDivWidth=350&codeDivHeight=400\"\n",
       "            frameborder=\"0\"\n",
       "            allowfullscreen\n",
       "            \n",
       "        ></iframe>\n",
       "        "
      ],
      "text/plain": [
       "<IPython.lib.display.IFrame at 0x1905b66b580>"
      ]
     },
     "metadata": {},
     "output_type": "display_data"
    }
   ],
   "source": [
    "%%tutor\n",
    "grade = 60\n",
    "if grade > 70:\n",
    "    print(\"Congrats, you passed the class\")\n",
    "if grade < 70:\n",
    "    print(\"Condolences, you did not pass the class\")"
   ]
  },
  {
   "cell_type": "code",
   "execution_count": 21,
   "metadata": {},
   "outputs": [
    {
     "data": {
      "text/html": [
       "\n",
       "        <iframe\n",
       "            width=\"100%\"\n",
       "            height=\"500\"\n",
       "            src=\"https://pythontutor.com/iframe-embed.html#code=grade%20%3D%2070%0Aif%20grade%20%3E%2070%3A%0A%20%20%20%20print%28%22Congrats%2C%20you%20passed%20the%20class%22%29%0Aif%20grade%20%3C%2070%3A%0A%20%20%20%20print%28%22Condolences%2C%20you%20did%20not%20pass%20the%20class%22%29%0A&origin=opt-frontend.js&cumulative=false&heapPrimitives=false&textReferences=false&py=3&rawInputLstJSON=%5B%5D&curInstr=0&codeDivWidth=350&codeDivHeight=400\"\n",
       "            frameborder=\"0\"\n",
       "            allowfullscreen\n",
       "            \n",
       "        ></iframe>\n",
       "        "
      ],
      "text/plain": [
       "<IPython.lib.display.IFrame at 0x1905b6d9840>"
      ]
     },
     "metadata": {},
     "output_type": "display_data"
    }
   ],
   "source": [
    "%%tutor\n",
    "grade = 70\n",
    "if grade > 70:\n",
    "    print(\"Congrats, you passed the class\")\n",
    "if grade < 70:\n",
    "    print(\"Condolences, you did not pass the class\")"
   ]
  },
  {
   "cell_type": "code",
   "execution_count": 23,
   "metadata": {},
   "outputs": [
    {
     "data": {
      "text/html": [
       "\n",
       "        <iframe\n",
       "            width=\"100%\"\n",
       "            height=\"500\"\n",
       "            src=\"https://pythontutor.com/iframe-embed.html#code=%0Agrade%20%3E%3D%2070%0Aif%20grade%20%3E%2070%3A%0A%20%20%20%20print%28%22Congrats%2C%20you%20passed%20the%20class%22%29%0Aif%20grade%20%3C%2070%3A%0A%20%20%20%20print%28%22Condolences%2C%20you%20did%20not%20pass%20the%20class%22%29%0A&origin=opt-frontend.js&cumulative=false&heapPrimitives=false&textReferences=false&py=3&rawInputLstJSON=%5B%5D&curInstr=0&codeDivWidth=350&codeDivHeight=400\"\n",
       "            frameborder=\"0\"\n",
       "            allowfullscreen\n",
       "            \n",
       "        ></iframe>\n",
       "        "
      ],
      "text/plain": [
       "<IPython.lib.display.IFrame at 0x1905b6d9510>"
      ]
     },
     "metadata": {},
     "output_type": "display_data"
    }
   ],
   "source": [
    "%%tutor\n",
    "grade >= 70\n",
    "if grade > 70:\n",
    "    print(\"Congrats, you passed the class\")\n",
    "if grade < 70:\n",
    "    print(\"Condolences, you did not pass the class\")"
   ]
  },
  {
   "cell_type": "markdown",
   "metadata": {},
   "source": [
    "### ***Reading Question***\n",
    "Drag from here\n",
    "\n",
    "Construct your solution here\n",
    "```\n",
    "grade = 90\n",
    "if grade >= 70:\n",
    "    print(\"You passed\")\n",
    "```\n",
    "Code that should run when the if statement is true should **always** be indented. The Python community indents four spaces."
   ]
  }
 ],
 "metadata": {
  "interpreter": {
   "hash": "12d9efd1b418ad7485587f2da0512ee7fc7c20b6462fdb2a696d6f33bbf19b58"
  },
  "kernelspec": {
   "display_name": "Python 3.10.4 64-bit",
   "language": "python",
   "name": "python3"
  },
  "language_info": {
   "codemirror_mode": {
    "name": "ipython",
    "version": 3
   },
   "file_extension": ".py",
   "mimetype": "text/x-python",
   "name": "python",
   "nbconvert_exporter": "python",
   "pygments_lexer": "ipython3",
   "version": "3.10.4"
  },
  "orig_nbformat": 4
 },
 "nbformat": 4,
 "nbformat_minor": 2
}
