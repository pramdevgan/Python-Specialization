{
 "cells": [
  {
   "cell_type": "markdown",
   "metadata": {},
   "source": [
    "## ***Lab Challenge - Month of the Year***\n",
    "#### ***Conditionals Challenge***\n",
    "Write a program that determines the month of the year based on the value of a variable called **month**. The variable will be a number from 1 to 12 (**1** is January, **2** is February, etc.). Use a print statement to write the month to the screen.\n",
    "\n",
    "**Important**, you will need to declare the variable ***month*** as you write and test your code. However, **do not** submit your code to be graded with the variable declaration. The auto-grader will declare the variable for you."
   ]
  },
  {
   "cell_type": "markdown",
   "metadata": {},
   "source": [
    "### **Month of the Year**\n",
    "Your program should handle a variable **month** that has a number value between 1 and 12. Print the month of the year based on this number (1 is January, etc.).\n",
    "\n",
    "***Remember***, do not declare the variable **month** in your code when you submit it. The auto-grader will declare the variable for you."
   ]
  },
  {
   "cell_type": "code",
   "execution_count": 2,
   "metadata": {},
   "outputs": [
    {
     "name": "stdout",
     "output_type": "stream",
     "text": [
      "April\n"
     ]
    }
   ],
   "source": [
    "month = 4\n",
    "\n",
    "if month == 1:\n",
    "    print(\"January\")\n",
    "elif month == 2:\n",
    "    print(\"February\")\n",
    "elif month == 3:\n",
    "    print(\"March\")\n",
    "elif month == 4:\n",
    "    print(\"April\")\n",
    "elif month == 5:\n",
    "    print(\"May\")\n",
    "elif month == 6:\n",
    "    print(\"June\")\n",
    "elif month == 7:\n",
    "    print(\"July\")\n",
    "elif month == 8:\n",
    "    print(\"August\")\n",
    "elif month == 9:\n",
    "    print(\"September\")\n",
    "elif month == 10:\n",
    "    print(\"October\")\n",
    "elif month == 11:\n",
    "    print(\"November\")\n",
    "else:\n",
    "    print(\"December\")\n"
   ]
  }
 ],
 "metadata": {
  "interpreter": {
   "hash": "12d9efd1b418ad7485587f2da0512ee7fc7c20b6462fdb2a696d6f33bbf19b58"
  },
  "kernelspec": {
   "display_name": "Python 3.10.4 64-bit",
   "language": "python",
   "name": "python3"
  },
  "language_info": {
   "codemirror_mode": {
    "name": "ipython",
    "version": 3
   },
   "file_extension": ".py",
   "mimetype": "text/x-python",
   "name": "python",
   "nbconvert_exporter": "python",
   "pygments_lexer": "ipython3",
   "version": "3.10.4"
  },
  "orig_nbformat": 4
 },
 "nbformat": 4,
 "nbformat_minor": 2
}
