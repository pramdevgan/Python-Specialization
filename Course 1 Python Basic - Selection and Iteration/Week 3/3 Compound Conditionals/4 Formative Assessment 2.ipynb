{
 "cells": [
  {
   "cell_type": "markdown",
   "metadata": {},
   "source": [
    "### *** Formative Assessment 2**\n",
    "##### **Compound Conditionals**\n",
    "    if x > 5:\n",
    "        if x < 20:\n",
    "            print(x)\n",
    "\n",
    "Use the code blocks to convert the code above into a compound conditional. **Hint**, not all of the code blocks will be used.\n",
    "\n",
    "Drag from here\n",
    "\n",
    "- if x > 5 or x < 20:\n",
    "- if x < 5 and x > 20:\n",
    "- if x > 5 not x < 20:\n",
    "\n",
    "Construct your solution here\n",
    "\n",
    "    if x > 5 and x < 20:\n",
    "        print(x)\n",
    "\n",
    "\n",
    "\n",
    "If x > 5 is true, then you get to ask if x < 20. If that is true, then you get to print(x). So x must be greater and 5 and less than 20."
   ]
  },
  {
   "cell_type": "code",
   "execution_count": 4,
   "metadata": {},
   "outputs": [
    {
     "name": "stdout",
     "output_type": "stream",
     "text": [
      "19\n"
     ]
    }
   ],
   "source": [
    "x = 19\n",
    "if x > 5 and x < 20:\n",
    "    print(x)\n"
   ]
  }
 ],
 "metadata": {
  "interpreter": {
   "hash": "12d9efd1b418ad7485587f2da0512ee7fc7c20b6462fdb2a696d6f33bbf19b58"
  },
  "kernelspec": {
   "display_name": "Python 3.10.4 64-bit",
   "language": "python",
   "name": "python3"
  },
  "language_info": {
   "codemirror_mode": {
    "name": "ipython",
    "version": 3
   },
   "file_extension": ".py",
   "mimetype": "text/x-python",
   "name": "python",
   "nbconvert_exporter": "python",
   "pygments_lexer": "ipython3",
   "version": "3.10.4"
  },
  "orig_nbformat": 4
 },
 "nbformat": 4,
 "nbformat_minor": 2
}
