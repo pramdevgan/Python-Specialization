{
 "cells": [
  {
   "cell_type": "markdown",
   "metadata": {},
   "source": [
    "# ***Compound Conditional Statements***\n",
    "Conditional statements (if statements) are used to match an action with a condition being true. For example, print Even if a number is even. If you want to test for a number being even and greater than 10, you will need two conditionals."
   ]
  },
  {
   "cell_type": "code",
   "execution_count": 1,
   "metadata": {},
   "outputs": [
    {
     "name": "stdout",
     "output_type": "stream",
     "text": [
      "16 is even and greater than 10\n"
     ]
    }
   ],
   "source": [
    "num = 16\n",
    "\n",
    "if num % 2 == 0 and num > 10:\n",
    "    print(str(num) + \" is even and greater than 10\")"
   ]
  },
  {
   "cell_type": "markdown",
   "metadata": {},
   "source": [
    "##### ***What happens if you:***\n",
    "- Change num to 8?\n",
    "- Change and to or?\n",
    "- Change == to !=?"
   ]
  },
  {
   "cell_type": "code",
   "execution_count": 2,
   "metadata": {},
   "outputs": [],
   "source": [
    "num = 8\n",
    "if num % 2 == 0 and num > 10:\n",
    "    print(str(num) + \" is even and greater than 10\")"
   ]
  },
  {
   "cell_type": "code",
   "execution_count": 3,
   "metadata": {},
   "outputs": [
    {
     "name": "stdout",
     "output_type": "stream",
     "text": [
      "8 is even and greater than 10\n"
     ]
    }
   ],
   "source": [
    "num = 8\n",
    "if num % 2 == 0 or num > 10:\n",
    "    print(str(num) + \" is even and greater than 10\")"
   ]
  },
  {
   "cell_type": "code",
   "execution_count": 6,
   "metadata": {},
   "outputs": [],
   "source": [
    "num = 8\n",
    "if num % 2 != 0 or num > 10:\n",
    "    print(str(num) + \" is even and greater than 10\")"
   ]
  },
  {
   "cell_type": "markdown",
   "metadata": {},
   "source": [
    "#### ***Why Use Compound Conditionals***\n",
    "Both code snippets below do the same thing — ask if my_var is greater than 15 and if my_var is less than 20. If both of these are true, then Python will print the value of my_var.\n",
    "\n",
    "![](https://apollo-media.codio.com/media%2F1%2Fa1d7bd074757752112e5c74ce943d7b8-a28d5841-4e0b-4a2f-99fa-5766b2091766.webp)\n",
    "The code with the compound conditional (on the right) has fewer lines of code, and is easier for a human to read. In fact, it almost reads like a sentence."
   ]
  },
  {
   "cell_type": "code",
   "execution_count": 8,
   "metadata": {},
   "outputs": [
    {
     "name": "stdout",
     "output_type": "stream",
     "text": [
      "19\n"
     ]
    }
   ],
   "source": [
    "my_var = 19\n",
    "if my_var > 15:\n",
    "    if my_var < 20:\n",
    "        print(my_var)"
   ]
  },
  {
   "cell_type": "code",
   "execution_count": 9,
   "metadata": {},
   "outputs": [
    {
     "name": "stdout",
     "output_type": "stream",
     "text": [
      "19\n"
     ]
    }
   ],
   "source": [
    "my_var = 19\n",
    "if my_var > 15 and my_var < 20:\n",
    "    print(my_var)"
   ]
  },
  {
   "cell_type": "markdown",
   "metadata": {},
   "source": [
    "##### ***Reading Question***\n",
    "Why would you want to use a compound conditional? **Hint**, there is more than one right answer.\n",
    "\n",
    "\n",
    "- **If two or more thing have to be true.** <--- Correct answer\n",
    "- When you want your code to be faster.\n",
    "- You will get an error message if you don’t use a compound conditional. \n",
    "- **When you want your code to be more concise and easy to read. <----- Correct answer**\n",
    "\n",
    "        Compound conditionals allow you to test two or more things to be true, and they make your code more concise and easy to read."
   ]
  }
 ],
 "metadata": {
  "interpreter": {
   "hash": "12d9efd1b418ad7485587f2da0512ee7fc7c20b6462fdb2a696d6f33bbf19b58"
  },
  "kernelspec": {
   "display_name": "Python 3.10.4 64-bit",
   "language": "python",
   "name": "python3"
  },
  "language_info": {
   "codemirror_mode": {
    "name": "ipython",
    "version": 3
   },
   "file_extension": ".py",
   "mimetype": "text/x-python",
   "name": "python",
   "nbconvert_exporter": "python",
   "pygments_lexer": "ipython3",
   "version": "3.10.4"
  },
  "orig_nbformat": 4
 },
 "nbformat": 4,
 "nbformat_minor": 2
}
