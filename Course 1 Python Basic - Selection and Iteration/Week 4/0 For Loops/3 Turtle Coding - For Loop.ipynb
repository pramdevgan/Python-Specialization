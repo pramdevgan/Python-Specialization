{
 "cells": [
  {
   "cell_type": "markdown",
   "metadata": {},
   "source": [
    "# ***Turtle Coding - For Loop***\n",
    "Using your knowledge of for loops, try and recreate the images you see below. Remember, click on the tab that reads Preview to see your output. Close the window with the turtle output to stop your program."
   ]
  },
  {
   "cell_type": "markdown",
   "metadata": {},
   "source": [
    "### ***Customize your turtle***\n",
    "- t.color('red') - Takes a string for the color\n",
    "- t.shape('turtle') - Takes one of the following strings 'turtle', 'circle', 'square', 'arrow', 'classic', or 'triangle'.\n",
    "- t.pensize(4) - Takes a positive number\n",
    "- t.speed(1) - Takes a number in the range 0..10"
   ]
  },
  {
   "cell_type": "markdown",
   "metadata": {},
   "source": [
    "#### ***Challenge 1***\n",
    "\n",
    "![](https://apollo-media.codio.com/media%2F1%2F1be66933109eadd70586fa170a775447-27d6f3cc-3a88-40b7-9758-9d0bb2d91b48.webp)"
   ]
  },
  {
   "cell_type": "code",
   "execution_count": 1,
   "metadata": {},
   "outputs": [],
   "source": [
    "import turtle\n",
    "t = turtle.Turtle()\n",
    "t.color('black')\n",
    "t.shape('turtle')\n",
    "t.pensize(4)\n",
    "t.speed(1)\n",
    "\n",
    "for i in range(4):\n",
    "    t.forward(80);\n",
    "    t.rt(90);\n",
    "    t.forward(20);\n",
    "    t.rt(90);\n",
    "    t.forward(20);\n",
    "    t.rt(90);\n",
    "    t.forward(20);\n",
    "turtle.mainloop()"
   ]
  },
  {
   "cell_type": "markdown",
   "metadata": {},
   "source": [
    "#### ***Challenge 2***\n",
    "![](https://apollo-media.codio.com/media%2F1%2F4d4fa7908b211946f9cd556cc0eb3795-40a7ade1-a930-4474-94c7-9024150082b0.webp)"
   ]
  },
  {
   "cell_type": "code",
   "execution_count": 1,
   "metadata": {},
   "outputs": [],
   "source": [
    "import turtle\n",
    "t = turtle.Turtle()\n",
    "t.color('black')\n",
    "t.shape('turtle')\n",
    "t.pensize(4)\n",
    "t.speed(1)\n",
    "for i in range(360):\n",
    "    t.forward(1)\n",
    "    t.rt(1)\n",
    "turtle.mainloop()"
   ]
  },
  {
   "cell_type": "markdown",
   "metadata": {},
   "source": [
    "#### ***Challenge 3***\n",
    "![](https://apollo-media.codio.com/media%2F1%2Fd23cf9c904c2c6bbd5dd80e344f2f64b-f874ab36-3c01-403a-9e8b-8143e3b23d4b.webp)"
   ]
  },
  {
   "cell_type": "code",
   "execution_count": 1,
   "metadata": {},
   "outputs": [],
   "source": [
    "import turtle\n",
    "t = turtle.Turtle()\n",
    "t.color('green')\n",
    "t.shape('turtle')\n",
    "t.pensize(1)\n",
    "t.speed(5)\n",
    "for i in range(0, 250, 3):\n",
    "    t.forward(i)\n",
    "    t.rt(90)\n",
    "turtle.mainloop()"
   ]
  },
  {
   "cell_type": "markdown",
   "metadata": {},
   "source": [
    "### ***Reading Question***\n",
    "Fill in the blanks below so that the loop outputs the following:\n",
    "```\n",
    "0\n",
    "2\n",
    "4\n",
    "6\n",
    "8\n",
    "```\n",
    "\n",
    "    for i in range( , , ):\n",
    "        print(i)\n",
    "\n",
    "The correct answer is:"
   ]
  },
  {
   "cell_type": "code",
   "execution_count": 7,
   "metadata": {},
   "outputs": [
    {
     "name": "stdout",
     "output_type": "stream",
     "text": [
      "0\n",
      "2\n",
      "4\n",
      "6\n",
      "8\n"
     ]
    }
   ],
   "source": [
    "for i in range(0, 10, 2):\n",
    "    print(i)"
   ]
  },
  {
   "cell_type": "markdown",
   "metadata": {},
   "source": [
    "    The three numbers in the range statement determine the starting point for counting (the first number), the number to which the loop will count (the second number), and the increment used when counting (the third number). The first number is inclusive (which is why the loop prints 0), and the second number is not inclusive (which is why the loop does not print 10)"
   ]
  }
 ],
 "metadata": {
  "interpreter": {
   "hash": "12d9efd1b418ad7485587f2da0512ee7fc7c20b6462fdb2a696d6f33bbf19b58"
  },
  "kernelspec": {
   "display_name": "Python 3 (ipykernel)",
   "language": "python",
   "name": "python3"
  },
  "language_info": {
   "codemirror_mode": {
    "name": "ipython",
    "version": 3
   },
   "file_extension": ".py",
   "mimetype": "text/x-python",
   "name": "python",
   "nbconvert_exporter": "python",
   "pygments_lexer": "ipython3",
   "version": "3.10.4"
  },
  "widgets": {
   "application/vnd.jupyter.widget-state+json": {
    "state": {},
    "version_major": 2,
    "version_minor": 0
   }
  }
 },
 "nbformat": 4,
 "nbformat_minor": 4
}
