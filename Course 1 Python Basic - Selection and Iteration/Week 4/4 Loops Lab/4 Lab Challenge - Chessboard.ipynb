{
 "cells": [
  {
   "cell_type": "markdown",
   "metadata": {},
   "source": [
    "# **_Lab Challenge - Chessboard_**\n",
    "\n",
    "## **Loops Challenge**\n",
    "\n",
    "For this challenge, you will output a pattern that resembles a chessboard by using the letter **X** and **O**. The pattern needs to be an 8 x 8 matrix with alternating **X** and **O** in each row. Here is the catch, you must also ensure that alternate rows start with a different letter than the previous row.\n",
    "Here is the required output.\n",
    "\n",
    "```\n",
    "XOXOXOXO\n",
    "OXOXOXOX\n",
    "XOXOXOXO\n",
    "OXOXOXOX\n",
    "XOXOXOXO\n",
    "OXOXOXOX\n",
    "XOXOXOXO\n",
    "OXOXOXOX\n",
    "```\n",
    "\n",
    "You should make use of a looping structure in combination with a decision structure to achieve this result. Also, by default, Python’s print() function will add the newline character at the end of each print() function so to ensure that this newline does not create a long, single column output of the letters, use this syntax for your print() functions, print(‘X’, end=’’). Note the use of , end=’’ after the letter to output.\n"
   ]
  },
  {
   "cell_type": "code",
   "execution_count": 3,
   "metadata": {},
   "outputs": [
    {
     "name": "stdout",
     "output_type": "stream",
     "text": [
      "XOXOXOXO\n",
      "OXOXOXOX\n",
      "XOXOXOXO\n",
      "OXOXOXOX\n",
      "XOXOXOXO\n",
      "OXOXOXOX\n",
      "XOXOXOXO\n",
      "OXOXOXOX\n"
     ]
    }
   ],
   "source": [
    "for row in range(8):\n",
    "    if row % 2 == 0:\n",
    "        for column in range(8):\n",
    "            if column % 2 == 0:\n",
    "                print(\"X\", end=\"\")\n",
    "            else:\n",
    "                print(\"O\", end=\"\")\n",
    "        print()\n",
    "    else:\n",
    "        for column in range(8):\n",
    "            if column % 2 == 0:\n",
    "                print(\"O\", end=\"\")\n",
    "            else:\n",
    "                print(\"X\", end=\"\")\n",
    "        print()"
   ]
  },
  {
   "cell_type": "markdown",
   "metadata": {},
   "source": [
    "This problem is tricky in that there are two sets of alternating output. Within a row, the output alternates between **X** and **O**. Then each row itself alternates between starting with **X** or starting with **O**. The alternating pattern will be handled by asking if a number modulo 2 returns 0. That is, if a number is odd do one thing, if the number is even do something else.\n",
    "\n",
    "Start by creating the outer loop with **row** as the index. Use an if-else statement to determine if **row** is even or odd.\n",
    "```\n",
    "for row in range(8):\n",
    "  if row % 2 == 0:\n",
    "\n",
    "  else:\n",
    "```\n",
    "\n",
    "Printing a row of characters requires another loop, this time with the index **column**. The first row starts with **X** and then prints **O**. So if **column** is even print an **X** and if it is odd print **O**.\n",
    "\n",
    "```\n",
    "for row in range(8):\n",
    "  if row % 2 == 0:\n",
    "    for column in range(8):\n",
    "      if column % 2 == 0:\n",
    "        print(\"X\", end='')\n",
    "      else:\n",
    "        print(\"O\", end='')\n",
    "    print()\n",
    "  else:\n",
    "```\n",
    "If **row** is odd you are going copy/paste the loop with **column** but be sure to change the order of **X** and **O**.\n",
    "\n",
    "```\n",
    "for row in range(8):\n",
    "  if row % 2 == 0:\n",
    "    for column in range(8):\n",
    "      if column % 2 == 0:\n",
    "        print(\"X\", end='')\n",
    "      else:\n",
    "        print(\"O\", end='')\n",
    "    print()\n",
    "  else:\n",
    "    for column in range(8):\n",
    "      if column % 2 == 0:\n",
    "        print(\"O\", end='')\n",
    "      else:\n",
    "        print(\"X\", end='')\n",
    "    print()\n",
    "```\n"
   ]
  }
 ],
 "metadata": {
  "interpreter": {
   "hash": "12d9efd1b418ad7485587f2da0512ee7fc7c20b6462fdb2a696d6f33bbf19b58"
  },
  "kernelspec": {
   "display_name": "Python 3.10.4 64-bit",
   "language": "python",
   "name": "python3"
  },
  "language_info": {
   "codemirror_mode": {
    "name": "ipython",
    "version": 3
   },
   "file_extension": ".py",
   "mimetype": "text/x-python",
   "name": "python",
   "nbconvert_exporter": "python",
   "pygments_lexer": "ipython3",
   "version": "3.10.4"
  },
  "orig_nbformat": 4
 },
 "nbformat": 4,
 "nbformat_minor": 2
}
