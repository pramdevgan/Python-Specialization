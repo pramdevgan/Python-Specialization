{
 "cells": [
  {
   "cell_type": "markdown",
   "metadata": {},
   "source": [
    "# **_Exercise 3_**\n",
    "\n",
    "## **While Loop**\n",
    "\n",
    "Using **while True:**, create a loop that prints the sum of all the numbers between 0 and 100. Note: the sum should include the number 100.\n"
   ]
  },
  {
   "cell_type": "code",
   "execution_count": 5,
   "metadata": {},
   "outputs": [
    {
     "name": "stdout",
     "output_type": "stream",
     "text": [
      "5050\n"
     ]
    }
   ],
   "source": [
    "n = 100\n",
    "sum = 0\n",
    "while True:\n",
    "    sum = sum + n\n",
    "    n = n - 1\n",
    "    if n == 0:\n",
    "        break\n",
    "print(sum)\n"
   ]
  },
  {
   "cell_type": "markdown",
   "metadata": {},
   "source": [
    "There are several ways to solve this problem. Here is one of them. You will need two variables; one for the while loop and another for the total. Declare total and count and set them both to 0. The loop needs to include the number 100. That means the loop should run until count is greater than 100. The total variable is assigned itself plus the value of count. Finally, increment count by 1."
   ]
  },
  {
   "cell_type": "code",
   "execution_count": null,
   "metadata": {},
   "outputs": [],
   "source": [
    "total = 0\n",
    "count = 0\n",
    "while True:\n",
    "    if count > 100:\n",
    "        break\n",
    "    else:\n",
    "        total = total + count\n",
    "        count += 1\n",
    "print(total)\n"
   ]
  }
 ],
 "metadata": {
  "interpreter": {
   "hash": "12d9efd1b418ad7485587f2da0512ee7fc7c20b6462fdb2a696d6f33bbf19b58"
  },
  "kernelspec": {
   "display_name": "Python 3.10.4 64-bit",
   "language": "python",
   "name": "python3"
  },
  "language_info": {
   "codemirror_mode": {
    "name": "ipython",
    "version": 3
   },
   "file_extension": ".py",
   "mimetype": "text/x-python",
   "name": "python",
   "nbconvert_exporter": "python",
   "pygments_lexer": "ipython3",
   "version": "3.10.4"
  },
  "orig_nbformat": 4
 },
 "nbformat": 4,
 "nbformat_minor": 2
}
