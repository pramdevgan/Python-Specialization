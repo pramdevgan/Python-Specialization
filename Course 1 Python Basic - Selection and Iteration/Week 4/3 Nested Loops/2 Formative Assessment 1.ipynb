{
 "cells": [
  {
   "cell_type": "markdown",
   "metadata": {},
   "source": [
    "## ***Formative Assessment 1***\n",
    "Arrange the lines of code such that you have a correctly coded nested loop. Hint: the print statement goes directly after its respective loop.\n",
    "\n",
    "Drag from here\n",
    "\n",
    "- for inner in range(5):\n",
    "- print(\"Inner loop\")\n",
    "- for outer in range(5):\n",
    "- print(\"Outer loop\")\n",
    "  \n",
    "  Construct your solution here"
   ]
  },
  {
   "cell_type": "code",
   "execution_count": 2,
   "metadata": {},
   "outputs": [
    {
     "name": "stdout",
     "output_type": "stream",
     "text": [
      "Outer loop\n",
      "Inner loop\n",
      "Inner loop\n",
      "Inner loop\n",
      "Inner loop\n",
      "Inner loop\n",
      "Outer loop\n",
      "Inner loop\n",
      "Inner loop\n",
      "Inner loop\n",
      "Inner loop\n",
      "Inner loop\n",
      "Outer loop\n",
      "Inner loop\n",
      "Inner loop\n",
      "Inner loop\n",
      "Inner loop\n",
      "Inner loop\n",
      "Outer loop\n",
      "Inner loop\n",
      "Inner loop\n",
      "Inner loop\n",
      "Inner loop\n",
      "Inner loop\n",
      "Outer loop\n",
      "Inner loop\n",
      "Inner loop\n",
      "Inner loop\n",
      "Inner loop\n",
      "Inner loop\n"
     ]
    }
   ],
   "source": [
    "for outer in range(5):\n",
    "    print(\"Outer loop\")\n",
    "    for inner in range(5):\n",
    "        print(\"Inner loop\")"
   ]
  },
  {
   "cell_type": "markdown",
   "metadata": {},
   "source": [
    "The outer loop goes first. The **print** statement that says “Outer loop” goes next and is indented four spaces. Now comes the inner loop, which is also indented four spaces. Finally, the **print** statement that says “Inner loop” is indented eight spaces."
   ]
  }
 ],
 "metadata": {
  "interpreter": {
   "hash": "12d9efd1b418ad7485587f2da0512ee7fc7c20b6462fdb2a696d6f33bbf19b58"
  },
  "kernelspec": {
   "display_name": "Python 3.10.4 64-bit",
   "language": "python",
   "name": "python3"
  },
  "language_info": {
   "codemirror_mode": {
    "name": "ipython",
    "version": 3
   },
   "file_extension": ".py",
   "mimetype": "text/x-python",
   "name": "python",
   "nbconvert_exporter": "python",
   "pygments_lexer": "ipython3",
   "version": "3.10.4"
  },
  "orig_nbformat": 4
 },
 "nbformat": 4,
 "nbformat_minor": 2
}
