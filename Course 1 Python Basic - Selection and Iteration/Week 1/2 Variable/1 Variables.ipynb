{
 "cells": [
  {
   "cell_type": "markdown",
   "metadata": {},
   "source": [
    "# *Variables*\n",
    "## Variable Names\n",
    "Variables are used to store a value, and these values have a data type. Data types describe the kind of information that is being stored. Numbers are different than text, and integers are different from numbers with decimals. Variable declaration is when you create a variable and assign it a value. Enter the name of the variable you want to create, a <span style=\"color:red\">=</span>(called the assignment operator), and the value you want to store in the variable. You do not have to indicate the data type when declaring a variable. Use the <span style=\"color:red\">print</span> statement to see the value of the variable."
   ]
  },
  {
   "cell_type": "code",
   "execution_count": 2,
   "metadata": {},
   "outputs": [
    {
     "name": "stdout",
     "output_type": "stream",
     "text": [
      "Hello World!\n"
     ]
    }
   ],
   "source": [
    "my_variable = \"Hello World!\"\n",
    "print(my_variable)"
   ]
  },
  {
   "cell_type": "markdown",
   "metadata": {},
   "source": [
    "Do not use quotation marks when printing a variable. Using quotation marks will print the variable name, not its value."
   ]
  },
  {
   "cell_type": "code",
   "execution_count": 3,
   "metadata": {},
   "outputs": [
    {
     "name": "stdout",
     "output_type": "stream",
     "text": [
      "Hello world\n",
      "my_variable\n"
     ]
    }
   ],
   "source": [
    "my_variable = \"Hello world\"\n",
    "print(my_variable)\n",
    "print(\"my_variable\")"
   ]
  },
  {
   "cell_type": "markdown",
   "metadata": {},
   "source": [
    "![](https://i.imgur.com/2mViaiC.png)"
   ]
  },
  {
   "cell_type": "markdown",
   "metadata": {},
   "source": [
    "## What are the Python key words?\n",
    "![](https://i.imgur.com/iWUt56L.png)"
   ]
  },
  {
   "cell_type": "code",
   "execution_count": 8,
   "metadata": {},
   "outputs": [
    {
     "name": "stdout",
     "output_type": "stream",
     "text": [
      "['False', 'None', 'True', 'and', 'as', 'assert', 'async', 'await', 'break', 'class', 'continue', 'def', 'del', 'elif', 'else', 'except', 'finally', 'for', 'from', 'global', 'if', 'import', 'in', 'is', 'lambda', 'nonlocal', 'not', 'or', 'pass', 'raise', 'return', 'try', 'while', 'with', 'yield']\n"
     ]
    }
   ],
   "source": [
    "import keyword\n",
    "print(keyword.kwlist)"
   ]
  },
  {
   "cell_type": "markdown",
   "metadata": {},
   "source": [
    "### Reading Question\n",
    "True or False: the two names refer to the same variable.\n",
    "\n",
    "<span style=\"color:red;\">My_Variable</span>\n",
    "\n",
    "<span style=\"color:red;\">my_variable</span>\n",
    "\n",
    "- True\n",
    "- False   ***Correct Answer***\n",
    "\n",
    "False. Python is a case sensitive language. That means variable names with capital letters are different those with lowercase letters."
   ]
  }
 ],
 "metadata": {
  "interpreter": {
   "hash": "12d9efd1b418ad7485587f2da0512ee7fc7c20b6462fdb2a696d6f33bbf19b58"
  },
  "kernelspec": {
   "display_name": "Python 3.10.4 64-bit",
   "language": "python",
   "name": "python3"
  },
  "language_info": {
   "codemirror_mode": {
    "name": "ipython",
    "version": 3
   },
   "file_extension": ".py",
   "mimetype": "text/x-python",
   "name": "python",
   "nbconvert_exporter": "python",
   "pygments_lexer": "ipython3",
   "version": "3.10.4"
  },
  "orig_nbformat": 4
 },
 "nbformat": 4,
 "nbformat_minor": 2
}
