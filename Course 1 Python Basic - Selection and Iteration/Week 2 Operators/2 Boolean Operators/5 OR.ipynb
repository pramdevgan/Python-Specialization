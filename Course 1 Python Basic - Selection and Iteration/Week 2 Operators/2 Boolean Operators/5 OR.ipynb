{
 "cells": [
  {
   "cell_type": "markdown",
   "metadata": {},
   "source": [
    "# ***Or***\n",
    "### **The or Operator**\n",
    "The ***or*** operator allows for compound (more than one) boolean expressions. If only one boolean expressions is true, then the whole thing is true. To be false, all boolean expressions ***must*** be false."
   ]
  },
  {
   "cell_type": "code",
   "execution_count": 2,
   "metadata": {},
   "outputs": [
    {
     "name": "stdout",
     "output_type": "stream",
     "text": [
      "True\n"
     ]
    }
   ],
   "source": [
    "a = True\n",
    "b = True\n",
    "c = False\n",
    "d = False\n",
    "print(a or b)"
   ]
  },
  {
   "cell_type": "markdown",
   "metadata": {},
   "source": [
    "#### **What happens if you:**\n",
    "- Change **print** to **print(a or c)**?\n",
    "- Change **print** to **print(c or d)**?"
   ]
  },
  {
   "cell_type": "code",
   "execution_count": 4,
   "metadata": {},
   "outputs": [
    {
     "name": "stdout",
     "output_type": "stream",
     "text": [
      "True\n",
      "False\n"
     ]
    }
   ],
   "source": [
    "print(a or c)\n",
    "print(c or d)"
   ]
  },
  {
   "cell_type": "markdown",
   "metadata": {},
   "source": [
    "### **Multiple** or **Statements**\n",
    "You can chain several ***or*** statements together. They are evaluated in a left-to-right manner."
   ]
  },
  {
   "cell_type": "code",
   "execution_count": 6,
   "metadata": {},
   "outputs": [
    {
     "name": "stdout",
     "output_type": "stream",
     "text": [
      "True\n"
     ]
    }
   ],
   "source": [
    "a = True\n",
    "b = True\n",
    "c = False\n",
    "print(a or b or c)"
   ]
  },
  {
   "cell_type": "markdown",
   "metadata": {},
   "source": [
    "### **What happens if you:**\n",
    "- Change **print to **print(a or c or c or c or c)**?\n",
    "- Change **print to **print(c and c and c and c and c)**?"
   ]
  },
  {
   "cell_type": "code",
   "execution_count": 7,
   "metadata": {},
   "outputs": [
    {
     "name": "stdout",
     "output_type": "stream",
     "text": [
      "True\n",
      "True\n"
     ]
    }
   ],
   "source": [
    "print(a or c or c or c or c)\n",
    "print(a or c or c or c or c)"
   ]
  },
  {
   "cell_type": "markdown",
   "metadata": {},
   "source": [
    "### ***Reading Question***\n",
    "Fill in the blanks for the following two statements.\n",
    "\n",
    "For an **or** statement to be false, all of the boolean expressions must be \n",
    "**false**.\n",
    "\n",
    "For an **or** statement to be true, only one of the boolean expressions needs to be \n",
    "**true**.\n",
    "\n",
    "- The or operator requires that all boolean expressions be false for the whole thing to be false.\n",
    "- However, only one boolean expressions needs to be true for an or operator to be true."
   ]
  }
 ],
 "metadata": {
  "interpreter": {
   "hash": "12d9efd1b418ad7485587f2da0512ee7fc7c20b6462fdb2a696d6f33bbf19b58"
  },
  "kernelspec": {
   "display_name": "Python 3.10.4 64-bit",
   "language": "python",
   "name": "python3"
  },
  "language_info": {
   "codemirror_mode": {
    "name": "ipython",
    "version": 3
   },
   "file_extension": ".py",
   "mimetype": "text/x-python",
   "name": "python",
   "nbconvert_exporter": "python",
   "pygments_lexer": "ipython3",
   "version": "3.10.4"
  },
  "orig_nbformat": 4
 },
 "nbformat": 4,
 "nbformat_minor": 2
}
