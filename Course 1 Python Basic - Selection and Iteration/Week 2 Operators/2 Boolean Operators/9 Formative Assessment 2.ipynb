{
 "cells": [
  {
   "cell_type": "markdown",
   "metadata": {},
   "source": [
    "## ***Formative Assessment 2***\n",
    "**Boolean Operators**\n",
    "\n",
    "Determine if the code below returns true or false.\n",
    "```\n",
    "(7 >= 7) and (True or 99 < 1) or not (3 > 5 and 7 < 10) and 2 != 4\n",
    "```\n",
    "\n",
    "- ***True***\n",
    "- False"
   ]
  },
  {
   "cell_type": "code",
   "execution_count": 2,
   "metadata": {},
   "outputs": [
    {
     "name": "stdout",
     "output_type": "stream",
     "text": [
      "True\n"
     ]
    }
   ],
   "source": [
    "print((7 >= 7) and (True or 99 < 1) or not (3 > 5 and 7 < 10) and 2 != 4)"
   ]
  },
  {
   "cell_type": "markdown",
   "metadata": {},
   "source": [
    "First, start by evaluating the expressions in the parentheses.\n",
    "\n",
    "- ( 7 >= 7) returns True.\n",
    "- (true or 99 < 1) returns True\n",
    "- not (3 > 5 and 7 < 10) returns True\n",
    "- 2 != 4 returns True\n",
    "\n",
    "So the boolean expression is now True and True or True and True, which returns True."
   ]
  }
 ],
 "metadata": {
  "interpreter": {
   "hash": "12d9efd1b418ad7485587f2da0512ee7fc7c20b6462fdb2a696d6f33bbf19b58"
  },
  "kernelspec": {
   "display_name": "Python 3.10.4 64-bit",
   "language": "python",
   "name": "python3"
  },
  "language_info": {
   "codemirror_mode": {
    "name": "ipython",
    "version": 3
   },
   "file_extension": ".py",
   "mimetype": "text/x-python",
   "name": "python",
   "nbconvert_exporter": "python",
   "pygments_lexer": "ipython3",
   "version": "3.10.4"
  },
  "orig_nbformat": 4
 },
 "nbformat": 4,
 "nbformat_minor": 2
}
