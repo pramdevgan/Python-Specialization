{
 "cells": [
  {
   "cell_type": "markdown",
   "metadata": {},
   "source": [
    "# **Data Types - Floating Point Numbers**\n",
    "### *Floating Point numbers*\n",
    "Floating point numbers (often called floats) are numbers with a decimal. They can be positive or negative."
   ]
  },
  {
   "cell_type": "code",
   "execution_count": 1,
   "metadata": {},
   "outputs": [
    {
     "name": "stdout",
     "output_type": "stream",
     "text": [
      "50.0\n"
     ]
    }
   ],
   "source": [
    "float_variable = 50.0\n",
    "print(float_variable)"
   ]
  },
  {
   "cell_type": "markdown",
   "metadata": {},
   "source": [
    "### **What happens if you:**\n",
    "- Change the variable to 50.?\n",
    "- Change the variable to .001?"
   ]
  },
  {
   "cell_type": "markdown",
   "metadata": {},
   "source": [
    "\n",
    "### **Reading Question**\n",
    "From the lines of text below, drag ***two*** of them into answer space. Your answer should explain the difference between a float and an int.\n",
    "\n",
    "**Drag from here**\n",
    "- A float is a whole number,\n",
    "- A float is an irrational number,\n",
    "- while an int is a decimal number.\n",
    "- while an int is a rational number.\n",
    "\n",
    "**Construct your solution here**\n",
    "\n",
    "- A float is a decimal number,\n",
    "- while an int is a whole number.\n",
    "\n",
    "A floating point number is one with a decimal. An int is a whole number (or integer)."
   ]
  }
 ],
 "metadata": {
  "interpreter": {
   "hash": "12d9efd1b418ad7485587f2da0512ee7fc7c20b6462fdb2a696d6f33bbf19b58"
  },
  "kernelspec": {
   "display_name": "Python 3.10.4 64-bit",
   "language": "python",
   "name": "python3"
  },
  "language_info": {
   "codemirror_mode": {
    "name": "ipython",
    "version": 3
   },
   "file_extension": ".py",
   "mimetype": "text/x-python",
   "name": "python",
   "nbconvert_exporter": "python",
   "pygments_lexer": "ipython3",
   "version": "3.10.4"
  },
  "orig_nbformat": 4
 },
 "nbformat": 4,
 "nbformat_minor": 2
}
