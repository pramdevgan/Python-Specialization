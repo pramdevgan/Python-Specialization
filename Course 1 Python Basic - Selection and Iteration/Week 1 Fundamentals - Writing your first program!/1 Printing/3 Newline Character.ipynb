{
 "cells": [
  {
   "cell_type": "markdown",
   "metadata": {},
   "source": [
    "# Newline Character\n",
    "The **print** command automatically adds a newline character each time you use it. This is the default behavior. The code below will not print the two words on the same line.\n",
    "\n",
    "```\n",
    "    print (\"Hello\")\n",
    "    print (\"world\")\n",
    "```\n",
    "![](https://apollo-media.codio.com/media%2F1%2Fdac52286eed99113b96b69c2e6d238c1-42c4f730-3586-44e1-b655-d691256baa73.webp)\n",
    "\n",
    "The text in red shows the newline character which is added even if you do not type it. (The newline character is what is inserted when you press “Enter” or “Return”)."
   ]
  },
  {
   "cell_type": "markdown",
   "metadata": {},
   "source": [
    "## Removing the Newline Character\n",
    "Add ***, end=''*** (two quotes with nothing between them) to your print command. This overrides the default newline character."
   ]
  },
  {
   "cell_type": "code",
   "execution_count": 3,
   "metadata": {},
   "outputs": [
    {
     "name": "stdout",
     "output_type": "stream",
     "text": [
      "Hello world\n"
     ]
    }
   ],
   "source": [
    "print(\"Hello \", end='')\n",
    "print(\"world\")"
   ]
  },
  {
   "cell_type": "markdown",
   "metadata": {},
   "source": [
    "## What happens if you:\n",
    "- Use double quotes instead of single quotes with ***end=''***\n",
    "- Use ***end='\\t'*** in the ***print*** command\n",
    "- Use ***end='!'*** in the ***print*** command"
   ]
  },
  {
   "cell_type": "code",
   "execution_count": 3,
   "metadata": {},
   "outputs": [
    {
     "name": "stdout",
     "output_type": "stream",
     "text": [
      "Hello world\n"
     ]
    }
   ],
   "source": [
    "print(\"Hello \", end=\"\")\n",
    "print(\"world\")"
   ]
  },
  {
   "cell_type": "code",
   "execution_count": 5,
   "metadata": {},
   "outputs": [
    {
     "name": "stdout",
     "output_type": "stream",
     "text": [
      "Hello \tworld\n"
     ]
    }
   ],
   "source": [
    "print(\"Hello \", end='\\t')\n",
    "print(\"world\")"
   ]
  },
  {
   "cell_type": "code",
   "execution_count": 6,
   "metadata": {},
   "outputs": [
    {
     "name": "stdout",
     "output_type": "stream",
     "text": [
      "Hello !world\n"
     ]
    }
   ],
   "source": [
    "print(\"Hello \", end='!')\n",
    "print(\"world\")"
   ]
  },
  {
   "cell_type": "markdown",
   "metadata": {},
   "source": [
    "### **Reading Question**\n",
    "True or False: Python automatically inserts a newline character when you use the print command.\n",
    "\n",
    "-True\n",
    "-False\n",
    "\n",
    "True. When you use the ***print*** command, Python inserts a newline character automatically."
   ]
  }
 ],
 "metadata": {
  "interpreter": {
   "hash": "12d9efd1b418ad7485587f2da0512ee7fc7c20b6462fdb2a696d6f33bbf19b58"
  },
  "kernelspec": {
   "display_name": "Python 3 (ipykernel)",
   "language": "python",
   "name": "python3"
  },
  "language_info": {
   "codemirror_mode": {
    "name": "ipython",
    "version": 3
   },
   "file_extension": ".py",
   "mimetype": "text/x-python",
   "name": "python",
   "nbconvert_exporter": "python",
   "pygments_lexer": "ipython3",
   "version": "3.10.4"
  },
  "widgets": {
   "application/vnd.jupyter.widget-state+json": {
    "state": {},
    "version_major": 2,
    "version_minor": 0
   }
  }
 },
 "nbformat": 4,
 "nbformat_minor": 4
}
