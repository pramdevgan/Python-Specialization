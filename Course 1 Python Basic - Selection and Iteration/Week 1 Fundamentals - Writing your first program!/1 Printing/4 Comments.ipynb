{
 "cells": [
  {
   "cell_type": "markdown",
   "metadata": {},
   "source": [
    "# Comments\n",
    "You may have wondered why a couple of lines of code are a different color (in the below example, light brown, but it depends on the Theme you have picked):\n",
    "![](https://apollo-media.codio.com/media%2F1%2Fb4415a01348a57c2c9d67b38a8893841-9307cbd1-f116-4cca-8581-42448842a722.webp)\n",
    "\n",
    "In Python, to write notes in code without effecting it’s function we can use **#** to make a ***comment***."
   ]
  },
  {
   "cell_type": "code",
   "execution_count": 1,
   "metadata": {},
   "outputs": [
    {
     "name": "stdout",
     "output_type": "stream",
     "text": [
      "This is regular Python code\n"
     ]
    }
   ],
   "source": [
    "# This is a Py comment\n",
    "print(\"This is regular Python code\")"
   ]
  },
  {
   "cell_type": "markdown",
   "metadata": {},
   "source": [
    "Comments can also be used to help you fix your code. You can “comment out” lines of code that are not working or you suspect are causing problems."
   ]
  },
  {
   "cell_type": "markdown",
   "metadata": {},
   "source": [
    "### What happens if you:\n",
    "- Change ***print(\"Red\")*** to ***prnt(\"Red\")***?\n",
    "- Comment out the line of code with the typo?"
   ]
  },
  {
   "cell_type": "code",
   "execution_count": 5,
   "metadata": {},
   "outputs": [
    {
     "ename": "NameError",
     "evalue": "name 'prnt' is not defined",
     "output_type": "error",
     "traceback": [
      "\u001b[1;31m---------------------------------------------------------------------------\u001b[0m",
      "\u001b[1;31mNameError\u001b[0m                                 Traceback (most recent call last)",
      "\u001b[1;32mc:\\Users\\vpram\\Python Specialization\\Course 1\\Week 1\\4 Comments.ipynb Cell 5'\u001b[0m in \u001b[0;36m<module>\u001b[1;34m\u001b[0m\n\u001b[0;32m      <a href='vscode-notebook-cell:/c%3A/Users/vpram/Python%20Specialization/Course%201/Week%201/4%20Comments.ipynb#ch0000006?line=0'>1</a>\u001b[0m \u001b[39m'''\u001b[39;00m\n\u001b[0;32m      <a href='vscode-notebook-cell:/c%3A/Users/vpram/Python%20Specialization/Course%201/Week%201/4%20Comments.ipynb#ch0000006?line=1'>2</a>\u001b[0m \u001b[39mThis is a multi-line comment\u001b[39;00m\n\u001b[0;32m      <a href='vscode-notebook-cell:/c%3A/Users/vpram/Python%20Specialization/Course%201/Week%201/4%20Comments.ipynb#ch0000006?line=2'>3</a>\u001b[0m \u001b[39mTry making one at the end of the code file\u001b[39;00m\n\u001b[0;32m      <a href='vscode-notebook-cell:/c%3A/Users/vpram/Python%20Specialization/Course%201/Week%201/4%20Comments.ipynb#ch0000006?line=3'>4</a>\u001b[0m \u001b[39mThe IDE (this window) tries to help by adding the ending triple quotes automatically\u001b[39;00m\n\u001b[0;32m      <a href='vscode-notebook-cell:/c%3A/Users/vpram/Python%20Specialization/Course%201/Week%201/4%20Comments.ipynb#ch0000006?line=4'>5</a>\u001b[0m \u001b[39m'''\u001b[39;00m\n\u001b[0;32m      <a href='vscode-notebook-cell:/c%3A/Users/vpram/Python%20Specialization/Course%201/Week%201/4%20Comments.ipynb#ch0000006?line=6'>7</a>\u001b[0m \u001b[39m#add code below this line\u001b[39;00m\n\u001b[1;32m----> <a href='vscode-notebook-cell:/c%3A/Users/vpram/Python%20Specialization/Course%201/Week%201/4%20Comments.ipynb#ch0000006?line=8'>9</a>\u001b[0m prnt(\u001b[39m\"\u001b[39m\u001b[39mRed\u001b[39m\u001b[39m\"\u001b[39m)\n\u001b[0;32m     <a href='vscode-notebook-cell:/c%3A/Users/vpram/Python%20Specialization/Course%201/Week%201/4%20Comments.ipynb#ch0000006?line=9'>10</a>\u001b[0m \u001b[39mprint\u001b[39m(\u001b[39m\"\u001b[39m\u001b[39mOrange\u001b[39m\u001b[39m\"\u001b[39m) \u001b[39m#the comment STARTS at the hash symbol\u001b[39;00m\n\u001b[0;32m     <a href='vscode-notebook-cell:/c%3A/Users/vpram/Python%20Specialization/Course%201/Week%201/4%20Comments.ipynb#ch0000006?line=10'>11</a>\u001b[0m \u001b[39m#print(\"Yellow\");\u001b[39;00m\n",
      "\u001b[1;31mNameError\u001b[0m: name 'prnt' is not defined"
     ]
    }
   ],
   "source": [
    "'''\n",
    "This is a multi-line comment\n",
    "Try making one at the end of the code file\n",
    "The IDE (this window) tries to help by adding the ending triple quotes automatically\n",
    "'''\n",
    "\n",
    "#add code below this line\n",
    "    \n",
    "prnt(\"Red\")\n",
    "print(\"Orange\") #the comment STARTS at the hash symbol\n",
    "#print(\"Yellow\");\n",
    "print(\"Green\")\n",
    "print(\"Blue\")\n",
    "print(\"Indigo\")\n",
    "print(\"Violet\")\n",
    "print(\"These are the colors of a rainbow!\");\n",
    "    \n",
    "#add code above this line"
   ]
  },
  {
   "cell_type": "markdown",
   "metadata": {},
   "source": [
    "## Comment Blocks\n",
    "To make a multi-line comment you can either combine the single line characters ***#*** or wrap the set of lines in triple quotes (***'''***)."
   ]
  },
  {
   "cell_type": "code",
   "execution_count": 6,
   "metadata": {},
   "outputs": [
    {
     "name": "stdout",
     "output_type": "stream",
     "text": [
      "Notice code that runs is not the same color as single-line comments\n",
      "This feature is called syntax highlighting\n",
      "It is a common feature of IDEs\n"
     ]
    }
   ],
   "source": [
    "'''\n",
    "This is a multi-line comment\n",
    "You can then easily end the comment with a triple quote (see below)\n",
    "'''\n",
    "\n",
    "#You can also do a multi-line comment\n",
    "#like this!\n",
    "    \n",
    "print(\"Notice code that runs is not the same color as single-line comments\");\n",
    "print(\"This feature is called syntax highlighting\");\n",
    "print(\"It is a common feature of IDEs\");"
   ]
  },
  {
   "cell_type": "markdown",
   "metadata": {},
   "source": [
    "The syntax highlighting is different for comments with ***#*** and comments with ***'''***. That is because the triple quotation marks are also used for multi-line strings (see the Strings lesson). When a multi-line string is by itself (no ***print*** statement), then Python treats it as multiline comment."
   ]
  },
  {
   "cell_type": "markdown",
   "metadata": {},
   "source": [
    "### **What is an IDE?**\n",
    "- An integrated development environment, or IDE, is a computer program that makes it easier to write other computer programs. \n",
    "- They are used by computer programmers to edit source code, and can be easier to use than other text editors for new programmers. \n",
    "- They can have compilers so programmers don't have to open other programs to compile the source code. \n",
    "- They also often have syntax highlighting. ... It also may have predictive coding that can finish lines with syntax such as brackets or semicolons and can suggest variables to be used. \n",
    "- It also may have debuggers that can step through lines, take breaks and inspect variables."
   ]
  },
  {
   "cell_type": "markdown",
   "metadata": {},
   "source": [
    "## Reading Question\n",
    "Fill in the blanks below about comments in Python.\n",
    "\n",
    "In Python, the **#**\n",
    " symbol means a \n",
    "***single-line***\n",
    " comment, and the \n",
    "'''\n",
    " symbol means a \n",
    "***multi-line***\n",
    " comment.\n",
    "\n",
    " In Python, the **#** symbol is used for a single-line comment. The comment begins at the **#** and goes on until the end of the line. The ***'''*** symbol is used for multi-line comments. You must begin and end the comment with a ***'''***. Everything between the triple quotes will be considered the comment."
   ]
  }
 ],
 "metadata": {
  "interpreter": {
   "hash": "12d9efd1b418ad7485587f2da0512ee7fc7c20b6462fdb2a696d6f33bbf19b58"
  },
  "kernelspec": {
   "display_name": "Python 3 (ipykernel)",
   "language": "python",
   "name": "python3"
  },
  "language_info": {
   "codemirror_mode": {
    "name": "ipython",
    "version": 3
   },
   "file_extension": ".py",
   "mimetype": "text/x-python",
   "name": "python",
   "nbconvert_exporter": "python",
   "pygments_lexer": "ipython3",
   "version": "3.10.4"
  },
  "widgets": {
   "application/vnd.jupyter.widget-state+json": {
    "state": {},
    "version_major": 2,
    "version_minor": 0
   }
  }
 },
 "nbformat": 4,
 "nbformat_minor": 4
}
