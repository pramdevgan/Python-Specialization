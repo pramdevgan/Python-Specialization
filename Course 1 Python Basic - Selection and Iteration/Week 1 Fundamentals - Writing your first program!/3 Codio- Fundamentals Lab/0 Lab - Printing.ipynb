{
 "cells": [
  {
   "cell_type": "markdown",
   "metadata": {},
   "source": [
    "# ***Lab - Printing***\n",
    "### **Tutorial Lab 1: Printing**\n",
    "1. Use the code editor to the left.\n",
    "2. Enter the code below."
   ]
  },
  {
   "cell_type": "code",
   "execution_count": 3,
   "metadata": {},
   "outputs": [],
   "source": [
    "from metakernel import register_ipython_magics\n",
    "register_ipython_magics()"
   ]
  },
  {
   "cell_type": "code",
   "execution_count": 5,
   "metadata": {},
   "outputs": [
    {
     "data": {
      "text/html": [
       "\n",
       "        <iframe\n",
       "            width=\"100%\"\n",
       "            height=\"500\"\n",
       "            src=\"https://pythontutor.com/iframe-embed.html#code=my_variable%20%3D%20%27I%20am%20learning%27%20%23step%201%0Aprint%28my_variable%2C%20end%3D%27%27%29%20%23step%202%0Amy_variable%20%3D%20%22%20to%20program%22%20%23step%203%0Aprint%28my_variable%2C%20end%3D%22%22%29%20%23step%204%0Amy_variable%20%3D%20%22%20in%20Python.%22%20%23step%205%0Aprint%28my_variable%29%20%23step%206%0Amy_variable%20%3D%20%22Hooray%21%22%20%23step%207%0Aprint%28my_variable%29%20%23step%208%0A&origin=opt-frontend.js&cumulative=false&heapPrimitives=false&textReferences=false&py=3&rawInputLstJSON=%5B%5D&curInstr=0&codeDivWidth=350&codeDivHeight=400\"\n",
       "            frameborder=\"0\"\n",
       "            allowfullscreen\n",
       "            \n",
       "        ></iframe>\n",
       "        "
      ],
      "text/plain": [
       "<IPython.lib.display.IFrame at 0x1bd589dd360>"
      ]
     },
     "metadata": {},
     "output_type": "display_data"
    }
   ],
   "source": [
    "%%tutor\n",
    "my_variable = 'I am learning' #step 1\n",
    "print(my_variable, end='') #step 2\n",
    "my_variable = \" to program\" #step 3\n",
    "print(my_variable, end=\"\") #step 4\n",
    "my_variable = \" in Python.\" #step 5\n",
    "print(my_variable) #step 6\n",
    "my_variable = \"Hooray!\" #step 7\n",
    "print(my_variable) #step 8"
   ]
  },
  {
   "cell_type": "markdown",
   "metadata": {},
   "source": [
    "3. Run the module to see the output. Use the code visualizer to go through the program step by step."
   ]
  },
  {
   "cell_type": "markdown",
   "metadata": {},
   "source": [
    "4. Here are some important points about the program (click on the underlined text):\n",
    "- Step 1 - Declare the variable **my_variable** and assign it the value **I am learning**.\n",
    "- Step 2 - Remove the newline character with **end=''**.\n",
    "- Step 3 - Add a space when starting the string to avoid **learningto**\n",
    "- Step 4 - A double quote can be used with **end=** and not cause an error\n",
    "- Step 5 - Double quotes can be used to define a string\n",
    "- Step 6 - A newline character is added since there is no **end=''**\n",
    "- Step 8 - **Hooray!** is on its own line since a regular **print** command was used in step 6"
   ]
  },
  {
   "cell_type": "markdown",
   "metadata": {},
   "source": [
    "## **Lab Question**\n",
    "Select all of the correct ways a string can be declared. **Hint**, there is more than one correct answer.\n",
    "\n",
    "- my_string = “I am a string”   **Correct Answer**\n",
    "- my_string = \"I am a string’\n",
    "- my_string = ‘\"I am a string\"’ **Correct Answer**\n",
    "- my_string = ‘I am a string’   **Correct Answer**\n",
    "\n",
    "Strings can be declared with either single or double quotes. However, you must be consistent. If you start with a single quote, end with a single quote. The same is true for double quotes.\n",
    "\n",
    "```\n",
    "    my_string = 'I am a string'\n",
    "    my_string = \"I am a string\" \n",
    "```\n",
    "You can have both single and double quotes as long as you are consistent. The outer quotes must match just as the inner quotes must match. That is why the line of code below is also correct.\n",
    "```\n",
    "    my_string = '\"I am a string\"'\n",
    "```"
   ]
  }
 ],
 "metadata": {
  "interpreter": {
   "hash": "12d9efd1b418ad7485587f2da0512ee7fc7c20b6462fdb2a696d6f33bbf19b58"
  },
  "kernelspec": {
   "display_name": "Python 3.10.4 64-bit",
   "language": "python",
   "name": "python3"
  },
  "language_info": {
   "codemirror_mode": {
    "name": "ipython",
    "version": 3
   },
   "file_extension": ".py",
   "mimetype": "text/x-python",
   "name": "python",
   "nbconvert_exporter": "python",
   "pygments_lexer": "ipython3",
   "version": "3.10.4"
  },
  "orig_nbformat": 4
 },
 "nbformat": 4,
 "nbformat_minor": 2
}
