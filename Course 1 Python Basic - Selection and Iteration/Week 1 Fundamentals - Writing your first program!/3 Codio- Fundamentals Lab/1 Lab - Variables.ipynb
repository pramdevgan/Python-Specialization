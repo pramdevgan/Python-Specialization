{
 "cells": [
  {
   "cell_type": "markdown",
   "metadata": {},
   "source": [
    "# *Lab - Variables*\n",
    "## **Tutorial Lab 2: Variables**\n",
    "Use the code editor to the left to enter the code below."
   ]
  },
  {
   "cell_type": "code",
   "execution_count": 2,
   "metadata": {},
   "outputs": [],
   "source": [
    "from metakernel import register_ipython_magics\n",
    "register_ipython_magics()"
   ]
  },
  {
   "cell_type": "code",
   "execution_count": 3,
   "metadata": {},
   "outputs": [
    {
     "data": {
      "text/html": [
       "\n",
       "        <iframe\n",
       "            width=\"100%\"\n",
       "            height=\"500\"\n",
       "            src=\"https://pythontutor.com/iframe-embed.html#code=string_variable%20%3D%20%22This%20is%20a%20string%22%0Afloat_variable%20%3D%203.14159%0Aint_variable%20%3D%2042%0Aboolean_variable%20%3D%20True%0A%0Astring_variable%20%3D%20boolean_variable%0Afloat_variable%20%3D%20string_variable%0Aint_variable%20%3D%20float_variable%0Aboolean_variable%20%3D%20int_variable%0Aprint%28int_variable%29%0A&origin=opt-frontend.js&cumulative=false&heapPrimitives=false&textReferences=false&py=3&rawInputLstJSON=%5B%5D&curInstr=0&codeDivWidth=350&codeDivHeight=400\"\n",
       "            frameborder=\"0\"\n",
       "            allowfullscreen\n",
       "            \n",
       "        ></iframe>\n",
       "        "
      ],
      "text/plain": [
       "<IPython.lib.display.IFrame at 0x1f49815a890>"
      ]
     },
     "metadata": {},
     "output_type": "display_data"
    }
   ],
   "source": [
    "%%tutor\n",
    "string_variable = \"This is a string\"\n",
    "float_variable = 3.14159\n",
    "int_variable = 42\n",
    "boolean_variable = True\n",
    "\n",
    "string_variable = boolean_variable\n",
    "float_variable = string_variable\n",
    "int_variable = float_variable\n",
    "boolean_variable = int_variable\n",
    "print(int_variable)"
   ]
  },
  {
   "cell_type": "markdown",
   "metadata": {},
   "source": [
    "Run the module to see the output. Use the code visualizer to go through the program step by step.\n",
    "\n",
    "If you use the code visualizer, you will notice that all four of the variables have the value of **True** by the end of the program. Python is a dynamic language. That means variables can change the types of data it holds."
   ]
  }
 ],
 "metadata": {
  "interpreter": {
   "hash": "12d9efd1b418ad7485587f2da0512ee7fc7c20b6462fdb2a696d6f33bbf19b58"
  },
  "kernelspec": {
   "display_name": "Python 3.10.4 64-bit",
   "language": "python",
   "name": "python3"
  },
  "language_info": {
   "codemirror_mode": {
    "name": "ipython",
    "version": 3
   },
   "file_extension": ".py",
   "mimetype": "text/x-python",
   "name": "python",
   "nbconvert_exporter": "python",
   "pygments_lexer": "ipython3",
   "version": "3.10.4"
  },
  "orig_nbformat": 4
 },
 "nbformat": 4,
 "nbformat_minor": 2
}
