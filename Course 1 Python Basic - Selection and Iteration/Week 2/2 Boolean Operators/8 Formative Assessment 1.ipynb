{
 "cells": [
  {
   "cell_type": "markdown",
   "metadata": {},
   "source": [
    "## **Formative Assessment 1**\n",
    "\n",
    "### **Evaluating Expressions**\n",
    "Using your knowledge of boolean operators and order of operations, determine the result of the code below.\n",
    "```\n",
    "5 ** 2 > (8 / 2) ** 2 and 10 % 4 > 3 \n",
    "```\n",
    "- True\n",
    "- False"
   ]
  },
  {
   "cell_type": "code",
   "execution_count": 1,
   "metadata": {},
   "outputs": [
    {
     "name": "stdout",
     "output_type": "stream",
     "text": [
      "False\n"
     ]
    }
   ],
   "source": [
    "print(5 ** 2 > (8 / 2) ** 2 and 10 % 4 > 3)"
   ]
  },
  {
   "cell_type": "markdown",
   "metadata": {},
   "source": [
    "Using PEMDAS, here are steps to solving the arithmetic expressions:\n",
    "\n",
    "1. (8 / 2) ** 2 returns 16.0\n",
    "2. 5 ** 2 returns 25\n",
    "3. 10 % 4 returns 2\n",
    "\n",
    "So the boolean expressions are:\n",
    "25 > 16 and 2 > 3\n",
    "\n",
    "The first boolean expression is **True** and the second is **False**. True and False is **False**."
   ]
  }
 ],
 "metadata": {
  "interpreter": {
   "hash": "12d9efd1b418ad7485587f2da0512ee7fc7c20b6462fdb2a696d6f33bbf19b58"
  },
  "kernelspec": {
   "display_name": "Python 3.10.4 64-bit",
   "language": "python",
   "name": "python3"
  },
  "language_info": {
   "codemirror_mode": {
    "name": "ipython",
    "version": 3
   },
   "file_extension": ".py",
   "mimetype": "text/x-python",
   "name": "python",
   "nbconvert_exporter": "python",
   "pygments_lexer": "ipython3",
   "version": "3.10.4"
  },
  "orig_nbformat": 4
 },
 "nbformat": 4,
 "nbformat_minor": 2
}
