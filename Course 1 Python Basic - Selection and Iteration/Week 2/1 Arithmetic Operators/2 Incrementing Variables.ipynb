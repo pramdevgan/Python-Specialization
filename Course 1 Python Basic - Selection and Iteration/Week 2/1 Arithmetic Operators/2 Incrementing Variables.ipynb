{
 "cells": [
  {
   "cell_type": "markdown",
   "id": "3a6ce9c7-80fd-4823-9c8e-e1edbca12524",
   "metadata": {},
   "source": [
    "# ***Incrementing Variables***\n",
    "Incrementing a variable means to change the value of a variable by a set amount. You will most often have a counting variable, which means you will increment by 1."
   ]
  },
  {
   "cell_type": "code",
   "execution_count": 1,
   "id": "0c664d25-2a00-47c5-b811-d72ee9d1f4b6",
   "metadata": {},
   "outputs": [
    {
     "name": "stdout",
     "output_type": "stream",
     "text": [
      "1\n"
     ]
    }
   ],
   "source": [
    "a = 0\n",
    "a = a + 1\n",
    "print(a)"
   ]
  },
  {
   "cell_type": "markdown",
   "id": "77a542ae-afd8-4c90-9753-278935a092d5",
   "metadata": {
    "tags": []
   },
   "source": [
    "## **How to Read a = a + 1**\n",
    "The variable ***a*** appears twice on the same line of code. But each instance of ***a*** refers to something different.\n",
    "![](https://apollo-media.codio.com/media%2F1%2Ff3e572d36f9ded1d164afd83dc323351-54928b1d-2c0e-4b4a-8b47-9ab520893fcd.webp)"
   ]
  },
  {
   "cell_type": "code",
   "execution_count": 2,
   "id": "c4b7c81a-4a60-440f-945c-8932d2bd0ce5",
   "metadata": {},
   "outputs": [
    {
     "name": "stdout",
     "output_type": "stream",
     "text": [
      "1\n",
      "1\n"
     ]
    }
   ],
   "source": [
    "a = 0\n",
    "b = 0\n",
    "a = a + 1\n",
    "b += 1\n",
    "print(a)\n",
    "print(b)"
   ]
  },
  {
   "cell_type": "markdown",
   "id": "c783793c-4d6f-4145-9176-217bcb8a0119",
   "metadata": {},
   "source": [
    "## What happens if you:\n",
    "- Change *b* such that *b += 2*?\n",
    "- Change *b* such that *b += -1*?\n",
    "- Change *b* such that *b -= 1*?"
   ]
  },
  {
   "cell_type": "code",
   "execution_count": 4,
   "id": "c422d929-2a7a-4313-b613-1bde89647462",
   "metadata": {},
   "outputs": [
    {
     "name": "stdout",
     "output_type": "stream",
     "text": [
      "1\n",
      "7\n"
     ]
    }
   ],
   "source": [
    "a = 0\n",
    "b += 2\n",
    "a = a + 1\n",
    "b += 1\n",
    "print(a)\n",
    "print(b)"
   ]
  },
  {
   "cell_type": "code",
   "execution_count": 6,
   "id": "cfbf3a8b-6082-48eb-8162-64d1b0cf04ec",
   "metadata": {
    "tags": []
   },
   "outputs": [
    {
     "name": "stdout",
     "output_type": "stream",
     "text": [
      "1\n",
      "4\n"
     ]
    }
   ],
   "source": [
    "a = 0\n",
    "b += -2\n",
    "a = a + 1\n",
    "b += -1\n",
    "print(a)\n",
    "print(b)"
   ]
  },
  {
   "cell_type": "code",
   "execution_count": 7,
   "id": "bdadf9f4-b570-41ce-af0a-d877c031452d",
   "metadata": {},
   "outputs": [
    {
     "name": "stdout",
     "output_type": "stream",
     "text": [
      "1\n",
      "5\n"
     ]
    }
   ],
   "source": [
    "a = 0\n",
    "b += 2\n",
    "a = a + 1\n",
    "b -= 1\n",
    "print(a)\n",
    "print(b)"
   ]
  },
  {
   "cell_type": "markdown",
   "id": "c386e1b2-322b-4b60-9574-6ec05ea760a8",
   "metadata": {},
   "source": [
    "## Reading Question\n",
    "***Select the line of code below that increments the variable a by 1.***\n",
    "- a++\n",
    "- a = 1\n",
    "- a -= 1\n",
    "- a = a + 1  ------->     ***Correct Answer***\n",
    "\n",
    "The correct answer is **a = a + 1**. Increment means to increase the value, so **a -= 1** would not be acceptable. While some programming languages use **a++** to increment a variable by 1, Python does not do this. Finally, **a = 1** assigns the value of **a** to 1. It does not add 1 to the previous value of **a**."
   ]
  },
  {
   "cell_type": "code",
   "execution_count": null,
   "id": "94cd0dcf-28d6-4667-9b86-b08f9d9416fc",
   "metadata": {},
   "outputs": [],
   "source": []
  }
 ],
 "metadata": {
  "kernelspec": {
   "display_name": "Python 3 (ipykernel)",
   "language": "python",
   "name": "python3"
  },
  "language_info": {
   "codemirror_mode": {
    "name": "ipython",
    "version": 3
   },
   "file_extension": ".py",
   "mimetype": "text/x-python",
   "name": "python",
   "nbconvert_exporter": "python",
   "pygments_lexer": "ipython3",
   "version": "3.10.4"
  },
  "widgets": {
   "application/vnd.jupyter.widget-state+json": {
    "state": {},
    "version_major": 2,
    "version_minor": 0
   }
  }
 },
 "nbformat": 4,
 "nbformat_minor": 5
}
