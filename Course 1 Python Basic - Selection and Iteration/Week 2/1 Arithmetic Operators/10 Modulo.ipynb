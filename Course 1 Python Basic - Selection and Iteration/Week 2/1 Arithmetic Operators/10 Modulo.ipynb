{
 "cells": [
  {
   "cell_type": "markdown",
   "metadata": {},
   "source": [
    "# ***Modulo***\n",
    "Modulo is the mathematical operation that performs division but returns the remainder. The modulo operator is **%**. The modulo operation happens during the multiplication and division step of the order of operations.\n",
    "![](https://apollo-media.codio.com/media%2F1%2F677237f5bfc5b70e637e0ae2b163936b-1ae19a54-9a53-42d5-9d2f-1ee26331f240.webp)"
   ]
  },
  {
   "cell_type": "code",
   "execution_count": 1,
   "metadata": {},
   "outputs": [
    {
     "name": "stdout",
     "output_type": "stream",
     "text": [
      "1\n"
     ]
    }
   ],
   "source": [
    "modulo = 5 % 2\n",
    "print(modulo)"
   ]
  },
  {
   "cell_type": "markdown",
   "metadata": {},
   "source": [
    "### **Order of Operations**\n",
    "Modulo is treated like multiplication or division, and is performed in a left to right manner."
   ]
  },
  {
   "cell_type": "markdown",
   "metadata": {},
   "source": [
    "### **What happens if you:**\n",
    "- Change modulo to 5 % -2?\n",
    "- Change modulo to 5 % 0?\n",
    "- Change modulo to 5 % True?"
   ]
  },
  {
   "cell_type": "code",
   "execution_count": 2,
   "metadata": {},
   "outputs": [
    {
     "name": "stdout",
     "output_type": "stream",
     "text": [
      "-1\n"
     ]
    }
   ],
   "source": [
    "modulo = 5 % -2\n",
    "print(modulo)"
   ]
  },
  {
   "cell_type": "code",
   "execution_count": 3,
   "metadata": {},
   "outputs": [
    {
     "ename": "ZeroDivisionError",
     "evalue": "integer division or modulo by zero",
     "output_type": "error",
     "traceback": [
      "\u001b[1;31m---------------------------------------------------------------------------\u001b[0m",
      "\u001b[1;31mZeroDivisionError\u001b[0m                         Traceback (most recent call last)",
      "\u001b[1;32mc:\\Users\\vpram\\Python Specialization\\Course 1\\Week 2\\1 Arithmetic Operators\\10 Modulo.ipynb Cell 6'\u001b[0m in \u001b[0;36m<module>\u001b[1;34m\u001b[0m\n\u001b[1;32m----> <a href='vscode-notebook-cell:/c%3A/Users/vpram/Python%20Specialization/Course%201/Week%202/1%20Arithmetic%20Operators/10%20Modulo.ipynb#ch0000006?line=0'>1</a>\u001b[0m modulo \u001b[39m=\u001b[39m \u001b[39m5\u001b[39;49m \u001b[39m%\u001b[39;49m \u001b[39m0\u001b[39;49m\n\u001b[0;32m      <a href='vscode-notebook-cell:/c%3A/Users/vpram/Python%20Specialization/Course%201/Week%202/1%20Arithmetic%20Operators/10%20Modulo.ipynb#ch0000006?line=1'>2</a>\u001b[0m \u001b[39mprint\u001b[39m(modulo)\n",
      "\u001b[1;31mZeroDivisionError\u001b[0m: integer division or modulo by zero"
     ]
    }
   ],
   "source": [
    "modulo = 5 % 0\n",
    "print(modulo)"
   ]
  },
  {
   "cell_type": "code",
   "execution_count": 4,
   "metadata": {},
   "outputs": [
    {
     "name": "stdout",
     "output_type": "stream",
     "text": [
      "0\n"
     ]
    }
   ],
   "source": [
    "modulo = 5 % True\n",
    "print(modulo)"
   ]
  },
  {
   "cell_type": "markdown",
   "metadata": {},
   "source": [
    "## **Reading Question**\n",
    "What does modulo do?\n",
    "\n",
    "- Determines if a number is even or odd\n",
    "- Is another name for division\n",
    "- Determines the percentage of two numbers\n",
    "- Returns the remainder after division is performed  **Correct Answer**\n",
    "\n",
    "Modulo is the remainder after division is performed. So division is a part of modulo, but modulo is not division. Modulo can be used to determine if a number is even or odd, but modulo can do more than that. Finally, the **%** is used with modulo, but modulo does not deal with percentages."
   ]
  }
 ],
 "metadata": {
  "interpreter": {
   "hash": "12d9efd1b418ad7485587f2da0512ee7fc7c20b6462fdb2a696d6f33bbf19b58"
  },
  "kernelspec": {
   "display_name": "Python 3.10.4 64-bit",
   "language": "python",
   "name": "python3"
  },
  "language_info": {
   "codemirror_mode": {
    "name": "ipython",
    "version": 3
   },
   "file_extension": ".py",
   "mimetype": "text/x-python",
   "name": "python",
   "nbconvert_exporter": "python",
   "pygments_lexer": "ipython3",
   "version": "3.10.4"
  },
  "orig_nbformat": 4
 },
 "nbformat": 4,
 "nbformat_minor": 2
}
