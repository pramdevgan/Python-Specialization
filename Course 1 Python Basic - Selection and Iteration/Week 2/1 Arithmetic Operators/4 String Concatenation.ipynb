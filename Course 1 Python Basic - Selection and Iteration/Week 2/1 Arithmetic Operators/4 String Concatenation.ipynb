{
 "cells": [
  {
   "cell_type": "markdown",
   "metadata": {},
   "source": [
    "# String Concatenation\n",
    "String concatenation is the act of combining two strings together. This is done with the ***+*** operator."
   ]
  },
  {
   "cell_type": "code",
   "execution_count": 1,
   "metadata": {},
   "outputs": [
    {
     "name": "stdout",
     "output_type": "stream",
     "text": [
      "This is an example string\n"
     ]
    }
   ],
   "source": [
    "a = \"This is an \"\n",
    "b = \"example string\"\n",
    "c = a + b\n",
    "print(c)"
   ]
  },
  {
   "cell_type": "markdown",
   "metadata": {},
   "source": [
    "Strings can also use the ***+=*** operator for concatenation."
   ]
  },
  {
   "cell_type": "code",
   "execution_count": 2,
   "metadata": {},
   "outputs": [
    {
     "name": "stdout",
     "output_type": "stream",
     "text": [
      "This is an example string\n"
     ]
    }
   ],
   "source": [
    "a = \"This is an \"\n",
    "b = \"example string\"\n",
    "a += b\n",
    "print(a)"
   ]
  },
  {
   "cell_type": "markdown",
   "metadata": {},
   "source": [
    "## What happens if you:\n",
    "- Concatenate two strings without an extra space (e.g. ***a = \"This is an\"***)?\n",
    "- Add ***3*** to a string?\n",
    "- Add ***\"3\"*** to a string?"
   ]
  },
  {
   "cell_type": "code",
   "execution_count": 3,
   "metadata": {},
   "outputs": [
    {
     "name": "stdout",
     "output_type": "stream",
     "text": [
      "This is anexample sting\n"
     ]
    }
   ],
   "source": [
    "a = \"This is an\"\n",
    "b = \"example sting\"\n",
    "c = a + b\n",
    "print(c)"
   ]
  },
  {
   "cell_type": "code",
   "execution_count": 4,
   "metadata": {},
   "outputs": [
    {
     "ename": "TypeError",
     "evalue": "can only concatenate str (not \"int\") to str",
     "output_type": "error",
     "traceback": [
      "\u001b[1;31m---------------------------------------------------------------------------\u001b[0m",
      "\u001b[1;31mTypeError\u001b[0m                                 Traceback (most recent call last)",
      "\u001b[1;32mc:\\Users\\vpram\\Python Specialization\\Course 1\\Week 1\\4 String Concatenation.ipynb Cell 7'\u001b[0m in \u001b[0;36m<module>\u001b[1;34m\u001b[0m\n\u001b[0;32m      <a href='vscode-notebook-cell:/c%3A/Users/vpram/Python%20Specialization/Course%201/Week%201/4%20String%20Concatenation.ipynb#ch0000012?line=0'>1</a>\u001b[0m a \u001b[39m=\u001b[39m \u001b[39m\"\u001b[39m\u001b[39mThis is an\u001b[39m\u001b[39m\"\u001b[39m\n\u001b[0;32m      <a href='vscode-notebook-cell:/c%3A/Users/vpram/Python%20Specialization/Course%201/Week%201/4%20String%20Concatenation.ipynb#ch0000012?line=1'>2</a>\u001b[0m b \u001b[39m=\u001b[39m \u001b[39m3\u001b[39m\n\u001b[1;32m----> <a href='vscode-notebook-cell:/c%3A/Users/vpram/Python%20Specialization/Course%201/Week%201/4%20String%20Concatenation.ipynb#ch0000012?line=2'>3</a>\u001b[0m c \u001b[39m=\u001b[39m a \u001b[39m+\u001b[39;49m b\n\u001b[0;32m      <a href='vscode-notebook-cell:/c%3A/Users/vpram/Python%20Specialization/Course%201/Week%201/4%20String%20Concatenation.ipynb#ch0000012?line=3'>4</a>\u001b[0m \u001b[39mprint\u001b[39m(c)\n",
      "\u001b[1;31mTypeError\u001b[0m: can only concatenate str (not \"int\") to str"
     ]
    }
   ],
   "source": [
    "a = \"This is an\"\n",
    "b = 3\n",
    "c = a + b\n",
    "print(c)"
   ]
  },
  {
   "cell_type": "code",
   "execution_count": 5,
   "metadata": {},
   "outputs": [
    {
     "name": "stdout",
     "output_type": "stream",
     "text": [
      "This is an 3\n"
     ]
    }
   ],
   "source": [
    "a = \"This is an\"\n",
    "b = \" 3\"\n",
    "c = a + b\n",
    "print(c)"
   ]
  },
  {
   "cell_type": "markdown",
   "metadata": {},
   "source": [
    "## Reading Question\n",
    "The code below should produce the output I love string concatenation!.\n",
    "\n",
    "```\n",
    "    a = \"I love\"\n",
    "    b = ???\n",
    "    c = ???\n",
    "    print(c)\n",
    "```\n",
    "Select the correct declarations for variables **b** and **c**. **Hint**, there are two answers for this question.\n",
    "\n",
    "- c = b + a\n",
    "- b = \" string concatenation!\" ---> ***Correct Answer***\n",
    "- c = a + b                    ---> ***Correct Answer***\n",
    "- b = “string concatenation”\n",
    "\n",
    "**b = \"string concatenation\"** is incorrect because there needs to be a space between **love** and **string**. It is also missing the **!**. The response **c = b + a** would put **I love** at the end of the output, not the beginning.\n",
    "\n"
   ]
  }
 ],
 "metadata": {
  "interpreter": {
   "hash": "12d9efd1b418ad7485587f2da0512ee7fc7c20b6462fdb2a696d6f33bbf19b58"
  },
  "kernelspec": {
   "display_name": "Python 3.10.4 64-bit",
   "language": "python",
   "name": "python3"
  },
  "language_info": {
   "codemirror_mode": {
    "name": "ipython",
    "version": 3
   },
   "file_extension": ".py",
   "mimetype": "text/x-python",
   "name": "python",
   "nbconvert_exporter": "python",
   "pygments_lexer": "ipython3",
   "version": "3.10.4"
  },
  "orig_nbformat": 4
 },
 "nbformat": 4,
 "nbformat_minor": 2
}
