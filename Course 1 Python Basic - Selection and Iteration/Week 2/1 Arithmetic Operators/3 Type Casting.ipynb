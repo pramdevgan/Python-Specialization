{
 "cells": [
  {
   "cell_type": "markdown",
   "id": "4485faaa-6e3a-47da-94c0-17138ae05d10",
   "metadata": {},
   "source": [
    "# Type Casting\n",
    "Type casting (or type conversion) is when you change the data type of a variable."
   ]
  },
  {
   "cell_type": "code",
   "execution_count": 1,
   "id": "234d9186-11a7-47f0-9445-e1e92a73188d",
   "metadata": {},
   "outputs": [
    {
     "name": "stdout",
     "output_type": "stream",
     "text": [
      "<class 'int'>\n",
      "<class 'str'>\n"
     ]
    }
   ],
   "source": [
    "a = 3\n",
    "print(type(a))\n",
    "a = str(a)\n",
    "print(type(a))"
   ]
  },
  {
   "cell_type": "markdown",
   "id": "cb72b433-924b-4631-af88-41a5a0d54a5c",
   "metadata": {},
   "source": [
    "## What does ***type*** mean?\n",
    "The **type** command returns the data type of the value stored in a variable. Python abbreviates these types: ***int*** is an integer, ***float*** is a floating point number, ***str*** is a string, and ***bool*** is a boolean."
   ]
  },
  {
   "cell_type": "markdown",
   "id": "93b9645a-3c80-416f-bccd-4d1a0fcbce63",
   "metadata": {},
   "source": [
    "***a*** is initially an integer, but ***str(a)*** converted ***a*** into a string."
   ]
  },
  {
   "cell_type": "markdown",
   "id": "d5c74663-8d81-4ace-a9bc-b37150659dd6",
   "metadata": {},
   "source": [
    "## What happens if you:\n",
    "- Convert **a** to a floating point number?\n",
    "- Convert **a** to a boolean?"
   ]
  },
  {
   "cell_type": "code",
   "execution_count": null,
   "id": "a6d51966-d2b5-4a06-a9ea-2cd1c2258bd1",
   "metadata": {},
   "outputs": [],
   "source": [
    "a = 3\n",
    "print (type(a))\n"
   ]
  },
  {
   "cell_type": "markdown",
   "id": "f663f6d8-ec73-414c-b281-2aa93c63e97e",
   "metadata": {},
   "source": [
    "## Why Type Cast?\n",
    "Do you know why the code below will not work?"
   ]
  },
  {
   "cell_type": "code",
   "execution_count": 1,
   "id": "a55a9889",
   "metadata": {},
   "outputs": [
    {
     "ename": "TypeError",
     "evalue": "unsupported operand type(s) for +: 'int' and 'str'",
     "output_type": "error",
     "traceback": [
      "\u001b[1;31m---------------------------------------------------------------------------\u001b[0m",
      "\u001b[1;31mTypeError\u001b[0m                                 Traceback (most recent call last)",
      "\u001b[1;32mc:\\Users\\vpram\\Python Specialization\\Course 1\\Week 1\\3 Type Casting.ipynb Cell 8'\u001b[0m in \u001b[0;36m<module>\u001b[1;34m\u001b[0m\n\u001b[0;32m      <a href='vscode-notebook-cell:/c%3A/Users/vpram/Python%20Specialization/Course%201/Week%201/3%20Type%20Casting.ipynb#ch0000009?line=0'>1</a>\u001b[0m a \u001b[39m=\u001b[39m \u001b[39m5\u001b[39m\n\u001b[0;32m      <a href='vscode-notebook-cell:/c%3A/Users/vpram/Python%20Specialization/Course%201/Week%201/3%20Type%20Casting.ipynb#ch0000009?line=1'>2</a>\u001b[0m b \u001b[39m=\u001b[39m \u001b[39m\"\u001b[39m\u001b[39m3\u001b[39m\u001b[39m\"\u001b[39m\n\u001b[1;32m----> <a href='vscode-notebook-cell:/c%3A/Users/vpram/Python%20Specialization/Course%201/Week%201/3%20Type%20Casting.ipynb#ch0000009?line=2'>3</a>\u001b[0m \u001b[39mprint\u001b[39m(a\u001b[39m+\u001b[39;49mb)\n",
      "\u001b[1;31mTypeError\u001b[0m: unsupported operand type(s) for +: 'int' and 'str'"
     ]
    }
   ],
   "source": [
    "a = 5\n",
    "b = \"3\"\n",
    "print(a+b)"
   ]
  },
  {
   "cell_type": "markdown",
   "id": "ab420ced",
   "metadata": {},
   "source": [
    "You cannot add a string to an integer. You can convert b to an integer to fix the problem."
   ]
  },
  {
   "cell_type": "code",
   "execution_count": 2,
   "id": "10927c5a",
   "metadata": {},
   "outputs": [
    {
     "name": "stdout",
     "output_type": "stream",
     "text": [
      "8\n"
     ]
    }
   ],
   "source": [
    "a = 5\n",
    "b = 3\n",
    "print(a + int(b))"
   ]
  },
  {
   "cell_type": "markdown",
   "id": "14a9a87f",
   "metadata": {},
   "source": [
    "Data read from the keyboard or a file is always stored as a string. If you want to use this data, you will need to know how to convert it to the proper data type."
   ]
  },
  {
   "cell_type": "markdown",
   "id": "2baa3cd0",
   "metadata": {},
   "source": [
    "## Reading Question\n",
    "Which of the following lines of code is **not** an example of type casting?\n",
    "- int(a)\n",
    "- string(a) -----> ***Correct Answer***\n",
    "- float(a)\n",
    "- bool(a)\n",
    "Python uses abbreviations for type casting:\n",
    "\n",
    "int is an integer\n",
    "float is a floating point number\n",
    "str is a string\n",
    "bool is a boolean"
   ]
  },
  {
   "cell_type": "markdown",
   "id": "005c1c38",
   "metadata": {},
   "source": []
  }
 ],
 "metadata": {
  "interpreter": {
   "hash": "12d9efd1b418ad7485587f2da0512ee7fc7c20b6462fdb2a696d6f33bbf19b58"
  },
  "kernelspec": {
   "display_name": "Python 3 (ipykernel)",
   "language": "python",
   "name": "python3"
  },
  "language_info": {
   "codemirror_mode": {
    "name": "ipython",
    "version": 3
   },
   "file_extension": ".py",
   "mimetype": "text/x-python",
   "name": "python",
   "nbconvert_exporter": "python",
   "pygments_lexer": "ipython3",
   "version": "3.10.4"
  },
  "widgets": {
   "application/vnd.jupyter.widget-state+json": {
    "state": {},
    "version_major": 2,
    "version_minor": 0
   }
  }
 },
 "nbformat": 4,
 "nbformat_minor": 5
}
