{
 "cells": [
  {
   "cell_type": "markdown",
   "metadata": {},
   "source": [
    "## ***Turtle Graphics***\n",
    "Before continuing with loops, we are going to learn how to create graphical output with the ***turtle library***. Like a pencil on paper, the turtle object leaves a line as it moves around the screen.\n",
    "### ***Turtle Syntax***\n",
    "You need to import the turtle library as the first line of your code and end your code by calling mainloop()"
   ]
  },
  {
   "cell_type": "code",
   "execution_count": null,
   "metadata": {},
   "outputs": [],
   "source": [
    "%pip install PythonTurtle"
   ]
  },
  {
   "cell_type": "code",
   "execution_count": 1,
   "metadata": {},
   "outputs": [],
   "source": [
    "import turtle\n",
    "\n",
    "# All of your turtle commands\n",
    "# go in this space here.\n",
    "import importlib\n",
    "\n",
    "importlib.reload(turtle)\n",
    "turtle.TurtleScreen._RUNNING=True\n",
    "\n",
    "turtle.mainloop()"
   ]
  },
  {
   "cell_type": "markdown",
   "metadata": {},
   "source": [
    "The next step is to create a turtle object to move around the screen."
   ]
  },
  {
   "cell_type": "code",
   "execution_count": 2,
   "metadata": {},
   "outputs": [],
   "source": [
    "import turtle\n",
    "import importlib\n",
    "\n",
    "importlib.reload(turtle)\n",
    "turtle.TurtleScreen._RUNNING=True\n",
    "\n",
    "t = turtle.Turtle() # Create a turtle called t\n",
    "t.color('black')\n",
    "t.shape('turtle')\n",
    "t.pensize(4)\n",
    "t.speed(1)\n",
    "\n",
    "# All of your turtle commands\n",
    "# go in this space here.\n",
    "\n",
    "turtle.mainloop()"
   ]
  },
  {
   "cell_type": "markdown",
   "metadata": {},
   "source": [
    "Here are some basic commands to use with the turtle library."
   ]
  },
  {
   "cell_type": "markdown",
   "metadata": {},
   "source": [
    "Command       |       Parameter        |     Description    |\n",
    "--------------|------------------------|--------------------|\n",
    "**t.forward(n)**  | Where n represents the number of pixels | Move the turtle forward|\n",
    "**t.backward(n)** | Where n represents the number of pixels | Move the turtle backward|\n",
    "**t.rt(d)**       | Where d represents the number of degrees| Turn the turtle to the right |\n",
    "**t.lt(d)**       | Where d represents the number of degrees | Turn the turtle to the left |\n",
    "\n",
    "\n",
    "Go ahead and get comfortable creating and moving a turtle around the screen before we start drawing with loops."
   ]
  },
  {
   "cell_type": "markdown",
   "metadata": {},
   "source": [
    "#### ***Turtle Output***\n",
    "Click the button below to run your code. You may have noticed that there is no print command used with turtle objects, so the output of your program does not appear as you would expect. Look for the tab that reads **Preview** and click on it. You should see your turtle drawing there. Close the window with the turtle output to stop your program."
   ]
  },
  {
   "cell_type": "markdown",
   "metadata": {},
   "source": [
    "### ***Reading Question***\n",
    "What is wrong with the code below?\n",
    "\n",
    "```\n",
    "for i in range(10):\n",
    "print(\"Hello world\")\n",
    "```\n",
    "\n",
    "- Nothing, the code is perfect.\n",
    "- Change the loop to for i in list(10):.\n",
    "- Change the loop to for i in sequence(10):.\n",
    "- The print statement needs to be indented.  <----- Correct Answer\n",
    "\n",
    "```\n",
    "Code that is a part of the loop (like the print statement) needs to be indented. For loops in Python can use the keyword range, but they do not use list or sequence.\n",
    "```"
   ]
  }
 ],
 "metadata": {
  "interpreter": {
   "hash": "12d9efd1b418ad7485587f2da0512ee7fc7c20b6462fdb2a696d6f33bbf19b58"
  },
  "kernelspec": {
   "display_name": "Python 3 (ipykernel)",
   "language": "python",
   "name": "python3"
  },
  "language_info": {
   "codemirror_mode": {
    "name": "ipython",
    "version": 3
   },
   "file_extension": ".py",
   "mimetype": "text/x-python",
   "name": "python",
   "nbconvert_exporter": "python",
   "pygments_lexer": "ipython3",
   "version": "3.10.4"
  },
  "widgets": {
   "application/vnd.jupyter.widget-state+json": {
    "state": {},
    "version_major": 2,
    "version_minor": 0
   }
  }
 },
 "nbformat": 4,
 "nbformat_minor": 4
}
