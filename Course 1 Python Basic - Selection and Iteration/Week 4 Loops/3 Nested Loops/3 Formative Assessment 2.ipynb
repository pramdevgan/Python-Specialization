{
 "cells": [
  {
   "cell_type": "markdown",
   "metadata": {},
   "source": [
    "## ***Formative Assessment 2***\n",
    "Fill in the blanks such that the nested loop would print out:\n",
    "```\n",
    "&&\n",
    "*\n",
    "*\n",
    "*\n",
    "&&\n",
    "*\n",
    "*\n",
    "*\n",
    "&&\n",
    "*\n",
    "*\n",
    "*\n",
    "&&\n",
    "*\n",
    "*\n",
    "*\n",
    "```"
   ]
  },
  {
   "cell_type": "code",
   "execution_count": 2,
   "metadata": {},
   "outputs": [
    {
     "name": "stdout",
     "output_type": "stream",
     "text": [
      "&&\n",
      "*\n",
      "*\n",
      "*\n",
      "&&\n",
      "*\n",
      "*\n",
      "*\n",
      "&&\n",
      "*\n",
      "*\n",
      "*\n",
      "&&\n",
      "*\n",
      "*\n",
      "*\n"
     ]
    }
   ],
   "source": [
    "for i in range(4):\n",
    "    print(\"&&\")\n",
    "    for j in range(3):\n",
    "        print(\"*\")"
   ]
  },
  {
   "cell_type": "markdown",
   "metadata": {},
   "source": [
    "Since the outer loop controls what is printed first, which is &&. Since that occurs four times, the outer loop should run four times. Now print the && symbols. The next thing to be printed is the *, which occurs three times per &&. So the inner loop should run three times. Finally, print the *."
   ]
  }
 ],
 "metadata": {
  "interpreter": {
   "hash": "12d9efd1b418ad7485587f2da0512ee7fc7c20b6462fdb2a696d6f33bbf19b58"
  },
  "kernelspec": {
   "display_name": "Python 3.10.4 64-bit",
   "language": "python",
   "name": "python3"
  },
  "language_info": {
   "codemirror_mode": {
    "name": "ipython",
    "version": 3
   },
   "file_extension": ".py",
   "mimetype": "text/x-python",
   "name": "python",
   "nbconvert_exporter": "python",
   "pygments_lexer": "ipython3",
   "version": "3.10.4"
  },
  "orig_nbformat": 4
 },
 "nbformat": 4,
 "nbformat_minor": 2
}
