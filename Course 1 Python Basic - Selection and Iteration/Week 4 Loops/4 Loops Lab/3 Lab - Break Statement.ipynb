{
 "cells": [
  {
   "cell_type": "markdown",
   "metadata": {},
   "source": [
    "# ***Lab - Break Statement***\n",
    "## **Tutorial Lab 4: Breaking from the while loop**\n",
    "Use the text editor open in the left pane, and enter the following code:\n",
    "\n",
    "### ***What does inp = input('> ') mean?***\n",
    "The **input** command will wait for the user to type some information into the terminal and press **return**. **input** takes an string argument which will be displayed for the user. The information entered by the user is stored in the variable **inp**. All information entered for the **input** command will be stored as a string (even if you type a number).\n"
   ]
  },
  {
   "cell_type": "code",
   "execution_count": 2,
   "metadata": {},
   "outputs": [
    {
     "name": "stdout",
     "output_type": "stream",
     "text": [
      "Enter numbers to sum, enter q to quit\n",
      "Enter numbers to sum, enter q to quit\n",
      "Enter numbers to sum, enter q to quit\n",
      "Enter numbers to sum, enter q to quit\n",
      "Enter numbers to sum, enter q to quit\n",
      "Enter numbers to sum, enter q to quit\n",
      "15\n"
     ]
    }
   ],
   "source": [
    "result = 0\n",
    "\n",
    "while True:\n",
    "    print('Enter numbers to sum, enter q to quit')\n",
    "    inp = input('> ')\n",
    "    if inp != 'q':\n",
    "        inp = int(inp)\n",
    "        result = result + inp\n",
    "    else:\n",
    "        print(result)\n",
    "        break"
   ]
  },
  {
   "cell_type": "markdown",
   "metadata": {},
   "source": [
    "1. Create the variable result and set its value to 0. result will hold the total of the summation.\n",
    "2. Next we set up a while loop with True. We do this because we want the loop to run until the user enters q. We don’t know how long this will take, so we can limit the loop to a certain number of iterations.\n",
    "3. We prompt the user to enter a number and use the built-in Python function input. '> ' will appear, indicating that the user is to enter a value on the keyboard.\n",
    "4. Next we assign the value the user enters to the inp variable.\n",
    "5. Check to see if the value the user entered is q, for quit\n",
    "6. If not, we convert the value to an integer with the int() command. This is required because the input() function returns a string value (you cannot add a string and an integer).\n",
    "7. The result variable is updated to contain its current value plus the value entered by the user.\n",
    "8. The loop continues accepting values and summing until the user enters the letter q. At that point, we step into the else: clause. We print the value of result, and then exit the loop with the break command."
   ]
  },
  {
   "cell_type": "markdown",
   "metadata": {},
   "source": [
    "Interrupt a while loop\n",
    "What is the result of running the following code?\n",
    "```\n",
    "time = 2\n",
    "while True:\n",
    "    print('The time is ', str(time))\n",
    "    if time == 2:\n",
    "        time = 6\n",
    "    else:\n",
    "        break\n",
    "```\n",
    "- ‘The time is 2’\n",
    "- ‘The time is 6’\n",
    "- A syntax error is generated\n",
    "- ‘The time is 2’ and ‘The time is 6’"
   ]
  },
  {
   "cell_type": "code",
   "execution_count": 3,
   "metadata": {},
   "outputs": [
    {
     "name": "stdout",
     "output_type": "stream",
     "text": [
      "The time is  2\n",
      "The time is  6\n"
     ]
    }
   ],
   "source": [
    "time = 2\n",
    "while True:\n",
    "    print('The time is ', str(time))\n",
    "    if time == 2:\n",
    "        time = 6\n",
    "    else:\n",
    "        break"
   ]
  },
  {
   "cell_type": "markdown",
   "metadata": {},
   "source": [
    "    The first time the loop runs, it prints The time is 2. Since time is equal to 2, time is updated to 6. The loop runs a second time and prints The time is 6. Since time is not equal to 2, the loop ends with the break statement."
   ]
  }
 ],
 "metadata": {
  "interpreter": {
   "hash": "12d9efd1b418ad7485587f2da0512ee7fc7c20b6462fdb2a696d6f33bbf19b58"
  },
  "kernelspec": {
   "display_name": "Python 3.10.4 64-bit",
   "language": "python",
   "name": "python3"
  },
  "language_info": {
   "codemirror_mode": {
    "name": "ipython",
    "version": 3
   },
   "file_extension": ".py",
   "mimetype": "text/x-python",
   "name": "python",
   "nbconvert_exporter": "python",
   "pygments_lexer": "ipython3",
   "version": "3.10.4"
  },
  "orig_nbformat": 4
 },
 "nbformat": 4,
 "nbformat_minor": 2
}
