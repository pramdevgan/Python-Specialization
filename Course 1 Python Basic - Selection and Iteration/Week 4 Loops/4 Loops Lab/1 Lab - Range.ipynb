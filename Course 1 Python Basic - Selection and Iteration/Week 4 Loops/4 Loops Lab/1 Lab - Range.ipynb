{
 "cells": [
  {
   "cell_type": "markdown",
   "metadata": {},
   "source": [
    "# ***Lab - Range***\n",
    "## **Tutorial Lab 2: for loop for calculating powers (exponents)**\n",
    "Use the text editor open in the left pane, and enter the following code:"
   ]
  },
  {
   "cell_type": "code",
   "execution_count": 1,
   "metadata": {},
   "outputs": [
    {
     "name": "stdout",
     "output_type": "stream",
     "text": [
      "16\n"
     ]
    }
   ],
   "source": [
    "exp = 4\n",
    "base = 2\n",
    "result = 1\n",
    "\n",
    "for x in range(exp):\n",
    "    result = base * result\n",
    "print(result)"
   ]
  },
  {
   "cell_type": "markdown",
   "metadata": {},
   "source": [
    "This is a crude way of calculating powers (in the example above it would be 2 to the power of 4), but it demonstrates the use of a for loop in an interesting way.\n",
    "\n",
    "1. First off, we create exp (represents the exponent) and assign it the value of 4.\n",
    "2. Then we create base and assign it the value of 2.\n",
    "3. result (the final value of our program) is assigned the value of 1.\n",
    "4. The for loop will run exp number of times. In this case, it will run 4 times\n",
    "5. The calculation takes result and multiplies it by base and assigns it back to itself. This is essentially how the power function works, you are multiplying a value by itself a specified number of times.\n",
    "\n",
    "    - When x is 0, result is assigned 2 * 1, which is 2.\n",
    "    - When x is 1, result is assigned 2 * 2, which is 4.\n",
    "    - When x is 2, result is assigned 2 * 4, which is 8.\n",
    "    - When x is 3, result is assigned 2 * 8, which is 16.\n",
    "    - Finally, result is printed to the screen.\n"
   ]
  },
  {
   "cell_type": "markdown",
   "metadata": {},
   "source": [
    "What is the purpose of range in a for loop?\n",
    "\n",
    "- It sets up the number of iterations the loop will execute.  <---- Correct Answer\n",
    "- It limits the values a user can enter.\n",
    "- It is used to constrain the for loop to a minimum number of iterations.\n",
    "- It indicates how much memory a for loop can use.\n",
    "\n",
    "    The range function tells the for loop how many times it will run before ending."
   ]
  }
 ],
 "metadata": {
  "interpreter": {
   "hash": "12d9efd1b418ad7485587f2da0512ee7fc7c20b6462fdb2a696d6f33bbf19b58"
  },
  "kernelspec": {
   "display_name": "Python 3.10.4 64-bit",
   "language": "python",
   "name": "python3"
  },
  "language_info": {
   "codemirror_mode": {
    "name": "ipython",
    "version": 3
   },
   "file_extension": ".py",
   "mimetype": "text/x-python",
   "name": "python",
   "nbconvert_exporter": "python",
   "pygments_lexer": "ipython3",
   "version": "3.10.4"
  },
  "orig_nbformat": 4
 },
 "nbformat": 4,
 "nbformat_minor": 2
}
