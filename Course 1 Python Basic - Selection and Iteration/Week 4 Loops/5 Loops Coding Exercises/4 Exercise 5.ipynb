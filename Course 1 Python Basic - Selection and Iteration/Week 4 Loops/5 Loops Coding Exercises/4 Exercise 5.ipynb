{
 "cells": [
  {
   "cell_type": "markdown",
   "metadata": {},
   "source": [
    "# ***Exercise 5***\n",
    "Create a nested loop that produces the output below.\n",
    "\n",
    "```\n",
    "....1\n",
    "...2\n",
    "..3\n",
    ".4\n",
    "5\n",
    "```\n",
    "## ***Hint***\n",
    "As you move down the output, the numerical value increases, but the number of . decreases. Also, use end='' with your print statements so you don't automatically add a newline character."
   ]
  },
  {
   "cell_type": "code",
   "execution_count": 16,
   "metadata": {},
   "outputs": [
    {
     "name": "stdout",
     "output_type": "stream",
     "text": [
      "....1\n",
      "...2\n",
      "..3\n",
      ".4\n",
      "5\n"
     ]
    }
   ],
   "source": [
    "for i in range(1, 6):\n",
    "    for j in range(i, 5):\n",
    "        print(\".\", end=\"\")\n",
    "    print(i)\n"
   ]
  },
  {
   "cell_type": "markdown",
   "metadata": {},
   "source": [
    "Star with a loop for the numbers on each line. Since the numbers go from 1 to 5, the loop will be **for num in range(1,6):**. The next loop will print the. characters for each line. The pattern for the number of **.** is **5 - num**. So the second loop is **for dots in range(5 - num, 0, -1)**. The **-1** means the loop counts down from **5 - num** to 0. Print the **.**, but be sure to remove the newline character with **end='**. Finally, print **num** at the end of the line."
   ]
  },
  {
   "cell_type": "code",
   "execution_count": 17,
   "metadata": {},
   "outputs": [
    {
     "name": "stdout",
     "output_type": "stream",
     "text": [
      "....1\n",
      "...2\n",
      "..3\n",
      ".4\n",
      "5\n"
     ]
    }
   ],
   "source": [
    "for num in range(1, 6):\n",
    "    for dots in range(5-num, 0, -1):\n",
    "        print(\".\", end='')\n",
    "    print(num)"
   ]
  }
 ],
 "metadata": {
  "interpreter": {
   "hash": "12d9efd1b418ad7485587f2da0512ee7fc7c20b6462fdb2a696d6f33bbf19b58"
  },
  "kernelspec": {
   "display_name": "Python 3.10.4 64-bit",
   "language": "python",
   "name": "python3"
  },
  "language_info": {
   "codemirror_mode": {
    "name": "ipython",
    "version": 3
   },
   "file_extension": ".py",
   "mimetype": "text/x-python",
   "name": "python",
   "nbconvert_exporter": "python",
   "pygments_lexer": "ipython3",
   "version": "3.10.4"
  },
  "orig_nbformat": 4
 },
 "nbformat": 4,
 "nbformat_minor": 2
}
