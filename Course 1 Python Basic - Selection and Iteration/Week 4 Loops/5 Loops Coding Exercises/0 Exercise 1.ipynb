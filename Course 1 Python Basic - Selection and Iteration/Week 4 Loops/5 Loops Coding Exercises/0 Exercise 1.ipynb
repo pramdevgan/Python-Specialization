{
 "cells": [
  {
   "cell_type": "markdown",
   "metadata": {},
   "source": [
    "# ***Exercise 1***\n",
    "\n",
    "### **Coding Exercise**\n",
    "Imagine that you have a Turtle object called **t**. You want it to draw the triangle below. What are the commands that would go inside of the loop to draw the triangle?\n",
    "\n",
    "![](https://apollo-media.codio.com/media/1/da0b2cae45823da20c0f0819a3c6389c-561eb397-1676-41a0-b50c-03d60b840de9.gif)\n",
    "\n",
    "```\n",
    "(A)\n",
    "t.lt(120)\n",
    "t.forward(100)\n",
    "```\n",
    "```\n",
    "(B)\n",
    "t.forward(100)\n",
    "t.rt(120)\n",
    "```\n",
    "```\n",
    "(C)\n",
    "t.backward(100)\n",
    "t.lt(120)\n",
    "```\n",
    "```\n",
    "(D)\n",
    "t.forward(100) \n",
    "t.lt(120)\n",
    "\n",
    "Correct Answer ---> D\n",
    "```"
   ]
  },
  {
   "cell_type": "code",
   "execution_count": 1,
   "metadata": {},
   "outputs": [],
   "source": [
    "import turtle\n",
    "import importlib\n",
    "\n",
    "importlib.reload(turtle)\n",
    "turtle.TurtleScreen._RUNNING=True\n",
    "\n",
    "t = turtle.Turtle() # Create a turtle called t\n",
    "t.color('black')\n",
    "t.shape('turtle')\n",
    "t.pensize(4)\n",
    "t.speed(3)\n",
    "\n",
    "for i in range(3):\n",
    "    t.forward(100)\n",
    "    t.lt(120)\n",
    "\n",
    "turtle.mainloop()"
   ]
  }
 ],
 "metadata": {
  "interpreter": {
   "hash": "12d9efd1b418ad7485587f2da0512ee7fc7c20b6462fdb2a696d6f33bbf19b58"
  },
  "kernelspec": {
   "display_name": "Python 3.10.4 64-bit",
   "language": "python",
   "name": "python3"
  },
  "language_info": {
   "codemirror_mode": {
    "name": "ipython",
    "version": 3
   },
   "file_extension": ".py",
   "mimetype": "text/x-python",
   "name": "python",
   "nbconvert_exporter": "python",
   "pygments_lexer": "ipython3",
   "version": "3.10.4"
  },
  "orig_nbformat": 4
 },
 "nbformat": 4,
 "nbformat_minor": 2
}
