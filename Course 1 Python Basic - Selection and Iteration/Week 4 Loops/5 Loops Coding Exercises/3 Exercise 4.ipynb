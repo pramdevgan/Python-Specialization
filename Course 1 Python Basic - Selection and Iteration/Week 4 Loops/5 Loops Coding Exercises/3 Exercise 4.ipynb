{
 "cells": [
  {
   "cell_type": "markdown",
   "metadata": {},
   "source": [
    "# ***Exercise 4***\n",
    "![](https://apollo-media.codio.com/media/1/1435e5525e9c3fc8c7ae8838e19dd688-5ed8dd1a-11b9-4037-93a7-82e8ef13982e.webp)\n",
    "\n",
    "#### **Turtle graphic**\n",
    "Rearrange the code blocks below so that their output would be the image above. If you need to practice, use the code editor to the left and press the TRY IT button to see your output in the tab entitled Preview Note: it is not important that your colors match.\n",
    "```\n",
    "for outer_loop in range(4):\n",
    "t.forward(50)\n",
    "t.rt(90)\n",
    "for last_loop in range(4):\n",
    "t.forward(100)\n",
    "t.forward(50)\n",
    "for inner_loop in range(4):\n",
    "t.rt(90)\n",
    "```"
   ]
  },
  {
   "cell_type": "code",
   "execution_count": 1,
   "metadata": {},
   "outputs": [],
   "source": [
    "import turtle\n",
    "import importlib\n",
    "\n",
    "importlib.reload(turtle)\n",
    "turtle.TurtleScreen._RUNNING=True\n",
    "\n",
    "t = turtle.Turtle() # Create a turtle called t\n",
    "t.color('black')\n",
    "t.shape('turtle')\n",
    "t.pensize(4)\n",
    "t.speed(3)\n",
    "\n",
    "for outer_loop in range(4):\n",
    "    for inner_loop in range(4):\n",
    "        t.forward(50)\n",
    "        t.rt(90)\n",
    "    t.forward(100)\n",
    "for last_loop in range(4):\n",
    "        t.forward(50)\n",
    "        t.rt(90)\n",
    "turtle.mainloop()"
   ]
  }
 ],
 "metadata": {
  "interpreter": {
   "hash": "12d9efd1b418ad7485587f2da0512ee7fc7c20b6462fdb2a696d6f33bbf19b58"
  },
  "kernelspec": {
   "display_name": "Python 3.10.4 64-bit",
   "language": "python",
   "name": "python3"
  },
  "language_info": {
   "codemirror_mode": {
    "name": "ipython",
    "version": 3
   },
   "file_extension": ".py",
   "mimetype": "text/x-python",
   "name": "python",
   "nbconvert_exporter": "python",
   "pygments_lexer": "ipython3",
   "version": "3.10.4"
  },
  "orig_nbformat": 4
 },
 "nbformat": 4,
 "nbformat_minor": 2
}
