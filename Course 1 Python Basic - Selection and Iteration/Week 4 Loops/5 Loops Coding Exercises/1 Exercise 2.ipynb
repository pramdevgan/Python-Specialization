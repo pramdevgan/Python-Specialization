{
 "cells": [
  {
   "cell_type": "markdown",
   "metadata": {},
   "source": [
    "# ***Exercise 2***\n",
    "# **Create a while loop**\n",
    "From the code blocks below, create a while loop that will iterate ten times. **Note**: not all code blocks will be used.\n",
    "\n",
    "Drag from here\n",
    "```\n",
    "while count < range(10):\n",
    "count = 1\n",
    "while count < 10:\n",
    "count = count\n",
    "count = 0\n",
    "count = count + 1\n",
    "```\n",
    "Construct your solution here\n"
   ]
  },
  {
   "cell_type": "code",
   "execution_count": 1,
   "metadata": {},
   "outputs": [
    {
     "name": "stdout",
     "output_type": "stream",
     "text": [
      "0\n",
      "1\n",
      "2\n",
      "3\n",
      "4\n",
      "5\n",
      "6\n",
      "7\n",
      "8\n",
      "9\n"
     ]
    }
   ],
   "source": [
    "count = 0\n",
    "while count < 10:\n",
    "    count = count + 1"
   ]
  },
  {
   "cell_type": "markdown",
   "metadata": {},
   "source": [
    "Start by creating the variable count and setting its value to 0. If you set its value to 1, the loop will not run 10 times. Use the line while count < 10 for the loop. While loops do not use the range keyword; for loops do. Finally, count needs to increase so that this is not an infinite loop. Use the code block count = count + 1."
   ]
  }
 ],
 "metadata": {
  "interpreter": {
   "hash": "12d9efd1b418ad7485587f2da0512ee7fc7c20b6462fdb2a696d6f33bbf19b58"
  },
  "kernelspec": {
   "display_name": "Python 3.10.4 64-bit",
   "language": "python",
   "name": "python3"
  },
  "language_info": {
   "codemirror_mode": {
    "name": "ipython",
    "version": 3
   },
   "file_extension": ".py",
   "mimetype": "text/x-python",
   "name": "python",
   "nbconvert_exporter": "python",
   "pygments_lexer": "ipython3",
   "version": "3.10.4"
  },
  "orig_nbformat": 4
 },
 "nbformat": 4,
 "nbformat_minor": 2
}
