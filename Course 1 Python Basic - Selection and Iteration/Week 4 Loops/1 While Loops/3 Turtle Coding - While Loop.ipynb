{
 "cells": [
  {
   "cell_type": "markdown",
   "metadata": {},
   "source": [
    "# ***Turtle Coding - While Loop***\n",
    "Instead of a for loop, recreate the images below using while loops. Close the window with the turtle output to stop your program."
   ]
  },
  {
   "cell_type": "markdown",
   "metadata": {},
   "source": [
    "## ***Turtle Graphics Refresher***\n",
    "- **t.forward(10)** - Takes a number for the distance traveled\n",
    "- **t.backward(10)** - Takes a number for the distance traveled\n",
    "- **t.rt(45)** - Takes a number for degrees turned\n",
    "- **t.lt(45)** - Takes a number for degrees turned\n",
    "- **t.color('red')** - Takes a string for the [color](https://www.w3schools.com/colors/colors_names.asp)\n",
    "- **t.shape('turtle')** - Takes one of the following strings 'turtle', 'circle', 'square', 'arrow', 'classic', or 'triangle'.\n",
    "- **t.pensize(4)** - Takes a positive number\n",
    "- **t.speed(1)** - Takes a number in the range 0..10"
   ]
  },
  {
   "cell_type": "markdown",
   "metadata": {},
   "source": [
    "### ***Challenge 1***\n",
    "![](https://apollo-media.codio.com/media%2F1%2F1be66933109eadd70586fa170a775447-27d6f3cc-3a88-40b7-9758-9d0bb2d91b48.webp)"
   ]
  },
  {
   "cell_type": "code",
   "execution_count": 1,
   "metadata": {},
   "outputs": [],
   "source": [
    "import turtle\n",
    "import importlib\n",
    "\n",
    "importlib.reload(turtle)\n",
    "turtle.TurtleScreen._RUNNING=True\n",
    "\n",
    "t = turtle.Turtle()\n",
    "t.color(\"blue\")\n",
    "t.shape(\"turtle\")\n",
    "t.pensize(2)\n",
    "t.speed(3)\n",
    "\n",
    "count = 0\n",
    "\n",
    "while count < 4:\n",
    "    t.forward(70)\n",
    "    t.rt(90)\n",
    "    t.forward(20)\n",
    "    t.rt(90)\n",
    "    t.forward(20)\n",
    "    t.rt(90)\n",
    "    t.forward(20)\n",
    "    count += 1\n",
    "turtle.mainloop()"
   ]
  },
  {
   "cell_type": "markdown",
   "metadata": {},
   "source": [
    "### ***Challenge 2***\n",
    "![](https://apollo-media.codio.com/media%2F1%2F4d4fa7908b211946f9cd556cc0eb3795-40a7ade1-a930-4474-94c7-9024150082b0.webp)"
   ]
  },
  {
   "cell_type": "code",
   "execution_count": null,
   "metadata": {},
   "outputs": [],
   "source": [
    "import turtle\n",
    "import importlib\n",
    "\n",
    "importlib.reload(turtle)\n",
    "turtle.TurtleScreen._RUNNING=True\n",
    "\n",
    "t = turtle.Turtle()\n",
    "t.color(\"blue\")\n",
    "t.shape(\"turtle\")\n",
    "t.pensize(2)\n",
    "t.speed(3)\n",
    "\n",
    "count = 0\n",
    "\n",
    "while count < 360:\n",
    "    t.forward(1)\n",
    "    t.rt(1)\n",
    "    count += 1\n",
    "turtle.mainloop()"
   ]
  },
  {
   "cell_type": "markdown",
   "metadata": {},
   "source": [
    "### ***Challenge 3***\n",
    "![](https://apollo-media.codio.com/media%2F1%2Fd23cf9c904c2c6bbd5dd80e344f2f64b-f874ab36-3c01-403a-9e8b-8143e3b23d4b.webp)"
   ]
  },
  {
   "cell_type": "code",
   "execution_count": null,
   "metadata": {},
   "outputs": [],
   "source": [
    "import turtle\n",
    "import importlib\n",
    "\n",
    "importlib.reload(turtle)\n",
    "turtle.TurtleScreen._RUNNING=True\n",
    "\n",
    "t = turtle.Turtle()\n",
    "t.color(\"red\")\n",
    "t.shape(\"turtle\")\n",
    "t.pensize(2)\n",
    "t.speed(3)\n",
    "\n",
    "count = 10\n",
    "\n",
    "while count < 200:\n",
    "    t.forward(count)\n",
    "    t.rt(90)\n",
    "    count = count + 10\n",
    "turtle.mainloop()"
   ]
  },
  {
   "cell_type": "markdown",
   "metadata": {},
   "source": [
    "### Reading Question\n",
    "Rearrange the code blocks below to create a working while loop. Note, this loops doesn’t actually do anything.\n",
    "\n",
    "- my_var = 0\n",
    "- while my_var < 10:\n",
    "- my_var += 1\n",
    "\n",
    "The correct answer is:\n",
    "\n",
    "```\n",
    "my_var = 0\n",
    "while my_var < 10:\n",
    "  my_var += 1\n",
    "```\n",
    "\n",
    "    The variable used in the loop must be declared before the loop begins. The comes the loop. Inside the loop, the variable needs to change such that the loop condition becomes false. In this case, my_var must get bigger or it will never be greater than 10. Failure to create a false loop condition will create an infinite loop.\n"
   ]
  }
 ],
 "metadata": {
  "interpreter": {
   "hash": "12d9efd1b418ad7485587f2da0512ee7fc7c20b6462fdb2a696d6f33bbf19b58"
  },
  "kernelspec": {
   "display_name": "Python 3.10.4 64-bit",
   "language": "python",
   "name": "python3"
  },
  "language_info": {
   "codemirror_mode": {
    "name": "ipython",
    "version": 3
   },
   "file_extension": ".py",
   "mimetype": "text/x-python",
   "name": "python",
   "nbconvert_exporter": "python",
   "pygments_lexer": "ipython3",
   "version": "3.10.4"
  },
  "orig_nbformat": 4
 },
 "nbformat": 4,
 "nbformat_minor": 2
}
