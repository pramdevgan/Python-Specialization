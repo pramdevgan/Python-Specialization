{
 "cells": [
  {
   "cell_type": "markdown",
   "metadata": {},
   "source": [
    "# Formative Assessment 1\n",
    "---\n",
    "## Formative Assessment\n",
    "\n",
    "Assume that you have a comma delimited file called `data.csv` Rearrange the code blocks below to read the file and print the contents line by line.  **Note** , not all of the code blocks will be used.\n",
    "\n",
    "Drag from here\n",
    "\n",
    "* import csv\n",
    "* with open(\"data.csv\", \"w\") as input_file:\n",
    "* reader = csv.reader(input_file)\n",
    "* print(row)\n",
    "* for row in reader:\n",
    "* for row in input_file:\n",
    "* with open(\"data.csv\", \"r\") as input_file:\n",
    "* reader = input_file\n",
    "\n",
    "Construct your solution here\n",
    "``` python\n",
    "import csv\n",
    "with open(\"data.csv\", \"r\") as input_file:\n",
    "    reader = csv.reader(input_file)\n",
    "    for row in reader:\n",
    "        print(row)\n",
    "```"
   ]
  },
  {
   "cell_type": "markdown",
   "metadata": {},
   "source": [
    "There are three code blocks that do not belong in the solution. The code block that opens the file in write mode should be ignored. The next code block to ignore is the one that says `reader = input_file`. The `csv` module provides a `csv.reader`, which should be used with a CSV file. Lastly, ignore the code block that says `for row in input_file:`. The CSV file is represented by the `reader` variable, so the loop should iterate over `reader` not `input_file`.\n",
    "\n",
    "Always start with the import statement. Next, open the file and assign it to the variable `input_file`. Since `input_file` is a CSV file, use `csv.reader` so you can iterate over it. Use a for loop to go through the CSV file line by line. Finally, print each row of the CSV file.\n",
    "\n"
   ]
  },
  {
   "cell_type": "code",
   "execution_count": 13,
   "metadata": {},
   "outputs": [
    {
     "name": "stdout",
     "output_type": "stream",
     "text": [
      "['Id', 'Name', 'Position']\n",
      "['01', 'Param Vishwakarma', 'Dean']\n",
      "['02', 'Shivani Vishwakarma', 'Administrators, Specialist Surgeons']\n",
      "['03', 'Ujjwal Pratap Singh', 'Specialist Surgeons']\n",
      "['04', 'Ram Vishwakarma', 'Normal Specialist']\n",
      "['05', 'Ananya Singh', 'Silent Doctors, Management']\n",
      "['06 ', 'Kiran', 'Silent Doctors']\n",
      "['07', 'Puja', 'Nursing']\n",
      "['08', 'Vijay Vishwakarma', 'Physician Assitant']\n",
      "['09', 'Raj Vishwakarma', 'Physician Assitant']\n",
      "['10', 'Sikha', 'Intern']\n"
     ]
    }
   ],
   "source": [
    "import csv\n",
    "with open (\"student_folder/csv/data1.csv\", \"r\") as input_file:\n",
    "    reader = csv.reader(input_file)\n",
    "    for row in reader:\n",
    "        print(row)"
   ]
  },
  {
   "cell_type": "markdown",
   "metadata": {},
   "source": [
    "**[Open data.csv](student_folder/csv/data.csv)**"
   ]
  },
  {
   "cell_type": "markdown",
   "metadata": {},
   "source": [
    "### **OR**\n",
    "In formated Way"
   ]
  },
  {
   "cell_type": "code",
   "execution_count": 25,
   "metadata": {},
   "outputs": [
    {
     "name": "stdout",
     "output_type": "stream",
     "text": [
      "Id   \t Name           \tPosition  \n",
      "01   \t Param Vishwakarma \tDean      \n",
      "02   \t Shivani Vishwakarma \tAdministrators, Specialist Surgeons\n",
      "03   \t Ujjwal Pratap Singh \tSpecialist Surgeons\n",
      "04   \t Ram Vishwakarma \tNormal Specialist\n",
      "05   \t Ananya Singh   \tSilent Doctors, Management\n",
      "06   \t Kiran          \tSilent Doctors\n",
      "07   \t Puja           \tNursing   \n",
      "08   \t Vijay Vishwakarma \tPhysician Assitant\n",
      "09   \t Raj Vishwakarma \tPhysician Assitant\n",
      "10   \t Sikha          \tIntern    \n"
     ]
    }
   ],
   "source": [
    "import csv\n",
    "with open (\"student_folder/csv/data1.csv\", \"r\") as input_file:\n",
    "    reader = csv.reader(input_file)\n",
    "    for row in reader:\n",
    "        print(\"{:<4} \\t {:<14} \\t{:<10}\".format(row[0], row[1], row[2]))"
   ]
  }
 ],
 "metadata": {
  "kernelspec": {
   "display_name": "Python 3.10.4 64-bit",
   "language": "python",
   "name": "python3"
  },
  "language_info": {
   "codemirror_mode": {
    "name": "ipython",
    "version": 3
   },
   "file_extension": ".py",
   "mimetype": "text/x-python",
   "name": "python",
   "nbconvert_exporter": "python",
   "pygments_lexer": "ipython3",
   "version": "3.10.4"
  },
  "orig_nbformat": 4,
  "vscode": {
   "interpreter": {
    "hash": "12d9efd1b418ad7485587f2da0512ee7fc7c20b6462fdb2a696d6f33bbf19b58"
   }
  }
 },
 "nbformat": 4,
 "nbformat_minor": 2
}
