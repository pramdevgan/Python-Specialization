{
 "cells": [
  {
   "cell_type": "markdown",
   "metadata": {},
   "source": [
    "# Formative Assessment 2\n",
    "---\n",
    "## Formative Assessment\n",
    "\n",
    "Assume there exists a tab delimited CSV file called `data.csv`. The CSV file has two columns of data: a name and a color. There is no header row in the CSV file. Rearrange the code blocks below so that the program reads the file and uses the information from each row to generate a sentence like this:\n",
    "\n",
    "Patrick’s favorite color is blue.\n",
    "\n",
    " **Note** , not all of the code blocks will be used.\n",
    "\n",
    "Drag from here\n",
    "\n",
    "* with open(\"data.csv\", \"r\") as input_file:\n",
    "* for color, name in reader:\n",
    "* reader = csv.reader(input_file, delimiter=\"\\t\")\n",
    "* print(\"{}'s favorite color is {}.\".format(name, color))\n",
    "* for name, color in reader:\n",
    "* reader = csv.reader(input_file)\n",
    "* import csv\n",
    "\n",
    "Construct your solution here\n",
    "```Python\n",
    "import csv\n",
    "with open(\"student_folder/csv/data.csv\", \"r\") as input_file:\n",
    "    reader = csv.reader(input_file, delimiter=\"\\t\")\n",
    "    for name, color in reader:\n",
    "        print(\"{}'s favorite color is {}.\".format(name, color))\n",
    "```"
   ]
  },
  {
   "cell_type": "markdown",
   "metadata": {},
   "source": [
    "### 2nd Solution of above problem\n",
    "if you run above code it will generate error \n",
    "```Python\n",
    "ValueError: not enough values to unpack (expected 2, got 1)\n",
    "```"
   ]
  },
  {
   "cell_type": "code",
   "execution_count": 16,
   "metadata": {},
   "outputs": [
    {
     "name": "stdout",
     "output_type": "stream",
     "text": [
      "name's favorite color is color.\n",
      "Param's favorite color is Black, White.\n",
      "Shivani's favorite color is White, Pink, Black.\n",
      "Ram's favorite color is White, Blue.\n"
     ]
    }
   ],
   "source": [
    "import csv\n",
    "with open(\"student_folder/csv/data.csv\", \"r\") as input_file:\n",
    "    reader = csv.reader(input_file)\n",
    "    for name, color in reader:\n",
    "        print(\"{}'s favorite color is {}.\".format(name, color))"
   ]
  }
 ],
 "metadata": {
  "kernelspec": {
   "display_name": "Python 3.10.4 64-bit",
   "language": "python",
   "name": "python3"
  },
  "language_info": {
   "codemirror_mode": {
    "name": "ipython",
    "version": 3
   },
   "file_extension": ".py",
   "mimetype": "text/x-python",
   "name": "python",
   "nbconvert_exporter": "python",
   "pygments_lexer": "ipython3",
   "version": "3.10.4"
  },
  "orig_nbformat": 4,
  "vscode": {
   "interpreter": {
    "hash": "12d9efd1b418ad7485587f2da0512ee7fc7c20b6462fdb2a696d6f33bbf19b58"
   }
  }
 },
 "nbformat": 4,
 "nbformat_minor": 2
}
