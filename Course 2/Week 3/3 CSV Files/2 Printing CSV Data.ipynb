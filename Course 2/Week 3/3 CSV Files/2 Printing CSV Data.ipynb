{
 "cells": [
  {
   "cell_type": "markdown",
   "metadata": {},
   "source": [
    "# Printing CSV Data\n",
    "---\n",
    "## Printing CSV Data\n",
    "\n",
    "Previously, printing the contents of the CSV file would return lists of strings. This is not visually pleasing way of presenting the data. In the code below, `row` is a list. So you can reference each element with an index. This keeps Python from printing square brackets, quotation marks, etc. Instead, it prints just the contents of the CSV file."
   ]
  },
  {
   "cell_type": "code",
   "execution_count": 1,
   "metadata": {},
   "outputs": [
    {
     "name": "stdout",
     "output_type": "stream",
     "text": [
      "Player Home Runs Active Player\n",
      "Barry Bonds 762 No\n",
      "Hank Aaron 755 No\n",
      "Babe Ruth 714 No\n",
      "Alex Rodriguez 696 No\n",
      "Willie Mays 660 No\n",
      "Albert Pujols 656 Yes\n",
      "Ken Griffey Jr. 630 No\n",
      "Jim Thome 612 No\n",
      "Sammy Sosa 609 No\n",
      "Frank Robinson 586 No\n"
     ]
    }
   ],
   "source": [
    "import csv\n",
    "with open(\"student_folder/csv/home_runs.csv\", \"r\") as input_file:\n",
    "    reader = csv.reader(input_file)\n",
    "    for row in reader:\n",
    "        print(row[0], row[1], row[2])"
   ]
  },
  {
   "cell_type": "markdown",
   "metadata": {},
   "source": [
    "## What happens if you:\n",
    "\n",
    "* Add a space between each column of data:\n",
    "  `print(row[0], \" \", row[1], \" \", row[2])`\n",
    "* Add a tab between each column of data:\n",
    "  `print(row[0], \"\\t\", row[1], \"\\t\", row[2])`\n",
    "* Change the print statement to:\n",
    "  `print(\"{:<14} \\t {:<9} \\t {:^12}\".format(row[0], row[1], row[2]))`"
   ]
  },
  {
   "cell_type": "code",
   "execution_count": 2,
   "metadata": {},
   "outputs": [
    {
     "name": "stdout",
     "output_type": "stream",
     "text": [
      "Player   Home Runs   Active Player\n",
      "Barry Bonds   762   No\n",
      "Hank Aaron   755   No\n",
      "Babe Ruth   714   No\n",
      "Alex Rodriguez   696   No\n",
      "Willie Mays   660   No\n",
      "Albert Pujols   656   Yes\n",
      "Ken Griffey Jr.   630   No\n",
      "Jim Thome   612   No\n",
      "Sammy Sosa   609   No\n",
      "Frank Robinson   586   No\n"
     ]
    }
   ],
   "source": [
    "import csv\n",
    "\n",
    "with open(\"student_folder/csv/home_runs.csv\", \"r\") as input_file:\n",
    "    reader = csv.reader(input_file)\n",
    "    for row in reader:\n",
    "        print(row[0], \" \", row[1], \" \", row[2])"
   ]
  },
  {
   "cell_type": "code",
   "execution_count": 4,
   "metadata": {},
   "outputs": [
    {
     "name": "stdout",
     "output_type": "stream",
     "text": [
      "Player \t Home Runs \t Active Player\n",
      "Barry Bonds \t 762 \t No\n",
      "Hank Aaron \t 755 \t No\n",
      "Babe Ruth \t 714 \t No\n",
      "Alex Rodriguez \t 696 \t No\n",
      "Willie Mays \t 660 \t No\n",
      "Albert Pujols \t 656 \t Yes\n",
      "Ken Griffey Jr. \t 630 \t No\n",
      "Jim Thome \t 612 \t No\n",
      "Sammy Sosa \t 609 \t No\n",
      "Frank Robinson \t 586 \t No\n"
     ]
    }
   ],
   "source": [
    "import csv\n",
    "\n",
    "with open(\"student_folder/csv/home_runs.csv\", \"r\") as input_file:\n",
    "    reader = csv.reader(input_file)\n",
    "    for row in reader:\n",
    "        print(row[0], \"\\t\", row[1], \"\\t\", row[2])"
   ]
  },
  {
   "cell_type": "code",
   "execution_count": 7,
   "metadata": {},
   "outputs": [
    {
     "name": "stdout",
     "output_type": "stream",
     "text": [
      "Player          \t Home Runs \t Active Player\n",
      "Barry Bonds     \t 762       \t      No     \n",
      "Hank Aaron      \t 755       \t      No     \n",
      "Babe Ruth       \t 714       \t      No     \n",
      "Alex Rodriguez  \t 696       \t      No     \n",
      "Willie Mays     \t 660       \t      No     \n",
      "Albert Pujols   \t 656       \t     Yes     \n",
      "Ken Griffey Jr. \t 630       \t      No     \n",
      "Jim Thome       \t 612       \t      No     \n",
      "Sammy Sosa      \t 609       \t      No     \n",
      "Frank Robinson  \t 586       \t      No     \n"
     ]
    }
   ],
   "source": [
    "import csv\n",
    "\n",
    "with open(\"student_folder/csv/home_runs.csv\", 'r') as input_file:\n",
    "    reader = csv.reader(input_file)\n",
    "    for row in reader:\n",
    "        print(\"{:<15} \\t {:<9} \\t {:^12}\".format(row[0], row[1], row[2]))"
   ]
  },
  {
   "cell_type": "markdown",
   "metadata": {},
   "source": [
    "**What does `{:<15}` mean?**\n",
    "\n",
    "Printing output that is aligned into columns may not work if you try to use just spaces and tabs to separate the columns. `{:<15}` means left-justify the text and use a width of 14. 14 was chosen because that is the length of the longest names (Alex Rodriguez and Frank Robinson). Names shorter than 14 will \"fill\" the rest of the width with spaces. `{:>15}` means the text will be right-justified with a width of 14. `{:^15}` means the text will be centered across 14 spaces. Note, the `format` method needs to be used when aligning text."
   ]
  },
  {
   "cell_type": "markdown",
   "metadata": {},
   "source": [
    "## Unpacking\n",
    "\n",
    "In the code above, the variable `row` represents a list of data. The first element is the name of the player, the second element is the number of career home runs, and the third element states they are currently an active player. Python provides a way to take the descriptions of the each element and use it in the for loop.\n",
    "\n",
    "![Unpacking CSV Info](https://apollo-media.codio.com/media%2F1%2Fa47da09b12afb3b053b546266d934ae2-77dc6ffd-a6a6-4595-bd42-af1f53fd0f9e.webp)\n",
    "\n",
    "The for loop has three variables:`name`, `hr`, and `active`. The first variable, `name`, represents the first element in the list, the second variable, `hr`, represents the second element of the list, and the third variable, `active`, represents the third element. This is called unpacking."
   ]
  },
  {
   "cell_type": "code",
   "execution_count": 8,
   "metadata": {},
   "outputs": [
    {
     "name": "stdout",
     "output_type": "stream",
     "text": [
      "Barry Bonds hit 762 home runs\n",
      "Hank Aaron hit 755 home runs\n",
      "Babe Ruth hit 714 home runs\n",
      "Alex Rodriguez hit 696 home runs\n",
      "Willie Mays hit 660 home runs\n",
      "Albert Pujols hit 656 home runs\n",
      "Ken Griffey Jr. hit 630 home runs\n",
      "Jim Thome hit 612 home runs\n",
      "Sammy Sosa hit 609 home runs\n",
      "Frank Robinson hit 586 home runs\n"
     ]
    }
   ],
   "source": [
    "import csv\n",
    "\n",
    "with open(\"student_folder/csv/home_runs.csv\", \"r\") as input_file:\n",
    "    reader = csv.reader(input_file)\n",
    "    next(reader) # skip the header row or names\n",
    "    for name, hr, active in reader:\n",
    "        print(\"{} hit {} home runs\".format(name, hr))"
   ]
  },
  {
   "cell_type": "markdown",
   "metadata": {},
   "source": [
    "## What happens if you:\n",
    "\n",
    "* Remove `next(reader)` from the program?\n",
    "* Remove the variable `active`?"
   ]
  },
  {
   "cell_type": "code",
   "execution_count": 10,
   "metadata": {},
   "outputs": [
    {
     "name": "stdout",
     "output_type": "stream",
     "text": [
      "Player hit Home Runs home runs.\n",
      "Barry Bonds hit 762 home runs.\n",
      "Hank Aaron hit 755 home runs.\n",
      "Babe Ruth hit 714 home runs.\n",
      "Alex Rodriguez hit 696 home runs.\n",
      "Willie Mays hit 660 home runs.\n",
      "Albert Pujols hit 656 home runs.\n",
      "Ken Griffey Jr. hit 630 home runs.\n",
      "Jim Thome hit 612 home runs.\n",
      "Sammy Sosa hit 609 home runs.\n",
      "Frank Robinson hit 586 home runs.\n"
     ]
    }
   ],
   "source": [
    "import csv\n",
    "\n",
    "with open(\"student_folder/csv/home_runs.csv\", \"r\") as input_file:\n",
    "    reader = csv.reader(input_file)\n",
    "    for name, hr, active in reader:\n",
    "        print(\"{} hit {} home runs.\".format(name, hr))"
   ]
  },
  {
   "cell_type": "code",
   "execution_count": 11,
   "metadata": {},
   "outputs": [
    {
     "ename": "ValueError",
     "evalue": "too many values to unpack (expected 2)",
     "output_type": "error",
     "traceback": [
      "\u001b[1;31m---------------------------------------------------------------------------\u001b[0m",
      "\u001b[1;31mValueError\u001b[0m                                Traceback (most recent call last)",
      "\u001b[1;32mc:\\Users\\vpram\\Python Specialization\\Course 2\\Week 3\\3 CSV Files\\2 Printing CSV Data.ipynb Cell 12\u001b[0m in \u001b[0;36m<module>\u001b[1;34m\u001b[0m\n\u001b[0;32m      <a href='vscode-notebook-cell:/c%3A/Users/vpram/Python%20Specialization/Course%202/Week%203/3%20CSV%20Files/2%20Printing%20CSV%20Data.ipynb#X15sZmlsZQ%3D%3D?line=2'>3</a>\u001b[0m \u001b[39mwith\u001b[39;00m \u001b[39mopen\u001b[39m(\u001b[39m\"\u001b[39m\u001b[39mstudent_folder/csv/home_runs.csv\u001b[39m\u001b[39m\"\u001b[39m, \u001b[39m\"\u001b[39m\u001b[39mr\u001b[39m\u001b[39m\"\u001b[39m) \u001b[39mas\u001b[39;00m input_file:\n\u001b[0;32m      <a href='vscode-notebook-cell:/c%3A/Users/vpram/Python%20Specialization/Course%202/Week%203/3%20CSV%20Files/2%20Printing%20CSV%20Data.ipynb#X15sZmlsZQ%3D%3D?line=3'>4</a>\u001b[0m     reader \u001b[39m=\u001b[39m csv\u001b[39m.\u001b[39mreader(input_file)\n\u001b[1;32m----> <a href='vscode-notebook-cell:/c%3A/Users/vpram/Python%20Specialization/Course%202/Week%203/3%20CSV%20Files/2%20Printing%20CSV%20Data.ipynb#X15sZmlsZQ%3D%3D?line=4'>5</a>\u001b[0m     \u001b[39mfor\u001b[39;00m name, hr \u001b[39min\u001b[39;00m reader:\n\u001b[0;32m      <a href='vscode-notebook-cell:/c%3A/Users/vpram/Python%20Specialization/Course%202/Week%203/3%20CSV%20Files/2%20Printing%20CSV%20Data.ipynb#X15sZmlsZQ%3D%3D?line=5'>6</a>\u001b[0m         \u001b[39mprint\u001b[39m(\u001b[39m\"\u001b[39m\u001b[39m{}\u001b[39;00m\u001b[39m hit \u001b[39m\u001b[39m{}\u001b[39;00m\u001b[39m home runs.\u001b[39m\u001b[39m\"\u001b[39m\u001b[39m.\u001b[39mformat(name, hr))\n",
      "\u001b[1;31mValueError\u001b[0m: too many values to unpack (expected 2)"
     ]
    }
   ],
   "source": [
    "import csv\n",
    "\n",
    "with open(\"student_folder/csv/home_runs.csv\", \"r\") as input_file:\n",
    "    reader = csv.reader(input_file)\n",
    "    for name, hr in reader:\n",
    "        print(\"{} hit {} home runs.\".format(name, hr))"
   ]
  },
  {
   "cell_type": "markdown",
   "metadata": {},
   "source": [
    "**Unpacking and list length**\n",
    "\n",
    "Unpacking only works if you know how many elements are in the list. You must have the same number variables in the for loop as there are elements in the list. If you don't know how long a list is, you can always iterate over the list to access all of the elements."
   ]
  },
  {
   "cell_type": "markdown",
   "metadata": {},
   "source": [
    "## Reading Question\n",
    "\n",
    "How is the data for each row in a CSV file stored once it is read?\n",
    "\n",
    "- As a string\n",
    "- **As a list of strings**\n",
    "- As a list of booleans\n",
    "- As floats and ints\n",
    "\n",
    "Once a CSV has been read, each row is stored as a list of strings. So manipulating CSV information is based on working with lists (indexing, slicing, methods, functions, etc.) and working with strings (printing, methods, etc.)."
   ]
  }
 ],
 "metadata": {
  "kernelspec": {
   "display_name": "Python 3.10.4 64-bit",
   "language": "python",
   "name": "python3"
  },
  "language_info": {
   "codemirror_mode": {
    "name": "ipython",
    "version": 3
   },
   "file_extension": ".py",
   "mimetype": "text/x-python",
   "name": "python",
   "nbconvert_exporter": "python",
   "pygments_lexer": "ipython3",
   "version": "3.10.4"
  },
  "orig_nbformat": 4,
  "vscode": {
   "interpreter": {
    "hash": "12d9efd1b418ad7485587f2da0512ee7fc7c20b6462fdb2a696d6f33bbf19b58"
   }
  }
 },
 "nbformat": 4,
 "nbformat_minor": 2
}
