{
 "cells": [
  {
   "cell_type": "markdown",
   "metadata": {},
   "source": [
    "# CSV Files\n",
    "---\n",
    "## CSV Files\n",
    "\n",
    "Python can work with files besides just text files. Comma Separated Value (CSV) files are an example of a commonly used file format for storing data. CSV files are similar to a spreadsheet in that data is stored in rows and columns. Each row of data is on its own line in the file, and commas are used to indicate a new column. Here is an example of a CSV file.\n",
    "\n",
    "![Monty Python CSV](https://apollo-media.codio.com/media%2F1%2Fc473eb6beb4634bfe7a411fb3b37daf0-ececdc69-7163-4d1c-b8d4-6b77565aa9f9.webp)\n",
    "\n",
    "In order to read a CSV file, Python needs to import the `csv` module. If you are importing a module, always start your code with the import statements. The CSV file will be opened much like a text file, but Python needs to run the file through a CSV reader."
   ]
  },
  {
   "cell_type": "code",
   "execution_count": 1,
   "metadata": {},
   "outputs": [
    {
     "name": "stdout",
     "output_type": "stream",
     "text": [
      "['Movie Title', 'Rating']\n",
      "['Monty Python and the Holy Grail', '5']\n",
      "[\"Monty Python's Life of Brian\", '4']\n",
      "['Monty Python Live at the Hollywood Bowl', '4']\n",
      "[\"Monty Python's The Meaning of Life\", '5']\n"
     ]
    }
   ],
   "source": [
    "import csv\n",
    "\n",
    "with open(\"student_folder/csv/monty_python_movies.csv\", \"r\") as input_file:\n",
    "    reader = csv.reader(input_file)\n",
    "    for row in reader:\n",
    "        print(row)"
   ]
  },
  {
   "cell_type": "markdown",
   "metadata": {},
   "source": [
    "## What happens if you:\n",
    "\n",
    "* Remove the `import csv` line of code?\n",
    "* Use the CSV filename as the parameter of `reader`:\n",
    "\n",
    "```python\n",
    "import csv\n",
    "\n",
    "with open(\"student_folder/csv/monty_python_movies.csv\", \"r\") as input_file:\n",
    "    reader = csv.reader(\"monty_python_movies.csv\")\n",
    "    for row in reader:\n",
    "        for data in row:\n",
    "            print(data)\n",
    "```"
   ]
  },
  {
   "cell_type": "code",
   "execution_count": 2,
   "metadata": {},
   "outputs": [
    {
     "name": "stdout",
     "output_type": "stream",
     "text": [
      "['Movie Title', 'Rating']\n",
      "['Monty Python and the Holy Grail', '5']\n",
      "[\"Monty Python's Life of Brian\", '4']\n",
      "['Monty Python Live at the Hollywood Bowl', '4']\n",
      "[\"Monty Python's The Meaning of Life\", '5']\n"
     ]
    }
   ],
   "source": [
    "with open(\"student_folder/csv/monty_python_movies.csv\", \"r\") as input_file:\n",
    "    reader = csv.reader(input_file)\n",
    "    for row in reader:\n",
    "        print(row)"
   ]
  },
  {
   "cell_type": "code",
   "execution_count": 8,
   "metadata": {},
   "outputs": [
    {
     "name": "stdout",
     "output_type": "stream",
     "text": [
      "m\n",
      "o\n",
      "n\n",
      "t\n",
      "y\n",
      "_\n",
      "p\n",
      "y\n",
      "t\n",
      "h\n",
      "o\n",
      "n\n",
      "_\n",
      "m\n",
      "o\n",
      "v\n",
      "i\n",
      "e\n",
      "s\n",
      ".\n",
      "c\n",
      "s\n",
      "v\n"
     ]
    }
   ],
   "source": [
    "import csv\n",
    "\n",
    "with open(\"student_folder/csv/monty_python_movies.csv\", \"r\") as input_file:\n",
    "    reader = csv.reader(\"monty_python_movies.csv\")\n",
    "    for row in reader:\n",
    "        for data in row:\n",
    "            print(data)"
   ]
  },
  {
   "cell_type": "markdown",
   "metadata": {},
   "source": [
    "## Next\n",
    "The first row of a CSV file is helpful because the header values provide context for the data. However, the first row is not useful if you want to know how many rows of data, or calculate the avg value, etc. The `next` command allows Python to skip the first row before looping through the CSV file."
   ]
  },
  {
   "cell_type": "code",
   "execution_count": 10,
   "metadata": {},
   "outputs": [
    {
     "name": "stdout",
     "output_type": "stream",
     "text": [
      "['Barry Bonds', '762', 'No']\n",
      "['Hank Aaron', '755', 'No']\n",
      "['Babe Ruth', '714', 'No']\n",
      "['Alex Rodriguez', '696', 'No']\n",
      "['Willie Mays', '660', 'No']\n",
      "['Albert Pujols', '656', 'Yes']\n",
      "['Ken Griffey Jr.', '630', 'No']\n",
      "['Jim Thome', '612', 'No']\n",
      "['Sammy Sosa', '609', 'No']\n",
      "['Frank Robinson', '586', 'No']\n"
     ]
    }
   ],
   "source": [
    "import csv\n",
    "\n",
    "with open(\"student_folder/csv/home_runs.csv\", \"r\") as input_file:\n",
    "    reader = csv.reader(input_file)\n",
    "    next(reader) #skip the header row\n",
    "    for row in reader:\n",
    "        print(row)"
   ]
  },
  {
   "cell_type": "markdown",
   "metadata": {},
   "source": [
    "## What happens if you:\n",
    "\n",
    "* Remove the line `next(reader)`?\n",
    "* Have two lines of `next(reader)`?"
   ]
  },
  {
   "cell_type": "code",
   "execution_count": 11,
   "metadata": {},
   "outputs": [
    {
     "name": "stdout",
     "output_type": "stream",
     "text": [
      "['Player', 'Home Runs', 'Active Player']\n",
      "['Barry Bonds', '762', 'No']\n",
      "['Hank Aaron', '755', 'No']\n",
      "['Babe Ruth', '714', 'No']\n",
      "['Alex Rodriguez', '696', 'No']\n",
      "['Willie Mays', '660', 'No']\n",
      "['Albert Pujols', '656', 'Yes']\n",
      "['Ken Griffey Jr.', '630', 'No']\n",
      "['Jim Thome', '612', 'No']\n",
      "['Sammy Sosa', '609', 'No']\n",
      "['Frank Robinson', '586', 'No']\n"
     ]
    }
   ],
   "source": [
    "import csv\n",
    "\n",
    "with open(\"student_folder/csv/home_runs.csv\", \"r\") as input_file:\n",
    "    reader = csv.reader(input_file)\n",
    "    for row in reader:\n",
    "        print(row)"
   ]
  },
  {
   "cell_type": "code",
   "execution_count": 12,
   "metadata": {},
   "outputs": [
    {
     "name": "stdout",
     "output_type": "stream",
     "text": [
      "['Hank Aaron', '755', 'No']\n",
      "['Babe Ruth', '714', 'No']\n",
      "['Alex Rodriguez', '696', 'No']\n",
      "['Willie Mays', '660', 'No']\n",
      "['Albert Pujols', '656', 'Yes']\n",
      "['Ken Griffey Jr.', '630', 'No']\n",
      "['Jim Thome', '612', 'No']\n",
      "['Sammy Sosa', '609', 'No']\n",
      "['Frank Robinson', '586', 'No']\n"
     ]
    }
   ],
   "source": [
    "import csv\n",
    "\n",
    "with open(\"student_folder/csv/home_runs.csv\", \"r\") as input_file:\n",
    "    reader = csv.reader(input_file)\n",
    "    next(reader) #skip the header row\n",
    "    next(reader) #skip the header row\n",
    "    for row in reader:\n",
    "        print(row)"
   ]
  },
  {
   "cell_type": "markdown",
   "metadata": {},
   "source": [
    "## Reading Question\n",
    "\n",
    "Why do you need the `import csv` statement in the examples above?\n",
    "\n",
    "- **Because `csv.reader` would generate an error if the import statement did not exist.**\n",
    "- You do not need it; it is a typo.\n",
    "- You cannot open a file with the `.csv` file extension without importing `csv`.\n",
    "- Because importing `csv` is required for every Python program.\n",
    "\n",
    "The `csv.reader` command would cause an error if `csv` is not imported. It is possible to read a `.csv` file without importing the `csv` module. It would be done just like reading a text file. Notice, `csv.reader` is **not used** in the code snippet below.\n",
    "\n",
    "```python\n",
    "with open(\"student_folder/csv/monty_python_movies.csv\", \"r\") as input_file:\n",
    "  for line in input_file.readlines():\n",
    "    print(line, end=\"\")\n",
    "```"
   ]
  }
 ],
 "metadata": {
  "kernelspec": {
   "display_name": "Python 3.10.4 64-bit",
   "language": "python",
   "name": "python3"
  },
  "language_info": {
   "codemirror_mode": {
    "name": "ipython",
    "version": 3
   },
   "file_extension": ".py",
   "mimetype": "text/x-python",
   "name": "python",
   "nbconvert_exporter": "python",
   "pygments_lexer": "ipython3",
   "version": "3.10.4"
  },
  "orig_nbformat": 4,
  "vscode": {
   "interpreter": {
    "hash": "12d9efd1b418ad7485587f2da0512ee7fc7c20b6462fdb2a696d6f33bbf19b58"
   }
  }
 },
 "nbformat": 4,
 "nbformat_minor": 2
}
