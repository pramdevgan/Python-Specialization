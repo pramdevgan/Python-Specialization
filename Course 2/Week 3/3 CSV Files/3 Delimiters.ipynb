{
 "cells": [
  {
   "cell_type": "markdown",
   "metadata": {},
   "source": [
    "# Delimiters\n",
    "---\n",
    "## Delimiters\n",
    "\n",
    "Delimiters are a predefined character that separates one piece of information from another. CSV files use commas as the delimiter by default. However, this makes the file hard to read for humans. It is possible to change the delimiter in Python ([click here](student_folder/csv/data_with_tabs.csv) to see an example), but your code must reflect this change.\n",
    "\n",
    "![Tab Delimiter](https://apollo-media.codio.com/media%2F1%2F15c2546ddaa0f1f31bf9278d88dec979-1f00e142e988cd3a.webp)"
   ]
  },
  {
   "cell_type": "code",
   "execution_count": 2,
   "metadata": {},
   "outputs": [
    {
     "name": "stdout",
     "output_type": "stream",
     "text": [
      "['Month', 'Avg High', 'Avg Low']\n",
      "['January', '36', '22']\n",
      "['February', '39', '25']\n",
      "['March', '45', '31']\n",
      "['April', '56', '41']\n",
      "['May', '66', '50']\n",
      "['June', '76', '60']\n",
      "['July', '81', '65']\n",
      "['August', '80', '65']\n",
      "['September', '72', '57']\n",
      "['October', '61', '47']\n",
      "['November', '51', '38']\n",
      "['December', '41', '28']\n"
     ]
    }
   ],
   "source": [
    "import csv\n",
    "\n",
    "with open(\"student_folder/csv/data_with_tabs.csv\", \"r\") as input_file:\n",
    "    reader = csv.reader(input_file, delimiter=\"\\t\")\n",
    "    for row in reader:\n",
    "        print(row)"
   ]
  },
  {
   "cell_type": "markdown",
   "metadata": {},
   "source": [
    "## What happens if you:\n",
    "\n",
    "* Change the delimiter to `,`?"
   ]
  },
  {
   "cell_type": "code",
   "execution_count": 3,
   "metadata": {},
   "outputs": [
    {
     "name": "stdout",
     "output_type": "stream",
     "text": [
      "['Month\\tAvg High\\tAvg Low']\n",
      "['January\\t36\\t22']\n",
      "['February\\t39\\t25']\n",
      "['March\\t45\\t31']\n",
      "['April\\t56\\t41']\n",
      "['May\\t66\\t50']\n",
      "['June\\t76\\t60']\n",
      "['July\\t81\\t65']\n",
      "['August\\t80\\t65']\n",
      "['September\\t72\\t57']\n",
      "['October\\t61\\t47']\n",
      "['November\\t51\\t38']\n",
      "['December\\t41\\t28']\n"
     ]
    }
   ],
   "source": [
    "with open(\"student_folder/csv/data_with_tabs.csv\", \"r\") as input_file:\n",
    "    reader = csv.reader(input_file, delimiter=\",\")\n",
    "    for row in reader:\n",
    "        print(row)\n"
   ]
  },
  {
   "cell_type": "markdown",
   "metadata": {},
   "source": [
    "**Why did the output change when the delimiter changed?**\n",
    "\n",
    "There is a slight difference when the delimiter is a tab and when it is a comma. With a tab delimiter, each row is a list of three strings. When the delimiter is a comma, each row is a list with a single string. Python cannot divide the data into the month, high temperature, and low temperature because it cannot find the delimiter. So it returns one, long string."
   ]
  },
  {
   "cell_type": "markdown",
   "metadata": {},
   "source": [
    "## Reading Question\n",
    "\n",
    "What is the purpose of a delimiter?\n",
    "\n",
    "- **A delimiter is a character that separates units of data.**\n",
    "- A delimiter is a character that marks the end of a line.\n",
    "- A delimiter is a character that begins a line of data.\n",
    "- A delimiter is a character that marks the end of a file.\n",
    "\n",
    "A delimiter is a character that separates units of data. In a CSV file, the default delimiter is a comma. Here is an example of a file with a comma delimiter:\n",
    "\n",
    "Name,Breed\n",
    "Bear,German Shepherd\n",
    "Roxy,Black Lab\n",
    "Bella,Yorkie\n",
    "Lucky,Terrier\n",
    "\n",
    "You can change the delimiter in Python when reading the CSV file:\n",
    "\n",
    "`reader = csv.reader(data_file, delimiter=\"new_delimiter_goes_here\")`"
   ]
  }
 ],
 "metadata": {
  "kernelspec": {
   "display_name": "Python 3.10.4 64-bit",
   "language": "python",
   "name": "python3"
  },
  "language_info": {
   "codemirror_mode": {
    "name": "ipython",
    "version": 3
   },
   "file_extension": ".py",
   "mimetype": "text/x-python",
   "name": "python",
   "nbconvert_exporter": "python",
   "pygments_lexer": "ipython3",
   "version": "3.10.4"
  },
  "orig_nbformat": 4,
  "vscode": {
   "interpreter": {
    "hash": "12d9efd1b418ad7485587f2da0512ee7fc7c20b6462fdb2a696d6f33bbf19b58"
   }
  }
 },
 "nbformat": 4,
 "nbformat_minor": 2
}
