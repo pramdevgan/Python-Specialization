{
 "cells": [
  {
   "cell_type": "markdown",
   "metadata": {},
   "source": [
    "# Lab 1\n",
    "---\n",
    "## Lab 1\n",
    "\n",
    "A previous lesson stated that the `seek` method can be used to move Python back to the beginning of a text file so it can be read again. Another way to do this is to read the contents of the text file to a list. Python can iterate over a list as many times as it wants without having to use the `seek` method.\n",
    "\n",
    "Create the variable `text` and assign it the value of an empty list.\n",
    "\n",
    "```python\n",
    "text = []\n",
    "```\n",
    "\n",
    "Open the text file `files-lab1.txt` in read mode. Read all of the text at once, and assign that to `text`.\n",
    "\n",
    "```python\n",
    "with open(\"student_folder/.labs/files-lab1.txt\", \"r\") as input_file:\n",
    "    text = input_file.readlines()\n",
    "```\n",
    "\n",
    "The contents of the text file now reside in the variable `text`. To prove this, go to the next line and remove the indentation. This will close the text file. Next, print the first element of the variable `text`.\n",
    "\n",
    "```python\n",
    "print(text[0])\n",
    "```\n",
    "\n",
    "You should see a passage from Bram Stoker’s  *Dracula* . You can access the paragraph again by referencing the variable `text`.\n",
    "\n",
    "```python\n",
    "print(text[0].upper())\n",
    "```\n",
    "\n",
    "Storing the value of a text file in a list variable is another way to access text without having to close and then open the text file."
   ]
  },
  {
   "cell_type": "code",
   "execution_count": 7,
   "metadata": {},
   "outputs": [
    {
     "name": "stdout",
     "output_type": "stream",
     "text": [
      "Having had some time at my disposal when in London, I had visited the British Museum, and made search among the books and maps in the library regarding Transylvania; it had struck me that some foreknowledge of the country could hardly fail to have some importance in dealing with a nobleman of that country. I find that the district he named is in the extreme east of the country, just on the borders of three states, Transylvania, Moldavia and Bukovina, in the midst of the Carpathian mountains; one of the wildest and least known portions of Europe. I was not able to light on any map or work giving the exact locality of the Castle Dracula, as there are no maps of this country as yet to compare with our own Ordnance Survey maps; but I found that Bistritz, the post town named by Count Dracula, is a fairly well-known place. I shall enter here some of my notes, as they may refresh my memory when I talk over my travels with Mina.\n",
      "\n",
      "HAVING HAD SOME TIME AT MY DISPOSAL WHEN IN LONDON, I HAD VISITED THE BRITISH MUSEUM, AND MADE SEARCH AMONG THE BOOKS AND MAPS IN THE LIBRARY REGARDING TRANSYLVANIA; IT HAD STRUCK ME THAT SOME FOREKNOWLEDGE OF THE COUNTRY COULD HARDLY FAIL TO HAVE SOME IMPORTANCE IN DEALING WITH A NOBLEMAN OF THAT COUNTRY. I FIND THAT THE DISTRICT HE NAMED IS IN THE EXTREME EAST OF THE COUNTRY, JUST ON THE BORDERS OF THREE STATES, TRANSYLVANIA, MOLDAVIA AND BUKOVINA, IN THE MIDST OF THE CARPATHIAN MOUNTAINS; ONE OF THE WILDEST AND LEAST KNOWN PORTIONS OF EUROPE. I WAS NOT ABLE TO LIGHT ON ANY MAP OR WORK GIVING THE EXACT LOCALITY OF THE CASTLE DRACULA, AS THERE ARE NO MAPS OF THIS COUNTRY AS YET TO COMPARE WITH OUR OWN ORDNANCE SURVEY MAPS; BUT I FOUND THAT BISTRITZ, THE POST TOWN NAMED BY COUNT DRACULA, IS A FAIRLY WELL-KNOWN PLACE. I SHALL ENTER HERE SOME OF MY NOTES, AS THEY MAY REFRESH MY MEMORY WHEN I TALK OVER MY TRAVELS WITH MINA.\n"
     ]
    }
   ],
   "source": [
    "text = []\n",
    "with open (\"student_folder/.labs/files-lab1.txt\",\"r\") as input_file:\n",
    "    text = input_file.readlines()\n",
    "print(text[0])\n",
    "print()\n",
    "print(text[0].upper())"
   ]
  },
  {
   "cell_type": "markdown",
   "metadata": {},
   "source": [
    "## Lab Question\n",
    "\n",
    "Why does the code above say `print(text[0])` instead of `print(text)`?\n",
    "\n",
    "- Both `print(text)` and `print(text[0])` print the same thing.\n",
    "- Using `print(text)` will cause an error.\n",
    "- **The variable `text` is a list of strings. If you print `text`, it will print the entirety of the list — including square brackets and quotes. Printing `text[0]` will print just the text, no special characters.**\n",
    "- Text files require `print(text[0])` while CSV files require `print(text)`.\n",
    "\n",
    "The variable `text` is a list of strings. If you print `text`, it will print the entirety of the list — including square brackets and quotes. Printing `text[0]` will print just the text, no special characters. If you want the text, print the string inside the list, not the list itself."
   ]
  }
 ],
 "metadata": {
  "kernelspec": {
   "display_name": "Python 3.10.4 64-bit",
   "language": "python",
   "name": "python3"
  },
  "language_info": {
   "codemirror_mode": {
    "name": "ipython",
    "version": 3
   },
   "file_extension": ".py",
   "mimetype": "text/x-python",
   "name": "python",
   "nbconvert_exporter": "python",
   "pygments_lexer": "ipython3",
   "version": "3.10.4"
  },
  "orig_nbformat": 4,
  "vscode": {
   "interpreter": {
    "hash": "12d9efd1b418ad7485587f2da0512ee7fc7c20b6462fdb2a696d6f33bbf19b58"
   }
  }
 },
 "nbformat": 4,
 "nbformat_minor": 2
}
