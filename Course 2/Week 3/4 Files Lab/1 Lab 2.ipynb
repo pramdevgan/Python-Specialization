{
 "cells": [
  {
   "cell_type": "markdown",
   "metadata": {},
   "source": [
    "# Lab 2\n",
    "---\n",
    "## Lab 2\n",
    "\n",
    "This lab uses a comma delimited CSV file `files-lab2.csv`, which contains integers. There are three columns and four rows. The program below will print the sum for each row in the CSV.\n",
    "\n",
    "Start by importing the `csv` module. Open the CSV file in read mode, and pass the file to a `csv.reader`.\n",
    "\n",
    "```python\n",
    "import csv\n",
    "\n",
    "with open(\"student_folder/.labs/files-lab2.csv\", \"r\") as input_file:\n",
    "    reader = csv.reader(input_file)\n",
    "```\n",
    "\n",
    "Next, add a nested loop. The outer loop relates to the rows of the CSV file, while the inner loop will go through the numbers in each row. Declare the variable `total` after the first loop, but before the second loop. Set `total` to 0.\n",
    "\n",
    "```python\n",
    "    for row in reader:\n",
    "        total = 0\n",
    "        for num in row:\n",
    "```\n",
    "\n",
    "Add each number in the row to the variable `total`. Values in CSV files are stored as strings, so typecast `num` as an integer so you can perform addition.\n",
    "\n",
    "```python\n",
    "        for num in row:\n",
    "            total += int(num)\n",
    "```\n",
    "\n",
    "After the inner loop has finished running, print the value of `total` with a short explanation.\n",
    "\n",
    "```python\n",
    "        for num in row:\n",
    "            total += int(num)\n",
    "        print(\"The total value is: {}\".format(total))\n",
    "```\n",
    "\n",
    "Run the program. You should see the following output:\n",
    "\n",
    "```text\n",
    "The total value is: 10\n",
    "The total value is: 151\n",
    "The total value is: 63\n",
    "The total value is: 127\n",
    "```"
   ]
  },
  {
   "cell_type": "code",
   "execution_count": 1,
   "metadata": {},
   "outputs": [
    {
     "name": "stdout",
     "output_type": "stream",
     "text": [
      "The total value is: 10\n",
      "The total value is: 151\n",
      "The total value is: 63\n",
      "The total value is: 127\n"
     ]
    }
   ],
   "source": [
    "import csv\n",
    "\n",
    "with open(\"student_folder/.labs/files-lab2.csv\", \"r\") as input_file:\n",
    "    reader = csv.reader(input_file)\n",
    "    for row in reader:\n",
    "        total = 0\n",
    "        for num in row:\n",
    "            total += int(num)\n",
    "        print(\"The total value is: {}\".format(total))"
   ]
  },
  {
   "cell_type": "markdown",
   "metadata": {},
   "source": [
    "## Lab Question\n",
    "\n",
    "Assume the variable `input_file` is an opened CSV file. How would you declare the the `csv.reader` to indicate that the CSV file uses the `!` character as the delimiter?\n",
    "\n",
    "- **reader = csv.reader(input_file, delimiter=\"!\")**\n",
    "- reader = csv.reader(input_file, delimiter=!)\n",
    "- reader = csv.reader(input_file, delimiter=\"\\!\")\n",
    "- reader = csv.reader(input_file, delimiter=\"/!\")\n",
    "\n",
    "To change the delimiter of a CSV file, use the word `delimiter` followed by `=`. Put the delimiter between quotes, `\"!\"`. You do not need a `\\` because the exclamation point is not an escape character.\n",
    "\n",
    "```python\n",
    "reader = csv.reader(input_file, delimiter=\"!\")\n",
    "```"
   ]
  }
 ],
 "metadata": {
  "kernelspec": {
   "display_name": "Python 3.10.4 64-bit",
   "language": "python",
   "name": "python3"
  },
  "language_info": {
   "codemirror_mode": {
    "name": "ipython",
    "version": 3
   },
   "file_extension": ".py",
   "mimetype": "text/x-python",
   "name": "python",
   "nbconvert_exporter": "python",
   "pygments_lexer": "ipython3",
   "version": "3.10.4"
  },
  "orig_nbformat": 4,
  "vscode": {
   "interpreter": {
    "hash": "12d9efd1b418ad7485587f2da0512ee7fc7c20b6462fdb2a696d6f33bbf19b58"
   }
  }
 },
 "nbformat": 4,
 "nbformat_minor": 2
}
