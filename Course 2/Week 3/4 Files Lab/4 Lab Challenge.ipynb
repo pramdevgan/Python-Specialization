{
 "cells": [
  {
   "cell_type": "markdown",
   "metadata": {},
   "source": [
    "# Lab Challenge\n",
    "---\n",
    "## Lab Challenge\n",
    "\n",
    "Write a program that reads the text file `student_folder/.labs/myanmar.txt`. The file contains several instances of the word `Burma`. Replace each instance of `Burma` with `Myanmar`, and print the results of this transformation. The final output of your program should be:\n",
    "\n",
    "```text\n",
    "Myanmar is a country in Southeast Asia.\n",
    "The capital of Myanmar is Naypyidaw.\n",
    "Its population is about 54 million people.\n",
    "Myanmar is a former British colony.\n",
    "```"
   ]
  },
  {
   "cell_type": "code",
   "execution_count": 16,
   "metadata": {},
   "outputs": [
    {
     "name": "stdout",
     "output_type": "stream",
     "text": [
      "Myanmar is a country in Southeast Asia.\n",
      "The capital of Myanmar is Naypyidaw.\n",
      "Its population is about 54 million people.\n",
      "Myanmar is a former British colony."
     ]
    }
   ],
   "source": [
    "import csv\n",
    "with open(\"student_folder/.labs/myanmar.txt\", \"r\") as input_file:\n",
    "    lines = input_file.readlines()\n",
    "    for line in lines:\n",
    "        if \"Burma\" in line:\n",
    "            print(line.replace(\"Burma\", \"Myanmar\"), end=\"\")\n",
    "        else:\n",
    "            print(line, end=\"\")"
   ]
  },
  {
   "cell_type": "markdown",
   "metadata": {},
   "source": [
    "**[Open mynmar.txt](student_folder/.labs/myanmar.txt)**"
   ]
  },
  {
   "cell_type": "markdown",
   "metadata": {},
   "source": [
    "### **Steps to Complete Code**\n",
    "Lab Challenge\n",
    "\n",
    "Here is one solution to the problem. First, start by opening the text file in read mode and read all of the lines of the text file.\n",
    "```python\n",
    "with open(\"student_folder/.labs/myanmar.txt\", \"r\") as input_file:\n",
    "    lines = input_file.readlines()\n",
    "```\n",
    "Iterate through lines and if the word \"Burma\" appears, print the line substituting \"Myanmar\" for \"Burma\". Adding the end=\"\" to the print statement is not necessary. This bit of code removes the newline character so there are no blank lines between the text.\n",
    "```python\n",
    "    for line in lines:\n",
    "        if \"Burma\" in line:\n",
    "            print(line.replace(\"Burma\", \"Myanmar\"), end=\"\")\n",
    "```\n",
    "If the word \"Burma\" does not appear, print the line of text with no modification. The end=\"\" is optional.\n",
    "```python\n",
    "        else:\n",
    "            print(line, end=\"\")\n",
    "```"
   ]
  }
 ],
 "metadata": {
  "kernelspec": {
   "display_name": "Python 3.10.4 64-bit",
   "language": "python",
   "name": "python3"
  },
  "language_info": {
   "codemirror_mode": {
    "name": "ipython",
    "version": 3
   },
   "file_extension": ".py",
   "mimetype": "text/x-python",
   "name": "python",
   "nbconvert_exporter": "python",
   "pygments_lexer": "ipython3",
   "version": "3.10.4"
  },
  "orig_nbformat": 4,
  "vscode": {
   "interpreter": {
    "hash": "12d9efd1b418ad7485587f2da0512ee7fc7c20b6462fdb2a696d6f33bbf19b58"
   }
  }
 },
 "nbformat": 4,
 "nbformat_minor": 2
}
