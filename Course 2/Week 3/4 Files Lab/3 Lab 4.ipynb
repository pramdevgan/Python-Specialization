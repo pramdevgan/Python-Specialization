{
 "cells": [
  {
   "cell_type": "markdown",
   "metadata": {},
   "source": [
    "# Lab 4\n",
    "---\n",
    "## Lab 4\n",
    "\n",
    "The lab will cover how to encrypt the contents of a file with a Caesar cipher. This cipher will work with any characters that are letters (uppercase and lowercase), the digits 0 to 9, and the symbols space, exclamation, question mark, and the period. Other symbols will not be encrypted. The Caesar cipher requires a key to work as well. The key is any number from 0 to 25.\n",
    "\n",
    "The Caesar cipher works by having a list of all of the symbols that can be encrypted. Take the letter you want to encrypt and find its place in the list. Add the value of the key to the position to get the encrypted letter. If the new position is greater than the end of the list, keep counting from the beginning of the list. The example below assumes a key of 13, and shows that a `\"K\"` becomes `\"X\"` with the Caesar cipher.\n",
    "\n",
    "![Caesar Cipher](https://apollo-media.codio.com/media/1/4ded19920142b75a894ed824a7de9b7e-f60d4ffa-da03-44a2-93db-90bf6666ec18.webp)\n",
    "\n",
    "### Reading the Source File\n",
    "\n",
    "This program will read from a file called `source.txt` with the path of `student_folder/.labs`. The encrypted text will be written into a file called `encrypted.txt` with the path of `student_folder/text`.\n",
    "\n",
    "```python\n",
    "with open(\"student_folder/.labs/source.txt\", \"r\") as source, open(\"student_folder/text/encrypted.txt\", \"w\") as destination:   \n",
    "```\n",
    "\n",
    "Next, you need set the key (a number from 0 to 25), the cipher mode (encrypt or decrypt), the list of symbols and an empty string of the new characters (either encrypted or decrypted).\n",
    "\n",
    "```python\n",
    "    key = 13\n",
    "    mode = \"encrypt\"\n",
    "    SYMBOLS = \"ABCDEFGHIJKLMNOPQRSTUVWXYZabcdefghijklmnopqrstuvwxyz1234567890 !?.-;\"\n",
    "    new_text = \"\"\n",
    "```\n",
    "\n",
    "<details open=\"\"><summary><strong>Why is<span> </span><code>SYMBOLS</code><span> </span>in all caps?</strong></summary>\n",
    "\n",
    "There is a type of variable called a constant. This variable should never change its value. The Python community represents constants by using all caps when writing the variable name.\n",
    "\n",
    "</details>\n",
    "\n",
    "Read the first line from the `source` file. If it is not an empty string (the end of the text file), then you are going to loop through each character of the line.\n",
    "\n",
    "```python\n",
    "    line = source.readline()\n",
    "    while line != \"\":\n",
    "        for char in line:\n",
    "```\n",
    "\n",
    "### The Caesar Cipher\n",
    "\n",
    "The Caesar cipher can only encrypt those characters that are in the `SYMBOLS` variable. Check to see if `char` is in `SYMBOLS` and then find its index if true. If the program is encrypting the text, add the value of the key to the index. If the program is decrypting the text, subtract the value of the key from the index.\n",
    "\n",
    "```python\n",
    "            if char in SYMBOLS:\n",
    "                char_index = SYMBOLS.find(char)\n",
    "              \n",
    "                if mode == \"encrypt\":\n",
    "                    new_index = char_index + key\n",
    "                elif mode == \"decrypt\":\n",
    "                    new_index = char_index - key\n",
    "```\n",
    "\n",
    "It is possible that `char_index` is less than 0 or greater than the length of `SYMBOLS`. These indexes will cause a problem. If `char_index` is negative, add it to the length of `SYMBOLS`. If `char_index` is greater than the length of `SYMBOLS`, subtract the length of `SYMBOLS`.\n",
    "\n",
    "```python\n",
    "                if new_index >= len(SYMBOLS):\n",
    "                    new_index = new_index - len(SYMBOLS)\n",
    "                elif new_index < 0:\n",
    "                    new_index = new_index + len(SYMBOLS)\n",
    "```\n",
    "\n",
    "Now that the character has been transformed according to the key, add the character to `new_text`. Once the for loop has finished running, write the new text to `destination`. Finally, read the next line in `source.\n",
    "\n",
    "```python\n",
    "                new_text += SYMBOLS[new_index]\n",
    "  \n",
    "        destination.write(new_text)\n",
    "        line = source.readline()\n",
    "```"
   ]
  },
  {
   "cell_type": "code",
   "execution_count": 7,
   "metadata": {},
   "outputs": [],
   "source": [
    "import csv\n",
    "with open(\"student_folder/.labs/source.txt\", \"r\") as source, open(\"student_folder/.labs/encrypted.txt\",\"w\") as destination:\n",
    "    key = 13\n",
    "    mode  = \"encrypt\"\n",
    "    SYMBOLS = \"ABCDEFGHIJKLMNOPQRSTUVWXYZabcdefghijklmnopqrstuvwxyz1234567890 !?.-;\"\n",
    "    new_text = \"\"\n",
    "    line = source.readline()\n",
    "    while line != \"\":\n",
    "        for char in line:\n",
    "            if char in SYMBOLS:\n",
    "                char_index = SYMBOLS.find(char)\n",
    "                if mode == \"encrypt\":\n",
    "                    new_index = char_index + key\n",
    "                elif mode == \"decrypt\":\n",
    "                    new_index = char_index - key\n",
    "                \n",
    "                if new_index >= len(SYMBOLS):\n",
    "                    new_index = new_index - len(SYMBOLS)\n",
    "                elif new_index < 0:\n",
    "                    new_index = new_index + len(SYMBOLS)\n",
    "                new_text += SYMBOLS[new_index]\n",
    "        destination.write(new_text)\n",
    "        line  = source.readline()"
   ]
  },
  {
   "cell_type": "markdown",
   "metadata": {},
   "source": [
    "**[Open the encrypted file](student_folder/.labs/encrypted.txt)**"
   ]
  },
  {
   "cell_type": "markdown",
   "metadata": {},
   "source": [
    "### Decrypting the File\n",
    "\n",
    "To decrypt the file, a few changes need to be made to your code. The source file should be the encrypted file, and the destination file will be the file `decrypted.txt`.\n",
    "\n",
    "```python\n",
    "with open(\"student_folder/text/encrypted.txt\", \"r\") as source, open(\"student_folder/text/decrypted.txt\", \"w\") as destination:\n",
    "```\n",
    "\n",
    "Finally, change the mode of the cipher to `\"decrypt\"`.\n",
    "\n",
    "```python\n",
    "    mode = \"decrypt\"\n",
    "```"
   ]
  },
  {
   "cell_type": "code",
   "execution_count": 9,
   "metadata": {},
   "outputs": [],
   "source": [
    "import csv\n",
    "with open(\"student_folder/.labs/encrypted.txt\", \"r\") as source, open(\"student_folder/.labs/decrypted.txt\", \"w\") as destination:\n",
    "    key = 13\n",
    "    mode  = \"decrypt\"\n",
    "    SYMBOLS = \"ABCDEFGHIJKLMNOPQRSTUVWXYZabcdefghijklmnopqrstuvwxyz1234567890 !?.-;\"\n",
    "    new_text = \"\"\n",
    "    line = source.readline()\n",
    "    while line != \"\":\n",
    "        for char in line:\n",
    "            if char in SYMBOLS:\n",
    "                char_index = SYMBOLS.find(char)\n",
    "                if mode == \"encrypt\":\n",
    "                    new_index = char_index + key\n",
    "                elif mode == \"decrypt\":\n",
    "                    new_index = char_index - key\n",
    "                \n",
    "                if new_index >= len(SYMBOLS):\n",
    "                    new_index = new_index - len(SYMBOLS)\n",
    "                elif new_index < 0:\n",
    "                    new_index = new_index + len(SYMBOLS)\n",
    "                new_text += SYMBOLS[new_index]\n",
    "        destination.write(new_text)\n",
    "        line  = source.readline()"
   ]
  },
  {
   "cell_type": "markdown",
   "metadata": {},
   "source": [
    "**[Open the decrypted file](student_folder/.labs/decrypted.txt)**"
   ]
  },
  {
   "cell_type": "markdown",
   "metadata": {},
   "source": [
    "<details open=\"\"><summary><strong>Source Text</strong></summary>\n",
    "\n",
    "The original text for this lab is the [opening paragraph](http://www.gutenberg.org/files/55/55-h/55-h.htm#chap01) from L. Frank Baum's  *The Wizard of Oz* .\n",
    "\n",
    "</details>"
   ]
  },
  {
   "cell_type": "markdown",
   "metadata": {},
   "source": [
    "\n",
    "## Lab Question\n",
    "\n",
    "How would the output have changed if `writelines` was used instead of `write`?\n",
    "\n",
    "- There would have been an error\n",
    "- The output would have been written more than once\n",
    "- **The output would have been the exact same**\n",
    "- `writelines` would have added an `\"s\"` to end of each line\n",
    "\n",
    "The output would have been exactly the same. The `write` method writes one string to the output file. `writelines` can write a single string and it can write a list of strings to the output file. Since the program was only writing a single line at a time, there would have been no change in the output."
   ]
  }
 ],
 "metadata": {
  "kernelspec": {
   "display_name": "Python 3.10.4 64-bit",
   "language": "python",
   "name": "python3"
  },
  "language_info": {
   "codemirror_mode": {
    "name": "ipython",
    "version": 3
   },
   "file_extension": ".py",
   "mimetype": "text/x-python",
   "name": "python",
   "nbconvert_exporter": "python",
   "pygments_lexer": "ipython3",
   "version": "3.10.4"
  },
  "orig_nbformat": 4,
  "vscode": {
   "interpreter": {
    "hash": "12d9efd1b418ad7485587f2da0512ee7fc7c20b6462fdb2a696d6f33bbf19b58"
   }
  }
 },
 "nbformat": 4,
 "nbformat_minor": 2
}
