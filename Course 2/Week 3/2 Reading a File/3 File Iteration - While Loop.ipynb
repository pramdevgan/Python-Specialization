{
 "cells": [
  {
   "cell_type": "markdown",
   "metadata": {},
   "source": [
    "# **File Iteration - While Loop**\n",
    "---\n",
    "## Readline vs. Readlines\n",
    "\n",
    "The `readlines` method reads all of the lines at once and returns them in a list. There is another method called `readline`. The `readline` method returns only one line from the text file. Python automatically keeps track of which lines have been read, and which have not."
   ]
  },
  {
   "cell_type": "code",
   "execution_count": 2,
   "metadata": {},
   "outputs": [
    {
     "name": "stdout",
     "output_type": "stream",
     "text": [
      "Python was created by Guido van Rossum.\n",
      "\n"
     ]
    }
   ],
   "source": [
    "with open(\"student_folder/text/read_practice.txt\", 'r') as read_file:\n",
    "    print(read_file.readline())"
   ]
  },
  {
   "cell_type": "markdown",
   "metadata": {},
   "source": [
    "## What happens if you:\n",
    "\n",
    "* Change `readline()` to `readlines()`?\n",
    "* Change the code to look like this:\n",
    "\n",
    "```python\n",
    "with open(\"student_folder/text/read_practice.txt\", \"r\") as read_file:\n",
    "    print(read_file.readline(), end=\"\")\n",
    "    print(read_file.readline(), end=\"\")\n",
    "```"
   ]
  },
  {
   "cell_type": "code",
   "execution_count": 4,
   "metadata": {},
   "outputs": [
    {
     "name": "stdout",
     "output_type": "stream",
     "text": [
      "['Python was created by Guido van Rossum.\\n', \"It was named for the TV show Monty Python's Flying Circus.\\n\", 'Version 1 was released in January 1994.\\n', 'Python 2.0 was released in October 2000.\\n', 'The third version came out in December 2008.']"
     ]
    }
   ],
   "source": [
    "with open (\"student_folder/text/read_practice.txt\", \"r\") as read_file:\n",
    "    print(read_file.readlines(), end=\"\")"
   ]
  },
  {
   "cell_type": "code",
   "execution_count": 5,
   "metadata": {},
   "outputs": [
    {
     "name": "stdout",
     "output_type": "stream",
     "text": [
      "Python was created by Guido van Rossum.\n",
      "It was named for the TV show Monty Python's Flying Circus.\n"
     ]
    }
   ],
   "source": [
    "with open(\"student_folder/text/read_practice.txt\", \"r\") as read_file:\n",
    "    print(read_file.readline(), end=\"\")\n",
    "    print(read_file.readline(), end=\"\")"
   ]
  },
  {
   "cell_type": "markdown",
   "metadata": {},
   "source": [
    "## While Loop\n",
    "\n",
    "While loops can also iterate over a text file. Remember, while loops require a stop condition to keep it from becoming an infinite loop. Each text file ends with an empty string (`\"\"`). That is how Python knows it has reached the end of a file. So a while loop should each line of the text file until it reaches the empty string. Because of this, iterating over a text with a while loop will use `readline` instead of `readlines`. It is important to read the first line of the text file **before** starting the while loop. And, read the next line of the text file **inside** the while loop as well.\n",
    "\n",
    "![Reading a File with a While Loop](https://apollo-media.codio.com/media%2F1%2Fc23d3b74f260944f3db0937a6f442d6f-8b538b7a-96a9-4435-a365-e4f108b8806a.webp)"
   ]
  },
  {
   "cell_type": "code",
   "execution_count": 6,
   "metadata": {},
   "outputs": [
    {
     "name": "stdout",
     "output_type": "stream",
     "text": [
      "Python was created by Guido van Rossum.\n",
      "\n",
      "It was named for the TV show Monty Python's Flying Circus.\n",
      "\n",
      "Version 1 was released in January 1994.\n",
      "\n",
      "Python 2.0 was released in October 2000.\n",
      "\n",
      "The third version came out in December 2008.\n"
     ]
    }
   ],
   "source": [
    "with open (\"student_folder/text/read_practice.txt\", \"r\") as read_file:\n",
    "    line = read_file.readline()\n",
    "    while line != \"\":\n",
    "        print(line)\n",
    "        line = read_file.readline()"
   ]
  },
  {
   "cell_type": "markdown",
   "metadata": {},
   "source": [
    "## What happens if you:\n",
    "\n",
    "* Chage the first `line = read_file.readline()` to `readlines()`?\n",
    "* Remove the first `line = read_file.readline()`?\n",
    "* Put back the first `line = read_file.readline()` and remove the second one?"
   ]
  },
  {
   "cell_type": "code",
   "execution_count": 7,
   "metadata": {},
   "outputs": [
    {
     "name": "stdout",
     "output_type": "stream",
     "text": [
      "['Python was created by Guido van Rossum.\\n', \"It was named for the TV show Monty Python's Flying Circus.\\n\", 'Version 1 was released in January 1994.\\n', 'Python 2.0 was released in October 2000.\\n', 'The third version came out in December 2008.']\n"
     ]
    }
   ],
   "source": [
    "with open(\"student_folder/text/read_practice.txt\", \"r\") as read_file:\n",
    "    line = read_file.readlines()\n",
    "    while line != \"\":\n",
    "        print(line)\n",
    "        line = read_file.readline()"
   ]
  },
  {
   "cell_type": "code",
   "execution_count": 9,
   "metadata": {},
   "outputs": [],
   "source": [
    "with open(\"student_folder/text/read_practice.txt\", \"r\") as read_file:\n",
    "    while line != \"\":\n",
    "        print(line)\n",
    "        line = read_file.readline()"
   ]
  },
  {
   "cell_type": "code",
   "execution_count": null,
   "metadata": {},
   "outputs": [],
   "source": [
    "with open(\"student_folder/text/read_practice.txt\", 'r') as read_file:\n",
    "    line = read_file.readline()\n",
    "    while line != \"\":\n",
    "        print(line)\n",
    "# It Will loop through the file in the infinite loop"
   ]
  }
 ],
 "metadata": {
  "kernelspec": {
   "display_name": "Python 3.10.4 64-bit",
   "language": "python",
   "name": "python3"
  },
  "language_info": {
   "codemirror_mode": {
    "name": "ipython",
    "version": 3
   },
   "file_extension": ".py",
   "mimetype": "text/x-python",
   "name": "python",
   "nbconvert_exporter": "python",
   "pygments_lexer": "ipython3",
   "version": "3.10.4"
  },
  "orig_nbformat": 4,
  "vscode": {
   "interpreter": {
    "hash": "12d9efd1b418ad7485587f2da0512ee7fc7c20b6462fdb2a696d6f33bbf19b58"
   }
  }
 },
 "nbformat": 4,
 "nbformat_minor": 2
}
