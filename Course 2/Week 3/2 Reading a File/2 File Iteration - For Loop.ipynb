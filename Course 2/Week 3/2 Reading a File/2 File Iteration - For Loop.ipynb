{
 "cells": [
  {
   "cell_type": "markdown",
   "metadata": {},
   "source": [
    "# File Iteration - For Loop\n",
    "\n",
    "## File Iteration - For Loop\n",
    "\n",
    "The `readlines` method returns all of the text at once. A loop allows you to deal with each line individually. To print out the text as it would normally appear, use a for loop to print each line of the text."
   ]
  },
  {
   "cell_type": "code",
   "execution_count": 1,
   "metadata": {},
   "outputs": [
    {
     "name": "stdout",
     "output_type": "stream",
     "text": [
      "Python was created by Guido van Rossum.\n",
      "\n",
      "It was named for the TV show Monty Python's Flying Circus.\n",
      "\n",
      "Version 1 was released in January 1994.\n",
      "\n",
      "Python 2.0 was released in October 2000.\n",
      "\n",
      "The third version came out in December 2008.\n"
     ]
    }
   ],
   "source": [
    "with open(\"student_folder/text/read_practice.txt\", 'r') as read_file:\n",
    "    for line in read_file.readlines():\n",
    "        print(line)"
   ]
  },
  {
   "cell_type": "markdown",
   "metadata": {},
   "source": [
    "**Reading a file multiple times**\n",
    "\n",
    "When Python reaches the end of a file with `readlines`, it will not start back at the beginning until you close the file and then reopen it."
   ]
  },
  {
   "cell_type": "markdown",
   "metadata": {},
   "source": [
    "## What happens if you:\n",
    "\n",
    "* Change the print statement to `print(line.upper())`?\n",
    "* Change the print statement to `print(line.replace(\"a\", \"\\U0001F61C\")))`?"
   ]
  },
  {
   "cell_type": "code",
   "execution_count": 3,
   "metadata": {},
   "outputs": [
    {
     "name": "stdout",
     "output_type": "stream",
     "text": [
      "PYTHON WAS CREATED BY GUIDO VAN ROSSUM.\n",
      "\n",
      "IT WAS NAMED FOR THE TV SHOW MONTY PYTHON'S FLYING CIRCUS.\n",
      "\n",
      "VERSION 1 WAS RELEASED IN JANUARY 1994.\n",
      "\n",
      "PYTHON 2.0 WAS RELEASED IN OCTOBER 2000.\n",
      "\n",
      "THE THIRD VERSION CAME OUT IN DECEMBER 2008.\n"
     ]
    }
   ],
   "source": [
    "with open(\"student_folder/text/read_practice.txt\", 'r') as read_file:\n",
    "    for line in read_file.readlines():\n",
    "        print(line.upper())"
   ]
  },
  {
   "cell_type": "code",
   "execution_count": 5,
   "metadata": {},
   "outputs": [
    {
     "name": "stdout",
     "output_type": "stream",
     "text": [
      "Python w😜s cre😜ted by Guido v😜n Rossum.\n",
      "\n",
      "It w😜s n😜med for the TV show Monty Python's Flying Circus.\n",
      "\n",
      "Version 1 w😜s rele😜sed in J😜nu😜ry 1994.\n",
      "\n",
      "Python 2.0 w😜s rele😜sed in October 2000.\n",
      "\n",
      "The third version c😜me out in December 2008.\n"
     ]
    }
   ],
   "source": [
    "with open(\"student_folder/text/read_practice.txt\", \"r\") as read_file:\n",
    "    for line in read_file.readlines():\n",
    "        print(line.replace(\"a\", \"\\U0001F61C\"))"
   ]
  },
  {
   "cell_type": "markdown",
   "metadata": {},
   "source": [
    "## Extra Lines\n",
    "\n",
    "You probably noticed that the printed text has an empty line between lines of text. If you open the original text file, there are no empty lines. The original text has a newline character at the end of each line. The print command also adds a newline character by default. So Python prints two new lines: the first one goes to the next line, the second one creates the blank line. Use `end=\"\"` in the print statement to remove the blank line. This replaces the newline character with an empty string."
   ]
  },
  {
   "cell_type": "code",
   "execution_count": 6,
   "metadata": {},
   "outputs": [
    {
     "name": "stdout",
     "output_type": "stream",
     "text": [
      "Python was created by Guido van Rossum.\n",
      "It was named for the TV show Monty Python's Flying Circus.\n",
      "Version 1 was released in January 1994.\n",
      "Python 2.0 was released in October 2000.\n",
      "The third version came out in December 2008."
     ]
    }
   ],
   "source": [
    "with open(\"student_folder/text/read_practice.txt\", \"r\") as file_read:\n",
    "    for line in file_read.readlines():\n",
    "        print(line, end=\"\")"
   ]
  },
  {
   "cell_type": "markdown",
   "metadata": {},
   "source": [
    "## What happens if you:\n",
    "\n",
    "* Change the print statement to `print(line, end=\"!\")`?\n",
    "* Change the print statement to `print(line, end=\"\\n\\n\\n\")`?"
   ]
  },
  {
   "cell_type": "code",
   "execution_count": 7,
   "metadata": {},
   "outputs": [
    {
     "name": "stdout",
     "output_type": "stream",
     "text": [
      "Python was created by Guido van Rossum.\n",
      "!It was named for the TV show Monty Python's Flying Circus.\n",
      "!Version 1 was released in January 1994.\n",
      "!Python 2.0 was released in October 2000.\n",
      "!The third version came out in December 2008.!"
     ]
    }
   ],
   "source": [
    "with open(\"student_folder/text/read_practice.txt\", \"r\") as read_file:\n",
    "    for line in read_file.readlines():\n",
    "        print(line, end=\"!\")"
   ]
  },
  {
   "cell_type": "code",
   "execution_count": 8,
   "metadata": {},
   "outputs": [
    {
     "name": "stdout",
     "output_type": "stream",
     "text": [
      "Python was created by Guido van Rossum.\n",
      "\n",
      "\n",
      "\n",
      "It was named for the TV show Monty Python's Flying Circus.\n",
      "\n",
      "\n",
      "\n",
      "Version 1 was released in January 1994.\n",
      "\n",
      "\n",
      "\n",
      "Python 2.0 was released in October 2000.\n",
      "\n",
      "\n",
      "\n",
      "The third version came out in December 2008.\n",
      "\n",
      "\n"
     ]
    }
   ],
   "source": [
    "with open(\"student_folder/text/read_practice.txt\", 'r') as read_file:\n",
    "    for line in read_file.readlines():\n",
    "        print(line, end=\"\\n\\n\\n\")"
   ]
  },
  {
   "cell_type": "markdown",
   "metadata": {},
   "source": [
    "## Reading Question\n",
    "\n",
    "What is the difference between these blocks of code?\n",
    "\n",
    "### Code Block 1\n",
    "\n",
    "```python\n",
    "with open(\"my_file.txt\", \"r\") as read_file:\n",
    "    print(read_file.readlines())\n",
    "```\n",
    "\n",
    "### Code Block 2\n",
    "\n",
    "```python\n",
    "with open(\"my_file.txt\", \"r\") as read_file:\n",
    "    for line in read_file.readlines():\n",
    "        print(line)\n",
    "```\n",
    "- Both code blocks produce lists of strings.\n",
    "- Code block 1 produces a “normal” looking text. Code block 2 produces a list of strings.\n",
    "- **Code block 1 produces a list of strings. Code block 2 produces a “normal” looking text.**\n",
    "- Both code blocks produce “normal” looking text."
   ]
  },
  {
   "cell_type": "code",
   "execution_count": 9,
   "metadata": {},
   "outputs": [
    {
     "name": "stdout",
     "output_type": "stream",
     "text": [
      "['Hello Param\\n', 'How are You!\\n', 'I hope you are fine']\n"
     ]
    }
   ],
   "source": [
    "with open(\"student_folder/text/my_file.txt\", \"r\") as read_file:\n",
    "    print(read_file.readlines())"
   ]
  },
  {
   "cell_type": "code",
   "execution_count": 11,
   "metadata": {},
   "outputs": [
    {
     "name": "stdout",
     "output_type": "stream",
     "text": [
      "Hello Param\n",
      "\n",
      "How are You!\n",
      "\n",
      "I hope you are fine\n"
     ]
    }
   ],
   "source": [
    "with open(\"student_folder/text/my_file.txt\", \"r\") as read_file:\n",
    "    for line in read_file.readlines():\n",
    "        print(line)"
   ]
  },
  {
   "cell_type": "markdown",
   "metadata": {},
   "source": [
    "Code block 1 produces a list of all of the strings. So you will see quotation marks, square brackets (`[`), and newline characters (`\\n`).\n",
    "\n",
    "Code block 2 loops through the list of strings and prints each string. There are no square brackets, quotation marks, or newline characters. The text appears \"normal\"."
   ]
  }
 ],
 "metadata": {
  "kernelspec": {
   "display_name": "Python 3.10.4 64-bit",
   "language": "python",
   "name": "python3"
  },
  "language_info": {
   "codemirror_mode": {
    "name": "ipython",
    "version": 3
   },
   "file_extension": ".py",
   "mimetype": "text/x-python",
   "name": "python",
   "nbconvert_exporter": "python",
   "pygments_lexer": "ipython3",
   "version": "3.10.4"
  },
  "orig_nbformat": 4,
  "vscode": {
   "interpreter": {
    "hash": "12d9efd1b418ad7485587f2da0512ee7fc7c20b6462fdb2a696d6f33bbf19b58"
   }
  }
 },
 "nbformat": 4,
 "nbformat_minor": 2
}
