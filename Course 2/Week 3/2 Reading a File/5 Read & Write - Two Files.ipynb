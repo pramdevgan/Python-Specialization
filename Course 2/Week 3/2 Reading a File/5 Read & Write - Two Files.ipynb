{
 "cells": [
  {
   "cell_type": "markdown",
   "metadata": {},
   "source": [
    "# Read & Write - Two Files\n",
    "---\n",
    "## Read from One File and Write to Another\n",
    "\n",
    "It is possible to open a file in read mode and another in write mode. Information can be passed from the reading file to the writing file. Like previous examples, `with open` will be used to open both files at once. The code below will open the file `read_practice` in read mode, create `destination.txt` in write mode, read the lines from the source file, and write these lines to the destination file."
   ]
  },
  {
   "cell_type": "code",
   "execution_count": 1,
   "metadata": {},
   "outputs": [],
   "source": [
    "with open(\"student_folder/text/read_practice.txt\", \"r\") as source, open(\"student_folder/text/destination.txt\", \"w\") as dest:\n",
    "    for line in source.readlines():\n",
    "        dest.write(line)"
   ]
  },
  {
   "cell_type": "markdown",
   "metadata": {},
   "source": [
    "**[Open Destination.txt](student_folder/text/destination.txt)**"
   ]
  },
  {
   "cell_type": "markdown",
   "metadata": {},
   "source": [
    "**`write` vs `writelines`**  \n",
    "In the code above the `write` method is being used to write text to a file. Previously, the method `writelines` was used to write text to a file. What's the difference? `writelines` can accept a single string or a list of strings as shown in previous lessons. `write`, however, can only accept a single string."
   ]
  },
  {
   "cell_type": "code",
   "execution_count": 2,
   "metadata": {},
   "outputs": [],
   "source": [
    "with open(\"student_folder/text/read_practice.txt\", \"r\") as source, open(\"student_folder/text/destination.txt\", \"w\") as dest:\n",
    "    for line in source.readlines():\n",
    "        dest.write(line.upper())"
   ]
  },
  {
   "cell_type": "markdown",
   "metadata": {},
   "source": [
    "**[Open destination.txt](student_folder/text/destination.txt)**"
   ]
  },
  {
   "cell_type": "code",
   "execution_count": 3,
   "metadata": {},
   "outputs": [
    {
     "ename": "UnsupportedOperation",
     "evalue": "not writable",
     "output_type": "error",
     "traceback": [
      "\u001b[1;31m---------------------------------------------------------------------------\u001b[0m",
      "\u001b[1;31mUnsupportedOperation\u001b[0m                      Traceback (most recent call last)",
      "\u001b[1;32mc:\\Users\\vpram\\Python Specialization\\Course 2\\Week 3\\2 Reading a File\\5 Read & Write - Two Files.ipynb Cell 7\u001b[0m in \u001b[0;36m<module>\u001b[1;34m\u001b[0m\n\u001b[0;32m      <a href='vscode-notebook-cell:/c%3A/Users/vpram/Python%20Specialization/Course%202/Week%203/2%20Reading%20a%20File/5%20Read%20%26%20Write%20-%20Two%20Files.ipynb#X12sZmlsZQ%3D%3D?line=1'>2</a>\u001b[0m \u001b[39mfor\u001b[39;00m line \u001b[39min\u001b[39;00m source\u001b[39m.\u001b[39mreadlines():\n\u001b[0;32m      <a href='vscode-notebook-cell:/c%3A/Users/vpram/Python%20Specialization/Course%202/Week%203/2%20Reading%20a%20File/5%20Read%20%26%20Write%20-%20Two%20Files.ipynb#X12sZmlsZQ%3D%3D?line=2'>3</a>\u001b[0m     line \u001b[39m+\u001b[39m\u001b[39m=\u001b[39m \u001b[39m\"\u001b[39m\u001b[39m\\n\u001b[39;00m\u001b[39m\"\u001b[39m\n\u001b[1;32m----> <a href='vscode-notebook-cell:/c%3A/Users/vpram/Python%20Specialization/Course%202/Week%203/2%20Reading%20a%20File/5%20Read%20%26%20Write%20-%20Two%20Files.ipynb#X12sZmlsZQ%3D%3D?line=3'>4</a>\u001b[0m     dest\u001b[39m.\u001b[39;49mwrite(line)\n",
      "\u001b[1;31mUnsupportedOperation\u001b[0m: not writable"
     ]
    }
   ],
   "source": [
    "with open(\"student_folder/text/read_practice.txt\", \"r\") as source, open(\"student_folder/text/destination.txt\", \"r\") as dest:\n",
    "    for line in source.readlines():\n",
    "        line += \"\\n\"\n",
    "        dest.write(line)"
   ]
  },
  {
   "cell_type": "markdown",
   "metadata": {},
   "source": [
    "## Reading Question\n",
    "\n",
    "Look at the two code examples carefully. Fill in the blanks below based on these code examples.\n",
    "\n",
    "### Code Example 1\n",
    "\n",
    "```python\n",
    "with open(\"source.txt\", \"r\") as source, open(\"dest.txt\", \"w\") as dest:\n",
    "    for line in source.readlines():\n",
    "        dest.write(line)\n",
    "```\n",
    "\n",
    "### Code Example 2\n",
    "\n",
    "```python\n",
    "with open(\"source.txt\", \"w\") as source, open(\"dest.txt\", \"r\") as dest:\n",
    "    for line in dest.readlines():\n",
    "        source.write(line)\n",
    "```\n",
    "In Code Example 1, Python reads from the file stored in the variable\n",
    "**`source`** and writes to file stored in variable **`dest`**.\n",
    "\n",
    "In Code Example 2, Python reads from the file stored in the variable\n",
    "**`dest`** and writes to file stored in variable **`source`**.\n",
    "\n",
    "In the first code example, Python is reading from the file represented by the variable `source` and writes to the file represented by the variable `dest`.\n",
    "\n",
    "In the second code example, Python is reading from the file represented by the variable `dest` and writes to the file represented by the variable `source`."
   ]
  }
 ],
 "metadata": {
  "kernelspec": {
   "display_name": "Python 3.10.4 64-bit",
   "language": "python",
   "name": "python3"
  },
  "language_info": {
   "codemirror_mode": {
    "name": "ipython",
    "version": 3
   },
   "file_extension": ".py",
   "mimetype": "text/x-python",
   "name": "python",
   "nbconvert_exporter": "python",
   "pygments_lexer": "ipython3",
   "version": "3.10.4"
  },
  "orig_nbformat": 4,
  "vscode": {
   "interpreter": {
    "hash": "12d9efd1b418ad7485587f2da0512ee7fc7c20b6462fdb2a696d6f33bbf19b58"
   }
  }
 },
 "nbformat": 4,
 "nbformat_minor": 2
}
