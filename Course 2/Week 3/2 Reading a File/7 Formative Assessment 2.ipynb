{
 "cells": [
  {
   "cell_type": "markdown",
   "metadata": {},
   "source": [
    "# Formative Assessment 2\n",
    "---\n",
    "## Formative Assessment\n",
    "\n",
    "Assume you have a text file named `my_file.txt`. Fill in the blanks below so the code reads the file and prints each line of the text file.\n",
    "\n",
    "```python\n",
    "with open(\"my_file.txt\", \"r\") as input_file:\n",
    "    line = input_file.readline()\n",
    "    while line != \"\":\n",
    "        print(line)\n",
    "        line = input_file.readline()\n",
    "```"
   ]
  },
  {
   "cell_type": "code",
   "execution_count": 1,
   "metadata": {},
   "outputs": [
    {
     "name": "stdout",
     "output_type": "stream",
     "text": [
      "Hello Param\n",
      "\n",
      "How are You!\n",
      "\n",
      "I hope you are fine\n"
     ]
    }
   ],
   "source": [
    "with open(\"student_folder/text/my_file.txt\", \"r\") as input_file:\n",
    "    line = input_file.readline()\n",
    "    while line != '':\n",
    "        print(line)\n",
    "        line = input_file.readline()"
   ]
  },
  {
   "cell_type": "markdown",
   "metadata": {},
   "source": [
    "In order to print the content of a file, you need to read it first. The first blank sets the mode to read, `\"r\"`. The second blank is `readline()` so that the program can read the first line of the text file. The while loop should continue to run until it reaches the end of the file. The empty string (`\"\"`) is the end of the file. So the third blank is `!=`. To print the contents of the text file, blank four is the variable `line`. Finally, the loop needs the next line in the text file, so blank five is `readline()`."
   ]
  }
 ],
 "metadata": {
  "kernelspec": {
   "display_name": "Python 3.10.4 64-bit",
   "language": "python",
   "name": "python3"
  },
  "language_info": {
   "codemirror_mode": {
    "name": "ipython",
    "version": 3
   },
   "file_extension": ".py",
   "mimetype": "text/x-python",
   "name": "python",
   "nbconvert_exporter": "python",
   "pygments_lexer": "ipython3",
   "version": "3.10.4"
  },
  "orig_nbformat": 4,
  "vscode": {
   "interpreter": {
    "hash": "12d9efd1b418ad7485587f2da0512ee7fc7c20b6462fdb2a696d6f33bbf19b58"
   }
  }
 },
 "nbformat": 4,
 "nbformat_minor": 2
}
