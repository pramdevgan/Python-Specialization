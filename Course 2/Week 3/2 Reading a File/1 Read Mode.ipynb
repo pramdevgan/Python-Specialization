{
 "cells": [
  {
   "cell_type": "markdown",
   "metadata": {},
   "source": [
    "# Read Mode\n",
    "\n",
    "## Reading a Non-Existing File\n",
    "\n",
    "Read mode works much like write or append mode. Use a `\"r\"` when opening a file. Notice, there a file named `read_practice.txt`. Remove the underscore from the filename to see if a new file will be created like with the write and append modes."
   ]
  },
  {
   "cell_type": "code",
   "execution_count": 1,
   "metadata": {},
   "outputs": [
    {
     "ename": "FileNotFoundError",
     "evalue": "[Errno 2] No such file or directory: 'student_folder/text/readpractice.txt'",
     "output_type": "error",
     "traceback": [
      "\u001b[1;31m---------------------------------------------------------------------------\u001b[0m",
      "\u001b[1;31mFileNotFoundError\u001b[0m                         Traceback (most recent call last)",
      "\u001b[1;32mc:\\Users\\vpram\\Python Specialization\\Course 2\\Week 3\\2 Reading a File\\1 Read Mode.ipynb Cell 2\u001b[0m in \u001b[0;36m<module>\u001b[1;34m\u001b[0m\n\u001b[1;32m----> <a href='vscode-notebook-cell:/c%3A/Users/vpram/Python%20Specialization/Course%202/Week%203/2%20Reading%20a%20File/1%20Read%20Mode.ipynb#W2sZmlsZQ%3D%3D?line=0'>1</a>\u001b[0m read_file \u001b[39m=\u001b[39m \u001b[39mopen\u001b[39;49m(\u001b[39m\"\u001b[39;49m\u001b[39mstudent_folder/text/readpractice.txt\u001b[39;49m\u001b[39m\"\u001b[39;49m, \u001b[39m\"\u001b[39;49m\u001b[39mr\u001b[39;49m\u001b[39m\"\u001b[39;49m)\n\u001b[0;32m      <a href='vscode-notebook-cell:/c%3A/Users/vpram/Python%20Specialization/Course%202/Week%203/2%20Reading%20a%20File/1%20Read%20Mode.ipynb#W2sZmlsZQ%3D%3D?line=1'>2</a>\u001b[0m read_file\u001b[39m.\u001b[39mclose()\n",
      "\u001b[1;31mFileNotFoundError\u001b[0m: [Errno 2] No such file or directory: 'student_folder/text/readpractice.txt'"
     ]
    }
   ],
   "source": [
    "read_file = open(\"student_folder/text/readpractice.txt\", \"r\")\n",
    "read_file.close()"
   ]
  },
  {
   "cell_type": "markdown",
   "metadata": {},
   "source": [
    "Read mode does not create a new file if the file does not exist. You can only read previously existing files."
   ]
  },
  {
   "cell_type": "markdown",
   "metadata": {},
   "source": [
    "## Reading a File\n",
    "\n",
    "Return the underscore to the filename so that it is `read_practice.txt`. Use a print statement to print the contents of the file to the screen."
   ]
  },
  {
   "cell_type": "code",
   "execution_count": 2,
   "metadata": {},
   "outputs": [
    {
     "name": "stdout",
     "output_type": "stream",
     "text": [
      "<_io.TextIOWrapper name='student_folder/text/read_practice.txt' mode='r' encoding='cp1252'>\n"
     ]
    }
   ],
   "source": [
    "read_file = open(\"student_folder/text/read_practice.txt\", \"r\")\n",
    "print(read_file)\n",
    "read_file.close()"
   ]
  },
  {
   "cell_type": "markdown",
   "metadata": {},
   "source": [
    "Notice that Python does not print the contents of the text file. Instead it prints information about the file object (name, mode, and encoding). If you want to print the contents of a text file, use the `readlines` method."
   ]
  },
  {
   "cell_type": "markdown",
   "metadata": {},
   "source": [
    "**UTF-8**\n",
    "\n",
    "There are many characters that go beyond letters and numbers. For example, punctuation, accents, symbols, emojis, etc. There needs to be a way to use these characters in a way that everybody can understand. Encoding is an agreed upon method for representing these characters. UTF-8 is by far the most popular way to encode text today. If you want to know more, check out this [article](http://kunststube.net/encoding/)."
   ]
  },
  {
   "cell_type": "code",
   "execution_count": 1,
   "metadata": {},
   "outputs": [
    {
     "name": "stdout",
     "output_type": "stream",
     "text": [
      "['Python was created by Guido van Rossum.\\n', \"It was named for the TV show Monty Python's Flying Circus.\\n\", 'Version 1 was released in January 1994.\\n', 'Python 2.0 was released in October 2000.\\n', 'The third version came out in December 2008.']\n"
     ]
    }
   ],
   "source": [
    "read_file = open(\"student_folder/text/read_practice.txt\", \"r\")\n",
    "print(read_file.readlines())\n",
    "read_file.close()"
   ]
  },
  {
   "cell_type": "markdown",
   "metadata": {},
   "source": [
    "Notice how the text is a list of strings, and the newline character (`\\n`) is a part of the output."
   ]
  },
  {
   "cell_type": "markdown",
   "metadata": {},
   "source": [
    "## Reading Question\n",
    "\n",
    "What is the biggest difference between read mode and write/append modes when referencing a file that does not exist?\n",
    "\n",
    "- All three will create a new file when reading, writing, or appending a file that does not exist.\n",
    "- Read and write will create a new file, but append will cause an error if the file does not exist.\n",
    "- All three will cause an error when reading, writing, or appending a file that does not exist.\n",
    "- **Reading a file that does not exist will cause an error. Writing or appending a file that does not exist will cause the creation of this file.**\n",
    "\n",
    "Both write and append modes will create a file if it does not already exist. Read mode will cause an error if the file does not already exist."
   ]
  }
 ],
 "metadata": {
  "kernelspec": {
   "display_name": "Python 3.10.4 64-bit",
   "language": "python",
   "name": "python3"
  },
  "language_info": {
   "codemirror_mode": {
    "name": "ipython",
    "version": 3
   },
   "file_extension": ".py",
   "mimetype": "text/x-python",
   "name": "python",
   "nbconvert_exporter": "python",
   "pygments_lexer": "ipython3",
   "version": "3.10.4"
  },
  "orig_nbformat": 4,
  "vscode": {
   "interpreter": {
    "hash": "12d9efd1b418ad7485587f2da0512ee7fc7c20b6462fdb2a696d6f33bbf19b58"
   }
  }
 },
 "nbformat": 4,
 "nbformat_minor": 2
}
