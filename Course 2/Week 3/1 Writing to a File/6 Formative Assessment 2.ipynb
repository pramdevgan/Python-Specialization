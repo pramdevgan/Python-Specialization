{
 "cells": [
  {
   "cell_type": "markdown",
   "metadata": {},
   "source": [
    "# Formative Assessment \n",
    "\n",
    "## Formative Assessment\n",
    "\n",
    "Assume there is a text file named `hand_grenade.txt`. Rearrange the code blocks below to create a program that will add the following text to the file. Your program should not alter any information already in the text file.\n",
    "\n",
    "```\n",
    "And Saint Attila raised the hand grenade up on high, saying, \"O Lord, bless this Thy hand grenade that, with it, Thou mayest blow Thine enemies to tiny bits in Thy mercy.\"\n",
    "```\n",
    "\n",
    " **Note** , not all of the code blocks will be used.\n",
    "\n",
    "Drag from here\n",
    "\n",
    "* output_file.writelines('Thou mayest blow Thine enemies to tiny bits in Thy mercy.\"')\n",
    "* output_file.writelines('And Saint Attila raised the hand grenade up on high, saying, ')\n",
    "* with open(\"hand_grenade.txt\", \"r\") as output_file:\n",
    "* with open(\"hand_grenade.txt\", \"a\") as output_file:\n",
    "* with open(\"hand_grenade.txt\", \"w\") as output_file:\n",
    "* output_file.writelines('\"O Lord, bless this Thy hand grenade that, with it, ')\n",
    "\n",
    "Construct your solution here\n",
    "\n",
    "`with open(\"hand_grenade.txt\", \"a\") as output_file:` <br>\n",
    "&emsp; &emsp; `output_file.writelines('And Saint Attila raised the hand grenade up on high, saying, ')` <br>\n",
    "&emsp; &emsp; `output_file.writelines('\"O Lord, bless this Thy hand grenade that, with it, ')` <br>\n",
    "&emsp; &emsp; `output_file.writelines('Thou mayest blow Thine enemies to tiny bits in Thy mercy.\"')` <br>"
   ]
  },
  {
   "cell_type": "code",
   "execution_count": 2,
   "metadata": {},
   "outputs": [],
   "source": [
    "with open(\"hand_grenade.txt\", \"a\") as output_file:\n",
    "    output_file.writelines('And Saint Attila raised the hand grenade up on high, saying, ')\n",
    "    output_file.writelines('\"O Lord, bless this Thy hand grenade that, with it, ')\n",
    "    output_file.writelines('Thou mayest blow Thine enemies to tiny bits in Thy mercy.\"')"
   ]
  },
  {
   "cell_type": "markdown",
   "metadata": {},
   "source": [
    "**[Open hand_grenade.txt](student_folder/text/hand_grenade.txt)**"
   ]
  }
 ],
 "metadata": {
  "kernelspec": {
   "display_name": "Python 3.10.4 64-bit",
   "language": "python",
   "name": "python3"
  },
  "language_info": {
   "codemirror_mode": {
    "name": "ipython",
    "version": 3
   },
   "file_extension": ".py",
   "mimetype": "text/x-python",
   "name": "python",
   "nbconvert_exporter": "python",
   "pygments_lexer": "ipython3",
   "version": "3.10.4"
  },
  "orig_nbformat": 4,
  "vscode": {
   "interpreter": {
    "hash": "12d9efd1b418ad7485587f2da0512ee7fc7c20b6462fdb2a696d6f33bbf19b58"
   }
  }
 },
 "nbformat": 4,
 "nbformat_minor": 2
}
