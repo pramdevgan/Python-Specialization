{
 "cells": [
  {
   "cell_type": "markdown",
   "metadata": {},
   "source": [
    "# Append Mode\n",
    "---\n",
    "## Append Mode\n",
    "\n",
    "Write mode has some unusual behavior. Writing to a non-existent file creates the file. Writing to an already existing file erases the previous contents of the file. The append mode will also create a file if one does not already exist. However, append mode will not erase content already saved to the file. It will add the text to the end of the file. Run this code and look at the output."
   ]
  },
  {
   "cell_type": "code",
   "execution_count": 1,
   "metadata": {},
   "outputs": [],
   "source": [
    "output_file = open(\"student_folder/text/practice3.txt\", \"w\")\n",
    "output_file.writelines(\"First sentence\")\n",
    "output_file.close()"
   ]
  },
  {
   "cell_type": "markdown",
   "metadata": {},
   "source": [
    "**[Open practice3.txt](student_folder/text/practice3.txt)**"
   ]
  },
  {
   "cell_type": "markdown",
   "metadata": {},
   "source": [
    "Now append the following text to the file."
   ]
  },
  {
   "cell_type": "code",
   "execution_count": 2,
   "metadata": {},
   "outputs": [],
   "source": [
    "output_file = open(\"student_folder/text/practice3.txt\",\"a\")\n",
    "output_file.writelines(\"Second sentence\")\n",
    "output_file.close()"
   ]
  },
  {
   "cell_type": "markdown",
   "metadata": {},
   "source": [
    "**[Open practice3.txt](student_folder/text/practice3.txt)**"
   ]
  },
  {
   "cell_type": "markdown",
   "metadata": {},
   "source": [
    "## What happens if you:\n",
    "\n",
    "* Change the append text to `writelines(\"\\nSecond sentence\")`?\n",
    "* Change the program to:\n",
    "\n",
    "```python\n",
    "new_text = [\"How many boards\\n\", \"Could the Mongols hoard\\n\", \"If the Mongols hordes got bored?\"]\n",
    "\n",
    "output_file = open(\"student_folder/text/practice3.txt\", \"a\")\n",
    "output_file.writelines(new_text)\n",
    "output_file.close()\n",
    "```"
   ]
  },
  {
   "cell_type": "code",
   "execution_count": 3,
   "metadata": {},
   "outputs": [],
   "source": [
    "output_file = open(\"student_folder/text/practice3.txt\",\"a\")\n",
    "output_file.writelines(\"\\nSecond sentence\")\n",
    "output_file.close()"
   ]
  },
  {
   "cell_type": "markdown",
   "metadata": {},
   "source": [
    "**[Open practice3.txt](student_folder/text/practice3.txt)**"
   ]
  },
  {
   "cell_type": "code",
   "execution_count": 4,
   "metadata": {},
   "outputs": [],
   "source": [
    "new_text = [\"How many boards\\n\", \"Could the Mongols hoard\\n\", \"If the Mongols hordes got bored?\"]\n",
    "\n",
    "output_file = open(\"student_folder/text/practice3.txt\", \"a\")\n",
    "output_file.writelines(new_text)\n",
    "output_file.close()"
   ]
  },
  {
   "cell_type": "markdown",
   "metadata": {},
   "source": [
    "**[Open practice3.txt](student_folder/text/practice3.txt)**"
   ]
  },
  {
   "cell_type": "markdown",
   "metadata": {},
   "source": [
    "## With Open\n",
    "\n",
    "Opening and closing files is an important part of working with files, but it can be tedious to perform both steps. The `with open` command combines the two lines of code. Once the end of the indented code is reached, the file is automatically closed.\n",
    "\n",
    "![With Open](https://apollo-media.codio.com/media%2F1%2Fa5234605d52c3bf9828c6e704f80d9d6-0def1bfb-a00b-4646-8192-479962b6b410.webp)"
   ]
  },
  {
   "cell_type": "code",
   "execution_count": 5,
   "metadata": {},
   "outputs": [],
   "source": [
    "with open(\"student_folder/text/practice3.txt\",\"a\") as output_file:\n",
    "    output_file.writelines(\"Some new text!\")"
   ]
  },
  {
   "cell_type": "markdown",
   "metadata": {},
   "source": [
    "**[Open practice3.txt](student_folder/text/practice3.txt)**"
   ]
  },
  {
   "cell_type": "markdown",
   "metadata": {},
   "source": [
    "## What happens if you:\n",
    "\n",
    "* Change the text in `writelines()` to `\"\\nSome new text!\"`?\n",
    "* Change the program to:\n",
    "\n",
    "```python\n",
    "with open(\"student_folder/text/practice3.txt\", \"a\") as output_file:\n",
    "    output_file.writelines(\"\\nSome new text!\")\n",
    "    output_file.writelines(\"\\nAnd some more text!\")\n",
    "    output_file.writelines(\"\\nYet even more text!\")\n",
    "```"
   ]
  },
  {
   "cell_type": "code",
   "execution_count": 6,
   "metadata": {},
   "outputs": [],
   "source": [
    "with open(\"student_folder/text/practice3.txt\", \"a\") as output_file:\n",
    "    output_file.writelines(\"\\nSome new text!\")"
   ]
  },
  {
   "cell_type": "markdown",
   "metadata": {},
   "source": [
    "**[Open practice3.txt](student_folder/text/practice3.txt)**"
   ]
  },
  {
   "cell_type": "code",
   "execution_count": 7,
   "metadata": {},
   "outputs": [],
   "source": [
    "with open(\"student_folder/text/practice3.txt\", \"a\") as output_file:\n",
    "    output_file.writelines(\"\\nSome new text!\")\n",
    "    output_file.writelines(\"\\nAnd some more text!\")\n",
    "    output_file.writelines(\"\\nYet even more text!\")"
   ]
  },
  {
   "cell_type": "markdown",
   "metadata": {},
   "source": [
    "**[Open practice3.txt](student_folder/text/practice3.txt)**"
   ]
  },
  {
   "cell_type": "markdown",
   "metadata": {},
   "source": [
    "## Reading Question\n",
    "\n",
    "Fill in the blanks below.\n",
    "\n",
    "The **`append`** mode will add new text to a file without erasing its contents.\n",
    "\n",
    "The **`write`** mode will overwrite the file with new text."
   ]
  }
 ],
 "metadata": {
  "kernelspec": {
   "display_name": "Python 3.10.4 64-bit",
   "language": "python",
   "name": "python3"
  },
  "language_info": {
   "codemirror_mode": {
    "name": "ipython",
    "version": 3
   },
   "file_extension": ".py",
   "mimetype": "text/x-python",
   "name": "python",
   "nbconvert_exporter": "python",
   "pygments_lexer": "ipython3",
   "version": "3.10.4"
  },
  "orig_nbformat": 4,
  "vscode": {
   "interpreter": {
    "hash": "12d9efd1b418ad7485587f2da0512ee7fc7c20b6462fdb2a696d6f33bbf19b58"
   }
  }
 },
 "nbformat": 4,
 "nbformat_minor": 2
}
