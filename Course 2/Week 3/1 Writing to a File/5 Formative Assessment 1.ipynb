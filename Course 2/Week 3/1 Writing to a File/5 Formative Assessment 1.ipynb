{
 "cells": [
  {
   "cell_type": "markdown",
   "metadata": {},
   "source": [
    "# Formative Assessment \n",
    "\n",
    "## Formative Assessment\n",
    "\n",
    "Rearrange the code blocks below to create a program that writes the following information to the file `tongue_twister.txt`.\n",
    "\n",
    "```\n",
    "Peter Piper picked a peck of pickled peppers\n",
    "A peck of pickled peppers Peter Piper picked\n",
    "If Peter Piper picked a peck of pickled peppers\n",
    "Where’s the peck of pickled peppers Peter Piper picked?\n",
    "```\n",
    "\n",
    " **Note** , not all of the code blocks will be used.\n",
    "\n",
    "Drag from here\n",
    "\n",
    "* with open(\"my_file.txt\", \"w\") as output_file:\n",
    "* output_file.close()\n",
    "\n",
    "Construct your solution here\n",
    "\n",
    "`with open(\"tongue_twister.txt\", \"w\") as output_file:` <br>\n",
    "&emsp; &emsp; `output_file.writelines(\"Peter Piper picked a peck of pickled peppers\")` <br>\n",
    "&emsp; &emsp; `output_file.writelines(\"A peck of pickled peppers Peter Piper picked\")` <br>\n",
    "&emsp; &emsp; `output_file.writelines(\"If Peter Piper picked a peck of pickled peppers\")` <br>\n",
    "&emsp; &emsp; `output_file.writelines(\"Where’s the peck of pickled peppers Peter Piper picked?\")` <br>"
   ]
  },
  {
   "cell_type": "code",
   "execution_count": 3,
   "metadata": {},
   "outputs": [],
   "source": [
    "with open(\"student_folder/text/tongue_twister.txt\", 'w') as output_file:\n",
    "    output_file.writelines(\"Peter Piper picked a peck of pickled peppers\")\n",
    "    output_file.writelines(\"A peck of pickled peppers Peter Piper picked\")\n",
    "    output_file.writelines(\"If Peter Piper picked a peck of pickled peppers\")\n",
    "    output_file.writelines(\"Where’s the peck of pickled peppers Peter Piper picked?\")"
   ]
  },
  {
   "cell_type": "markdown",
   "metadata": {},
   "source": [
    "There are two code blocks that are not a part of the solution. The first one is the block that opens the file `my_file.txt`. The instructions say to write to the file `tongue_twister.txt`. The second block that does not belong in the solution is `output_file.close()`. The `with open...` statement opens the file and automatically closes the file when done.\n",
    "\n",
    "Once you have opened the correct file, follow the order of the tongue twister as stated in the question."
   ]
  },
  {
   "cell_type": "markdown",
   "metadata": {},
   "source": [
    "**[Open tongue_twister.txt](student_folder/text/tongue_twister.txt)**"
   ]
  }
 ],
 "metadata": {
  "kernelspec": {
   "display_name": "Python 3.10.4 64-bit",
   "language": "python",
   "name": "python3"
  },
  "language_info": {
   "codemirror_mode": {
    "name": "ipython",
    "version": 3
   },
   "file_extension": ".py",
   "mimetype": "text/x-python",
   "name": "python",
   "nbconvert_exporter": "python",
   "pygments_lexer": "ipython3",
   "version": "3.10.4"
  },
  "orig_nbformat": 4,
  "vscode": {
   "interpreter": {
    "hash": "12d9efd1b418ad7485587f2da0512ee7fc7c20b6462fdb2a696d6f33bbf19b58"
   }
  }
 },
 "nbformat": 4,
 "nbformat_minor": 2
}
