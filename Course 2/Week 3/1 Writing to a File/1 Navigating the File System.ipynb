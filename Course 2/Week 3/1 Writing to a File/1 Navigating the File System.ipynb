{
 "cells": [
  {
   "cell_type": "markdown",
   "metadata": {},
   "source": [
    "# Navigating the File System\n",
    "\n",
    "## Locating Student Files\n",
    "\n",
    "This unit is all about working with files on a computer. The first step is to open the desired file. That means navigating the file system to find the file in question. The open command requires the location (path) of the file and the filename. The file is called `practice1.txt`. It is located in the `text` folder, which is inside the folder called `student_folder`. **So the path to the file is `student_folder/text/practice1.txt`.**\n",
    "\n",
    "![File Path](https://apollo-media.codio.com/media%2F1%2F613181ce673c74ecc00c4f7a61dfad00-5baf41b8-9d13-463c-aa64-221042907a03.webp)\n",
    "\n",
    "Importing the `os` Python module allows Python to interact with the operating system. `os` can also join the file path and filename together, allowing you to open the file.\n",
    "\n",
    "![Open File](https://apollo-media.codio.com/media%2F1%2F858b2dbf544ac8d9d2951e8d2ff4d5b0-c6c6f1af-5bd3-4670-8ff6-86bd48b38432.webp)\n",
    "\n",
    "There are three different modes when opening a file: read (`\"r\"`), write (`\"w\"`), and append (`\"a\"`). You will focus on the write mode for now. Be sure to close the file when you are done with it.\n"
   ]
  },
  {
   "cell_type": "code",
   "execution_count": 1,
   "metadata": {},
   "outputs": [],
   "source": [
    "import os\n",
    "output_file = open(\"student_folder/text/practice1.txt\", \"w\")\n",
    "output_file.close()"
   ]
  },
  {
   "cell_type": "markdown",
   "metadata": {},
   "source": [
    "**Where is the output?**\n",
    "\n",
    "You should see a green check mark after running your program. This means the code ran without any errors. But what about the output? The code above only opens and then closes a file."
   ]
  },
  {
   "cell_type": "markdown",
   "metadata": {},
   "source": [
    "## What happens if you:\n",
    "\n",
    "* Open `student_folder` in the sidebar on the left. Open the `text` folder and right-click on `practice1.txt`. Select “Delete…” and run the program again.\n",
    "\n",
    "    - It Create same name file **`practice1.txt`** file in the give directory"
   ]
  },
  {
   "cell_type": "code",
   "execution_count": 2,
   "metadata": {},
   "outputs": [],
   "source": [
    "import os\n",
    "output_file = open(\"student_folder/text/practice1.txt\", \"w\")\n",
    "output_file.close()"
   ]
  },
  {
   "cell_type": "markdown",
   "metadata": {},
   "source": [
    "## Reading Question\n",
    "\n",
    "What happens when Python tries to open a file in write mode, but the file does not exist?\n",
    "\n",
    "- An error will appear\n",
    "- **Python will create the file**\n",
    "- Python will ask you if you want to create the file\n",
    "- Nothing happens\n",
    "\n",
    "When Python tries to open a nonexistent file in write mode, the file will be created."
   ]
  }
 ],
 "metadata": {
  "kernelspec": {
   "display_name": "Python 3.10.4 64-bit",
   "language": "python",
   "name": "python3"
  },
  "language_info": {
   "codemirror_mode": {
    "name": "ipython",
    "version": 3
   },
   "file_extension": ".py",
   "mimetype": "text/x-python",
   "name": "python",
   "nbconvert_exporter": "python",
   "pygments_lexer": "ipython3",
   "version": "3.10.4"
  },
  "orig_nbformat": 4,
  "vscode": {
   "interpreter": {
    "hash": "12d9efd1b418ad7485587f2da0512ee7fc7c20b6462fdb2a696d6f33bbf19b58"
   }
  }
 },
 "nbformat": 4,
 "nbformat_minor": 2
}
