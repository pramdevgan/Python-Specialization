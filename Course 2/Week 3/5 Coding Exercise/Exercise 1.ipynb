{
 "cells": [
  {
   "cell_type": "markdown",
   "metadata": {},
   "source": [
    "# Exercise 1\n",
    "## Files Exercise 1\n",
    "\n",
    "**Problem**\n",
    "Write a program that reads a text file and returns the number of lines as well as the total number of characters in the file.\n",
    "\n",
    "**Expected Output**\n",
    "The first two lines of your code **must** look like this:\n",
    "\n",
    "```python\n",
    "import sys\n",
    "\n",
    "test_file = sys.argv[1]\n",
    "```\n",
    "\n",
    "This allows for different text files to be sent to your program for testing.  **Hint** , to open the file use `with open(test_file, \"r\"...`. The `TRY IT` button below will send a test file to your program. You should see the following output:\n",
    "\n",
    "```text\n",
    "4 lines\n",
    "231 characters\n",
    "```\n",
    "\n",
    "<details open=\"\"><summary><strong>Where is the code visualizer?</strong></summary>\n",
    "\n",
    "Unfortunately, the code visualizer does not work with the `open` command, so it cannot be used for this problem.\n",
    "\n",
    "</details>\n",
    "\n",
    "\n",
    "```\n",
    "4 lines\n",
    "231 characters\n",
    "```"
   ]
  },
  {
   "cell_type": "code",
   "execution_count": 7,
   "metadata": {},
   "outputs": [
    {
     "name": "stdout",
     "output_type": "stream",
     "text": [
      "4 line\n",
      "203 characters\n"
     ]
    }
   ],
   "source": [
    "# import sys\n",
    "# test_file = sys.argv[1]\n",
    "line_count = 0\n",
    "char_count = 0\n",
    "\n",
    "with open(\"student_folder/.exercise/exercise1.txt\", \"r\") as input_file:\n",
    "    line = input_file.readline()\n",
    "    while line != \"\":\n",
    "        line_count += 1\n",
    "        char_count += len(line)\n",
    "        line = input_file.readline()\n",
    "\n",
    "print(\"{} line\".format(line_count))\n",
    "print(\"{} characters\".format(char_count))"
   ]
  },
  {
   "cell_type": "markdown",
   "metadata": {},
   "source": [
    "### **Here is Steps to Code:**\n",
    "The first two lines of your program are already given.\n",
    "\n",
    "```python\n",
    "import sys\n",
    "\n",
    "test_file = sys.argv[1]\n",
    "```\n",
    "\n",
    "You will need two variables; one to count the number of lines and another to count the number of characters. Set these variables to 0.\n",
    "\n",
    "```python\n",
    "line_count = 0\n",
    "char_count = 0\n",
    "```\n",
    "\n",
    "Open the text file in read mode.\n",
    "\n",
    "```python\n",
    "with open(test_file, \"r\") as input_file:\n",
    "```\n",
    "\n",
    "This solution uses a while loop to read through the text file one line at a time. Start by reading the first line of the text file. Then start the loop, checking to see if the line from the text file is equal to `\"\"`.\n",
    "\n",
    "```python\n",
    "    line = input_file.readline()\n",
    "    while line != \"\":\n",
    "```\n",
    "\n",
    "For each line read, increment the `line_count` variable by 1. Calculate the length of the line of text (which is a string) with the `len` function. Add this value to `char_count`. Read the next line from the text file.\n",
    "\n",
    "```python\n",
    "        line_count += 1\n",
    "        char_count += len(line)\n",
    "        line = input_file.readline()\n",
    "```\n",
    "\n",
    "Once the loop has finished running, print the two variables with accompanying text.\n",
    "\n",
    "```python\n",
    "print(\"{} lines\".format(line_count))\n",
    "print(\"{} characters\".format(char_count))\n",
    "```\n",
    "\n",
    "Here is the full code:\n",
    "\n",
    "```python\n",
    "import sys\n",
    "\n",
    "test_file = sys.argv[1]\n",
    "\n",
    "line_count = 0\n",
    "char_count = 0\n",
    "\n",
    "with open(\"student_folder/.exercise/exercise1.txt\", \"r\") as input_file:\n",
    "    line = input_file.readline()\n",
    "    while line != \"\":\n",
    "        line_count += 1\n",
    "        char_count += len(line)\n",
    "        line = input_file.readline()\n",
    "\n",
    "print(\"{} lines\".format(line_count))\n",
    "print(\"{} characters\".format(char_count))\n",
    "```"
   ]
  }
 ],
 "metadata": {
  "kernelspec": {
   "display_name": "Python 3.10.4 64-bit",
   "language": "python",
   "name": "python3"
  },
  "language_info": {
   "codemirror_mode": {
    "name": "ipython",
    "version": 3
   },
   "file_extension": ".py",
   "mimetype": "text/x-python",
   "name": "python",
   "nbconvert_exporter": "python",
   "pygments_lexer": "ipython3",
   "version": "3.10.4"
  },
  "orig_nbformat": 4,
  "vscode": {
   "interpreter": {
    "hash": "12d9efd1b418ad7485587f2da0512ee7fc7c20b6462fdb2a696d6f33bbf19b58"
   }
  }
 },
 "nbformat": 4,
 "nbformat_minor": 2
}
