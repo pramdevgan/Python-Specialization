{
 "cells": [
  {
   "cell_type": "markdown",
   "metadata": {},
   "source": [
    "# Exercise 2\n",
    "\n",
    "## Files Exercise 2\n",
    "\n",
    "**Problem**\n",
    "Write a program that reads a comma delimited CSV file with four columns and returns the average of each column in the file.\n",
    "\n",
    "**Expected Output**\n",
    "The first two lines of your code **must** look like this:\n",
    "\n",
    "```python\n",
    "import sys\n",
    "\n",
    "test_file = sys.argv[1]\n",
    "```\n",
    "\n",
    "This allows for different text files to be sent to your program for testing.  **Hint** , to open the file use `with open(test_file, \"r\"...`. The `TRY IT` button below will send a test file to your program. You should see the following output:\n",
    "\n",
    "```text\n",
    "10.0 8.0 6.0 20.0\n",
    "```"
   ]
  },
  {
   "cell_type": "code",
   "execution_count": 5,
   "metadata": {},
   "outputs": [
    {
     "name": "stdout",
     "output_type": "stream",
     "text": [
      "2.0 2.3333333333333335 2.3333333333333335 5.0\n"
     ]
    }
   ],
   "source": [
    "import sys, csv\n",
    "\n",
    "test_file = sys.argv[1]\n",
    "\n",
    "total1 = 0\n",
    "total2 = 0\n",
    "total3 = 0\n",
    "total4 = 0\n",
    "row_count = 0\n",
    "\n",
    "with open(\"student_folder/.exercise/exercise.csv\", \"r\") as input_file:\n",
    "    reader = csv.reader(input_file)\n",
    "    for num1, num2, num3, num4 in reader:\n",
    "        row_count += 1\n",
    "        total1 += int(num1)\n",
    "        total2 += int(num2)\n",
    "        total3 += int(num3)\n",
    "        total4 += int(num4)\n",
    "\n",
    "print(\"{} {} {} {}\".format(total1/row_count, total2/row_count, total3/row_count, total4/row_count))"
   ]
  },
  {
   "cell_type": "markdown",
   "metadata": {},
   "source": [
    "### **Here is the steps to code:**\n",
    "The first two lines of the program are given, but do not forget to add the `csv` module since you are working with CSV files.\n",
    "\n",
    "```python\n",
    "import sys, csv\n",
    "\n",
    "test_file = sys.argv[1]\n",
    "```\n",
    "\n",
    "There are four columns of numbers, and you need to calculate the average of each. You need five variables: one variable for each of the four columns to calculate the total value of the column, and a fifth variable that keeps track of how many rows are in the CSV file. Set all of those variables to 0.\n",
    "\n",
    "```python\n",
    "total1 = 0\n",
    "total2 = 0\n",
    "total3 = 0\n",
    "total4 = 0\n",
    "row_count = 0\n",
    "```\n",
    "\n",
    "Next, open the CSV file in read mode and pass it to the `csv.reader`.\n",
    "\n",
    "```python\n",
    "with open(test_file, \"r\") as input_file:\n",
    "    reader = csv.reader(input_file)\n",
    "```\n",
    "\n",
    "This solution uses the unpacking technique to “pull apart” the four numbers in each row of the CSV file.\n",
    "\n",
    "```python\n",
    "    for num1, num2, num3, num4 in reader:\n",
    "```\n",
    "\n",
    "Increment the variable that counts the number of rows. Then add each number (`num1`, `num2`, etc.) to the appropriate variable (`total1`, `total2`, etc.). Remember, information taken from a CSV file always comes in as a string. You need to typecast the information into an integer (or a float).\n",
    "\n",
    "```python\n",
    "        row_count += 1\n",
    "        total1 += int(num1)\n",
    "        total2 += int(num2)\n",
    "        total3 += int(num3)\n",
    "        total4 += int(num4)\n",
    "```\n",
    "\n",
    "Once the loop has finished running, print the totals divided by the number of rows.\n",
    "\n",
    "```python\n",
    "print(\"{} {} {} {}\".format(total1/row_count, total2/row_count, total3/row_count, total4/row_count))\n",
    "```\n",
    "\n",
    "Here is the complete program.\n",
    "\n",
    "```python\n",
    "import sys, csv\n",
    "\n",
    "test_file = sys.argv[1]\n",
    "\n",
    "total1 = 0\n",
    "total2 = 0\n",
    "total3 = 0\n",
    "total4 = 0\n",
    "row_count = 0\n",
    "\n",
    "with open(test_file, \"r\") as input_file:\n",
    "    reader = csv.reader(input_file)\n",
    "    for num1, num2, num3, num4 in reader:\n",
    "        row_count += 1\n",
    "        total1 += int(num1)\n",
    "        total2 += int(num2)\n",
    "        total3 += int(num3)\n",
    "        total4 += int(num4)\n",
    "\n",
    "print(\"{} {} {} {}\".format(total1/row_count, total2/row_count, total3/row_count, total4/row_count))\n",
    "```"
   ]
  }
 ],
 "metadata": {
  "kernelspec": {
   "display_name": "Python 3.10.4 64-bit",
   "language": "python",
   "name": "python3"
  },
  "language_info": {
   "codemirror_mode": {
    "name": "ipython",
    "version": 3
   },
   "file_extension": ".py",
   "mimetype": "text/x-python",
   "name": "python",
   "nbconvert_exporter": "python",
   "pygments_lexer": "ipython3",
   "version": "3.10.4"
  },
  "orig_nbformat": 4,
  "vscode": {
   "interpreter": {
    "hash": "12d9efd1b418ad7485587f2da0512ee7fc7c20b6462fdb2a696d6f33bbf19b58"
   }
  }
 },
 "nbformat": 4,
 "nbformat_minor": 2
}
