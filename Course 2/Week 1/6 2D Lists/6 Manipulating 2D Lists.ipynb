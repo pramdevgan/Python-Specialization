{
 "cells": [
  {
   "cell_type": "markdown",
   "metadata": {},
   "source": [
    "# ***Manipulating 2D Lists***\n",
    "## **Manipulating 2D Lists with Methods**\n",
    "This page is not about one particular method used with a 2D list. Instead, this page is about how 2D list do not respond to methods the same way traditional lists do. Look at the 2D list `numbers` below. It contains all numbers from 1 to 20. There are four inner lists with five numbers each. Pay attention to how Python sorts `numbers`."
   ]
  },
  {
   "cell_type": "code",
   "execution_count": 1,
   "metadata": {},
   "outputs": [
    {
     "name": "stdout",
     "output_type": "stream",
     "text": [
      "[1, 2, 3, 4, 5]\n",
      "[6, 7, 10, 9, 8]\n",
      "[12, 13, 14, 11, 15]\n",
      "[20, 18, 17, 19, 16]\n"
     ]
    }
   ],
   "source": [
    "numbers = [\n",
    "            [6, 7, 10, 9, 8],\n",
    "            [12, 13, 14, 11, 15],\n",
    "            [20, 18, 17, 19, 16],\n",
    "            [1, 2, 3, 4, 5]\n",
    "        ]\n",
    "numbers.sort()\n",
    "for row in numbers:\n",
    "    print(row)"
   ]
  },
  {
   "cell_type": "markdown",
   "metadata": {},
   "source": [
    "Python sorted `numbers` based on the inner lists, but it did not sort the inner lists themselves. In order to use list methods or function on the inner lists, use a for loop."
   ]
  },
  {
   "cell_type": "code",
   "execution_count": 2,
   "metadata": {},
   "outputs": [
    {
     "name": "stdout",
     "output_type": "stream",
     "text": [
      "[1, 2, 3, 4, 5]\n",
      "[6, 7, 8, 9, 10]\n",
      "[11, 12, 13, 14, 15]\n",
      "[16, 17, 18, 19, 20]\n"
     ]
    }
   ],
   "source": [
    "numbers = [\n",
    "            [6, 7, 10, 9, 8],\n",
    "            [12, 13, 14, 11, 15],\n",
    "            [20, 18, 17, 19, 16],\n",
    "            [1, 2, 3, 4, 5]\n",
    "        ]\n",
    "numbers.sort()\n",
    "for row in numbers:\n",
    "    row.sort()\n",
    "    print(row)"
   ]
  },
  {
   "cell_type": "markdown",
   "metadata": {},
   "source": [
    "Try this variation:\n",
    "Comment out the first numbers.sort() and run the program\n",
    "```\n",
    "# numbers.sort()\n",
    "# loop to sort and print the 2D list\n",
    "for row in numbers:\n",
    "  row.sort()\n",
    "  print(row)\n",
    "```"
   ]
  },
  {
   "cell_type": "code",
   "execution_count": 3,
   "metadata": {},
   "outputs": [
    {
     "name": "stdout",
     "output_type": "stream",
     "text": [
      "[1, 2, 3, 4, 5]\n",
      "[6, 7, 8, 9, 10]\n",
      "[11, 12, 13, 14, 15]\n",
      "[16, 17, 18, 19, 20]\n"
     ]
    }
   ],
   "source": [
    "numbers.sort()\n",
    "# loop to sort and print the 2D list\n",
    "for row in numbers:\n",
    "    row.sort()\n",
    "    print(row)"
   ]
  },
  {
   "cell_type": "markdown",
   "metadata": {},
   "source": [
    "## **Manipulating a 2D Lists of Numbers**\n",
    "The 2D list numbers is a list of lists of numbers. Which means sum(numbers) would return an error because the sum function expects a list of numbers. To use sum, max or min you need to use a for loop."
   ]
  },
  {
   "cell_type": "code",
   "execution_count": 5,
   "metadata": {},
   "outputs": [
    {
     "name": "stdout",
     "output_type": "stream",
     "text": [
      "40\n",
      "65\n",
      "90\n",
      "15\n"
     ]
    }
   ],
   "source": [
    "numbers = [\n",
    "            [6, 7, 10, 9, 8],\n",
    "            [12, 13, 14, 11, 15],\n",
    "            [20, 18, 17, 19, 16],\n",
    "            [1, 2, 3, 4, 5]\n",
    "        ]\n",
    "# Loop to print th esum of each inner list\n",
    "\n",
    "for row in numbers:\n",
    "    print(sum(row))"
   ]
  },
  {
   "cell_type": "markdown",
   "metadata": {},
   "source": [
    "Notice, however, that this does not print the sum of all four inner lists. Instead is prints the sum of each individual list. To find the total of all of the lists, declare the `total` with an initial value of 0. Add the sum of each inner list to `total`. Then print `total`"
   ]
  },
  {
   "cell_type": "code",
   "execution_count": 6,
   "metadata": {},
   "outputs": [
    {
     "name": "stdout",
     "output_type": "stream",
     "text": [
      "210\n"
     ]
    }
   ],
   "source": [
    "numbers = [\n",
    "            [6, 7, 10, 9, 8],\n",
    "            [12, 13, 14, 11, 15],\n",
    "            [20, 18, 17, 19, 16],\n",
    "            [1, 2, 3, 4, 5]\n",
    "        ]\n",
    "\n",
    "total = 0\n",
    "\n",
    "# Loop to add the sum of each inner list to total\n",
    "for row in numbers:\n",
    "    total += sum(row)\n",
    "print(total)"
   ]
  },
  {
   "cell_type": "markdown",
   "metadata": {},
   "source": [
    "Try this variation:\n",
    "Use the variable `numbers` and write a program that finds the largest number in the 2D list. **Hint**: use the `max` function.\n",
    "```\n",
    "numbers = [\n",
    "            [6, 7, 10, 9, 8],\n",
    "            [12, 13, 14, 11, 15],\n",
    "            [20, 18, 17, 19, 16],\n",
    "            [1, 2, 3, 4, 5]\n",
    "          ]\n",
    "```"
   ]
  },
  {
   "cell_type": "code",
   "execution_count": 12,
   "metadata": {},
   "outputs": [
    {
     "name": "stdout",
     "output_type": "stream",
     "text": [
      "20\n"
     ]
    }
   ],
   "source": [
    "numbers = [\n",
    "            [6, 7, 10, 9, 8],\n",
    "            [12, 13, 14, 11, 15],\n",
    "            [20, 18, 17, 19, 16],\n",
    "            [1, 2, 3, 4, 5]\n",
    "        ]\n",
    "maximum = 0\n",
    "\n",
    "for row in numbers:\n",
    "    if max(row) > maximum:\n",
    "        maximum = max(row)\n",
    "print(maximum)"
   ]
  },
  {
   "cell_type": "markdown",
   "metadata": {},
   "source": [
    "Reading Question\n",
    "Assume the following code:\n",
    "```\n",
    "cities = [\n",
    "           [\"Tokyo\", \"Paris\", \"Algiers\"],\n",
    "           [\"New York\", \"Mexico City\", \"Lima\"],\n",
    "           [\"Bangalore\", \"Moscow\", \"Nairobi\"]\n",
    "         ]\n",
    "```\n",
    "What is the difference between the two code snippets:\n",
    "```\n",
    "cities.reverse()\n",
    "print(cities)\n",
    "```\n",
    "and\n",
    "```\n",
    "for row in cities:\n",
    "    row.reverse()\n",
    "    print(row)\n",
    "```\n",
    "\n",
    "- **`The first code snippet reverses the order of the lists of cities, while the second code snippet reverses the order of cities within each list.`** <--- Correct Answer\n",
    "- Nothing, the two code snippets do the same thing.\n",
    "- The first code snippet reverses the order of cities within each list, while the second code snippet revers the order of the list of cities.\n",
    "- The first code snippet sorts the lists of cities, while the second code snippet reverses the lists of cities."
   ]
  },
  {
   "cell_type": "code",
   "execution_count": 15,
   "metadata": {},
   "outputs": [
    {
     "name": "stdout",
     "output_type": "stream",
     "text": [
      "[['Bangalore', 'Moscow', 'Nairobi'], ['New York', 'Mexico City', 'Lima'], ['Tokyo', 'Paris', 'Algiers']]\n"
     ]
    }
   ],
   "source": [
    "cities = [\n",
    "           [\"Tokyo\", \"Paris\", \"Algiers\"],\n",
    "           [\"New York\", \"Mexico City\", \"Lima\"],\n",
    "           [\"Bangalore\", \"Moscow\", \"Nairobi\"]\n",
    "         ]\n",
    "\n",
    "cities.reverse()\n",
    "print(cities)\n",
    "\n"
   ]
  },
  {
   "cell_type": "code",
   "execution_count": 16,
   "metadata": {},
   "outputs": [
    {
     "name": "stdout",
     "output_type": "stream",
     "text": [
      "['Nairobi', 'Moscow', 'Bangalore']\n",
      "['Lima', 'Mexico City', 'New York']\n",
      "['Algiers', 'Paris', 'Tokyo']\n"
     ]
    }
   ],
   "source": [
    "for row in cities:\n",
    "    row.reverse()\n",
    "    print(row)"
   ]
  }
 ],
 "metadata": {
  "kernelspec": {
   "display_name": "Python 3.10.4 64-bit",
   "language": "python",
   "name": "python3"
  },
  "language_info": {
   "codemirror_mode": {
    "name": "ipython",
    "version": 3
   },
   "file_extension": ".py",
   "mimetype": "text/x-python",
   "name": "python",
   "nbconvert_exporter": "python",
   "pygments_lexer": "ipython3",
   "version": "3.10.4"
  },
  "orig_nbformat": 4,
  "vscode": {
   "interpreter": {
    "hash": "12d9efd1b418ad7485587f2da0512ee7fc7c20b6462fdb2a696d6f33bbf19b58"
   }
  }
 },
 "nbformat": 4,
 "nbformat_minor": 2
}
