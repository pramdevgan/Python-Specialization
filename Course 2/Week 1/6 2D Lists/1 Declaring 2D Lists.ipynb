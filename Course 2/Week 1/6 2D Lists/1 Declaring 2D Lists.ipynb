{
 "cells": [
  {
   "cell_type": "markdown",
   "metadata": {},
   "source": [
    "# ***Declaring 2D Lists***\n",
    "## **Declaring a 2D List**\n",
    "A 2D list is a list whose individual elements are other lists; sometimes referred to as a list of lists.\n",
    "![](https://apollo-media.codio.com/media%2F1%2F1faa98145d95675ec56614bae0e8f411-c07992970cf1cf1a.webp)\n",
    "\n",
    "To declare a 2D list, start as normal with a pair of square brackets (`[]`). For each element, declare another list with more square brackets. Be sure to use commas when separating each internal list."
   ]
  },
  {
   "cell_type": "code",
   "execution_count": 1,
   "metadata": {},
   "outputs": [
    {
     "name": "stdout",
     "output_type": "stream",
     "text": [
      "[[1, 2, 3], [4, 5, 6], [7, 8, 9]]\n"
     ]
    }
   ],
   "source": [
    "my_2d_list = [[1,2,3], [4,5,6], [7,8,9]]\n",
    "print(my_2d_list)"
   ]
  },
  {
   "cell_type": "markdown",
   "metadata": {},
   "source": [
    "#### **Try this variation:**\n",
    "- Create a 2D list comprised of empty lists. Print this 2D list.\n",
    "##### **Solution**\n",
    "```\n",
    "my_empty_2d_list = [[], [], []]\n",
    "print(my_empty_2d_list)\n",
    "```"
   ]
  },
  {
   "cell_type": "code",
   "execution_count": 2,
   "metadata": {},
   "outputs": [
    {
     "name": "stdout",
     "output_type": "stream",
     "text": [
      "[[], [], []]\n"
     ]
    }
   ],
   "source": [
    "my_empty_2d_list = [[], [], []]\n",
    "print(my_empty_2d_list)"
   ]
  },
  {
   "cell_type": "markdown",
   "metadata": {},
   "source": [
    "## **Declaring 2D Lists in a Human Readable Way**\n",
    "2D lists are useful for when you want a group of data where each group is itself a group of data. Imagine that you are going to list the three most populous cities for America, France, China, and India. Declaring the list as described above, would make for a long line of code. While Python will not have trouble understanding this line of code, some humans might. It is a good idea to write your code in a way that is easy for humans to read. This will make debugging your code easier."
   ]
  }
 ],
 "metadata": {
  "interpreter": {
   "hash": "12d9efd1b418ad7485587f2da0512ee7fc7c20b6462fdb2a696d6f33bbf19b58"
  },
  "kernelspec": {
   "display_name": "Python 3.10.4 64-bit",
   "language": "python",
   "name": "python3"
  },
  "language_info": {
   "codemirror_mode": {
    "name": "ipython",
    "version": 3
   },
   "file_extension": ".py",
   "mimetype": "text/x-python",
   "name": "python",
   "nbconvert_exporter": "python",
   "pygments_lexer": "ipython3",
   "version": "3.10.4"
  },
  "orig_nbformat": 4
 },
 "nbformat": 4,
 "nbformat_minor": 2
}
