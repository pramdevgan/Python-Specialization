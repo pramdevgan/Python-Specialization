{
 "cells": [
  {
   "cell_type": "markdown",
   "metadata": {},
   "source": [
    "# ***Adding Elements to 2D Lists***\n",
    "## **Adding Elements to a 2D List**\n",
    "A common task for lists is to add an element to a list. You can use the `+` operator to concatenate 2D lists."
   ]
  },
  {
   "cell_type": "code",
   "execution_count": 1,
   "metadata": {},
   "outputs": [
    {
     "name": "stdout",
     "output_type": "stream",
     "text": [
      "[[1, 2, 3], [4, 5, 6], [7, 8, 9], [10, 11, 12]]\n"
     ]
    }
   ],
   "source": [
    "list_1 = [[1,2,3], [4,5,6]]\n",
    "list_2 = [[7,8,9], [10,11,12]]\n",
    "\n",
    "print(list_1 + list_2)"
   ]
  },
  {
   "cell_type": "markdown",
   "metadata": {},
   "source": [
    "### **Try this variation:**\n",
    "- Change the `print` statement to `print(list_2 + list_1)`\n",
    "- Change the `print` statement to `print(list_2 + [[13, 14, 15]])`\n",
    "- Change the `print` statement to `print(list_2 + [13, 14, 15])`\n",
    "- Change the `print` statement to `print(list_2 + 13)`\n",
    "- **Concatenating `[[13, 14, 15]]`, `[13, 14, 15]`, and `13`**\n",
    "- Concatenating [[13, 14, 15]], [13, 14, 15], and 13\n",
    "\n",
    "The output from these list concatenations might be a little confusing. Here is what Python is doing:\n",
    "\n",
    "- `[[13]]` - This is a 2D list with one element that also only has one element. So the final result is a list of two lists. The first has three elements, while the second only has one.\n",
    "\n",
    "- `[13]` - This is a traditional list with one element. So the final result is a list with two elements. The first element is a list with three elements, while the second element is the integer 13. In Python, a 2D list can have elements that are lists as well as elements that are not lists.\n",
    "\n",
    "- `13` - This causes an error because the concatenation operator expects to join two lists together. It can join two 2D lists or a 2D list and a traditional list. It cannot join a list and a non-list.\n",
    "\n",
    "You can think of the concatenation process as removing a set of square brackets from the data being concatenated. So a 2D list becomes a traditional list `([[13, 14, 15]]` becomes `[13, 14, 15])`, and a traditional list becomes a sequence of new elements `([13, 14, 15]` becomes `13, 14, 15)`. However, there are no square brackets to remove when trying to concatenate a non-list, which is why there is an error."
   ]
  },
  {
   "cell_type": "code",
   "execution_count": 2,
   "metadata": {},
   "outputs": [
    {
     "name": "stdout",
     "output_type": "stream",
     "text": [
      "[[7, 8, 9], [10, 11, 12], [1, 2, 3], [4, 5, 6]]\n"
     ]
    }
   ],
   "source": [
    "print(list_2 + list_1)"
   ]
  },
  {
   "cell_type": "code",
   "execution_count": 3,
   "metadata": {},
   "outputs": [
    {
     "name": "stdout",
     "output_type": "stream",
     "text": [
      "[[7, 8, 9], [10, 11, 12], [13, 14, 15]]\n"
     ]
    }
   ],
   "source": [
    "print(list_2 + [[13, 14, 15]])"
   ]
  },
  {
   "cell_type": "code",
   "execution_count": 4,
   "metadata": {},
   "outputs": [
    {
     "name": "stdout",
     "output_type": "stream",
     "text": [
      "[[7, 8, 9], [10, 11, 12], 13, 14, 15]\n"
     ]
    }
   ],
   "source": [
    "print(list_2 + [13, 14, 15])"
   ]
  },
  {
   "cell_type": "code",
   "execution_count": 5,
   "metadata": {},
   "outputs": [
    {
     "ename": "TypeError",
     "evalue": "can only concatenate list (not \"int\") to list",
     "output_type": "error",
     "traceback": [
      "\u001b[1;31m---------------------------------------------------------------------------\u001b[0m",
      "\u001b[1;31mTypeError\u001b[0m                                 Traceback (most recent call last)",
      "\u001b[1;32mc:\\Users\\vpram\\Python Specialization\\Course 2\\Week 1\\6 2D Lists\\3 Adding Elements to 2D Lists.ipynb Cell 7'\u001b[0m in \u001b[0;36m<module>\u001b[1;34m\u001b[0m\n\u001b[1;32m----> <a href='vscode-notebook-cell:/c%3A/Users/vpram/Python%20Specialization/Course%202/Week%201/6%202D%20Lists/3%20Adding%20Elements%20to%202D%20Lists.ipynb#ch0000007?line=0'>1</a>\u001b[0m \u001b[39mprint\u001b[39m(list_2 \u001b[39m+\u001b[39;49m \u001b[39m13\u001b[39;49m)\n",
      "\u001b[1;31mTypeError\u001b[0m: can only concatenate list (not \"int\") to list"
     ]
    }
   ],
   "source": [
    "print(list_2 + 13)"
   ]
  },
  {
   "cell_type": "markdown",
   "metadata": {},
   "source": [
    "## **The `append` Method**\n",
    "The `append` method can be used with 2D lists to add another element to a list."
   ]
  },
  {
   "cell_type": "code",
   "execution_count": 6,
   "metadata": {},
   "outputs": [
    {
     "name": "stdout",
     "output_type": "stream",
     "text": [
      "[['a', 'b', 'c'], ['d', 'e', 'f'], ['g', 'h', 'i']]\n"
     ]
    }
   ],
   "source": [
    "my_list = [[\"a\", \"b\", \"c\"], [\"d\", \"e\", \"f\"]]\n",
    "another_list = [\"g\", \"h\", \"i\"]\n",
    "\n",
    "my_list.append(another_list)\n",
    "print(my_list)"
   ]
  },
  {
   "cell_type": "markdown",
   "metadata": {},
   "source": [
    "### **Try this variation:**\n",
    "- Change the `append` statement to `my_list.append(\"g\")`\n",
    "- Change the `append` statement to `my_list.append([\"g\", \"h\", \"i\"])`\n",
    "- Change the `append` statement to `my_list.append([[\"g\", \"h\", \"i\"]])`\n",
    "\n",
    "    Appending `\"g\"`, `[\"g\", \"h\", \"i\"]`, and `[[\"g\", \"h\", \"i\"]]`\n",
    "\n",
    "    The output from the `append` method might be a little confusing. Here is what Python is doing:\n",
    "    \n",
    "    - **\"g\"** - This creates a 2D list with three elements. The first two elements are lists of strings, while the third element is the string `\"g\"`.\n",
    "    \n",
    "    - **[\"g\", \"h\", \"i\"]** - This creates a 2D list with three elements. The first two elements are lists of strings, while the third element is a list with `\"g\"`, `\"h\"`, and `\"i\"` as its elements.\n",
    "    \n",
    "    - **[[\"g\", \"h\", \"i\"]]** - This creates a 2D list with three elements. The first two elements are lists of strings, while the third element is another 2D list. This list has one element, another list with `\"g\"`, `\"h\"`, and `\"i\"` as its elements.\n",
    "    \n",
    "    You can think of the `append` method as adding its parameter to the list. Passing append a string `(\"g\")` will add the string as a new element. Passing `append` a list `([\"g\", \"h\", \"i\"])` will add the list as a new element. Passing `append` a 2D list `([[\"g\", \"h\", \"i\"]])` will add the 2D list as a new element."
   ]
  },
  {
   "cell_type": "code",
   "execution_count": 9,
   "metadata": {},
   "outputs": [
    {
     "name": "stdout",
     "output_type": "stream",
     "text": [
      "[['a', 'b', 'c'], ['d', 'e', 'f'], 'g']\n"
     ]
    }
   ],
   "source": [
    "my_list = [[\"a\", \"b\", \"c\"], [\"d\", \"e\", \"f\"]]\n",
    "my_list.append(\"g\")\n",
    "print(my_list)"
   ]
  },
  {
   "cell_type": "code",
   "execution_count": 10,
   "metadata": {},
   "outputs": [
    {
     "name": "stdout",
     "output_type": "stream",
     "text": [
      "[['a', 'b', 'c'], ['d', 'e', 'f'], ['g', 'h', 'i']]\n"
     ]
    }
   ],
   "source": [
    "my_list = [[\"a\", \"b\", \"c\"], [\"d\", \"e\", \"f\"]]\n",
    "my_list.append([\"g\", \"h\", \"i\"])\n",
    "print(my_list)"
   ]
  },
  {
   "cell_type": "code",
   "execution_count": 11,
   "metadata": {},
   "outputs": [
    {
     "name": "stdout",
     "output_type": "stream",
     "text": [
      "[['a', 'b', 'c'], ['d', 'e', 'f'], [['g', 'h', 'i']]]\n"
     ]
    }
   ],
   "source": [
    "my_list = [[\"a\", \"b\", \"c\"], [\"d\", \"e\", \"f\"]]\n",
    "my_list.append([[\"g\", \"h\", \"i\"]])\n",
    "print(my_list)"
   ]
  },
  {
   "cell_type": "markdown",
   "metadata": {},
   "source": [
    "### ***Reading Question***\n",
    "Create a 2D list of authors. The first element should be a list of American authors, the second a list of French authors, and the third a list of Russian authors. Drag the code blocks into the box below. The code should produce the following output:\n",
    "\n",
    "`[[\"Whitman\", \"Twain\", \"Poe\"], [\"Camus\", \"Baudelaire\", \"Hugo\"], [\"Dostoyevsky\", \"Tolstoy\", \"Solzhenitsyn\"]]`\n",
    "\n",
    "Drag from here\n",
    "```\n",
    "authors = authors + [\"Dostoyevsky\", \"Tolstoy\", \"Solzhenitsyn\"]\n",
    "authors.append([\"Dostoyevsky\", \"Tolstoy\", \"Solzhenitsyn\"])\n",
    "authors = [[\"Whitman\", \"Twain\", \"Poe\"], [\"Camus\", \"Baudelaire\", \"Hugo\"]]\n",
    "print(authors)\n",
    "authors.append([[\"Dostoyevsky\", \"Tolstoy\", \"Solzhenitsyn\"]])\n",
    "```\n",
    "Construct your solution here"
   ]
  },
  {
   "cell_type": "code",
   "execution_count": 15,
   "metadata": {},
   "outputs": [
    {
     "name": "stdout",
     "output_type": "stream",
     "text": [
      "[['Whitman', 'Twain', 'Poe'], ['Camus', 'Baudelaire', 'Hugo'], ['Dostoyevsky', 'Tolstoy', 'Solzhenitsyn']]\n"
     ]
    }
   ],
   "source": [
    "authors = [[\"Whitman\", \"Twain\", \"Poe\"], [\"Camus\", \"Baudelaire\", \"Hugo\"]]\n",
    "authors.append([\"Dostoyevsky\", \"Tolstoy\", \"Solzhenitsyn\"])\n",
    "print(authors)"
   ]
  },
  {
   "cell_type": "markdown",
   "metadata": {},
   "source": [
    "- `authors.append([[\"Dostoyevsky\", \"Tolstoy\", \"Solzhenitsyn\"]])` - Is not correct because the Russian authors would be added as a 2D list. The problem states that each element should be a traditional list of authors.\n",
    "\n",
    "- `authors = authors + [\"Dostoyevsky\", \"Tolstoy\", \"Solzhenitsyn\"]` - Is not correct because the Russian authors will not be added as a list. Instead, each author would be an individual element."
   ]
  }
 ],
 "metadata": {
  "kernelspec": {
   "display_name": "Python 3.10.4 64-bit",
   "language": "python",
   "name": "python3"
  },
  "language_info": {
   "codemirror_mode": {
    "name": "ipython",
    "version": 3
   },
   "file_extension": ".py",
   "mimetype": "text/x-python",
   "name": "python",
   "nbconvert_exporter": "python",
   "pygments_lexer": "ipython3",
   "version": "3.10.4"
  },
  "orig_nbformat": 4,
  "vscode": {
   "interpreter": {
    "hash": "12d9efd1b418ad7485587f2da0512ee7fc7c20b6462fdb2a696d6f33bbf19b58"
   }
  }
 },
 "nbformat": 4,
 "nbformat_minor": 2
}
