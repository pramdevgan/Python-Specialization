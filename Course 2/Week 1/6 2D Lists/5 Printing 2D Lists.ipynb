{
 "cells": [
  {
   "cell_type": "markdown",
   "metadata": {},
   "source": [
    "# ***Printing 2D Lists***\n",
    "## **Printing a 2D List**\n",
    "You previously saw how a single `print` statement can print a 2D list. For smaller lists, this works alright. As the 2D list grows in length and complexity, printing a 2D list on a single line becomes harder to read."
   ]
  },
  {
   "cell_type": "code",
   "execution_count": 1,
   "metadata": {},
   "outputs": [
    {
     "name": "stdout",
     "output_type": "stream",
     "text": [
      "[[13, 89, 39, 49, 84, 73, 31, 82, 86, 44], [34, 68, 76, 43, 76, 61, 93, 79, 84, 86], [16, 22, 101, 57, 77, 34, 59, 98, 48, 17], [35, 86, 21, 73, 92, 38, 50, 84, 27, 100], [1, 22, 71, 25, 68, 87, 31, 7, 85, 90], [12, 63, 84, 54, 34, 35, 33, 91, 54, 12], [82, 1, 82, 28, 53, 23, 74, 6, 26, 68], [6, 43, 66, 20, 1, 71, 56, 44, 58, 54], [60, 24, 38, 76, 90, 90, 62, 1, 85, 21], [23, 65, 48, 33, 29, 56, 4, 1, 7, 20]]\n"
     ]
    }
   ],
   "source": [
    "import random\n",
    "numbers = [[random.randint(1,101) for column in range (10)] for row in range (10)]\n",
    "print(numbers)"
   ]
  },
  {
   "cell_type": "markdown",
   "metadata": {},
   "source": [
    "#### **What is going on with the variable `numbers`?**\n",
    "The variable `numbers` is declared using something called a list comprehension. A list comprehension is a very concise (some would say difficult to understand) way of creating a list. numbers is a 2D list with ten columns and ten rows. Each element is a random integer between 1 and 100. Every time you run the code, the 2D list will be populated with different numbers.\n",
    "\n",
    "One way to increase readability is to use a single for loop and print each inner list."
   ]
  },
  {
   "cell_type": "code",
   "execution_count": 3,
   "metadata": {},
   "outputs": [
    {
     "name": "stdout",
     "output_type": "stream",
     "text": [
      "[[72, 36, 14, 92, 2, 52, 26, 19, 10, 74], [98, 59, 5, 54, 91, 45, 86, 41, 69, 52], [50, 73, 91, 65, 77, 54, 45, 23, 11, 31], [10, 89, 79, 70, 8, 10, 76, 94, 83, 52], [48, 47, 89, 61, 91, 50, 15, 1, 59, 101], [19, 26, 71, 91, 79, 10, 35, 40, 14, 71], [40, 30, 51, 26, 55, 47, 4, 9, 45, 86], [26, 57, 55, 16, 85, 12, 13, 95, 29, 73], [27, 62, 71, 71, 66, 82, 68, 60, 25, 19], [87, 67, 68, 60, 13, 54, 69, 96, 69, 78]]\n",
      "[[72, 36, 14, 92, 2, 52, 26, 19, 10, 74], [98, 59, 5, 54, 91, 45, 86, 41, 69, 52], [50, 73, 91, 65, 77, 54, 45, 23, 11, 31], [10, 89, 79, 70, 8, 10, 76, 94, 83, 52], [48, 47, 89, 61, 91, 50, 15, 1, 59, 101], [19, 26, 71, 91, 79, 10, 35, 40, 14, 71], [40, 30, 51, 26, 55, 47, 4, 9, 45, 86], [26, 57, 55, 16, 85, 12, 13, 95, 29, 73], [27, 62, 71, 71, 66, 82, 68, 60, 25, 19], [87, 67, 68, 60, 13, 54, 69, 96, 69, 78]]\n",
      "[[72, 36, 14, 92, 2, 52, 26, 19, 10, 74], [98, 59, 5, 54, 91, 45, 86, 41, 69, 52], [50, 73, 91, 65, 77, 54, 45, 23, 11, 31], [10, 89, 79, 70, 8, 10, 76, 94, 83, 52], [48, 47, 89, 61, 91, 50, 15, 1, 59, 101], [19, 26, 71, 91, 79, 10, 35, 40, 14, 71], [40, 30, 51, 26, 55, 47, 4, 9, 45, 86], [26, 57, 55, 16, 85, 12, 13, 95, 29, 73], [27, 62, 71, 71, 66, 82, 68, 60, 25, 19], [87, 67, 68, 60, 13, 54, 69, 96, 69, 78]]\n",
      "[[72, 36, 14, 92, 2, 52, 26, 19, 10, 74], [98, 59, 5, 54, 91, 45, 86, 41, 69, 52], [50, 73, 91, 65, 77, 54, 45, 23, 11, 31], [10, 89, 79, 70, 8, 10, 76, 94, 83, 52], [48, 47, 89, 61, 91, 50, 15, 1, 59, 101], [19, 26, 71, 91, 79, 10, 35, 40, 14, 71], [40, 30, 51, 26, 55, 47, 4, 9, 45, 86], [26, 57, 55, 16, 85, 12, 13, 95, 29, 73], [27, 62, 71, 71, 66, 82, 68, 60, 25, 19], [87, 67, 68, 60, 13, 54, 69, 96, 69, 78]]\n",
      "[[72, 36, 14, 92, 2, 52, 26, 19, 10, 74], [98, 59, 5, 54, 91, 45, 86, 41, 69, 52], [50, 73, 91, 65, 77, 54, 45, 23, 11, 31], [10, 89, 79, 70, 8, 10, 76, 94, 83, 52], [48, 47, 89, 61, 91, 50, 15, 1, 59, 101], [19, 26, 71, 91, 79, 10, 35, 40, 14, 71], [40, 30, 51, 26, 55, 47, 4, 9, 45, 86], [26, 57, 55, 16, 85, 12, 13, 95, 29, 73], [27, 62, 71, 71, 66, 82, 68, 60, 25, 19], [87, 67, 68, 60, 13, 54, 69, 96, 69, 78]]\n",
      "[[72, 36, 14, 92, 2, 52, 26, 19, 10, 74], [98, 59, 5, 54, 91, 45, 86, 41, 69, 52], [50, 73, 91, 65, 77, 54, 45, 23, 11, 31], [10, 89, 79, 70, 8, 10, 76, 94, 83, 52], [48, 47, 89, 61, 91, 50, 15, 1, 59, 101], [19, 26, 71, 91, 79, 10, 35, 40, 14, 71], [40, 30, 51, 26, 55, 47, 4, 9, 45, 86], [26, 57, 55, 16, 85, 12, 13, 95, 29, 73], [27, 62, 71, 71, 66, 82, 68, 60, 25, 19], [87, 67, 68, 60, 13, 54, 69, 96, 69, 78]]\n",
      "[[72, 36, 14, 92, 2, 52, 26, 19, 10, 74], [98, 59, 5, 54, 91, 45, 86, 41, 69, 52], [50, 73, 91, 65, 77, 54, 45, 23, 11, 31], [10, 89, 79, 70, 8, 10, 76, 94, 83, 52], [48, 47, 89, 61, 91, 50, 15, 1, 59, 101], [19, 26, 71, 91, 79, 10, 35, 40, 14, 71], [40, 30, 51, 26, 55, 47, 4, 9, 45, 86], [26, 57, 55, 16, 85, 12, 13, 95, 29, 73], [27, 62, 71, 71, 66, 82, 68, 60, 25, 19], [87, 67, 68, 60, 13, 54, 69, 96, 69, 78]]\n",
      "[[72, 36, 14, 92, 2, 52, 26, 19, 10, 74], [98, 59, 5, 54, 91, 45, 86, 41, 69, 52], [50, 73, 91, 65, 77, 54, 45, 23, 11, 31], [10, 89, 79, 70, 8, 10, 76, 94, 83, 52], [48, 47, 89, 61, 91, 50, 15, 1, 59, 101], [19, 26, 71, 91, 79, 10, 35, 40, 14, 71], [40, 30, 51, 26, 55, 47, 4, 9, 45, 86], [26, 57, 55, 16, 85, 12, 13, 95, 29, 73], [27, 62, 71, 71, 66, 82, 68, 60, 25, 19], [87, 67, 68, 60, 13, 54, 69, 96, 69, 78]]\n",
      "[[72, 36, 14, 92, 2, 52, 26, 19, 10, 74], [98, 59, 5, 54, 91, 45, 86, 41, 69, 52], [50, 73, 91, 65, 77, 54, 45, 23, 11, 31], [10, 89, 79, 70, 8, 10, 76, 94, 83, 52], [48, 47, 89, 61, 91, 50, 15, 1, 59, 101], [19, 26, 71, 91, 79, 10, 35, 40, 14, 71], [40, 30, 51, 26, 55, 47, 4, 9, 45, 86], [26, 57, 55, 16, 85, 12, 13, 95, 29, 73], [27, 62, 71, 71, 66, 82, 68, 60, 25, 19], [87, 67, 68, 60, 13, 54, 69, 96, 69, 78]]\n",
      "[[72, 36, 14, 92, 2, 52, 26, 19, 10, 74], [98, 59, 5, 54, 91, 45, 86, 41, 69, 52], [50, 73, 91, 65, 77, 54, 45, 23, 11, 31], [10, 89, 79, 70, 8, 10, 76, 94, 83, 52], [48, 47, 89, 61, 91, 50, 15, 1, 59, 101], [19, 26, 71, 91, 79, 10, 35, 40, 14, 71], [40, 30, 51, 26, 55, 47, 4, 9, 45, 86], [26, 57, 55, 16, 85, 12, 13, 95, 29, 73], [27, 62, 71, 71, 66, 82, 68, 60, 25, 19], [87, 67, 68, 60, 13, 54, 69, 96, 69, 78]]\n"
     ]
    }
   ],
   "source": [
    "import random \n",
    "\n",
    "numbers = [[random.randint(1,101) for columns in range(10)] for rows in range (10)]\n",
    "for rown in numbers:\n",
    "    print(numbers)"
   ]
  },
  {
   "cell_type": "markdown",
   "metadata": {},
   "source": [
    "### **Try this variation:**\n",
    "Rewrite the following code such that each inner list is printed on its own line.\n",
    "```\n",
    "symbols = [[\"*\" for columns in range(5)] for rows in range(7)]\n",
    "print(symbols)\n",
    "```"
   ]
  },
  {
   "cell_type": "code",
   "execution_count": 9,
   "metadata": {},
   "outputs": [
    {
     "name": "stdout",
     "output_type": "stream",
     "text": [
      "['*', '*', '*', '*', '*']\n",
      "['*', '*', '*', '*', '*']\n",
      "['*', '*', '*', '*', '*']\n",
      "['*', '*', '*', '*', '*']\n",
      "['*', '*', '*', '*', '*']\n"
     ]
    }
   ],
   "source": [
    "symbols = [[\"*\" for columns in range (5)] for rows in range (5)]\n",
    "for row in symbols:\n",
    "    print(row) "
   ]
  },
  {
   "cell_type": "markdown",
   "metadata": {},
   "source": [
    "## **Printing Just the Data**\n",
    "Using a single for loop to print each inner list on its own line helps with readability. However, you still see the square brackets and commas. Using a nested loop can remove these extra symbols."
   ]
  },
  {
   "cell_type": "code",
   "execution_count": 10,
   "metadata": {},
   "outputs": [
    {
     "name": "stdout",
     "output_type": "stream",
     "text": [
      "28 73 26 59 17 12 87 81 22 32 \n",
      "21 47 30 84 32 13 30 55 41 68 \n",
      "26 24 96 71 97 85 30 68 12 28 \n",
      "70 15 7 78 92 47 55 100 71 78 \n",
      "42 61 25 6 8 37 92 70 44 5 \n",
      "12 12 99 65 6 11 24 62 55 9 \n",
      "82 70 84 14 50 74 85 24 59 84 \n",
      "40 90 1 57 98 91 62 76 9 9 \n",
      "11 38 68 3 75 22 93 72 30 76 \n",
      "61 60 39 7 55 2 40 1 82 6 \n"
     ]
    }
   ],
   "source": [
    "import random\n",
    "\n",
    "numbers = [[random.randint(1,101) for columns in range (10)] for rows in range (10)]\n",
    "for row in numbers:\n",
    "    for number in row:\n",
    "        print(f\"{number} \", end=\"\")\n",
    "    print()"
   ]
  },
  {
   "cell_type": "markdown",
   "metadata": {},
   "source": [
    "![](https://apollo-media.codio.com/media%2F1%2Ff5592dce54828daf4cc4c9c4e5922621-95263d104c0a2fb8.webp)"
   ]
  },
  {
   "cell_type": "markdown",
   "metadata": {},
   "source": [
    "#### **Try this variation:**\n",
    "Rewrite the following code such that each inner list is printed on its own line and there are no square brackets or commas.\n",
    "```\n",
    "symbols = [[\"*\" for columns in range(5)] for rows in range(7)]\n",
    "print(symbols)\n",
    "```"
   ]
  },
  {
   "cell_type": "code",
   "execution_count": 11,
   "metadata": {},
   "outputs": [
    {
     "name": "stdout",
     "output_type": "stream",
     "text": [
      "* * * * * \n",
      "* * * * * \n",
      "* * * * * \n",
      "* * * * * \n",
      "* * * * * \n",
      "* * * * * \n",
      "* * * * * \n"
     ]
    }
   ],
   "source": [
    "symbols = [[\"*\" for columns in range(5)] for rows in range(7)]\n",
    "for row in symbols:\n",
    "    for symbol in row:\n",
    "        print(f\"{symbol} \", end=\"\")\n",
    "    print"
   ]
  },
  {
   "cell_type": "markdown",
   "metadata": {},
   "source": [
    "## **Formatting the Data**\n",
    "The output can be refined a further step by making the spacing between the numbers more consistent. There is a space between each number, but when a number can be one, two, or three digits the overall alignment does not look that good. Instead of printing a space between each number, print a tab (this requires the escape character (`\\t`)."
   ]
  },
  {
   "cell_type": "code",
   "execution_count": 15,
   "metadata": {},
   "outputs": [
    {
     "name": "stdout",
     "output_type": "stream",
     "text": [
      "50\t43\t30\t84\t55\t84\t1\t67\t97\t95\t79\t52\t80\t50\t30\t21\t5\t33\t71\t\n",
      "72\t17\t40\t99\t39\t91\t92\t97\t24\t63\t77\t15\t49\t39\t70\t43\t74\t26\t70\t\n",
      "17\t13\t98\t44\t97\t1\t35\t64\t17\t21\t57\t47\t61\t61\t29\t55\t68\t50\t90\t\n",
      "82\t69\t4\t22\t43\t16\t58\t76\t78\t86\t75\t43\t41\t64\t9\t79\t1\t81\t62\t\n",
      "85\t93\t97\t44\t2\t7\t30\t58\t61\t34\t98\t81\t3\t7\t38\t4\t57\t22\t9\t\n",
      "74\t64\t86\t99\t75\t99\t45\t90\t50\t67\t84\t27\t83\t41\t39\t76\t19\t62\t45\t\n",
      "61\t75\t65\t87\t32\t19\t94\t58\t13\t7\t14\t11\t95\t86\t89\t47\t30\t10\t82\t\n",
      "74\t47\t71\t4\t33\t64\t53\t24\t24\t44\t72\t64\t3\t76\t36\t6\t81\t92\t36\t\n",
      "68\t7\t59\t21\t95\t22\t80\t15\t37\t6\t66\t7\t15\t100\t17\t37\t101\t24\t2\t\n",
      "8\t67\t62\t51\t86\t23\t74\t85\t94\t29\t65\t80\t13\t55\t80\t49\t101\t84\t19\t\n"
     ]
    }
   ],
   "source": [
    "import random\n",
    "\n",
    "numbers = [[random.randint(1,101) for columns in range (19)] for rows in range (10)]\n",
    "for row in numbers:\n",
    "    for number in row:\n",
    "        print(f\"{number}\\t\", end=\"\")\n",
    "    print()"
   ]
  },
  {
   "cell_type": "markdown",
   "metadata": {},
   "source": [
    "Reading Question\n",
    "Use the drop down menus for each question to fill in the blank.\n",
    "- Using a `single print statement` will print a 2D list on one line.\n",
    "- Using a `single for loop` will print each inner list of a 2D list on its own line.\n",
    "- Using a `nested loop` allows you to print each element of the inner lists without square brackets or commas."
   ]
  }
 ],
 "metadata": {
  "kernelspec": {
   "display_name": "Python 3.10.4 64-bit",
   "language": "python",
   "name": "python3"
  },
  "language_info": {
   "codemirror_mode": {
    "name": "ipython",
    "version": 3
   },
   "file_extension": ".py",
   "mimetype": "text/x-python",
   "name": "python",
   "nbconvert_exporter": "python",
   "pygments_lexer": "ipython3",
   "version": "3.10.4"
  },
  "orig_nbformat": 4,
  "vscode": {
   "interpreter": {
    "hash": "12d9efd1b418ad7485587f2da0512ee7fc7c20b6462fdb2a696d6f33bbf19b58"
   }
  }
 },
 "nbformat": 4,
 "nbformat_minor": 2
}
