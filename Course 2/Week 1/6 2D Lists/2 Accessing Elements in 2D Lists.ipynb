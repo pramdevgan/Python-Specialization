{
 "cells": [
  {
   "cell_type": "markdown",
   "metadata": {},
   "source": [
    "# **Accessing Elements in 2D Lists**\n",
    "## **Accessing Elements in a 2D List**\n",
    "\n",
    "In a traditional list, square brackets and a number are used to denote a particular element. For example, `my_list[2]`. Python would return the third element in the list. The 2D list below has three color palettes (warm, cool, and neutral) in hexadecimal code. A visual representation of the colors can be found to the right of the 2D list.\n",
    "![](https://apollo-media.codio.com/media%2F1%2F12c7166fdde11c066b71f439df9c7fe8-b50fed97ddd8bd50.webp)\n",
    "\n",
    "In a 2D list, `colors[2]` would return the third element in colors which is another list (the neutral color palette)."
   ]
  },
  {
   "cell_type": "code",
   "execution_count": 1,
   "metadata": {},
   "outputs": [
    {
     "name": "stdout",
     "output_type": "stream",
     "text": [
      "['#ebe9e7', '#c4bdb7', '#8a7b70', '#4f3928', '#3c2411']\n"
     ]
    }
   ],
   "source": [
    "colors = [\n",
    "            [\"#de0c1c\", \"#fe2d2d\", \"#fb7830\", \"#fecf02\", \"#ffdd46\"],\n",
    "            [\"#1db4d4\", \"#246fb4\", \"#100ab6\", \"#130976\", \"#110240\"],\n",
    "            [\"#ebe9e7\", \"#c4bdb7\", \"#8a7b70\", \"#4f3928\", \"#3c2411\"]\n",
    "        ]\n",
    "print(colors[2])"
   ]
  },
  {
   "cell_type": "markdown",
   "metadata": {},
   "source": [
    "#### **What is hexadecimal?**\n",
    "Hexadecimal is a way of representing numbers using a base of 16. The symbols \"0 - 9\" represent the values zero to nine, and the symbols \"a - f\" represent the values ten to fifteen. Hexadecimal is often used to denote colors on the web."
   ]
  },
  {
   "cell_type": "markdown",
   "metadata": {},
   "source": [
    "#### **Try this variation:**\n",
    "- Print the first element (the warm color palette).\n",
    "- Print the second element (the cool color palette)."
   ]
  },
  {
   "cell_type": "code",
   "execution_count": 2,
   "metadata": {},
   "outputs": [
    {
     "name": "stdout",
     "output_type": "stream",
     "text": [
      "['#de0c1c', '#fe2d2d', '#fb7830', '#fecf02', '#ffdd46']\n"
     ]
    }
   ],
   "source": [
    "print(colors[0])"
   ]
  },
  {
   "cell_type": "code",
   "execution_count": 3,
   "metadata": {},
   "outputs": [
    {
     "name": "stdout",
     "output_type": "stream",
     "text": [
      "['#1db4d4', '#246fb4', '#100ab6', '#130976', '#110240']\n"
     ]
    }
   ],
   "source": [
    "print(colors[1])"
   ]
  },
  {
   "cell_type": "markdown",
   "metadata": {},
   "source": [
    "## **Accessing a Color in a Specific Palette**\n",
    "To print a particular hexadecimal color from a particular color palette, you need to use two sets of square brackets. The first set references the color palette and the second set references the hexadecimal color. In the example below, you will see how `colors[0][1]` is resolved.\n",
    "![](https://apollo-media.codio.com/media%2F1%2F8273f3c3528fa9fd1443f924c963f2c5-d6af1131721f422f.webp)"
   ]
  },
  {
   "cell_type": "code",
   "execution_count": 4,
   "metadata": {},
   "outputs": [
    {
     "name": "stdout",
     "output_type": "stream",
     "text": [
      "#fe2d2d\n"
     ]
    }
   ],
   "source": [
    "print(colors[0][1])"
   ]
  },
  {
   "cell_type": "markdown",
   "metadata": {},
   "source": [
    "#### **Try this variation:**\n",
    "- Print the hexadecimal color #100ab6.\n",
    "- Print the hexadecimal color #c4bdb7.\n",
    "- Print the hexadecimal color #ffdd46."
   ]
  },
  {
   "cell_type": "code",
   "execution_count": 5,
   "metadata": {},
   "outputs": [
    {
     "name": "stdout",
     "output_type": "stream",
     "text": [
      "#100ab6\n"
     ]
    }
   ],
   "source": [
    "print(colors[1][2])"
   ]
  },
  {
   "cell_type": "code",
   "execution_count": 6,
   "metadata": {},
   "outputs": [
    {
     "name": "stdout",
     "output_type": "stream",
     "text": [
      "#c4bdb7\n"
     ]
    }
   ],
   "source": [
    "print(colors[2][1])"
   ]
  },
  {
   "cell_type": "code",
   "execution_count": 8,
   "metadata": {},
   "outputs": [
    {
     "name": "stdout",
     "output_type": "stream",
     "text": [
      "#ffdd46\n"
     ]
    }
   ],
   "source": [
    "print(colors[0][4])"
   ]
  }
 ],
 "metadata": {
  "interpreter": {
   "hash": "12d9efd1b418ad7485587f2da0512ee7fc7c20b6462fdb2a696d6f33bbf19b58"
  },
  "kernelspec": {
   "display_name": "Python 3.10.4 64-bit",
   "language": "python",
   "name": "python3"
  },
  "language_info": {
   "codemirror_mode": {
    "name": "ipython",
    "version": 3
   },
   "file_extension": ".py",
   "mimetype": "text/x-python",
   "name": "python",
   "nbconvert_exporter": "python",
   "pygments_lexer": "ipython3",
   "version": "3.10.4"
  },
  "orig_nbformat": 4
 },
 "nbformat": 4,
 "nbformat_minor": 2
}
