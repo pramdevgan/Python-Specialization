{
 "cells": [
  {
   "cell_type": "markdown",
   "metadata": {},
   "source": [
    "# ***The Slice Operator***\n",
    "## **The Slice Operator**\n",
    "The slice operator (`:`) returns a portion of the list. Provide numbers around the slice operator to indicate where you start and stop. The slice operator includes the first number, but does *not include* the second number. The slice operator ***does not modify the original list***. Instead, it returns a portion of the list.\n",
    "\n",
    "![](https://apollo-media.codio.com/media%2F1%2Fb10ed7cad7455a93c0d8860130be9210-7daeac67-51b0-4e84-91c8-93495df0b306.webp)"
   ]
  },
  {
   "cell_type": "code",
   "execution_count": 1,
   "metadata": {},
   "outputs": [
    {
     "name": "stdout",
     "output_type": "stream",
     "text": [
      "['red', 'orange', 'yellow', 'green']\n",
      "['red', 'orange']\n"
     ]
    }
   ],
   "source": [
    "my_list = [\"red\", \"orange\", \"yellow\", \"green\"]\n",
    "my_slice = my_list[0:2]\n",
    "print(my_list)\n",
    "print(my_slice)"
   ]
  },
  {
   "cell_type": "markdown",
   "metadata": {},
   "source": [
    "### **What happens if you:**\n",
    "- Change the slice to be `my_list[1:2]`?\n",
    "- Change the slice to be `my_list[0:len(my_list)]`?\n",
    "- Change the slice to be `my_list[1:1]`?\n",
    "- Change the slice to be `my_list[:2]`?"
   ]
  },
  {
   "cell_type": "code",
   "execution_count": 2,
   "metadata": {},
   "outputs": [
    {
     "name": "stdout",
     "output_type": "stream",
     "text": [
      "Before Slice:  ['red', 'orange', 'yellow', 'green']\n",
      "After Slice:  ['orange']\n"
     ]
    }
   ],
   "source": [
    "my_slice = my_list[1:2]\n",
    "print(\"Before Slice: \",my_list)\n",
    "print(\"After Slice: \",my_slice)"
   ]
  },
  {
   "cell_type": "code",
   "execution_count": 3,
   "metadata": {},
   "outputs": [
    {
     "name": "stdout",
     "output_type": "stream",
     "text": [
      "Before Slice ['red', 'orange', 'yellow', 'green']\n",
      "After Slice ['red', 'orange']\n"
     ]
    }
   ],
   "source": [
    "my_slice = my_list[0:2]\n",
    "print(\"Before Slice\",my_list[0:len(my_list)])\n",
    "print(\"After Slice\",my_slice)"
   ]
  },
  {
   "cell_type": "code",
   "execution_count": 4,
   "metadata": {},
   "outputs": [
    {
     "name": "stdout",
     "output_type": "stream",
     "text": [
      "Before Slice ['red', 'orange', 'yellow', 'green']\n",
      "After Slice []\n"
     ]
    }
   ],
   "source": [
    "my_slice = my_list[1:1]\n",
    "print(\"Before Slice\",my_list)\n",
    "print(\"After Slice\",my_slice)"
   ]
  },
  {
   "cell_type": "code",
   "execution_count": 5,
   "metadata": {},
   "outputs": [
    {
     "name": "stdout",
     "output_type": "stream",
     "text": [
      "Before Slice ['red', 'orange', 'yellow', 'green']\n",
      "After Slice ['red', 'orange']\n"
     ]
    }
   ],
   "source": [
    "my_slice = my_list[:2]\n",
    "print(\"Before Slice\",my_list)\n",
    "print(\"After Slice\",my_slice)"
   ]
  },
  {
   "cell_type": "markdown",
   "metadata": {},
   "source": [
    "#### **Slice Defaults**\n",
    "If no number is used for the starting point in a slice `my_list[:2]`, Python will default to 0. If no number is used for the stopping point `my_list[2:]`, Python will default to the end of the list. Using no numbers on a slice `my_list[:]`, Python will default to 0 for the start and the end of the list as the stopping point. In short, Python will return the entire list."
   ]
  },
  {
   "cell_type": "code",
   "execution_count": 6,
   "metadata": {},
   "outputs": [
    {
     "name": "stdout",
     "output_type": "stream",
     "text": [
      "Before Slice ['red', 'orange', 'yellow', 'green']\n",
      "After Slice ['yellow', 'green']\n"
     ]
    }
   ],
   "source": [
    "my_slice = my_list[2:]\n",
    "print(\"Before Slice\",my_list)\n",
    "print(\"After Slice\",my_slice)"
   ]
  },
  {
   "cell_type": "code",
   "execution_count": 7,
   "metadata": {},
   "outputs": [
    {
     "name": "stdout",
     "output_type": "stream",
     "text": [
      "Before Slice ['red', 'orange', 'yellow', 'green']\n",
      "After Slice ['red', 'orange', 'yellow', 'green']\n"
     ]
    }
   ],
   "source": [
    "my_slice = my_list[:]\n",
    "print(\"Before Slice\",my_list)\n",
    "print(\"After Slice\",my_slice)"
   ]
  },
  {
   "cell_type": "markdown",
   "metadata": {},
   "source": [
    "### **Reading Question**\n",
    "Choose the correct list and select the correct values for the slice operator so that you will have a list of:\n",
    "\n",
    "`[98, 10, 1]`\n",
    "\n",
    "Drag from here\n",
    "```\n",
    "my_list[1:3]\n",
    "my_list = [32, 98, 10, 77, 1]\n",
    "```\n",
    "***<font color = green>my_list = [32, 98, 10, 1, 77]</font>***\n",
    "```\n",
    "my_list = [98, 32, 10, 1, 77]\n",
    "my_list[0:3]\n",
    "```\n",
    "***<font color = green>my_list[1:4]</font>***\n",
    "\n",
    "Construct your solution here"
   ]
  },
  {
   "cell_type": "code",
   "execution_count": null,
   "metadata": {},
   "outputs": [],
   "source": [
    "my_list = [32, 98, 10, 1, 77]\n",
    "print(my_list[1:4])"
   ]
  },
  {
   "cell_type": "markdown",
   "metadata": {},
   "source": [
    "The first step is to define the list. The slice operator returns consecutive elements in a list. That means you need a list with `98, 10, 1` in that order. So the list should be `my_list = [32, 98, 10, 1, 77]`. Next is to select the proper slice command. The slice operator includes the first number, but does not include the second number. Since we want elements 1, 2, and 3 from `my_list`, the slice command should be `my_list[1:4]`."
   ]
  }
 ],
 "metadata": {
  "interpreter": {
   "hash": "12d9efd1b418ad7485587f2da0512ee7fc7c20b6462fdb2a696d6f33bbf19b58"
  },
  "kernelspec": {
   "display_name": "Python 3.10.4 64-bit",
   "language": "python",
   "name": "python3"
  },
  "language_info": {
   "codemirror_mode": {
    "name": "ipython",
    "version": 3
   },
   "file_extension": ".py",
   "mimetype": "text/x-python",
   "name": "python",
   "nbconvert_exporter": "python",
   "pygments_lexer": "ipython3",
   "version": "3.10.4"
  },
  "orig_nbformat": 4
 },
 "nbformat": 4,
 "nbformat_minor": 2
}
