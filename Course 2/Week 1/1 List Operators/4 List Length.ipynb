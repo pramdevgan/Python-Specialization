{
 "cells": [
  {
   "cell_type": "markdown",
   "metadata": {},
   "source": [
    "# ***List Length***\n",
    "## **List Length**\n",
    "Python has a function (`len`) to determine the length of a list."
   ]
  },
  {
   "cell_type": "code",
   "execution_count": 8,
   "metadata": {},
   "outputs": [
    {
     "name": "stdout",
     "output_type": "stream",
     "text": [
      "list_1 lenght is: 7\n",
      "list_2 lenght is: 6\n",
      "list_1 is longer than list_2\n"
     ]
    }
   ],
   "source": [
    "list_1 = [12, 66, 52, 97, 28, 41, 7]\n",
    "list_2 = [68, True, 34, False, 41.897, \"apple\"]\n",
    "print(\"list_1 lenght is:\",  len(list_1))\n",
    "print(\"list_2 lenght is:\",  len(list_2))\n",
    "\n",
    "if len(list_1) > len(list_2):\n",
    "    print(\"list_1 is longer than list_2\")\n",
    "elif len(list_1) == len(list_2):\n",
    "    print(\"list_1 and list_2 are the same length\")\n",
    "else:\n",
    "    print(\"list_2 is longer than list_1\")"
   ]
  },
  {
   "cell_type": "markdown",
   "metadata": {},
   "source": [
    "### **The Empty List**\n",
    "We already talked about the empty list, `[]`. It is a list with no elements. You can define an empty list with code if `len(my_list) == 0` is true, then the list is an empty list."
   ]
  },
  {
   "cell_type": "markdown",
   "metadata": {},
   "source": [
    "### ***What happens if you:***\n",
    "- Remove one of the elements from `list_1`?\n",
    "- Add a few elements to `list_2`?\n",
    "- Change `list_2` to `list_2 = [i for i in range(0, 20)]`?"
   ]
  },
  {
   "cell_type": "code",
   "execution_count": 9,
   "metadata": {},
   "outputs": [
    {
     "name": "stdout",
     "output_type": "stream",
     "text": [
      "list_1 lenght is: 6\n",
      "list_2 lenght is: 6\n",
      "list_1 and list_2 are the same length\n"
     ]
    }
   ],
   "source": [
    "list_1 = [12, 66, 52, 97, 28, 41]\n",
    "list_2 = [68, True, 34, False, 41.897, \"apple\"]\n",
    "print(\"list_1 lenght is:\",  len(list_1))\n",
    "print(\"list_2 lenght is:\",  len(list_2))\n",
    "\n",
    "if len(list_1) > len(list_2):\n",
    "    print(\"list_1 is longer than list_2\")\n",
    "elif len(list_1) == len(list_2):\n",
    "    print(\"list_1 and list_2 are the same length\")\n",
    "else:\n",
    "    print(\"list_2 is longer than list_1\")"
   ]
  },
  {
   "cell_type": "code",
   "execution_count": 10,
   "metadata": {},
   "outputs": [
    {
     "name": "stdout",
     "output_type": "stream",
     "text": [
      "list_1 lenght is: 6\n",
      "list_2 lenght is: 7\n",
      "list_2 is longer than list_1\n"
     ]
    }
   ],
   "source": [
    "list_1 = [12, 66, 52, 97, 28, 41]\n",
    "list_2 = [68, True, 34, False, 41.897, \"apple\", \"banana\"]\n",
    "print(\"list_1 lenght is:\",  len(list_1))\n",
    "print(\"list_2 lenght is:\",  len(list_2))\n",
    "\n",
    "if len(list_1) > len(list_2):\n",
    "    print(\"list_1 is longer than list_2\")\n",
    "elif len(list_1) == len(list_2):\n",
    "    print(\"list_1 and list_2 are the same length\")\n",
    "else:\n",
    "    print(\"list_2 is longer than list_1\")"
   ]
  },
  {
   "cell_type": "code",
   "execution_count": 11,
   "metadata": {},
   "outputs": [
    {
     "name": "stdout",
     "output_type": "stream",
     "text": [
      "list_1 lenght is: 6\n",
      "list_2 lenght is: 20\n",
      "list_2 is longer than list_1\n"
     ]
    }
   ],
   "source": [
    "list_1 = [12, 66, 52, 97, 28, 41]\n",
    "list_2 = [i for i in range (0,20)]\n",
    "print(\"list_1 lenght is:\",  len(list_1))\n",
    "print(\"list_2 lenght is:\",  len(list_2))\n",
    "\n",
    "if len(list_1) > len(list_2):\n",
    "    print(\"list_1 is longer than list_2\")\n",
    "elif len(list_1) == len(list_2):\n",
    "    print(\"list_1 and list_2 are the same length\")\n",
    "else:\n",
    "    print(\"list_2 is longer than list_1\")"
   ]
  },
  {
   "cell_type": "markdown",
   "metadata": {},
   "source": [
    "### ***Reading Question***\n",
    "What is the relationship of the length of a list and the value of its last index?\n",
    "\n",
    "\n",
    "- The length of a list is always 1 greater than the value of the last index. <--- Correct answer\n",
    "- The value of the length is equal to the value of the last index.\n",
    "- The value of the last index is 1 greater than the length.\n",
    "\n",
    "`Because you start counting at 0 for the index, it is always 1 smaller than the length of a list. For example, a list with the length of 4 will have 3 as the last index.`"
   ]
  }
 ],
 "metadata": {
  "interpreter": {
   "hash": "12d9efd1b418ad7485587f2da0512ee7fc7c20b6462fdb2a696d6f33bbf19b58"
  },
  "kernelspec": {
   "display_name": "Python 3.10.4 64-bit",
   "language": "python",
   "name": "python3"
  },
  "language_info": {
   "codemirror_mode": {
    "name": "ipython",
    "version": 3
   },
   "file_extension": ".py",
   "mimetype": "text/x-python",
   "name": "python",
   "nbconvert_exporter": "python",
   "pygments_lexer": "ipython3",
   "version": "3.10.4"
  },
  "orig_nbformat": 4
 },
 "nbformat": 4,
 "nbformat_minor": 2
}
