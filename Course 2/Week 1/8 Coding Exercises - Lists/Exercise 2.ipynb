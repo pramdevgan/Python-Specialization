{
 "cells": [
  {
   "cell_type": "markdown",
   "metadata": {},
   "source": [
    "# **Exercise 2**\n",
    "## **Lists Exercise 2**\n",
    "### *Problem*\n",
    "Write a program that takes a list called `my_list` (it could be a list of any data type) and prints the list *three times* if the length of the list is *less than 5*. If the length of `my_list` is *greater than or equal to 5*, then print the list *one time*.\n",
    "#### **Expected Output**\n",
    "- If `my_list = ['hi', 'hello']` then you will print [`'hi', 'hello', 'hi', 'hello', 'hi', 'hello']`\n",
    "- If `my_list = [65, 111, 2, 81, 65, 32]` then you will print `[65, 111, 2, 81, 65, 32]`\n",
    "#### **Important**\n",
    "Do not edit the code in the top section. This code is necessary for the auto-grader to work. Add your code in the section below.\n",
    "#### **Testing Your Code**\n",
    "The `TEST 1` will test your code with `my_list = ['hi', 'hello']`. <br>\n",
    "The `TEST 2` will test your code with `my_list = [65, 111, 2, 81, 65, 32]`. <br>"
   ]
  },
  {
   "cell_type": "markdown",
   "metadata": {},
   "source": [
    "<p style = \"text-align: center; font-size: 3rem; font-weight: bold;\">TEST 1</p>"
   ]
  },
  {
   "cell_type": "code",
   "execution_count": 1,
   "metadata": {},
   "outputs": [
    {
     "name": "stdout",
     "output_type": "stream",
     "text": [
      "['hi', 'hello', 'hi', 'hello', 'hi', 'hello']\n"
     ]
    }
   ],
   "source": [
    "########################################################\n",
    "# DO NOT EDIT THE CODE IN THE SECTION BELOW\n",
    "########################################################\n",
    "import sys\n",
    "\n",
    "my_list = ['hi', 'hello'] \n",
    "\n",
    "########################################################\n",
    "# Enter your code below\n",
    "########################################################\n",
    "my_list_Length = len(my_list)\n",
    "if my_list_Length < 5:\n",
    "    print(my_list*3)\n",
    "else:\n",
    "    print(my_list*1)"
   ]
  },
  {
   "cell_type": "markdown",
   "metadata": {},
   "source": [
    "<p style = \"text-align: center; font-size: 3rem; font-weight: bold;\">TEST 2</p>"
   ]
  },
  {
   "cell_type": "code",
   "execution_count": 2,
   "metadata": {},
   "outputs": [
    {
     "name": "stdout",
     "output_type": "stream",
     "text": [
      "[65, 111, 2, 81, 65, 32]\n"
     ]
    }
   ],
   "source": [
    "########################################################\n",
    "# DO NOT EDIT THE CODE IN THE SECTION BELOW\n",
    "########################################################\n",
    "import sys\n",
    "\n",
    "my_list = [65, 111, 2, 81, 65, 32] \n",
    "\n",
    "########################################################\n",
    "# Enter your code below\n",
    "########################################################\n",
    "my_list_Length = len(my_list)\n",
    "if my_list_Length < 5:\n",
    "    print(my_list*3)\n",
    "else:\n",
    "    print(my_list*1)"
   ]
  },
  {
   "cell_type": "markdown",
   "metadata": {},
   "source": [
    "<p style = \"font-weight: bold; text-align: center; font-size:2rem;\">HERE IS ANOTHER SOLUTION</p>"
   ]
  },
  {
   "cell_type": "code",
   "execution_count": 3,
   "metadata": {},
   "outputs": [
    {
     "name": "stdout",
     "output_type": "stream",
     "text": [
      "['--ip=127.0.0.1', '--stdin=9013', '--control=9011', '--hb=9010', '--Session.signature_scheme=\"hmac-sha256\"', '--Session.key=b\"9d18119e-0262-4191-a389-604f2f90ba48\"', '--shell=9012', '--transport=\"tcp\"', '--iopub=9014', '--f=c:\\\\Users\\\\vpram\\\\AppData\\\\Roaming\\\\jupyter\\\\runtime\\\\kernel-v2-229725X3sgaFlFhoY.json']\n"
     ]
    }
   ],
   "source": [
    "import sys\n",
    "my_list = sys.argv[1:]\n",
    "if len(my_list) < 5:\n",
    "    print(my_list * 3)\n",
    "else:\n",
    "    print(my_list)"
   ]
  }
 ],
 "metadata": {
  "kernelspec": {
   "display_name": "Python 3.10.4 64-bit",
   "language": "python",
   "name": "python3"
  },
  "language_info": {
   "codemirror_mode": {
    "name": "ipython",
    "version": 3
   },
   "file_extension": ".py",
   "mimetype": "text/x-python",
   "name": "python",
   "nbconvert_exporter": "python",
   "pygments_lexer": "ipython3",
   "version": "3.10.4"
  },
  "orig_nbformat": 4,
  "vscode": {
   "interpreter": {
    "hash": "12d9efd1b418ad7485587f2da0512ee7fc7c20b6462fdb2a696d6f33bbf19b58"
   }
  }
 },
 "nbformat": 4,
 "nbformat_minor": 2
}
