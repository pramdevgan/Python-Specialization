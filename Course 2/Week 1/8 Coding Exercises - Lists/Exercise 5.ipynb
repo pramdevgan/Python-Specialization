{
 "cells": [
  {
   "cell_type": "markdown",
   "metadata": {},
   "source": [
    "# **Exercise 5**\n",
    "## **Lists Exercise 5**\n",
    "### **Problem**\n",
    "Write a program that accepts a 2D list of zeros. Print the 2D list in rows and columns without the square brackets and commas. Moving diagonally from the top-left to the bottom right, replace each 0 with a 1. The IDE already declares the variable `number` and the 2D list `data`. Use `number` to represent the number of rows and columns, and `data` to represent the 2D list of zeros.\n",
    "### **What does `sys.argv[1]` mean?**\n",
    "You are expected to iterate over a 2D list with a specific number of rows and columns. However, we do not want you to know what that number is. Using `sys.argv[1]` allows us to send your program a \"hidden\" number. That number is the used to make a 2D list of zeros. Your code will be tested three times, each time with a different number of rows and columns.\n",
    "\n",
    "#### **Expected output**\n",
    "![](https://i.imgur.com/axtlcvQ.png)"
   ]
  },
  {
   "cell_type": "markdown",
   "metadata": {},
   "source": [
    "#### **Important**\n",
    "Do not edit the code in the top section. This code is necessary for the auto-grader to work. Add your code in the section below.\n",
    "#### **Testing Your Code**\n",
    "The `TEST 1` button will test your code with `three rows`.<br> \n",
    "The `TEST 2` button will test your code with `four rows`.<br>"
   ]
  },
  {
   "cell_type": "code",
   "execution_count": 30,
   "metadata": {},
   "outputs": [
    {
     "name": "stdout",
     "output_type": "stream",
     "text": [
      "1 0 0 \n",
      "0 1 0 \n",
      "0 0 1 \n"
     ]
    }
   ],
   "source": [
    "########################################################\n",
    "# DO NOT EDIT THE CODE IN THE SECTION BELOW\n",
    "########################################################\n",
    "import sys\n",
    "\n",
    "# number = int(sys.argv[1])\n",
    "number = 3\n",
    "data = [[0 for i in range(number)] for j in range(number)]\n",
    "\n",
    "########################################################\n",
    "# Enter your code below\n",
    "########################################################\n",
    "for row in range(number):\n",
    "    for column in range(number):\n",
    "        if row == column:\n",
    "            data[row][column] = 1\n",
    "        print(f\"{data[row][column]} \", end=\"\")\n",
    "    print()"
   ]
  },
  {
   "cell_type": "code",
   "execution_count": 31,
   "metadata": {},
   "outputs": [
    {
     "name": "stdout",
     "output_type": "stream",
     "text": [
      "1 0 0 0 \n",
      "0 1 0 0 \n",
      "0 0 1 0 \n",
      "0 0 0 1 \n"
     ]
    }
   ],
   "source": [
    "########################################################\n",
    "# DO NOT EDIT THE CODE IN THE SECTION BELOW\n",
    "########################################################\n",
    "import sys\n",
    "\n",
    "# number = int(sys.argv[1])\n",
    "number = 4\n",
    "data = [[0 for i in range(number)] for j in range(number)]\n",
    "\n",
    "########################################################\n",
    "# Enter your code below\n",
    "########################################################\n",
    "for row in range(number):\n",
    "    for column in range(number):\n",
    "        if row == column:\n",
    "            data[row][column] = 1\n",
    "        print(f\"{data[row][column]} \", end=\"\")\n",
    "    print()"
   ]
  },
  {
   "cell_type": "code",
   "execution_count": 32,
   "metadata": {},
   "outputs": [
    {
     "name": "stdout",
     "output_type": "stream",
     "text": [
      "1 0 0 0 0 \n",
      "0 1 0 0 0 \n",
      "0 0 1 0 0 \n",
      "0 0 0 1 0 \n",
      "0 0 0 0 1 \n"
     ]
    }
   ],
   "source": [
    "########################################################\n",
    "# DO NOT EDIT THE CODE IN THE SECTION BELOW\n",
    "########################################################\n",
    "import sys\n",
    "\n",
    "# number = int(sys.argv[1])\n",
    "number = 5\n",
    "data = [[0 for i in range(number)] for j in range(number)]\n",
    "\n",
    "########################################################\n",
    "# Enter your code below\n",
    "########################################################\n",
    "for row in range(number):\n",
    "    for column in range(number):\n",
    "        if row == column:\n",
    "            data[row][column] = 1\n",
    "        print(f\"{data[row][column]} \", end=\"\")\n",
    "    print()"
   ]
  }
 ],
 "metadata": {
  "kernelspec": {
   "display_name": "Python 3.10.4 64-bit",
   "language": "python",
   "name": "python3"
  },
  "language_info": {
   "codemirror_mode": {
    "name": "ipython",
    "version": 3
   },
   "file_extension": ".py",
   "mimetype": "text/x-python",
   "name": "python",
   "nbconvert_exporter": "python",
   "pygments_lexer": "ipython3",
   "version": "3.10.4"
  },
  "orig_nbformat": 4,
  "vscode": {
   "interpreter": {
    "hash": "12d9efd1b418ad7485587f2da0512ee7fc7c20b6462fdb2a696d6f33bbf19b58"
   }
  }
 },
 "nbformat": 4,
 "nbformat_minor": 2
}
