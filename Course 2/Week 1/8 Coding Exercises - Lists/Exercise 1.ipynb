{
 "cells": [
  {
   "cell_type": "markdown",
   "metadata": {},
   "source": [
    "# **Exercise 1**\n",
    "## **Lists Exercise 1**\n",
    "### **Problem**\n",
    "Write a program that takes a list of integers called `numbers` and replaces each element greater than 10 with a `'*'`. Print the new version of `numbers`.\n",
    "### **Expected Output**\n",
    "If numbers = `[30, 1, 20, 4]` then you will print `['*', 1, '*', 4]` <br>\n",
    "If numbers = `[5, 9, 11, 23]` then you will print `[5, 9, '*', '*']` <br>\n",
    "#### ***Hint***\n",
    "Using the iteration variable alone is not sufficient to change the element of a list. You need to be able to access the **index** of the iteration variable to modify the element.\n",
    "### **Important**\n",
    "Do not edit the code in the top section. This code is necessary for the auto-grader to work. Add your code in the section below.\n",
    "### **Testing Your Code**\n",
    "The `TEST 1` test your code with `numbers = [30, 1, 20, 4]`. <br>\n",
    "The `TEST 2` test your code with `numbers = [5, 9, 11, 23]`"
   ]
  },
  {
   "cell_type": "code",
   "execution_count": 2,
   "metadata": {},
   "outputs": [
    {
     "name": "stdout",
     "output_type": "stream",
     "text": [
      "['*', 1, '*', 4]\n"
     ]
    }
   ],
   "source": [
    "########################################################\n",
    "# DO NOT EDIT THE CODE IN THE SECTION BELOW\n",
    "########################################################\n",
    "import sys\n",
    "\n",
    "numbers = [30, 1, 20, 4]\n",
    "for i in range(len(numbers)):\n",
    "    numbers[i] = int(numbers[i])\n",
    "\n",
    "########################################################\n",
    "# Enter your code below\n",
    "########################################################\n",
    "    if numbers[i] > 10:\n",
    "        numbers[i] = \"*\"\n",
    "print(numbers)"
   ]
  },
  {
   "cell_type": "markdown",
   "metadata": {},
   "source": [
    "<p style  = \"text-align: center; font-size:3rem; color: brown; font-weight: bold\">HERE IS ANOTHER SOLUTION</p>"
   ]
  },
  {
   "cell_type": "code",
   "execution_count": 9,
   "metadata": {},
   "outputs": [
    {
     "name": "stdout",
     "output_type": "stream",
     "text": [
      "[5, 9, '*', '*']\n"
     ]
    }
   ],
   "source": [
    "########################################################\n",
    "# DO NOT EDIT THE CODE IN THE SECTION BELOW\n",
    "########################################################\n",
    "import sys\n",
    "\n",
    "numbers = [5,9,11,23]\n",
    "for number in numbers:\n",
    "\n",
    "########################################################\n",
    "# Enter your code below\n",
    "########################################################\n",
    "    if number > 10:\n",
    "        numbers[numbers.index(number)] = \"*\"\n",
    "print(numbers)"
   ]
  },
  {
   "cell_type": "markdown",
   "metadata": {},
   "source": [
    "The key to this solution is being able to access the index of the list. The basic format of this is `list[index]`. However, you will need to use the `index` method to find the index of `number`."
   ]
  }
 ],
 "metadata": {
  "kernelspec": {
   "display_name": "Python 3.10.4 64-bit",
   "language": "python",
   "name": "python3"
  },
  "language_info": {
   "codemirror_mode": {
    "name": "ipython",
    "version": 3
   },
   "file_extension": ".py",
   "mimetype": "text/x-python",
   "name": "python",
   "nbconvert_exporter": "python",
   "pygments_lexer": "ipython3",
   "version": "3.10.4"
  },
  "orig_nbformat": 4,
  "vscode": {
   "interpreter": {
    "hash": "12d9efd1b418ad7485587f2da0512ee7fc7c20b6462fdb2a696d6f33bbf19b58"
   }
  }
 },
 "nbformat": 4,
 "nbformat_minor": 2
}
