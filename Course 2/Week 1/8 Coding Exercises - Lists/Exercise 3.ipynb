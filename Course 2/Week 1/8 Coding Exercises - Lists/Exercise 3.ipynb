{
 "cells": [
  {
   "cell_type": "markdown",
   "metadata": {},
   "source": [
    "# **Exercise 3**\n",
    "## **Lists Exercise 3**\n",
    "### **Problem**\n",
    "Write a program that takes a list called `strings` that contains a random selection of strings. Your program should print the first string when arranged in alphabetical order.\n",
    "#### **Expected Output**\n",
    "- If `strings = ['luck', 'cat', 'kid', 'house']` then you will print `cat`\n",
    "- If `strings = ['duck', 'dddd', 'mouse', 'kite']` then you will print `dddd`\n",
    "#### **Important**\n",
    "Do not edit the code in the top section. This code is necessary for the auto-grader to work. Add your code in the section below.\n",
    "#### **Testing Your Code**\n",
    "The `TEST` 1 button will test your code with `strings = ['luck', 'cat', 'kid', 'house']`. <br> \n",
    "The `TEST` 2 button will test your code with `strings = ['duck', 'dddd', 'mouse', 'kite']`.<br>"
   ]
  },
  {
   "cell_type": "markdown",
   "metadata": {},
   "source": [
    "<p style = \"color: brown; font-weight: bold; text-align: center; font-size:3rem;\">THERE ARE TWO WAY TO SOLVE THIS PROBLEM</p>"
   ]
  },
  {
   "cell_type": "markdown",
   "metadata": {},
   "source": [
    "<p style = \"color: brown; font-weight: bold; text-align: center; font-size:2rem;\">USING MIN()</p>\n",
    "\n",
    "The `min` function will return the “smallest” element. When dealing with strings, the “smallest” string will the one that comes first alphabetically."
   ]
  },
  {
   "cell_type": "code",
   "execution_count": 4,
   "metadata": {},
   "outputs": [
    {
     "name": "stdout",
     "output_type": "stream",
     "text": [
      "cat\n"
     ]
    }
   ],
   "source": [
    "########################################################\n",
    "# DO NOT EDIT THE CODE IN THE SECTION BELOW\n",
    "########################################################\n",
    "import sys\n",
    "\n",
    "# strings = sys.argv[1:]\n",
    "strings = ['luck', 'cat', 'kid', 'house']\n",
    "\n",
    "########################################################\n",
    "# Enter your code below\n",
    "########################################################\n",
    "import random\n",
    "print(min(strings))\n"
   ]
  },
  {
   "cell_type": "markdown",
   "metadata": {},
   "source": [
    "<p style = \"color: brown; font-weight: bold; text-align: center; font-size:2rem;\">USING SORT()</p>\n",
    "\n",
    "To arrange a list in alphabetical order, use the `sort` method. To remove the first element from the list, you can use the `pop` method, but don’t forget to pass 0 as the parameter so you will remove the first element. If you don’t pass 0 as a parameter,  `pop` will remove the last element. You can also use `print(strings[0])` as well."
   ]
  },
  {
   "cell_type": "code",
   "execution_count": 6,
   "metadata": {},
   "outputs": [
    {
     "name": "stdout",
     "output_type": "stream",
     "text": [
      "dddd\n"
     ]
    }
   ],
   "source": [
    "strings = ['duck', 'dddd', 'mouse', 'kite']\n",
    "strings.sort()\n",
    "print(strings.pop(0))"
   ]
  }
 ],
 "metadata": {
  "kernelspec": {
   "display_name": "Python 3.10.4 64-bit",
   "language": "python",
   "name": "python3"
  },
  "language_info": {
   "codemirror_mode": {
    "name": "ipython",
    "version": 3
   },
   "file_extension": ".py",
   "mimetype": "text/x-python",
   "name": "python",
   "nbconvert_exporter": "python",
   "pygments_lexer": "ipython3",
   "version": "3.10.4"
  },
  "orig_nbformat": 4,
  "vscode": {
   "interpreter": {
    "hash": "12d9efd1b418ad7485587f2da0512ee7fc7c20b6462fdb2a696d6f33bbf19b58"
   }
  }
 },
 "nbformat": 4,
 "nbformat_minor": 2
}
