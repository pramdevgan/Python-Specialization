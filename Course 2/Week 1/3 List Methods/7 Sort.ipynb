{
 "cells": [
  {
   "cell_type": "markdown",
   "metadata": {},
   "source": [
    "# ***Sort***\n",
    "## **The Sort Method**\n",
    "The `sort` method arranges a list in order. If the `sort` method does not have a parameter, then it will sort the list in ascending order. The `sort` method does not return a new list; instead it modifies the original list."
   ]
  },
  {
   "cell_type": "code",
   "execution_count": 1,
   "metadata": {},
   "outputs": [
    {
     "name": "stdout",
     "output_type": "stream",
     "text": [
      "[23, 55, 11, 7, 82.9, -14, 0, 34]\n",
      "[-14, 0, 7, 11, 23, 34, 55, 82.9]\n"
     ]
    }
   ],
   "source": [
    "my_list = [23, 55, 11, 7, 82.9, -14, 0, 34]\n",
    "print(my_list)\n",
    "my_list.sort()\n",
    "print(my_list)"
   ]
  },
  {
   "cell_type": "markdown",
   "metadata": {},
   "source": [
    "#### **What happens if you:**\n",
    "- Change the list to `my_list = [\"zebra\", \"door\", \"apple\", \"cat\", \"deer\", \"bark\"]`?\n",
    "- Change the list to `my_list = [23, 15, \"red\", 90, -8, False]`?\n",
    "- Change the list to `my_list = [\"APPLE\", \"apple\", \"Apple\"]`?"
   ]
  },
  {
   "cell_type": "code",
   "execution_count": 1,
   "metadata": {},
   "outputs": [
    {
     "name": "stdout",
     "output_type": "stream",
     "text": [
      "['zebra', 'door', 'apple', 'cat', 'deer', 'bark']\n",
      "['apple', 'bark', 'cat', 'deer', 'door', 'zebra']\n"
     ]
    }
   ],
   "source": [
    "my_list = [\"zebra\", \"door\", \"apple\", \"cat\", \"deer\", \"bark\"]\n",
    "print(my_list)\n",
    "my_list.sort()\n",
    "print(my_list)"
   ]
  },
  {
   "cell_type": "code",
   "execution_count": 6,
   "metadata": {},
   "outputs": [
    {
     "name": "stdout",
     "output_type": "stream",
     "text": [
      "[23, 15, 'red', 90, -8, False]\n"
     ]
    },
    {
     "ename": "TypeError",
     "evalue": "'<' not supported between instances of 'str' and 'int'",
     "output_type": "error",
     "traceback": [
      "\u001b[1;31m---------------------------------------------------------------------------\u001b[0m",
      "\u001b[1;31mTypeError\u001b[0m                                 Traceback (most recent call last)",
      "\u001b[1;32mc:\\Users\\vpram\\Python Specialization\\Course 2\\Week 1\\3 List Methods\\7 Sort.ipynb Cell 5'\u001b[0m in \u001b[0;36m<module>\u001b[1;34m\u001b[0m\n\u001b[0;32m      <a href='vscode-notebook-cell:/c%3A/Users/vpram/Python%20Specialization/Course%202/Week%201/3%20List%20Methods/7%20Sort.ipynb#ch0000004?line=0'>1</a>\u001b[0m my_list \u001b[39m=\u001b[39m [\u001b[39m23\u001b[39m, \u001b[39m15\u001b[39m, \u001b[39m\"\u001b[39m\u001b[39mred\u001b[39m\u001b[39m\"\u001b[39m, \u001b[39m90\u001b[39m, \u001b[39m-\u001b[39m\u001b[39m8\u001b[39m, \u001b[39mFalse\u001b[39;00m]\n\u001b[0;32m      <a href='vscode-notebook-cell:/c%3A/Users/vpram/Python%20Specialization/Course%202/Week%201/3%20List%20Methods/7%20Sort.ipynb#ch0000004?line=1'>2</a>\u001b[0m \u001b[39mprint\u001b[39m(my_list)\n\u001b[1;32m----> <a href='vscode-notebook-cell:/c%3A/Users/vpram/Python%20Specialization/Course%202/Week%201/3%20List%20Methods/7%20Sort.ipynb#ch0000004?line=2'>3</a>\u001b[0m my_list\u001b[39m.\u001b[39;49msort()\n\u001b[0;32m      <a href='vscode-notebook-cell:/c%3A/Users/vpram/Python%20Specialization/Course%202/Week%201/3%20List%20Methods/7%20Sort.ipynb#ch0000004?line=3'>4</a>\u001b[0m \u001b[39mprint\u001b[39m(my_list)\n",
      "\u001b[1;31mTypeError\u001b[0m: '<' not supported between instances of 'str' and 'int'"
     ]
    }
   ],
   "source": [
    "my_list = [23, 15, \"red\", 90, -8, False]\n",
    "print(my_list)\n",
    "my_list.sort()\n",
    "print(my_list)"
   ]
  },
  {
   "cell_type": "code",
   "execution_count": 3,
   "metadata": {},
   "outputs": [
    {
     "name": "stdout",
     "output_type": "stream",
     "text": [
      "['APPLE', 'apple', 'Apple']\n",
      "['APPLE', 'Apple', 'apple']\n"
     ]
    }
   ],
   "source": [
    "my_list = [\"APPLE\", \"apple\", \"Apple\"]\n",
    "print(my_list)\n",
    "my_list.sort()\n",
    "print(my_list)"
   ]
  },
  {
   "cell_type": "markdown",
   "metadata": {},
   "source": [
    "## ***Reverse Sort***\n",
    "The `sort` method has an optional parameter to sort a list in descending order. Use `reverse=True` as the parameter to reverse sort a list."
   ]
  },
  {
   "cell_type": "code",
   "execution_count": 7,
   "metadata": {},
   "outputs": [
    {
     "name": "stdout",
     "output_type": "stream",
     "text": [
      "[-14, 0, 7, 11, 23, 34, 55, 82.9]\n",
      "[82.9, 55, 34, 23, 11, 7, 0, -14]\n"
     ]
    }
   ],
   "source": [
    "my_list = [23, 55, 11, 7, 82.9, -14, 0, 34]\n",
    "my_list.sort()\n",
    "print(my_list)\n",
    "my_list.sort(reverse=True)\n",
    "print(my_list)"
   ]
  },
  {
   "cell_type": "markdown",
   "metadata": {},
   "source": [
    "Reading Question\n",
    "Select all of the statements that are true about the sort method. Hint, there are more than one correct answer.\n",
    "\n",
    "\n",
    "- The `sort` method can sort a list with mixed datatypes (i.e. floats, ints, strings, etc.) <---- Correct answer\n",
    "- The `sort` method can only sort numbers\n",
    "- The `sort` method can sort lists in ascending and descending order <---- Correct answer\n",
    "- The `sort` method returns a new list"
   ]
  }
 ],
 "metadata": {
  "interpreter": {
   "hash": "12d9efd1b418ad7485587f2da0512ee7fc7c20b6462fdb2a696d6f33bbf19b58"
  },
  "kernelspec": {
   "display_name": "Python 3.10.4 64-bit",
   "language": "python",
   "name": "python3"
  },
  "language_info": {
   "codemirror_mode": {
    "name": "ipython",
    "version": 3
   },
   "file_extension": ".py",
   "mimetype": "text/x-python",
   "name": "python",
   "nbconvert_exporter": "python",
   "pygments_lexer": "ipython3",
   "version": "3.10.4"
  },
  "orig_nbformat": 4
 },
 "nbformat": 4,
 "nbformat_minor": 2
}
