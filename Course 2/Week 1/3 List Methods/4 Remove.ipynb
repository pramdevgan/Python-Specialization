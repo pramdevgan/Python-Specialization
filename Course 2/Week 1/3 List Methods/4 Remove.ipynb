{
 "cells": [
  {
   "cell_type": "markdown",
   "metadata": {},
   "source": [
    "# ***Remove***\n",
    "# **The Remove Method**\n",
    "The `remove` method has one parameter, the object to be removed from the list.\n",
    "\n",
    "![](https://apollo-media.codio.com/media%2F1%2Fb4839dc8e3d3e07c95ae90d4b583fbb3-4e457717-906f-4dfb-900e-6588efee9493.webp)"
   ]
  },
  {
   "cell_type": "code",
   "execution_count": 1,
   "metadata": {},
   "outputs": [
    {
     "name": "stdout",
     "output_type": "stream",
     "text": [
      "[1, 3, 4]\n"
     ]
    }
   ],
   "source": [
    "my_list = [1,2,3,4]\n",
    "my_list.remove(2)\n",
    "print(my_list)"
   ]
  },
  {
   "cell_type": "markdown",
   "metadata": {},
   "source": [
    "#### **What happens if you:**\n",
    "- Change the `remove` method to `my_list.remove(3)`?\n",
    "- Change the `remove` method to `my_list.remove(2 *2)`?\n",
    "- Change the `remove` method to `my_list.remove(0)`"
   ]
  },
  {
   "cell_type": "code",
   "execution_count": 2,
   "metadata": {},
   "outputs": [
    {
     "name": "stdout",
     "output_type": "stream",
     "text": [
      "[1, 2, 4]\n"
     ]
    }
   ],
   "source": [
    "my_list = [1,2,3,4]\n",
    "my_list.remove(3)\n",
    "print(my_list)"
   ]
  },
  {
   "cell_type": "code",
   "execution_count": 8,
   "metadata": {},
   "outputs": [
    {
     "name": "stdout",
     "output_type": "stream",
     "text": [
      "[1, 2, 3]\n"
     ]
    }
   ],
   "source": [
    "my_list = [1,2,3,4]\n",
    "my_list.remove(2 *2)\n",
    "print(my_list)"
   ]
  },
  {
   "cell_type": "code",
   "execution_count": 4,
   "metadata": {},
   "outputs": [
    {
     "ename": "ValueError",
     "evalue": "list.remove(x): x not in list",
     "output_type": "error",
     "traceback": [
      "\u001b[1;31m---------------------------------------------------------------------------\u001b[0m",
      "\u001b[1;31mValueError\u001b[0m                                Traceback (most recent call last)",
      "\u001b[1;32mc:\\Users\\vpram\\Python Specialization\\Course 2\\Week 1\\3 List Methods\\4 Remove.ipynb Cell 6'\u001b[0m in \u001b[0;36m<module>\u001b[1;34m\u001b[0m\n\u001b[0;32m      <a href='vscode-notebook-cell:/c%3A/Users/vpram/Python%20Specialization/Course%202/Week%201/3%20List%20Methods/4%20Remove.ipynb#ch0000006?line=0'>1</a>\u001b[0m my_list \u001b[39m=\u001b[39m [\u001b[39m1\u001b[39m,\u001b[39m2\u001b[39m,\u001b[39m3\u001b[39m,\u001b[39m4\u001b[39m]\n\u001b[1;32m----> <a href='vscode-notebook-cell:/c%3A/Users/vpram/Python%20Specialization/Course%202/Week%201/3%20List%20Methods/4%20Remove.ipynb#ch0000006?line=1'>2</a>\u001b[0m my_list\u001b[39m.\u001b[39;49mremove(\u001b[39m0\u001b[39;49m)\n\u001b[0;32m      <a href='vscode-notebook-cell:/c%3A/Users/vpram/Python%20Specialization/Course%202/Week%201/3%20List%20Methods/4%20Remove.ipynb#ch0000006?line=2'>3</a>\u001b[0m \u001b[39mprint\u001b[39m(my_list)\n",
      "\u001b[1;31mValueError\u001b[0m: list.remove(x): x not in list"
     ]
    }
   ],
   "source": [
    "my_list = [1,2,3,4]\n",
    "my_list.remove(0)\n",
    "print(my_list)"
   ]
  },
  {
   "cell_type": "markdown",
   "metadata": {},
   "source": [
    "#### **Remove Versus Pop**\n",
    "What is the difference between the `remove` and `pop` methods? They both remove an element from a list, but there are some subtle differences as well.\n",
    "\n",
    "|      Pop         |         Remove      |\n",
    "-------------------|---------------------|\n",
    "Removes an element |\tRemoves an element\n",
    "Removes based on index |\tRemoves based on value\n",
    "Returns the removed value |\tDoes not return anything"
   ]
  },
  {
   "cell_type": "code",
   "execution_count": 10,
   "metadata": {},
   "outputs": [
    {
     "name": "stdout",
     "output_type": "stream",
     "text": [
      "[1, 2, 3, 4]\n",
      "[1, 2, 3, 4]\n"
     ]
    }
   ],
   "source": [
    "list_1 = [1,2,3,4,5]\n",
    "list_1.pop()\n",
    "print(list_1)\n",
    "\n",
    "list_2 = [1,2,3,4,5]\n",
    "list_2.remove(5)\n",
    "print(list_2)"
   ]
  },
  {
   "cell_type": "markdown",
   "metadata": {},
   "source": [
    "#### **What happens if you:**\n",
    "- Change the `pop` method to `list_1.pop(2)` and change the `remove` method to `list_2.remove(2)`?\n",
    "- Change the code to be the following:\n",
    "```\n",
    "list_1 = [1, 2, 3, 4, 5]\n",
    "print(list_1.pop())\n",
    "\n",
    "list_2 = [1, 2, 3, 4, 5]\n",
    "print(list_2.remove(5))\n",
    "```"
   ]
  },
  {
   "cell_type": "code",
   "execution_count": 21,
   "metadata": {},
   "outputs": [
    {
     "name": "stdout",
     "output_type": "stream",
     "text": [
      "[1, 2, 4, 5]\n",
      "[1, 2, 3, 4]\n"
     ]
    }
   ],
   "source": [
    "list_1 = [1,2,3,4,5]\n",
    "list_1.pop(2)\n",
    "print(list_1)\n",
    "\n",
    "list_2 = [1,2,3,4,5]\n",
    "list_2.remove(5)\n",
    "print(list_2)"
   ]
  },
  {
   "cell_type": "code",
   "execution_count": 19,
   "metadata": {},
   "outputs": [
    {
     "name": "stdout",
     "output_type": "stream",
     "text": [
      "5\n",
      "None\n"
     ]
    }
   ],
   "source": [
    "list_1 = [1, 2, 3, 4, 5]\n",
    "print(list_1.pop())\n",
    "\n",
    "list_2 = [1, 2, 3, 4, 5]\n",
    "print(list_2.remove(5))"
   ]
  },
  {
   "cell_type": "markdown",
   "metadata": {},
   "source": [
    "#### **Reading Question**\n",
    "Select all of reasons why you would want to use the `remove` method. Hint, there are more than one correct answer.\n",
    "\n",
    "\n",
    "- **You want to remove an element from a list**  <--- Correct answer\n",
    "- You want to have access to the element that was removed from the list\n",
    "- **You want to remove an element by its value, not its index** <--- Correct answer\n",
    "\n",
    "\n",
    "```\n",
    "The remove method allows you to remove an element from a list. It also allows you to remove by the element by its value and not its index. However, the remove method does not return a value. Therefore, you cannot have access to the element that was deleted from the list.\n",
    "```"
   ]
  }
 ],
 "metadata": {
  "interpreter": {
   "hash": "12d9efd1b418ad7485587f2da0512ee7fc7c20b6462fdb2a696d6f33bbf19b58"
  },
  "kernelspec": {
   "display_name": "Python 3.10.4 64-bit",
   "language": "python",
   "name": "python3"
  },
  "language_info": {
   "codemirror_mode": {
    "name": "ipython",
    "version": 3
   },
   "file_extension": ".py",
   "mimetype": "text/x-python",
   "name": "python",
   "nbconvert_exporter": "python",
   "pygments_lexer": "ipython3",
   "version": "3.10.4"
  },
  "orig_nbformat": 4
 },
 "nbformat": 4,
 "nbformat_minor": 2
}
