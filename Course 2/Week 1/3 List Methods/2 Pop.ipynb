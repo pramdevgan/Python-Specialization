{
 "cells": [
  {
   "cell_type": "markdown",
   "metadata": {},
   "source": [
    "# ***Pop***\n",
    "## **The Pop Method**\n",
    "There are some list methods that do not require parameters. You still must use the parentheses even if there are no parameters. The `pop` method is an example of this. The `pop` method removes and returns the last element of a list.\n",
    "\n",
    "![](https://apollo-media.codio.com/media%2F1%2F5c7bbc131c34a476ebc22f93927c10aa-6506acf7-4220-432c-beb3-8b5282e066ca.webp)\n",
    "\n",
    "**Translation:** Pop (remove and return) the last element from the list `my_list`."
   ]
  },
  {
   "cell_type": "code",
   "execution_count": 1,
   "metadata": {},
   "outputs": [
    {
     "name": "stdout",
     "output_type": "stream",
     "text": [
      "[1, 2, 3, 4]\n",
      "4\n",
      "[1, 2, 3]\n"
     ]
    }
   ],
   "source": [
    "my_list = [1,2,3,4]\n",
    "print(my_list)\n",
    "print(my_list.pop())\n",
    "print(my_list)"
   ]
  },
  {
   "cell_type": "markdown",
   "metadata": {},
   "source": [
    "### **What happens if you:**\n",
    "- Change the code to:\n",
    "```\n",
    "my_list = [1, 2, 3, 4]\n",
    "print(my_list)\n",
    "my_list.pop()\n",
    "my_list.pop()\n",
    "my_list.pop()\n",
    "my_list.pop()\n",
    "print(my_list)\n",
    "```\n",
    "- Add one more `my_list.pop()` before the `print` statement?"
   ]
  },
  {
   "cell_type": "code",
   "execution_count": 2,
   "metadata": {},
   "outputs": [
    {
     "name": "stdout",
     "output_type": "stream",
     "text": [
      "[1, 2, 3, 4]\n",
      "[]\n"
     ]
    }
   ],
   "source": [
    "my_list = [1,2,3,4]\n",
    "print(my_list)\n",
    "my_list.pop()\n",
    "my_list.pop()\n",
    "my_list.pop()\n",
    "my_list.pop()\n",
    "print(my_list)"
   ]
  },
  {
   "cell_type": "code",
   "execution_count": 3,
   "metadata": {},
   "outputs": [
    {
     "name": "stdout",
     "output_type": "stream",
     "text": [
      "[1, 2, 3, 4]\n"
     ]
    },
    {
     "ename": "IndexError",
     "evalue": "pop from empty list",
     "output_type": "error",
     "traceback": [
      "\u001b[1;31m---------------------------------------------------------------------------\u001b[0m",
      "\u001b[1;31mIndexError\u001b[0m                                Traceback (most recent call last)",
      "\u001b[1;32mc:\\Users\\vpram\\Python Specialization\\Course 2\\Week 1\\3 List Methods\\2 Pop.ipynb Cell 5'\u001b[0m in \u001b[0;36m<module>\u001b[1;34m\u001b[0m\n\u001b[0;32m      <a href='vscode-notebook-cell:/c%3A/Users/vpram/Python%20Specialization/Course%202/Week%201/3%20List%20Methods/2%20Pop.ipynb#ch0000005?line=4'>5</a>\u001b[0m my_list\u001b[39m.\u001b[39mpop()\n\u001b[0;32m      <a href='vscode-notebook-cell:/c%3A/Users/vpram/Python%20Specialization/Course%202/Week%201/3%20List%20Methods/2%20Pop.ipynb#ch0000005?line=5'>6</a>\u001b[0m my_list\u001b[39m.\u001b[39mpop()\n\u001b[1;32m----> <a href='vscode-notebook-cell:/c%3A/Users/vpram/Python%20Specialization/Course%202/Week%201/3%20List%20Methods/2%20Pop.ipynb#ch0000005?line=6'>7</a>\u001b[0m my_list\u001b[39m.\u001b[39;49mpop()\n\u001b[0;32m      <a href='vscode-notebook-cell:/c%3A/Users/vpram/Python%20Specialization/Course%202/Week%201/3%20List%20Methods/2%20Pop.ipynb#ch0000005?line=7'>8</a>\u001b[0m \u001b[39mprint\u001b[39m(my_list)\n",
      "\u001b[1;31mIndexError\u001b[0m: pop from empty list"
     ]
    }
   ],
   "source": [
    "my_list = [1,2,3,4]\n",
    "print(my_list)\n",
    "my_list.pop()\n",
    "my_list.pop()\n",
    "my_list.pop()\n",
    "my_list.pop()\n",
    "my_list.pop()\n",
    "print(my_list)"
   ]
  },
  {
   "cell_type": "markdown",
   "metadata": {},
   "source": [
    "#### `pop` **versus** `my_list[-1]`\n",
    "`my_list[-1]` returns the last element in a list. This **does not** modify the original list. The `pop` method also returns the last element of a list, but it **always** modifies the original list. The last element has been removed from the list."
   ]
  },
  {
   "cell_type": "markdown",
   "metadata": {},
   "source": [
    "### **Optional Parameters**\n",
    "The `pop` method has optional parameters. That means if you do not put anything between the parentheses, it will pop off the last element (index of -1) in the list. If you want to remove a different element, put the element’s index between the parentheses.\n",
    "![](https://apollo-media.codio.com/media%2F1%2F53c92214ead871d5f15ae7a6cd771007-2d486f6c-01f4-48a6-88c8-38ada1056d15.webp)"
   ]
  },
  {
   "cell_type": "code",
   "execution_count": 4,
   "metadata": {},
   "outputs": [
    {
     "name": "stdout",
     "output_type": "stream",
     "text": [
      "1\n",
      "[2, 3, 4]\n"
     ]
    }
   ],
   "source": [
    "my_list = [1,2,3,4]\n",
    "delete = 0\n",
    "print(my_list.pop(delete))\n",
    "print(my_list)"
   ]
  },
  {
   "cell_type": "markdown",
   "metadata": {},
   "source": [
    "#### **What happens if you:**\n",
    "- Change `delete` to `delete = 2`?\n",
    "- Change `delete` to `delete = -1`?\n",
    "- Change `delete` to `delete = 4`?"
   ]
  },
  {
   "cell_type": "code",
   "execution_count": 5,
   "metadata": {},
   "outputs": [
    {
     "name": "stdout",
     "output_type": "stream",
     "text": [
      "3\n",
      "[1, 2, 4]\n"
     ]
    }
   ],
   "source": [
    "my_list = [1,2,3,4]\n",
    "delete = 2\n",
    "print(my_list.pop(delete))\n",
    "print(my_list)"
   ]
  },
  {
   "cell_type": "code",
   "execution_count": 6,
   "metadata": {},
   "outputs": [
    {
     "name": "stdout",
     "output_type": "stream",
     "text": [
      "4\n",
      "[1, 2, 3]\n"
     ]
    }
   ],
   "source": [
    "my_list = [1,2,3,4]\n",
    "delete = -1\n",
    "print(my_list.pop(delete))\n",
    "print(my_list)"
   ]
  },
  {
   "cell_type": "code",
   "execution_count": 7,
   "metadata": {},
   "outputs": [
    {
     "ename": "IndexError",
     "evalue": "pop index out of range",
     "output_type": "error",
     "traceback": [
      "\u001b[1;31m---------------------------------------------------------------------------\u001b[0m",
      "\u001b[1;31mIndexError\u001b[0m                                Traceback (most recent call last)",
      "\u001b[1;32mc:\\Users\\vpram\\Python Specialization\\Course 2\\Week 1\\3 List Methods\\2 Pop.ipynb Cell 12'\u001b[0m in \u001b[0;36m<module>\u001b[1;34m\u001b[0m\n\u001b[0;32m      <a href='vscode-notebook-cell:/c%3A/Users/vpram/Python%20Specialization/Course%202/Week%201/3%20List%20Methods/2%20Pop.ipynb#ch0000012?line=0'>1</a>\u001b[0m my_list \u001b[39m=\u001b[39m [\u001b[39m1\u001b[39m,\u001b[39m2\u001b[39m,\u001b[39m3\u001b[39m,\u001b[39m4\u001b[39m]\n\u001b[0;32m      <a href='vscode-notebook-cell:/c%3A/Users/vpram/Python%20Specialization/Course%202/Week%201/3%20List%20Methods/2%20Pop.ipynb#ch0000012?line=1'>2</a>\u001b[0m delete \u001b[39m=\u001b[39m \u001b[39m4\u001b[39m\n\u001b[1;32m----> <a href='vscode-notebook-cell:/c%3A/Users/vpram/Python%20Specialization/Course%202/Week%201/3%20List%20Methods/2%20Pop.ipynb#ch0000012?line=2'>3</a>\u001b[0m \u001b[39mprint\u001b[39m(my_list\u001b[39m.\u001b[39;49mpop(delete))\n\u001b[0;32m      <a href='vscode-notebook-cell:/c%3A/Users/vpram/Python%20Specialization/Course%202/Week%201/3%20List%20Methods/2%20Pop.ipynb#ch0000012?line=3'>4</a>\u001b[0m \u001b[39mprint\u001b[39m(my_list)\n",
      "\u001b[1;31mIndexError\u001b[0m: pop index out of range"
     ]
    }
   ],
   "source": [
    "my_list = [1,2,3,4]\n",
    "delete = 4\n",
    "print(my_list.pop(delete))\n",
    "print(my_list)"
   ]
  },
  {
   "cell_type": "markdown",
   "metadata": {},
   "source": [
    "### **Reading Question**\n",
    "Rearrange the code blocks below to create a loop that creates the following output:\n",
    "```\n",
    "[1, 2, 3, 4]\n",
    "[1, 2, 3]\n",
    "[1, 2]\n",
    "[1]\n",
    "```\n",
    "\n",
    "**Hint**, you will not use all of the blocks.\n",
    "\n",
    "Drag from here\n",
    "```\n",
    "my_list.pop()\n",
    "pop.my_list[]\n",
    "print(my_list)\n",
    "my_list = [1, 2, 3, 4]\n",
    "pop(my_list)\n",
    "for i in range(4):\n",
    "pop,my_list()\n",
    "```\n",
    "Construct your solution here\n",
    "\n"
   ]
  },
  {
   "cell_type": "code",
   "execution_count": 13,
   "metadata": {},
   "outputs": [
    {
     "name": "stdout",
     "output_type": "stream",
     "text": [
      "[1, 2, 3, 4]\n",
      "[1, 2, 3]\n",
      "[1, 2]\n",
      "[1]\n"
     ]
    }
   ],
   "source": [
    "my_list = [1,2,3,4]\n",
    "for i in range(4):\n",
    "    print(my_list)\n",
    "    my_list.pop()"
   ]
  },
  {
   "cell_type": "markdown",
   "metadata": {},
   "source": [
    "1. Declare the variable, `my_list`.\n",
    "2. Create the loop that runs four times. It has to run four times because there are four lines of output.\n",
    "3. Print `my_list`. If the `pop` statement comes first, then the first line of output would be `[1, 2, 3]`. This does not match the output in the problem.\n",
    "4. Pop off the last element of the list."
   ]
  }
 ],
 "metadata": {
  "interpreter": {
   "hash": "12d9efd1b418ad7485587f2da0512ee7fc7c20b6462fdb2a696d6f33bbf19b58"
  },
  "kernelspec": {
   "display_name": "Python 3.10.4 64-bit",
   "language": "python",
   "name": "python3"
  },
  "language_info": {
   "codemirror_mode": {
    "name": "ipython",
    "version": 3
   },
   "file_extension": ".py",
   "mimetype": "text/x-python",
   "name": "python",
   "nbconvert_exporter": "python",
   "pygments_lexer": "ipython3",
   "version": "3.10.4"
  },
  "orig_nbformat": 4
 },
 "nbformat": 4,
 "nbformat_minor": 2
}
