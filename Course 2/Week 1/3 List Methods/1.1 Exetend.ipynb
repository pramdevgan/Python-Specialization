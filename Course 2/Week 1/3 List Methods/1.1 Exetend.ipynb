{
 "cells": [
  {
   "cell_type": "markdown",
   "metadata": {},
   "source": [
    "# ***Extend Method***\n",
    "The Python’s List **`extend()`** method iterates over an iterable like string, list, tuple, etc., and adds each element of the *iterable to the end of List*. The length of the list increases by the number of elements present in the iterable."
   ]
  },
  {
   "cell_type": "markdown",
   "metadata": {},
   "source": [
    "**Syntax:** list.extend(iterable)\n",
    "\n",
    "**Parameters:**\n",
    "- iterable: Any iterable (list, set, tuple, etc.) <br>\n",
    "\n",
    "**Returns:** <br>\n",
    "The `extend()` method modifies the original list. It doesn’t return any value."
   ]
  },
  {
   "cell_type": "code",
   "execution_count": 1,
   "metadata": {},
   "outputs": [
    {
     "name": "stdout",
     "output_type": "stream",
     "text": [
      "Old Guest List: ['Param', 'Akarshan']\n",
      "New Guest List: ['Param', 'Akarshan', 'Pratyush', 'Ankit']\n"
     ]
    }
   ],
   "source": [
    "guestList = [\"Param\", \"Akarshan\"]\n",
    "print(\"Old Guest List:\", guestList)\n",
    "addNewGuest = [\"Pratyush\", \"Ankit\"]\n",
    "guestList.extend(addNewGuest)\n",
    "print(\"New Guest List:\", guestList)"
   ]
  },
  {
   "cell_type": "markdown",
   "metadata": {},
   "source": [
    "## **Add Elements of `Tuple` and `Set` to List**"
   ]
  },
  {
   "cell_type": "code",
   "execution_count": 9,
   "metadata": {},
   "outputs": [
    {
     "name": "stdout",
     "output_type": "stream",
     "text": [
      "Original Elements:\n",
      "['Param', 'Akarshan']\n",
      "('Pratyush', 'Ankit')\n",
      "{'Afaque', 'Shivam'}\n",
      "Adding Tuple to List: ['Param', 'Akarshan', 'Pratyush', 'Ankit']\n",
      "Adding Set to List: ['Param', 'Akarshan', 'Pratyush', 'Ankit', 'Afaque', 'Shivam']\n"
     ]
    }
   ],
   "source": [
    "# List\n",
    "my_list = [\"Param\", \"Akarshan\"]\n",
    "\n",
    "# Tuple\n",
    "my_tuple = (\"Pratyush\", \"Ankit\")\n",
    "\n",
    "# Set\n",
    "my_set = {\"Shivam\", \"Afaque\"}\n",
    "\n",
    "print(\"Original Elements:\")\n",
    "print(my_list)\n",
    "print(my_tuple)\n",
    "print(my_set)\n",
    "\n",
    "# After extending tuple to list\n",
    "my_list.extend(my_tuple)\n",
    "print(\"Adding Tuple to List:\", my_list)\n",
    "\n",
    "# After extending set to list\n",
    "my_list.extend(my_set)\n",
    "print(\"Adding Set to List:\", my_list)\n"
   ]
  },
  {
   "cell_type": "markdown",
   "metadata": {},
   "source": [
    "## **Extend `String` to the `List`**\n",
    "A string is **iterable**, so if you extend a list with a string, you’ll append **each character** as you iterate over the string."
   ]
  },
  {
   "cell_type": "code",
   "execution_count": 10,
   "metadata": {},
   "outputs": [
    {
     "name": "stdout",
     "output_type": "stream",
     "text": [
      "['Param', 1, 2, 3]\n",
      "['Param', 1, 2, 3, 'D', 'e', 'v', 'g', 'a', 'n']\n"
     ]
    }
   ],
   "source": [
    "# My List\n",
    "mylist = [\"Param\", 1,2,3]\n",
    "print(mylist)\n",
    "\n",
    "myString = \"Devgan\"\n",
    "mylist.extend(myString)\n",
    "print(mylist)"
   ]
  }
 ],
 "metadata": {
  "kernelspec": {
   "display_name": "Python 3.10.4 64-bit",
   "language": "python",
   "name": "python3"
  },
  "language_info": {
   "codemirror_mode": {
    "name": "ipython",
    "version": 3
   },
   "file_extension": ".py",
   "mimetype": "text/x-python",
   "name": "python",
   "nbconvert_exporter": "python",
   "pygments_lexer": "ipython3",
   "version": "3.10.4"
  },
  "orig_nbformat": 4,
  "vscode": {
   "interpreter": {
    "hash": "12d9efd1b418ad7485587f2da0512ee7fc7c20b6462fdb2a696d6f33bbf19b58"
   }
  }
 },
 "nbformat": 4,
 "nbformat_minor": 2
}
