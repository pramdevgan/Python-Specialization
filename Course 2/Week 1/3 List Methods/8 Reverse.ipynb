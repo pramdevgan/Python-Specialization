{
 "cells": [
  {
   "cell_type": "markdown",
   "metadata": {},
   "source": [
    "# ***Reverse***\n",
    "## **The Reverse Method**\n",
    "The `reverse` method reverses the order of a list. `reverse` **is not** a reverse sort. It does not have a parameter. The `reverse` method does not return a new list, it *modifies the original list*.\n",
    "\n",
    "![](https://apollo-media.codio.com/media%2F1%2F4ef8978c4132036d3cd60ea6a7206e6f-c1f2a33d-e176-4a29-a3f1-2f85e1fab2c1.webp)"
   ]
  },
  {
   "cell_type": "code",
   "execution_count": 1,
   "metadata": {},
   "outputs": [
    {
     "name": "stdout",
     "output_type": "stream",
     "text": [
      "['north', True, 45, 12, 'red']\n",
      "['red', 12, 45, True, 'north']\n"
     ]
    }
   ],
   "source": [
    "my_list = [\"north\", True, 45, 12, \"red\"]\n",
    "print(my_list)\n",
    "my_list.reverse()\n",
    "print(my_list) "
   ]
  },
  {
   "cell_type": "markdown",
   "metadata": {},
   "source": [
    "### **What happens if you:**\n",
    "- Change the list to `my_list = [1, 4, 6, 2, 7, 3, 5]`?\n",
    "- Change the list to `my_list = [1]`?"
   ]
  },
  {
   "cell_type": "code",
   "execution_count": 2,
   "metadata": {},
   "outputs": [
    {
     "name": "stdout",
     "output_type": "stream",
     "text": [
      "[1, 4, 6, 2, 7, 3, 5]\n",
      "[5, 3, 7, 2, 6, 4, 1]\n"
     ]
    }
   ],
   "source": [
    "my_list = [1,4,6,2,7,3,5]\n",
    "print(my_list)\n",
    "my_list.reverse()\n",
    "print(my_list) "
   ]
  },
  {
   "cell_type": "code",
   "execution_count": 3,
   "metadata": {},
   "outputs": [
    {
     "name": "stdout",
     "output_type": "stream",
     "text": [
      "[1]\n",
      "[1]\n"
     ]
    }
   ],
   "source": [
    "my_list = [1]\n",
    "print(my_list)\n",
    "my_list.reverse()\n",
    "print(my_list) "
   ]
  },
  {
   "cell_type": "markdown",
   "metadata": {},
   "source": [
    "#### **Reading Question**\n",
    "Select the correct result after performing the reverse method on the list my_list.\n",
    "\n",
    "`my_list = [\"hat\", 421, 37.2, False, \"Zebra\"]`\n",
    "\n",
    "- `[37.2, 421, False, \"hat\", “Zebra”]`\n",
    "- `[\"Zebra\", False, 37.2, 421, “hat”]`  <----- Correct Answer\n",
    "- `[\"hat\", 421, 37.2, False, “Zebra”]`\n",
    "- `[\"tah\", 124, 2.73, eslaF, “arbeZ”]`"
   ]
  },
  {
   "cell_type": "code",
   "execution_count": 5,
   "metadata": {},
   "outputs": [
    {
     "name": "stdout",
     "output_type": "stream",
     "text": [
      "['Zebra', False, 37.2, 421, 'hat']\n"
     ]
    }
   ],
   "source": [
    "my_list = [\"hat\", 421, 37.2, False, \"Zebra\"]\n",
    "my_list.reverse()\n",
    "print(my_list)"
   ]
  }
 ],
 "metadata": {
  "interpreter": {
   "hash": "12d9efd1b418ad7485587f2da0512ee7fc7c20b6462fdb2a696d6f33bbf19b58"
  },
  "kernelspec": {
   "display_name": "Python 3.10.4 64-bit",
   "language": "python",
   "name": "python3"
  },
  "language_info": {
   "codemirror_mode": {
    "name": "ipython",
    "version": 3
   },
   "file_extension": ".py",
   "mimetype": "text/x-python",
   "name": "python",
   "nbconvert_exporter": "python",
   "pygments_lexer": "ipython3",
   "version": "3.10.4"
  },
  "orig_nbformat": 4
 },
 "nbformat": 4,
 "nbformat_minor": 2
}
