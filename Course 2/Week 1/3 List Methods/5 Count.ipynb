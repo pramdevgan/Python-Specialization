{
 "cells": [
  {
   "cell_type": "markdown",
   "metadata": {},
   "source": [
    "# ***Count***\n",
    "## **The Count Method**\n",
    "The `count` method will count how many times an element appears in a list. `count` has one parameter, the element you wish to count."
   ]
  },
  {
   "cell_type": "code",
   "execution_count": 3,
   "metadata": {},
   "outputs": [
    {
     "name": "stdout",
     "output_type": "stream",
     "text": [
      "[2, 'red', 2.0, 2, 'Red', 2]\n",
      "4\n"
     ]
    }
   ],
   "source": [
    "my_var = 2\n",
    "my_list = [2, \"red\", 2.0, my_var, \"Red\", 8//4]\n",
    "print(my_list)\n",
    "print(my_list.count(2))"
   ]
  },
  {
   "cell_type": "markdown",
   "metadata": {},
   "source": [
    "### **What happens if you:**\n",
    "- Change `2.0` to `2.00000001`?\n",
    "- Change the `print` statement to `print(my_list.count(\"red\"))`?\n",
    "- Change the `print` statement to `print(my_list.count(99))`?"
   ]
  },
  {
   "cell_type": "code",
   "execution_count": 4,
   "metadata": {},
   "outputs": [
    {
     "name": "stdout",
     "output_type": "stream",
     "text": [
      "[2, 'red', 2.0000001, 2, 'Red', 2]\n",
      "3\n"
     ]
    }
   ],
   "source": [
    "my_var = 2\n",
    "my_list = [2, \"red\", 2.0000001, my_var, \"Red\", 8//4]\n",
    "print(my_list)\n",
    "print(my_list.count(2))"
   ]
  },
  {
   "cell_type": "code",
   "execution_count": 5,
   "metadata": {},
   "outputs": [
    {
     "name": "stdout",
     "output_type": "stream",
     "text": [
      "[2, 'red', 2.0000001, 2, 'Red', 2]\n",
      "1\n"
     ]
    }
   ],
   "source": [
    "my_var = 2\n",
    "my_list = [2, \"red\", 2.0000001, my_var, \"Red\", 8//4]\n",
    "print(my_list)\n",
    "print(my_list.count(\"red\"))"
   ]
  },
  {
   "cell_type": "code",
   "execution_count": 6,
   "metadata": {},
   "outputs": [
    {
     "name": "stdout",
     "output_type": "stream",
     "text": [
      "[2, 'red', 2.0000001, 2, 'Red', 2]\n",
      "0\n"
     ]
    }
   ],
   "source": [
    "my_var = 2\n",
    "my_list = [2, \"red\", 2.0000001, my_var, \"Red\", 8//4]\n",
    "print(my_list)\n",
    "print(my_list.count(99))"
   ]
  },
  {
   "cell_type": "markdown",
   "metadata": {},
   "source": [
    "#### ***Reading Question***\n",
    "Drag the appropriate code blocks to the box below. Your program should print the string “It appeared more than three times.” **Hint**, you will not use all of the code blocks, and declaring `my_list` should come first.\n",
    "\n",
    "Drag from here\n",
    "\n",
    "```\n",
    "x = my_list.count(2)\n",
    "my_list = [2, 4, 4.0, 6, 16/4, 12 % 5, 2.0, 4 * 0.5]\n",
    "x = my_list.count(\"2\")\n",
    "if x > 3:\n",
    "x = my_list.count(4)\n",
    "x = list.count(2)\n",
    "print(\"It appeared more than three times.\")\n",
    "```\n",
    "Construct your solution here\n",
    "```\n",
    "my_list = [2, 4, 4.0, 6, 16/4, 12 % 5, 2.0, 4 * 0.5]\n",
    "x = my_list.count(2)\n",
    "if x > 3:\n",
    "    print(\"It appeared more than three times.\")\n",
    "```"
   ]
  },
  {
   "cell_type": "markdown",
   "metadata": {},
   "source": [
    "Declaring the variable `my_list` is the first step. The next step is to determine the value of `x`. `x = my_list.count(\"2\")` can be discarded because the string `\"2\"` does not appear in `my_list`. `x = list.count(2)` can be discarded because there is no variable named `list` (`list` is also a keyword, you can’t use it for a variable name). Finally, `x = my_list.count(4)` can be discarded because this returns `3` which is not greater than `3`. So the string would not print to the screen. That leaves `x = my_list.count(2)` as the correct answer."
   ]
  },
  {
   "cell_type": "code",
   "execution_count": 2,
   "metadata": {},
   "outputs": [
    {
     "name": "stdout",
     "output_type": "stream",
     "text": [
      "It appeared more than three times.\n"
     ]
    }
   ],
   "source": [
    "my_list = [2, 4, 4.0, 6, 16/4, 12 % 5, 2.0, 4 * 0.5]\n",
    "x = my_list.count(2)\n",
    "if x > 3:\n",
    "    print(\"It appeared more than three times.\")"
   ]
  }
 ],
 "metadata": {
  "interpreter": {
   "hash": "12d9efd1b418ad7485587f2da0512ee7fc7c20b6462fdb2a696d6f33bbf19b58"
  },
  "kernelspec": {
   "display_name": "Python 3.10.4 64-bit",
   "language": "python",
   "name": "python3"
  },
  "language_info": {
   "codemirror_mode": {
    "name": "ipython",
    "version": 3
   },
   "file_extension": ".py",
   "mimetype": "text/x-python",
   "name": "python",
   "nbconvert_exporter": "python",
   "pygments_lexer": "ipython3",
   "version": "3.10.4"
  },
  "orig_nbformat": 4
 },
 "nbformat": 4,
 "nbformat_minor": 2
}
