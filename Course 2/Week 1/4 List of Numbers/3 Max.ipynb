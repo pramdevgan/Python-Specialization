{
 "cells": [
  {
   "cell_type": "markdown",
   "metadata": {},
   "source": [
    "# ***Max***\n",
    "## **The Max Function**\n",
    "The `max` function returns the largest element in a list."
   ]
  },
  {
   "cell_type": "code",
   "execution_count": 1,
   "metadata": {},
   "outputs": [
    {
     "name": "stdout",
     "output_type": "stream",
     "text": [
      "102\n"
     ]
    }
   ],
   "source": [
    "my_list = [50, 11, 0, 72, 102]\n",
    "largest = max(my_list)\n",
    "print(largest)"
   ]
  },
  {
   "cell_type": "markdown",
   "metadata": {},
   "source": [
    "#### **What happens if you:**\n",
    "- Change the value of `my_list to [5 / 2, 5 // 2, 5 % 2]`?\n",
    "- Change the value of `my_list to [1, 2, 3, 4, \"5\"]`?\n",
    "- Change the value of `my_list to []`?"
   ]
  },
  {
   "cell_type": "code",
   "execution_count": 1,
   "metadata": {},
   "outputs": [
    {
     "name": "stdout",
     "output_type": "stream",
     "text": [
      "2.5\n"
     ]
    }
   ],
   "source": [
    "my_list = [5 / 2, 5 // 2, 5 % 2]\n",
    "largest = max(my_list)\n",
    "print(largest)"
   ]
  },
  {
   "cell_type": "code",
   "execution_count": 2,
   "metadata": {},
   "outputs": [
    {
     "ename": "TypeError",
     "evalue": "'>' not supported between instances of 'str' and 'int'",
     "output_type": "error",
     "traceback": [
      "\u001b[1;31m---------------------------------------------------------------------------\u001b[0m",
      "\u001b[1;31mTypeError\u001b[0m                                 Traceback (most recent call last)",
      "\u001b[1;32mc:\\Users\\vpram\\Python Specialization\\Course 2\\Week 1\\4 List of Numbers\\3 Max.ipynb Cell 5'\u001b[0m in \u001b[0;36m<module>\u001b[1;34m\u001b[0m\n\u001b[0;32m      <a href='vscode-notebook-cell:/c%3A/Users/vpram/Python%20Specialization/Course%202/Week%201/4%20List%20of%20Numbers/3%20Max.ipynb#ch0000004?line=0'>1</a>\u001b[0m my_list \u001b[39m=\u001b[39m [\u001b[39m1\u001b[39m,\u001b[39m2\u001b[39m,\u001b[39m3\u001b[39m,\u001b[39m4\u001b[39m,\u001b[39m\"\u001b[39m\u001b[39m5\u001b[39m\u001b[39m\"\u001b[39m]\n\u001b[1;32m----> <a href='vscode-notebook-cell:/c%3A/Users/vpram/Python%20Specialization/Course%202/Week%201/4%20List%20of%20Numbers/3%20Max.ipynb#ch0000004?line=1'>2</a>\u001b[0m largest \u001b[39m=\u001b[39m \u001b[39mmax\u001b[39;49m(my_list)\n\u001b[0;32m      <a href='vscode-notebook-cell:/c%3A/Users/vpram/Python%20Specialization/Course%202/Week%201/4%20List%20of%20Numbers/3%20Max.ipynb#ch0000004?line=2'>3</a>\u001b[0m \u001b[39mprint\u001b[39m(largest)\n",
      "\u001b[1;31mTypeError\u001b[0m: '>' not supported between instances of 'str' and 'int'"
     ]
    }
   ],
   "source": [
    "my_list = [1,2,3,4,\"5\"]\n",
    "largest = max(my_list)\n",
    "print(largest)"
   ]
  },
  {
   "cell_type": "code",
   "execution_count": 3,
   "metadata": {},
   "outputs": [
    {
     "ename": "ValueError",
     "evalue": "max() arg is an empty sequence",
     "output_type": "error",
     "traceback": [
      "\u001b[1;31m---------------------------------------------------------------------------\u001b[0m",
      "\u001b[1;31mValueError\u001b[0m                                Traceback (most recent call last)",
      "\u001b[1;32mc:\\Users\\vpram\\Python Specialization\\Course 2\\Week 1\\4 List of Numbers\\3 Max.ipynb Cell 6'\u001b[0m in \u001b[0;36m<module>\u001b[1;34m\u001b[0m\n\u001b[0;32m      <a href='vscode-notebook-cell:/c%3A/Users/vpram/Python%20Specialization/Course%202/Week%201/4%20List%20of%20Numbers/3%20Max.ipynb#ch0000005?line=0'>1</a>\u001b[0m my_list \u001b[39m=\u001b[39m []\n\u001b[1;32m----> <a href='vscode-notebook-cell:/c%3A/Users/vpram/Python%20Specialization/Course%202/Week%201/4%20List%20of%20Numbers/3%20Max.ipynb#ch0000005?line=1'>2</a>\u001b[0m largest \u001b[39m=\u001b[39m \u001b[39mmax\u001b[39;49m(my_list)\n\u001b[0;32m      <a href='vscode-notebook-cell:/c%3A/Users/vpram/Python%20Specialization/Course%202/Week%201/4%20List%20of%20Numbers/3%20Max.ipynb#ch0000005?line=2'>3</a>\u001b[0m \u001b[39mprint\u001b[39m(largest)\n",
      "\u001b[1;31mValueError\u001b[0m: max() arg is an empty sequence"
     ]
    }
   ],
   "source": [
    "my_list = []\n",
    "largest = max(my_list)\n",
    "print(largest)"
   ]
  },
  {
   "cell_type": "markdown",
   "metadata": {},
   "source": [
    "## **The Max Function & Strings**\n",
    "If all of the elements of a list are strings, then the `max` function can be used to determine the element that would appear last in alphabetical order."
   ]
  },
  {
   "cell_type": "code",
   "execution_count": 4,
   "metadata": {},
   "outputs": [
    {
     "name": "stdout",
     "output_type": "stream",
     "text": [
      "zebra\n"
     ]
    }
   ],
   "source": [
    "my_list = [\"house\", \"cat\", \"zebra\", \"dog\", \"bike\"]\n",
    "largest = max(my_list)\n",
    "print(largest)"
   ]
  },
  {
   "cell_type": "markdown",
   "metadata": {},
   "source": [
    "### *What happens if you:**\n",
    "- Change the value of `my_list to [\"zzz\", \"zz\", \"zzzz\", \"z\"]`?\n",
    "- Change the value of `my_list to [\"one\", \"two\", \"three\", \"four\"]`?\n",
    "- Change the value of `my_list to [\"100\", \"27\", \"3000\", \"abc\"]`?"
   ]
  },
  {
   "cell_type": "code",
   "execution_count": 5,
   "metadata": {},
   "outputs": [
    {
     "name": "stdout",
     "output_type": "stream",
     "text": [
      "zzzz\n"
     ]
    }
   ],
   "source": [
    "my_list = [\"zzz\", \"zz\", \"zzzz\", \"z\"]\n",
    "largest = max(my_list)\n",
    "print(largest)"
   ]
  },
  {
   "cell_type": "code",
   "execution_count": 6,
   "metadata": {},
   "outputs": [
    {
     "name": "stdout",
     "output_type": "stream",
     "text": [
      "two\n"
     ]
    }
   ],
   "source": [
    "my_list = [\"one\", \"two\", \"three\", \"four\"]\n",
    "largest = max(my_list)\n",
    "print(largest)"
   ]
  },
  {
   "cell_type": "code",
   "execution_count": 7,
   "metadata": {},
   "outputs": [
    {
     "name": "stdout",
     "output_type": "stream",
     "text": [
      "abc\n"
     ]
    }
   ],
   "source": [
    "my_list = [\"100\", \"27\", \"3000\", \"abc\"]\n",
    "largest = max(my_list)\n",
    "print(largest)"
   ]
  },
  {
   "cell_type": "markdown",
   "metadata": {},
   "source": [
    "#### **Reading Question**\n",
    "Click on all of the data types that work with the `max` functions. **Hint**, there are more than one correct answer.\n",
    "\n",
    "\n",
    "- **When the list is composed of only strings.** <--- Correct Answer\n",
    "- When the list is composed of numbers and strings.\n",
    "- **When the list is composed of floats and ints.** <--- Correct Answer\n",
    "- **When the list is composed of just ints.** <--- Correct Answer"
   ]
  }
 ],
 "metadata": {
  "interpreter": {
   "hash": "12d9efd1b418ad7485587f2da0512ee7fc7c20b6462fdb2a696d6f33bbf19b58"
  },
  "kernelspec": {
   "display_name": "Python 3.10.4 64-bit",
   "language": "python",
   "name": "python3"
  },
  "language_info": {
   "codemirror_mode": {
    "name": "ipython",
    "version": 3
   },
   "file_extension": ".py",
   "mimetype": "text/x-python",
   "name": "python",
   "nbconvert_exporter": "python",
   "pygments_lexer": "ipython3",
   "version": "3.10.4"
  },
  "orig_nbformat": 4
 },
 "nbformat": 4,
 "nbformat_minor": 2
}
