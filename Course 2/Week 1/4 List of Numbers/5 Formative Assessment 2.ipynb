{
 "cells": [
  {
   "cell_type": "markdown",
   "metadata": {},
   "source": [
    "# **Formative Assessment 2**\n",
    "\n",
    "### **List of Numbers**\n",
    "Imagine that you have a list called `my_list`. Which code sample would calculate the min, the max, and the average of `my_list`.\n",
    "\n",
    "\n",
    "- ` minimum = min(my_list)`   \n",
    "  ` maximum = max(my_list)`  \n",
    "  ` average = avg(my_list)`   \n",
    "  <font color = green>\n",
    "- **minimum = min(my_list)   \n",
    "  maximum = max(my_list)    \n",
    "  average = sum(my_list) / len(my_list)**\n",
    "  </font>\n",
    "\n",
    "- ` minimum = max(my_list)`   \n",
    "  ` maximum = min(my_list)`   \n",
    "  ` average = sum(my_list) / len(my_list)`\n",
    "\n",
    "- `minimum = min(my_list)`    \n",
    "  `maximum = max(my_list)`      \n",
    "  `average = len(my_list) / sum(my_list)`"
   ]
  },
  {
   "cell_type": "code",
   "execution_count": 2,
   "metadata": {},
   "outputs": [
    {
     "name": "stdout",
     "output_type": "stream",
     "text": [
      "11\n",
      "71\n",
      "36.833333333333336\n"
     ]
    }
   ],
   "source": [
    "my_list = [14, 56, 71, 29 ,40, 11]\n",
    "minimum = min(my_list)\n",
    "maximum = max(my_list)\n",
    "average = sum(my_list) / len(my_list)\n",
    "print(minimum)\n",
    "print(maximum)\n",
    "print(average)"
   ]
  },
  {
   "cell_type": "markdown",
   "metadata": {},
   "source": [
    "To calculate the minimum value of the list, use `minimum = min(my_list)`.   \n",
    "To calculate the maximum value of the list, use `maximum = max(my_list)`.  \n",
    "To calculate the average value of the list, find the sum of the list and then divide by the length of the list - `avg = sum(my_list) / len(my_list)`."
   ]
  }
 ],
 "metadata": {
  "interpreter": {
   "hash": "12d9efd1b418ad7485587f2da0512ee7fc7c20b6462fdb2a696d6f33bbf19b58"
  },
  "kernelspec": {
   "display_name": "Python 3.10.4 64-bit",
   "language": "python",
   "name": "python3"
  },
  "language_info": {
   "codemirror_mode": {
    "name": "ipython",
    "version": 3
   },
   "file_extension": ".py",
   "mimetype": "text/x-python",
   "name": "python",
   "nbconvert_exporter": "python",
   "pygments_lexer": "ipython3",
   "version": "3.10.4"
  },
  "orig_nbformat": 4
 },
 "nbformat": 4,
 "nbformat_minor": 2
}
