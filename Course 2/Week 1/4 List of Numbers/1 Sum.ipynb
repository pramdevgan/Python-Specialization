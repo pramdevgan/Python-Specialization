{
 "cells": [
  {
   "cell_type": "markdown",
   "metadata": {},
   "source": [
    "# ***Sum***\n",
    "## **The Sum Function**\n",
    "The next few lessons will be focused on functions that work with lists of numbers. Using a function or a method on a list is similar in that an action is performed on the list. The syntax for calling a function is different than calling a method.\n",
    "List Functions and Methods\n",
    "\n",
    "![](https://apollo-media.codio.com/media%2F1%2F4804ebcda489999886fa45dca4f96d3f-c1c30878-ca03-4e5b-8e86-f37f122fcb94.webp)\n",
    "\n",
    "The `sum` function is a built-in function that calculates the sum of a list."
   ]
  },
  {
   "cell_type": "code",
   "execution_count": 1,
   "metadata": {},
   "outputs": [
    {
     "name": "stdout",
     "output_type": "stream",
     "text": [
      "15\n"
     ]
    }
   ],
   "source": [
    "my_list = [1,2,3,4,5]\n",
    "total = sum(my_list)\n",
    "print(total)"
   ]
  },
  {
   "cell_type": "markdown",
   "metadata": {},
   "source": [
    "### **What happens if you:**\n",
    "- Change the value of `my_list` to `[-45, 21, 6, 0.3]`?\n",
    "- Change the value of `my_list` to `[]`?"
   ]
  },
  {
   "cell_type": "code",
   "execution_count": 2,
   "metadata": {},
   "outputs": [
    {
     "name": "stdout",
     "output_type": "stream",
     "text": [
      "-17.7\n"
     ]
    }
   ],
   "source": [
    "my_list = [-45, 21,6,0.3]\n",
    "total = sum(my_list)\n",
    "print(total)"
   ]
  },
  {
   "cell_type": "code",
   "execution_count": 3,
   "metadata": {},
   "outputs": [
    {
     "name": "stdout",
     "output_type": "stream",
     "text": [
      "0\n"
     ]
    }
   ],
   "source": [
    "my_list = []\n",
    "total = sum(my_list)\n",
    "print(total)"
   ]
  },
  {
   "cell_type": "markdown",
   "metadata": {},
   "source": [
    "## **The Sum Function & Strings**\n",
    "You can concatenate strings with the `+` operator, which the same operator used to add numbers. This may seem like it is possible to use the `sum` function with a list of strings. However, this will cause an error message."
   ]
  },
  {
   "cell_type": "code",
   "execution_count": 4,
   "metadata": {},
   "outputs": [
    {
     "ename": "TypeError",
     "evalue": "unsupported operand type(s) for +: 'int' and 'str'",
     "output_type": "error",
     "traceback": [
      "\u001b[1;31m---------------------------------------------------------------------------\u001b[0m",
      "\u001b[1;31mTypeError\u001b[0m                                 Traceback (most recent call last)",
      "\u001b[1;32mc:\\Users\\vpram\\Python Specialization\\Course 2\\Week 1\\4 List of Numbers\\1 Sum.ipynb Cell 7'\u001b[0m in \u001b[0;36m<module>\u001b[1;34m\u001b[0m\n\u001b[0;32m      <a href='vscode-notebook-cell:/c%3A/Users/vpram/Python%20Specialization/Course%202/Week%201/4%20List%20of%20Numbers/1%20Sum.ipynb#ch0000007?line=0'>1</a>\u001b[0m my_list \u001b[39m=\u001b[39m [\u001b[39m\"\u001b[39m\u001b[39mabc\u001b[39m\u001b[39m\"\u001b[39m, \u001b[39m\"\u001b[39m\u001b[39mdef\u001b[39m\u001b[39m\"\u001b[39m, \u001b[39m\"\u001b[39m\u001b[39mghi\u001b[39m\u001b[39m\"\u001b[39m]\n\u001b[1;32m----> <a href='vscode-notebook-cell:/c%3A/Users/vpram/Python%20Specialization/Course%202/Week%201/4%20List%20of%20Numbers/1%20Sum.ipynb#ch0000007?line=1'>2</a>\u001b[0m \u001b[39mprint\u001b[39m(\u001b[39msum\u001b[39;49m(my_list))\n",
      "\u001b[1;31mTypeError\u001b[0m: unsupported operand type(s) for +: 'int' and 'str'"
     ]
    }
   ],
   "source": [
    "my_list = [\"abc\", \"def\", \"ghi\"]\n",
    "print(sum(my_list))"
   ]
  },
  {
   "cell_type": "markdown",
   "metadata": {},
   "source": [
    "### **What happens if you:**\n",
    "- Change the value of `my_list` to `[1, 2, 3, \"red\"]`?"
   ]
  },
  {
   "cell_type": "code",
   "execution_count": 5,
   "metadata": {},
   "outputs": [
    {
     "ename": "TypeError",
     "evalue": "unsupported operand type(s) for +: 'int' and 'str'",
     "output_type": "error",
     "traceback": [
      "\u001b[1;31m---------------------------------------------------------------------------\u001b[0m",
      "\u001b[1;31mTypeError\u001b[0m                                 Traceback (most recent call last)",
      "\u001b[1;32mc:\\Users\\vpram\\Python Specialization\\Course 2\\Week 1\\4 List of Numbers\\1 Sum.ipynb Cell 9'\u001b[0m in \u001b[0;36m<module>\u001b[1;34m\u001b[0m\n\u001b[0;32m      <a href='vscode-notebook-cell:/c%3A/Users/vpram/Python%20Specialization/Course%202/Week%201/4%20List%20of%20Numbers/1%20Sum.ipynb#ch0000010?line=0'>1</a>\u001b[0m my_list \u001b[39m=\u001b[39m [\u001b[39m1\u001b[39m,\u001b[39m2\u001b[39m,\u001b[39m3\u001b[39m,\u001b[39m\"\u001b[39m\u001b[39mred\u001b[39m\u001b[39m\"\u001b[39m]\n\u001b[1;32m----> <a href='vscode-notebook-cell:/c%3A/Users/vpram/Python%20Specialization/Course%202/Week%201/4%20List%20of%20Numbers/1%20Sum.ipynb#ch0000010?line=1'>2</a>\u001b[0m \u001b[39mprint\u001b[39m(\u001b[39msum\u001b[39;49m(my_list))\n",
      "\u001b[1;31mTypeError\u001b[0m: unsupported operand type(s) for +: 'int' and 'str'"
     ]
    }
   ],
   "source": [
    "my_list = [1,2,3,\"red\"]\n",
    "print(sum(my_list))"
   ]
  },
  {
   "cell_type": "markdown",
   "metadata": {},
   "source": [
    "Drag the appropriate code blocks to the box below. Your program should calculate the average value of a list of numbers.\n",
    "\n",
    "Drag from here\n",
    "\n",
    "Construct your solution here\n",
    "```\n",
    "my_list = [5, 17, 2, 3, 3]\n",
    "total = sum(my_list)\n",
    "num_elements = len(my_list)\n",
    "avg = total / num_elements\n",
    "print(avg)\n",
    "```\n",
    "\n",
    "Here are the steps to solving the problem:\n",
    "\n",
    "1. Declare the variable `my_list`.\n",
    "2. Declare the variable `total` as the sum of `my_list`. This could also be done as step 3.\n",
    "3. Declare the variable `num_elemets` as the length of `my_list`. This could also be done as step 2.\n",
    "4. Declare `avg` and assign it the sum divided by the number of elements in the list.\n",
    "5. Print `avg`"
   ]
  },
  {
   "cell_type": "code",
   "execution_count": 6,
   "metadata": {},
   "outputs": [
    {
     "name": "stdout",
     "output_type": "stream",
     "text": [
      "6.0\n"
     ]
    }
   ],
   "source": [
    "my_list = [5,17,2,3,3]\n",
    "total = sum(my_list)\n",
    "num_elements = len(my_list)\n",
    "avg = total / num_elements\n",
    "print(avg)"
   ]
  }
 ],
 "metadata": {
  "interpreter": {
   "hash": "12d9efd1b418ad7485587f2da0512ee7fc7c20b6462fdb2a696d6f33bbf19b58"
  },
  "kernelspec": {
   "display_name": "Python 3.10.4 64-bit",
   "language": "python",
   "name": "python3"
  },
  "language_info": {
   "codemirror_mode": {
    "name": "ipython",
    "version": 3
   },
   "file_extension": ".py",
   "mimetype": "text/x-python",
   "name": "python",
   "nbconvert_exporter": "python",
   "pygments_lexer": "ipython3",
   "version": "3.10.4"
  },
  "orig_nbformat": 4
 },
 "nbformat": 4,
 "nbformat_minor": 2
}
