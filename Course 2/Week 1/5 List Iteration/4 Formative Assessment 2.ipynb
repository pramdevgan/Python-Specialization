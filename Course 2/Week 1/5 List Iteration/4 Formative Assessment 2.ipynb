{
 "cells": [
  {
   "cell_type": "markdown",
   "metadata": {},
   "source": [
    "# ***Formative Assessment 2***\n",
    "## **List Iteration**\n",
    "Fill in the blanks below to make a while loop that iterates over a list called `colors` and prints each element in the list.\n",
    "```\n",
    "length = ______\n",
    "i = ______\n",
    "while ______ <  ______:\n",
    "    print(______)\n",
    "    i +=  ______\n",
    "```\n",
    "While loops require that you determine the length of a list, create an index variable, check to see if the index is greater than the length of the list, reference the element with the list name and index, and increment the index variable."
   ]
  },
  {
   "cell_type": "code",
   "execution_count": 1,
   "metadata": {},
   "outputs": [
    {
     "name": "stdout",
     "output_type": "stream",
     "text": [
      "Red\n",
      "Green\n",
      "Blue\n",
      "Orange\n",
      "Purple\n",
      "Black\n",
      "White\n"
     ]
    }
   ],
   "source": [
    "colors = [\"Red\", \"Green\", \"Blue\", \"Orange\", \"Purple\", \"Black\", \"White\"]\n",
    "length = len(colors)\n",
    "i = 0\n",
    "while  i < length:\n",
    "    print(colors[i])\n",
    "    i += 1"
   ]
  }
 ],
 "metadata": {
  "interpreter": {
   "hash": "12d9efd1b418ad7485587f2da0512ee7fc7c20b6462fdb2a696d6f33bbf19b58"
  },
  "kernelspec": {
   "display_name": "Python 3.10.4 64-bit",
   "language": "python",
   "name": "python3"
  },
  "language_info": {
   "codemirror_mode": {
    "name": "ipython",
    "version": 3
   },
   "file_extension": ".py",
   "mimetype": "text/x-python",
   "name": "python",
   "nbconvert_exporter": "python",
   "pygments_lexer": "ipython3",
   "version": "3.10.4"
  },
  "orig_nbformat": 4
 },
 "nbformat": 4,
 "nbformat_minor": 2
}
