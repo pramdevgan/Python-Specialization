{
 "cells": [
  {
   "cell_type": "markdown",
   "metadata": {},
   "source": [
    "# ***Formative Assessment 1***\n",
    "## **List Iteration**\n",
    "Drag the appropriate code blocks to the box below. Your code should be a for loop that iterates over a list called `animals` and prints each element in the list.\n",
    "\n",
    "Drag from here\n",
    "```\n",
    "for animals in animals:\n",
    "while animal in animals:\n",
    "for animal in animals:\n",
    "print(animal)\n",
    "print(animals[i])\n",
    "```\n",
    "Construct your solution here <br>\n",
    "***<font color = green>\n",
    "for animal in animals: <br>\n",
    "&emsp;&emsp;&emsp;print(animal)\n",
    "</font>***"
   ]
  },
  {
   "cell_type": "code",
   "execution_count": 1,
   "metadata": {},
   "outputs": [
    {
     "name": "stdout",
     "output_type": "stream",
     "text": [
      "Cow\n",
      "Dog\n",
      "Cat\n",
      "Panda\n",
      "Tiger\n"
     ]
    }
   ],
   "source": [
    "animals = [\"Cow\", \"Dog\", \"Cat\", \"Panda\", \"Tiger\"]\n",
    "for animal in animals:\n",
    "    print(animal)"
   ]
  },
  {
   "cell_type": "markdown",
   "metadata": {},
   "source": [
    "The convention is for loops is to use a variable that is the singular of the list. This same variable is used to reference the element in the list."
   ]
  }
 ],
 "metadata": {
  "interpreter": {
   "hash": "12d9efd1b418ad7485587f2da0512ee7fc7c20b6462fdb2a696d6f33bbf19b58"
  },
  "kernelspec": {
   "display_name": "Python 3.10.4 64-bit",
   "language": "python",
   "name": "python3"
  },
  "language_info": {
   "codemirror_mode": {
    "name": "ipython",
    "version": 3
   },
   "file_extension": ".py",
   "mimetype": "text/x-python",
   "name": "python",
   "nbconvert_exporter": "python",
   "pygments_lexer": "ipython3",
   "version": "3.10.4"
  },
  "orig_nbformat": 4
 },
 "nbformat": 4,
 "nbformat_minor": 2
}
