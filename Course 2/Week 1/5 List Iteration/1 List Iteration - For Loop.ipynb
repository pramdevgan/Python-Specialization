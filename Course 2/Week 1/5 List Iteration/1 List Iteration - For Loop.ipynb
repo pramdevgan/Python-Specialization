{
 "cells": [
  {
   "cell_type": "markdown",
   "metadata": {},
   "source": [
    "# **List Iteration - For Loop**\n",
    "## **Iterating Over Lists**\n",
    "The previous topics about lists have been about dealing with the list as a whole (sort, reverse, etc.) or dealing with individual elements of the list (pop, max, etc.). Iterating over a list allows you to deal with all of the elements in a list individually. Iterating over the list means to start with the element at index 0, and then progress until you reach the end of the list. A for loop is used to iterate over a list.\n",
    "![](https://apollo-media.codio.com/media%2F1%2F3fac7b161c5805a71293c635f417e87c-190233a7-e98a-494a-b394-ec9b7ff04f93.webp)\n",
    "\n",
    "##### **Number & Numbers**\n",
    "In the example below, the iteration variable is number and the list is named numbers. This is a very common practice in Python. The list is always plural, while the iterating variable is the singular of the list name. Python will not throw an error if this convention is not followed. However, for number in numbers helps with the readability of your code. You should follow this convention as often as possible."
   ]
  },
  {
   "cell_type": "code",
   "execution_count": 1,
   "metadata": {},
   "outputs": [
    {
     "name": "stdout",
     "output_type": "stream",
     "text": [
      "1\n",
      "2\n",
      "3\n",
      "4\n"
     ]
    }
   ],
   "source": [
    "numbers = [1,2,3,4]\n",
    "for number in numbers:\n",
    "    print(number)"
   ]
  },
  {
   "cell_type": "markdown",
   "metadata": {},
   "source": [
    "#### **What happens if you:**\n",
    "- Change the value of `numbers` to `[101, 12, 36, 24, 55, 6]`?\n",
    "- Change the value of `numbers` to `[\"cat\", \"dog\", \"mouse\", \"bird\", \"fish\"]`?\n",
    "- Change the `print` statement to `print(numbers)`?"
   ]
  },
  {
   "cell_type": "code",
   "execution_count": 3,
   "metadata": {},
   "outputs": [
    {
     "name": "stdout",
     "output_type": "stream",
     "text": [
      "101\n",
      "12\n",
      "36\n",
      "24\n",
      "55\n",
      "6\n"
     ]
    }
   ],
   "source": [
    "numbers = [101, 12, 36, 24, 55,6]\n",
    "for number in numbers:\n",
    "    print(number)"
   ]
  },
  {
   "cell_type": "code",
   "execution_count": 4,
   "metadata": {},
   "outputs": [
    {
     "name": "stdout",
     "output_type": "stream",
     "text": [
      "cat\n",
      "dog\n",
      "mouse\n",
      "bird\n",
      "fish\n"
     ]
    }
   ],
   "source": [
    "numbers = [\"cat\", \"dog\", \"mouse\", \"bird\", \"fish\"]\n",
    "for number in numbers:\n",
    "    print(number)"
   ]
  },
  {
   "cell_type": "code",
   "execution_count": 5,
   "metadata": {},
   "outputs": [
    {
     "name": "stdout",
     "output_type": "stream",
     "text": [
      "[1, 2, 3, 4]\n",
      "[1, 2, 3, 4]\n",
      "[1, 2, 3, 4]\n",
      "[1, 2, 3, 4]\n"
     ]
    }
   ],
   "source": [
    "numbers = [1,2,3,4]\n",
    "for number in numbers:\n",
    "    print(numbers)"
   ]
  },
  {
   "cell_type": "markdown",
   "metadata": {},
   "source": [
    "## ***What Happens Behind the Scene***\n",
    "Use the code visualizer below and step through the code. Notice how the variable `number` is the value of the element. The index of the list is never referenced."
   ]
  },
  {
   "cell_type": "code",
   "execution_count": 6,
   "metadata": {},
   "outputs": [],
   "source": [
    "from metakernel import register_ipython_magics\n",
    "register_ipython_magics()"
   ]
  },
  {
   "cell_type": "code",
   "execution_count": 7,
   "metadata": {},
   "outputs": [
    {
     "data": {
      "text/html": [
       "\n",
       "        <iframe\n",
       "            width=\"100%\"\n",
       "            height=\"500\"\n",
       "            src=\"https://pythontutor.com/iframe-embed.html#code=numbers%20%3D%20%5B1%2C2%2C3%2C4%5D%0Afor%20number%20in%20numbers%3A%0A%20%20%20%20print%28number%29%0A&origin=opt-frontend.js&cumulative=false&heapPrimitives=false&textReferences=false&py=3&rawInputLstJSON=%5B%5D&curInstr=0&codeDivWidth=350&codeDivHeight=400\"\n",
       "            frameborder=\"0\"\n",
       "            allowfullscreen\n",
       "            \n",
       "        ></iframe>\n",
       "        "
      ],
      "text/plain": [
       "<IPython.lib.display.IFrame at 0x1ba7c616b00>"
      ]
     },
     "metadata": {},
     "output_type": "display_data"
    }
   ],
   "source": [
    "%%tutor\n",
    "numbers = [1,2,3,4]\n",
    "for number in numbers:\n",
    "    print(number)"
   ]
  },
  {
   "cell_type": "markdown",
   "metadata": {},
   "source": [
    "#### **Reading Question**\n",
    "Fill in the blanks below to complete the for loop that iterates over the list `colors` and prints each item in the list.\n",
    "```\n",
    "colors = [\"red\", \"green\", \"blue\", \"yellow\", “black”]   \n",
    "for color in colors:       \n",
    "     print(color)\n",
    "```"
   ]
  },
  {
   "cell_type": "markdown",
   "metadata": {},
   "source": [
    "The solution to this problem is based on the naming convention that the variable for iteration is the singular of the list. Since the list is `colors`, then the iteration variable is `color`. The iteration variable is also used with the `print` statement."
   ]
  },
  {
   "cell_type": "code",
   "execution_count": 9,
   "metadata": {},
   "outputs": [
    {
     "name": "stdout",
     "output_type": "stream",
     "text": [
      "red\n",
      "green\n",
      "blue\n",
      "yellow\n",
      "black\n"
     ]
    }
   ],
   "source": [
    "colors = [\"red\", \"green\", \"blue\", \"yellow\", \"black\"]\n",
    "for color in colors:\n",
    "    print(color)"
   ]
  }
 ],
 "metadata": {
  "interpreter": {
   "hash": "12d9efd1b418ad7485587f2da0512ee7fc7c20b6462fdb2a696d6f33bbf19b58"
  },
  "kernelspec": {
   "display_name": "Python 3.10.4 64-bit",
   "language": "python",
   "name": "python3"
  },
  "language_info": {
   "codemirror_mode": {
    "name": "ipython",
    "version": 3
   },
   "file_extension": ".py",
   "mimetype": "text/x-python",
   "name": "python",
   "nbconvert_exporter": "python",
   "pygments_lexer": "ipython3",
   "version": "3.10.4"
  },
  "orig_nbformat": 4
 },
 "nbformat": 4,
 "nbformat_minor": 2
}
