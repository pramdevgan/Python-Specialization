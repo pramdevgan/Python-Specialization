{
 "cells": [
  {
   "cell_type": "markdown",
   "metadata": {},
   "source": [
    "# ***List Iteration - While Loop***\n",
    "## **Iteration with While Loops**\n",
    "For loops are almost exclusively used to iterate over lists. It is possible to use a while loop. Be aware of all of things you manually do when using a while loop over a for loop."
   ]
  },
  {
   "cell_type": "code",
   "execution_count": 1,
   "metadata": {},
   "outputs": [
    {
     "name": "stdout",
     "output_type": "stream",
     "text": [
      "1\n",
      "2\n",
      "3\n",
      "4\n"
     ]
    }
   ],
   "source": [
    "numbers = [1,2,3,4]\n",
    "length = len(numbers)\n",
    "i = 0\n",
    "\n",
    "while i < length:\n",
    "    print(numbers[i])\n",
    "    i += 1"
   ]
  },
  {
   "cell_type": "markdown",
   "metadata": {},
   "source": [
    "### **What happens if you:**\n",
    "- Change the loop to `while i <= length:`?\n",
    "- Change the print statement to `print(i)`?\n",
    "- Remove `i += 1`?"
   ]
  },
  {
   "cell_type": "code",
   "execution_count": 2,
   "metadata": {},
   "outputs": [
    {
     "name": "stdout",
     "output_type": "stream",
     "text": [
      "1\n",
      "2\n",
      "3\n",
      "4\n"
     ]
    },
    {
     "ename": "IndexError",
     "evalue": "list index out of range",
     "output_type": "error",
     "traceback": [
      "\u001b[1;31m---------------------------------------------------------------------------\u001b[0m",
      "\u001b[1;31mIndexError\u001b[0m                                Traceback (most recent call last)",
      "\u001b[1;32mc:\\Users\\vpram\\Python Specialization\\Course 2\\Week 1\\5 List Iteration\\2 List Iteration - While Loop.ipynb Cell 4'\u001b[0m in \u001b[0;36m<module>\u001b[1;34m\u001b[0m\n\u001b[0;32m      <a href='vscode-notebook-cell:/c%3A/Users/vpram/Python%20Specialization/Course%202/Week%201/5%20List%20Iteration/2%20List%20Iteration%20-%20While%20Loop.ipynb#ch0000005?line=2'>3</a>\u001b[0m i \u001b[39m=\u001b[39m \u001b[39m0\u001b[39m\n\u001b[0;32m      <a href='vscode-notebook-cell:/c%3A/Users/vpram/Python%20Specialization/Course%202/Week%201/5%20List%20Iteration/2%20List%20Iteration%20-%20While%20Loop.ipynb#ch0000005?line=4'>5</a>\u001b[0m \u001b[39mwhile\u001b[39;00m i \u001b[39m<\u001b[39m\u001b[39m=\u001b[39m length:\n\u001b[1;32m----> <a href='vscode-notebook-cell:/c%3A/Users/vpram/Python%20Specialization/Course%202/Week%201/5%20List%20Iteration/2%20List%20Iteration%20-%20While%20Loop.ipynb#ch0000005?line=5'>6</a>\u001b[0m     \u001b[39mprint\u001b[39m(numbers[i])\n\u001b[0;32m      <a href='vscode-notebook-cell:/c%3A/Users/vpram/Python%20Specialization/Course%202/Week%201/5%20List%20Iteration/2%20List%20Iteration%20-%20While%20Loop.ipynb#ch0000005?line=6'>7</a>\u001b[0m     i \u001b[39m+\u001b[39m\u001b[39m=\u001b[39m \u001b[39m1\u001b[39m\n",
      "\u001b[1;31mIndexError\u001b[0m: list index out of range"
     ]
    }
   ],
   "source": [
    "numbers = [1,2,3,4]\n",
    "length = len(numbers)\n",
    "i = 0\n",
    "\n",
    "while i <= length:\n",
    "    print(numbers[i])\n",
    "    i += 1"
   ]
  },
  {
   "cell_type": "code",
   "execution_count": 3,
   "metadata": {},
   "outputs": [
    {
     "name": "stdout",
     "output_type": "stream",
     "text": [
      "0\n",
      "1\n",
      "2\n",
      "3\n"
     ]
    }
   ],
   "source": [
    "numbers = [1,2,3,4]\n",
    "length = len(numbers)\n",
    "i = 0\n",
    "\n",
    "while i < length:\n",
    "    print(i)\n",
    "    i += 1"
   ]
  },
  {
   "cell_type": "code",
   "execution_count": null,
   "metadata": {},
   "outputs": [],
   "source": [
    "numbers = [1,2,3,4]\n",
    "length = len(numbers)\n",
    "i = 0\n",
    "\n",
    "while i < length:\n",
    "    print(numbers[i])\n",
    "\n",
    "# It will print out infinite 1 "
   ]
  },
  {
   "cell_type": "markdown",
   "metadata": {},
   "source": [
    "## Compairing ***<font color = green>While</font>*** & ***<font color = green>For</font>*** Loops\n",
    "![](https://apollo-media.codio.com/media%2F1%2Fe214bacfce122db4a1c92a49c71f5aa1-166375bf-c131-4bb0-8402-8751d0a53332.webp)\n",
    "\n",
    "The for loop is more efficient than a while loop when iterating over a list. You do not need to declare variables for the length of the list (red text), declare a variable for the index of the list (blue text), or increment the index variable (orange text). All of this is handled by the `in` statement. In for loops, you can use the iteration variable to reference the list element. With a while loop, however, you need to use the list and index to reference the element (purple text)."
   ]
  },
  {
   "cell_type": "markdown",
   "metadata": {},
   "source": [
    "#### **Reading Question**\n",
    "Which of the following things must you do manually when iterating over a list with a while loop? **Hint**, there is more than one right answer.\n",
    "\n",
    "- ***<font color = green>Create a variable for the length of the list.***</font>    <---- Correct Answer\n",
    "- ***<font color = green>Create a variable for the index.</font>***    <---- Correct Answer\n",
    "- ***<font color = green>Reference a list element with the list name and index.</font>***   <---- Correct Answer\n",
    "- ***<font color = green>Increment the index variable.</font>***    <---- Correct Answer"
   ]
  }
 ],
 "metadata": {
  "interpreter": {
   "hash": "12d9efd1b418ad7485587f2da0512ee7fc7c20b6462fdb2a696d6f33bbf19b58"
  },
  "kernelspec": {
   "display_name": "Python 3.10.4 64-bit",
   "language": "python",
   "name": "python3"
  },
  "language_info": {
   "codemirror_mode": {
    "name": "ipython",
    "version": 3
   },
   "file_extension": ".py",
   "mimetype": "text/x-python",
   "name": "python",
   "nbconvert_exporter": "python",
   "pygments_lexer": "ipython3",
   "version": "3.10.4"
  },
  "orig_nbformat": 4
 },
 "nbformat": 4,
 "nbformat_minor": 2
}
