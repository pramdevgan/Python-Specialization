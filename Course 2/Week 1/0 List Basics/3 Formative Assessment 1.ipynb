{
 "cells": [
  {
   "cell_type": "markdown",
   "metadata": {},
   "source": [
    "# ***Formative Assessment 1***\n",
    "\n",
    "#### **List Index**\n",
    "Using the list below, select the code snippet that references the third element in the array.\n",
    "\n",
    "`my_list = [1, 2, 3, 4, 5]`\n",
    "\n",
    "- `my_list[3]`\n",
    "- `my_list[2]`\n",
    "- 3\n",
    "- `my_list[third]`"
   ]
  },
  {
   "cell_type": "code",
   "execution_count": 1,
   "metadata": {},
   "outputs": [
    {
     "name": "stdout",
     "output_type": "stream",
     "text": [
      "3\n"
     ]
    }
   ],
   "source": [
    "my_list = [1,2,3,4,5]\n",
    "print(my_list[2])"
   ]
  },
  {
   "cell_type": "markdown",
   "metadata": {},
   "source": [
    "`The index of a list starts with 0. So we count 0, 1, 2. Index 2 represents the third element. When writing this in code, start with the list’s name, square brackets, and the index in between the brackets.`"
   ]
  }
 ],
 "metadata": {
  "interpreter": {
   "hash": "12d9efd1b418ad7485587f2da0512ee7fc7c20b6462fdb2a696d6f33bbf19b58"
  },
  "kernelspec": {
   "display_name": "Python 3.10.4 64-bit",
   "language": "python",
   "name": "python3"
  },
  "language_info": {
   "codemirror_mode": {
    "name": "ipython",
    "version": 3
   },
   "file_extension": ".py",
   "mimetype": "text/x-python",
   "name": "python",
   "nbconvert_exporter": "python",
   "pygments_lexer": "ipython3",
   "version": "3.10.4"
  },
  "orig_nbformat": 4
 },
 "nbformat": 4,
 "nbformat_minor": 2
}
