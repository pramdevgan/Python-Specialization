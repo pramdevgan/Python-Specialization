{
 "cells": [
  {
   "cell_type": "markdown",
   "metadata": {},
   "source": [
    "# ***Lab 2***\n",
    "## **Coding Sum**\n",
    "Python already has a `sum` function, but we are going to write some code that manually calculates the sum of a list.\n",
    "\n",
    "#### **Setup**\n",
    "We are going to need a variable `total` that will be the sum. Set `total` to 0. Create an empty list called `numbers`. We will want the list to be randomly generated numbers, so import the `random` library as well."
   ]
  },
  {
   "cell_type": "code",
   "execution_count": 15,
   "metadata": {},
   "outputs": [],
   "source": [
    "import random\n",
    "numbers = []\n",
    "total = 0"
   ]
  },
  {
   "cell_type": "markdown",
   "metadata": {},
   "source": [
    "#### **Random Numbers**\n",
    "Next, lets add 20 random integers (from 0 to 100) to the list `numbers` with a for loop."
   ]
  },
  {
   "cell_type": "code",
   "execution_count": 16,
   "metadata": {},
   "outputs": [],
   "source": [
    "for i in range(20):\n",
    "    numbers.append(random.randint(0, 100))"
   ]
  },
  {
   "cell_type": "markdown",
   "metadata": {},
   "source": [
    "#### **List Iteration**\n",
    "Now that the list of random numbers is complete, write a for loop to iterate over the list. Remember to use `number` as the iteration variable because it is the singular of the list `numbers`. Add each element of the list the the `total` variable."
   ]
  },
  {
   "cell_type": "code",
   "execution_count": 17,
   "metadata": {},
   "outputs": [],
   "source": [
    "for number in numbers:\n",
    "    total += number"
   ]
  },
  {
   "cell_type": "markdown",
   "metadata": {},
   "source": [
    "#### **Answer and Checking our Work**\n",
    "Once this loop has finished iterating over the list `numbers`, the variable `total` should represent the sum of the list. Use a `print` statement to see the value of `total`. We are also going to print the sum of `numbers` using the `sum` function to check our work. If the numbers match, our code is good."
   ]
  },
  {
   "cell_type": "code",
   "execution_count": 18,
   "metadata": {},
   "outputs": [
    {
     "name": "stdout",
     "output_type": "stream",
     "text": [
      "The sum of numbers is  1129\n",
      "1129\n"
     ]
    }
   ],
   "source": [
    "print(\"The sum of numbers is \" , total)\n",
    "print(sum(numbers))"
   ]
  },
  {
   "cell_type": "markdown",
   "metadata": {},
   "source": [
    "# **All code**"
   ]
  },
  {
   "cell_type": "code",
   "execution_count": 22,
   "metadata": {},
   "outputs": [
    {
     "name": "stdout",
     "output_type": "stream",
     "text": [
      "The sum of numbers is  1125\n",
      "1125\n"
     ]
    }
   ],
   "source": [
    "import random\n",
    "\n",
    "numbers = []\n",
    "total = 0\n",
    "\n",
    "for i in range(20):\n",
    "    numbers.append(random.randint(0, 100))\n",
    "\n",
    "for number in numbers:\n",
    "    total += number\n",
    "\n",
    "print(\"The sum of numbers is \", total)\n",
    "print(sum(numbers))"
   ]
  },
  {
   "cell_type": "markdown",
   "metadata": {},
   "source": [
    "### **Calculating Sum**\n",
    "Why was the variable called `total` and not `sum`?\n",
    "\n",
    "- Using `total` causes the program to run faster.\n",
    "- `total` is a more descriptive variable name than `sum`.\n",
    "- `sum` is a keyword reserved for the `sum` function. Variable names cannot be a keyword.\n",
    "- Python mandates that cumulative totals must be stored in a variable called `total`.\n",
    "\n",
    "`sum` is a reserved keyword in Python. Variable names cannot be one of these keywords. `total` is used because it is an accurate description of the job of the variable, and it is not a keyword."
   ]
  }
 ],
 "metadata": {
  "kernelspec": {
   "display_name": "Python 3.10.4 64-bit",
   "language": "python",
   "name": "python3"
  },
  "language_info": {
   "codemirror_mode": {
    "name": "ipython",
    "version": 3
   },
   "file_extension": ".py",
   "mimetype": "text/x-python",
   "name": "python",
   "nbconvert_exporter": "python",
   "pygments_lexer": "ipython3",
   "version": "3.10.4"
  },
  "orig_nbformat": 4,
  "vscode": {
   "interpreter": {
    "hash": "12d9efd1b418ad7485587f2da0512ee7fc7c20b6462fdb2a696d6f33bbf19b58"
   }
  }
 },
 "nbformat": 4,
 "nbformat_minor": 2
}
