{
 "cells": [
  {
   "cell_type": "markdown",
   "metadata": {},
   "source": [
    "# ***Lab Challenge***\n",
    "## **Changing a List**\n",
    "Write a program that takes a list of integers called `numbers` and will print a list with the elements `odd` or `even` based on the elements of `numbers`. For example, if `numbers = [1, 2, 3, 4]`, then your program will print ['odd', 'even', 'odd', 'even'].\n",
    "\n",
    "**Important**, do not edit the code in the top section. This code is necessary for the auto-grader to work. Add your code in the section below. Clicking the ***TRY IT*** button will test your code with `numbers = [1, 2, 3, 4]`."
   ]
  },
  {
   "cell_type": "code",
   "execution_count": 5,
   "metadata": {},
   "outputs": [
    {
     "name": "stdout",
     "output_type": "stream",
     "text": [
      "['odd', 'even', 'odd', 'even', 'odd']\n"
     ]
    }
   ],
   "source": [
    "numbers = [1,2,3,4,5]\n",
    "\n",
    "final_result =[]\n",
    "for number in numbers:\n",
    "    if number % 2 == 0:\n",
    "        final_result.append(\"even\")\n",
    "    else:\n",
    "        final_result.append(\"odd\")\n",
    "print(final_result)"
   ]
  }
 ],
 "metadata": {
  "kernelspec": {
   "display_name": "Python 3.10.4 64-bit",
   "language": "python",
   "name": "python3"
  },
  "language_info": {
   "codemirror_mode": {
    "name": "ipython",
    "version": 3
   },
   "file_extension": ".py",
   "mimetype": "text/x-python",
   "name": "python",
   "nbconvert_exporter": "python",
   "pygments_lexer": "ipython3",
   "version": "3.10.4"
  },
  "orig_nbformat": 4,
  "vscode": {
   "interpreter": {
    "hash": "12d9efd1b418ad7485587f2da0512ee7fc7c20b6462fdb2a696d6f33bbf19b58"
   }
  }
 },
 "nbformat": 4,
 "nbformat_minor": 2
}
