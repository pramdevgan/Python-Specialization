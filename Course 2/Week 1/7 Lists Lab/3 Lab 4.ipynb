{
 "cells": [
  {
   "cell_type": "code",
   "execution_count": 6,
   "metadata": {},
   "outputs": [],
   "source": [
    "warm = [\"red\", \"orange\", \"yellow\", \"burgundy\", \"pink\", \"rose\", \"pumpkin\", \"marigold\", \"gold\", \"citron\", \"amber\"]\n",
    "cool = [\"blue\", \"green\", \"purple\", \"cyan\", \"violet\", \"indigo\", \"azure\", \"teal\", \"mint\", \"lime\", \"emerald\"]\n",
    "neutral = [\"black\", \"white\", \"gray\", \"grey\", \"brown\", \"beige\"]"
   ]
  },
  {
   "cell_type": "markdown",
   "metadata": {},
   "source": [
    "# ***Lab 4***\n",
    "## **Cross-Referencing Colors**\n",
    "Write a program that cross-references a list of random colors with lists of warm, cool, and neutral colors. Keep track of how many warm, cool, and neutral colors are in the list of random colors. Also keep track of how many colors do not appear in any of the lists.\n",
    "\n",
    "#### **Setup**\n",
    "The lists `warm`, `cool`, and `neutral` are already provided. We will need a list `colors` filled with a randomly selected colors. We will also need the variables `warm_count`, `cool_count`, `neutral_count`, and `misc_count` to keep track of how often these colors appear. These variables can be set to 0."
   ]
  },
  {
   "cell_type": "code",
   "execution_count": 7,
   "metadata": {},
   "outputs": [],
   "source": [
    "colors = [\"red\", \"black\", \"pink\", \"beige\", \"dark green\", \"azure\", \"amber\", \"light yellow\"]\n",
    "warm_count = 0\n",
    "cool_count = 0\n",
    "neutral_count = 0\n",
    "misc_count = 0"
   ]
  },
  {
   "cell_type": "markdown",
   "metadata": {},
   "source": [
    "#### **Iterating**\n",
    "There are a couple of ways to solve this problem. You could iterate over the `warm` list and see if any of the elements in `colors` are present. You would repeat this with the `cool` and `neutral` lists as well. The problem arises when you try and figure out what are miscellaneous colors. There is no list for this. A miscellaneous color would any color that is not in the `warm`, `cool`, or `neutral` lists. Instead, iterate over the `colors` list and see if each element is in the `warm`, `cool`, or `neutral` lists. If an element is not in those three lists, then it is a miscellaneous color."
   ]
  },
  {
   "cell_type": "markdown",
   "metadata": {},
   "source": [
    "`for color in colors:`"
   ]
  },
  {
   "cell_type": "markdown",
   "metadata": {},
   "source": [
    "#### **Conditionals**\n",
    "The order of conditionals is not important. Let’s start with the `warm` list. If the element is in this list, increment the `warm_count` variable. Use `elifs` for the other lists, and increment the respective variable."
   ]
  },
  {
   "cell_type": "code",
   "execution_count": 8,
   "metadata": {},
   "outputs": [],
   "source": [
    "for color in colors:\n",
    "    if color in warm:\n",
    "        warm_count +=1\n",
    "    elif color in cool:\n",
    "        cool_count +=1\n",
    "    elif color in neutral:\n",
    "        neutral_count +=1"
   ]
  },
  {
   "cell_type": "markdown",
   "metadata": {},
   "source": [
    "#### **Miscellaneous Colors**\n",
    "If all of these conditionals are false, then the color can be considered miscellaneous. Use an `else` statement to increment the `misc_count` variable."
   ]
  },
  {
   "cell_type": "code",
   "execution_count": 9,
   "metadata": {},
   "outputs": [],
   "source": [
    "for color in colors:\n",
    "    if color in warm:\n",
    "        warm_count +=1\n",
    "    elif color in cool:\n",
    "        cool_count +=1\n",
    "    elif color in neutral:\n",
    "        neutral_count +=1\n",
    "    else:\n",
    "        misc_count += 1"
   ]
  },
  {
   "cell_type": "markdown",
   "metadata": {},
   "source": [
    "#### **Printing the Answer and Checking our Work**\n",
    "Let’s start by printing the length of `colors` with a message. Then print the values of `warm_count`, `cool_count`, `neutral_count`, and `misc_count` with a respective message. The sum of these variables should equal the length of `colors`."
   ]
  },
  {
   "cell_type": "code",
   "execution_count": 10,
   "metadata": {},
   "outputs": [
    {
     "name": "stdout",
     "output_type": "stream",
     "text": [
      "The total # of colors is  8\n",
      "There are  6 warm colors\n",
      "There are  2 cool colors\n",
      "There are  4 neutral colors\n",
      "There are  2 miscellaneous colors\n"
     ]
    }
   ],
   "source": [
    "print(\"The total # of colors is \", len(colors))\n",
    "print(\"There are \", warm_count, \"warm colors\")\n",
    "print(\"There are \", cool_count, \"cool colors\")\n",
    "print(\"There are \", neutral_count, \"neutral colors\")\n",
    "print(\"There are \", misc_count, \"miscellaneous colors\")"
   ]
  },
  {
   "cell_type": "markdown",
   "metadata": {},
   "source": [
    "#### **What Happened to the `+` Operator?**\n",
    "You may have noticed that the string concatenation operator (`+`) is not used in the `print` statements. To use concatenation, you must have two strings. Which means you need to type cast the integer variables as strings. Python also lets you use a variable in a string by using a comma to separate the variable from the strings. No type casting is necessary. Both options do the same things."
   ]
  },
  {
   "cell_type": "markdown",
   "metadata": {},
   "source": [
    "#### **All Code**"
   ]
  },
  {
   "cell_type": "code",
   "execution_count": 11,
   "metadata": {},
   "outputs": [
    {
     "name": "stdout",
     "output_type": "stream",
     "text": [
      "The total # of colors is  8\n",
      "There are  3  warm colors\n",
      "There are  1  cool colors\n",
      "There are  2  neutral colors\n",
      "There are  2  miscellaneous colors\n"
     ]
    }
   ],
   "source": [
    "colors = [\"red\", \"black\", \"pink\", \"beige\", \"dark green\", \"azure\", \"amber\", \"light yellow\"]\n",
    "warm_count = 0\n",
    "cool_count = 0\n",
    "neutral_count = 0\n",
    "misc_count = 0\n",
    "\n",
    "for color in colors:\n",
    "    if color in warm:\n",
    "        warm_count += 1\n",
    "    elif color in cool:\n",
    "        cool_count += 1\n",
    "    elif color in neutral:\n",
    "        neutral_count += 1\n",
    "    else:\n",
    "        misc_count += 1\n",
    "\n",
    "print(\"The total # of colors is \", len(colors))\n",
    "print(\"There are \", warm_count, \" warm colors\")\n",
    "print(\"There are \", cool_count, \" cool colors\")\n",
    "print(\"There are \", neutral_count, \" neutral colors\")\n",
    "print(\"There are \", misc_count, \" miscellaneous colors\")"
   ]
  },
  {
   "cell_type": "markdown",
   "metadata": {},
   "source": [
    "## **The in Operator**\n",
    "Create a program that prints `True` by dragging the appropriate code blocks to the box below. You program must do the following things:\n",
    "\n",
    "- Be two lines long\n",
    "- Declare a list\n",
    "- Print `\"True\"`\n",
    "\n",
    "**Hint**, not all of the code blocks will be used.\n",
    "\n",
    "Drag from here\n",
    "```\n",
    "my_list = [13, 33, 23, 88, 9]\n",
    "list_1 = [3, 52, 198, 76, 20]\n",
    "```\n",
    "Construct your solution here\n",
    "\n",
    "```\n",
    "my_list = [11, 71, 65, 42, 3]\n",
    "print(3 in my_list)\n",
    "```\n",
    "\n",
    "- `my_list = [13, 33, 23, 88, 9]` - does not have the element of 3\n",
    "- `list_1 = [3, 52, 198, 76, 20]` - there is no in statement that references list_1"
   ]
  },
  {
   "cell_type": "code",
   "execution_count": null,
   "metadata": {},
   "outputs": [],
   "source": [
    "my_list = [11, 71, 65, 42, 3]\n",
    "print(3 in my_list)"
   ]
  }
 ],
 "metadata": {
  "kernelspec": {
   "display_name": "Python 3.10.4 64-bit",
   "language": "python",
   "name": "python3"
  },
  "language_info": {
   "codemirror_mode": {
    "name": "ipython",
    "version": 3
   },
   "file_extension": ".py",
   "mimetype": "text/x-python",
   "name": "python",
   "nbconvert_exporter": "python",
   "pygments_lexer": "ipython3",
   "version": "3.10.4"
  },
  "orig_nbformat": 4,
  "vscode": {
   "interpreter": {
    "hash": "12d9efd1b418ad7485587f2da0512ee7fc7c20b6462fdb2a696d6f33bbf19b58"
   }
  }
 },
 "nbformat": 4,
 "nbformat_minor": 2
}
