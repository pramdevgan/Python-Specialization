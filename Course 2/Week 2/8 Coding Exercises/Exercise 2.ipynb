{
 "cells": [
  {
   "cell_type": "markdown",
   "metadata": {},
   "source": [
    "# Exercise 2\n",
    "---\n",
    "## Strings Exercise 2\n",
    "\n",
    "**Problem**\n",
    "Write a program that captures text from the user. Print the user string as many times as its length. Print as many lines of this as the length of the user input.  **Important** , do not put a prompt when asking for user input. Just use `input()`. Adding a prompt will cause your program to not pass the tests.\n",
    "\n",
    "**Expected Output**\n",
    "\n",
    "* If the user types `cat` then the program will print:\n",
    "\n",
    "```python\n",
    "catcatcat\n",
    "catcatcat\n",
    "catcatcat\n",
    "```\n",
    "\n",
    "* If the user types `tree` then the program will print:\n",
    "\n",
    "```python\n",
    "treetreetreetree\n",
    "treetreetreetree\n",
    "treetreetreetree\n",
    "treetreetreetree\n",
    "```"
   ]
  },
  {
   "cell_type": "markdown",
   "metadata": {},
   "source": [
    "### **Solution 1**"
   ]
  },
  {
   "cell_type": "code",
   "execution_count": 4,
   "metadata": {},
   "outputs": [
    {
     "name": "stdout",
     "output_type": "stream",
     "text": [
      "treetreetreetree\n",
      "treetreetreetree\n",
      "treetreetreetree\n",
      "treetreetreetree\n"
     ]
    }
   ],
   "source": [
    "my_string = input()\n",
    "\n",
    "for i in range(len(my_string)):\n",
    "    text_output = my_string * len(my_string)\n",
    "    print(text_output)"
   ]
  },
  {
   "cell_type": "markdown",
   "metadata": {},
   "source": [
    "### **Solution 2**\n",
    "The code below is one possible solution for the problem. Start by creating a variable `txt` that captures input from the user. Since you need as many lines of output as there are characters in the string `txt`, write a for loop that is in the range of the length of `txt`. For each line of output, you want the the user input to appear as many times as its length, multiply `txt` by its length."
   ]
  },
  {
   "cell_type": "code",
   "execution_count": null,
   "metadata": {},
   "outputs": [],
   "source": [
    "txt = input()\n",
    "for i in range(len(txt)):\n",
    "    print(txt * len(txt))"
   ]
  }
 ],
 "metadata": {
  "kernelspec": {
   "display_name": "Python 3.10.4 64-bit",
   "language": "python",
   "name": "python3"
  },
  "language_info": {
   "codemirror_mode": {
    "name": "ipython",
    "version": 3
   },
   "file_extension": ".py",
   "mimetype": "text/x-python",
   "name": "python",
   "nbconvert_exporter": "python",
   "pygments_lexer": "ipython3",
   "version": "3.10.4"
  },
  "orig_nbformat": 4,
  "vscode": {
   "interpreter": {
    "hash": "12d9efd1b418ad7485587f2da0512ee7fc7c20b6462fdb2a696d6f33bbf19b58"
   }
  }
 },
 "nbformat": 4,
 "nbformat_minor": 2
}
