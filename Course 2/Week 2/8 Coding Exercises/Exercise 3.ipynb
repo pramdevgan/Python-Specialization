{
 "cells": [
  {
   "cell_type": "markdown",
   "metadata": {},
   "source": [
    "# Exercise 3\n",
    "---\n",
    "## Exercise 3\n",
    "\n",
    "**Problem**\n",
    "Write a program that accepts input from the user. Create another string that contains either a `u`, `l`, or `-` for each character of the original string. Use `u` when the character is uppercase, and use `l` when the character is lowercase. If the character is neither uppercase or lowercase, use `-`. Print the second string.  **Important** , do not put a prompt when asking for user input. Just use `input()`. Adding a prompt will cause your program to not pass the tests.\n",
    "\n",
    "**Expected Output**\n",
    "\n",
    "* If the user inputs `cat`, then the output will be:\n",
    "\n",
    "```python\n",
    "cat\n",
    "lll\n",
    "```\n",
    "\n",
    "* If the user inputs `HouSE`, then the output will be:\n",
    "\n",
    "```python\n",
    "HouSE\n",
    "ulluu\n",
    "```"
   ]
  },
  {
   "cell_type": "markdown",
   "metadata": {},
   "source": [
    "### **Solution 1**"
   ]
  },
  {
   "cell_type": "code",
   "execution_count": 11,
   "metadata": {},
   "outputs": [
    {
     "name": "stdout",
     "output_type": "stream",
     "text": [
      "ullll\n"
     ]
    }
   ],
   "source": [
    "my_string = input()\n",
    "\n",
    "for i in my_string:\n",
    "    if i.isupper():\n",
    "        my_string = my_string.replace(i, \"u\")\n",
    "    elif i.islower():\n",
    "        my_string = my_string.replace(i, \"l\")\n",
    "    else:\n",
    "        my_string = my_string.replace(i, \"-\")\n",
    "print(my_string)"
   ]
  },
  {
   "cell_type": "markdown",
   "metadata": {},
   "source": [
    "### **Solution 2**\n",
    "\n",
    "Here is one possible solution to the problem. You will need two variables. The first one is `txt` and it captures the user input. The second variable will hold the `u`, `l`, and `-` characters. This variable is called `second_string` and is set to an empty string. Loop through each character of `txt`. If the character is lowercase, add a `l` to `second_string`. If the character is uppercase, add a `u` to `second_string`. If the character is neither uppercase or lowercase (i.e. it is a number of a symbol), add a `-` to `second_string`. Finally print `txt` and then print `second_string`."
   ]
  },
  {
   "cell_type": "code",
   "execution_count": 9,
   "metadata": {},
   "outputs": [
    {
     "name": "stdout",
     "output_type": "stream",
     "text": [
      "ulluu\n"
     ]
    }
   ],
   "source": [
    "txt = input()\n",
    "second_string = \"\"\n",
    "for char in txt:\n",
    "    if char.islower():\n",
    "        second_string += \"l\"\n",
    "    elif char.isupper():\n",
    "        second_string += \"u\"\n",
    "    else:\n",
    "        second_string += \"-\"\n",
    "\n",
    "print(second_string)"
   ]
  }
 ],
 "metadata": {
  "kernelspec": {
   "display_name": "Python 3.10.4 64-bit",
   "language": "python",
   "name": "python3"
  },
  "language_info": {
   "codemirror_mode": {
    "name": "ipython",
    "version": 3
   },
   "file_extension": ".py",
   "mimetype": "text/x-python",
   "name": "python",
   "nbconvert_exporter": "python",
   "pygments_lexer": "ipython3",
   "version": "3.10.4"
  },
  "orig_nbformat": 4,
  "vscode": {
   "interpreter": {
    "hash": "12d9efd1b418ad7485587f2da0512ee7fc7c20b6462fdb2a696d6f33bbf19b58"
   }
  }
 },
 "nbformat": 4,
 "nbformat_minor": 2
}
