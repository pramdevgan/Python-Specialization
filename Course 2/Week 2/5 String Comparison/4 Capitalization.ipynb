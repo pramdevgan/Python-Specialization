{
 "cells": [
  {
   "cell_type": "markdown",
   "metadata": {},
   "source": [
    "# **Capitalization**\n",
    "## **User Input**\n",
    "To humans, the words “dog” and “Dog” are the same. Python, however, is case sensitive. That means a difference in capitalization implies two different words. When dealing with user input, the rules of capitalization are often not followed. The input command instructs Python to pause the program until the user has typed something and pressed `Return`. **Important**, Python treats all user input as a string. If you want a number, use typecasting to convert it to the proper data type.\n",
    "![](https://i.imgur.com/vAMVKBo.png)"
   ]
  },
  {
   "cell_type": "markdown",
   "metadata": {},
   "source": [
    "#### **The Terminal**\n",
    "Collecting user input requires the terminal (also called the command line), which has not been used up until now. When you run the program below, you will see a new tab appear with the message to the user. Enter some text and press return. Click the \"TRY IT\" button to run the program again. If you want to edit your program, you can click on the tab with your code. You can also close the terminal (running the program again will launch the terminal)."
   ]
  },
  {
   "cell_type": "code",
   "execution_count": 6,
   "metadata": {},
   "outputs": [
    {
     "name": "stdout",
     "output_type": "stream",
     "text": [
      "Hello\n"
     ]
    }
   ],
   "source": [
    "text = input(\"Type something and press 'Retrun': \")\n",
    "print(text)"
   ]
  },
  {
   "cell_type": "markdown",
   "metadata": {},
   "source": [
    "### **What happens if you:**\n",
    "- Remove the space between the `:` and `\"` in the `input` message?\n",
    "- Press the `Ctrl` button and `C`?"
   ]
  },
  {
   "cell_type": "code",
   "execution_count": 7,
   "metadata": {},
   "outputs": [
    {
     "ename": "SyntaxError",
     "evalue": "invalid syntax. Perhaps you forgot a comma? (4022516239.py, line 1)",
     "output_type": "error",
     "traceback": [
      "\u001b[1;36m  Input \u001b[1;32mIn [7]\u001b[1;36m\u001b[0m\n\u001b[1;33m    text = input(Type something and press 'Retrun' )\u001b[0m\n\u001b[1;37m                 ^\u001b[0m\n\u001b[1;31mSyntaxError\u001b[0m\u001b[1;31m:\u001b[0m invalid syntax. Perhaps you forgot a comma?\n"
     ]
    }
   ],
   "source": [
    "text = input(Type something and press 'Retrun' )\n",
    "print(text)"
   ]
  },
  {
   "cell_type": "markdown",
   "metadata": {},
   "source": [
    "#### **`Ctrl` + `C`**\n",
    "Pressing `Ctrl` and `C` on the keyboard will exit the program running in the terminal."
   ]
  },
  {
   "cell_type": "markdown",
   "metadata": {},
   "source": [
    "## **Comparing Text, Not Capitalization**\n",
    "You can compare the strings while ignoring capitalization by using the `lower` method. This will make all of the text lowercase. Make sure that both strings are lowercase for the comparison to work."
   ]
  },
  {
   "cell_type": "code",
   "execution_count": null,
   "metadata": {},
   "outputs": [
    {
     "name": "stdout",
     "output_type": "stream",
     "text": [
      "This Program will check to see if two values are the same.\n",
      "They are the same!\n"
     ]
    }
   ],
   "source": [
    "print(\"This Program will check to see if two values are the same.\")\n",
    "string1 = input(\"Enter a value: \").lower()\n",
    "string2 = input(\"Enter another value: \").lower()\n",
    "if string1 == string2:\n",
    "    print(\"They are the same!\")\n",
    "else:\n",
    "    print(\"They are not the same!\")"
   ]
  },
  {
   "cell_type": "markdown",
   "metadata": {},
   "source": [
    "### **What happens if you:**\n",
    "- Enter `Texas` and `texas`?\n",
    "  - It will return True\n",
    "- Enter `TeXaS` and `tExAs`?\n",
    "  - It is also return Ture\n",
    "- Change the `.lower()` to `.upper()` for both string variables?"
   ]
  },
  {
   "cell_type": "code",
   "execution_count": null,
   "metadata": {},
   "outputs": [
    {
     "name": "stdout",
     "output_type": "stream",
     "text": [
      "This Program will check to see if two values are the same.\n",
      "They are the same!\n",
      "String1:  HELLO  and  String2:  HELLO\n"
     ]
    }
   ],
   "source": [
    "print(\"This Program will check to see if two values are the same.\")\n",
    "string1 = input(\"Enter a value: \").upper()\n",
    "string2 = input(\"Enter another value: \").upper()\n",
    "if string1 == string2:\n",
    "    print(\"They are the same!\")\n",
    "else:\n",
    "    print(\"They are not the same!\")\n",
    "\n",
    "print(\"String1: \", string1, \" and \", \"String2: \", string2)"
   ]
  },
  {
   "cell_type": "markdown",
   "metadata": {},
   "source": [
    "#### **Running Python code manually**\n",
    "All the \"TRY IT\" button does is send a message to Codio to run your Python program. You can do the same from the terminal. The image below explains how to run your code manually. If you see the `$` in the terminal, that means Python has finished running, and the terminal is waiting for the next command.\n",
    "\n",
    "![](https://harvestobject-egyptscuba.codio.io/.guides/images/run-code-terminal.png)"
   ]
  },
  {
   "cell_type": "markdown",
   "metadata": {},
   "source": [
    "### **Reading Question**\n",
    "Why is converting strings to lowercase a helpful way to compare strings?\n",
    "\n",
    "\n",
    "- You don’t need to do this. Python doesn’t care about capitalization.\n",
    "- Comparing lowercase strings is faster than comparing uppercase strings.\n",
    "- ***Python is case sensitive. Making strings all one case will compare the characters of a string and not capitalization.***\n",
    "- Python cannot compare strings unless they are lowercase. Comparing uppercase strings will cause an error.\n"
   ]
  }
 ],
 "metadata": {
  "kernelspec": {
   "display_name": "Python 3.10.4 64-bit",
   "language": "python",
   "name": "python3"
  },
  "language_info": {
   "codemirror_mode": {
    "name": "ipython",
    "version": 3
   },
   "file_extension": ".py",
   "mimetype": "text/x-python",
   "name": "python",
   "nbconvert_exporter": "python",
   "pygments_lexer": "ipython3",
   "version": "3.10.4"
  },
  "orig_nbformat": 4,
  "vscode": {
   "interpreter": {
    "hash": "12d9efd1b418ad7485587f2da0512ee7fc7c20b6462fdb2a696d6f33bbf19b58"
   }
  }
 },
 "nbformat": 4,
 "nbformat_minor": 2
}
