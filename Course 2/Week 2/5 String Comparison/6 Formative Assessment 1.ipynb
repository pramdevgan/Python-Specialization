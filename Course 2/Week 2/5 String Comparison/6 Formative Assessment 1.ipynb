{
 "cells": [
  {
   "cell_type": "markdown",
   "metadata": {},
   "source": [
    "# **Formative Assessment 1**\n",
    "## **String Comparison**\n",
    "Rearrange the code below to write a program that checks to see if two strings (`string1` and `string2`) are equal. If yes, print the message `The two strings are equal.`. If not, print the message `The two strings are not equal.` **Hint**, you will not use all of the code blocks.\n",
    "\n",
    "**Drag from here**\n",
    "```\n",
    "if string1 is = string2:\n",
    "if string1 == string1:\n",
    "else:\n",
    "print(\"The two strings are not equal.\")\n",
    "```\n",
    "**Construct your solution here**\n",
    "\n",
    "`if string1 is string2:` <br>\n",
    "&emsp; &emsp; `print(\"The two strings are equal.\")` <br>\n",
    "`else:`<br>\n",
    "&emsp; &emsp; `print(\"The two strings are not equal.\")` <br>"
   ]
  },
  {
   "cell_type": "code",
   "execution_count": 2,
   "metadata": {},
   "outputs": [
    {
     "name": "stdout",
     "output_type": "stream",
     "text": [
      "The two strings are equal.\n"
     ]
    }
   ],
   "source": [
    "string1 = \"Hello\"\n",
    "string2 = \"Hello\"\n",
    "if string1 is string2:\n",
    "    print(\"The two strings are equal.\")\n",
    "else:\n",
    "    print(\"The two strings are not equal.\")"
   ]
  }
 ],
 "metadata": {
  "kernelspec": {
   "display_name": "Python 3.10.4 64-bit",
   "language": "python",
   "name": "python3"
  },
  "language_info": {
   "codemirror_mode": {
    "name": "ipython",
    "version": 3
   },
   "file_extension": ".py",
   "mimetype": "text/x-python",
   "name": "python",
   "nbconvert_exporter": "python",
   "pygments_lexer": "ipython3",
   "version": "3.10.4"
  },
  "orig_nbformat": 4,
  "vscode": {
   "interpreter": {
    "hash": "12d9efd1b418ad7485587f2da0512ee7fc7c20b6462fdb2a696d6f33bbf19b58"
   }
  }
 },
 "nbformat": 4,
 "nbformat_minor": 2
}
