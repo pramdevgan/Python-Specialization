{
 "cells": [
  {
   "cell_type": "markdown",
   "metadata": {},
   "source": [
    "# **== vs. Is**\n",
    "## **Why Have Is and ==?**\n",
    "It may seem like `is` and `==` do the same thing, but there is a subtle difference between the two. Enter and run the code below."
   ]
  },
  {
   "cell_type": "code",
   "execution_count": 1,
   "metadata": {},
   "outputs": [
    {
     "name": "stdout",
     "output_type": "stream",
     "text": [
      "1786053591280\n",
      "1786053591280\n"
     ]
    }
   ],
   "source": [
    "a = 1\n",
    "b = 1\n",
    "print(id(a))\n",
    "print(id(b))"
   ]
  },
  {
   "cell_type": "markdown",
   "metadata": {},
   "source": [
    "You should see two identical numbers. These numbers are the object ID for the values stored in variables `a` and `b` (the `id` command returns the object ID). Each time you create a variable, Python takes some of the memory on your computer and reserves it for the variable. The more memory that is taken up by Python, the slower your program runs. Python increases performance by having two variables with the same value point to the same object in memory. Change your code to the following:"
   ]
  },
  {
   "cell_type": "code",
   "execution_count": 6,
   "metadata": {},
   "outputs": [
    {
     "name": "stdout",
     "output_type": "stream",
     "text": [
      "Id - 1896832172272 Value:  1\n",
      "Id - 1896832172272 Value:  1\n",
      "Id - 1896832172304 Value:  2\n",
      "Id - 1896832172272 Value:  1\n"
     ]
    }
   ],
   "source": [
    "a = 1\n",
    "b = 1\n",
    "print(\"Id -\",id(a), \"Value: \", a)\n",
    "print(\"Id -\",id(b), \"Value: \", b)\n",
    "a += 1\n",
    "print(\"Id -\",id(a), \"Value: \", a)\n",
    "print(\"Id -\",id(b), \"Value: \", b)"
   ]
  },
  {
   "cell_type": "markdown",
   "metadata": {},
   "source": [
    "Because the variable `a` has a different value, Python cannot use the same object ID. A new chunk of memory is used, which is why the object IDs are different."
   ]
  },
  {
   "cell_type": "markdown",
   "metadata": {},
   "source": [
    "## **Is and Object IDs**\n",
    "The `is` keyword compares object IDs, while `==` compares values. You should use `is` to compare strings and other objects (more on objects in another unit), and use `==` to compare floats and integers. The code below works, the `print` statements both return `True`. You will not get an error if you use `==` to compare strings. However, it is a good idea to get into the habit of use `is` for comparing strings and other objects."
   ]
  },
  {
   "cell_type": "code",
   "execution_count": 4,
   "metadata": {},
   "outputs": [
    {
     "name": "stdout",
     "output_type": "stream",
     "text": [
      "True\n",
      "True\n"
     ]
    }
   ],
   "source": [
    "string1 = \"Hello\"\n",
    "string2 = \"Hello\"\n",
    "print(string1 == string2)\n",
    "print(string1 is string2)"
   ]
  },
  {
   "cell_type": "markdown",
   "metadata": {},
   "source": [
    "### **Reading Question**\n",
    "What is the difference between using `is` and `==` for comparison?\n",
    "\n",
    "- Nothing, they both work the same way.\n",
    "- ***The `is` keyword compares object IDs, while `==` compares values.***\n",
    "- The `==` operator does not work on strings, while `is` only works with strings.\n",
    "- The `is` keyword compares values while `==` compares object IDs."
   ]
  }
 ],
 "metadata": {
  "kernelspec": {
   "display_name": "Python 3.10.4 64-bit",
   "language": "python",
   "name": "python3"
  },
  "language_info": {
   "codemirror_mode": {
    "name": "ipython",
    "version": 3
   },
   "file_extension": ".py",
   "mimetype": "text/x-python",
   "name": "python",
   "nbconvert_exporter": "python",
   "pygments_lexer": "ipython3",
   "version": "3.10.4"
  },
  "orig_nbformat": 4,
  "vscode": {
   "interpreter": {
    "hash": "12d9efd1b418ad7485587f2da0512ee7fc7c20b6462fdb2a696d6f33bbf19b58"
   }
  }
 },
 "nbformat": 4,
 "nbformat_minor": 2
}
