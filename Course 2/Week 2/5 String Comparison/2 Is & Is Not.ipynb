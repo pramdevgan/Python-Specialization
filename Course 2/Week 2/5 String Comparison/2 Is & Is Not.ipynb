{
 "cells": [
  {
   "cell_type": "markdown",
   "metadata": {},
   "source": [
    "# **Is & Is Not**\n",
    "## **Comparing with `Is`**\n",
    "Python uses the keyword `is` for comparison. It replaces `==`."
   ]
  },
  {
   "cell_type": "code",
   "execution_count": 1,
   "metadata": {},
   "outputs": [
    {
     "name": "stdout",
     "output_type": "stream",
     "text": [
      "False\n"
     ]
    }
   ],
   "source": [
    "string1 = \"It's Friday!\"\n",
    "string2 = \"It's Friday!\"\n",
    "print(string1 is string2)"
   ]
  },
  {
   "cell_type": "markdown",
   "metadata": {},
   "source": [
    "### **What happens if you:**\n",
    "- Change `string1` and `string2` to the value `\"\"`?\n",
    "- Change `string1` to the value `\" \"`?"
   ]
  },
  {
   "cell_type": "code",
   "execution_count": 2,
   "metadata": {},
   "outputs": [
    {
     "name": "stdout",
     "output_type": "stream",
     "text": [
      "True\n"
     ]
    }
   ],
   "source": [
    "string1 = \"\"\n",
    "string2 = \"\"\n",
    "print(string1 is string2)"
   ]
  },
  {
   "cell_type": "code",
   "execution_count": 3,
   "metadata": {},
   "outputs": [
    {
     "name": "stdout",
     "output_type": "stream",
     "text": [
      "False\n"
     ]
    }
   ],
   "source": [
    "string1 = \" \"\n",
    "string2 = \"\"\n",
    "print(string1 is string2)"
   ]
  },
  {
   "cell_type": "markdown",
   "metadata": {},
   "source": [
    "## **Comparing with Is Not**\n",
    "If `==` can be replaced with `is`, then `!=` can be replaced with `is not`."
   ]
  },
  {
   "cell_type": "code",
   "execution_count": 4,
   "metadata": {},
   "outputs": [
    {
     "name": "stdout",
     "output_type": "stream",
     "text": [
      "True\n"
     ]
    }
   ],
   "source": [
    "string1 = \"It's Friday\"\n",
    "string2 = \"It's Monday\"\n",
    "print(string1 is not string2)"
   ]
  },
  {
   "cell_type": "markdown",
   "metadata": {},
   "source": [
    "### **What happens if you:**\n",
    "- Change `string1` to `\"\\\"\"` and change `string2` to `\"\"\"`?\n",
    "- Change `string1` to `\"\\\"\"` and change `string2` to `'\"'`?"
   ]
  },
  {
   "cell_type": "code",
   "execution_count": 5,
   "metadata": {},
   "outputs": [
    {
     "ename": "SyntaxError",
     "evalue": "incomplete input (4178882171.py, line 2)",
     "output_type": "error",
     "traceback": [
      "\u001b[1;36m  Input \u001b[1;32mIn [5]\u001b[1;36m\u001b[0m\n\u001b[1;33m    string2 = \"\"\"\u001b[0m\n\u001b[1;37m              ^\u001b[0m\n\u001b[1;31mSyntaxError\u001b[0m\u001b[1;31m:\u001b[0m incomplete input\n"
     ]
    }
   ],
   "source": [
    "string1 =  \"\\\"\"\n",
    "string2 = \"\"\"\n",
    "print(string1 is not string2)"
   ]
  },
  {
   "cell_type": "code",
   "execution_count": 6,
   "metadata": {},
   "outputs": [
    {
     "name": "stdout",
     "output_type": "stream",
     "text": [
      "False\n"
     ]
    }
   ],
   "source": [
    "string1 =  \"\\\"\"\n",
    "string2 = '\"'\n",
    "print(string1 is not string2)"
   ]
  },
  {
   "cell_type": "markdown",
   "metadata": {},
   "source": [
    "#### **Why the EOF error?**\n",
    "The string `\"\\\"\"` is actually a string that looks like this `\"`. But if you put three double quotes in a row, that is starting a multi-line string. Python expects another triple quote to end the multi-line string. Python reached the end of the file (EOF) before finding the triple quote. That is why there is an error."
   ]
  },
  {
   "cell_type": "markdown",
   "metadata": {},
   "source": [
    "### **Reading Question**\n",
    "Fill in the blanks below.\n",
    "\n",
    "The `is`\n",
    " keyword can be used to replace `==`\n",
    " for string comparisons.\n",
    "\n",
    "The `is not`\n",
    " keywords can be used to replace `!=`\n",
    " for string comparisons"
   ]
  }
 ],
 "metadata": {
  "kernelspec": {
   "display_name": "Python 3.10.4 64-bit",
   "language": "python",
   "name": "python3"
  },
  "language_info": {
   "codemirror_mode": {
    "name": "ipython",
    "version": 3
   },
   "file_extension": ".py",
   "mimetype": "text/x-python",
   "name": "python",
   "nbconvert_exporter": "python",
   "pygments_lexer": "ipython3",
   "version": "3.10.4"
  },
  "orig_nbformat": 4,
  "vscode": {
   "interpreter": {
    "hash": "12d9efd1b418ad7485587f2da0512ee7fc7c20b6462fdb2a696d6f33bbf19b58"
   }
  }
 },
 "nbformat": 4,
 "nbformat_minor": 2
}
