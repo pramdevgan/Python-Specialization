{
 "cells": [
  {
   "cell_type": "markdown",
   "metadata": {},
   "source": [
    "# **Iteration - While Loop**\n",
    "## **While Loop**\n",
    "String iteration is most often done with a for loop. However, a while can be used as well."
   ]
  },
  {
   "cell_type": "code",
   "execution_count": 10,
   "metadata": {},
   "outputs": [
    {
     "name": "stdout",
     "output_type": "stream",
     "text": [
      "C\n",
      "a\n",
      "l\n",
      "v\n",
      "i\n",
      "n\n",
      " \n",
      "a\n",
      "n\n",
      "d\n",
      " \n",
      "H\n",
      "o\n",
      "b\n",
      "b\n",
      "e\n",
      "s\n"
     ]
    }
   ],
   "source": [
    "my_string =\"Calvin and Hobbes\"\n",
    "length = len(my_string)\n",
    "i = 0\n",
    "while (i < length):\n",
    "    print(my_string[i])\n",
    "    i += 1"
   ]
  },
  {
   "cell_type": "markdown",
   "metadata": {},
   "source": [
    "### **What happens if you:**\n",
    "- Change the loop to `while i <= length:`?\n",
    "- Change the `print` statement to `print(i)`?\n",
    "- Remove `i += 1`?"
   ]
  },
  {
   "cell_type": "code",
   "execution_count": 11,
   "metadata": {},
   "outputs": [
    {
     "name": "stdout",
     "output_type": "stream",
     "text": [
      "C\n",
      "a\n",
      "l\n",
      "v\n",
      "i\n",
      "n\n",
      " \n",
      "a\n",
      "n\n",
      "d\n",
      " \n",
      "H\n",
      "o\n",
      "b\n",
      "b\n",
      "e\n",
      "s\n"
     ]
    },
    {
     "ename": "IndexError",
     "evalue": "string index out of range",
     "output_type": "error",
     "traceback": [
      "\u001b[1;31m---------------------------------------------------------------------------\u001b[0m",
      "\u001b[1;31mIndexError\u001b[0m                                Traceback (most recent call last)",
      "\u001b[1;32mc:\\Users\\vpram\\Python Specialization\\Course 2\\Week 2\\4 String Iteration\\2 Iteration - While Loop.ipynb Cell 4\u001b[0m in \u001b[0;36m<module>\u001b[1;34m\u001b[0m\n\u001b[0;32m      <a href='vscode-notebook-cell:/c%3A/Users/vpram/Python%20Specialization/Course%202/Week%202/4%20String%20Iteration/2%20Iteration%20-%20While%20Loop.ipynb#ch0000005?line=2'>3</a>\u001b[0m i \u001b[39m=\u001b[39m \u001b[39m0\u001b[39m\n\u001b[0;32m      <a href='vscode-notebook-cell:/c%3A/Users/vpram/Python%20Specialization/Course%202/Week%202/4%20String%20Iteration/2%20Iteration%20-%20While%20Loop.ipynb#ch0000005?line=3'>4</a>\u001b[0m \u001b[39mwhile\u001b[39;00m (i \u001b[39m<\u001b[39m\u001b[39m=\u001b[39m length):\n\u001b[1;32m----> <a href='vscode-notebook-cell:/c%3A/Users/vpram/Python%20Specialization/Course%202/Week%202/4%20String%20Iteration/2%20Iteration%20-%20While%20Loop.ipynb#ch0000005?line=4'>5</a>\u001b[0m     \u001b[39mprint\u001b[39m(my_string[i])\n\u001b[0;32m      <a href='vscode-notebook-cell:/c%3A/Users/vpram/Python%20Specialization/Course%202/Week%202/4%20String%20Iteration/2%20Iteration%20-%20While%20Loop.ipynb#ch0000005?line=5'>6</a>\u001b[0m     i \u001b[39m+\u001b[39m\u001b[39m=\u001b[39m \u001b[39m1\u001b[39m\n",
      "\u001b[1;31mIndexError\u001b[0m: string index out of range"
     ]
    }
   ],
   "source": [
    "my_string =\"Calvin and Hobbes\"\n",
    "length = len(my_string)\n",
    "i = 0\n",
    "while (i <= length):\n",
    "    print(my_string[i])\n",
    "    i += 1"
   ]
  },
  {
   "cell_type": "code",
   "execution_count": 12,
   "metadata": {},
   "outputs": [
    {
     "name": "stdout",
     "output_type": "stream",
     "text": [
      "0\n",
      "1\n",
      "2\n",
      "3\n",
      "4\n",
      "5\n",
      "6\n",
      "7\n",
      "8\n",
      "9\n",
      "10\n",
      "11\n",
      "12\n",
      "13\n",
      "14\n",
      "15\n",
      "16\n"
     ]
    }
   ],
   "source": [
    "my_string =\"Calvin and Hobbes\"\n",
    "length = len(my_string)\n",
    "i = 0\n",
    "while (i < length):\n",
    "    print(i)\n",
    "    i += 1"
   ]
  },
  {
   "cell_type": "code",
   "execution_count": null,
   "metadata": {},
   "outputs": [],
   "source": [
    "my_string =\"Calvin and Hobbes\"\n",
    "length = len(my_string)\n",
    "i = 0\n",
    "while (i < length):\n",
    "    print(my_string[i])\n",
    "\n",
    "# It will give you Output exceeds the size limit of the above code."
   ]
  },
  {
   "cell_type": "markdown",
   "metadata": {},
   "source": [
    "## **Comparing While & For Loops**\n",
    "![](https://apollo-media.codio.com/media%2F1%2Fd9ab647a962919027e2b0172fdf3619d-65fbac96-e5b9-4937-841a-2513b7de1174.webp)\n",
    "\n",
    "The for loop is more efficient than a while loop when iterating over a string. You do not need to declare variables for the length of the string (red text), declare a variable for the index of the string (blue text), or increment the index variable (orange text). All of this is handled by the **`in`** statement. In for loops, you can use the iteration variable to reference the string character. With a while loop, however, you need to use the string and index to reference the character (purple text)."
   ]
  },
  {
   "cell_type": "markdown",
   "metadata": {},
   "source": [
    "### **Reading Question**\n",
    "Assume you have a string variable called `my_string`. Fill in the blanks below so that the program uses a while loop to iterate over `my_string` and print each character.\n",
    "\n",
    "\n",
    "`length = len(`***`my_string`***`)` <br>\n",
    "`i = 0` <br>\n",
    "\n",
    "`while i < length:` <br>\n",
    "&emsp;&emsp; `print(`***`my_string[i]`***`)` <br>\n",
    "&emsp;&emsp; `i += 1` <br>"
   ]
  }
 ],
 "metadata": {
  "kernelspec": {
   "display_name": "Python 3.10.4 64-bit",
   "language": "python",
   "name": "python3"
  },
  "language_info": {
   "codemirror_mode": {
    "name": "ipython",
    "version": 3
   },
   "file_extension": ".py",
   "mimetype": "text/x-python",
   "name": "python",
   "nbconvert_exporter": "python",
   "pygments_lexer": "ipython3",
   "version": "3.10.4"
  },
  "orig_nbformat": 4,
  "vscode": {
   "interpreter": {
    "hash": "12d9efd1b418ad7485587f2da0512ee7fc7c20b6462fdb2a696d6f33bbf19b58"
   }
  }
 },
 "nbformat": 4,
 "nbformat_minor": 2
}
