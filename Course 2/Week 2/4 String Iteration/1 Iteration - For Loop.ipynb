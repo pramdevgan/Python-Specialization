{
 "cells": [
  {
   "cell_type": "markdown",
   "metadata": {},
   "source": [
    "# **Iteration - For Loop**\n",
    "## **Iterating Over Strings**\n",
    "You have seen how you can make a copy of individual characters in a string with their index. Iterating over a string allows you to deal with each character of a string individually. You start with the character at index 0 and move through the end of the string.\n",
    "![](https://apollo-media.codio.com/media%2F1%2F6b7a8b7b6ffef6993df890bfe161a461-bec66d8d-a9ae-4e6a-aa15-78591ffdf4d5.webp)"
   ]
  },
  {
   "cell_type": "code",
   "execution_count": 1,
   "metadata": {},
   "outputs": [
    {
     "name": "stdout",
     "output_type": "stream",
     "text": [
      "H\n",
      "e\n",
      "l\n",
      "l\n",
      "o\n",
      " \n",
      "w\n",
      "o\n",
      "r\n",
      "l\n",
      "d\n"
     ]
    }
   ],
   "source": [
    "my_string = \"Hello world\"\n",
    "for char in my_string:\n",
    "    print(char)"
   ]
  },
  {
   "cell_type": "markdown",
   "metadata": {},
   "source": [
    "### **What happens if you:**\n",
    "- Change the value of `my_string` to `\"10, 11, 12, 13, 14\"`?\n",
    "- Change the value of `my_string` to `\"\\u25A3\\u25A8\\u25D3\\u25CC\\u25A2\"`?\n",
    "- Change the `print` statement to `print(my_string)`?"
   ]
  },
  {
   "cell_type": "code",
   "execution_count": 2,
   "metadata": {},
   "outputs": [
    {
     "name": "stdout",
     "output_type": "stream",
     "text": [
      "1\n",
      "0\n",
      ",\n",
      " \n",
      "1\n",
      "1\n",
      ",\n",
      " \n",
      "1\n",
      "2\n",
      ",\n",
      " \n",
      "1\n",
      "3\n",
      ",\n",
      " \n",
      "1\n",
      "4\n"
     ]
    }
   ],
   "source": [
    "my_string = \"10, 11, 12, 13, 14\"\n",
    "for char in my_string:\n",
    "    print(char)"
   ]
  },
  {
   "cell_type": "code",
   "execution_count": 3,
   "metadata": {},
   "outputs": [
    {
     "name": "stdout",
     "output_type": "stream",
     "text": [
      "▣\n",
      "▨\n",
      "◓\n",
      "◌\n",
      "▢\n"
     ]
    }
   ],
   "source": [
    "my_string = \"\\u25A3\\u25A8\\u25D3\\u25CC\\u25A2\"\n",
    "for char in my_string:\n",
    "    print(char)"
   ]
  },
  {
   "cell_type": "code",
   "execution_count": 5,
   "metadata": {},
   "outputs": [
    {
     "name": "stdout",
     "output_type": "stream",
     "text": [
      "Hello world\n",
      "Hello world\n",
      "Hello world\n",
      "Hello world\n",
      "Hello world\n",
      "Hello world\n",
      "Hello world\n",
      "Hello world\n",
      "Hello world\n",
      "Hello world\n",
      "Hello world\n"
     ]
    }
   ],
   "source": [
    "my_string = \"Hello world\"\n",
    "for char in my_string:\n",
    "    print(my_string)"
   ]
  }
 ],
 "metadata": {
  "kernelspec": {
   "display_name": "Python 3.10.4 64-bit",
   "language": "python",
   "name": "python3"
  },
  "language_info": {
   "codemirror_mode": {
    "name": "ipython",
    "version": 3
   },
   "file_extension": ".py",
   "mimetype": "text/x-python",
   "name": "python",
   "nbconvert_exporter": "python",
   "pygments_lexer": "ipython3",
   "version": "3.10.4"
  },
  "orig_nbformat": 4,
  "vscode": {
   "interpreter": {
    "hash": "12d9efd1b418ad7485587f2da0512ee7fc7c20b6462fdb2a696d6f33bbf19b58"
   }
  }
 },
 "nbformat": 4,
 "nbformat_minor": 2
}
