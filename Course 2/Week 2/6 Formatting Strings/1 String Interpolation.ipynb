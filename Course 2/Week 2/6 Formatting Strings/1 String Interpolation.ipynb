{
 "cells": [
  {
   "cell_type": "markdown",
   "metadata": {},
   "source": [
    "# **String Interpolation**\n",
    "## **String Interpolation**\n",
    "String interpolation is the process of putting the value of a variable inside of a string. You have already practiced a form of string interpolation by using **`+`** and type casting."
   ]
  },
  {
   "cell_type": "code",
   "execution_count": 1,
   "metadata": {},
   "outputs": [
    {
     "name": "stdout",
     "output_type": "stream",
     "text": [
      "I have 2 arms and 10 fingers.\n"
     ]
    }
   ],
   "source": [
    "arms = 2\n",
    "fingers = 10\n",
    "\n",
    "print(\"I have \" + str(arms) + \" arms and \" + str(fingers) + \" fingers.\")"
   ]
  },
  {
   "cell_type": "markdown",
   "metadata": {},
   "source": [
    "## **Comma-Separated String Interpolation**\n",
    "Another way to do string interpolation is to use commas instead of the **`+`** operator."
   ]
  },
  {
   "cell_type": "code",
   "execution_count": 10,
   "metadata": {},
   "outputs": [
    {
     "name": "stdout",
     "output_type": "stream",
     "text": [
      "The brown dog jumps over the lazy fox.\n"
     ]
    }
   ],
   "source": [
    "verb = \"jumps\"\n",
    "adjective = \"lazy\"\n",
    "print(\"The brown dog\",verb,\"over the\",adjective,\"fox.\")"
   ]
  },
  {
   "cell_type": "markdown",
   "metadata": {},
   "source": [
    "### **What happens if you:**\n",
    "- Change `verb` to `5`?\n",
    "- Use commas for the variable `verb` and the `+` operator for `adjective`?\n",
    "- Change `adjective` to `True`?"
   ]
  },
  {
   "cell_type": "code",
   "execution_count": 11,
   "metadata": {},
   "outputs": [
    {
     "name": "stdout",
     "output_type": "stream",
     "text": [
      "The brown dog 5 over the lazy fox.\n"
     ]
    }
   ],
   "source": [
    "verb = 5\n",
    "adjective = \"lazy\"\n",
    "print(\"The brown dog\",verb,\"over the\",adjective,\"fox.\")"
   ]
  },
  {
   "cell_type": "code",
   "execution_count": 16,
   "metadata": {},
   "outputs": [
    {
     "name": "stdout",
     "output_type": "stream",
     "text": [
      "The brown dog jumps over the lazy fox.\n"
     ]
    }
   ],
   "source": [
    "verb = \"jumps\"\n",
    "adjective = \"lazy\"\n",
    "print(\"The brown dog\",verb,\"over the \" + adjective+\" fox.\")"
   ]
  },
  {
   "cell_type": "code",
   "execution_count": 17,
   "metadata": {},
   "outputs": [
    {
     "name": "stdout",
     "output_type": "stream",
     "text": [
      "The brown dog jumps over the True fox.\n"
     ]
    }
   ],
   "source": [
    "verb = \"jumps\"\n",
    "adjective = True\n",
    "print(\"The brown dog\",verb,\"over the\",adjective,\"fox.\")"
   ]
  },
  {
   "cell_type": "code",
   "execution_count": 18,
   "metadata": {},
   "outputs": [
    {
     "ename": "TypeError",
     "evalue": "can only concatenate str (not \"bool\") to str",
     "output_type": "error",
     "traceback": [
      "\u001b[1;31m---------------------------------------------------------------------------\u001b[0m",
      "\u001b[1;31mTypeError\u001b[0m                                 Traceback (most recent call last)",
      "\u001b[1;32mc:\\Users\\vpram\\Python Specialization\\Course 2\\Week 2\\6 Formatting Strings\\1 String Interpolation.ipynb Cell 9\u001b[0m in \u001b[0;36m<module>\u001b[1;34m\u001b[0m\n\u001b[0;32m      <a href='vscode-notebook-cell:/c%3A/Users/vpram/Python%20Specialization/Course%202/Week%202/6%20Formatting%20Strings/1%20String%20Interpolation.ipynb#X13sZmlsZQ%3D%3D?line=0'>1</a>\u001b[0m verb \u001b[39m=\u001b[39m \u001b[39m\"\u001b[39m\u001b[39mjumps\u001b[39m\u001b[39m\"\u001b[39m\n\u001b[0;32m      <a href='vscode-notebook-cell:/c%3A/Users/vpram/Python%20Specialization/Course%202/Week%202/6%20Formatting%20Strings/1%20String%20Interpolation.ipynb#X13sZmlsZQ%3D%3D?line=1'>2</a>\u001b[0m adjective \u001b[39m=\u001b[39m \u001b[39mTrue\u001b[39;00m\n\u001b[1;32m----> <a href='vscode-notebook-cell:/c%3A/Users/vpram/Python%20Specialization/Course%202/Week%202/6%20Formatting%20Strings/1%20String%20Interpolation.ipynb#X13sZmlsZQ%3D%3D?line=2'>3</a>\u001b[0m \u001b[39mprint\u001b[39m(\u001b[39m\"\u001b[39m\u001b[39mThe brown dog\u001b[39m\u001b[39m\"\u001b[39m,verb,\u001b[39m\"\u001b[39;49m\u001b[39mover the \u001b[39;49m\u001b[39m\"\u001b[39;49m \u001b[39m+\u001b[39;49m adjective\u001b[39m+\u001b[39m\u001b[39m\"\u001b[39m\u001b[39m fox.\u001b[39m\u001b[39m\"\u001b[39m)\n",
      "\u001b[1;31mTypeError\u001b[0m: can only concatenate str (not \"bool\") to str"
     ]
    }
   ],
   "source": [
    "verb = \"jumps\"\n",
    "adjective = True\n",
    "print(\"The brown dog\",verb,\"over the \" + adjective+\" fox.\")"
   ]
  },
  {
   "cell_type": "markdown",
   "metadata": {},
   "source": [
    "### **Reading Question**\n",
    "What does the term string interpolation mean?\n",
    "\n",
    "- Converting a variable to the type string\n",
    "- **Inserting the value of variables into a string**\n",
    "- Printing a string\n",
    "- Assigning a string value to a variable\n",
    "****\n",
    "`String interpolation is the act of inserting the value of a variable into a string.`\n",
    "****"
   ]
  }
 ],
 "metadata": {
  "kernelspec": {
   "display_name": "Python 3.10.4 64-bit",
   "language": "python",
   "name": "python3"
  },
  "language_info": {
   "codemirror_mode": {
    "name": "ipython",
    "version": 3
   },
   "file_extension": ".py",
   "mimetype": "text/x-python",
   "name": "python",
   "nbconvert_exporter": "python",
   "pygments_lexer": "ipython3",
   "version": "3.10.4"
  },
  "orig_nbformat": 4,
  "vscode": {
   "interpreter": {
    "hash": "12d9efd1b418ad7485587f2da0512ee7fc7c20b6462fdb2a696d6f33bbf19b58"
   }
  }
 },
 "nbformat": 4,
 "nbformat_minor": 2
}
