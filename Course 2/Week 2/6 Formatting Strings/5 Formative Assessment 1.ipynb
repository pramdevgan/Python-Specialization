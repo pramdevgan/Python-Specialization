{
 "cells": [
  {
   "cell_type": "markdown",
   "metadata": {},
   "source": [
    "# **Formative Assessment 1**\n",
    "## **String Interpolation**\n",
    "Use the code below to help you answer the following question. The program should print the phrase:\n",
    "\n",
    "**May it be more humane and fair than the world your governments have made before.**\n",
    "```\n",
    "var1 = \"governments\"\n",
    "var2 = \"fair\"\n",
    "var3 = \"humane\"\n",
    "```\n",
    "- **`print(\"May it be more {} and {} than the world your {} have made before.\".format(var3, var2, var1))`**\n",
    "\n",
    "\n",
    "- print(\"May it be more {2} and {1} than the world your {0} have made before.\".format(var3, var2, var1))\n",
    "\n",
    "\n",
    "- print(“May it be more {var3} and {var1} than the world your {var2} have made before.”)\n",
    "\n",
    "\n",
    "- print(\"May it be more {} and {} than the world your {} have made before.\".format(var1, var2, var3))"
   ]
  },
  {
   "cell_type": "code",
   "execution_count": 1,
   "metadata": {},
   "outputs": [
    {
     "name": "stdout",
     "output_type": "stream",
     "text": [
      "May it be more humane and fair than world your governments have made before.\n"
     ]
    }
   ],
   "source": [
    "var1 = \"governments\"\n",
    "var2 = \"fair\"\n",
    "var3 = \"humane\"\n",
    "phrase = \"May it be more {} and {} than world your {} have made before.\".format(var3, var2, var1)\n",
    "print(phrase)"
   ]
  },
  {
   "cell_type": "markdown",
   "metadata": {},
   "source": [
    "The correct order for the words is \"humane\", \"fair\", and \"governments\". That would be `var3`, `var2`, `var1`. Here are the four options:\n",
    "\n",
    "1. This is the correct answer. The `format` method has the variables in the proper order.\n",
    "\n",
    "2. This is incorrect. The variables are in the correct order for the `format` method. However, `{}` have numbers inside which are the indexes of the variables. The order of the variables would be `var1`, `var2`, `var3`.\n",
    "\n",
    "3. This is incorrect. In addition to the variables being in the wrong order, there is no `f` for the f-string.\n",
    "4. This is incorrect. The syntax is correct, but the variables are in the wrong order."
   ]
  }
 ],
 "metadata": {
  "kernelspec": {
   "display_name": "Python 3.10.4 64-bit",
   "language": "python",
   "name": "python3"
  },
  "language_info": {
   "codemirror_mode": {
    "name": "ipython",
    "version": 3
   },
   "file_extension": ".py",
   "mimetype": "text/x-python",
   "name": "python",
   "nbconvert_exporter": "python",
   "pygments_lexer": "ipython3",
   "version": "3.10.4"
  },
  "orig_nbformat": 4,
  "vscode": {
   "interpreter": {
    "hash": "12d9efd1b418ad7485587f2da0512ee7fc7c20b6462fdb2a696d6f33bbf19b58"
   }
  }
 },
 "nbformat": 4,
 "nbformat_minor": 2
}
