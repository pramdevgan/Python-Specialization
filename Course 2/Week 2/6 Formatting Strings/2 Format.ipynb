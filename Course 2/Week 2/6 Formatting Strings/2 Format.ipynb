{
 "cells": [
  {
   "cell_type": "markdown",
   "metadata": {},
   "source": [
    "# **Format**\n",
    "## **The Format Method**\n",
    "All of the quotation marks, commas, and **`+`** can get hard to read. So Python 3 introduced a new way to perform string interpolation. The **`format`** method lets you put a placeholder and then assign a variable to the placeholder.\n",
    "\n",
    "![](https://apollo-media.codio.com/media%2F1%2F70c7ed5552a37822dc59b435e84c4f36-8bc68d25-2166-459b-a619-07db08f4f80d.webp)\n",
    "\n",
    "The **`{}`** are placeholders for a variable, and after **`format`** there is a list of variables for the placeholders. Notice that the first variable goes into the first placeholder, the second variable into the second placeholder, etc."
   ]
  },
  {
   "cell_type": "code",
   "execution_count": 1,
   "metadata": {},
   "outputs": [
    {
     "name": "stdout",
     "output_type": "stream",
     "text": [
      "Yet today I consider myself the luckiest man on the face of this earth.\n"
     ]
    }
   ],
   "source": [
    "var1 = \"today\"\n",
    "var2 = \"luckiest\"\n",
    "print(\"Yet {} I consider myself the {} man on the face of this earth.\".format(var1,var2))"
   ]
  },
  {
   "cell_type": "markdown",
   "metadata": {},
   "source": [
    "### **What happens if you:**\n",
    "- Change `format` to read `format(var2, var1)`?\n",
    "- Change `var1` to `5`?\n",
    "- Change `var2` to `True`?"
   ]
  },
  {
   "cell_type": "code",
   "execution_count": 2,
   "metadata": {},
   "outputs": [
    {
     "name": "stdout",
     "output_type": "stream",
     "text": [
      "Yet luckiest I consider myself the today man on the face of this earth.\n"
     ]
    }
   ],
   "source": [
    "var1 = \"today\"\n",
    "var2 = \"luckiest\"\n",
    "print(\"Yet {} I consider myself the {} man on the face of this earth.\".format(var2,var1))"
   ]
  },
  {
   "cell_type": "code",
   "execution_count": 3,
   "metadata": {},
   "outputs": [
    {
     "name": "stdout",
     "output_type": "stream",
     "text": [
      "Yet luckiest I consider myself the 5 man on the face of this earth.\n"
     ]
    }
   ],
   "source": [
    "var1 = 5\n",
    "var2 = \"luckiest\"\n",
    "print(\"Yet {} I consider myself the {} man on the face of this earth.\".format(var2,var1))"
   ]
  },
  {
   "cell_type": "code",
   "execution_count": 4,
   "metadata": {},
   "outputs": [
    {
     "name": "stdout",
     "output_type": "stream",
     "text": [
      "Yet True I consider myself the today man on the face of this earth.\n"
     ]
    }
   ],
   "source": [
    "var1 = \"today\"\n",
    "var2 = True\n",
    "print(\"Yet {} I consider myself the {} man on the face of this earth.\".format(var2,var1))"
   ]
  },
  {
   "cell_type": "markdown",
   "metadata": {},
   "source": [
    "### **Reorder the Variables**\n",
    "By default, the **`format`** method uses the order of variables (from left to right) when placing them into a placeholder. However, you can change the order variables by using an index. The first variable has an index of 0, the second and index of 1, etc.\n",
    "\n",
    "![](https://apollo-media.codio.com/media%2F1%2Fe76f51ef8b915ce01981ea30ecc2da25-19bea73d-6d85-40c8-8ac2-be9f4de36db3.webp)"
   ]
  },
  {
   "cell_type": "code",
   "execution_count": 6,
   "metadata": {},
   "outputs": [
    {
     "name": "stdout",
     "output_type": "stream",
     "text": [
      "Yet luckiest consider myself the today man on the face of this earth.\n"
     ]
    }
   ],
   "source": [
    "var1 = \"today\"\n",
    "var2 = \"luckiest\"\n",
    "print(\"Yet {1} consider myself the {0} man on the face of this earth.\".format(var1, var2))"
   ]
  },
  {
   "cell_type": "markdown",
   "metadata": {},
   "source": [
    "### **What happens if you:**\n",
    "- Switch the **`1`** and the **`0`**?\n",
    "- Change **`1`** to **`2`**?"
   ]
  },
  {
   "cell_type": "code",
   "execution_count": 7,
   "metadata": {},
   "outputs": [
    {
     "name": "stdout",
     "output_type": "stream",
     "text": [
      "Yet luckiest consider myself the luckiest man on the face of this earth.\n"
     ]
    }
   ],
   "source": [
    "var1 = \"today\"\n",
    "var2 = \"luckiest\"\n",
    "print(\"Yet {1} consider myself the {1} man on the face of this earth.\".format(var1, var2))"
   ]
  },
  {
   "cell_type": "code",
   "execution_count": 8,
   "metadata": {},
   "outputs": [
    {
     "ename": "IndexError",
     "evalue": "Replacement index 2 out of range for positional args tuple",
     "output_type": "error",
     "traceback": [
      "\u001b[1;31m---------------------------------------------------------------------------\u001b[0m",
      "\u001b[1;31mIndexError\u001b[0m                                Traceback (most recent call last)",
      "\u001b[1;32mc:\\Users\\vpram\\Python Specialization\\Course 2\\Week 2\\6 Formatting Strings\\2 Format.ipynb Cell 11\u001b[0m in \u001b[0;36m<module>\u001b[1;34m\u001b[0m\n\u001b[0;32m      <a href='vscode-notebook-cell:/c%3A/Users/vpram/Python%20Specialization/Course%202/Week%202/6%20Formatting%20Strings/2%20Format.ipynb#X14sZmlsZQ%3D%3D?line=0'>1</a>\u001b[0m var1 \u001b[39m=\u001b[39m \u001b[39m\"\u001b[39m\u001b[39mtoday\u001b[39m\u001b[39m\"\u001b[39m\n\u001b[0;32m      <a href='vscode-notebook-cell:/c%3A/Users/vpram/Python%20Specialization/Course%202/Week%202/6%20Formatting%20Strings/2%20Format.ipynb#X14sZmlsZQ%3D%3D?line=1'>2</a>\u001b[0m var2 \u001b[39m=\u001b[39m \u001b[39m\"\u001b[39m\u001b[39mluckiest\u001b[39m\u001b[39m\"\u001b[39m\n\u001b[1;32m----> <a href='vscode-notebook-cell:/c%3A/Users/vpram/Python%20Specialization/Course%202/Week%202/6%20Formatting%20Strings/2%20Format.ipynb#X14sZmlsZQ%3D%3D?line=2'>3</a>\u001b[0m \u001b[39mprint\u001b[39m(\u001b[39m\"\u001b[39;49m\u001b[39mYet \u001b[39;49m\u001b[39m{2}\u001b[39;49;00m\u001b[39m consider myself the \u001b[39;49m\u001b[39m{0}\u001b[39;49;00m\u001b[39m man on the face of this earth.\u001b[39;49m\u001b[39m\"\u001b[39;49m\u001b[39m.\u001b[39;49mformat(var1, var2))\n",
      "\u001b[1;31mIndexError\u001b[0m: Replacement index 2 out of range for positional args tuple"
     ]
    }
   ],
   "source": [
    "var1 = \"today\"\n",
    "var2 = \"luckiest\"\n",
    "print(\"Yet {2} consider myself the {0} man on the face of this earth.\".format(var1, var2))"
   ]
  },
  {
   "cell_type": "markdown",
   "metadata": {},
   "source": [
    "### **Reading Question**\n",
    "Fill in the blanks below to incorporate the variables **`var1`** and **`var2`** into the string **`my_string`** so that it reads “The cat in the hat.”\n",
    "```\n",
    "var1 = ‘hat’\n",
    "var2 = ‘cat’\n",
    "my_string = \"The {} in the {}.\".format(________\n",
    ",________)\n",
    "```\n"
   ]
  },
  {
   "cell_type": "code",
   "execution_count": 11,
   "metadata": {},
   "outputs": [
    {
     "name": "stdout",
     "output_type": "stream",
     "text": [
      "The cat in the hat.\n"
     ]
    }
   ],
   "source": [
    "var1 = \"hat\"\n",
    "var2 = \"cat\"\n",
    "my_string = \"The {} in the {}.\".format(var2,var1)\n",
    "print(my_string)"
   ]
  },
  {
   "cell_type": "markdown",
   "metadata": {},
   "source": [
    "Since there are no indexes in the **`{}`**, the order of the variables is important. The final string should have “cat” before \"hat\", so **`var2`** needs to come before **`var1`**.\n",
    "```\n",
    "var1 = 'hat'\n",
    "var2 = 'cat'\n",
    "my_string = \"The {} in the {}.\".format(var2, var1)\n",
    "```"
   ]
  }
 ],
 "metadata": {
  "kernelspec": {
   "display_name": "Python 3.10.4 64-bit",
   "language": "python",
   "name": "python3"
  },
  "language_info": {
   "codemirror_mode": {
    "name": "ipython",
    "version": 3
   },
   "file_extension": ".py",
   "mimetype": "text/x-python",
   "name": "python",
   "nbconvert_exporter": "python",
   "pygments_lexer": "ipython3",
   "version": "3.10.4"
  },
  "orig_nbformat": 4,
  "vscode": {
   "interpreter": {
    "hash": "12d9efd1b418ad7485587f2da0512ee7fc7c20b6462fdb2a696d6f33bbf19b58"
   }
  }
 },
 "nbformat": 4,
 "nbformat_minor": 2
}
