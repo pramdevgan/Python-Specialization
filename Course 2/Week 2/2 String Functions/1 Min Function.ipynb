{
 "cells": [
  {
   "cell_type": "markdown",
   "metadata": {},
   "source": [
    "# **Min Function**\n",
    "## **String Functions**\n",
    "String functions are predefined functions that perform an action on a string. Functions have a specific **syntax — function name, parentheses, and a string (often a variable) between the parentheses**. The string between the parentheses is called a parameter, which is a piece of information the function requires so it can do its job. <br>\n",
    "![](https://apollo-media.codio.com/media%2F1%2Fa98b625a0e671fe6f2fc734a0665a5d9-fc0f0684-5a42-4eb8-a666-9438629cadab.webp) <br>\n",
    "In fact, `len` is a string function. There are a few other functions that work with strings.\n"
   ]
  },
  {
   "cell_type": "markdown",
   "metadata": {},
   "source": [
    "## **The `Min` Function**\n",
    "The `min` function returns the “smallest” character from a string. Often times this is the character that appears first in alphabetical order. When characters are numbers and symbols, things are not so clear."
   ]
  },
  {
   "cell_type": "code",
   "execution_count": 1,
   "metadata": {},
   "outputs": [
    {
     "name": "stdout",
     "output_type": "stream",
     "text": [
      "a\n"
     ]
    }
   ],
   "source": [
    "my_string = \"abcdefghijklmnopqrstuvwxyz\"\n",
    "print(min(my_string))"
   ]
  },
  {
   "cell_type": "markdown",
   "metadata": {},
   "source": [
    "### **What happens if you:**\n",
    "- Change `my_string` to `\"AaBbCcDd\"`?\n",
    "- Change `my_string` to `\"The brown dog jumps over the lazy fox.\"`?\n",
    "#### **Note**\n",
    "The program does not have an error. You do not see anything because the \"smallest\" character is the \" \" between words. You cannot easily see a blank space on its own, which is why it seems like there is a problem with your code.\n",
    "- Change `my_string` to `\"@<#$%!^&*=\"`?"
   ]
  },
  {
   "cell_type": "code",
   "execution_count": 2,
   "metadata": {},
   "outputs": [
    {
     "name": "stdout",
     "output_type": "stream",
     "text": [
      "A\n"
     ]
    }
   ],
   "source": [
    "my_string = \"AaBbCcDdEfGgHhIiJjKkLl\"\n",
    "print(min(my_string))"
   ]
  },
  {
   "cell_type": "code",
   "execution_count": 4,
   "metadata": {},
   "outputs": [
    {
     "name": "stdout",
     "output_type": "stream",
     "text": [
      " \n"
     ]
    }
   ],
   "source": [
    "my_string = \"The brown dog jumps over the lazy fox.\"\n",
    "print(min(my_string))\n",
    "# It returns space that why we can't able to see it"
   ]
  },
  {
   "cell_type": "code",
   "execution_count": 5,
   "metadata": {},
   "outputs": [
    {
     "name": "stdout",
     "output_type": "stream",
     "text": [
      "!\n"
     ]
    }
   ],
   "source": [
    "my_string = \"@<#$%!^&*=\"\n",
    "print(min(my_string))"
   ]
  },
  {
   "cell_type": "markdown",
   "metadata": {},
   "source": [
    "Reading Question\n",
    "Select all of the components that make up the syntax of a string function. Hint, there are more than one correct answer.\n",
    "\n",
    "- A `.`\n",
    "- ***Function name***\n",
    "- ***String parameter***\n",
    "- ***Parentheses***\n",
    "\n",
    "The three parts of string function syntax are:\n",
    "1. The function name\n",
    "2. Parentheses\n",
    "3. A string parameter between the parentheses"
   ]
  }
 ],
 "metadata": {
  "kernelspec": {
   "display_name": "Python 3.10.4 64-bit",
   "language": "python",
   "name": "python3"
  },
  "language_info": {
   "codemirror_mode": {
    "name": "ipython",
    "version": 3
   },
   "file_extension": ".py",
   "mimetype": "text/x-python",
   "name": "python",
   "nbconvert_exporter": "python",
   "pygments_lexer": "ipython3",
   "version": "3.10.4"
  },
  "orig_nbformat": 4,
  "vscode": {
   "interpreter": {
    "hash": "12d9efd1b418ad7485587f2da0512ee7fc7c20b6462fdb2a696d6f33bbf19b58"
   }
  }
 },
 "nbformat": 4,
 "nbformat_minor": 2
}
