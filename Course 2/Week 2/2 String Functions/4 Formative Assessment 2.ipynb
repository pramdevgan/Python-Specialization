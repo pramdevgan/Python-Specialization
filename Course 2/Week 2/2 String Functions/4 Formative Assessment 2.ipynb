{
 "cells": [
  {
   "cell_type": "markdown",
   "metadata": {},
   "source": [
    "# **Formative Assessment 2**\n",
    "## **String Functions**\n",
    "Assume you have two strings, `string1` and `string2`. Rearrange the blocks below so that your program compares the “biggest” characters from each string and print either `string1 has the biggest character` or `string2 has the biggest character`. Hint, you will not use all of the code blocks.\n",
    "\n",
    "***Drag from here***\n",
    "```\n",
    "if max(string1) > min(string2):\n",
    "if min(string1) > max(string2):\n",
    "if max.string1 > max.string2:\n",
    "```\n",
    "***Construct your solution here***\n",
    "```\n",
    "if max(string1) > max(string2):\n",
    "print(\"string1 has the biggest character\")\n",
    "else:\n",
    "print(\"string2 has the biggest character\")\n",
    "```\n",
    "\n",
    "The correct conditional is the one that compares the maximum values for `string1` and `string2`. The code blocks that use `min` can be ignored. The proper syntax for a string function is the name of the function, parentheses, and a string parameter between the parentheses. So `max.string1` can be ignored. The correct answer is:"
   ]
  },
  {
   "cell_type": "code",
   "execution_count": 3,
   "metadata": {},
   "outputs": [
    {
     "name": "stdout",
     "output_type": "stream",
     "text": [
      "string2 has the biggest character\n"
     ]
    }
   ],
   "source": [
    "string1 = \"Aa\"\n",
    "string2 = \"AaBbCcDd\"\n",
    "if max(string1) > max(string2):\n",
    "    print(\"string1 has the biggest character\")\n",
    "else:\n",
    "    print(\"string2 has the biggest character\")"
   ]
  }
 ],
 "metadata": {
  "kernelspec": {
   "display_name": "Python 3.10.4 64-bit",
   "language": "python",
   "name": "python3"
  },
  "language_info": {
   "codemirror_mode": {
    "name": "ipython",
    "version": 3
   },
   "file_extension": ".py",
   "mimetype": "text/x-python",
   "name": "python",
   "nbconvert_exporter": "python",
   "pygments_lexer": "ipython3",
   "version": "3.10.4"
  },
  "orig_nbformat": 4,
  "vscode": {
   "interpreter": {
    "hash": "12d9efd1b418ad7485587f2da0512ee7fc7c20b6462fdb2a696d6f33bbf19b58"
   }
  }
 },
 "nbformat": 4,
 "nbformat_minor": 2
}
