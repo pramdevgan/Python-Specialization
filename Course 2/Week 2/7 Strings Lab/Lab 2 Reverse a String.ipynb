{
 "cells": [
  {
   "cell_type": "markdown",
   "metadata": {},
   "source": [
    "# Lab 2\n",
    "\n",
    "## Reverse a String"
   ]
  },
  {
   "cell_type": "markdown",
   "metadata": {},
   "source": [
    "### Variables\n",
    "\n",
    "You are going to need two variables. The first is the original string. Since strings are immutable, we will need a second variable to represent the reversed string. Make the reversed string an empty string.\n",
    "\n",
    "```python\n",
    "my_string = \"The brown dog jumps over the lazy fox\"\n",
    "reversed_string = \"\"\n",
    "```"
   ]
  },
  {
   "cell_type": "markdown",
   "metadata": {},
   "source": [
    "Since the string needs to be reversed, our loop should start at the end of the string and work its way to the first character. So the for loop used in Lab 1 will not work. We are going to use a while loop. To do this, we need a variable that represents the index. Normally, the index starts at zero, but this loop will go backwards through the string. The starting index needs to be the last character in the string. The `length` method returns the length of a string. However, the length of a string is always one greater than the last index (because indexes start counting at zero). So the starting index should be the length of the string minus one.\n",
    "\n",
    "```python\n",
    "index = len(my_string) - 1\n",
    "```"
   ]
  },
  {
   "cell_type": "markdown",
   "metadata": {},
   "source": [
    "### String Iteration\n",
    "\n",
    "The while loop should run as long as `index` is greater or equal to 0.\n",
    "\n",
    "```python\n",
    "while index >= 0:\n",
    "```\n",
    "\n",
    "Reversing a string comes down to taking the a character from the end and putting it at the front of a new string. This will be done by appending the character at `index` to `reversed_string`. It is important to remember that strings are immutable. The line of code below is overwriting `reversed_string` with a new string. It is not updating the contents of the string.\n",
    "\n",
    "```python\n",
    "    reversed_string += my_string[index]\n",
    "```\n",
    "\n",
    "Decrement the `index` variable to avoid an infinite loop.\n",
    "\n",
    "```python\n",
    "    index -= 1"
   ]
  },
  {
   "cell_type": "markdown",
   "metadata": {},
   "source": [
    "### Printing the result\n",
    "\n",
    "Once the loop has finished running, print `reversed_string`.\n",
    "\n",
    "```python\n",
    "print(reversed_string)\n",
    "```\n",
    "\n",
    "You should see `xof yzal eht revo spmuj god nworb ehT`.\n"
   ]
  },
  {
   "cell_type": "markdown",
   "metadata": {},
   "source": [
    "## All in one Code"
   ]
  },
  {
   "cell_type": "code",
   "execution_count": 9,
   "metadata": {},
   "outputs": [
    {
     "name": "stdout",
     "output_type": "stream",
     "text": [
      "Orginal String: The brown dog jumps over the lazy fox\n",
      "Reversed String: xof yzal eht revo spmuj god nworb ehT\n"
     ]
    }
   ],
   "source": [
    "my_string = \"The brown dog jumps over the lazy fox\"\n",
    "reversed_string = \"\"\n",
    "index = len(my_string) - 1\n",
    "\n",
    "while index >= 0:\n",
    "    reversed_string += my_string[index]\n",
    "    index -= 1\n",
    "\n",
    "print (f\"Orginal String: {my_string}\")\n",
    "print (f\"Reversed String: {reversed_string}\")"
   ]
  },
  {
   "cell_type": "markdown",
   "metadata": {},
   "source": [
    "## Lab Question\n",
    "\n",
    "What does “string immutability” mean?\n",
    "\n",
    "- ***You cannot change the contents of a string once you have created it. You can, however, overwrite a string variable with a new value.***\n",
    "- String variables can never, ever change once they have been created.\n",
    "- You can alter the first character of a string and leave the rest of the string intact.\n",
    "- You can modify a string any way you want.\n",
    "\n",
    "You cannot change the contents of a string once you have created it. You can, however, overwrite a string variable with a new value."
   ]
  }
 ],
 "metadata": {
  "kernelspec": {
   "display_name": "Python 3.10.4 64-bit",
   "language": "python",
   "name": "python3"
  },
  "language_info": {
   "codemirror_mode": {
    "name": "ipython",
    "version": 3
   },
   "file_extension": ".py",
   "mimetype": "text/x-python",
   "name": "python",
   "nbconvert_exporter": "python",
   "pygments_lexer": "ipython3",
   "version": "3.10.4"
  },
  "orig_nbformat": 4,
  "vscode": {
   "interpreter": {
    "hash": "12d9efd1b418ad7485587f2da0512ee7fc7c20b6462fdb2a696d6f33bbf19b58"
   }
  }
 },
 "nbformat": 4,
 "nbformat_minor": 2
}
