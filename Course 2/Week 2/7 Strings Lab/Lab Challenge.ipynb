{
 "cells": [
  {
   "cell_type": "markdown",
   "metadata": {},
   "source": [
    "# Lab Challenge\n",
    "\n",
    "## Replacing Vowels with a *\n",
    "---\n",
    "You are going to write a program that takes a string called `my_string` and returns the string but with a `*` in the place of vowels. Assume that vowels are `a, e, i, o, u`. For example, if `my_string = \"Hello\"`, then your program will print `\"H*ll*\"`.\n",
    "\n",
    " **Important** , the variable `my_string` is already declared as an empty string. Add a value to it and test your code. However, **do not** submit your code to be graded with the variable declaration. The auto-grader will declare the variable for you."
   ]
  },
  {
   "cell_type": "markdown",
   "metadata": {},
   "source": [
    "### **Solution**"
   ]
  },
  {
   "cell_type": "markdown",
   "metadata": {},
   "source": [
    "#### **String Iteration**\n",
    "\n",
    "You will need three variables: one is the original string (`my_string`), another string is all the vowels, and the third string is the modified string. In this method, loop through the `my_string` and ask if each character is in the string `vowel`. If yes, add a `\"*\"` to the variable `modified_string`. If not, add the character to `modified_string`. Finally, after the loop has run, print `modified_string`."
   ]
  },
  {
   "cell_type": "code",
   "execution_count": 29,
   "metadata": {},
   "outputs": [
    {
     "name": "stdout",
     "output_type": "stream",
     "text": [
      "H*ll*\n"
     ]
    }
   ],
   "source": [
    "##########################################################\n",
    "# Erase the variable my_string before submitting your work\n",
    "##########################################################\n",
    "\n",
    "my_string = \"Hello\"\n",
    "\n",
    "##########################################################\n",
    "# Enter your code below\n",
    "##########################################################\n",
    "vowels = 'aeiou'\n",
    "modified_string = \"\"\n",
    "\n",
    "for char in my_string:\n",
    "    if char in vowels:\n",
    "        modified_string += \"*\"\n",
    "    else:\n",
    "        modified_string += char\n",
    "\n",
    "print(modified_string)\n"
   ]
  },
  {
   "cell_type": "markdown",
   "metadata": {},
   "source": [
    "#### **Replace Method**\n",
    "\n",
    "Another way to solve this problem is to use the `replace` method. You will need two variables: `my_string` and `vowels`. Loop through `vowels` and use `replace` on `my_string` with the vowel from the loop. Overwrite `my_string` with the new version of `my_string`."
   ]
  },
  {
   "cell_type": "code",
   "execution_count": 30,
   "metadata": {},
   "outputs": [
    {
     "name": "stdout",
     "output_type": "stream",
     "text": [
      "H*bb*s\n"
     ]
    }
   ],
   "source": [
    "my_string = \"Hobbes\"\n",
    "vowels = \"aeiou\"\n",
    "\n",
    "for vowel in vowels:\n",
    "    my_string = my_string.replace(vowel, \"*\")\n",
    "\n",
    "print(my_string)"
   ]
  },
  {
   "cell_type": "code",
   "execution_count": 1,
   "metadata": {},
   "outputs": [
    {
     "ename": "NameError",
     "evalue": "name 'my_string' is not defined",
     "output_type": "error",
     "traceback": [
      "\u001b[1;31m---------------------------------------------------------------------------\u001b[0m",
      "\u001b[1;31mNameError\u001b[0m                                 Traceback (most recent call last)",
      "\u001b[1;32mc:\\Users\\vpram\\Python Specialization\\Course 2\\Week 2\\7 Strings Lab\\Lab Challenge.ipynb Cell 7\u001b[0m in \u001b[0;36m<module>\u001b[1;34m\u001b[0m\n\u001b[0;32m      <a href='vscode-notebook-cell:/c%3A/Users/vpram/Python%20Specialization/Course%202/Week%202/7%20Strings%20Lab/Lab%20Challenge.ipynb#W6sZmlsZQ%3D%3D?line=0'>1</a>\u001b[0m vowels \u001b[39m=\u001b[39m \u001b[39m\"\u001b[39m\u001b[39maeiou\u001b[39m\u001b[39m\"\u001b[39m\n\u001b[0;32m      <a href='vscode-notebook-cell:/c%3A/Users/vpram/Python%20Specialization/Course%202/Week%202/7%20Strings%20Lab/Lab%20Challenge.ipynb#W6sZmlsZQ%3D%3D?line=1'>2</a>\u001b[0m \u001b[39mfor\u001b[39;00m vowel \u001b[39min\u001b[39;00m vowels:\n\u001b[1;32m----> <a href='vscode-notebook-cell:/c%3A/Users/vpram/Python%20Specialization/Course%202/Week%202/7%20Strings%20Lab/Lab%20Challenge.ipynb#W6sZmlsZQ%3D%3D?line=2'>3</a>\u001b[0m   my_string \u001b[39m=\u001b[39m my_string\u001b[39m.\u001b[39mreplace(vowel,\u001b[39m'\u001b[39m\u001b[39m*\u001b[39m\u001b[39m'\u001b[39m)\n\u001b[0;32m      <a href='vscode-notebook-cell:/c%3A/Users/vpram/Python%20Specialization/Course%202/Week%202/7%20Strings%20Lab/Lab%20Challenge.ipynb#W6sZmlsZQ%3D%3D?line=3'>4</a>\u001b[0m \u001b[39mprint\u001b[39m(my_string)\n",
      "\u001b[1;31mNameError\u001b[0m: name 'my_string' is not defined"
     ]
    }
   ],
   "source": [
    "vowels = \"aeiou\"\n",
    "for vowel in vowels:\n",
    "  my_string = my_string.replace(vowel,'*')\n",
    "print(my_string)"
   ]
  }
 ],
 "metadata": {
  "kernelspec": {
   "display_name": "Python 3.10.4 64-bit",
   "language": "python",
   "name": "python3"
  },
  "language_info": {
   "codemirror_mode": {
    "name": "ipython",
    "version": 3
   },
   "file_extension": ".py",
   "mimetype": "text/x-python",
   "name": "python",
   "nbconvert_exporter": "python",
   "pygments_lexer": "ipython3",
   "version": "3.10.4"
  },
  "orig_nbformat": 4,
  "vscode": {
   "interpreter": {
    "hash": "12d9efd1b418ad7485587f2da0512ee7fc7c20b6462fdb2a696d6f33bbf19b58"
   }
  }
 },
 "nbformat": 4,
 "nbformat_minor": 2
}
