{
 "cells": [
  {
   "cell_type": "markdown",
   "metadata": {},
   "source": [
    "# Lab 4\n",
    "\n",
    "## Count the Vowels\n",
    "\n",
    "You are going to write a program that counts the number of vowels that appear in a string. For the purpose of this exercise, vowels are `a, e, i, o, u`."
   ]
  },
  {
   "cell_type": "markdown",
   "metadata": {},
   "source": [
    "### Variables\n",
    "\n",
    "For this project, you will need three variables. One will be the string. Another will be a string of all the vowels (`\"aeiou\"`). The final variable will be a count of all the vowels.\n",
    "\n",
    "```python\n",
    "my_string = \"The Brown Dog Jumps Over The Lazy Fox\"\n",
    "vowels = \"aeiou\"\n",
    "count = 0\n",
    "```"
   ]
  },
  {
   "cell_type": "markdown",
   "metadata": {},
   "source": [
    "### String Iteration\n",
    "\n",
    "A simple for loop will check each character in the string.\n",
    "\n",
    "```python\n",
    "for char in my_string:\n",
    "```"
   ]
  },
  {
   "cell_type": "markdown",
   "metadata": {},
   "source": [
    "### Checking for a Vowel\n",
    "\n",
    "You could have a long set of conditionals that ask if `char` is `a`, then ask if it is `e`, etc. Since the vowels are represented as a string, much more efficient way to do the same thing is to ask if `char` is one of the characters in `vowels`. This is done with the `in` operator.\n",
    "\n",
    "```python\n",
    "    if char in vowels:\n",
    "```\n",
    "\n",
    "There is one problem with the line of code above. The string `vowels` is a string of lowercase characters. If `char` is an uppercase character, the conditional would return `False`. The easiest way to solve this issue is convert `char` to lowercase.\n",
    "\n",
    "```python\n",
    "    if char.lower() in vowels:\n",
    "```"
   ]
  },
  {
   "cell_type": "markdown",
   "metadata": {},
   "source": [
    "### Incrementing the Counter\n",
    "\n",
    "When `char` is found in the string of vowels, increment the `count` variable.\n",
    "\n",
    "```python\n",
    "        count += 1\n",
    "```"
   ]
  },
  {
   "cell_type": "markdown",
   "metadata": {},
   "source": [
    "### Printing the Result\n",
    "\n",
    "The last step is to print the result. Use the `format` method to provide some context. It is possible that a string could have only one vowel. The text you print should be grammatically correct. Use a conditional to determine if there is one vowel. Use the appropriate grammar if true, or use a different sentence if there are more than one vowel. Having zero values would use the same syntax as many vowels.\n",
    "\n",
    "```python\n",
    "if count == 1:\n",
    "    print(\"There is 1 vowel in the string\")\n",
    "else:\n",
    "    print(\"There are {} vowels in the string\".format(count))\n",
    "```\n",
    "\n",
    "You should see that there are 9 vowels in the string."
   ]
  },
  {
   "cell_type": "markdown",
   "metadata": {},
   "source": [
    "## All in one code"
   ]
  },
  {
   "cell_type": "code",
   "execution_count": 2,
   "metadata": {},
   "outputs": [
    {
     "name": "stdout",
     "output_type": "stream",
     "text": [
      "There are 9 vowels in the string.\n"
     ]
    }
   ],
   "source": [
    "my_string = \"The Brown Dog Jumps Over The Lazy Fox\"\n",
    "vowels = \"aeiou\"\n",
    "count = 0\n",
    "\n",
    "for char in my_string:\n",
    "    if char.lower() in vowels:\n",
    "        count += 1\n",
    "\n",
    "if count == 1:\n",
    "    print(\"There are 1 vowel in the string.\")\n",
    "else:\n",
    "    print(\"There are {} vowels in the string.\".format(count))"
   ]
  },
  {
   "cell_type": "markdown",
   "metadata": {},
   "source": [
    "## Lab Question\n",
    "\n",
    "Why is it sometimes beneficial to change the case of a string before a comparison?\n",
    "\n",
    "- You can only compare strings if they are the same case. If not, you get an error message.\n",
    "- String comparison is fast when the strings are all the same case.\n",
    "- It is not beneficial. You can compare strings just fine without making any changes.\n",
    "- **Python is case sensitive. Changing the case can reduce false negatives by only comparing strings in the same case.**\n",
    "\n",
    "Python is case sensitive. Changing the case can reduce false negatives by only comparing strings in the same case. For example, “Red” and “red” are the same words to a human. Python says these are not the same because one has a capital letter, while the other is all lowercase. Standardizing on a single case keeps Python from doing this."
   ]
  }
 ],
 "metadata": {
  "kernelspec": {
   "display_name": "Python 3.10.4 64-bit",
   "language": "python",
   "name": "python3"
  },
  "language_info": {
   "codemirror_mode": {
    "name": "ipython",
    "version": 3
   },
   "file_extension": ".py",
   "mimetype": "text/x-python",
   "name": "python",
   "nbconvert_exporter": "python",
   "pygments_lexer": "ipython3",
   "version": "3.10.4"
  },
  "orig_nbformat": 4,
  "vscode": {
   "interpreter": {
    "hash": "12d9efd1b418ad7485587f2da0512ee7fc7c20b6462fdb2a696d6f33bbf19b58"
   }
  }
 },
 "nbformat": 4,
 "nbformat_minor": 2
}
