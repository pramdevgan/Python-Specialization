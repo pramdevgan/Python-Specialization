{
 "cells": [
  {
   "cell_type": "markdown",
   "metadata": {},
   "source": [
    "# **Capitalize**\n",
    "## **The Capitalize Method**\n",
    "The `capitalize` method returns a copy of a string with only the first character capitalized."
   ]
  },
  {
   "cell_type": "code",
   "execution_count": 1,
   "metadata": {},
   "outputs": [
    {
     "name": "stdout",
     "output_type": "stream",
     "text": [
      "The big brown dog\n"
     ]
    }
   ],
   "source": [
    "my_string = \"the big brown dog\"\n",
    "print(my_string.capitalize())"
   ]
  },
  {
   "cell_type": "markdown",
   "metadata": {},
   "source": [
    "### **What happens if you:**\n",
    "- Change `my_string` to `\"tHe BiG bRoWn DoG\"`?\n",
    "- Change `my_string` to `\"THE BIG BROWN DOG\"`?\n",
    "- Change `my_string` to `\"123^&*\"`?"
   ]
  },
  {
   "cell_type": "code",
   "execution_count": 3,
   "metadata": {},
   "outputs": [
    {
     "name": "stdout",
     "output_type": "stream",
     "text": [
      "The big brown dog\n"
     ]
    }
   ],
   "source": [
    "my_string = \"tHe BiG bRoWn DoG\"\n",
    "print(my_string.capitalize())"
   ]
  },
  {
   "cell_type": "code",
   "execution_count": 4,
   "metadata": {},
   "outputs": [
    {
     "name": "stdout",
     "output_type": "stream",
     "text": [
      "The big brown dog\n"
     ]
    }
   ],
   "source": [
    "my_string = \"THE BIG BROWN DOG\"\n",
    "print(my_string.capitalize())"
   ]
  },
  {
   "cell_type": "code",
   "execution_count": 2,
   "metadata": {},
   "outputs": [
    {
     "name": "stdout",
     "output_type": "stream",
     "text": [
      "123^&*\n"
     ]
    }
   ],
   "source": [
    "my_string = \"123^&*\"\n",
    "print(my_string.capitalize())"
   ]
  },
  {
   "cell_type": "markdown",
   "metadata": {},
   "source": [
    "### **Reading Question**\n",
    "Fill in the blank below so that the first letter of the string variable `my_string` is uppercase.\n",
    "\n",
    "```\n",
    "my_string = \"governments of the Industrial World, you weary giants of flesh and steel, I \\\n",
    "come from Cyberspace, the new home of Mind.\"\n",
    "print(my_string______________________)\n",
    "```"
   ]
  },
  {
   "cell_type": "code",
   "execution_count": null,
   "metadata": {},
   "outputs": [],
   "source": [
    "my_string = \"governments of the Industrial World, you weary giants of flesh and steel, I \\\n",
    "come from Cyberspace, the new home of Mind.\"\n",
    "print(my_string.capitalize())"
   ]
  },
  {
   "cell_type": "markdown",
   "metadata": {},
   "source": [
    "Since you only want to make the first character uppercase, use the `capitalize` method. Do not forget to put a `.` after the string name and before the method name. Methods also require parentheses with any parameters. `capitalize` does not have any paramenters."
   ]
  }
 ],
 "metadata": {
  "kernelspec": {
   "display_name": "Python 3.10.4 64-bit",
   "language": "python",
   "name": "python3"
  },
  "language_info": {
   "codemirror_mode": {
    "name": "ipython",
    "version": 3
   },
   "file_extension": ".py",
   "mimetype": "text/x-python",
   "name": "python",
   "nbconvert_exporter": "python",
   "pygments_lexer": "ipython3",
   "version": "3.10.4"
  },
  "orig_nbformat": 4,
  "vscode": {
   "interpreter": {
    "hash": "12d9efd1b418ad7485587f2da0512ee7fc7c20b6462fdb2a696d6f33bbf19b58"
   }
  }
 },
 "nbformat": 4,
 "nbformat_minor": 2
}
