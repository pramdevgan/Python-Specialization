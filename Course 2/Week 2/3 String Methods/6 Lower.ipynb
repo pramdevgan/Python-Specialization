{
 "cells": [
  {
   "cell_type": "markdown",
   "metadata": {},
   "source": [
    "# **Lower**\n",
    "## **The Lower Method**\n",
    "The `lower` method creates a copy of a string, and returns the copy with all lowercase characters. `lower` does not take any parameters."
   ]
  },
  {
   "cell_type": "code",
   "execution_count": 1,
   "metadata": {},
   "outputs": [
    {
     "name": "stdout",
     "output_type": "stream",
     "text": [
      "the big brown dog\n"
     ]
    }
   ],
   "source": [
    "my_string = \"THE BIG BROWN DOG\"\n",
    "print(my_string.lower())"
   ]
  },
  {
   "cell_type": "markdown",
   "metadata": {},
   "source": [
    "### **What happens if you:**\n",
    "- Change `my_string` to `\"tHe BiG bRoWn DoG\"`?\n",
    "- Change `my_string` to `\"the big brown dog\"`?\n",
    "- Change `my_string` to `\"214%#%\"`?"
   ]
  },
  {
   "cell_type": "code",
   "execution_count": 2,
   "metadata": {},
   "outputs": [
    {
     "name": "stdout",
     "output_type": "stream",
     "text": [
      "the big brown dog\n"
     ]
    }
   ],
   "source": [
    "my_string = \"tHe BiG bRoWn DoG\"\n",
    "print(my_string.lower())"
   ]
  },
  {
   "cell_type": "code",
   "execution_count": 3,
   "metadata": {},
   "outputs": [
    {
     "name": "stdout",
     "output_type": "stream",
     "text": [
      "the big brown dog\n"
     ]
    }
   ],
   "source": [
    "my_string = \"the big brown dog\"\n",
    "print(my_string.lower())"
   ]
  },
  {
   "cell_type": "code",
   "execution_count": 4,
   "metadata": {},
   "outputs": [
    {
     "name": "stdout",
     "output_type": "stream",
     "text": [
      "214%#%\n"
     ]
    }
   ],
   "source": [
    "my_string = \"214%#%\"\n",
    "print(my_string.lower())"
   ]
  },
  {
   "cell_type": "markdown",
   "metadata": {},
   "source": [
    "### **Reading Question**\n",
    "How many parameters does the `lower` method have?\n",
    "\n",
    "- **`0`**\n",
    "- 1\n",
    "- 2\n",
    "- 3\n",
    "\n",
    "Parameters are the information between the parentheses. Since there is nothing between the parentheses when the `lower` method is used, there are zero parameters."
   ]
  }
 ],
 "metadata": {
  "kernelspec": {
   "display_name": "Python 3.10.4 64-bit",
   "language": "python",
   "name": "python3"
  },
  "language_info": {
   "codemirror_mode": {
    "name": "ipython",
    "version": 3
   },
   "file_extension": ".py",
   "mimetype": "text/x-python",
   "name": "python",
   "nbconvert_exporter": "python",
   "pygments_lexer": "ipython3",
   "version": "3.10.4"
  },
  "orig_nbformat": 4,
  "vscode": {
   "interpreter": {
    "hash": "12d9efd1b418ad7485587f2da0512ee7fc7c20b6462fdb2a696d6f33bbf19b58"
   }
  }
 },
 "nbformat": 4,
 "nbformat_minor": 2
}
