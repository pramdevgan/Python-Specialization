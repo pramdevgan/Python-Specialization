{
 "cells": [
  {
   "cell_type": "markdown",
   "metadata": {},
   "source": [
    "# **Find**\n",
    "## **The Find Method**\n",
    "The `find` method searches for a word or character in a string. If the word or character is found, the index is returned. If not, `-1` is returned. You can tell `find` where to start the search and where to end the search. By default, `find` will search the entire string.\n",
    "![find method description](https://apollo-media.codio.com/media%2F1%2F5c2d0eed2787ecd7301ed11a5e26811c-846e4d86-e104-43db-8cc3-5ea265e7b716.webp)"
   ]
  },
  {
   "cell_type": "code",
   "execution_count": 1,
   "metadata": {},
   "outputs": [
    {
     "name": "stdout",
     "output_type": "stream",
     "text": [
      "4\n"
     ]
    }
   ],
   "source": [
    "string1 = \"The brown dog jumps over the lazy fox.\"\n",
    "string2 = \"brown\"\n",
    "print(string1.find(string2))"
   ]
  },
  {
   "cell_type": "markdown",
   "metadata": {},
   "source": [
    "### **What happens if you:**\n",
    "- Change `string2` to `\"zebra\"`?\n",
    "- Change `string2` back to `\"brown\"` and change the print statement to `print(string1.find(string2, 10))`?\n",
    "- Change the `print` statement to `print(string1.find(string2, 0, 3))`?"
   ]
  },
  {
   "cell_type": "code",
   "execution_count": 2,
   "metadata": {},
   "outputs": [
    {
     "name": "stdout",
     "output_type": "stream",
     "text": [
      "-1\n"
     ]
    }
   ],
   "source": [
    "string1 = \"The brown dog jumps over the lazy fox.\"\n",
    "string2 = \"zebra\"\n",
    "print(string1.find(string2))"
   ]
  },
  {
   "cell_type": "code",
   "execution_count": 3,
   "metadata": {},
   "outputs": [
    {
     "name": "stdout",
     "output_type": "stream",
     "text": [
      "-1\n"
     ]
    }
   ],
   "source": [
    "string1 = \"The brown dog jumps over the lazy fox.\"\n",
    "string2 = \"brown\"\n",
    "print(string1.find(string2,10))"
   ]
  },
  {
   "cell_type": "code",
   "execution_count": 4,
   "metadata": {},
   "outputs": [
    {
     "name": "stdout",
     "output_type": "stream",
     "text": [
      "-1\n"
     ]
    }
   ],
   "source": [
    "string1 = \"The brown dog jumps over the lazy fox.\"\n",
    "string2 = \"brown\"\n",
    "print(string1.find(string2,0,3))"
   ]
  },
  {
   "cell_type": "markdown",
   "metadata": {},
   "source": [
    "### **Reading Question**\n",
    "Assume that you have two strings, `original_string` and `search_term`. Rearrange the code blocks below to test if `search_term` is found in `original_string`. If `true`, print the message `\"I found it!\"`. Hint, not all of the code blocks will be used.\n",
    "\n",
    "***Drag from here***\n",
    "```\n",
    "if original_string.find(search_term) == -1:\n",
    "if search_term.find(original_string) != -1:\n",
    "```\n",
    "***Construct your solution here***\n",
    "\n",
    "`if original_string.find(search_term) != -1:` <br>\n",
    "&emsp;&emsp;` print(\"I found it!\")`"
   ]
  },
  {
   "cell_type": "code",
   "execution_count": 8,
   "metadata": {},
   "outputs": [
    {
     "name": "stdout",
     "output_type": "stream",
     "text": [
      "I found it!\n"
     ]
    }
   ],
   "source": [
    "original_string = \"The brown dog jumps over the lazy fox.\"\n",
    "search_term = \"brown\"\n",
    "if original_string.find(search_term) != -1:\n",
    "    print(\"I found it!\")\n",
    "else:\n",
    "    print(\"I didn't find it!\")"
   ]
  }
 ],
 "metadata": {
  "kernelspec": {
   "display_name": "Python 3.10.4 64-bit",
   "language": "python",
   "name": "python3"
  },
  "language_info": {
   "codemirror_mode": {
    "name": "ipython",
    "version": 3
   },
   "file_extension": ".py",
   "mimetype": "text/x-python",
   "name": "python",
   "nbconvert_exporter": "python",
   "pygments_lexer": "ipython3",
   "version": "3.10.4"
  },
  "orig_nbformat": 4,
  "vscode": {
   "interpreter": {
    "hash": "12d9efd1b418ad7485587f2da0512ee7fc7c20b6462fdb2a696d6f33bbf19b58"
   }
  }
 },
 "nbformat": 4,
 "nbformat_minor": 2
}
