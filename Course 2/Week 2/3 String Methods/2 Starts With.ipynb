{
 "cells": [
  {
   "cell_type": "markdown",
   "metadata": {},
   "source": [
    "# **Starts With**\n",
    "## **The Starts With Method**\n",
    "The **`startswith`** method returns either **`True`** or **`False`** if a string starts with another string. For example, **`my_string.startswith(\"this\")`** will return **`True`** if **`my_string*`** starts with **`\"this\"`**. If not, it will return false. The **`startswith`** method is a bit different because some of the parameters are optional. The first parameter, a string, is mandatory. **`startswith`** will start the comparison with the first character in the string. However, you can change where the comparison starts and ends with the optional parameters.\n",
    "![](https://apollo-media.codio.com/media%2F1%2Fc0af559ebea5e68e76072e2de3ea9b2f-e1e3bd3e-6541-47c6-9d86-a1d1617d6c50.webp)"
   ]
  },
  {
   "cell_type": "code",
   "execution_count": 1,
   "metadata": {},
   "outputs": [
    {
     "name": "stdout",
     "output_type": "stream",
     "text": [
      "True\n"
     ]
    }
   ],
   "source": [
    "my_string = \"this is a string\"\n",
    "my_bool = my_string.startswith(\"this\")\n",
    "print(my_bool)"
   ]
  },
  {
   "cell_type": "markdown",
   "metadata": {},
   "source": [
    "### **What happens if you:**\n",
    "- Change `my_bool` to `my_string.startswith(\"This\")`?\n",
    "- Change `my_bool` to `my_string.startswith(\"is\", 2)`?\n",
    "- Change `my_bool` to `my_string.startswith(\"is\", 2, 3)`?\n",
    "- Change `my_bool` to `my_string.startswith(\"is\", 2, 4)`?"
   ]
  },
  {
   "cell_type": "code",
   "execution_count": 2,
   "metadata": {},
   "outputs": [
    {
     "name": "stdout",
     "output_type": "stream",
     "text": [
      "False\n"
     ]
    }
   ],
   "source": [
    "my_string = \"this is a string\"\n",
    "my_bool = my_string.startswith(\"This\")\n",
    "print(my_bool)"
   ]
  },
  {
   "cell_type": "code",
   "execution_count": 3,
   "metadata": {},
   "outputs": [
    {
     "name": "stdout",
     "output_type": "stream",
     "text": [
      "True\n"
     ]
    }
   ],
   "source": [
    "my_string = \"this is a string\"\n",
    "my_bool = my_string.startswith(\"is\", 2)\n",
    "print(my_bool)"
   ]
  },
  {
   "cell_type": "code",
   "execution_count": 4,
   "metadata": {},
   "outputs": [
    {
     "name": "stdout",
     "output_type": "stream",
     "text": [
      "False\n"
     ]
    }
   ],
   "source": [
    "my_string = \"this is a string\"\n",
    "my_bool = my_string.startswith(\"is\", 2,3)\n",
    "print(my_bool)"
   ]
  },
  {
   "cell_type": "code",
   "execution_count": 5,
   "metadata": {},
   "outputs": [
    {
     "name": "stdout",
     "output_type": "stream",
     "text": [
      "True\n"
     ]
    }
   ],
   "source": [
    "my_string = \"this is a string\"\n",
    "my_bool = my_string.startswith(\"is\", 2,4)\n",
    "print(my_bool)"
   ]
  },
  {
   "cell_type": "markdown",
   "metadata": {},
   "source": [
    "### **Reading Question**\n",
    "Fill in the blanks below.\n",
    "\n",
    "The `startswith` \n",
    "method has up to **3** parameters.\n",
    "\n",
    "The first parameter is **required**.\n",
    "\n",
    "The other two parameters are **optional**."
   ]
  }
 ],
 "metadata": {
  "kernelspec": {
   "display_name": "Python 3.10.4 64-bit",
   "language": "python",
   "name": "python3"
  },
  "language_info": {
   "codemirror_mode": {
    "name": "ipython",
    "version": 3
   },
   "file_extension": ".py",
   "mimetype": "text/x-python",
   "name": "python",
   "nbconvert_exporter": "python",
   "pygments_lexer": "ipython3",
   "version": "3.10.4"
  },
  "orig_nbformat": 4,
  "vscode": {
   "interpreter": {
    "hash": "12d9efd1b418ad7485587f2da0512ee7fc7c20b6462fdb2a696d6f33bbf19b58"
   }
  }
 },
 "nbformat": 4,
 "nbformat_minor": 2
}
