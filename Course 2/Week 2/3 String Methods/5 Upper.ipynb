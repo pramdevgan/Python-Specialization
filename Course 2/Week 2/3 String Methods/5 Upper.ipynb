{
 "cells": [
  {
   "cell_type": "markdown",
   "metadata": {},
   "source": [
    "# **Upper**\n",
    "## **The Upper Method**\n",
    "There are some string methods that do not require parameters. You still must use the parentheses even if there are no parameters. The `upper` method is an example of this. The `upper` method returns a copy of the original string with all uppercase characters.\n",
    "![](https://apollo-media.codio.com/media%2F1%2Faf96950f5d6e30265e27f1e81601c2a2-533faa70-9c99-4743-8d3f-96431246315b.webp)\n",
    "\n",
    "***Translation:*** Convert all the characters of `my_string` to uppercase."
   ]
  },
  {
   "cell_type": "code",
   "execution_count": 1,
   "metadata": {},
   "outputs": [
    {
     "name": "stdout",
     "output_type": "stream",
     "text": [
      "THE BIG BROWN DOG\n"
     ]
    }
   ],
   "source": [
    "my_string = \"the big brown dog\"\n",
    "print(my_string.upper())"
   ]
  },
  {
   "cell_type": "markdown",
   "metadata": {},
   "source": [
    "### **What happens if you:**\n",
    "- Change `my_string` to `\"ThE bIg BrOwN dOg\"`?\n",
    "- Change `my_string` to `\"THE BIG BROWN DOG\"`?\n",
    "- Change `my_string` to `\"123!@#\"`?"
   ]
  },
  {
   "cell_type": "code",
   "execution_count": 2,
   "metadata": {},
   "outputs": [
    {
     "name": "stdout",
     "output_type": "stream",
     "text": [
      "THE BIG BROWN DOG\n"
     ]
    }
   ],
   "source": [
    "my_string = \"ThE bIg BrOwN dOg\"\n",
    "print(my_string.upper())"
   ]
  },
  {
   "cell_type": "code",
   "execution_count": 3,
   "metadata": {},
   "outputs": [
    {
     "name": "stdout",
     "output_type": "stream",
     "text": [
      "THE BIG BROWN DOG\n"
     ]
    }
   ],
   "source": [
    "my_string = \"THE BIG BROWN DOG\"\n",
    "print(my_string.upper())"
   ]
  },
  {
   "cell_type": "code",
   "execution_count": 4,
   "metadata": {},
   "outputs": [
    {
     "name": "stdout",
     "output_type": "stream",
     "text": [
      "123!@#\n"
     ]
    }
   ],
   "source": [
    "my_string = \"123!@#\"\n",
    "print(my_string.upper())"
   ]
  },
  {
   "cell_type": "markdown",
   "metadata": {},
   "source": [
    "Reading Question\n",
    "How does the `upper` method work if strings are immutable?\n",
    "\n",
    "\n",
    "- `upper` is an exception, and modifies the original string\n",
    "- `upper` deletes the original string and replaces it with a modified string.\n",
    "- Because the string has all the same characters, it’s not really modifying the original string.\n",
    "- ***`upper` creates a copy of the original string and modifies the copy.***\n",
    "\n",
    "Because characters in a string cannot be modified (that includes converting them to uppercase), a copy of the original string is made, and it is the copy that is converted to uppercase."
   ]
  }
 ],
 "metadata": {
  "kernelspec": {
   "display_name": "Python 3.10.4 64-bit",
   "language": "python",
   "name": "python3"
  },
  "language_info": {
   "codemirror_mode": {
    "name": "ipython",
    "version": 3
   },
   "file_extension": ".py",
   "mimetype": "text/x-python",
   "name": "python",
   "nbconvert_exporter": "python",
   "pygments_lexer": "ipython3",
   "version": "3.10.4"
  },
  "orig_nbformat": 4,
  "vscode": {
   "interpreter": {
    "hash": "12d9efd1b418ad7485587f2da0512ee7fc7c20b6462fdb2a696d6f33bbf19b58"
   }
  }
 },
 "nbformat": 4,
 "nbformat_minor": 2
}
