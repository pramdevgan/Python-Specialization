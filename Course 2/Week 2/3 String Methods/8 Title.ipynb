{
 "cells": [
  {
   "cell_type": "markdown",
   "metadata": {},
   "source": [
    "# **Title**\n",
    "## **The Title Method**\n",
    "The `title` method creates a copy of a string, and returns a string with the first letter of each word capitalized. All other characters of the word will be lowercase."
   ]
  },
  {
   "cell_type": "code",
   "execution_count": 1,
   "metadata": {},
   "outputs": [
    {
     "name": "stdout",
     "output_type": "stream",
     "text": [
      "The Big Brown Dog\n"
     ]
    }
   ],
   "source": [
    "my_string = \"the big brown dog\"\n",
    "print(my_string.title())"
   ]
  },
  {
   "cell_type": "code",
   "execution_count": 3,
   "metadata": {},
   "outputs": [
    {
     "name": "stdout",
     "output_type": "stream",
     "text": [
      "The Big Brown Dog\n"
     ]
    }
   ],
   "source": [
    "my_string = \"tHe BiG bRoWn DoG\"\n",
    "print(my_string.title())"
   ]
  },
  {
   "cell_type": "code",
   "execution_count": 4,
   "metadata": {},
   "outputs": [
    {
     "name": "stdout",
     "output_type": "stream",
     "text": [
      "Thebigbrowndog\n"
     ]
    }
   ],
   "source": [
    "my_string = \"thebigbrowndog\"\n",
    "print(my_string.title())"
   ]
  },
  {
   "cell_type": "code",
   "execution_count": 5,
   "metadata": {},
   "outputs": [
    {
     "name": "stdout",
     "output_type": "stream",
     "text": [
      "A1 1A A A A\n"
     ]
    }
   ],
   "source": [
    "my_string = \"a1 1a a a a\"\n",
    "print(my_string.title())"
   ]
  },
  {
   "cell_type": "markdown",
   "metadata": {},
   "source": [
    "### **Other String Methods**\n",
    "There are many more string methods. Here are a few examples:\n",
    "\n",
    "| Method | Example | Description |\n",
    "|--------|---------|-------------|\n",
    "| **[Center](https://www.tutorialspoint.com/python/string_center.htm)** |`center(width, fill)` | Center a string in a given width, fill any whitespace with a given character |\n",
    "| **[Count](https://www.tutorialspoint.com/python/string_count.htm)**  | `count(str, start, end)` |Count how many times a string appears |\n",
    "| **[Ends With](https://www.tutorialspoint.com/python/string_endswith.htm)** | `endswith(str, start, end)` | Return `True` if a string ends with a specific string |\n",
    "| **[Index](https://www.tutorialspoint.com/python/string_index.htm)** | `index(str, start, end)` |\tReturn index of `str` in a string, will raise an exception if not found |\n",
    "| **[Is Alphanumeric](https://www.tutorialspoint.com/python/string_isalnum.htm)** | `isalnum()` | Returns `True` if string is alphanumeric |\n",
    "| **[Is Alphabetic](https://www.tutorialspoint.com/python/string_isalpha.htm)** | `isalpha()`\t| Returns `True` if string is alphabetic |\n",
    "| **[Is Digit](https://www.tutorialspoint.com/python/string_isdigit.htm)** | `isdigit()` | Returns `True` if string is just digits |\n",
    "| **[Is Lower](https://www.tutorialspoint.com/python/string_islower.htm)** | `islower()` | Returns `True` if the string is lowercase |\n",
    "| **[Is Space](https://www.tutorialspoint.com/python/string_isspace.htm)** | `isspace()` | Returns `True` if the strings is nothing but spaces |\n",
    "| **[Is Title](https://www.tutorialspoint.com/python/string_istitle.htm)** | `istitle()` | Returns `True` if the string is title case |\n",
    "| **[Is Upper](https://www.tutorialspoint.com/python/string_isupper.htm)** | `isupper()` | Returns `True` if string is all uppercase |"
   ]
  },
  {
   "cell_type": "markdown",
   "metadata": {},
   "source": [
    "### **Reading Question**\n",
    "Select all of the following that are true about the `title` method. **Hint** there is more than one correct answer.\n",
    "\n",
    "\n",
    "- ***The `title` method makes a copy of the original string.***\n",
    "- The `title` method does not capitalize words like \"of\", \"the\", \"an\", etc.\n",
    "- ***The first letter of each word in a string is capitalized.***\n",
    "- ***If the `title` method makes a letter uppercase, it will also make all of the other characters in the word lowercase.***"
   ]
  }
 ],
 "metadata": {
  "kernelspec": {
   "display_name": "Python 3.10.4 64-bit",
   "language": "python",
   "name": "python3"
  },
  "language_info": {
   "codemirror_mode": {
    "name": "ipython",
    "version": 3
   },
   "file_extension": ".py",
   "mimetype": "text/x-python",
   "name": "python",
   "nbconvert_exporter": "python",
   "pygments_lexer": "ipython3",
   "version": "3.10.4"
  },
  "orig_nbformat": 4,
  "vscode": {
   "interpreter": {
    "hash": "12d9efd1b418ad7485587f2da0512ee7fc7c20b6462fdb2a696d6f33bbf19b58"
   }
  }
 },
 "nbformat": 4,
 "nbformat_minor": 2
}
