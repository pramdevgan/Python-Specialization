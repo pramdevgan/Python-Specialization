{
 "cells": [
  {
   "cell_type": "markdown",
   "metadata": {},
   "source": [
    "# **Strip**\n",
    "## **What is a String Method?**\n",
    "Strings have special commands called methods (more on methods in a later lesson). Methods have a special syntax. First, start with a string (often a variable that represents a string). Add a period after the string. Finally, add the name of the method with any parameters. Parameters are values that the method will use.\n",
    "![](https://apollo-media.codio.com/media%2F1%2F1aaeab45afac2ab1934a7c775aa28469-9bfe59d1-a25e-47f6-b121-bc00adf48fe9.webp)\n",
    "\n",
    "***Translation:*** Remove the string `\"world\"` from the string `my_string`."
   ]
  },
  {
   "cell_type": "markdown",
   "metadata": {},
   "source": [
    "### **The Strip Method**\n",
    "The `strip` method removes characters from the beginning or end of a string. `strip` *returns a modified copy of the original string*."
   ]
  },
  {
   "cell_type": "code",
   "execution_count": 2,
   "metadata": {},
   "outputs": [
    {
     "name": "stdout",
     "output_type": "stream",
     "text": [
      "Hello world\n",
      "Hello \n"
     ]
    }
   ],
   "source": [
    "string1 = \"Hello world\"\n",
    "print(string1)\n",
    "string2 = \"world\"\n",
    "print(string1.strip(string2))"
   ]
  },
  {
   "cell_type": "markdown",
   "metadata": {},
   "source": [
    "### **What happens if you:**\n",
    "- Change `string2` to `\"Hello\"`?\n",
    "- Change `string2` to `\"ld\"`?\n",
    "- Change `string2` to `\"ell\"`?"
   ]
  },
  {
   "cell_type": "code",
   "execution_count": 3,
   "metadata": {},
   "outputs": [
    {
     "name": "stdout",
     "output_type": "stream",
     "text": [
      "Hello world\n",
      " world\n"
     ]
    }
   ],
   "source": [
    "string1 = \"Hello world\"\n",
    "print(string1)\n",
    "string2 = \"Hello\"\n",
    "print(string1.strip(string2))"
   ]
  },
  {
   "cell_type": "code",
   "execution_count": 4,
   "metadata": {},
   "outputs": [
    {
     "name": "stdout",
     "output_type": "stream",
     "text": [
      "Hello world\n",
      "Hello wor\n"
     ]
    }
   ],
   "source": [
    "string1 = \"Hello world\"\n",
    "print(string1)\n",
    "string2 = \"ld\"\n",
    "print(string1.strip(string2))"
   ]
  },
  {
   "cell_type": "code",
   "execution_count": 19,
   "metadata": {},
   "outputs": [
    {
     "name": "stdout",
     "output_type": "stream",
     "text": [
      "Hello world\n",
      "Hello world\n"
     ]
    }
   ],
   "source": [
    "string1 = \"Hello world\"\n",
    "print(string1)\n",
    "string2 = \"ell\"\n",
    "print(string1.strip(string2))"
   ]
  },
  {
   "cell_type": "markdown",
   "metadata": {},
   "source": [
    "### **Reading Question**\n",
    "Assume you have the string `my_string = \"The cat in the hat\"`. Which of the strip methods below **would not** modify `my_string`?\n",
    "\n",
    "- <p>my_string.strip(“The”)</p>\n",
    "- <p style=\"color:green; font-size:20pt;\">my_string.strip(“cat”)</p>\n",
    "- <p>my_string.strip(“hat”)</p>\n",
    "- <p>my_string.strip(“the hat”)</p>"
   ]
  },
  {
   "cell_type": "code",
   "execution_count": 28,
   "metadata": {},
   "outputs": [
    {
     "name": "stdout",
     "output_type": "stream",
     "text": [
      "The cat in the h\n"
     ]
    }
   ],
   "source": [
    "my_string = \"The cat in the hat\"\n",
    "print(my_string.strip(\"cat\"))"
   ]
  },
  {
   "cell_type": "markdown",
   "metadata": {},
   "source": [
    "The `strip` method only removes characters from the beginning or the end of a string. The only option that has characters not at the beginning or the end was `my_string.strip(\"cat\")`."
   ]
  }
 ],
 "metadata": {
  "kernelspec": {
   "display_name": "Python 3.10.4 64-bit",
   "language": "python",
   "name": "python3"
  },
  "language_info": {
   "codemirror_mode": {
    "name": "ipython",
    "version": 3
   },
   "file_extension": ".py",
   "mimetype": "text/x-python",
   "name": "python",
   "nbconvert_exporter": "python",
   "pygments_lexer": "ipython3",
   "version": "3.10.4"
  },
  "orig_nbformat": 4,
  "vscode": {
   "interpreter": {
    "hash": "12d9efd1b418ad7485587f2da0512ee7fc7c20b6462fdb2a696d6f33bbf19b58"
   }
  }
 },
 "nbformat": 4,
 "nbformat_minor": 2
}
