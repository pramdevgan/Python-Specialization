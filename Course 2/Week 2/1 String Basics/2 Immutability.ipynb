{
 "cells": [
  {
   "cell_type": "markdown",
   "metadata": {},
   "source": [
    "# ***Immutability***"
   ]
  },
  {
   "cell_type": "markdown",
   "metadata": {},
   "source": [
    "## **Immutability**\n",
    "You now know how to reference each character of a string. What do you think the code below will do?\n"
   ]
  },
  {
   "cell_type": "code",
   "execution_count": 1,
   "metadata": {},
   "outputs": [
    {
     "ename": "TypeError",
     "evalue": "'str' object does not support item assignment",
     "output_type": "error",
     "traceback": [
      "\u001b[1;31m---------------------------------------------------------------------------\u001b[0m",
      "\u001b[1;31mTypeError\u001b[0m                                 Traceback (most recent call last)",
      "\u001b[1;32mc:\\Users\\vpram\\Python Specialization\\Course 2\\Week 2\\1 String Basics\\2 Immutability.ipynb Cell 3'\u001b[0m in \u001b[0;36m<module>\u001b[1;34m\u001b[0m\n\u001b[0;32m      <a href='vscode-notebook-cell:/c%3A/Users/vpram/Python%20Specialization/Course%202/Week%202/1%20String%20Basics/2%20Immutability.ipynb#ch0000004?line=0'>1</a>\u001b[0m my_string \u001b[39m=\u001b[39m \u001b[39m\"\u001b[39m\u001b[39mHouse\u001b[39m\u001b[39m\"\u001b[39m\n\u001b[1;32m----> <a href='vscode-notebook-cell:/c%3A/Users/vpram/Python%20Specialization/Course%202/Week%202/1%20String%20Basics/2%20Immutability.ipynb#ch0000004?line=1'>2</a>\u001b[0m my_string[\u001b[39m0\u001b[39m] \u001b[39m=\u001b[39m \u001b[39m\"\u001b[39m\u001b[39mM\u001b[39m\u001b[39m\"\u001b[39m\n\u001b[0;32m      <a href='vscode-notebook-cell:/c%3A/Users/vpram/Python%20Specialization/Course%202/Week%202/1%20String%20Basics/2%20Immutability.ipynb#ch0000004?line=2'>3</a>\u001b[0m \u001b[39mprint\u001b[39m(my_string)\n",
      "\u001b[1;31mTypeError\u001b[0m: 'str' object does not support item assignment"
     ]
    }
   ],
   "source": [
    "my_string = \"House\"\n",
    "my_string[0] = \"M\"\n",
    "print(my_string)"
   ]
  },
  {
   "cell_type": "markdown",
   "metadata": {},
   "source": [
    "If you thought the code above would print `Mouse`, that would be a logical guess. However, you see an error. Strings are immutable. That means you cannot change their value."
   ]
  },
  {
   "cell_type": "markdown",
   "metadata": {},
   "source": [
    "## **Yes, but...**\n",
    "The code below works just fine. Isn’t this an example of changing the value of a string?"
   ]
  },
  {
   "cell_type": "code",
   "execution_count": 2,
   "metadata": {},
   "outputs": [
    {
     "name": "stdout",
     "output_type": "stream",
     "text": [
      "Mouse\n"
     ]
    }
   ],
   "source": [
    "my_string = \"House\"\n",
    "my_string = \"Mouse\"\n",
    "print(my_string)"
   ]
  },
  {
   "cell_type": "markdown",
   "metadata": {},
   "source": [
    "Python is doing something very subtle behind the scenes. The first example on this page is about mutability. That is, changing just a part of a whole. The second example is about the assignment operator. Assignment replaces the entire value with a new value. So, you can replace an entire string (assignment), but you cannot change part of a string (mutability). That is why strings are considered to be immutable.\n",
    "![](https://apollo-media.codio.com/media%2F1%2F11e8db883a648d2f536f9c3410dc5ed0-fbc2a9d5-45c9-4a11-bee5-c5ecbaa33001.webp)"
   ]
  },
  {
   "cell_type": "markdown",
   "metadata": {},
   "source": [
    "Reading Question\n",
    "What does it mean that a string is immutable?\n",
    "\n",
    "- You cannot assign a variable a new string value\n",
    "- ***`You cannot modify characters in a string`***  <<---- Correct Answer\n",
    "- You can change the individual characters in a string\n",
    "- You can assign a variable a new string value\n",
    "\n",
    "A string is immutable because you cannot alter individual characters. For example, `my_string[0] = \"A\"` is trying to change the first character of a string to `A`.\n"
   ]
  }
 ],
 "metadata": {
  "kernelspec": {
   "display_name": "Python 3.10.4 64-bit",
   "language": "python",
   "name": "python3"
  },
  "language_info": {
   "codemirror_mode": {
    "name": "ipython",
    "version": 3
   },
   "file_extension": ".py",
   "mimetype": "text/x-python",
   "name": "python",
   "nbconvert_exporter": "python",
   "pygments_lexer": "ipython3",
   "version": "3.10.4"
  },
  "orig_nbformat": 4,
  "vscode": {
   "interpreter": {
    "hash": "12d9efd1b418ad7485587f2da0512ee7fc7c20b6462fdb2a696d6f33bbf19b58"
   }
  }
 },
 "nbformat": 4,
 "nbformat_minor": 2
}
