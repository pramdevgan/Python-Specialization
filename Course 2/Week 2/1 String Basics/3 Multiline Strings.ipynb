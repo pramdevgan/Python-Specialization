{
 "cells": [
  {
   "cell_type": "markdown",
   "metadata": {},
   "source": [
    "# ***Multiline Strings***\n",
    "\n",
    "## **Multiline Strings**\n",
    "Python has several informal rules. Breaking one of these will not cause an error, but the Python community will not consider the code to be \"proper\". One of these rules is that a ***line of text should not have more than 79 characters***. If a string has more than 79 characters, use the newline character (`\\`) and go to the next line. Note, Python will print the string as one line of text."
   ]
  },
  {
   "cell_type": "code",
   "execution_count": 1,
   "metadata": {},
   "outputs": [
    {
     "name": "stdout",
     "output_type": "stream",
     "text": [
      "Hello world! This is a very long string.    Even through this string is on three different lines, it should        print as one line. Notice how the line breaks are different.\n"
     ]
    }
   ],
   "source": [
    "my_string = \"Hello world! This is a very long string.\\\n",
    "    Even through this string is on three different lines, it should\\\n",
    "        print as one line. Notice how the line breaks are different.\"\n",
    "print(my_string)"
   ]
  },
  {
   "cell_type": "markdown",
   "metadata": {},
   "source": [
    "### What happens if you:\n",
    "- Put a space after the `\\` ?"
   ]
  },
  {
   "cell_type": "code",
   "execution_count": 4,
   "metadata": {},
   "outputs": [
    {
     "ename": "SyntaxError",
     "evalue": "unterminated string literal (detected at line 2) (3066728595.py, line 1)",
     "output_type": "error",
     "traceback": [
      "\u001b[1;36m  Input \u001b[1;32mIn [4]\u001b[1;36m\u001b[0m\n\u001b[1;33m    my_string = \"Hello world! This is a very long string. \\\u001b[0m\n\u001b[1;37m                ^\u001b[0m\n\u001b[1;31mSyntaxError\u001b[0m\u001b[1;31m:\u001b[0m unterminated string literal (detected at line 2)\n"
     ]
    }
   ],
   "source": [
    "my_string = \"Hello world! This is a very long string. \\\n",
    "    Even through this string is on three different lines, it should \\ \n",
    "    print as one line. Notice how the line breaks are different.\"\n",
    "print(my_string)"
   ]
  },
  {
   "cell_type": "markdown",
   "metadata": {},
   "source": [
    "## **Triple Quotes**\n",
    "Triple quotation marks can be used to preserve the whitespace of a string."
   ]
  },
  {
   "cell_type": "code",
   "execution_count": 5,
   "metadata": {},
   "outputs": [
    {
     "name": "stdout",
     "output_type": "stream",
     "text": [
      "Notice how this weird looking\n",
      "       string is being\n",
      "          printed.\n"
     ]
    }
   ],
   "source": [
    "long_string = \"\"\"Notice how this weird looking\n",
    "       string is being\n",
    "          printed.\"\"\"\n",
    "print(long_string)"
   ]
  },
  {
   "cell_type": "markdown",
   "metadata": {},
   "source": [
    "#### **Docstrings**\n",
    "The triple quote (`\"\"\"`) has a special purpose, documenting code. You will learn more about docstrings in the lessons on functions and classes."
   ]
  },
  {
   "cell_type": "markdown",
   "metadata": {},
   "source": [
    "### **What happens if you:**\n",
    "- Change the `\"\"\"` (3 double quotes) to `'''` (3 single quotes)?\n",
    "- Have `\"\"\"` (3 double quotes) to start the string and `'''` (3 single quotes) to end the string?"
   ]
  },
  {
   "cell_type": "code",
   "execution_count": 6,
   "metadata": {},
   "outputs": [
    {
     "name": "stdout",
     "output_type": "stream",
     "text": [
      "Notice how this weird looking\n",
      "        string is being\n",
      "            printed.\n"
     ]
    }
   ],
   "source": [
    "long_string = '''Notice how this weird looking\n",
    "        string is being\n",
    "            printed.'''\n",
    "print(long_string)"
   ]
  },
  {
   "cell_type": "code",
   "execution_count": 7,
   "metadata": {},
   "outputs": [
    {
     "ename": "SyntaxError",
     "evalue": "incomplete input (1826833561.py, line 1)",
     "output_type": "error",
     "traceback": [
      "\u001b[1;36m  Input \u001b[1;32mIn [7]\u001b[1;36m\u001b[0m\n\u001b[1;33m    long_string = '''Notice how this weird looking\u001b[0m\n\u001b[1;37m                  ^\u001b[0m\n\u001b[1;31mSyntaxError\u001b[0m\u001b[1;31m:\u001b[0m incomplete input\n"
     ]
    }
   ],
   "source": [
    "long_string = '''Notice how this weird looking\n",
    "        string is being\n",
    "            printed.\"\"\"\n",
    "print(long_string)"
   ]
  },
  {
   "cell_type": "markdown",
   "metadata": {},
   "source": [
    "### ***Reading Question***\n",
    "What is the difference between using `\\` and `\"\"\"` when making multiline strings?\n",
    "\n",
    "\n",
    "- There is no difference.\n",
    "- The `\\` preserves whitespace, while the `\"\"\"` allows you to continue writing the string on the next line.\n",
    "- `\"\"\"` limits you to 79 characters, while `\\` adds a newline character.\n",
    "- **The `\"\"\"` preserves whitespace, while the `\\` allows you to continue writing the string on the next line.**\n",
    "\n",
    "```\n",
    "The triple quote (\"\"\") is used to create a string that preserves whitespace. Your string can go across multiple lines and have whatever indentation you would like.\n",
    "\n",
    "The backslash (\\) is used to continue writing a string on the next line. The Python community typically types 79 characters per line. Use the backslash if your string is longer than 79 characters.\n",
    "```"
   ]
  }
 ],
 "metadata": {
  "kernelspec": {
   "display_name": "Python 3.10.4 64-bit",
   "language": "python",
   "name": "python3"
  },
  "language_info": {
   "codemirror_mode": {
    "name": "ipython",
    "version": 3
   },
   "file_extension": ".py",
   "mimetype": "text/x-python",
   "name": "python",
   "nbconvert_exporter": "python",
   "pygments_lexer": "ipython3",
   "version": "3.10.4"
  },
  "orig_nbformat": 4,
  "vscode": {
   "interpreter": {
    "hash": "12d9efd1b418ad7485587f2da0512ee7fc7c20b6462fdb2a696d6f33bbf19b58"
   }
  }
 },
 "nbformat": 4,
 "nbformat_minor": 2
}
