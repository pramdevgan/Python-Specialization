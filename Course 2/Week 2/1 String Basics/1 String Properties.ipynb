{
 "cells": [
  {
   "cell_type": "markdown",
   "metadata": {},
   "source": [
    "# ***String Properties***"
   ]
  },
  {
   "cell_type": "markdown",
   "metadata": {},
   "source": [
    "## **String Length**\n",
    "We have already seen strings in the \"Fundamentals\"section. We are going to dig a little deeper with this data type. All strings have the following characteristics:\n",
    "1. **Characters** - Strings are made up of characters between quotation marks (previously covered in the “Fundamentals” section).\n",
    "2. **Length** - Each string has a length (total number of characters).\n",
    "3. **Index** - Each character in a string has a position, called an index.   \n",
    "\n",
    "To calculate the length of a string, use the **`len`** function. This function will return an integer that is the sum of all of the characters between the quotation marks."
   ]
  },
  {
   "cell_type": "code",
   "execution_count": 1,
   "metadata": {},
   "outputs": [
    {
     "name": "stdout",
     "output_type": "stream",
     "text": [
      "5\n"
     ]
    }
   ],
   "source": [
    "my_string = \"Hello\"\n",
    "length = len(my_string)\n",
    "print(length)"
   ]
  },
  {
   "cell_type": "markdown",
   "metadata": {},
   "source": [
    "### ***What happens if you:***\n",
    "- Change `my_string` to `\"Hello world!\"`?\n",
    "- Change `my_string` to `\"\"`?\n",
    "- Change `my_string` to `\"-1\"`?"
   ]
  },
  {
   "cell_type": "code",
   "execution_count": 2,
   "metadata": {},
   "outputs": [
    {
     "name": "stdout",
     "output_type": "stream",
     "text": [
      "12\n"
     ]
    }
   ],
   "source": [
    "my_string = \"Hello world!\"\n",
    "length = len(my_string)\n",
    "print(length)"
   ]
  },
  {
   "cell_type": "code",
   "execution_count": 3,
   "metadata": {},
   "outputs": [
    {
     "name": "stdout",
     "output_type": "stream",
     "text": [
      "0\n"
     ]
    }
   ],
   "source": [
    "my_string = \"\"\n",
    "length = len(my_string)\n",
    "print(length)"
   ]
  },
  {
   "cell_type": "code",
   "execution_count": 4,
   "metadata": {},
   "outputs": [
    {
     "name": "stdout",
     "output_type": "stream",
     "text": [
      "2\n"
     ]
    }
   ],
   "source": [
    "my_string = \"-1\"\n",
    "length = len(my_string)\n",
    "print(length)"
   ]
  },
  {
   "cell_type": "markdown",
   "metadata": {},
   "source": [
    "## ***String Index***\n",
    "Each character in a string has a position. This is its index. Indexes always start with `0`.\n",
    "![](https://apollo-media.codio.com/media%2F1%2F5767cf91878180a30242cd81dc1dee38-ca2b0b77-e0f9-41e7-9b5c-6b4780f360cf.webp)"
   ]
  },
  {
   "cell_type": "markdown",
   "metadata": {},
   "source": [
    "#### **Strings & Quotation Marks**\n",
    "Quotation marks are required to declare the value of a string. However, quotation marks are not a part of the string itself. That is why quotation marks are not counted with the `len` function and why they do not have an index.\n",
    "\n",
    "To reference a character, use the string name, followed by square brackets (`[]`), and put the index between the square brackets.\n",
    "![](https://apollo-media.codio.com/media%2F1%2Fd3b4656dc657b604716f66fa03830dfb-baec0681-6b49-4b30-aa37-989115cfff88.webp)"
   ]
  },
  {
   "cell_type": "code",
   "execution_count": 5,
   "metadata": {},
   "outputs": [
    {
     "name": "stdout",
     "output_type": "stream",
     "text": [
      "a\n"
     ]
    }
   ],
   "source": [
    "my_string = \"Param\"\n",
    "character = my_string[1]\n",
    "print(character)"
   ]
  },
  {
   "cell_type": "markdown",
   "metadata": {},
   "source": [
    "### ** What happens if you:\n",
    "- Change `character` to `my_string[len(my_string)]`?\n",
    "- Change `character` to `my_string[len(my_string) - 1]`?\n",
    "- Change `character` to `my_string[-1]`?"
   ]
  },
  {
   "cell_type": "code",
   "execution_count": 7,
   "metadata": {},
   "outputs": [
    {
     "ename": "IndexError",
     "evalue": "string index out of range",
     "output_type": "error",
     "traceback": [
      "\u001b[1;31m---------------------------------------------------------------------------\u001b[0m",
      "\u001b[1;31mIndexError\u001b[0m                                Traceback (most recent call last)",
      "\u001b[1;32mc:\\Users\\vpram\\Python Specialization\\Course 2\\Week 2\\1 String Basics\\1 String Properties.ipynb Cell 12'\u001b[0m in \u001b[0;36m<module>\u001b[1;34m\u001b[0m\n\u001b[1;32m----> <a href='vscode-notebook-cell:/c%3A/Users/vpram/Python%20Specialization/Course%202/Week%202/1%20String%20Basics/1%20String%20Properties.ipynb#ch0000017?line=0'>1</a>\u001b[0m character \u001b[39m=\u001b[39m my_string[\u001b[39mlen\u001b[39;49m(my_string)]\n\u001b[0;32m      <a href='vscode-notebook-cell:/c%3A/Users/vpram/Python%20Specialization/Course%202/Week%202/1%20String%20Basics/1%20String%20Properties.ipynb#ch0000017?line=1'>2</a>\u001b[0m \u001b[39mprint\u001b[39m(character)\n",
      "\u001b[1;31mIndexError\u001b[0m: string index out of range"
     ]
    }
   ],
   "source": [
    "character = my_string[len(my_string)]\n",
    "print(character)"
   ]
  },
  {
   "cell_type": "code",
   "execution_count": 6,
   "metadata": {},
   "outputs": [
    {
     "name": "stdout",
     "output_type": "stream",
     "text": [
      "m\n"
     ]
    }
   ],
   "source": [
    "character = my_string[len(my_string)-1]\n",
    "print(character)"
   ]
  },
  {
   "cell_type": "code",
   "execution_count": 8,
   "metadata": {},
   "outputs": [
    {
     "name": "stdout",
     "output_type": "stream",
     "text": [
      "m\n"
     ]
    }
   ],
   "source": [
    "character = my_string[-1]\n",
    "print(character)"
   ]
  },
  {
   "cell_type": "markdown",
   "metadata": {},
   "source": [
    "### ***Reading Question***\n",
    "Answer the following questions about strings by filling in the blanks.\n",
    "\n",
    "Strings are composed of a sequence of `characters`.\n",
    "All strings have a `length`.\n",
    "Individual characters are referenced with an `index`.\n",
    "\n",
    "\n",
    "    Here are the three properties of strings:\n",
    "    1. All strings are a sequence of characters\n",
    "    2. All strings have a length (the total number of characters).\n",
    "    3. Characters in a string are referenced with an index."
   ]
  }
 ],
 "metadata": {
  "kernelspec": {
   "display_name": "Python 3.10.4 64-bit",
   "language": "python",
   "name": "python3"
  },
  "language_info": {
   "codemirror_mode": {
    "name": "ipython",
    "version": 3
   },
   "file_extension": ".py",
   "mimetype": "text/x-python",
   "name": "python",
   "nbconvert_exporter": "python",
   "pygments_lexer": "ipython3",
   "version": "3.10.4"
  },
  "orig_nbformat": 4,
  "vscode": {
   "interpreter": {
    "hash": "12d9efd1b418ad7485587f2da0512ee7fc7c20b6462fdb2a696d6f33bbf19b58"
   }
  }
 },
 "nbformat": 4,
 "nbformat_minor": 2
}
