{
 "cells": [
  {
   "cell_type": "markdown",
   "metadata": {},
   "source": [
    "# ***Escape Characters***\n",
    "## **Escape Characters**\n",
    "An escape character is a character that has a different interpretation that what you see in a string. Escape characters always start with a backslash (`\\`). The most common escape character is the newline character (`\\n`) which causes Python to print on the next line."
   ]
  },
  {
   "cell_type": "code",
   "execution_count": 1,
   "metadata": {},
   "outputs": [
    {
     "name": "stdout",
     "output_type": "stream",
     "text": [
      "hello\n",
      "world\n"
     ]
    }
   ],
   "source": [
    "my_string = \"hello\\nworld\"\n",
    "print(my_string)"
   ]
  },
  {
   "cell_type": "markdown",
   "metadata": {},
   "source": [
    "| Escape Character     | Description                 | Example                |\n",
    "|----------------------|-----------------------------|------------------------|\n",
    "|        **\\\\\\\\**      | Prints  a backslash         | print(\"\\\\\")            |\n",
    "|        **\\'**        | Prints a single quote       | print(\"\\'\")            |\n",
    "|        **\\\"**        | Prints double quotes        | print(\"\\\"\")            |\n",
    "|        **\\\\\\\\t**     | Prints a tab                | print(\"Hello\\tworld\")  |\n",
    "|    **\\\\\\\\uxxxx**     | Prints a hexadecimal unicode character | print(\"\\u26BE)|"
   ]
  }
 ],
 "metadata": {
  "kernelspec": {
   "display_name": "Python 3.10.4 64-bit",
   "language": "python",
   "name": "python3"
  },
  "language_info": {
   "codemirror_mode": {
    "name": "ipython",
    "version": 3
   },
   "file_extension": ".py",
   "mimetype": "text/x-python",
   "name": "python",
   "nbconvert_exporter": "python",
   "pygments_lexer": "ipython3",
   "version": "3.10.4"
  },
  "orig_nbformat": 4,
  "vscode": {
   "interpreter": {
    "hash": "12d9efd1b418ad7485587f2da0512ee7fc7c20b6462fdb2a696d6f33bbf19b58"
   }
  }
 },
 "nbformat": 4,
 "nbformat_minor": 2
}
