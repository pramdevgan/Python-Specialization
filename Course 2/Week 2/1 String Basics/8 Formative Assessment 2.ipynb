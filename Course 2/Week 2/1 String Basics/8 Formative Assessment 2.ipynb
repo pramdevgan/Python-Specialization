{
 "cells": [
  {
   "cell_type": "markdown",
   "metadata": {},
   "source": [
    "# ***Formative Assessment 2***\n",
    "## **String Basics**\n",
    "Select all of the print statements below that will produce the following output:\n",
    "```\n",
    "I am the first line,\n",
    "I am the second,\n",
    "and I am the third line!\n",
    "```\n",
    "**Hint**, there are more than one correct answer.\n",
    "\n",
    "\n",
    "- ***`print(“I am the first line,\\nI am the second,\\nand I am the third line!”)`***\n",
    "\n",
    "- `print(“I am the first line,` <br>\n",
    "  `I am the second,` <br>\n",
    "  `and I am the third line!”)` <br>\n",
    "\n",
    "- ***`print(“\"\"I am the first line,`*** <br>\n",
    "  ***`I am the second,`*** <br>\n",
    "  ***`and I am the third line!\"\"”)`*** <br>\n",
    "\n",
    "- `print(“I am the first line, \\` <br>\n",
    "  `I am the second, \\` <br>\n",
    "  `and I am the third line!”)` <br>"
   ]
  },
  {
   "cell_type": "markdown",
   "metadata": {},
   "source": [
    "##### **Option 1**\n",
    "This is a correct answer because `\\n` is the escape character for a newline.\n",
    "\n",
    "#### **Option 2**\n",
    "This is not a correct answer because a `print` statement with one quotation mark must be on one line of code.\n",
    "\n",
    "#### **Option 3**\n",
    "This is a correct answer because using triple quotation marks (`\"\"\"`) will preserve whitespace and line breaks.\n",
    "\n",
    "#### **Option 4**\n",
    "This is not a correct answer because this will print everything on one line. Using the `\\` character allows you to have your `print` statement on several different lines, but the output will be on one line."
   ]
  },
  {
   "cell_type": "code",
   "execution_count": 6,
   "metadata": {},
   "outputs": [
    {
     "name": "stdout",
     "output_type": "stream",
     "text": [
      "I am the first line,\n",
      "I am the second,\n",
      "and I am the third line!\n"
     ]
    }
   ],
   "source": [
    "print(\"I am the first line,\\nI am the second,\\nand I am the third line!\")"
   ]
  },
  {
   "cell_type": "code",
   "execution_count": 3,
   "metadata": {},
   "outputs": [
    {
     "ename": "SyntaxError",
     "evalue": "unterminated string literal (detected at line 1) (2342830090.py, line 1)",
     "output_type": "error",
     "traceback": [
      "\u001b[1;36m  Input \u001b[1;32mIn [3]\u001b[1;36m\u001b[0m\n\u001b[1;33m    print(\"I am the first line,\u001b[0m\n\u001b[1;37m          ^\u001b[0m\n\u001b[1;31mSyntaxError\u001b[0m\u001b[1;31m:\u001b[0m unterminated string literal (detected at line 1)\n"
     ]
    }
   ],
   "source": [
    "print(\"I am the first line,\n",
    "I am the second,\n",
    "and I am the third line!\")"
   ]
  },
  {
   "cell_type": "code",
   "execution_count": 4,
   "metadata": {},
   "outputs": [
    {
     "name": "stdout",
     "output_type": "stream",
     "text": [
      "I am the first line,\n",
      "I am the second,\n",
      "and I am the third line!\n"
     ]
    }
   ],
   "source": [
    "print(\"\"\"I am the first line,\n",
    "I am the second,\n",
    "and I am the third line!\"\"\")"
   ]
  },
  {
   "cell_type": "code",
   "execution_count": 5,
   "metadata": {},
   "outputs": [
    {
     "name": "stdout",
     "output_type": "stream",
     "text": [
      "I am the first line, I am the second, and I am the third line!\n"
     ]
    }
   ],
   "source": [
    "print(\"I am the first line, \\\n",
    "I am the second, \\\n",
    "and I am the third line!\")"
   ]
  }
 ],
 "metadata": {
  "kernelspec": {
   "display_name": "Python 3.10.4 64-bit",
   "language": "python",
   "name": "python3"
  },
  "language_info": {
   "codemirror_mode": {
    "name": "ipython",
    "version": 3
   },
   "file_extension": ".py",
   "mimetype": "text/x-python",
   "name": "python",
   "nbconvert_exporter": "python",
   "pygments_lexer": "ipython3",
   "version": "3.10.4"
  },
  "orig_nbformat": 4,
  "vscode": {
   "interpreter": {
    "hash": "12d9efd1b418ad7485587f2da0512ee7fc7c20b6462fdb2a696d6f33bbf19b58"
   }
  }
 },
 "nbformat": 4,
 "nbformat_minor": 2
}
