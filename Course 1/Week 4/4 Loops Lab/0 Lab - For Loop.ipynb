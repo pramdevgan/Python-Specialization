{
 "cells": [
  {
   "cell_type": "markdown",
   "metadata": {},
   "source": [
    "# ***Lab - For Loop***\n",
    "### ***Tutorial Lab 1: Using the for loop***\n",
    "Use the text editor open in the left pane, and enter the following code:"
   ]
  },
  {
   "cell_type": "code",
   "execution_count": 1,
   "metadata": {},
   "outputs": [
    {
     "name": "stdout",
     "output_type": "stream",
     "text": [
      "Even\n",
      "Odd\n",
      "Even\n",
      "Odd\n",
      "Even\n",
      "Odd\n",
      "Even\n",
      "Odd\n",
      "Even\n",
      "Odd\n"
     ]
    }
   ],
   "source": [
    "for x in range(0,10):\n",
    "    if x % 2 == 0:\n",
    "        print(\"Even\")\n",
    "    else:\n",
    "        print(\"Odd\")"
   ]
  },
  {
   "cell_type": "markdown",
   "metadata": {},
   "source": [
    "1. The for loop runs through all the values from 0 to 10, specified in the range command.\n",
    "2. Then a comparison is made using an if statement.\n",
    "3. If x modulo 2 results in 0, then print Even.\n",
    "4. If x modulo 2 is any other number that is not 0, then print Odd."
   ]
  },
  {
   "cell_type": "markdown",
   "metadata": {},
   "source": [
    "#### ***Arrange the blocks below so that the output will be:***\n",
    "\n",
    "```\n",
    "Here is the word 'Hello' 15 times:\n",
    "Hello Hello Hello\n",
    "Hello Hello Hello\n",
    "Hello Hello Hello\n",
    "Hello Hello Hello\n",
    "Hello Hello Hello\n",
    "```\n",
    "\n",
    "        print(my_string)\n",
    "        my_string = \"Here is the word 'Hello' 15 times:\"\n",
    "        print(\"Hello \" * 3)\n",
    "        for i in range(0, 5):"
   ]
  },
  {
   "cell_type": "code",
   "execution_count": 3,
   "metadata": {},
   "outputs": [
    {
     "name": "stdout",
     "output_type": "stream",
     "text": [
      "Here is the word 'Hello' 15 times:\n",
      "Hello Hello Hello \n",
      "Hello Hello Hello \n",
      "Hello Hello Hello \n",
      "Hello Hello Hello \n",
      "Hello Hello Hello \n"
     ]
    }
   ],
   "source": [
    "my_string = \"Here is the word 'Hello' 15 times:\"\n",
    "print(my_string)\n",
    "for i in range(0,5):\n",
    "    print(\"Hello \" * 3)\n"
   ]
  },
  {
   "cell_type": "markdown",
   "metadata": {},
   "source": [
    "1. Declare the variable my_string\n",
    "2. Print my_string\n",
    "3. Create a for loop that runs 5 times\n",
    "4. Print Hello Hello Hello"
   ]
  }
 ],
 "metadata": {
  "interpreter": {
   "hash": "12d9efd1b418ad7485587f2da0512ee7fc7c20b6462fdb2a696d6f33bbf19b58"
  },
  "kernelspec": {
   "display_name": "Python 3.10.4 64-bit",
   "language": "python",
   "name": "python3"
  },
  "language_info": {
   "codemirror_mode": {
    "name": "ipython",
    "version": 3
   },
   "file_extension": ".py",
   "mimetype": "text/x-python",
   "name": "python",
   "nbconvert_exporter": "python",
   "pygments_lexer": "ipython3",
   "version": "3.10.4"
  },
  "orig_nbformat": 4
 },
 "nbformat": 4,
 "nbformat_minor": 2
}
