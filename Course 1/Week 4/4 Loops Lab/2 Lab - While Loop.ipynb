{
 "cells": [
  {
   "cell_type": "markdown",
   "metadata": {},
   "source": [
    "# ***Lab - While Loop***\n",
    "## **Tutorial Lab 3: The while loop**\n",
    "Use the text editor open in the left pane, and enter the following code:"
   ]
  },
  {
   "cell_type": "code",
   "execution_count": 1,
   "metadata": {},
   "outputs": [
    {
     "name": "stdout",
     "output_type": "stream",
     "text": [
      "0\n",
      "1\n",
      "2\n",
      "3\n",
      "4\n",
      "5\n",
      "6\n",
      "7\n",
      "8\n",
      "9\n",
      "while loop ended\n"
     ]
    }
   ],
   "source": [
    "counter = 0\n",
    "while (counter < 10):\n",
    "    print(counter)\n",
    "    counter = counter + 1\n",
    "print(\"while loop ended\")"
   ]
  },
  {
   "cell_type": "markdown",
   "metadata": {},
   "source": [
    "1. This loop will run as long as counter is less than 10.\n",
    "2. Each time the loop runs, the value of counter is printed to the screen.\n",
    "3. The value of counter is also incremented by 1.\n",
    "4. At the end, a statement is printed to the screen, indicating the while loop has ended.\n",
    "5. Recall that the while loop must have an exit condition. By incrementing the counter variable, we ensure that the loop will eventually end. If you do not increment counter in this loop, you will create an endless loop because counter will never reach 10 or greater."
   ]
  },
  {
   "cell_type": "markdown",
   "metadata": {},
   "source": [
    "### ***While predicates***\n",
    "True of False: the following code snippet is valid for a while loop.\n",
    "\n",
    "```\n",
    "while True:\n",
    "```\n",
    "- True <---- Correct Answer\n",
    "- False\n",
    "\n",
    "        while True: is a valid statement. It will create an infinite loop, so be sure to use a break statement in the body of the loop."
   ]
  }
 ],
 "metadata": {
  "interpreter": {
   "hash": "12d9efd1b418ad7485587f2da0512ee7fc7c20b6462fdb2a696d6f33bbf19b58"
  },
  "kernelspec": {
   "display_name": "Python 3.10.4 64-bit",
   "language": "python",
   "name": "python3"
  },
  "language_info": {
   "codemirror_mode": {
    "name": "ipython",
    "version": 3
   },
   "file_extension": ".py",
   "mimetype": "text/x-python",
   "name": "python",
   "nbconvert_exporter": "python",
   "pygments_lexer": "ipython3",
   "version": "3.10.4"
  },
  "orig_nbformat": 4
 },
 "nbformat": 4,
 "nbformat_minor": 2
}
