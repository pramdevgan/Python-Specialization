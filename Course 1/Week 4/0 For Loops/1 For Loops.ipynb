{
 "cells": [
  {
   "cell_type": "markdown",
   "metadata": {},
   "source": [
    "# **For Loops**\n",
    "### ***For Loop Syntax***\n",
    "Before you can start writing a loop, you need to be able to spot the pattern. Let’s take something simple:"
   ]
  },
  {
   "cell_type": "code",
   "execution_count": 2,
   "metadata": {},
   "outputs": [],
   "source": [
    "from metakernel import register_ipython_magics\n",
    "register_ipython_magics()"
   ]
  },
  {
   "cell_type": "code",
   "execution_count": 1,
   "metadata": {},
   "outputs": [
    {
     "name": "stdout",
     "output_type": "stream",
     "text": [
      "Hello\n",
      "Hello\n",
      "Hello\n",
      "Hello\n",
      "Hello\n"
     ]
    }
   ],
   "source": [
    "print(\"Hello\")\n",
    "print(\"Hello\")\n",
    "print(\"Hello\")\n",
    "print(\"Hello\")\n",
    "print(\"Hello\")"
   ]
  },
  {
   "cell_type": "markdown",
   "metadata": {},
   "source": [
    "The pattern is **print(\"Hello\")**, and it is repeated five times. Since we know that the loops needs to run exactly five times, a for loop is the way to go. Here is how you write a for loop that repeats five times. Use the code visualizer to see how a for loop works."
   ]
  },
  {
   "cell_type": "code",
   "execution_count": 4,
   "metadata": {},
   "outputs": [
    {
     "data": {
      "text/html": [
       "\n",
       "        <iframe\n",
       "            width=\"100%\"\n",
       "            height=\"500\"\n",
       "            src=\"https://pythontutor.com/iframe-embed.html#code=for%20i%20in%20range%285%29%3A%0A%20%20%20%20print%28%22Hello%22%29%0A&origin=opt-frontend.js&cumulative=false&heapPrimitives=false&textReferences=false&py=3&rawInputLstJSON=%5B%5D&curInstr=0&codeDivWidth=350&codeDivHeight=400\"\n",
       "            frameborder=\"0\"\n",
       "            allowfullscreen\n",
       "            \n",
       "        ></iframe>\n",
       "        "
      ],
      "text/plain": [
       "<IPython.lib.display.IFrame at 0x18157ffda50>"
      ]
     },
     "metadata": {},
     "output_type": "display_data"
    }
   ],
   "source": [
    "%%tutor\n",
    "for i in range(5):\n",
    "    print(\"Hello\")"
   ]
  },
  {
   "cell_type": "markdown",
   "metadata": {},
   "source": [
    "Like **conditionals**, for loops are code blocks. Instead of a **boolean** statement, you use the ***range*** function followed by a ***:***. All of the code that will be repeated needs to be indented."
   ]
  },
  {
   "cell_type": "markdown",
   "metadata": {},
   "source": [
    "### **Understanding** ***range***\n",
    "The expression **range(5)** will return a series of five numbers, but it is important to understand how Python does this. Enter the code below and run it."
   ]
  },
  {
   "cell_type": "code",
   "execution_count": 6,
   "metadata": {},
   "outputs": [
    {
     "data": {
      "text/html": [
       "\n",
       "        <iframe\n",
       "            width=\"100%\"\n",
       "            height=\"500\"\n",
       "            src=\"https://pythontutor.com/iframe-embed.html#code=for%20i%20in%20range%285%29%3A%0A%20%20%20%20print%28%22Loop%20%23%22%20%2B%20str%28i%29%29%0A&origin=opt-frontend.js&cumulative=false&heapPrimitives=false&textReferences=false&py=3&rawInputLstJSON=%5B%5D&curInstr=0&codeDivWidth=350&codeDivHeight=400\"\n",
       "            frameborder=\"0\"\n",
       "            allowfullscreen\n",
       "            \n",
       "        ></iframe>\n",
       "        "
      ],
      "text/plain": [
       "<IPython.lib.display.IFrame at 0x18157ffe2f0>"
      ]
     },
     "metadata": {},
     "output_type": "display_data"
    }
   ],
   "source": [
    "%%tutor\n",
    "for i in range(5):\n",
    "    print(\"Loop #\" + str(i))"
   ]
  },
  {
   "cell_type": "markdown",
   "metadata": {},
   "source": [
    "The loop ran five times, but the variable ***i*** did not start with 1. Instead it started with 0. Python, like most programming languages, starts counting with 0. Python will continue counting up to, but not including 5."
   ]
  },
  {
   "cell_type": "markdown",
   "metadata": {},
   "source": [
    "#### ***What happens if you:***\n",
    "- Change the print statement to print(\"Loop #\" + str(i + 1))?\n",
    "- Change the range statement to range(1,6): and the print statement to print(\"Loop #\" + str(i))?\n",
    "- Change the range statement to range(0, 10, 2):?\n",
    "- Change the range statement to range(10, 0, -1):?"
   ]
  },
  {
   "cell_type": "code",
   "execution_count": 7,
   "metadata": {},
   "outputs": [
    {
     "name": "stdout",
     "output_type": "stream",
     "text": [
      "Loop #1\n",
      "Loop #2\n",
      "Loop #3\n",
      "Loop #4\n",
      "Loop #5\n"
     ]
    }
   ],
   "source": [
    "for i in range(5):\n",
    "    print(\"Loop #\" + str(i + 1))"
   ]
  },
  {
   "cell_type": "code",
   "execution_count": 9,
   "metadata": {},
   "outputs": [
    {
     "name": "stdout",
     "output_type": "stream",
     "text": [
      "Loop #1\n",
      "Loop #2\n",
      "Loop #3\n",
      "Loop #4\n",
      "Loop #5\n"
     ]
    }
   ],
   "source": [
    "for i in range(1,6):\n",
    "    print(\"Loop #\" + str(i))"
   ]
  },
  {
   "cell_type": "code",
   "execution_count": 10,
   "metadata": {},
   "outputs": [
    {
     "name": "stdout",
     "output_type": "stream",
     "text": [
      "Loop #0\n",
      "Loop #2\n",
      "Loop #4\n",
      "Loop #6\n",
      "Loop #8\n"
     ]
    }
   ],
   "source": [
    "for i in range(0,10,2):\n",
    "    print(\"Loop #\" + str(i))"
   ]
  },
  {
   "cell_type": "code",
   "execution_count": 11,
   "metadata": {},
   "outputs": [
    {
     "name": "stdout",
     "output_type": "stream",
     "text": [
      "Loop #10\n",
      "Loop #9\n",
      "Loop #8\n",
      "Loop #7\n",
      "Loop #6\n",
      "Loop #5\n",
      "Loop #4\n",
      "Loop #3\n",
      "Loop #2\n",
      "Loop #1\n"
     ]
    }
   ],
   "source": [
    "for i in range(10,0,-1):\n",
    "    print(\"Loop #\" + str(i))"
   ]
  },
  {
   "cell_type": "markdown",
   "metadata": {},
   "source": [
    "#### ***Reading Question***\n",
    "Which one of the for loop below will run 10 times?\n",
    "\n",
    "\n",
    "- for i in range(9):\n",
    "- for i in range(0, 10, 2):\n",
    "- for i in range(1, 10):\n",
    "- for i in range(10): <---- Correct answer\n",
    "\n",
    "\n",
    "        The correct answer is: for i in range(10). For loops in Python loops start counting with 0 and run up to but not including the number in range. The loop with range(9) runs 9 times. When two numbers are used with range, the first number is the starting number. So range(1, 10) runs 9 times because it starts at one and goes to 9. Three numbers used with range mean the starting number, the stopping number, and the increment. So range(0, 10, 2) starts at 2, goes up to (but not including) 10, and increments by 2. This loop runs 5 times."
   ]
  },
  {
   "cell_type": "code",
   "execution_count": 16,
   "metadata": {},
   "outputs": [
    {
     "name": "stdout",
     "output_type": "stream",
     "text": [
      "0\n",
      "1\n",
      "2\n",
      "3\n",
      "4\n",
      "5\n",
      "6\n",
      "7\n",
      "8\n",
      "9\n"
     ]
    }
   ],
   "source": [
    "for i in range(10):\n",
    "    print(i)"
   ]
  }
 ],
 "metadata": {
  "interpreter": {
   "hash": "12d9efd1b418ad7485587f2da0512ee7fc7c20b6462fdb2a696d6f33bbf19b58"
  },
  "kernelspec": {
   "display_name": "Python 3.10.4 64-bit",
   "language": "python",
   "name": "python3"
  },
  "language_info": {
   "codemirror_mode": {
    "name": "ipython",
    "version": 3
   },
   "file_extension": ".py",
   "mimetype": "text/x-python",
   "name": "python",
   "nbconvert_exporter": "python",
   "pygments_lexer": "ipython3",
   "version": "3.10.4"
  },
  "orig_nbformat": 4
 },
 "nbformat": 4,
 "nbformat_minor": 2
}
