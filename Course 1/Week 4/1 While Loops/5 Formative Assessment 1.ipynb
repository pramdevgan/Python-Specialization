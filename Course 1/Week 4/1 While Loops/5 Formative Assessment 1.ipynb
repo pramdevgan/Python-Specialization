{
 "cells": [
  {
   "cell_type": "markdown",
   "metadata": {},
   "source": [
    "### ***Formative Assessment 1***\n",
    "Fill in the blanks below so that the loop prints Python ten times.\n",
    "\n",
    "```\n",
    "___   = 0\n",
    "while count  ___   10:\n",
    "    print(\"Python\")\n",
    "    count = count ___ 1\n",
    "```"
   ]
  },
  {
   "cell_type": "code",
   "execution_count": 4,
   "metadata": {},
   "outputs": [
    {
     "name": "stdout",
     "output_type": "stream",
     "text": [
      "0 Python\n",
      "1 Python\n",
      "2 Python\n",
      "3 Python\n",
      "4 Python\n",
      "5 Python\n",
      "6 Python\n",
      "7 Python\n",
      "8 Python\n",
      "9 Python\n"
     ]
    }
   ],
   "source": [
    "count = 0\n",
    "while count < 10:\n",
    "    print(str(count) + \" Python\")\n",
    "    count = count + 1"
   ]
  },
  {
   "cell_type": "markdown",
   "metadata": {},
   "source": [
    "    The first blank is count. You know this because in the while loop, Python is determining if count is less than 10. The second blank is <. Other boolean operators like > or == will not work. The condition would be false, and Python would not print. The third blank is +. The only way for this loop to end is for count to be greater than or equal to 10. Since count starts at 0, the variable must be incremented."
   ]
  }
 ],
 "metadata": {
  "interpreter": {
   "hash": "12d9efd1b418ad7485587f2da0512ee7fc7c20b6462fdb2a696d6f33bbf19b58"
  },
  "kernelspec": {
   "display_name": "Python 3.10.4 64-bit",
   "language": "python",
   "name": "python3"
  },
  "language_info": {
   "codemirror_mode": {
    "name": "ipython",
    "version": 3
   },
   "file_extension": ".py",
   "mimetype": "text/x-python",
   "name": "python",
   "nbconvert_exporter": "python",
   "pygments_lexer": "ipython3",
   "version": "3.10.4"
  },
  "orig_nbformat": 4
 },
 "nbformat": 4,
 "nbformat_minor": 2
}
