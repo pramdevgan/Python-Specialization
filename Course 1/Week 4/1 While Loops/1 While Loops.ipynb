{
 "cells": [
  {
   "cell_type": "markdown",
   "metadata": {},
   "source": [
    "# ***While Loops***\n",
    "While loops differ from for loops in several ways.\n",
    "\n",
    "While Loop                     |        For Loop      |\n",
    "-------------------------------|----------------------|     \n",
    "Runs as long as a **condition** is true |Runs a predetermined amount of times |\n",
    "You must declare a counting variable | Counting variable is automatically declared |\n",
    "You must increment the counting variable | The counting variable is already incremented |"
   ]
  },
  {
   "cell_type": "markdown",
   "metadata": {},
   "source": [
    "## ***While Loop Syntax***\n",
    "While loops, just like for loops, use a ***:*** and indent for all commands that should be repeated. Here is a while loops that prints “Hello” five times."
   ]
  },
  {
   "cell_type": "code",
   "execution_count": 1,
   "metadata": {},
   "outputs": [
    {
     "name": "stdout",
     "output_type": "stream",
     "text": [
      "Hello\n",
      "Hello\n",
      "Hello\n",
      "Hello\n",
      "Hello\n"
     ]
    }
   ],
   "source": [
    "count = 0 # counting variable\n",
    "while count < 5:\n",
    "    print(\"Hello\")\n",
    "    count = count + 1"
   ]
  },
  {
   "cell_type": "markdown",
   "metadata": {},
   "source": [
    "### ***What happens if you:***\n",
    "- Change the while statement to while count < 10:?\n",
    "- Change the last line of code to count = count + 2?\n",
    "- Change the while statement to while count < 0:?"
   ]
  },
  {
   "cell_type": "code",
   "execution_count": 2,
   "metadata": {},
   "outputs": [
    {
     "name": "stdout",
     "output_type": "stream",
     "text": [
      "Hello\n",
      "Hello\n",
      "Hello\n",
      "Hello\n",
      "Hello\n",
      "Hello\n",
      "Hello\n",
      "Hello\n",
      "Hello\n",
      "Hello\n"
     ]
    }
   ],
   "source": [
    "count = 0\n",
    "while count < 10:\n",
    "    print(\"Hello\")\n",
    "    count = count +1"
   ]
  },
  {
   "cell_type": "code",
   "execution_count": 3,
   "metadata": {},
   "outputs": [
    {
     "name": "stdout",
     "output_type": "stream",
     "text": [
      "Hello\n",
      "Hello\n",
      "Hello\n"
     ]
    }
   ],
   "source": [
    "count = 0\n",
    "while count < 5:\n",
    "    print(\"Hello\")\n",
    "    count = count + 2"
   ]
  },
  {
   "cell_type": "code",
   "execution_count": 4,
   "metadata": {},
   "outputs": [],
   "source": [
    "count = 0\n",
    "while count < 0:\n",
    "    print(\"Hello\")\n",
    "    count = count + 1"
   ]
  },
  {
   "cell_type": "markdown",
   "metadata": {},
   "source": [
    "## ***Infinite Loops***\n",
    "Infinite loops are loops that never have a test condition that causes the loop to stop. For example, this is a common mistake:"
   ]
  },
  {
   "cell_type": "code",
   "execution_count": null,
   "metadata": {},
   "outputs": [],
   "source": [
    "count = 0\n",
    "while count < 5:\n",
    "    print(\"Hello\")"
   ]
  },
  {
   "cell_type": "markdown",
   "metadata": {},
   "source": [
    "Since the variable ***count*** never gets incremented. It remains 0, and 0 will forever be less than 5. So the loop will never stop."
   ]
  },
  {
   "cell_type": "markdown",
   "metadata": {},
   "source": [
    "    Run the code above to see what happens. Python will eventually stop the loop due to an output limit, but it will take some time before this happens. Since for loops run for a predetermined amount of time, you do not see infinite loops with them."
   ]
  },
  {
   "cell_type": "markdown",
   "metadata": {},
   "source": [
    "## ***Why Use a While Loop?***\n",
    "If a while loop does the same thing as a for loop and infinite loops can occur in a while loop, why use them? While loops are useful when you are waiting for a certain event to occur. Imagine you are making a video game. The game should continue until the player loses all of their lives. You don’t know how long this will take, so a while loop would be appropriate."
   ]
  },
  {
   "cell_type": "code",
   "execution_count": 1,
   "metadata": {},
   "outputs": [
    {
     "ename": "SyntaxError",
     "evalue": "incomplete input (2467160581.py, line 5)",
     "output_type": "error",
     "traceback": [
      "\u001b[1;36m  Input \u001b[1;32mIn [1]\u001b[1;36m\u001b[0m\n\u001b[1;33m    # goes here\u001b[0m\n\u001b[1;37m               ^\u001b[0m\n\u001b[1;31mSyntaxError\u001b[0m\u001b[1;31m:\u001b[0m incomplete input\n"
     ]
    }
   ],
   "source": [
    "player_lives = 3\n",
    "\n",
    "while player_lives > 0:\n",
    "    # video game code\n",
    "    # goes here"
   ]
  },
  {
   "cell_type": "markdown",
   "metadata": {},
   "source": [
    "Reading Question\n",
    "Fill in the blanks below with either while or for.\n",
    "\n",
    "- A **while** loop runs as long as a condition is true.\n",
    "- A **for** loop automatically increments the counting variable.\n",
    "- A **for** loop runs for a predetermined amount of times.\n",
    "- A **while** loop must declare a counting variable."
   ]
  }
 ],
 "metadata": {
  "interpreter": {
   "hash": "12d9efd1b418ad7485587f2da0512ee7fc7c20b6462fdb2a696d6f33bbf19b58"
  },
  "kernelspec": {
   "display_name": "Python 3.10.4 64-bit",
   "language": "python",
   "name": "python3"
  },
  "language_info": {
   "codemirror_mode": {
    "name": "ipython",
    "version": 3
   },
   "file_extension": ".py",
   "mimetype": "text/x-python",
   "name": "python",
   "nbconvert_exporter": "python",
   "pygments_lexer": "ipython3",
   "version": "3.10.4"
  },
  "orig_nbformat": 4
 },
 "nbformat": 4,
 "nbformat_minor": 2
}
