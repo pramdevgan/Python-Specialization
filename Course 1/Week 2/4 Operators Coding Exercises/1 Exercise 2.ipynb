{
 "cells": [
  {
   "cell_type": "markdown",
   "metadata": {},
   "source": [
    "### **Exercise 2**\n",
    "Given the variables below, determine which print statement would return **False**.\n",
    "```\n",
    "a = True or False\n",
    "b = False and True\n",
    "c = False and False\n",
    "```\n",
    "\n"
   ]
  },
  {
   "cell_type": "markdown",
   "metadata": {},
   "source": [
    "- print(not c and b or a)\n",
    "- print(a and b and c or True)\n",
    "- **print(not b and not a or not not c)** <---- **Correct Answer**\n",
    "- print(a or c and not b)"
   ]
  },
  {
   "cell_type": "markdown",
   "metadata": {},
   "source": [
    "The correct answer is:\n",
    "```\n",
    "print(not b and not a or not not c)\n",
    "```\n",
    "Here are the steps to resolve this expression:\n",
    "\n",
    "- print(True and not a or not not c)\n",
    "- print(True and False or not not c)\n",
    "- print(True and False or not True)\n",
    "- print(True and False or False)\n",
    "- print(False or False)\n",
    "- print(False)\n",
    "- False"
   ]
  },
  {
   "cell_type": "code",
   "execution_count": 1,
   "metadata": {},
   "outputs": [
    {
     "name": "stdout",
     "output_type": "stream",
     "text": [
      "True\n",
      "True\n",
      "False\n",
      "True\n"
     ]
    }
   ],
   "source": [
    "a = True or False\n",
    "b = False and True\n",
    "c = False and False\n",
    "print(not c and b or a)\n",
    "print(a and b and c or True)\n",
    "print(not b and not a or not not c)\n",
    "print(a or c and not b)"
   ]
  }
 ],
 "metadata": {
  "interpreter": {
   "hash": "12d9efd1b418ad7485587f2da0512ee7fc7c20b6462fdb2a696d6f33bbf19b58"
  },
  "kernelspec": {
   "display_name": "Python 3.10.4 64-bit",
   "language": "python",
   "name": "python3"
  },
  "language_info": {
   "codemirror_mode": {
    "name": "ipython",
    "version": 3
   },
   "file_extension": ".py",
   "mimetype": "text/x-python",
   "name": "python",
   "nbconvert_exporter": "python",
   "pygments_lexer": "ipython3",
   "version": "3.10.4"
  },
  "orig_nbformat": 4
 },
 "nbformat": 4,
 "nbformat_minor": 2
}
