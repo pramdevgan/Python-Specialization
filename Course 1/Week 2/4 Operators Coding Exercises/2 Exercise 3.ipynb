{
 "cells": [
  {
   "cell_type": "markdown",
   "metadata": {},
   "source": [
    "# ***Exercise 3**\n",
    "Test your code with the button below before submitting your work.\n",
    "\n",
    "**Exercise 3**\n",
    "\n",
    "Write a program that outputs **Hello world**. Your program must do the following things:\n",
    "\n",
    "- Use two variables, one with Hello and the other with world.\n",
    "- Use a single print statement."
   ]
  },
  {
   "cell_type": "code",
   "execution_count": 1,
   "metadata": {},
   "outputs": [
    {
     "name": "stdout",
     "output_type": "stream",
     "text": [
      "Hello world\n"
     ]
    }
   ],
   "source": [
    "a = \"Hello\"\n",
    "b = \" world\"\n",
    "print(a + b)"
   ]
  },
  {
   "cell_type": "markdown",
   "metadata": {},
   "source": [
    "There are many ways to solve this problem. The key is to use the + operator so you can concatenate the two string variables so that you only need one print statement. Here is on possible solution.\n",
    "```\n",
    "var_1 = \"Hello\"\n",
    "var_2 = \" world\"\n",
    "print(var_1 + var_2)\n",
    "```"
   ]
  }
 ],
 "metadata": {
  "interpreter": {
   "hash": "12d9efd1b418ad7485587f2da0512ee7fc7c20b6462fdb2a696d6f33bbf19b58"
  },
  "kernelspec": {
   "display_name": "Python 3.10.4 64-bit",
   "language": "python",
   "name": "python3"
  },
  "language_info": {
   "codemirror_mode": {
    "name": "ipython",
    "version": 3
   },
   "file_extension": ".py",
   "mimetype": "text/x-python",
   "name": "python",
   "nbconvert_exporter": "python",
   "pygments_lexer": "ipython3",
   "version": "3.10.4"
  },
  "orig_nbformat": 4
 },
 "nbformat": 4,
 "nbformat_minor": 2
}
