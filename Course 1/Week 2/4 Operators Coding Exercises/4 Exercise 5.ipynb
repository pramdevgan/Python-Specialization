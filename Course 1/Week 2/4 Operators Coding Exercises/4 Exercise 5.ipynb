{
 "cells": [
  {
   "cell_type": "markdown",
   "metadata": {},
   "source": [
    "## **Exercise 5**\n",
    "Test your code with the button below before submitting your work.\n",
    "\n",
    "Declare the variable **a** with the value **3.0**. Declare the variable **b** with the value **\"2\"**. Print **a** plus **b**, but have the output be *5*.\n"
   ]
  },
  {
   "cell_type": "code",
   "execution_count": 1,
   "metadata": {},
   "outputs": [
    {
     "name": "stdout",
     "output_type": "stream",
     "text": [
      "5\n"
     ]
    }
   ],
   "source": [
    "a = 3.0\n",
    "b = \"2\"\n",
    "print(int(a)+ int(b))"
   ]
  },
  {
   "cell_type": "markdown",
   "metadata": {},
   "source": [
    "You are asked to add a float to a string and print an integer. You need to be able to typecast a and b so that the result is 5.\n",
    "\n",
    "```\n",
    "a = 3.0\n",
    "b = \"2\"\n",
    "print(int(a) + int(b))\n",
    "```"
   ]
  }
 ],
 "metadata": {
  "interpreter": {
   "hash": "12d9efd1b418ad7485587f2da0512ee7fc7c20b6462fdb2a696d6f33bbf19b58"
  },
  "kernelspec": {
   "display_name": "Python 3.10.4 64-bit",
   "language": "python",
   "name": "python3"
  },
  "language_info": {
   "codemirror_mode": {
    "name": "ipython",
    "version": 3
   },
   "file_extension": ".py",
   "mimetype": "text/x-python",
   "name": "python",
   "nbconvert_exporter": "python",
   "pygments_lexer": "ipython3",
   "version": "3.10.4"
  },
  "orig_nbformat": 4
 },
 "nbformat": 4,
 "nbformat_minor": 2
}
