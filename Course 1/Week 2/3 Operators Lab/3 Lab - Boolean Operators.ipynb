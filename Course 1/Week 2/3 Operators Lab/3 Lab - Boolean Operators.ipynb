{
 "cells": [
  {
   "cell_type": "markdown",
   "metadata": {},
   "source": [
    "# **Lab - Boolean Operators**\n",
    "## **Tutorial Lab 4: Boolean Operators**\n",
    "Boolean operators are those operators which will return either true or false.\n"
   ]
  },
  {
   "cell_type": "markdown",
   "metadata": {},
   "source": [
    "Operation                |     Symbol |                            Notes                                 |\n",
    "-------------------------|------------|------------------------------------------------------------------|\n",
    "Equal                    |    ==      | The = operator is assignment operator, not the equality operator |\n",
    "Not equal to             |    !=      |                                                                  |\n",
    "Less than                |    <       |                                                                  |\n",
    "Less than or equal to    |    <=      |                                                                  |\n",
    "Greater than             |    >       |                                                                  |\n",
    "Greater than or equal to |    >=      |                                                                  |\n",
    "And                      |  **and**   |Compares two boolean expressions. Both must be true for the whole to be true. Everything else is false.|\n",
    "Or                       |  **or**    |Compares two boolean expressions. Both must be false for the whole to be false. Everything else is true.|\n",
    "Not                      |  **not**   | Returns the opposite of a boolean expression. |\n",
    "\n",
    "\n",
    "\n",
    "Use the text editor open in the left pane, and enter the following code:"
   ]
  },
  {
   "cell_type": "markdown",
   "metadata": {},
   "source": [
    "Unfortunately, the code visualizer is not very helpful. It executes an entire line of code, so you will not see each of the boolean expressions being evaluated. Below are the steps that Python talks when evaluating the code above.\n",
    "\n",
    "1. (5 > 7) and (False or 1 < 9) or 4 != 5 and not 2 >= 3\n",
    "2. False and (False or 1 < 9) or 4 != 5 and not 2 >= 3\n",
    "3. False and (False or True) or 4 != 5 and not 2 >= 3\n",
    "4. False and True or 4 != 5 and not 2 >= 3\n",
    "5. False and True or True and not 2 >= 3\n",
    "6. False and True or True and not False\n",
    "7. False and True or True and True\n",
    "8. False or True and True\n",
    "9. True and True\n",
    "10. True"
   ]
  },
  {
   "cell_type": "markdown",
   "metadata": {},
   "source": [
    "## **What is the result of the following expression?**\n",
    "```\n",
    "not (5 != 3) and (5 % 3 >= 2)\n",
    "```\n",
    "\n",
    "- True\n",
    "- False"
   ]
  },
  {
   "cell_type": "code",
   "execution_count": 2,
   "metadata": {},
   "outputs": [
    {
     "name": "stdout",
     "output_type": "stream",
     "text": [
      "False\n"
     ]
    }
   ],
   "source": [
    "print(not (5 != 3) and (5 % 3 >= 2))"
   ]
  },
  {
   "cell_type": "markdown",
   "metadata": {},
   "source": [
    "Starting with parentheses, 5 != 3 is True. So not True would be False. Using the short circuit principal, we can stop evaluating the problem. Because we are using the and operator, both boolean expressions must be true for it to return True. Since we have False for the first expression, it cannot be true."
   ]
  }
 ],
 "metadata": {
  "interpreter": {
   "hash": "12d9efd1b418ad7485587f2da0512ee7fc7c20b6462fdb2a696d6f33bbf19b58"
  },
  "kernelspec": {
   "display_name": "Python 3.10.4 64-bit",
   "language": "python",
   "name": "python3"
  },
  "language_info": {
   "codemirror_mode": {
    "name": "ipython",
    "version": 3
   },
   "file_extension": ".py",
   "mimetype": "text/x-python",
   "name": "python",
   "nbconvert_exporter": "python",
   "pygments_lexer": "ipython3",
   "version": "3.10.4"
  },
  "orig_nbformat": 4
 },
 "nbformat": 4,
 "nbformat_minor": 2
}
