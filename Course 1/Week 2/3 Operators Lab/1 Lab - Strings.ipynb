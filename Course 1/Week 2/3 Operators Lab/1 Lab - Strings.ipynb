{
 "cells": [
  {
   "cell_type": "markdown",
   "metadata": {},
   "source": [
    "# **Lab - Strings**\n",
    "## **Tutorial Lab 2: Strings**\n",
    "You can use the + and * operators with strings, even though the result is not based on math. Using the + operator with strings is called concatenation.\n",
    "Use the text editor open in the left pane, and enter the following code:"
   ]
  },
  {
   "cell_type": "code",
   "execution_count": 1,
   "metadata": {},
   "outputs": [],
   "source": [
    "from metakernel import register_ipython_magics\n",
    "register_ipython_magics()"
   ]
  },
  {
   "cell_type": "code",
   "execution_count": 3,
   "metadata": {},
   "outputs": [
    {
     "data": {
      "text/html": [
       "\n",
       "        <iframe\n",
       "            width=\"100%\"\n",
       "            height=\"500\"\n",
       "            src=\"https://pythontutor.com/iframe-embed.html#code=string_1%20%3D%20%22hip%20%22%0Astring_2%20%3D%20string_1%20%2A%202%0Astring_3%20%3D%20%22hoo%22%0Astring_4%20%3D%20%22ray%21%22%0Astring_5%20%3D%20string_3%20%2B%20string_4%0Aprint%28string_2%2C%20end%3D%27%27%29%0Aprint%28string_5%29%0A&origin=opt-frontend.js&cumulative=false&heapPrimitives=false&textReferences=false&py=3&rawInputLstJSON=%5B%5D&curInstr=0&codeDivWidth=350&codeDivHeight=400\"\n",
       "            frameborder=\"0\"\n",
       "            allowfullscreen\n",
       "            \n",
       "        ></iframe>\n",
       "        "
      ],
      "text/plain": [
       "<IPython.lib.display.IFrame at 0x1cddae06590>"
      ]
     },
     "metadata": {},
     "output_type": "display_data"
    }
   ],
   "source": [
    "%%tutor\n",
    "string_1 = \"hip \"\n",
    "string_2 = string_1 * 2\n",
    "string_3 = \"hoo\"\n",
    "string_4 = \"ray!\"\n",
    "string_5 = string_3 + string_4\n",
    "print(string_2, end='')\n",
    "print(string_5)"
   ]
  },
  {
   "cell_type": "markdown",
   "metadata": {},
   "source": [
    "To see what is happening in these operations, click above. Click on the Forward > button to see how the calculations progress step by step.\n",
    "1. Assign the value \"hip \" to the variable string_1. Note the inclusion of a space after the word hip.\n",
    "2. The variable string_2 will have the value \"hip hip \" because string_1 * 2 repeats the value of string_1 two times.\n",
    "3. Declare string_3 and assign it the value hoo.\n",
    "4. Declare string_4 and assign it the value ray!.\n",
    "5. Declare string_5 and assign it the value of string_3 combined with the value of string_4 (hooray!).\n",
    "6. Print the value of string_2 (hip hip) and also remove the newline character.\n",
    "7. Print the value of string_5 (hooray!) to the end of string_2."
   ]
  },
  {
   "cell_type": "markdown",
   "metadata": {},
   "source": [
    "Lab Question\n",
    "Which of the following operators cannot be used with strings?\n",
    "- \\+\n",
    "- \\*\n",
    "- / <-----**Correct Answer**\n",
    "\n",
    "The / (division) operator can only be used with numbers. When used with strings, the + operator becomes concatenation and the * operator repeats a string.\n",
    "\n",
    "Check It!"
   ]
  },
  {
   "cell_type": "markdown",
   "metadata": {},
   "source": []
  }
 ],
 "metadata": {
  "interpreter": {
   "hash": "12d9efd1b418ad7485587f2da0512ee7fc7c20b6462fdb2a696d6f33bbf19b58"
  },
  "kernelspec": {
   "display_name": "Python 3.10.4 64-bit",
   "language": "python",
   "name": "python3"
  },
  "language_info": {
   "codemirror_mode": {
    "name": "ipython",
    "version": 3
   },
   "file_extension": ".py",
   "mimetype": "text/x-python",
   "name": "python",
   "nbconvert_exporter": "python",
   "pygments_lexer": "ipython3",
   "version": "3.10.4"
  },
  "orig_nbformat": 4
 },
 "nbformat": 4,
 "nbformat_minor": 2
}
