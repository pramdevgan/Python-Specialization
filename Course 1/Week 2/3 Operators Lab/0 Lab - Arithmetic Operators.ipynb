{
 "cells": [
  {
   "cell_type": "markdown",
   "metadata": {},
   "source": [
    "# **Lab - Arithmetic Operators**\n",
    "## Tutorial Lab 1: Arithmetic Operators\n",
    "Arithmetic operations in Python are mostly the same as what you learned in math class. However, the symbols used in Python can be different."
   ]
  },
  {
   "cell_type": "markdown",
   "metadata": {},
   "source": [
    "Operation           |  Symbol  |               Noes                                 |\n",
    "--------------------|----------|------------------------------------------------    |\n",
    "Addition            |    +     |                                                    |\n",
    "Subtraction         |    -     |                                                    |\n",
    "Multiplication      |    *     |                                                    |\n",
    "Division            |    /     |                                                    |\n",
    "Floor Division      |   //     |  Always returns a float                            |\n",
    "Power(exponent)     |   **     |  Truncate the answer to be an integer              |\n",
    "Modulo              |    %     |  Returns the remainder after division is performed |"
   ]
  },
  {
   "cell_type": "code",
   "execution_count": 4,
   "metadata": {},
   "outputs": [],
   "source": [
    "from metakernel import register_ipython_magics\n",
    "register_ipython_magics()"
   ]
  },
  {
   "cell_type": "code",
   "execution_count": 5,
   "metadata": {},
   "outputs": [
    {
     "data": {
      "text/html": [
       "\n",
       "        <iframe\n",
       "            width=\"100%\"\n",
       "            height=\"500\"\n",
       "            src=\"https://pythontutor.com/iframe-embed.html#code=print%2810%20%2B%205%29%0Aprint%2810%20-%205%29%0Aprint%2810%20%2A%205%29%0Aprint%2810%20/%205%29%0Aprint%2810%20//%203%29%0Aprint%2810%20%25%203%29%0A&origin=opt-frontend.js&cumulative=false&heapPrimitives=false&textReferences=false&py=3&rawInputLstJSON=%5B%5D&curInstr=0&codeDivWidth=350&codeDivHeight=400\"\n",
       "            frameborder=\"0\"\n",
       "            allowfullscreen\n",
       "            \n",
       "        ></iframe>\n",
       "        "
      ],
      "text/plain": [
       "<IPython.lib.display.IFrame at 0x2d83d384910>"
      ]
     },
     "metadata": {},
     "output_type": "display_data"
    }
   ],
   "source": [
    "%%tutor\n",
    "print(10 + 5)\n",
    "print(10 - 5)\n",
    "print(10 * 5)\n",
    "print(10 / 5)\n",
    "print(10 // 3)\n",
    "print(10 % 3)"
   ]
  },
  {
   "cell_type": "markdown",
   "metadata": {},
   "source": [
    "To see what is happening in these calculations, click here. Click on the Forward > button to see how the calculations progress step by step.\n",
    "1. Addition works as expected.\n",
    "2. Subtraction works as expected.\n",
    "3. Multiplication works as expected.\n",
    "4. Division will always return a float, even if you are dividing two integers.\n",
    "5. Floor division returns 3 because everything after the decimal point is ignored. The result is not rounded up or down.\n",
    "6. Modulo returns 1 because that is the remainder (not the decimal) after division is performed."
   ]
  },
  {
   "cell_type": "markdown",
   "metadata": {},
   "source": [
    "## **Identify the operators that match the given description**\n",
    "\n",
    "\"*\" is the operator for multiplication\n",
    "\n",
    "% is the operator for modulo\n",
    "\n",
    "// is the operator for floor division (returns an integer)\n",
    "\n",
    "- \"*\" is the operator for multiplication\n",
    "- % is the operator for modulo\n",
    "- // is the operator for floor division"
   ]
  }
 ],
 "metadata": {
  "interpreter": {
   "hash": "12d9efd1b418ad7485587f2da0512ee7fc7c20b6462fdb2a696d6f33bbf19b58"
  },
  "kernelspec": {
   "display_name": "Python 3.10.4 64-bit",
   "language": "python",
   "name": "python3"
  },
  "language_info": {
   "codemirror_mode": {
    "name": "ipython",
    "version": 3
   },
   "file_extension": ".py",
   "mimetype": "text/x-python",
   "name": "python",
   "nbconvert_exporter": "python",
   "pygments_lexer": "ipython3",
   "version": "3.10.4"
  },
  "orig_nbformat": 4
 },
 "nbformat": 4,
 "nbformat_minor": 2
}
