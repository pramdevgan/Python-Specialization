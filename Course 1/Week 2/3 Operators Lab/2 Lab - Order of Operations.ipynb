{
 "cells": [
  {
   "cell_type": "markdown",
   "metadata": {},
   "source": [
    "# **Lab - Order of Operations**\n",
    "### **Tutorial Lab 3: Order of Operations**\n",
    "Python uses PEMDAS when determining the order of operations.\n",
    "![](https://apollo-media.codio.com/media/1/d324ba7d6df7e53481310f3f7b3da2e3-78fab70a-7183-4b5f-b7ef-a1c6b1873291.webp)\n",
    "\n",
    "#### **Modulo and PEMDAS**\n",
    "Since modulo is based on division, modulo operations happen at the time of multiplication and division, going from left to right.\n",
    "\n",
    "Use the text editor open in the left pane, and enter the following code:"
   ]
  },
  {
   "cell_type": "code",
   "execution_count": 1,
   "metadata": {},
   "outputs": [
    {
     "name": "stdout",
     "output_type": "stream",
     "text": [
      "88\n"
     ]
    }
   ],
   "source": [
    "print(5 * 8 // 3 + (18 - 8) ** 2 - 25)"
   ]
  },
  {
   "cell_type": "markdown",
   "metadata": {},
   "source": [
    "Unfortunately, the **code visualizer** is not very helpful. It executes an entire line of code, so you will not see the order of operations. Below are the steps that Python takes when evaluating the code above.\n",
    "1. 5 * 8 // 3 + (18 - 8) ** 2 - 25\n",
    "2. 5 * 8 // 3 + 10 ** 2 - 25\n",
    "3. 5 * 8 // 3 + 100 - 25\n",
    "4. 40 // 3 + 100 - 25\n",
    "5. 13 + 100 - 25\n",
    "6. 113 - 25\n",
    "7. 88"
   ]
  },
  {
   "cell_type": "markdown",
   "metadata": {},
   "source": [
    "Order of Operations\n",
    "Looking at the expression below, identify the order of operations.\n",
    "```\n",
    "(1 + 2) * 4 ** 2 - 10\n",
    "```\n",
    "- Step 1: 1 + 2\n",
    "- Step 2: 4 ** 2\n",
    "- Step 3: 3 * 16\n",
    "- Step 4: 48 - 10\n",
    "\n",
    "1. 1 + 2 comes first because it is inside of parentheses.\n",
    "2. 4 ** 2 is second because it is an exponent (a power)\n",
    "3. 3 * 16 is the third step because multiplication and division come after exponents\n",
    "4. 48 - 10 is final step because addition and subtraction come last in order of operation"
   ]
  }
 ],
 "metadata": {
  "interpreter": {
   "hash": "12d9efd1b418ad7485587f2da0512ee7fc7c20b6462fdb2a696d6f33bbf19b58"
  },
  "kernelspec": {
   "display_name": "Python 3.10.4 64-bit",
   "language": "python",
   "name": "python3"
  },
  "language_info": {
   "codemirror_mode": {
    "name": "ipython",
    "version": 3
   },
   "file_extension": ".py",
   "mimetype": "text/x-python",
   "name": "python",
   "nbconvert_exporter": "python",
   "pygments_lexer": "ipython3",
   "version": "3.10.4"
  },
  "orig_nbformat": 4
 },
 "nbformat": 4,
 "nbformat_minor": 2
}
