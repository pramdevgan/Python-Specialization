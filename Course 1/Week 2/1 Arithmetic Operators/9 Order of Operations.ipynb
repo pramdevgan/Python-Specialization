{
 "cells": [
  {
   "cell_type": "markdown",
   "metadata": {},
   "source": [
    "## ***Order of Operations***\n",
    "Python uses the PEMDAS method for determining order of operations.\n",
    "![](https://apollo-media.codio.com/media%2F1%2Fd324ba7d6df7e53481310f3f7b3da2e3-78fab70a-7183-4b5f-b7ef-a1c6b1873291.webp)"
   ]
  },
  {
   "cell_type": "code",
   "execution_count": 1,
   "metadata": {},
   "outputs": [
    {
     "name": "stdout",
     "output_type": "stream",
     "text": [
      "7.0\n"
     ]
    }
   ],
   "source": [
    "a = 2\n",
    "b = 3\n",
    "c = 4\n",
    "result = 3 * a ** 3 / (b + 5) + c\n",
    "print(result)"
   ]
  },
  {
   "cell_type": "markdown",
   "metadata": {},
   "source": [
    "## Explanation \n",
    "- The first step is to compute b + 5 (which is 8) because it is surrounded by parentheses.\n",
    "- Next, calculate a ** 3 (which is 8) because it is an exponent.\n",
    "- Next, do the multiplication and division going from left to right. 3 * 8 is 24.\n",
    "- `24` divided by 8 is 3.0 (remember, the / operator returns a float).\n",
    "- Finally, add 3.0 and 4 together to get 7.0."
   ]
  },
  {
   "cell_type": "code",
   "execution_count": 2,
   "metadata": {},
   "outputs": [
    {
     "name": "stdout",
     "output_type": "stream",
     "text": [
      "1.0\n"
     ]
    }
   ],
   "source": [
    "print(7.0 // 7)"
   ]
  },
  {
   "cell_type": "markdown",
   "metadata": {},
   "source": [
    "Reading Question\n",
    "Drag the blocks that reflect the order of operations for Python.\n",
    "\n",
    "Construct your solution here\n",
    "\n",
    "- Parentheses\n",
    "- Exponents\n",
    "- Multiplication & Division\n",
    "- Addition & Subtraction\n",
    "Python uses PEMDAS for order of operations: Parentheses, Exponents, Multiplication, Division, Addition, and Subtraction."
   ]
  }
 ],
 "metadata": {
  "interpreter": {
   "hash": "12d9efd1b418ad7485587f2da0512ee7fc7c20b6462fdb2a696d6f33bbf19b58"
  },
  "kernelspec": {
   "display_name": "Python 3 (ipykernel)",
   "language": "python",
   "name": "python3"
  },
  "language_info": {
   "codemirror_mode": {
    "name": "ipython",
    "version": 3
   },
   "file_extension": ".py",
   "mimetype": "text/x-python",
   "name": "python",
   "nbconvert_exporter": "python",
   "pygments_lexer": "ipython3",
   "version": "3.10.4"
  },
  "widgets": {
   "application/vnd.jupyter.widget-state+json": {
    "state": {},
    "version_major": 2,
    "version_minor": 0
   }
  }
 },
 "nbformat": 4,
 "nbformat_minor": 4
}
