{
 "cells": [
  {
   "cell_type": "markdown",
   "metadata": {},
   "source": [
    "# **Short Circuiting**\n",
    "## ***Short Circuiting***\n",
    "If Python can determine the result of a boolean expression before evaluating the entire thing, it will stop and return the value."
   ]
  },
  {
   "cell_type": "markdown",
   "metadata": {},
   "source": [
    "![](https://apollo-media.codio.com/media%2F1%2F1be3ef7f595c1c917941fe5f3683ba4c-23fa2e85-219d-40bb-b614-5b8840a9b749.webp)"
   ]
  },
  {
   "cell_type": "markdown",
   "metadata": {},
   "source": [
    "### ***Reading Question**\n",
    "Use the dropdown menus to complete the text below.\n",
    "\n",
    "- or **Operator**\n",
    "When using the *or* operator, Python checks to see if the first boolean expression is true. If it is true, Python returns true and ignores the second boolean expression. \n",
    "\n",
    "- and **Operator**\n",
    "When using the and operator, Python checks to see if the first boolean expression is false. If it is \n",
    "false, Python returns \n",
    "false and ignores the second boolean expression.\n",
    "```\n",
    "If the first boolean expression for the or operator is true, then the entire thing is true. The second boolean expression is ignored.\n",
    "\n",
    "If the first boolean expression for the and operator is false, then the entire thing is false. The second boolean expression is ignored.\n",
    "```"
   ]
  }
 ],
 "metadata": {
  "language_info": {
   "name": "python"
  },
  "orig_nbformat": 4
 },
 "nbformat": 4,
 "nbformat_minor": 2
}
