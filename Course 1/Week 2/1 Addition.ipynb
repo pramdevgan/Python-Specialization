{
 "cells": [
  {
   "cell_type": "markdown",
   "id": "caf6b7c5-1038-4f4c-b3c4-bf34d08efdf8",
   "metadata": {},
   "source": [
    "# The Addition (+) Operator\n",
    "The addition operator works as you would expect with numbers."
   ]
  },
  {
   "cell_type": "markdown",
   "id": "c291eb99-df7a-4a53-a2fc-865648d11f2b",
   "metadata": {},
   "source": [
    "print (7+3)"
   ]
  },
  {
   "cell_type": "markdown",
   "id": "41b5559a-1046-49b3-9e9b-d4aa0da4dce2",
   "metadata": {},
   "source": [
    "*You can also add two variables together.*"
   ]
  },
  {
   "cell_type": "code",
   "execution_count": 3,
   "id": "53805908-659e-4258-a4c0-1e781ee8cbf1",
   "metadata": {},
   "outputs": [
    {
     "name": "stdout",
     "output_type": "stream",
     "text": [
      "10\n"
     ]
    }
   ],
   "source": [
    "a = 7\n",
    "b = 3\n",
    "c = a + b\n",
    "print (c)"
   ]
  },
  {
   "cell_type": "markdown",
   "id": "cdb42a0b-7278-4b24-8665-bf24fac64ddc",
   "metadata": {},
   "source": [
    "## What happens if you:\n",
    "- Make a of type float (e.g. a = 7.0)?\n",
    "- Make b a negative number (e.g. b = -3)?\n",
    "- Make b an explicitly positive number (e.g. b = +3)"
   ]
  },
  {
   "cell_type": "code",
   "execution_count": 4,
   "id": "40323839-da81-43a3-b598-eecb52917c22",
   "metadata": {},
   "outputs": [
    {
     "name": "stdout",
     "output_type": "stream",
     "text": [
      "10.0\n"
     ]
    }
   ],
   "source": [
    "a = 7.0\n",
    "b = 3\n",
    "c = a + b\n",
    "print (c)"
   ]
  },
  {
   "cell_type": "code",
   "execution_count": 5,
   "id": "f260f3a7-6e62-4bb9-9025-d8d8971ee07c",
   "metadata": {},
   "outputs": [
    {
     "name": "stdout",
     "output_type": "stream",
     "text": [
      "4\n"
     ]
    }
   ],
   "source": [
    "a = 7\n",
    "b = -3\n",
    "c = a + b\n",
    "print (c)"
   ]
  },
  {
   "cell_type": "code",
   "execution_count": 6,
   "id": "5918d6de-977c-418f-a1fc-0770a913813a",
   "metadata": {},
   "outputs": [
    {
     "name": "stdout",
     "output_type": "stream",
     "text": [
      "10\n"
     ]
    }
   ],
   "source": [
    "a = 7\n",
    "b = +3\n",
    "c = a + b\n",
    "print (c)"
   ]
  },
  {
   "cell_type": "markdown",
   "id": "f835d6a0-08ba-4de5-8c21-493f56183124",
   "metadata": {},
   "source": [
    "### Reading Question\n",
    "What happens when you add an int and a float?\n",
    "- You get a syntax error\n",
    "- You get an int\n",
    "- You get a float  ***Correct Answer***\n",
    "\n",
    "Since a float can represent the same value as an integer (2.0 is the same value as 2), the result will be a float. For example:\n",
    "7.0 + 3 = 10.0"
   ]
  }
 ],
 "metadata": {
  "kernelspec": {
   "display_name": "Python 3 (ipykernel)",
   "language": "python",
   "name": "python3"
  },
  "language_info": {
   "codemirror_mode": {
    "name": "ipython",
    "version": 3
   },
   "file_extension": ".py",
   "mimetype": "text/x-python",
   "name": "python",
   "nbconvert_exporter": "python",
   "pygments_lexer": "ipython3",
   "version": "3.10.4"
  },
  "widgets": {
   "application/vnd.jupyter.widget-state+json": {
    "state": {},
    "version_major": 2,
    "version_minor": 0
   }
  }
 },
 "nbformat": 4,
 "nbformat_minor": 5
}
