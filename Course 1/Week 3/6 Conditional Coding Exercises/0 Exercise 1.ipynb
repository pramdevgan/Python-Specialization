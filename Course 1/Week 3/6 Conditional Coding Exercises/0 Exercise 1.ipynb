{
 "cells": [
  {
   "cell_type": "markdown",
   "metadata": {},
   "source": [
    "## ***Exercise 1***\n",
    "#### ***Conditionals Exercise 1***\n",
    "**Problem**\n",
    "Use the variable **x** as you write this program. **x** will represent a positive integer. Write a program that determines if **x** is between 0 and 25 or between 75 and 100. If yes, print the message:_ is between 0 and 25 or 75 and 100, where the blank would be the value of x. The program should do nothing if the value of x does not fit into either range.\n",
    "\n",
    "##### ***Expected Output***\n",
    "- If x is 8, then the output would be: 8 is between 0 and 25 or 75 and 100.\n",
    "- If x is 80, then the output would be: 80 is between 0 and 25 or 75 and 100.\n",
    "- If x is 50, then the output would be blank (your program does not print anything).\n",
    "\n",
    "##### ***Important***\n",
    "The variable **x** is already declared for you. Please **do not** modify the code on lines 5 and 6.\n",
    "\n",
    "###### ***Type Casting***\n",
    "Use the ***str(x)*** command to type cast the variable ***x*** as a string."
   ]
  },
  {
   "cell_type": "code",
   "execution_count": 4,
   "metadata": {},
   "outputs": [],
   "source": [
    "x = 50\n",
    "\n",
    "if ((x >= 0) and (x <= 25) or (x >=75) and (x <= 100)):\n",
    "    print(str(x) + \" is between 0 and 25 or 75 and 100\")"
   ]
  },
  {
   "cell_type": "markdown",
   "metadata": {},
   "source": [
    "Since you are testing if **x** is between two ranges, you need a compound conditional. Also, **x** can fall into either of the ranges, so use the **or** keyword to connect the two boolean expressions. Nothing is to be done if the compound conditional is false, so you do not need to use an else or elif. Here is one solution to the problem:"
   ]
  }
 ],
 "metadata": {
  "interpreter": {
   "hash": "12d9efd1b418ad7485587f2da0512ee7fc7c20b6462fdb2a696d6f33bbf19b58"
  },
  "kernelspec": {
   "display_name": "Python 3.10.4 64-bit",
   "language": "python",
   "name": "python3"
  },
  "language_info": {
   "codemirror_mode": {
    "name": "ipython",
    "version": 3
   },
   "file_extension": ".py",
   "mimetype": "text/x-python",
   "name": "python",
   "nbconvert_exporter": "python",
   "pygments_lexer": "ipython3",
   "version": "3.10.4"
  },
  "orig_nbformat": 4
 },
 "nbformat": 4,
 "nbformat_minor": 2
}
