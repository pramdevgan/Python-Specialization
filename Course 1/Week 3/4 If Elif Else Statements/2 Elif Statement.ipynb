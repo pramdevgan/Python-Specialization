{
 "cells": [
  {
   "cell_type": "markdown",
   "metadata": {},
   "source": [
    "# **Elif Statement**\n",
    "The if statement asks a single question, \"Is this true?\". The if else statement asks two questions, \"Is this true, or is this false?\". The elif statement is used after an if statement and before an else statement. Elif statements give you more precision when making decisions.\n",
    "\n",
    "![](https://apollo-media.codio.com/media%2F1%2F729d7de8a0405dab71c93b31082df6dc-7965b9ef-c00e-44bf-a281-cef340599dc1.webp)"
   ]
  },
  {
   "cell_type": "code",
   "execution_count": 3,
   "metadata": {},
   "outputs": [
    {
     "name": "stdout",
     "output_type": "stream",
     "text": [
      "You got an F.\n"
     ]
    }
   ],
   "source": [
    "grade = 65\n",
    "if grade < 60:\n",
    "    print(\"You got an D.\")\n",
    "elif grade < 70:\n",
    "    print(\"You got an F.\")\n",
    "elif grade < 80:\n",
    "    print(\"You got an C.\")\n",
    "elif grade < 90:\n",
    "    print(\"You got an B.\")\n",
    "else:\n",
    "    print(\"You got an A.\")"
   ]
  },
  {
   "cell_type": "markdown",
   "metadata": {},
   "source": [
    "#### **Can you…**\n",
    "Add the letter grade D which is any grade from 60 to 69?\n",
    "#### **Testing Your Code**\n",
    "Change grade to 65. You should see You got a D. as the output of your program.\n",
    "#### **Hint**\n",
    "You need to change the if statement and add another elif statement."
   ]
  },
  {
   "cell_type": "markdown",
   "metadata": {},
   "source": [
    "### **Reading Question**\n",
    "Drag the boxes below into the correct order when evaluating a conditional.\n",
    "\n",
    "            if\n",
    "            elif\n",
    "            else\n",
    "\n",
    "The **if** statement is always evaluated first. Next, the **elif** statement is evaluated. You can have several **elif** statements, but they must come after the **if** statement. Finally, the else statement is evaluated. **if** and **elif** statements cannot appear after **else** unless it is a different conditional."
   ]
  }
 ],
 "metadata": {
  "interpreter": {
   "hash": "12d9efd1b418ad7485587f2da0512ee7fc7c20b6462fdb2a696d6f33bbf19b58"
  },
  "kernelspec": {
   "display_name": "Python 3.10.4 64-bit",
   "language": "python",
   "name": "python3"
  },
  "language_info": {
   "codemirror_mode": {
    "name": "ipython",
    "version": 3
   },
   "file_extension": ".py",
   "mimetype": "text/x-python",
   "name": "python",
   "nbconvert_exporter": "python",
   "pygments_lexer": "ipython3",
   "version": "3.10.4"
  },
  "orig_nbformat": 4
 },
 "nbformat": 4,
 "nbformat_minor": 2
}
