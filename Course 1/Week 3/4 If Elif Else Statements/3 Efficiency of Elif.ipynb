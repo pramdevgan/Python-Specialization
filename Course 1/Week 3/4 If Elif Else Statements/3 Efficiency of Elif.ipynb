{
 "cells": [
  {
   "cell_type": "markdown",
   "metadata": {},
   "source": [
    "# ***Efficiency of Elif***\n",
    "Take a look at the image below. It shows two programs that do the same thing, calculate a letter grade based on a numeric value. The blue arrows show the flow of the program, and the red star shows what happens when the boolean expression is true.\n",
    "\n",
    "![](https://apollo-media.codio.com/media%2F1%2F288cdeed3e21a4dd8427778951f22e32-796a054b-c2f5-4a04-91cd-b232ba90a059.webp)\n",
    "\n",
    "All of the if statements will run, even when the letter grade has been determined. The elif statements will stop once one of them is true. Use the code visualizers below to see how Python steps through the two programs below."
   ]
  },
  {
   "cell_type": "markdown",
   "metadata": {},
   "source": [
    "### ***Series of If Statements***"
   ]
  },
  {
   "cell_type": "code",
   "execution_count": 4,
   "metadata": {},
   "outputs": [
    {
     "name": "stdout",
     "output_type": "stream",
     "text": [
      "You got a B.\n"
     ]
    }
   ],
   "source": [
    "grade = 82\n",
    "\n",
    "if grade < 60:\n",
    "    print(\"You got an F.\")\n",
    "if grade >= 60 and grade < 70:\n",
    "    print(\"You got a C.\")\n",
    "if grade >= 70 and grade < 80:\n",
    "    print(\"You got a C.\")\n",
    "if grade >= 80 and grade < 90:\n",
    "    print(\"You got a B.\")\n",
    "if grade >= 90 and grade <= 100:\n",
    "    print(\"You got an A.\""
   ]
  },
  {
   "cell_type": "markdown",
   "metadata": {},
   "source": [
    "### ***Series of Elif Statements***"
   ]
  },
  {
   "cell_type": "code",
   "execution_count": 2,
   "metadata": {},
   "outputs": [
    {
     "name": "stdout",
     "output_type": "stream",
     "text": [
      "You got a B.\n"
     ]
    }
   ],
   "source": [
    "grade = 82\n",
    "\n",
    "if grade < 60:\n",
    "    print(\"You got an F.\")\n",
    "elif grade < 70:\n",
    "    print(\"You got a D.\")\n",
    "elif grade < 80:\n",
    "    print(\"You got a C.\")\n",
    "elif grade < 90:\n",
    "    print(\"You got a B.\")\n",
    "else:\n",
    "    print(\"You got an A.\")"
   ]
  },
  {
   "cell_type": "markdown",
   "metadata": {},
   "source": [
    "### ***What happens if you:***\n",
    "- Change **grade** to **0** and then run both programs through the visualizer?\n",
    "- Change **grade** to **100** and then run both programs through the visualizer?"
   ]
  },
  {
   "cell_type": "code",
   "execution_count": 6,
   "metadata": {},
   "outputs": [
    {
     "name": "stdout",
     "output_type": "stream",
     "text": [
      "You got an F.\n"
     ]
    }
   ],
   "source": [
    "# Series of If Statements\n",
    "grade = 0\n",
    "\n",
    "if grade < 60:\n",
    "    print(\"You got an F.\")\n",
    "if grade >= 60 and grade < 70:\n",
    "    print(\"You got a C.\")\n",
    "if grade >= 70 and grade < 80:\n",
    "    print(\"You got a C.\")\n",
    "if grade >= 80 and grade < 90:\n",
    "    print(\"You got a B.\")\n",
    "if grade >= 90 and grade <= 100:\n",
    "    print(\"You got an A.\")"
   ]
  },
  {
   "cell_type": "code",
   "execution_count": 7,
   "metadata": {},
   "outputs": [
    {
     "name": "stdout",
     "output_type": "stream",
     "text": [
      "You got an F.\n"
     ]
    }
   ],
   "source": [
    "# Series of Elif Statements\n",
    "grade = 0\n",
    "\n",
    "if grade < 60:\n",
    "    print(\"You got an F.\")\n",
    "elif grade < 70:\n",
    "    print(\"You got a D.\")\n",
    "elif grade < 80:\n",
    "    print(\"You got a C.\")\n",
    "elif grade < 90:\n",
    "    print(\"You got a B.\")\n",
    "else:\n",
    "    print(\"You got an A.\")"
   ]
  },
  {
   "cell_type": "code",
   "execution_count": 8,
   "metadata": {},
   "outputs": [
    {
     "name": "stdout",
     "output_type": "stream",
     "text": [
      "You got an A.\n"
     ]
    }
   ],
   "source": [
    "# Series of If Statements\n",
    "grade = 100\n",
    "\n",
    "if grade < 60:\n",
    "    print(\"You got an F.\")\n",
    "if grade >= 60 and grade < 70:\n",
    "    print(\"You got a C.\")\n",
    "if grade >= 70 and grade < 80:\n",
    "    print(\"You got a C.\")\n",
    "if grade >= 80 and grade < 90:\n",
    "    print(\"You got a B.\")\n",
    "if grade >= 90 and grade <= 100:\n",
    "    print(\"You got an A.\")"
   ]
  },
  {
   "cell_type": "code",
   "execution_count": 9,
   "metadata": {},
   "outputs": [
    {
     "name": "stdout",
     "output_type": "stream",
     "text": [
      "You got an A.\n"
     ]
    }
   ],
   "source": [
    "# Series of Elif Statements\n",
    "grade = 100\n",
    "\n",
    "if grade < 60:\n",
    "    print(\"You got an F.\")\n",
    "elif grade < 70:\n",
    "    print(\"You got a D.\")\n",
    "elif grade < 80:\n",
    "    print(\"You got a C.\")\n",
    "elif grade < 90:\n",
    "    print(\"You got a B.\")\n",
    "else:\n",
    "    print(\"You got an A.\")"
   ]
  },
  {
   "cell_type": "markdown",
   "metadata": {},
   "source": [
    "### ***Reading Question***\n",
    "Fill in the blanks of the passage below. Use the information above to help find the correct answers.\n",
    "\n",
    "A series of elif statements can be more efficient that a series of if statements because the ***elif*** statements will ***stop*** as soon as there is a ***true*** boolean expression. The ***if*** statement, however, will keep going even if there is a ***true*** boolean expression."
   ]
  }
 ],
 "metadata": {
  "interpreter": {
   "hash": "12d9efd1b418ad7485587f2da0512ee7fc7c20b6462fdb2a696d6f33bbf19b58"
  },
  "kernelspec": {
   "display_name": "Python 3.10.4 64-bit",
   "language": "python",
   "name": "python3"
  },
  "language_info": {
   "codemirror_mode": {
    "name": "ipython",
    "version": 3
   },
   "file_extension": ".py",
   "mimetype": "text/x-python",
   "name": "python",
   "nbconvert_exporter": "python",
   "pygments_lexer": "ipython3",
   "version": "3.10.4"
  },
  "orig_nbformat": 4
 },
 "nbformat": 4,
 "nbformat_minor": 2
}
