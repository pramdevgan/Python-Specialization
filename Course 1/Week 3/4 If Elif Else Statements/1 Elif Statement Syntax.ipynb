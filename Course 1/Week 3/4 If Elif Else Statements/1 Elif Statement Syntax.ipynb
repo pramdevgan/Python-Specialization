{
 "cells": [
  {
   "cell_type": "markdown",
   "metadata": {},
   "source": [
    "# ***Elif Statement Syntax***\n",
    "### **Elif Syntax**\n",
    "The elif statement is written similarly to the if statement. There are few differences as well. Here are the rules for writing an elif statement:\n",
    "- An if statement must come before the first elif statement\n",
    "- elif is followed by a boolean expression and a :\n",
    "- Indent four spaces and write the commands for when the elif statement is true\n",
    "- You can write as many elif statements as you want\n",
    "- An else statement must come after the last elif statement"
   ]
  },
  {
   "cell_type": "markdown",
   "metadata": {},
   "source": [
    "##### ***What does elif mean?***\n",
    "**elif** is an abbreviation of **else** and **if**. Since elif statements are common, the command was simplified so programmers would not have to write **else if**.\n",
    "![](https://apollo-media.codio.com/media%2F1%2F7c6a46133db316439a9d2f9bd594503d-ad165305-a63d-4148-8278-129940ef6fbe.webp)"
   ]
  },
  {
   "cell_type": "code",
   "execution_count": 1,
   "metadata": {},
   "outputs": [
    {
     "name": "stdout",
     "output_type": "stream",
     "text": [
      "20 is less than 30\n"
     ]
    }
   ],
   "source": [
    "a = 20\n",
    "if a < 10:\n",
    "    print(str(a) + \" is less than 10\")\n",
    "elif a < 20:\n",
    "    print(str(a) + \" is less than 20\")\n",
    "elif a < 30:\n",
    "    print(str(a) + \" is less than 30\")\n",
    "else:\n",
    "    print(str(a) + \" is greater than 30\")"
   ]
  },
  {
   "cell_type": "markdown",
   "metadata": {},
   "source": [
    "#### **What happens if you:**\n",
    "- Change **a** to **0**?\n",
    "- Change **a** to **100**?\n",
    "- Change **a** to **30**? (How can you fix this?)"
   ]
  },
  {
   "cell_type": "code",
   "execution_count": 2,
   "metadata": {},
   "outputs": [
    {
     "name": "stdout",
     "output_type": "stream",
     "text": [
      "0 is less than 10\n"
     ]
    }
   ],
   "source": [
    "a = 0\n",
    "if a < 10:\n",
    "    print(str(a) + \" is less than 10\")\n",
    "elif a < 20:\n",
    "    print(str(a) + \" is less than 20\")\n",
    "elif a < 30:\n",
    "    print(str(a) + \" is less than 30\")\n",
    "else:\n",
    "    print(str(a) + \" is greater than 30\")"
   ]
  },
  {
   "cell_type": "code",
   "execution_count": 3,
   "metadata": {},
   "outputs": [
    {
     "name": "stdout",
     "output_type": "stream",
     "text": [
      "100 is greater than 30\n"
     ]
    }
   ],
   "source": [
    "a = 100\n",
    "if a < 10:\n",
    "    print(str(a) + \" is less than 10\")\n",
    "elif a < 20:\n",
    "    print(str(a) + \" is less than 20\")\n",
    "elif a < 30:\n",
    "    print(str(a) + \" is less than 30\")\n",
    "else:\n",
    "    print(str(a) + \" is greater than 30\")"
   ]
  },
  {
   "cell_type": "code",
   "execution_count": 4,
   "metadata": {},
   "outputs": [
    {
     "name": "stdout",
     "output_type": "stream",
     "text": [
      "30 is greater than 30\n"
     ]
    }
   ],
   "source": [
    "a = 30\n",
    "if a < 10:\n",
    "    print(str(a) + \" is less than 10\")\n",
    "elif a < 20:\n",
    "    print(str(a) + \" is less than 20\")\n",
    "elif a < 30:\n",
    "    print(str(a) + \" is less than 30\")\n",
    "else:\n",
    "    print(str(a) + \" is greater than 30\")"
   ]
  },
  {
   "cell_type": "markdown",
   "metadata": {},
   "source": [
    "### **Reading Question**\n",
    "Which of the following **elif** statements is correct?\n",
    "\n",
    "\n",
    "- elif:\n",
    "- else if a < 10:\n",
    "- **elif a < 10:**  <---- correct answer\n",
    "- elif a < 10\n",
    "\n",
    "```\n",
    "The elif statement is followed by a boolean expression and a :. That is why elif a < 10: is the correct answer.\n",
    "```"
   ]
  }
 ],
 "metadata": {
  "interpreter": {
   "hash": "12d9efd1b418ad7485587f2da0512ee7fc7c20b6462fdb2a696d6f33bbf19b58"
  },
  "kernelspec": {
   "display_name": "Python 3.10.4 64-bit",
   "language": "python",
   "name": "python3"
  },
  "language_info": {
   "codemirror_mode": {
    "name": "ipython",
    "version": 3
   },
   "file_extension": ".py",
   "mimetype": "text/x-python",
   "name": "python",
   "nbconvert_exporter": "python",
   "pygments_lexer": "ipython3",
   "version": "3.10.4"
  },
  "orig_nbformat": 4
 },
 "nbformat": 4,
 "nbformat_minor": 2
}
