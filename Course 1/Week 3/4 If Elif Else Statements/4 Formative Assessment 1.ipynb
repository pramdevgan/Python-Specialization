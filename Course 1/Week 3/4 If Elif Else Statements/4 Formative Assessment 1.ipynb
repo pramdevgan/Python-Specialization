{
 "cells": [
  {
   "cell_type": "markdown",
   "metadata": {},
   "source": [
    "## ***Formative Assessment 1***\n",
    "\n",
    "#### ***Constructing an Elif Statement***\n",
    "Rearrange the code blocks below to build a proper elif statement.\n",
    "\n",
    "Drag from here\n",
    "\n",
    "Construct your solution here"
   ]
  },
  {
   "cell_type": "code",
   "execution_count": 2,
   "metadata": {},
   "outputs": [
    {
     "name": "stdout",
     "output_type": "stream",
     "text": [
      "Less than 5\n"
     ]
    }
   ],
   "source": [
    "my_var = 7\n",
    "\n",
    "if my_var < 5:\n",
    "    print(\"Less than 5\")\n",
    "elif my_var <= 10:\n",
    "    print(\"Between 5 and 10\")\n",
    "else:\n",
    "    print(\"Greater than 10\")"
   ]
  },
  {
   "cell_type": "markdown",
   "metadata": {},
   "source": [
    "    Start by declaring the variable. You cannot use a variable before creating it. Elif statements must have an if statement before it, so the if statement comes next. After that comes the elif statement. The else statement must come after the elif statement."
   ]
  }
 ],
 "metadata": {
  "interpreter": {
   "hash": "12d9efd1b418ad7485587f2da0512ee7fc7c20b6462fdb2a696d6f33bbf19b58"
  },
  "kernelspec": {
   "display_name": "Python 3.10.4 64-bit",
   "language": "python",
   "name": "python3"
  },
  "language_info": {
   "codemirror_mode": {
    "name": "ipython",
    "version": 3
   },
   "file_extension": ".py",
   "mimetype": "text/x-python",
   "name": "python",
   "nbconvert_exporter": "python",
   "pygments_lexer": "ipython3",
   "version": "3.10.4"
  },
  "orig_nbformat": 4
 },
 "nbformat": 4,
 "nbformat_minor": 2
}
