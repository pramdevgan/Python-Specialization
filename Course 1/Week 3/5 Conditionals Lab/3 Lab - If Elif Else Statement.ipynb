{
 "cells": [
  {
   "cell_type": "markdown",
   "metadata": {},
   "source": [
    "# ***Lab - If Elif Else Statement***\n",
    "### ***Tutorial Lab 4: If Elif Else Statements***\n",
    "If Elif Else statements allow you to write a series of questions about the value of a variable. This gives you more precision about the decisions you can make. Here are the rules for using if elif else statements:\n",
    "- Start with the traditional if statement\n",
    "- Use the elif keyword followed by a conditional and a :\n",
    "- Use as many elif statements as necessary\n",
    "- End with the else keyword"
   ]
  },
  {
   "cell_type": "code",
   "execution_count": 1,
   "metadata": {},
   "outputs": [
    {
     "name": "stdout",
     "output_type": "stream",
     "text": [
      "This restaurant is among the best in the world\n"
     ]
    }
   ],
   "source": [
    "michelin_stars = 3\n",
    "\n",
    "if michelin_stars == 1:\n",
    "    print(\"This is very good restaurant\")\n",
    "elif michelin_stars == 2:\n",
    "    print(\"This is an excellent restaurant\")\n",
    "else:\n",
    "    print(\"This restaurant is among the best in the world\")"
   ]
  },
  {
   "cell_type": "markdown",
   "metadata": {},
   "source": [
    "The if elif else statements can also be faster than a series of if statements. As soon as a boolean expression is true, Python stops computing the remaining boolean expressions. Python will execute all of the if statements, even if one of them is true.\n",
    "![](https://apollo-media.codio.com/media/1/288cdeed3e21a4dd8427778951f22e32-796a054b-c2f5-4a04-91cd-b232ba90a059.webp)"
   ]
  },
  {
   "cell_type": "markdown",
   "metadata": {},
   "source": [
    "### ***Lab Question***\n",
    "Imagine that the variable **x** contains a number between 0 and 20. Rearrange the code blocks below to create a program that see if **x** is between 0 and 5, 5 to 10, 10 to 15, or between 15 and 20.\n",
    "\n",
    "```\n",
    "if x <= 5:\n",
    "   print(\"x is between 0 and 5\")\n",
    "elif x <= 10:\n",
    "   print(\"x is between 5 and 10\")\n",
    "elif x <= 15:\n",
    "   print(\"x is between 10 and 15\")\n",
    "else:\n",
    "   print(\"x is between 15 and 20\")\n",
    "```"
   ]
  },
  {
   "cell_type": "code",
   "execution_count": 2,
   "metadata": {},
   "outputs": [
    {
     "name": "stdout",
     "output_type": "stream",
     "text": [
      "x is between 5 and 10\n"
     ]
    }
   ],
   "source": [
    "x = 8\n",
    "if x <= 5:\n",
    "    print(\"x is between 0 and 5\")\n",
    "elif x <= 10:\n",
    "    print(\"x is between 5 and 10\")\n",
    "elif x <= 15:\n",
    "    print(\"x is between 10 and 15\")\n",
    "else:\n",
    "    print(\"x is between 15 and 20\")"
   ]
  }
 ],
 "metadata": {
  "interpreter": {
   "hash": "12d9efd1b418ad7485587f2da0512ee7fc7c20b6462fdb2a696d6f33bbf19b58"
  },
  "kernelspec": {
   "display_name": "Python 3.10.4 64-bit",
   "language": "python",
   "name": "python3"
  },
  "language_info": {
   "codemirror_mode": {
    "name": "ipython",
    "version": 3
   },
   "file_extension": ".py",
   "mimetype": "text/x-python",
   "name": "python",
   "nbconvert_exporter": "python",
   "pygments_lexer": "ipython3",
   "version": "3.10.4"
  },
  "orig_nbformat": 4
 },
 "nbformat": 4,
 "nbformat_minor": 2
}
