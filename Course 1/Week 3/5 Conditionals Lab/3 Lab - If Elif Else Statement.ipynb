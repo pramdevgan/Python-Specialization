{
 "cells": [
  {
   "cell_type": "markdown",
   "metadata": {},
   "source": [
    "# ***Lab - If Elif Else Statement***\n",
    "### ***Tutorial Lab 4: If Elif Else Statements***\n",
    "If Elif Else statements allow you to write a series of questions about the value of a variable. This gives you more precision about the decisions you can make. Here are the rules for using if elif else statements:\n",
    "- Start with the traditional if statement\n",
    "- Use the elif keyword followed by a conditional and a :\n",
    "- Use as many elif statements as necessary\n",
    "- End with the else keyword"
   ]
  },
  {
   "cell_type": "code",
   "execution_count": 1,
   "metadata": {},
   "outputs": [
    {
     "name": "stdout",
     "output_type": "stream",
     "text": [
      "This restaurant is among the best in the world\n"
     ]
    }
   ],
   "source": [
    "michelin_stars = 3\n",
    "\n",
    "if michelin_stars == 1:\n",
    "    print(\"This is very good restaurant\")\n",
    "elif michelin_stars == 2:\n",
    "    print(\"This is an excellent restaurant\")\n",
    "else:\n",
    "    print(\"This restaurant is among the best in the world\")"
   ]
  }
 ],
 "metadata": {
  "interpreter": {
   "hash": "12d9efd1b418ad7485587f2da0512ee7fc7c20b6462fdb2a696d6f33bbf19b58"
  },
  "kernelspec": {
   "display_name": "Python 3.10.4 64-bit",
   "language": "python",
   "name": "python3"
  },
  "language_info": {
   "codemirror_mode": {
    "name": "ipython",
    "version": 3
   },
   "file_extension": ".py",
   "mimetype": "text/x-python",
   "name": "python",
   "nbconvert_exporter": "python",
   "pygments_lexer": "ipython3",
   "version": "3.10.4"
  },
  "orig_nbformat": 4
 },
 "nbformat": 4,
 "nbformat_minor": 2
}
