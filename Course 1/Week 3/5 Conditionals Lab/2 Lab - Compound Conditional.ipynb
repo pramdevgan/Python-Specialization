{
 "cells": [
  {
   "cell_type": "markdown",
   "metadata": {},
   "source": [
    "# ***Lab - Compound Conditional***\n",
    "### ***Tutorial Lab 3: Compound Conditionals***\n",
    "Sometimes you need to have two more things to be true before specific code can run. These are called compound conditionals because there are multiple boolean expressions in the conditional statement. The boolean expressions need to be linked together with either the ***and*** or ***or*** statements."
   ]
  },
  {
   "cell_type": "code",
   "execution_count": 3,
   "metadata": {},
   "outputs": [
    {
     "name": "stdout",
     "output_type": "stream",
     "text": [
      "10 is between 5 and 15\n"
     ]
    }
   ],
   "source": [
    "x = 10\n",
    "\n",
    "if x > 5 and x < 15:\n",
    "    print(str(x) + \" is between 5 and 15\")\n",
    "else:\n",
    "    print(str(x) + \" is not between 5 and 15\")"
   ]
  },
  {
   "cell_type": "markdown",
   "metadata": {},
   "source": [
    "The code above will be true for any number that is greater than 5 and less than 15. If **x** has the value of **5** or **15**, then the boolean expression will be false.\n",
    "![](https://apollo-media.codio.com/media/1/4fa2401f3a2a53584c1db0cb36d08824-8423ead7-13d2-4483-812a-a17a3d851435.webp)\n",
    "If you take the same code and change and to or, you get a very different program."
   ]
  },
  {
   "cell_type": "code",
   "execution_count": 6,
   "metadata": {},
   "outputs": [
    {
     "name": "stdout",
     "output_type": "stream",
     "text": [
      "10 is between 5 and 15\n"
     ]
    }
   ],
   "source": [
    "x = 10\n",
    "\n",
    "if x > 5 or x < 15:\n",
    "    print(str(x) + \" is between 5 and 15\")\n",
    "else:\n",
    "    print(str(x) + \" is not between 5 and 15\")"
   ]
  },
  {
   "cell_type": "markdown",
   "metadata": {},
   "source": [
    "It does not matter what value you give to **x**, the boolean expression will always be true. The boolean expression is true even if **x** is **5** or **15**.\n",
    "\n",
    "![](https://apollo-media.codio.com/media/1/5bcc8dac32294fdaf27c5e1f5ea9fdcd-7bf1bac0-5154-438a-8932-3049ea4bd883.webp)"
   ]
  },
  {
   "cell_type": "markdown",
   "metadata": {},
   "source": [
    "Lab Question\n",
    "Select all of the compound conditionals that are correctly written. Hint, there is more than one right answer.\n",
    "\n",
    "- if True and False:  <---- Correct answer\n",
    "- if False not True:\n",
    "- if not False or True: <---- Correct answer\n",
    "- if True, True:\n",
    "\n",
    "        if True and False: - This is a correct answer because the keyword and is connecting more than one boolean expression.\n",
    "        \n",
    "        if False not True: - This not a correct answer because the keyword not cannot connect boolean expressions.\n",
    "        \n",
    "        if not False or True: - This is a correct answer because the keyword or is connecting two boolean expressions. The keyword not can be used in addition to and and or, but not by itself.\n",
    "        \n",
    "        if True, True: - This is not a correct answer because commas are not used to link boolean expressions."
   ]
  }
 ],
 "metadata": {
  "interpreter": {
   "hash": "12d9efd1b418ad7485587f2da0512ee7fc7c20b6462fdb2a696d6f33bbf19b58"
  },
  "kernelspec": {
   "display_name": "Python 3.10.4 64-bit",
   "language": "python",
   "name": "python3"
  },
  "language_info": {
   "codemirror_mode": {
    "name": "ipython",
    "version": 3
   },
   "file_extension": ".py",
   "mimetype": "text/x-python",
   "name": "python",
   "nbconvert_exporter": "python",
   "pygments_lexer": "ipython3",
   "version": "3.10.4"
  },
  "orig_nbformat": 4
 },
 "nbformat": 4,
 "nbformat_minor": 2
}
