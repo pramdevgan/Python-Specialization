{
 "cells": [
  {
   "cell_type": "markdown",
   "metadata": {},
   "source": [
    "# ***Lab - If Statement***\n",
    "### ***Tutorial Lab 1: If Statements***\n",
    "The if statement allows for your program to make a decision about what it should do. It asks a simple question, is this condition true? If yes, then the computer will execute certain commands."
   ]
  },
  {
   "cell_type": "code",
   "execution_count": 1,
   "metadata": {},
   "outputs": [
    {
     "name": "stdout",
     "output_type": "stream",
     "text": [
      "Less than 10\n"
     ]
    }
   ],
   "source": [
    "x = 5\n",
    "if x < 10:\n",
    "    print(\"Less than 10\")"
   ]
  },
  {
   "cell_type": "markdown",
   "metadata": {},
   "source": [
    "An if statement is comprised of the keyword ***if***, followed by a boolean expression, and a ***:***. Any code that should run if the boolean expression is true must be indented. In Python, programmers indent four spaces.\n",
    "\n",
    "If the boolean expression is false, the indented code is skipped, and the program continues as normal."
   ]
  },
  {
   "cell_type": "code",
   "execution_count": 2,
   "metadata": {},
   "outputs": [
    {
     "name": "stdout",
     "output_type": "stream",
     "text": [
      "And the program continues...\n"
     ]
    }
   ],
   "source": [
    "x = 20\n",
    "if x < 10:\n",
    "    print(\"Less than 10\")\n",
    "print(\"And the program continues...\")"
   ]
  },
  {
   "cell_type": "markdown",
   "metadata": {},
   "source": [
    "### ***Lab Question***\n",
    "Select all of the statements below that are true with regards to if statements. **Hint**, there is more than one correct answer.\n",
    "\n",
    "\n",
    "- If statements only ask if a boolean expression is true.\n",
    "- If statements will perform a set of actions if the boolean expression is false.\n",
    "- If statements provide the most precision of all the conditional statements.\n",
    "- If statements are the simplest of all the conditionals.\n",
    "\n",
    "The correct answers are:\n",
    "- If statements only ask if a boolean expression is true.\n",
    "\n",
    "- If statements are the simplest of all the conditionals.\n",
    "\n",
    "        If statements can only ask if a boolean expression is true. An else statement takes into account a false boolean expression.\n",
    "    \n",
    "        If statements are the simplest because they ignore when a boolean expression is false, and they do not ask subsequent boolean expressions."
   ]
  }
 ],
 "metadata": {
  "interpreter": {
   "hash": "12d9efd1b418ad7485587f2da0512ee7fc7c20b6462fdb2a696d6f33bbf19b58"
  },
  "kernelspec": {
   "display_name": "Python 3.10.4 64-bit",
   "language": "python",
   "name": "python3"
  },
  "language_info": {
   "codemirror_mode": {
    "name": "ipython",
    "version": 3
   },
   "file_extension": ".py",
   "mimetype": "text/x-python",
   "name": "python",
   "nbconvert_exporter": "python",
   "pygments_lexer": "ipython3",
   "version": "3.10.4"
  },
  "orig_nbformat": 4
 },
 "nbformat": 4,
 "nbformat_minor": 2
}
