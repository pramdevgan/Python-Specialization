{
 "cells": [
  {
   "cell_type": "markdown",
   "metadata": {},
   "source": [
    "## **Formative Assessment 1**\n",
    "\n",
    "Debug the Code\n",
    "What is wrong with the code below? **Hint**, there is more than one right answer.\n",
    "\n",
    "```\n",
    "    if 3 > 4\n",
    "    print(\"This is true\")\n",
    "    else\n",
    "    print(\"This is false\")\n",
    "```\n",
    "- There needs to be parentheses around the boolean expression\n",
    "- There needs to be a : after the if statement and the else\n",
    "- The print statements need to be indented\n",
    "- There needs to be a variable in the boolean expression\n",
    "\n",
    "\n",
    "        A : should be used after the boolean expression and after the else. The print statements should be indented because they are to be run if the boolean expression is true (the first print statement) or false (the second print statement)."
   ]
  },
  {
   "cell_type": "code",
   "execution_count": 5,
   "metadata": {},
   "outputs": [
    {
     "name": "stdout",
     "output_type": "stream",
     "text": [
      "This is false\n"
     ]
    }
   ],
   "source": [
    "if 3 > 4:\n",
    "    print(\"This is true\")\n",
    "else:\n",
    "    print(\"This is false\")"
   ]
  }
 ],
 "metadata": {
  "interpreter": {
   "hash": "12d9efd1b418ad7485587f2da0512ee7fc7c20b6462fdb2a696d6f33bbf19b58"
  },
  "kernelspec": {
   "display_name": "Python 3.10.4 64-bit",
   "language": "python",
   "name": "python3"
  },
  "language_info": {
   "codemirror_mode": {
    "name": "ipython",
    "version": 3
   },
   "file_extension": ".py",
   "mimetype": "text/x-python",
   "name": "python",
   "nbconvert_exporter": "python",
   "pygments_lexer": "ipython3",
   "version": "3.10.4"
  },
  "orig_nbformat": 4
 },
 "nbformat": 4,
 "nbformat_minor": 2
}
