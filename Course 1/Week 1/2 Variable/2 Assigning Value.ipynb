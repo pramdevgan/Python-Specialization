{
 "cells": [
  {
   "cell_type": "markdown",
   "metadata": {},
   "source": [
    "## Assigning Value\n",
    "The value stored in a variable can change. Use the assignment operator to give a variable a new value.\n",
    "![](https://apollo-media.codio.com/media%2F1%2F973198a419810a0c2b228bd342159917-40120388-4e5d-40bf-8906-d9c7f44aa976.webp)"
   ]
  },
  {
   "cell_type": "markdown",
   "metadata": {},
   "source": [
    "The image above is **not** declaring two variables called <span style=\"color: red\">my_variable</span>. The first line declares the variable because this is the first instance. The second line overwrites <span style=\"color: red\">Hello world</span> with <span style=\"color: red\">Goodbye world</span>. Enter the code below and see the results of the print commands. Use the code visualizer to see how the value of <span style=\"color: red\">my_variable</span> changes."
   ]
  },
  {
   "cell_type": "code",
   "execution_count": 13,
   "metadata": {},
   "outputs": [
    {
     "data": {
      "text/html": [
       "\n",
       "        <iframe\n",
       "            width=\"100%\"\n",
       "            height=\"500\"\n",
       "            src=\"https://pythontutor.com/iframe-embed.html#code=my_variable%20%3D%20%22Hello%20World%22%0Aprint%28my_variable%29%0Amy_variable%20%3D%20%22Goodbye%20World%22%0Aprint%28my_variable%29%0A&origin=opt-frontend.js&cumulative=false&heapPrimitives=false&textReferences=false&py=3&rawInputLstJSON=%5B%5D&curInstr=0&codeDivWidth=350&codeDivHeight=400\"\n",
       "            frameborder=\"0\"\n",
       "            allowfullscreen\n",
       "            \n",
       "        ></iframe>\n",
       "        "
      ],
      "text/plain": [
       "<IPython.lib.display.IFrame at 0x194afe6cc70>"
      ]
     },
     "metadata": {},
     "output_type": "display_data"
    }
   ],
   "source": [
    "%%tutor\n",
    "my_variable = \"Hello World\"\n",
    "print(my_variable)\n",
    "my_variable = \"Goodbye World\"\n",
    "print(my_variable)"
   ]
  },
  {
   "cell_type": "markdown",
   "metadata": {},
   "source": [
    "## Reading Question\n",
    "From the collection of code blocks, drag out **two** such that the first block declares the variable <span style=\"color:red\">my_variable</span> and assigns it the value of <span style=\"color:red\">\"red\"</span> and the second code block overwrites this with <span style=\"color:red\">\"blue\"</span>.\n",
    "\n",
    "Drag from here\n",
    "\n",
    "- my_variable = red\n",
    "- my_variable = blue\n",
    "- var my_variable = \"red\"\n",
    "- var my_variable = \"blue\"\n",
    "\n",
    "\n",
    "Construct your solution here\n",
    "\n",
    "- my_variable = \"red\"\n",
    "- my_variable = \"blue\"\n",
    "Since you have to declare the variable with the value \"red\", this line of code must come first. The second line will assign the value \"blue\" to the variable.\n",
    "Python does not use the **var** keyword to declare variables.\n",
    "```\n",
    "    my_variable = \"red\"\n",
    "    my_variable = \"blue\"\n",
    "```\n"
   ]
  }
 ],
 "metadata": {
  "interpreter": {
   "hash": "12d9efd1b418ad7485587f2da0512ee7fc7c20b6462fdb2a696d6f33bbf19b58"
  },
  "kernelspec": {
   "display_name": "Python 3.10.4 64-bit",
   "language": "python",
   "name": "python3"
  },
  "language_info": {
   "codemirror_mode": {
    "name": "ipython",
    "version": 3
   },
   "file_extension": ".py",
   "mimetype": "text/x-python",
   "name": "python",
   "nbconvert_exporter": "python",
   "pygments_lexer": "ipython3",
   "version": "3.10.4"
  },
  "orig_nbformat": 4
 },
 "nbformat": 4,
 "nbformat_minor": 2
}
