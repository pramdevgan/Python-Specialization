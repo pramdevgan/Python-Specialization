{
 "cells": [
  {
   "cell_type": "markdown",
   "metadata": {},
   "source": [
    "# Data Types - Strings\n",
    "## Strings\n",
    "A string is a collection of text, numbers, or symbols. Strings are always surrounded by quotation marks."
   ]
  },
  {
   "cell_type": "code",
   "execution_count": 1,
   "metadata": {},
   "outputs": [
    {
     "name": "stdout",
     "output_type": "stream",
     "text": [
      "This is a string\n",
      "This is a string also\n"
     ]
    }
   ],
   "source": [
    "string_variable = \"This is a string\"\n",
    "second_string = 'This is a string also'\n",
    "print(string_variable)\n",
    "print(second_string)"
   ]
  },
  {
   "cell_type": "markdown",
   "metadata": {},
   "source": [
    "## What happens if you:\n",
    "- Mix single (') and double (\") quotation marks?\n",
    "#### What happened?\n",
    "This causes an error because Python requires that you be consistent with quotation marks. If you start with a single quote (') you must end with a single quote. The same is true for double quotes (\"). You may use either style of quotation marks, just be consistent.\n",
    "- Forget one of the quotation marks?\n",
    "#### What happened?\n",
    "This causes an error because Python requires that quotation marks be used in pairs.\n",
    "- Forget both quotation marks?\n",
    "#### What happened?\n",
    "This causes an error because to Python a string without quotes appears to be a series of variables that have not been defined."
   ]
  },
  {
   "cell_type": "markdown",
   "metadata": {},
   "source": [
    "Notice that when you print a string, the quotation marks are not printed."
   ]
  },
  {
   "cell_type": "markdown",
   "metadata": {},
   "source": [
    "## Reading Question\n",
    "Complete the line of code below so that variable declaration is correct.\n",
    "\n",
    "my_string = \"This is a string ***\"***\n",
    "\n",
    "Since the beginning of the string starts with a double-quotation mark, you need to end the string with a double-quotation mark.\n",
    "```\n",
    "    my_string = \"This is a string\"\n",
    "```"
   ]
  }
 ],
 "metadata": {
  "interpreter": {
   "hash": "12d9efd1b418ad7485587f2da0512ee7fc7c20b6462fdb2a696d6f33bbf19b58"
  },
  "kernelspec": {
   "display_name": "Python 3.10.4 64-bit",
   "language": "python",
   "name": "python3"
  },
  "language_info": {
   "codemirror_mode": {
    "name": "ipython",
    "version": 3
   },
   "file_extension": ".py",
   "mimetype": "text/x-python",
   "name": "python",
   "nbconvert_exporter": "python",
   "pygments_lexer": "ipython3",
   "version": "3.10.4"
  },
  "orig_nbformat": 4
 },
 "nbformat": 4,
 "nbformat_minor": 2
}
