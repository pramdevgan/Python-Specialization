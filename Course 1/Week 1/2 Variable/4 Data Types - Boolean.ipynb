{
 "cells": [
  {
   "cell_type": "markdown",
   "metadata": {},
   "source": [
    "# Data Types - Boolean\n",
    "## Boolean\n",
    "Boolean values mean **True** or **False**. You will see how boolean values are used when we talk about conditionals and while loops."
   ]
  },
  {
   "cell_type": "code",
   "execution_count": 1,
   "metadata": {},
   "outputs": [
    {
     "name": "stdout",
     "output_type": "stream",
     "text": [
      "True\n"
     ]
    }
   ],
   "source": [
    "boolean_variable = True\n",
    "print(boolean_variable)"
   ]
  },
  {
   "cell_type": "markdown",
   "metadata": {},
   "source": [
    "## What happens if you:\n",
    "- Change the variable to **False**?\n",
    "- Change the variable to **true**?\n",
    "- Change the variable to **false**?"
   ]
  },
  {
   "cell_type": "code",
   "execution_count": 2,
   "metadata": {},
   "outputs": [
    {
     "name": "stdout",
     "output_type": "stream",
     "text": [
      "False\n"
     ]
    }
   ],
   "source": [
    "boolean_variable = False\n",
    "print(boolean_variable)"
   ]
  },
  {
   "cell_type": "code",
   "execution_count": 3,
   "metadata": {},
   "outputs": [
    {
     "ename": "NameError",
     "evalue": "name 'true' is not defined",
     "output_type": "error",
     "traceback": [
      "\u001b[1;31m---------------------------------------------------------------------------\u001b[0m",
      "\u001b[1;31mNameError\u001b[0m                                 Traceback (most recent call last)",
      "\u001b[1;32mc:\\Users\\vpram\\Python Specialization\\Course 1\\Week 1\\2 Variable\\4 Data Types - Boolean.ipynb Cell 5'\u001b[0m in \u001b[0;36m<module>\u001b[1;34m\u001b[0m\n\u001b[1;32m----> <a href='vscode-notebook-cell:/c%3A/Users/vpram/Python%20Specialization/Course%201/Week%201/2%20Variable/4%20Data%20Types%20-%20Boolean.ipynb#ch0000006?line=0'>1</a>\u001b[0m boolean_variable \u001b[39m=\u001b[39m true\n\u001b[0;32m      <a href='vscode-notebook-cell:/c%3A/Users/vpram/Python%20Specialization/Course%201/Week%201/2%20Variable/4%20Data%20Types%20-%20Boolean.ipynb#ch0000006?line=1'>2</a>\u001b[0m \u001b[39mprint\u001b[39m(boolean_variable)\n",
      "\u001b[1;31mNameError\u001b[0m: name 'true' is not defined"
     ]
    }
   ],
   "source": [
    "boolean_variable = true\n",
    "print(boolean_variable)"
   ]
  },
  {
   "cell_type": "code",
   "execution_count": 4,
   "metadata": {},
   "outputs": [
    {
     "ename": "NameError",
     "evalue": "name 'false' is not defined",
     "output_type": "error",
     "traceback": [
      "\u001b[1;31m---------------------------------------------------------------------------\u001b[0m",
      "\u001b[1;31mNameError\u001b[0m                                 Traceback (most recent call last)",
      "\u001b[1;32mc:\\Users\\vpram\\Python Specialization\\Course 1\\Week 1\\2 Variable\\4 Data Types - Boolean.ipynb Cell 6'\u001b[0m in \u001b[0;36m<module>\u001b[1;34m\u001b[0m\n\u001b[1;32m----> <a href='vscode-notebook-cell:/c%3A/Users/vpram/Python%20Specialization/Course%201/Week%201/2%20Variable/4%20Data%20Types%20-%20Boolean.ipynb#ch0000007?line=0'>1</a>\u001b[0m boolean_variable \u001b[39m=\u001b[39m false\n\u001b[0;32m      <a href='vscode-notebook-cell:/c%3A/Users/vpram/Python%20Specialization/Course%201/Week%201/2%20Variable/4%20Data%20Types%20-%20Boolean.ipynb#ch0000007?line=1'>2</a>\u001b[0m \u001b[39mprint\u001b[39m(boolean_variable)\n",
      "\u001b[1;31mNameError\u001b[0m: name 'false' is not defined"
     ]
    }
   ],
   "source": [
    "boolean_variable = false\n",
    "print(boolean_variable)"
   ]
  },
  {
   "cell_type": "markdown",
   "metadata": {},
   "source": [
    "## Reading Question\n",
    "What is the rule regarding boolean values in Python?\n",
    "\n",
    "\n",
    "- Boolean values are case sensitive and must be lowercase.\n",
    "- Boolean values are not case sensitive and can be either uppercase or lowercase.\n",
    "- Boolean values are case sensitive and must be uppercase. **Correct Answer**\n",
    "- Boolean values are case sensitive and must be all caps.\n",
    "\n",
    "Boolean values in Python are case sensitive. They must start with a capital letter.\n",
    "**True** and **False**"
   ]
  }
 ],
 "metadata": {
  "interpreter": {
   "hash": "12d9efd1b418ad7485587f2da0512ee7fc7c20b6462fdb2a696d6f33bbf19b58"
  },
  "kernelspec": {
   "display_name": "Python 3.10.4 64-bit",
   "language": "python",
   "name": "python3"
  },
  "language_info": {
   "codemirror_mode": {
    "name": "ipython",
    "version": 3
   },
   "file_extension": ".py",
   "mimetype": "text/x-python",
   "name": "python",
   "nbconvert_exporter": "python",
   "pygments_lexer": "ipython3",
   "version": "3.10.4"
  },
  "orig_nbformat": 4
 },
 "nbformat": 4,
 "nbformat_minor": 2
}
