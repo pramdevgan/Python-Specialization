{
 "cells": [
  {
   "cell_type": "markdown",
   "metadata": {},
   "source": [
    "Which statement below will print <span style=\"color:red\">Hi!</span> ***without*** a newline character?\n",
    "\n",
    "- print(\"Hi!\", end='')\n",
    "- print(\"Hi!\", end=N/A)\n",
    "- print(\"Hi!\", stop='')\n",
    "- print(\"Hi!\")"
   ]
  },
  {
   "cell_type": "code",
   "execution_count": 4,
   "metadata": {},
   "outputs": [
    {
     "name": "stdout",
     "output_type": "stream",
     "text": [
      "Hi!"
     ]
    }
   ],
   "source": [
    "print(\"Hi!\", end='')\n",
    "print(\"Hi!\", end=N/A)\n",
    "print(\"Hi!\", stop='')\n",
    "print(\"Hi!\")"
   ]
  },
  {
   "cell_type": "markdown",
   "metadata": {},
   "source": [
    "By default, the <span style=\"color:red\">print</span> statement will add a newline character. To remove it, add <span style=\"color:red\">end=''</span> or <span style=\"color:red\">end=\"\"</span> to the print statement. The solution is <span style=\"color:red\">print(\"Hi!\", end='').</span>"
   ]
  },
  {
   "cell_type": "markdown",
   "metadata": {},
   "source": []
  }
 ],
 "metadata": {
  "interpreter": {
   "hash": "12d9efd1b418ad7485587f2da0512ee7fc7c20b6462fdb2a696d6f33bbf19b58"
  },
  "kernelspec": {
   "display_name": "Python 3.10.4 64-bit",
   "language": "python",
   "name": "python3"
  },
  "language_info": {
   "codemirror_mode": {
    "name": "ipython",
    "version": 3
   },
   "file_extension": ".py",
   "mimetype": "text/x-python",
   "name": "python",
   "nbconvert_exporter": "python",
   "pygments_lexer": "ipython3",
   "version": "3.10.4"
  },
  "orig_nbformat": 4
 },
 "nbformat": 4,
 "nbformat_minor": 2
}
