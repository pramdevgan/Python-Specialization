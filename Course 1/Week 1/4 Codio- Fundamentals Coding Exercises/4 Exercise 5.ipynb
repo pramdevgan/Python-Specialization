{
 "cells": [
  {
   "cell_type": "markdown",
   "metadata": {},
   "source": [
    "# **<p style=\"text-align:center\">Exercise 5</p>**\n",
    "*Use the button below to test your code before submitting it.*"
   ]
  },
  {
   "cell_type": "markdown",
   "metadata": {},
   "source": [
    "## Exercise 5\n",
    "Use **two** print statements to write the following string:\n",
    "\n",
    "*Okay, it is time to learn about operators.*"
   ]
  },
  {
   "cell_type": "markdown",
   "metadata": {},
   "source": [
    "```\n",
    "There are several ways to solve this problem, so there is no single solution. The key to this problem is removing the newline character from the first print statement. This will ensure that two print statements will produce a single line of output. Here is one possible solution.\n",
    "```"
   ]
  },
  {
   "cell_type": "code",
   "execution_count": 1,
   "metadata": {},
   "outputs": [
    {
     "name": "stdout",
     "output_type": "stream",
     "text": [
      "Okay, it is time to learn about operators.\n"
     ]
    }
   ],
   "source": [
    "print(\"Okay, \", end='')\n",
    "print(\"it is time to learn about operators.\")"
   ]
  }
 ],
 "metadata": {
  "interpreter": {
   "hash": "12d9efd1b418ad7485587f2da0512ee7fc7c20b6462fdb2a696d6f33bbf19b58"
  },
  "kernelspec": {
   "display_name": "Python 3.10.4 64-bit",
   "language": "python",
   "name": "python3"
  },
  "language_info": {
   "codemirror_mode": {
    "name": "ipython",
    "version": 3
   },
   "file_extension": ".py",
   "mimetype": "text/x-python",
   "name": "python",
   "nbconvert_exporter": "python",
   "pygments_lexer": "ipython3",
   "version": "3.10.4"
  },
  "orig_nbformat": 4
 },
 "nbformat": 4,
 "nbformat_minor": 2
}
