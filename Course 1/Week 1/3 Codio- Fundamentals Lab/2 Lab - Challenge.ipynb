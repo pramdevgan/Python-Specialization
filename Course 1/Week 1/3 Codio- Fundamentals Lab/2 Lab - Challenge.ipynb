{
 "cells": [
  {
   "cell_type": "markdown",
   "metadata": {},
   "source": [
    "## **Lab - Challenge**\n",
    "### **Tutorial Lab 3: Fundamentals Challenge**\n",
    "Fundamentals Lab Challenge\n",
    "You now know how to declare variables with four different data types and print these variables.\n",
    "\n",
    "Rearrange the code blocks below such that you have a program that prints the output below. Note, you **will not** use all of the code blocks for your solution.\n",
    "```\n",
    "Python fundamentals are very useful\n",
    "```"
   ]
  },
  {
   "cell_type": "code",
   "execution_count": 1,
   "metadata": {},
   "outputs": [
    {
     "name": "stdout",
     "output_type": "stream",
     "text": [
      "Python fundamentals are very useful\n"
     ]
    }
   ],
   "source": [
    "variable_1 = \"Python fundamentals are very useful\"\n",
    "variable_2 = variable_1\n",
    "print(variable_2)"
   ]
  },
  {
   "cell_type": "markdown",
   "metadata": {},
   "source": [
    "There is only one **print** command, and it prints the value of **variable_2**. So, **variable_2** must contain the phrase **Python fundamentals are very useful**. Since this phrase is stored in **variable_1**, then you need to set the value of **variable_2** to that of **variable_1**."
   ]
  }
 ],
 "metadata": {
  "interpreter": {
   "hash": "12d9efd1b418ad7485587f2da0512ee7fc7c20b6462fdb2a696d6f33bbf19b58"
  },
  "kernelspec": {
   "display_name": "Python 3.10.4 64-bit",
   "language": "python",
   "name": "python3"
  },
  "language_info": {
   "codemirror_mode": {
    "name": "ipython",
    "version": 3
   },
   "file_extension": ".py",
   "mimetype": "text/x-python",
   "name": "python",
   "nbconvert_exporter": "python",
   "pygments_lexer": "ipython3",
   "version": "3.10.4"
  },
  "orig_nbformat": 4
 },
 "nbformat": 4,
 "nbformat_minor": 2
}
