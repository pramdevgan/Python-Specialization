{
 "cells": [
  {
   "cell_type": "markdown",
   "metadata": {},
   "source": [
    "# Exercise 3\n",
    "## Files Exercise 3\n",
    "**Problem**\n",
    "Write a program that reads a text file and prints the contents in reverse order.\n",
    "\n",
    "**Expected Output**\n",
    "The first two lines of your code **must** look like this:\n",
    "\n",
    "```python\n",
    "import sys\n",
    "\n",
    "test_file = sys.argv[1]\n",
    "```\n",
    "\n",
    "This allows for different text files to be sent to your program for testing.  **Hint** , to open the file use `with open(test_file, \"r\"...`. The `TRY IT` button below will send a test file to your program. You should see the following output:\n",
    "\n",
    "```text\n",
    "The child still struggled and loaded me with epithets which carried despair to my heart; I grasped his throat to silence him, and in a moment he lay dead at my feet.\n",
    "‘Frankenstein! you belong then to my enemy—to him towards whom I have sworn eternal revenge; you shall be my first victim.’\n",
    "‘Hideous monster! Let me go. My papa is a syndic—he is M. Frankenstein—he will punish you. You dare not keep me.’\n",
    "‘Boy, you will never see your father again; you must come with me.’\n",
    "He struggled violently. ‘Let me go,’ he cried; ‘monster! Ugly wretch! You wish to eat me and tear me to pieces. You are an ogre. Let me go, or I will tell my papa.’\n",
    "```"
   ]
  },
  {
   "cell_type": "code",
   "execution_count": null,
   "metadata": {},
   "outputs": [],
   "source": []
  },
  {
   "cell_type": "code",
   "execution_count": 11,
   "metadata": {},
   "outputs": [
    {
     "name": "stdout",
     "output_type": "stream",
     "text": [
      "The first two lines of your code must look like this:\n",
      "Expected Output\n",
      "Write a program that reads a text file and returns the number of lines as well as the total number of characters in the file.\n",
      "Problem\n"
     ]
    }
   ],
   "source": [
    "with open(\"student_folder/.exercise/exercise1.txt\",\"r\") as input_file:\n",
    "    line = input_file.readlines()\n",
    "    reverse = reversed(line)\n",
    "    for i in reverse:\n",
    "        print(i.rstrip())"
   ]
  },
  {
   "cell_type": "markdown",
   "metadata": {},
   "source": [
    "### **Here are the steps to code**\n",
    "The first two lines of the program are given.\n",
    "\n",
    "```python\n",
    "import sys\n",
    "\n",
    "test_file = sys.argv[1]\n",
    "```\n",
    "\n",
    "Next, open the file in read mode. Read all of the lines at once, and then reverse the order of the list.\n",
    "\n",
    "```python\n",
    "with open(test_file, \"r\") as input_file:\n",
    "    lines = input_file.readlines()\n",
    "    lines.reverse()\n",
    "```\n",
    "\n",
    "Iterate through the list of strings and print each one.\n",
    "\n",
    "```python\n",
    "    for line in lines:\n",
    "        print(line)\n",
    "```\n",
    "\n",
    "Here is the complete code.\n",
    "\n",
    "```python\n",
    "import sys\n",
    "\n",
    "test_file = sys.argv[1]\n",
    "\n",
    "with open(test_file, \"r\") as input_file:\n",
    "    lines = input_file.readlines()\n",
    "    lines.reverse()\n",
    "    for line in lines:\n",
    "        print(line)\n",
    "```"
   ]
  }
 ],
 "metadata": {
  "kernelspec": {
   "display_name": "Python 3.10.4 64-bit",
   "language": "python",
   "name": "python3"
  },
  "language_info": {
   "codemirror_mode": {
    "name": "ipython",
    "version": 3
   },
   "file_extension": ".py",
   "mimetype": "text/x-python",
   "name": "python",
   "nbconvert_exporter": "python",
   "pygments_lexer": "ipython3",
   "version": "3.10.4"
  },
  "orig_nbformat": 4,
  "vscode": {
   "interpreter": {
    "hash": "12d9efd1b418ad7485587f2da0512ee7fc7c20b6462fdb2a696d6f33bbf19b58"
   }
  }
 },
 "nbformat": 4,
 "nbformat_minor": 2
}
