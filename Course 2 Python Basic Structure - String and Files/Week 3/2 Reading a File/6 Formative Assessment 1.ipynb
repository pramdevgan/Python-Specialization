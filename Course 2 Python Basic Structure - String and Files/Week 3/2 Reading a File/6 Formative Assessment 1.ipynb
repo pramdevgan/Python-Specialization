{
 "cells": [
  {
   "cell_type": "markdown",
   "metadata": {},
   "source": [
    "# Formative Assessment 1\n",
    "---\n",
    "## Formative Assessment\n",
    "\n",
    "Assume you have a text file called `story.txt`. Rearrange the code blocks below so that the program will print the text file as you would expect it to appear.  **Note** , not all of the code blocks will be used.\n",
    "\n",
    "Drag from here\n",
    "\n",
    "* print(lines, end='')\n",
    "* lines = input_file.readlines()\n",
    "* for line in lines:\n",
    "* print(line, end='')\n",
    "* lines = input_file.writelines()\n",
    "* with open(\"story.txt\", \"r\") as input_file:\n",
    "* with open(\"story.txt\", \"a\") as input_file:\n",
    "\n",
    "Construct your solution here\n",
    "```python\n",
    "with open(\"student_folder/text/stroy.txt\", \"r\") as input_file:\n",
    "    lines = input_file.readlines()\n",
    "    for line in lines:\n",
    "        print(line, end=\"\")\n",
    "```\n",
    "\n",
    "In order to print the contents of a text file, you need to read the file first. Choose the `with open...` code block that has `\"r\"` to indicate read mode. When declaring the variable `lines` be sure to use the `readlines()` method and not `writelines()`. If you use `print(lines)`, you will not see the text in a “normal” manner. `lines` is a list that contains strings from the text. Printing this will output square brackets, quotation marks, newline characters, etc. Instead, loop through `lines` and print each string. Use `end=''` in the `print` statement to keep from have extra blank lines between the text."
   ]
  },
  {
   "cell_type": "code",
   "execution_count": 1,
   "metadata": {},
   "outputs": [
    {
     "name": "stdout",
     "output_type": "stream",
     "text": [
      "There was commotion in Roaring Camp. It could not have been a fight, for in 1850 that was not novel enough to have called together the entire settlement. The ditches and claims were not only deserted, but \"Tuttle's grocery\" had contributed its gamblers, who, it will be remembered, calmly continued their game the day that French Pete and Kanaka Joe shot each other to death over the bar in the front room. The whole camp was collected before a rude cabin on the outer edge of the clearing. Conversation was carried on in a low tone, but the name of a woman was frequently repeated. It was a name familiar enough in the camp,--\"Cherokee Sal.\"\n",
      "\n",
      "Perhaps the less said of her the better. She was a coarse and, it is to be feared, a very sinful woman. But at that time she was the only woman in Roaring Camp, and was just then lying in sore extremity, when she most needed the ministration of her own sex. Dissolute, abandoned, and irreclaimable, she was yet suffering a martyrdom hard enough to bear even when veiled by sympathizing womanhood, but now terrible in her loneliness. The primal curse had come to her in that original isolation which must have made the punishment of the first transgression so dreadful. It was, perhaps, part of the expiation of her sin that, at a moment when she most lacked her sex's intuitive tenderness and care, she met only the half-contemptuous faces of her masculine associates. Yet a few of the spectators were, I think, touched by her sufferings. Sandy Tipton thought it was \"rough on Sal,\" and, in the contemplation of her condition, for a moment rose superior to the fact that he had an ace and two bowers in his sleeve."
     ]
    }
   ],
   "source": [
    "with open(\"student_folder/text/stroy.txt\", \"r\") as input_file:\n",
    "    lines = input_file.readlines()\n",
    "    for line in lines:\n",
    "        print(line, end=\"\")"
   ]
  }
 ],
 "metadata": {
  "kernelspec": {
   "display_name": "Python 3.10.4 64-bit",
   "language": "python",
   "name": "python3"
  },
  "language_info": {
   "codemirror_mode": {
    "name": "ipython",
    "version": 3
   },
   "file_extension": ".py",
   "mimetype": "text/x-python",
   "name": "python",
   "nbconvert_exporter": "python",
   "pygments_lexer": "ipython3",
   "version": "3.10.4"
  },
  "orig_nbformat": 4,
  "vscode": {
   "interpreter": {
    "hash": "12d9efd1b418ad7485587f2da0512ee7fc7c20b6462fdb2a696d6f33bbf19b58"
   }
  }
 },
 "nbformat": 4,
 "nbformat_minor": 2
}
