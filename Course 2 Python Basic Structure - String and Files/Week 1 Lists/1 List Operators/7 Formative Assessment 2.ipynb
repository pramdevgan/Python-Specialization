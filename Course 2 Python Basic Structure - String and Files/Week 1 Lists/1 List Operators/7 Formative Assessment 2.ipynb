{
 "cells": [
  {
   "cell_type": "markdown",
   "metadata": {},
   "source": [
    "# ***Formative Assessment 2***\n",
    "##### **List Operators**\n",
    "\n",
    "Drag the appropriate blocks and place them in the correct order. Your program should do the following things:\n",
    "\n",
    "- Check to see if the length of `list_1` is an element of `list_2`\n",
    "- If yes, print `yes`\n",
    "- If no, print `no`\n",
    "\n",
    "**Hint**, you will not use all of the blocks.\n",
    "\n",
    "Drag from here\n",
    "```\n",
    "elif: \n",
    "```\n",
    "***<font color = green>print(\"yes\")</font>*** <br>\n",
    "***<font color = green>print(\"no\")</font>*** <br>\n",
    "***<font color = green>if len(list_1) in list_2:</font>*** <br>\n",
    "```\n",
    "if len(list_1) on list_2:\n",
    "if length(list_1) in list_2:\n",
    "```\n",
    "***<font color = green>else:</font>*** <br>\n",
    "Construct your solution here"
   ]
  },
  {
   "cell_type": "code",
   "execution_count": 3,
   "metadata": {},
   "outputs": [
    {
     "name": "stdout",
     "output_type": "stream",
     "text": [
      "yes\n"
     ]
    }
   ],
   "source": [
    "list_1 = [1,2,3,4,5]\n",
    "list_2 = [1,2,3,4,5]\n",
    "\n",
    "if len(list_1) in list_2:\n",
    "    print(\"yes\")\n",
    "else:\n",
    "    print(\"no\")"
   ]
  },
  {
   "cell_type": "markdown",
   "metadata": {},
   "source": [
    "Use `len` to check the length of a list. Use `in` to see if a value is an element of a list. Use `else` since there is only question to answer.\n",
    "```\n",
    "if len(list_1) in list_2:\n",
    "    print(\"yes\")\n",
    "else:\n",
    "    print(\"no\")\n",
    "```"
   ]
  }
 ],
 "metadata": {
  "interpreter": {
   "hash": "12d9efd1b418ad7485587f2da0512ee7fc7c20b6462fdb2a696d6f33bbf19b58"
  },
  "kernelspec": {
   "display_name": "Python 3.10.4 64-bit",
   "language": "python",
   "name": "python3"
  },
  "language_info": {
   "codemirror_mode": {
    "name": "ipython",
    "version": 3
   },
   "file_extension": ".py",
   "mimetype": "text/x-python",
   "name": "python",
   "nbconvert_exporter": "python",
   "pygments_lexer": "ipython3",
   "version": "3.10.4"
  },
  "orig_nbformat": 4
 },
 "nbformat": 4,
 "nbformat_minor": 2
}
