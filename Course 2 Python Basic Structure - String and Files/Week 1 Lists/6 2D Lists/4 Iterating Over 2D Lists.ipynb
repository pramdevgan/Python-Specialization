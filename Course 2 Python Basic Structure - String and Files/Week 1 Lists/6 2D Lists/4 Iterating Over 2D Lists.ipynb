{
 "cells": [
  {
   "cell_type": "markdown",
   "metadata": {},
   "source": [
    "# ***Iterating Over 2D Lists***\n",
    "## **Iterating with Indices**\n",
    "Using a traditional for loop to iterate over a 2D list works, but it does not allow access to all of the information stored in the 2D list. Below is a list of the tallest mountains in Asia, North America, and Africa. Assume you want to print its name if the mountain has six or fewer characters. Those mountains would be K2 and Denali."
   ]
  },
  {
   "cell_type": "code",
   "execution_count": 1,
   "metadata": {},
   "outputs": [
    {
     "name": "stdout",
     "output_type": "stream",
     "text": [
      "['Mount Everest', 'K2', 'Kangchenjunga']\n",
      "['Denali', 'Mount Logan', 'Pico de Orizaba']\n",
      "['Mount Kilimanjaro', 'Mount Kenya', 'Mount Ngaliema']\n"
     ]
    }
   ],
   "source": [
    "mountains = [\n",
    "              [\"Mount Everest\", \"K2\", \"Kangchenjunga\"],\n",
    "              [\"Denali\", \"Mount Logan\", \"Pico de Orizaba\"],\n",
    "              [\"Mount Kilimanjaro\", \"Mount Kenya\", \"Mount Ngaliema\"]\n",
    "            ]\n",
    "\n",
    "for mountain in mountains:\n",
    "    if len(mountain) <= 6:\n",
    "        print(mountain)"
   ]
  },
  {
   "cell_type": "markdown",
   "metadata": {},
   "source": [
    "The code above did not produce the desired result. That is because the for loop only looked at each of the three lists. It did not look inside each list. So the line of code `len(mountain)` was not calculating the length of each individual mountain. Instead it was calculating the length of each list of mountains. Since each list has three elements, all of the lists were printed.\n",
    "\n",
    "\n",
    "To access each of the elements inside the inner lists, you need to use a nested loop."
   ]
  },
  {
   "cell_type": "code",
   "execution_count": 2,
   "metadata": {},
   "outputs": [
    {
     "name": "stdout",
     "output_type": "stream",
     "text": [
      "K2\n",
      "Denali\n"
     ]
    }
   ],
   "source": [
    "mountains = [\n",
    "              [\"Mount Everest\", \"K2\", \"Kangchenjunga\"],\n",
    "              [\"Denali\", \"Mount Logan\", \"Pico de Orizaba\"],\n",
    "              [\"Mount Kilimanjaro\", \"Mount Kenya\", \"Mount Ngaliema\"]\n",
    "            ]\n",
    "\n",
    "for row in range(3):\n",
    "    for column in range(3):\n",
    "        if len(mountains[row][column]) <= 6:\n",
    "            print(mountains[row][column])"
   ]
  },
  {
   "cell_type": "markdown",
   "metadata": {},
   "source": [
    "#### **Try this variation:**\n",
    "Use the following 2D list to help you solve the coding problem below.\n",
    "```\n",
    "numbers = [\n",
    "            [11, 13, 22, 76, 54],\n",
    "            [2, 65, 107, 112, 8],\n",
    "            [33, 90, 34, 7, 804]\n",
    "          ]\n",
    "```\n",
    "Iterate over the list `numbers` and for every element print `even` if it is an even number or print `odd` if it is an odd number."
   ]
  },
  {
   "cell_type": "code",
   "execution_count": 13,
   "metadata": {},
   "outputs": [
    {
     "name": "stdout",
     "output_type": "stream",
     "text": [
      "odd\n",
      "odd\n",
      "\teven\n",
      "\teven\n",
      "\teven\n",
      "\teven\n",
      "odd\n",
      "odd\n",
      "\teven\n",
      "\teven\n",
      "odd\n",
      "\teven\n",
      "\teven\n",
      "odd\n",
      "\teven\n"
     ]
    }
   ],
   "source": [
    "numbers = [\n",
    "            [11, 13, 22, 76, 54],\n",
    "            [2, 65, 107, 112, 8],\n",
    "            [33, 90, 34, 7, 804]\n",
    "        ]\n",
    "\n",
    "for row in range(3):\n",
    "    for column in range(5):\n",
    "        if numbers[row][column] % 2 == 0:\n",
    "            print(\"\\teven\")\n",
    "        else:\n",
    "            print(\"odd\")"
   ]
  },
  {
   "cell_type": "markdown",
   "metadata": {},
   "source": [
    "## **Iterating without Indexes**\n",
    "The examples above show how to use a nested loop with indexes to iterate over a 2D list. We saw in an earlier section how to iterate over a traditional list in a more pythonic way. The following code snippet iterates over the list `numbers` and prints each element. No indexes (`number[1]`) were used."
   ]
  },
  {
   "cell_type": "code",
   "execution_count": 15,
   "metadata": {},
   "outputs": [
    {
     "name": "stdout",
     "output_type": "stream",
     "text": [
      "1\n",
      "2\n",
      "3\n",
      "4\n",
      "5\n"
     ]
    }
   ],
   "source": [
    "numbers = [1,2,3,4,5]\n",
    "for number in numbers:\n",
    "    print(number)"
   ]
  },
  {
   "cell_type": "markdown",
   "metadata": {},
   "source": [
    "### **What does pythonic mean?**\n",
    "Pythonic means using the features of the Python language to make your code simple, concise, and easy to read. In this case, use the pattern \"for element in sequence\" instead of the list name and an index.\n",
    "This same idea can be used on a 2D list. The code below uses the mountain example but without any indexes. This code is a bit easier to read since `mountain` replaces `mountains[row][column]`."
   ]
  },
  {
   "cell_type": "code",
   "execution_count": 16,
   "metadata": {},
   "outputs": [
    {
     "name": "stdout",
     "output_type": "stream",
     "text": [
      "K2\n",
      "Denali\n"
     ]
    }
   ],
   "source": [
    "mountains = [\n",
    "                [\"Mount Everest\", \"K2\", \"Kangchenjunga\"],\n",
    "                [\"Denali\", \"Mount Logan\", \"Pico de Orizaba\"],\n",
    "                [\"Mount Kilimanjaro\", \"Mount Kenya\", \"Mount Ngaliema\"]\n",
    "            ]\n",
    "for row in mountains:\n",
    "    for mountain in row:\n",
    "        if len(mountain) <= 6:\n",
    "            print(mountain)"
   ]
  },
  {
   "cell_type": "markdown",
   "metadata": {},
   "source": [
    "Try this variation:\n",
    "Use the following 2D list to help you solve the coding problem below.\n",
    "```\n",
    "numbers = [\n",
    "            [11, 13, 22, 76, 54],\n",
    "            [2, 65, 107, 112, 8],\n",
    "            [33, 90, 34, 7, 804]\n",
    "          ]\n",
    "```\n",
    "Iterate over the list `numbers` and for every element print `even` if it is an even number or print `odd` if it is an odd number. Write your loop such that no indices are needed."
   ]
  },
  {
   "cell_type": "code",
   "execution_count": 33,
   "metadata": {},
   "outputs": [
    {
     "name": "stdout",
     "output_type": "stream",
     "text": [
      "11  is odd number\n",
      "13  is odd number\n",
      "\t 22  is even number\n",
      "\t 76  is even number\n",
      "\t 54  is even number\n",
      "\t 2  is even number\n",
      "65  is odd number\n",
      "107  is odd number\n",
      "\t 112  is even number\n",
      "\t 8  is even number\n",
      "33  is odd number\n",
      "\t 90  is even number\n",
      "\t 34  is even number\n",
      "7  is odd number\n",
      "\t 804  is even number\n"
     ]
    }
   ],
   "source": [
    "numbers = [\n",
    "            [11, 13, 22, 76, 54],\n",
    "            [2, 65, 107, 112, 8],\n",
    "            [33, 90, 34, 7, 804]\n",
    "        ]\n",
    "\n",
    "\n",
    "for row in numbers:\n",
    "    for number in row:\n",
    "        if number % 2 == 0:\n",
    "            print(\"\\t\", number , str(\" is even number\"))\n",
    "        else:\n",
    "            print(number , str(\" is odd number\"))"
   ]
  },
  {
   "cell_type": "markdown",
   "metadata": {},
   "source": [
    "### **Reading Question**\n",
    "Why is it important to use a nested loop to iterate over all of the elements in a 2D list?\n",
    "\n",
    "- It is not important. A traditional loop is just as good as a nested loop.\n",
    "- Using a single loop on a 2D list will cause an error.\n",
    "- **<font color = green>A nested loop is required because the first loop iterates over the inner lists and the second loop iterates over the elements in each inner loop.</font>** <---- Correct Answer\n",
    "- The loops do not need to be nested. Two consecutive for loops do the same job as the nested loop.\n",
    "\n",
    "\n",
    "    - `Using only one loop will give the user access to the inner lists of a 2D lists, but it will not give you access to the elements in the inner lists.`\n",
    "    - `Python will not throw an error if a non-nested for loop is used with a 2D list.`\n",
    "    - `Consecutive for loops do not provide the same functionality as a nested loop. You will not be able to access the inner list and its elements unless a nested loop is used.`"
   ]
  }
 ],
 "metadata": {
  "kernelspec": {
   "display_name": "Python 3.10.4 64-bit",
   "language": "python",
   "name": "python3"
  },
  "language_info": {
   "codemirror_mode": {
    "name": "ipython",
    "version": 3
   },
   "file_extension": ".py",
   "mimetype": "text/x-python",
   "name": "python",
   "nbconvert_exporter": "python",
   "pygments_lexer": "ipython3",
   "version": "3.10.4"
  },
  "orig_nbformat": 4,
  "vscode": {
   "interpreter": {
    "hash": "12d9efd1b418ad7485587f2da0512ee7fc7c20b6462fdb2a696d6f33bbf19b58"
   }
  }
 },
 "nbformat": 4,
 "nbformat_minor": 2
}
