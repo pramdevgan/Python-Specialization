{
 "cells": [
  {
   "cell_type": "markdown",
   "metadata": {},
   "source": [
    "## **Formative Assessment 1**\n",
    "\n",
    "2D Lists\n",
    "Assume the following code:\n",
    "```\n",
    "colors = [\n",
    "           [\"orange\", \"purple\", \"green\"],\n",
    "           [\"blue\", \"white\", \"brown\"],\n",
    "           [\"black\", \"red\", \"yellow\"],\n",
    "         ]\n",
    "```\n",
    "Which answer will print red?\n",
    "\n",
    "\n",
    "- `print(colors[1][2])`\n",
    "- `print(colors[3][2])`\n",
    "- `print(colors{2}{1})`\n",
    "- **<font color = green>print(colors[2][1])</font>**\n",
    "\n",
    "\n",
    "##### **The correct answer is:**\n",
    "\n",
    "**<font color = green>print(colors[2][1])</font>**\n",
    "\n",
    "- `print(colors[1][2])` is not correct because this would return the color brown\n",
    "- `print(colors[3][2])` is not correct because counting for lists begins with 0, not 1\n",
    "- `print(colors{2}{1})` is not correct because square brackets are used with the indices"
   ]
  },
  {
   "cell_type": "code",
   "execution_count": 2,
   "metadata": {},
   "outputs": [
    {
     "name": "stdout",
     "output_type": "stream",
     "text": [
      "red\n"
     ]
    }
   ],
   "source": [
    "colors = [\n",
    "            [\"orange\", \"purple\", \"green\"],\n",
    "            [\"blue\", \"white\", \"brown\"],\n",
    "            [\"black\", \"red\", \"yellow\"],\n",
    "        ]\n",
    "\n",
    "print(colors[2][1])"
   ]
  }
 ],
 "metadata": {
  "kernelspec": {
   "display_name": "Python 3.10.4 64-bit",
   "language": "python",
   "name": "python3"
  },
  "language_info": {
   "codemirror_mode": {
    "name": "ipython",
    "version": 3
   },
   "file_extension": ".py",
   "mimetype": "text/x-python",
   "name": "python",
   "nbconvert_exporter": "python",
   "pygments_lexer": "ipython3",
   "version": "3.10.4"
  },
  "orig_nbformat": 4,
  "vscode": {
   "interpreter": {
    "hash": "12d9efd1b418ad7485587f2da0512ee7fc7c20b6462fdb2a696d6f33bbf19b58"
   }
  }
 },
 "nbformat": 4,
 "nbformat_minor": 2
}
