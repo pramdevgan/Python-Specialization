{
 "cells": [
  {
   "cell_type": "markdown",
   "metadata": {},
   "source": [
    "# ***Printing 2D Lists***\n",
    "## **Printing a 2D List**\n",
    "You previously saw how a single `print` statement can print a 2D list. For smaller lists, this works alright. As the 2D list grows in length and complexity, printing a 2D list on a single line becomes harder to read."
   ]
  },
  {
   "cell_type": "code",
   "execution_count": 9,
   "metadata": {},
   "outputs": [
    {
     "name": "stdout",
     "output_type": "stream",
     "text": [
      "[[75, 72, 69, 26, 100, 19, 55, 84, 85, 60], [61, 27, 56, 51, 95, 61, 32, 52, 84, 96], [92, 73, 1, 8, 30, 1, 63, 41, 36, 44], [4, 88, 42, 81, 56, 82, 53, 85, 39, 85], [86, 90, 1, 61, 57, 91, 37, 52, 95, 101], [19, 61, 15, 68, 76, 68, 65, 100, 75, 74], [64, 3, 17, 14, 26, 18, 38, 26, 96, 97], [50, 93, 7, 82, 51, 93, 3, 75, 13, 32], [14, 20, 58, 14, 92, 73, 1, 47, 94, 58], [4, 94, 87, 28, 21, 76, 93, 75, 51, 37]]\n"
     ]
    }
   ],
   "source": [
    "import random\n",
    "numbers = [[random.randint(1,101) for column in range (10)] for row in range (10)]\n",
    "print(numbers)\n"
   ]
  },
  {
   "cell_type": "markdown",
   "metadata": {},
   "source": [
    "#### **What is going on with the variable `numbers`?**\n",
    "The variable `numbers` is declared using something called a list comprehension. A list comprehension is a very concise (some would say difficult to understand) way of creating a list. numbers is a 2D list with ten columns and ten rows. Each element is a random integer between 1 and 100. Every time you run the code, the 2D list will be populated with different numbers.\n",
    "\n",
    "One way to increase readability is to use a single for loop and print each inner list."
   ]
  },
  {
   "cell_type": "code",
   "execution_count": 3,
   "metadata": {},
   "outputs": [
    {
     "name": "stdout",
     "output_type": "stream",
     "text": [
      "[[4, 4], [9, 2]]\n",
      "[[4, 4], [9, 2]]\n"
     ]
    }
   ],
   "source": [
    "import random \n",
    "\n",
    "numbers = [[random.randint(1,10) for columns in range(2)] for rows in range (2)]\n",
    "for row in numbers:\n",
    "    print(numbers)"
   ]
  },
  {
   "cell_type": "markdown",
   "metadata": {},
   "source": [
    "### **Try this variation:**\n",
    "Rewrite the following code such that each inner list is printed on its own line.\n",
    "```\n",
    "symbols = [[\"*\" for columns in range(5)] for rows in range(7)]\n",
    "print(symbols)\n",
    "```"
   ]
  },
  {
   "cell_type": "code",
   "execution_count": 3,
   "metadata": {},
   "outputs": [
    {
     "name": "stdout",
     "output_type": "stream",
     "text": [
      "['*', '*', '*', '*', '*'] \n",
      "['*', '*', '*', '*', '*'] \n",
      "['*', '*', '*', '*', '*'] \n",
      "['*', '*', '*', '*', '*'] \n",
      "['*', '*', '*', '*', '*'] \n"
     ]
    }
   ],
   "source": [
    "symbols = [[\"*\" for columns in range (5)] for rows in range (5)]\n",
    "for row in symbols:\n",
    "    print(row)"
   ]
  },
  {
   "cell_type": "markdown",
   "metadata": {},
   "source": [
    "## **Printing Just the Data**\n",
    "Using a single for loop to print each inner list on its own line helps with readability. However, you still see the square brackets and commas. Using a nested loop can remove these extra symbols."
   ]
  },
  {
   "cell_type": "code",
   "execution_count": 14,
   "metadata": {},
   "outputs": [
    {
     "name": "stdout",
     "output_type": "stream",
     "text": [
      "8  37  83  1  88  31  45  57  57  53  \n",
      "100  37  83  50  25  7  76  88  2  39  \n",
      "10  11  77  64  65  59  60  86  96  46  \n",
      "101  68  78  13  51  99  55  63  54  25  \n",
      "98  67  37  99  66  93  21  78  56  90  \n",
      "57  56  84  57  14  22  29  1  23  56  \n",
      "17  97  95  48  91  60  85  12  5  2  \n",
      "93  20  66  83  82  39  11  97  28  40  \n",
      "5  7  27  86  62  71  100  84  20  28  \n",
      "97  84  16  7  19  53  91  3  18  52  \n"
     ]
    }
   ],
   "source": [
    "import random\n",
    "\n",
    "numbers = [[random.randint(1,101) for columns in range (10)] for rows in range (10)]\n",
    "for row in numbers:\n",
    "    for number in row:\n",
    "        print(f\"{number}  \", end=\"\")\n",
    "    print()"
   ]
  },
  {
   "cell_type": "markdown",
   "metadata": {},
   "source": [
    "![](https://apollo-media.codio.com/media%2F1%2Ff5592dce54828daf4cc4c9c4e5922621-95263d104c0a2fb8.webp)"
   ]
  },
  {
   "cell_type": "markdown",
   "metadata": {},
   "source": [
    "#### **Try this variation:**\n",
    "Rewrite the following code such that each inner list is printed on its own line and there are no square brackets or commas.\n",
    "```\n",
    "symbols = [[\"*\" for columns in range(5)] for rows in range(7)]\n",
    "print(symbols)\n",
    "```"
   ]
  },
  {
   "cell_type": "code",
   "execution_count": 7,
   "metadata": {},
   "outputs": [
    {
     "name": "stdout",
     "output_type": "stream",
     "text": [
      "*   *   *   *   *   \n",
      "*   *   *   *   *   \n",
      "*   *   *   *   *   \n",
      "*   *   *   *   *   \n",
      "*   *   *   *   *   \n",
      "*   *   *   *   *   \n",
      "*   *   *   *   *   \n"
     ]
    }
   ],
   "source": [
    "symbols = [[\"*\" for columns in range(5)] for rows in range(7)]\n",
    "for row in symbols:\n",
    "    for symbol in row:\n",
    "        print(f\"{symbol} \", end=\"  \")\n",
    "    print()"
   ]
  },
  {
   "cell_type": "markdown",
   "metadata": {},
   "source": [
    "## **Formatting the Data**\n",
    "The output can be refined a further step by making the spacing between the numbers more consistent. There is a space between each number, but when a number can be one, two, or three digits the overall alignment does not look that good. Instead of printing a space between each number, print a tab (this requires the escape character (`\\t`)."
   ]
  },
  {
   "cell_type": "code",
   "execution_count": 9,
   "metadata": {},
   "outputs": [
    {
     "name": "stdout",
     "output_type": "stream",
     "text": [
      "33  14  90  22  32  42  75  55  6  44  100  11  75  90  10  91  93  50  68  \n",
      "79  90  7  62  92  34  96  21  58  9  70  32  50  101  8  79  42  27  48  \n",
      "56  52  12  77  46  94  21  24  7  75  37  32  79  34  98  90  90  12  60  \n",
      "69  62  28  37  79  84  60  99  37  79  12  64  59  81  12  92  30  71  86  \n",
      "6  82  76  36  90  60  80  89  62  71  55  43  33  16  83  39  17  13  20  \n",
      "49  73  54  32  35  8  86  26  98  83  65  9  96  49  89  101  43  71  26  \n",
      "86  36  70  75  44  44  9  50  28  32  26  5  94  33  13  25  89  100  45  \n",
      "29  49  17  63  12  82  84  81  57  40  41  38  90  21  2  23  4  70  36  \n",
      "33  45  82  75  59  89  17  80  49  35  96  4  52  6  25  57  43  22  39  \n",
      "47  78  77  83  1  6  93  78  48  10  86  6  26  89  45  22  83  19  50  \n"
     ]
    }
   ],
   "source": [
    "import random\n",
    "\n",
    "numbers = [[random.randint(1,101) for columns in range (19)] for rows in range (10)]\n",
    "for row in numbers:\n",
    "    for number in row:\n",
    "        print(f\"{number}  \", end=\"\")\n",
    "    print()"
   ]
  },
  {
   "cell_type": "markdown",
   "metadata": {},
   "source": [
    "### **Reading Question**\n",
    "Use the drop down menus for each question to fill in the blank.\n",
    "- Using a `single print statement` will print a 2D list on one line.\n",
    "- Using a `single for loop` will print each inner list of a 2D list on its own line.\n",
    "- Using a `nested loop` allows you to print each element of the inner lists without square brackets or commas."
   ]
  }
 ],
 "metadata": {
  "kernelspec": {
   "display_name": "Python 3.10.4 64-bit",
   "language": "python",
   "name": "python3"
  },
  "language_info": {
   "codemirror_mode": {
    "name": "ipython",
    "version": 3
   },
   "file_extension": ".py",
   "mimetype": "text/x-python",
   "name": "python",
   "nbconvert_exporter": "python",
   "pygments_lexer": "ipython3",
   "version": "3.10.4"
  },
  "orig_nbformat": 4,
  "vscode": {
   "interpreter": {
    "hash": "12d9efd1b418ad7485587f2da0512ee7fc7c20b6462fdb2a696d6f33bbf19b58"
   }
  }
 },
 "nbformat": 4,
 "nbformat_minor": 2
}
