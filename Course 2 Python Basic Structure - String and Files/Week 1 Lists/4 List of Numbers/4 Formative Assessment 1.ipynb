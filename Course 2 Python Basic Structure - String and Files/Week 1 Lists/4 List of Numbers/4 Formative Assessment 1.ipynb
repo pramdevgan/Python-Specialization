{
 "cells": [
  {
   "cell_type": "markdown",
   "metadata": {},
   "source": [
    "# ***Formative Assessment 1***\n",
    "#### **List of Numbers**\n",
    "Fill in the blanks with the proper code for each of the variables below. You are given the list `my_list` to help you write your code.\n",
    "\n",
    "`my_list = [14, 56, 71, 29 ,40, 11]`   \n",
    "`total = ` **<font color = green>sum(my_list)</font>**    \n",
    "`largest = `  **<font color = green>max(my_list)</font>**     \n",
    "`smallest = ` **<font color = green>min(my_list)</font>**  "
   ]
  },
  {
   "cell_type": "code",
   "execution_count": 1,
   "metadata": {},
   "outputs": [
    {
     "name": "stdout",
     "output_type": "stream",
     "text": [
      "Total of my List is :  221\n",
      "Largest No in my List is :  71\n",
      "Smallest No in my List is :  11\n"
     ]
    }
   ],
   "source": [
    "my_list = [14, 56, 71, 29 ,40, 11]\n",
    "total = sum(my_list)\n",
    "largest = max(my_list)\n",
    "smallest = min(my_list)\n",
    "print(\"Total of my List is : \", total)\n",
    "print(\"Largest No in my List is : \", largest)\n",
    "print(\"Smallest No in my List is : \", smallest)"
   ]
  },
  {
   "cell_type": "markdown",
   "metadata": {},
   "source": [
    "- The variable `total` is looking for the sum of the elements in the list. `total = sum(my_list)`\n",
    "- The variable `largest` is looking for the largest element in the list. `largest = max(my_list)`\n",
    "- The variable `smallest` is looking for the smallest element in the list. `smallest = min(my_list)`"
   ]
  }
 ],
 "metadata": {
  "interpreter": {
   "hash": "12d9efd1b418ad7485587f2da0512ee7fc7c20b6462fdb2a696d6f33bbf19b58"
  },
  "kernelspec": {
   "display_name": "Python 3.10.4 64-bit",
   "language": "python",
   "name": "python3"
  },
  "language_info": {
   "codemirror_mode": {
    "name": "ipython",
    "version": 3
   },
   "file_extension": ".py",
   "mimetype": "text/x-python",
   "name": "python",
   "nbconvert_exporter": "python",
   "pygments_lexer": "ipython3",
   "version": "3.10.4"
  },
  "orig_nbformat": 4
 },
 "nbformat": 4,
 "nbformat_minor": 2
}
