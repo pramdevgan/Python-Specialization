{
 "cells": [
  {
   "cell_type": "markdown",
   "metadata": {},
   "source": [
    "# **Formative Assessment 2**\n",
    "## **String Methods**\n",
    "Imagine you have a string variable `sentence`. Rearrange the code blocks below to create a program that checks if `sentence` starts with blank spaces. If yes, print sentence without the blank spaces.\n",
    "\n",
    "***Drag from here***\n",
    "```\n",
    "if sentence.startswith():\n",
    "print(sentence.strip())\n",
    "if sentence.beginswith(\" \"):\n",
    "```\n",
    "***Construct your solution here*** <br>\n",
    "`if sentence.startswith(\" \"):` <br>\n",
    "&emsp;&emsp; `print(sentence.strip(\" \"))`"
   ]
  },
  {
   "cell_type": "code",
   "execution_count": 3,
   "metadata": {},
   "outputs": [
    {
     "name": "stdout",
     "output_type": "stream",
     "text": [
      "Hello World\n"
     ]
    }
   ],
   "source": [
    "sentence = \" Hello World\"\n",
    "if sentence.startswith(\" \"):\n",
    "    print(sentence.strip(\" \"))"
   ]
  }
 ],
 "metadata": {
  "kernelspec": {
   "display_name": "Python 3.10.4 64-bit",
   "language": "python",
   "name": "python3"
  },
  "language_info": {
   "codemirror_mode": {
    "name": "ipython",
    "version": 3
   },
   "file_extension": ".py",
   "mimetype": "text/x-python",
   "name": "python",
   "nbconvert_exporter": "python",
   "pygments_lexer": "ipython3",
   "version": "3.10.4"
  },
  "orig_nbformat": 4,
  "vscode": {
   "interpreter": {
    "hash": "12d9efd1b418ad7485587f2da0512ee7fc7c20b6462fdb2a696d6f33bbf19b58"
   }
  }
 },
 "nbformat": 4,
 "nbformat_minor": 2
}
