{
 "cells": [
  {
   "cell_type": "markdown",
   "metadata": {},
   "source": [
    "# ***In Operator***\n",
    "## **The In Operator**\n",
    "The `in` operator tells you if a character or a string is present in another string. `in` returns a boolean value, either `True` or `False`."
   ]
  },
  {
   "cell_type": "code",
   "execution_count": 1,
   "metadata": {},
   "outputs": [
    {
     "name": "stdout",
     "output_type": "stream",
     "text": [
      "Lovely Professional University is located at Phagwara.\n",
      "True\n"
     ]
    }
   ],
   "source": [
    "my_string = \"Lovely Professional University is located at Phagwara.\"\n",
    "print(my_string)\n",
    "print(\"Lovely\" in my_string)"
   ]
  },
  {
   "cell_type": "markdown",
   "metadata": {},
   "source": [
    "### **What happens if you:**\n",
    "- Change the `print` statement to be `print(\"cat\" in my_string)`?\n",
    "- Change the `print` statement to be `print(\"Dog\" in my_string)`?\n",
    "- Change the `print` statement to be `print(\" \" in my_string)`?\n",
    "- Change the `print` statement to be `print(my_string in my_string)`?"
   ]
  },
  {
   "cell_type": "code",
   "execution_count": 4,
   "metadata": {},
   "outputs": [
    {
     "name": "stdout",
     "output_type": "stream",
     "text": [
      "True\n",
      "False\n",
      "False\n",
      "True\n",
      "True\n"
     ]
    }
   ],
   "source": [
    "my_string = \"The brown dog jumps over the lazy fox.\"\n",
    "print(\"dog\" in my_string)\n",
    "print(\"cat\" in my_string)\n",
    "print(\"Dog\" in my_string)\n",
    "print(\" \" in my_string)\n",
    "print(my_string in my_string)"
   ]
  },
  {
   "cell_type": "code",
   "execution_count": 5,
   "metadata": {},
   "outputs": [
    {
     "name": "stdout",
     "output_type": "stream",
     "text": [
      "Ohh No! dogs is not present in given string\n"
     ]
    }
   ],
   "source": [
    "my_string = \"The brown dog jumps over the lazy fox.\"\n",
    "search_index = \"dogs\"\n",
    "if search_index in my_string:\n",
    "    print(\"Ohh Yes!\",search_index,\"is present in given string\")\n",
    "else:\n",
    "    print(\"Ohh No!\",search_index,\"is not present in given string\")"
   ]
  },
  {
   "cell_type": "markdown",
   "metadata": {},
   "source": [
    "Reading Question\n",
    "Select all of the statements that are true about the in operator and strings. Hint, there are more than one correct answer.\n",
    "\n",
    "\n",
    "- `in returns a boolean value` ----> Correct Answer \n",
    "- in returns an index when a word is present in a string \n",
    "- `in will return False if a word is found in a string but one is lowercase and the other is uppercase` ----> Correct Answer  \n",
    "- in will return True if a word is found in a string even if one is lowercase and the other is uppercase \n",
    "\n",
    "\n",
    "The `in` operator will return a boolean value (`True` or `False`). The in operator is also case sensitive. That means the characters and case must match. If one is uppercase and the other is lowercase, `in` will return `False`."
   ]
  }
 ],
 "metadata": {
  "kernelspec": {
   "display_name": "Python 3.10.4 64-bit",
   "language": "python",
   "name": "python3"
  },
  "language_info": {
   "codemirror_mode": {
    "name": "ipython",
    "version": 3
   },
   "file_extension": ".py",
   "mimetype": "text/x-python",
   "name": "python",
   "nbconvert_exporter": "python",
   "pygments_lexer": "ipython3",
   "version": "3.10.4"
  },
  "orig_nbformat": 4,
  "vscode": {
   "interpreter": {
    "hash": "12d9efd1b418ad7485587f2da0512ee7fc7c20b6462fdb2a696d6f33bbf19b58"
   }
  }
 },
 "nbformat": 4,
 "nbformat_minor": 2
}
