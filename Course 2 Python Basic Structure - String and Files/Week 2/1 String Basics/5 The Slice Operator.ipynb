{
 "cells": [
  {
   "cell_type": "markdown",
   "metadata": {},
   "source": [
    "# ***The Slice Operator***\n",
    "## **The Slice Operator**\n",
    "The slice operator (`:`) returns a portion of the string. Provide numbers to the slice operator to indicate where you start and stop. The slice operator includes the first number, but does **not include** the second number. The slice operator does not modify the original string. Instead, it returns a partial copy of the original string.\n",
    "\n",
    "![](https://apollo-media.codio.com/media%2F1%2Fe63639319078e941a8f9b229becb8524-560b4cf8-a9c7-4e88-b12a-937cb7aca053.webp)"
   ]
  },
  {
   "cell_type": "code",
   "execution_count": 1,
   "metadata": {},
   "outputs": [
    {
     "name": "stdout",
     "output_type": "stream",
     "text": [
      "The brown dog jumps over the lazy fox.\n",
      "brown\n"
     ]
    }
   ],
   "source": [
    "my_string = \"The brown dog jumps over the lazy fox.\"\n",
    "print(my_string)\n",
    "my_slice = my_string[4:9]\n",
    "print(my_slice)"
   ]
  },
  {
   "cell_type": "markdown",
   "metadata": {},
   "source": [
    "### **What happens if you:**\n",
    "- Change the slice to be `my_string[1:2]`?\n",
    "- Change the slice to be `my_string[0:len(my_string)]`?\n",
    "- Change the slice to be `my_string[1:1]`?\n",
    "- Change the slice to be `my_string[:2]`?"
   ]
  },
  {
   "cell_type": "code",
   "execution_count": 4,
   "metadata": {},
   "outputs": [
    {
     "name": "stdout",
     "output_type": "stream",
     "text": [
      "h\n",
      "he brown dog jumps over the lazy fox.\n",
      "\n",
      "Th\n"
     ]
    }
   ],
   "source": [
    "my_string = \"The brown dog jumps over the lazy fox.\"\n",
    "my_slice = my_string[1:2]\n",
    "print(my_slice)\n",
    "my_slice = my_string[1:len(my_string)]\n",
    "print(my_slice)\n",
    "my_slice = my_string[1:1]\n",
    "print(my_slice)\n",
    "my_slice = my_string[:2]\n",
    "print(my_slice)\n"
   ]
  },
  {
   "cell_type": "markdown",
   "metadata": {},
   "source": [
    "#### **Slice Defaults**\n",
    "If no number is used for the starting point in a slice `my_string[:2]`, Python will default to 0. If no number is used for the stopping point `my_string[2:]`, Python will default to the end of the string. Using no numbers on a `slice my_string[:]`, Python will default to 0 for the start and the end of the string as the stopping point. In short, Python will return the entire string."
   ]
  },
  {
   "cell_type": "markdown",
   "metadata": {},
   "source": [
    "#### **Reading Question**\n",
    "Use the code below to help you answer the following question:\n",
    "\n",
    "```\n",
    "my_string = \"Calvin and Hobbes\"\n",
    "my_slice = my_string[3:8]\n",
    "What is the value of my_slice?\n",
    "```\n",
    "\n",
    "\n",
    "- “vin an”\n",
    "- “vin a”\n",
    "- \"lvin \"\n",
    "- “lvin a”\n",
    "\n",
    "The slice operator has start and stop values. The start value is inclusive, meaning this value is a part of the slice. The stop value is exclusive, meaning that this value is not a part of the slice. Since the slice is `[3:8]`, the answer will be the characters from indexes 3 to 7, which is `\"vin a\"`."
   ]
  },
  {
   "cell_type": "code",
   "execution_count": 5,
   "metadata": {},
   "outputs": [
    {
     "name": "stdout",
     "output_type": "stream",
     "text": [
      "vin a\n"
     ]
    }
   ],
   "source": [
    "my_string = \"Calvin and Hobbes\"\n",
    "my_slice = my_string[3:8]\n",
    "print(my_slice)"
   ]
  }
 ],
 "metadata": {
  "kernelspec": {
   "display_name": "Python 3.10.4 64-bit",
   "language": "python",
   "name": "python3"
  },
  "language_info": {
   "codemirror_mode": {
    "name": "ipython",
    "version": 3
   },
   "file_extension": ".py",
   "mimetype": "text/x-python",
   "name": "python",
   "nbconvert_exporter": "python",
   "pygments_lexer": "ipython3",
   "version": "3.10.4"
  },
  "orig_nbformat": 4,
  "vscode": {
   "interpreter": {
    "hash": "12d9efd1b418ad7485587f2da0512ee7fc7c20b6462fdb2a696d6f33bbf19b58"
   }
  }
 },
 "nbformat": 4,
 "nbformat_minor": 2
}
