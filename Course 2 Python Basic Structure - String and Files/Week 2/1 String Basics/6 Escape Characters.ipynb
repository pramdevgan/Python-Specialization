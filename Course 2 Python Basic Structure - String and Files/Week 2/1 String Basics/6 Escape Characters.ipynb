{
 "cells": [
  {
   "cell_type": "markdown",
   "metadata": {},
   "source": [
    "# ***Escape Characters***\n",
    "## **Escape Characters**\n",
    "An escape character is a character that has a different interpretation that what you see in a string. Escape characters always start with a backslash (`\\`). The most common escape character is the newline character (`\\n`) which causes Python to print on the next line."
   ]
  },
  {
   "cell_type": "code",
   "execution_count": 1,
   "metadata": {},
   "outputs": [
    {
     "name": "stdout",
     "output_type": "stream",
     "text": [
      "hello\n",
      "world\n"
     ]
    }
   ],
   "source": [
    "my_string = \"hello\\nworld\"\n",
    "print(my_string)"
   ]
  },
  {
   "cell_type": "markdown",
   "metadata": {},
   "source": [
    "| Escape Character     | Description                 | Example                |\n",
    "|----------------------|-----------------------------|------------------------|\n",
    "|        **\\\\\\\\**      | Prints  a backslash         | print(\"\\\\\")            |\n",
    "|        **\\'**        | Prints a single quote       | print(\"\\'\")            |\n",
    "|        **\\\"**        | Prints double quotes        | print(\"\\\"\")            |\n",
    "|        **\\\\\\\\t**     | Prints a tab                | print(\"Hello\\tworld\")  |\n",
    "|    **\\\\\\\\uxxxx**     | Prints a hexadecimal unicode character | print(\"\\u26BE)|"
   ]
  },
  {
   "cell_type": "markdown",
   "metadata": {},
   "source": [
    "### **What happens if you:**\n",
    "- Use `\\n\\n` instead of `\\n`?\n",
    "- Replace the `\\n\\n` with `\\t`?\n",
    "- Find a hexidecimal unicode character to use (see link above)?"
   ]
  },
  {
   "cell_type": "code",
   "execution_count": 1,
   "metadata": {},
   "outputs": [
    {
     "name": "stdout",
     "output_type": "stream",
     "text": [
      "hello\n",
      "\n",
      "param\n"
     ]
    }
   ],
   "source": [
    "my_string = \"hello\\n\\nparam\"\n",
    "print(my_string)"
   ]
  },
  {
   "cell_type": "code",
   "execution_count": 2,
   "metadata": {},
   "outputs": [
    {
     "name": "stdout",
     "output_type": "stream",
     "text": [
      "hello\tparam\n"
     ]
    }
   ],
   "source": [
    "my_string = \"hello\\tparam\"\n",
    "print(my_string)"
   ]
  },
  {
   "cell_type": "code",
   "execution_count": 14,
   "metadata": {},
   "outputs": [
    {
     "name": "stdout",
     "output_type": "stream",
     "text": [
      "䄀\n"
     ]
    }
   ],
   "source": [
    "my_string = \"\\u4100\"\n",
    "print(my_string)"
   ]
  },
  {
   "cell_type": "markdown",
   "metadata": {},
   "source": [
    "## **Quotes Inside Quotes**\n",
    "Imagine that you have this small bit of dialog, `And then she said, \"Hi there.\"` and want to store it as a string. Typing `\"And then she said, \"Hi there.\"\"` would cause an error.\n",
    "![](https://apollo-media.codio.com/media%2F1%2F4fa0abe80e026e682adfc54fe8e076dc-81e0ab55-21ff-4798-9aa8-609ff9e79d2a.webp)\n",
    "When you use a `\"` to start a string, Python looks for the next `\"` to end it. To avoid syntax errors, you can use a double quote to start your string, single quotes for the inner quote, and end the string with a double quote."
   ]
  },
  {
   "cell_type": "code",
   "execution_count": 16,
   "metadata": {},
   "outputs": [
    {
     "name": "stdout",
     "output_type": "stream",
     "text": [
      "And then she said, 'Hi there.'\n"
     ]
    }
   ],
   "source": [
    "my_string = \"And then she said, 'Hi there.'\"\n",
    "print(my_string)"
   ]
  },
  {
   "cell_type": "markdown",
   "metadata": {},
   "source": [
    "### **What happens if you:**\n",
    "- Use single quotes (`'`) on the outside and double quotes (`\"`) on the inside?\n",
    "- Use only single quotes (`'`)?\n",
    "- Use the escape character `\\\" ` for the inner quotation marks?"
   ]
  },
  {
   "cell_type": "code",
   "execution_count": 17,
   "metadata": {},
   "outputs": [
    {
     "name": "stdout",
     "output_type": "stream",
     "text": [
      "And then she said, \"Hi there.\"\n"
     ]
    }
   ],
   "source": [
    "my_string = 'And then she said, \"Hi there.\"'\n",
    "print(my_string)"
   ]
  },
  {
   "cell_type": "code",
   "execution_count": 18,
   "metadata": {},
   "outputs": [
    {
     "ename": "SyntaxError",
     "evalue": "invalid syntax (1396330817.py, line 1)",
     "output_type": "error",
     "traceback": [
      "\u001b[1;36m  Input \u001b[1;32mIn [18]\u001b[1;36m\u001b[0m\n\u001b[1;33m    my_string = 'And then she said, 'Hi there.''\u001b[0m\n\u001b[1;37m                                     ^\u001b[0m\n\u001b[1;31mSyntaxError\u001b[0m\u001b[1;31m:\u001b[0m invalid syntax\n"
     ]
    }
   ],
   "source": [
    "my_string = 'And then she said, 'Hi there.''\n",
    "print(my_string)"
   ]
  },
  {
   "cell_type": "code",
   "execution_count": 19,
   "metadata": {},
   "outputs": [
    {
     "name": "stdout",
     "output_type": "stream",
     "text": [
      "And then she said, \"Hi there.\"\n"
     ]
    }
   ],
   "source": [
    "my_string = \"And then she said, \\\"Hi there.\\\"\"\n",
    "print(my_string)"
   ]
  },
  {
   "cell_type": "markdown",
   "metadata": {},
   "source": [
    "Reading Question\n",
    "Select all of the ways to make a contraction (It's) inside a string declaration. Hint, there are more than one correct response.\n",
    "\n",
    "\n",
    "- **`my_string = \"It's my birthday today!\"`**  <--- Correct Answer\n",
    "- `my_string = 'It's my birthday today!'`\n",
    "- `my_string = \"It/'s my birthday today!\"`\n",
    "- **`my_string = 'It\\'s my birthday today!'`**  <--- Correct Answer"
   ]
  },
  {
   "cell_type": "code",
   "execution_count": 26,
   "metadata": {},
   "outputs": [
    {
     "name": "stdout",
     "output_type": "stream",
     "text": [
      "It's my birthday today!\n",
      "It's my birthday today!\n"
     ]
    }
   ],
   "source": [
    "my_string = \"It's my birthday today!\"\n",
    "print(my_string)\n",
    "# my_string = 'It's my birthday today!'\n",
    "# my_string = \"It/'s my birthday today!\"\n",
    "my_string = 'It\\'s my birthday today!'\n",
    "print(my_string)"
   ]
  }
 ],
 "metadata": {
  "kernelspec": {
   "display_name": "Python 3.10.4 64-bit",
   "language": "python",
   "name": "python3"
  },
  "language_info": {
   "codemirror_mode": {
    "name": "ipython",
    "version": 3
   },
   "file_extension": ".py",
   "mimetype": "text/x-python",
   "name": "python",
   "nbconvert_exporter": "python",
   "pygments_lexer": "ipython3",
   "version": "3.10.4"
  },
  "orig_nbformat": 4,
  "vscode": {
   "interpreter": {
    "hash": "12d9efd1b418ad7485587f2da0512ee7fc7c20b6462fdb2a696d6f33bbf19b58"
   }
  }
 },
 "nbformat": 4,
 "nbformat_minor": 2
}
