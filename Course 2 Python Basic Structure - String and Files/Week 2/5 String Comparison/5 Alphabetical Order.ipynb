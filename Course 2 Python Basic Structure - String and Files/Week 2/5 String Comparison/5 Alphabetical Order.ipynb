{
 "cells": [
  {
   "cell_type": "markdown",
   "metadata": {},
   "source": [
    "# **Alphabetical Order**\n",
    "## **Alphabetical Order**\n",
    "Comparing strings is more than determining if they are identical. You can also ask if a one string comes before another. Use the boolean operators **`<`** and **`>`** to determine alphabetical order."
   ]
  },
  {
   "cell_type": "code",
   "execution_count": 4,
   "metadata": {},
   "outputs": [
    {
     "name": "stdout",
     "output_type": "stream",
     "text": [
      "apple comes after cat\n"
     ]
    }
   ],
   "source": [
    "string1 = \"apple\"\n",
    "string2 = \"cat\"\n",
    "\n",
    "if string1 < string1:\n",
    "    print(\"{} comes before {}\".format(string1, string2))\n",
    "elif string1 is string2:\n",
    "    print(\"{} is the same as {}\".format(string1, string2))\n",
    "else:\n",
    "    print(\"{} comes after {}\".format(string1, string2))"
   ]
  },
  {
   "cell_type": "markdown",
   "metadata": {},
   "source": [
    "### **What happens if you:**\n",
    "- Change `string2` to `\"apple\"`?\n",
    "- Change `string1` to `\"zebra\"`?\n",
    "- Change `string2` to `\"Zebra\"`?"
   ]
  },
  {
   "cell_type": "code",
   "execution_count": 5,
   "metadata": {},
   "outputs": [
    {
     "name": "stdout",
     "output_type": "stream",
     "text": [
      "apple is the same as apple\n"
     ]
    }
   ],
   "source": [
    "string1 = \"apple\"\n",
    "string2 = \"apple\"\n",
    "\n",
    "if string1 < string1:\n",
    "    print(\"{} comes before {}\".format(string1, string2))\n",
    "elif string1 is string2:\n",
    "    print(\"{} is the same as {}\".format(string1, string2))\n",
    "else:\n",
    "    print(\"{} comes after {}\".format(string1, string2))"
   ]
  },
  {
   "cell_type": "code",
   "execution_count": 6,
   "metadata": {},
   "outputs": [
    {
     "name": "stdout",
     "output_type": "stream",
     "text": [
      "zebra comes after cat\n"
     ]
    }
   ],
   "source": [
    "string1 = \"zebra\"\n",
    "string2 = \"cat\"\n",
    "\n",
    "if string1 < string1:\n",
    "    print(\"{} comes before {}\".format(string1, string2))\n",
    "elif string1 is string2:\n",
    "    print(\"{} is the same as {}\".format(string1, string2))\n",
    "else:\n",
    "    print(\"{} comes after {}\".format(string1, string2))"
   ]
  },
  {
   "cell_type": "code",
   "execution_count": 7,
   "metadata": {},
   "outputs": [
    {
     "name": "stdout",
     "output_type": "stream",
     "text": [
      "zebra comes after Zebra\n"
     ]
    }
   ],
   "source": [
    "string1 = \"zebra\"\n",
    "string2 = \"Zebra\"\n",
    "\n",
    "if string1 < string1:\n",
    "    print(\"{} comes before {}\".format(string1, string2))\n",
    "elif string1 is string2:\n",
    "    print(\"{} is the same as {}\".format(string1, string2))\n",
    "else:\n",
    "    print(\"{} comes after {}\".format(string1, string2))"
   ]
  },
  {
   "cell_type": "markdown",
   "metadata": {},
   "source": [
    "### **Reading Question**\n",
    "Assume that you have two string variables **`string1`** and **`string2`**. Fill in the blanks below.\n",
    "\n",
    "Check to see if **`string1`** comes before **`string2`**: <br>\n",
    "`string1`  **`<`** `string2`\n",
    "\n",
    "Check to see if **`string2`** comes after **`string1`**: <br>\n",
    "`string1` **`>`** `string2`\n",
    "\n",
    "******\n",
    "If `string1` comes before `string2`, then `string1` is **less than** `string2`. If `string2` comes after `string1`, then `string2` is **greater than** `string1`.\n",
    "*****"
   ]
  },
  {
   "cell_type": "code",
   "execution_count": 8,
   "metadata": {},
   "outputs": [
    {
     "name": "stdout",
     "output_type": "stream",
     "text": [
      "Hello comes before World\n"
     ]
    }
   ],
   "source": [
    "string1 = \"Hello\"\n",
    "string2 = \"World\"\n",
    "\n",
    "if string1 < string2:\n",
    "    print(\"{} comes before {}\".format(string1, string2))\n",
    "elif string2 > string1:\n",
    "    print(\"{} comes after {}\".format(string2, string1))\n",
    "else:\n",
    "    print(\"\")"
   ]
  }
 ],
 "metadata": {
  "kernelspec": {
   "display_name": "Python 3.10.4 64-bit",
   "language": "python",
   "name": "python3"
  },
  "language_info": {
   "codemirror_mode": {
    "name": "ipython",
    "version": 3
   },
   "file_extension": ".py",
   "mimetype": "text/x-python",
   "name": "python",
   "nbconvert_exporter": "python",
   "pygments_lexer": "ipython3",
   "version": "3.10.4"
  },
  "orig_nbformat": 4,
  "vscode": {
   "interpreter": {
    "hash": "12d9efd1b418ad7485587f2da0512ee7fc7c20b6462fdb2a696d6f33bbf19b58"
   }
  }
 },
 "nbformat": 4,
 "nbformat_minor": 2
}
