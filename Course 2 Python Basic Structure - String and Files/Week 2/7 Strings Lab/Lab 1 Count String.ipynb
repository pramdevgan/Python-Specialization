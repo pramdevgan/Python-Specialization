{
 "cells": [
  {
   "cell_type": "markdown",
   "metadata": {},
   "source": [
    "# Lab 1\n",
    "\n",
    "## Counting Uppercase and Lowercase Characters\n",
    "\n",
    "You are going to write a program that takes a string and prints out two messages. One message tells you how many uppercase characters are in the string. The other messages says how many lowercase characters are in the string. The program will ignore all numbers and special characters (punctuation, symbols, etc.).\n",
    "\n",
    "### String Methods\n",
    "\n",
    "You will need two string methods that were not covered earlier to help with this project:\n",
    "\n",
    "* `.isupper()` - Returns `True` if the character is uppercase, `False` if the character is lowercase\n",
    "* `.islower()` - Returns `True` if the character is lowercase, `False` if the character is uppercase\n",
    "\n",
    "### Variables\n",
    "\n",
    "You will need three variables for this project. One variable will count all of the lowercase variables, another to count the uppercase variables, and a string variable."
   ]
  },
  {
   "cell_type": "markdown",
   "metadata": {},
   "source": [
    "### Iterating Over the String\n",
    "\n",
    "The next thing to do is iterate over the string. A simple for loop works best.\n",
    "\n",
    "```python\n",
    "for char in my_string:\n",
    "```"
   ]
  },
  {
   "cell_type": "markdown",
   "metadata": {},
   "source": [
    "### Checking for Uppercase and Lowercase\n",
    "\n",
    "It does not matter if you check for an uppercase character first or check for a lowercase character. Let’s start with lowercase characters. Ask if the character is lowercase and increment the appropriate counting variable.\n",
    "\n",
    "```python\n",
    "for char in my_string:\n",
    "    if char.islower():\n",
    "        lower_count += 1\n",
    "```"
   ]
  },
  {
   "cell_type": "markdown",
   "metadata": {},
   "source": [
    "What you **do not** want to do is use an `else` statement. This will not give you an accurate count. Asking if a special character is lowercase will return `False`. However, that does not mean they uppercase characters. Special characters are neither uppercase or lowercase. So use an `elif` and ask if the character is uppercase. If so, increment the uppercase counting variable.\n",
    "\n",
    "```python\n",
    "    elif char.isupper():\n",
    "        upper_count += 1\n",
    "```"
   ]
  },
  {
   "cell_type": "markdown",
   "metadata": {},
   "source": [
    "### Print the Results\n",
    "\n",
    "The final step is to print the messages with the count values. We are going to use the `format` method for string interpolation.\n",
    "\n",
    "```python\n",
    "print(\"There are {} lowercase characters.\".format(lower_count))\n",
    "print(\"There are {} uppercase characters.\".format(upper_count))\n",
    "```"
   ]
  },
  {
   "cell_type": "markdown",
   "metadata": {},
   "source": [
    "## **All in One Code**"
   ]
  },
  {
   "cell_type": "code",
   "execution_count": 13,
   "metadata": {},
   "outputs": [
    {
     "name": "stdout",
     "output_type": "stream",
     "text": [
      "There are 21 lowercase characters.\n",
      "There are 4 uppercase characters.\n"
     ]
    }
   ],
   "source": [
    "lower_count = 0\n",
    "upper_count = 0\n",
    "my_string = \"Roses are Red, Violets are Blue\"\n",
    "\n",
    "for char in my_string:\n",
    "    if char.islower():\n",
    "        lower_count += 1\n",
    "    elif char.isupper():\n",
    "        upper_count += 1\n",
    "\n",
    "print(\"There are {} lowercase characters.\".format(lower_count))\n",
    "print(\"There are {} uppercase characters.\".format(upper_count))"
   ]
  },
  {
   "cell_type": "markdown",
   "metadata": {},
   "source": [
    "### **Lab Question**\n",
    "Using the code below, what does the variable `char` represent? Assume that `my_string` is a string variable.\n",
    "```\n",
    "for char in my_string:\n",
    "```\n",
    "- The variable `char` represents the string `my_string`.\n",
    "- The variable `char` represents the index of each character in `my_string`.\n",
    "- The variable `char` represents the length of the string `my_string`.\n",
    "- ***The variable `char` represents each character in the string `my_string`.***\n",
    "\n",
    "****\n",
    "In the for loop, Python will not go past the length of `my_string`, and Python will use an index to determine the value of `char`. However, the variable `char` represents each character in the string `my_string`.\n",
    "****"
   ]
  }
 ],
 "metadata": {
  "kernelspec": {
   "display_name": "Python 3.10.4 64-bit",
   "language": "python",
   "name": "python3"
  },
  "language_info": {
   "codemirror_mode": {
    "name": "ipython",
    "version": 3
   },
   "file_extension": ".py",
   "mimetype": "text/x-python",
   "name": "python",
   "nbconvert_exporter": "python",
   "pygments_lexer": "ipython3",
   "version": "3.10.4"
  },
  "orig_nbformat": 4,
  "vscode": {
   "interpreter": {
    "hash": "12d9efd1b418ad7485587f2da0512ee7fc7c20b6462fdb2a696d6f33bbf19b58"
   }
  }
 },
 "nbformat": 4,
 "nbformat_minor": 2
}
