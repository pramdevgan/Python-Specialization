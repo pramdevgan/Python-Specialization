{
 "cells": [
  {
   "cell_type": "markdown",
   "metadata": {},
   "source": [
    "# Lab 3"
   ]
  },
  {
   "cell_type": "markdown",
   "metadata": {},
   "source": [
    "## Swapping the Case of Characters\n",
    "\n",
    "You are going to write a program that takes a string and prints a new string where all of the uppercase letters become lowercase, and the lowercase letters become uppercase.\n"
   ]
  },
  {
   "cell_type": "markdown",
   "metadata": {},
   "source": [
    "### Variables\n",
    "\n",
    "You are going to need two string variables. The first one represents the original string, and the second variable represents the modified string. The modified string can be an empty string.\n",
    "\n",
    "```python\n",
    "original_string = \"THE BROWN DOG JUMPS over the lazy fox\"\n",
    "modified_string = \"\"\n",
    "```"
   ]
  },
  {
   "cell_type": "markdown",
   "metadata": {},
   "source": [
    "### String Iteration\n",
    "\n",
    "It does not matter if you start at the beginning of the string or the end for iteration. A simple for loop is the easiest way to iterate through the `original_string`.\n",
    "\n",
    "```python\n",
    "for char in original_string:\n",
    "```"
   ]
  },
  {
   "cell_type": "markdown",
   "metadata": {},
   "source": [
    "### String Methods\n",
    "\n",
    "You are going to use the `isupper` and `islower` methods to test if a character is uppercase or lowercase. In addition, you will be using the `upper` and `lower` methods to convert characters to its new case."
   ]
  },
  {
   "cell_type": "markdown",
   "metadata": {},
   "source": [
    "### Conditional\n",
    "\n",
    "We will test if a character is lowercase. It does not matter if you decide to test for uppercase, just be sure to make the appropriate conversion.\n",
    "\n",
    "```python\n",
    "    if char.islower():\n",
    "```\n",
    "\n",
    "If this is true, then append the uppercase version of the character to the variable `modified_string`.\n",
    "\n",
    "```python\n",
    "        modified_string += char.upper()\n",
    "```\n",
    "\n",
    "If the conditional is false, then append the lowercase version of the character to `modified_string`.\n",
    "\n",
    "```python\n",
    "    else:\n",
    "        modified_string += char.lower()\n",
    "```\n",
    "\n",
    "You do not need to worry about special characters. Converting them to uppercase or lowercase has no effect."
   ]
  },
  {
   "cell_type": "markdown",
   "metadata": {},
   "source": [
    "### Printing the Results\n",
    "\n",
    "Once the loop has finished, print both the original string and the modified string. Use the `format` method to add some context to the output.\n",
    "\n",
    "```python\n",
    "print(\"The original string is: {}\".format(original_string))\n",
    "print(\"The modified string is: {}\".format(modified_string))\n",
    "```\n"
   ]
  },
  {
   "cell_type": "markdown",
   "metadata": {},
   "source": [
    "You should see the following output:\n",
    "\n",
    "```\n",
    "  The original string is: THE BROWN DOG JUMPS over the lazy fox\n",
    "  The modified string is: the brown dog jumps OVER THE LAZY FOX\n",
    "```"
   ]
  },
  {
   "cell_type": "markdown",
   "metadata": {},
   "source": [
    "# All in one code"
   ]
  },
  {
   "cell_type": "code",
   "execution_count": 1,
   "metadata": {},
   "outputs": [
    {
     "name": "stdout",
     "output_type": "stream",
     "text": [
      "The orginal string is: THE BROWN DOG JUMPS over the lazy fox\n",
      "The modified string is: the brown dog jumps OVER THE LAZY FOX\n"
     ]
    }
   ],
   "source": [
    "original_string = \"THE BROWN DOG JUMPS over the lazy fox\"\n",
    "modified_string = \"\"\n",
    "\n",
    "for char in original_string:\n",
    "    if char.islower():\n",
    "        modified_string += char.upper()\n",
    "    else:\n",
    "        modified_string += char.lower()\n",
    "\n",
    "print(\"The orginal string is: {}\".format(original_string))\n",
    "print(\"The modified string is: {}\".format(modified_string))"
   ]
  },
  {
   "cell_type": "markdown",
   "metadata": {},
   "source": [
    "## Lab Question\n",
    "\n",
    "What does the `format` method do?\n",
    "\n",
    "- The `format` method converts the appropriate characters to uppercase.\n",
    "- The `format` method right-justifies the string.\n",
    "- **The `format` method is a form of string interpolation. It takes the variables in the parentheses and puts them in place of the `{}`.**\n",
    "- The `format` method makes the text nice and neat when printing it to the screen.\n",
    "\n",
    "The `format` method is a form of string interpolation. It takes the variables in the parentheses and puts them in place of the `{}`."
   ]
  }
 ],
 "metadata": {
  "kernelspec": {
   "display_name": "Python 3.10.4 64-bit",
   "language": "python",
   "name": "python3"
  },
  "language_info": {
   "codemirror_mode": {
    "name": "ipython",
    "version": 3
   },
   "file_extension": ".py",
   "mimetype": "text/x-python",
   "name": "python",
   "nbconvert_exporter": "python",
   "pygments_lexer": "ipython3",
   "version": "3.10.4"
  },
  "orig_nbformat": 4,
  "vscode": {
   "interpreter": {
    "hash": "12d9efd1b418ad7485587f2da0512ee7fc7c20b6462fdb2a696d6f33bbf19b58"
   }
  }
 },
 "nbformat": 4,
 "nbformat_minor": 2
}
