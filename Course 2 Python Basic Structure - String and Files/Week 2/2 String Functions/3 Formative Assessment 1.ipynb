{
 "cells": [
  {
   "cell_type": "markdown",
   "metadata": {},
   "source": [
    "# **Formative Assessment 1**\n",
    "### **String Functions**\n",
    "Rearrange the code blocks below so that your program prints the smallest value from the string my_string. **Hint**, you will not use all of the code blocks.\n",
    "\n",
    "***Drag from here***\n",
    "```\n",
    "smallest = my_string.min()\n",
    "smallest = minimum(my_string)\n",
    "print(min)\n",
    "```\n",
    "***Construct your solution here***\n",
    "```\n",
    "my_string = \"av67!#\"\n",
    "smallest = min(my_string)\n",
    "print(smallest)\n",
    "```\n",
    "Here are the steps to solving this problem:\n",
    "\n",
    "1. Declare the variable `my_string`\n",
    "2. Declare the variable `smallest` and set its value to `min(my_string)`. The function `minimum` does not exist, and `min.my_string()` is not the proper syntax for a string function.\n",
    "3. Print `smallest`"
   ]
  },
  {
   "cell_type": "code",
   "execution_count": 1,
   "metadata": {},
   "outputs": [
    {
     "name": "stdout",
     "output_type": "stream",
     "text": [
      "!\n"
     ]
    }
   ],
   "source": [
    "my_string = \"av67!#\"\n",
    "smallest = min(my_string)\n",
    "print(smallest)"
   ]
  }
 ],
 "metadata": {
  "kernelspec": {
   "display_name": "Python 3.10.4 64-bit",
   "language": "python",
   "name": "python3"
  },
  "language_info": {
   "codemirror_mode": {
    "name": "ipython",
    "version": 3
   },
   "file_extension": ".py",
   "mimetype": "text/x-python",
   "name": "python",
   "nbconvert_exporter": "python",
   "pygments_lexer": "ipython3",
   "version": "3.10.4"
  },
  "orig_nbformat": 4,
  "vscode": {
   "interpreter": {
    "hash": "12d9efd1b418ad7485587f2da0512ee7fc7c20b6462fdb2a696d6f33bbf19b58"
   }
  }
 },
 "nbformat": 4,
 "nbformat_minor": 2
}
