{
 "cells": [
  {
   "cell_type": "markdown",
   "metadata": {},
   "source": [
    "# Exercise 4\n",
    "---\n",
    "\n",
    "## Exercise 4\n",
    "\n",
    "**Problem**\n",
    "Write a program that takes input from a user. Print the first half of the string on one line, and the second half on another. In the case of a string that has an odd number of characters, the second line will have the extra character.  **Important** , do not put a prompt when asking for user input. Just use `input()`. Adding a prompt will cause your program to not pass the tests.\n",
    "\n",
    "**Expected Output**\n",
    "\n",
    "* If the user inputs `home`, the output will be:\n",
    "\n",
    "```python\n",
    "ho\n",
    "me\n",
    "```\n",
    "\n",
    "* If the user inputs `hooray Python`, the output will be:\n",
    "\n",
    "```python\n",
    "hooray\n",
    " Python\n",
    "```"
   ]
  },
  {
   "cell_type": "markdown",
   "metadata": {},
   "source": [
    "### **Solution 1**"
   ]
  },
  {
   "cell_type": "code",
   "execution_count": 10,
   "metadata": {},
   "outputs": [
    {
     "name": "stdout",
     "output_type": "stream",
     "text": [
      "hooray\n",
      " Python"
     ]
    }
   ],
   "source": [
    "text = input()\n",
    "first_half = \"\"\n",
    "second_half = \"\"\n",
    "for i in text:\n",
    "    first_half = text[0:len(text)//2]\n",
    "    second_half = text[len(text)//2:]\n",
    "\n",
    "print(first_half)\n",
    "print(second_half, end=\"\")"
   ]
  },
  {
   "cell_type": "markdown",
   "metadata": {},
   "source": [
    "### **Solution 2**\n",
    "Here is one possible solution to the problem. First, start with the variable `txt` to collect input from the user. The next thing to do is find the midpoint of `txt`. You can divide the length of `txt` by 2. However, if you use the regular division symbol (`/`), you will generate a float if the length is odd. The midpoint will be used to find the index of the string where the split should happen. Indexes are only integers. Instead, use the floor division operator (`//`) as it will only return an integer. Now that you have the midpoint, slice `txt` from index 0 up to (but not including) the midpoint. Create the second half by slicing txt from the midpoint to the end of the string. Finally, print the first half and second half."
   ]
  },
  {
   "cell_type": "code",
   "execution_count": 11,
   "metadata": {},
   "outputs": [
    {
     "name": "stdout",
     "output_type": "stream",
     "text": [
      "Ho\n",
      "me\n"
     ]
    }
   ],
   "source": [
    "txt = input()\n",
    "midpoint = len(txt) // 2\n",
    "first_half = txt[:midpoint]\n",
    "second_half = txt[midpoint:]\n",
    "print(first_half)\n",
    "print(second_half)"
   ]
  }
 ],
 "metadata": {
  "kernelspec": {
   "display_name": "Python 3.10.4 64-bit",
   "language": "python",
   "name": "python3"
  },
  "language_info": {
   "codemirror_mode": {
    "name": "ipython",
    "version": 3
   },
   "file_extension": ".py",
   "mimetype": "text/x-python",
   "name": "python",
   "nbconvert_exporter": "python",
   "pygments_lexer": "ipython3",
   "version": "3.10.4"
  },
  "orig_nbformat": 4,
  "vscode": {
   "interpreter": {
    "hash": "12d9efd1b418ad7485587f2da0512ee7fc7c20b6462fdb2a696d6f33bbf19b58"
   }
  }
 },
 "nbformat": 4,
 "nbformat_minor": 2
}
