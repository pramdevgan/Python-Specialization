{
 "cells": [
  {
   "cell_type": "markdown",
   "metadata": {},
   "source": [
    "# **Max Function**\n",
    "## **The Max Function**\n",
    "The `max` function is the opposite of the `min` function. Instead of returning the “smallest” character, it returns the \"biggest\"."
   ]
  },
  {
   "cell_type": "code",
   "execution_count": 1,
   "metadata": {},
   "outputs": [
    {
     "name": "stdout",
     "output_type": "stream",
     "text": [
      "z\n"
     ]
    }
   ],
   "source": [
    "my_string = \"xyz321\"\n",
    "print(max(my_string))"
   ]
  },
  {
   "cell_type": "markdown",
   "metadata": {},
   "source": [
    "### **What happens if you:**\n",
    "- Change `my_string` to `\"123^&$\"`?\n",
    "- Change `my_string` to `\"99 abc\"`?\n",
    "- Change `my_string` to `\"AaBbCcDd\"`?"
   ]
  },
  {
   "cell_type": "code",
   "execution_count": 2,
   "metadata": {},
   "outputs": [
    {
     "name": "stdout",
     "output_type": "stream",
     "text": [
      "^\n",
      "c\n",
      "d\n"
     ]
    }
   ],
   "source": [
    "my_string = \"123^&$\"\n",
    "print(max(my_string))\n",
    "\n",
    "my_string = \"99 abc\"\n",
    "print(max(my_string))\n",
    "\n",
    "my_string = \"AaBbCcDd\"\n",
    "print(max(my_string))"
   ]
  },
  {
   "cell_type": "markdown",
   "metadata": {},
   "source": [
    "### **Reading Question**\n",
    "Fill in the blanks below to find the “largest” value in the string my_string.\n",
    "\n",
    "`max`(`my_string`) <br>\n",
    "The function name comes first, followed by parentheses, and the string parameter between the parentheses.\n",
    "```\n",
    "max(my_string)\n",
    "```"
   ]
  }
 ],
 "metadata": {
  "kernelspec": {
   "display_name": "Python 3.10.4 64-bit",
   "language": "python",
   "name": "python3"
  },
  "language_info": {
   "codemirror_mode": {
    "name": "ipython",
    "version": 3
   },
   "file_extension": ".py",
   "mimetype": "text/x-python",
   "name": "python",
   "nbconvert_exporter": "python",
   "pygments_lexer": "ipython3",
   "version": "3.10.4"
  },
  "orig_nbformat": 4,
  "vscode": {
   "interpreter": {
    "hash": "12d9efd1b418ad7485587f2da0512ee7fc7c20b6462fdb2a696d6f33bbf19b58"
   }
  }
 },
 "nbformat": 4,
 "nbformat_minor": 2
}
