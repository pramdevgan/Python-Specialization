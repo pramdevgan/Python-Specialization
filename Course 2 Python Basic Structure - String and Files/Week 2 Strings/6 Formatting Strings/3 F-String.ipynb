{
 "cells": [
  {
   "cell_type": "markdown",
   "metadata": {},
   "source": [
    "# **F-String**\n",
    "## **F-String**\n",
    "F-strings are a feature of Python versions 3.6 and above. F-strings are an evolution of the **`format`** method and simplify the process of string interpolation. F-strings start with the letter **`f`** followed by the string. Use **`{}`** to insert a variable, but put the variable between the **`{}`**.\n",
    "![](https://apollo-media.codio.com/media%2F1%2F2af578d549e9557663fc35f01034d65c-cfe886ec-1b46-4a4b-b34e-d041efcf9d7a.webp)"
   ]
  },
  {
   "cell_type": "markdown",
   "metadata": {},
   "source": [
    "## **What does the `\"f\"` mean?**\n",
    "The \"f\" stands for fast. F-strings are executed faster than any other form of string interpolation. Here is an **[article](https://realpython.com/python-f-strings/#speed)** about f-strings that shows the time differences for various forms of string interpolation."
   ]
  },
  {
   "cell_type": "code",
   "execution_count": 1,
   "metadata": {},
   "outputs": [
    {
     "name": "stdout",
     "output_type": "stream",
     "text": [
      "Up, up and away.\n"
     ]
    }
   ],
   "source": [
    "var1 = \"Up\"\n",
    "var2 = \"away\"\n",
    "my_string = f\"{var1}, up and {var2}.\"\n",
    "print(my_string)"
   ]
  },
  {
   "cell_type": "markdown",
   "metadata": {},
   "source": [
    "### **What happens if you:**\n",
    "- Change the value of `var1` to `7`?\n",
    "- Change the first `{}` to `{var1 + 10}`?\n",
    "- Change the second `{}` to `{var2.upper()}`?"
   ]
  },
  {
   "cell_type": "code",
   "execution_count": 2,
   "metadata": {},
   "outputs": [
    {
     "name": "stdout",
     "output_type": "stream",
     "text": [
      "7, up and away.\n"
     ]
    }
   ],
   "source": [
    "var1 = 7\n",
    "var2 = \"away\"\n",
    "my_string = f\"{var1}, up and {var2}.\"\n",
    "print(my_string)"
   ]
  },
  {
   "cell_type": "code",
   "execution_count": 3,
   "metadata": {},
   "outputs": [
    {
     "name": "stdout",
     "output_type": "stream",
     "text": [
      "14, up and away.\n"
     ]
    }
   ],
   "source": [
    "var1 = 7\n",
    "var2 = \"away\"\n",
    "my_string = f\"{var1 + 7}, up and {var2}.\"\n",
    "print(my_string)"
   ]
  },
  {
   "cell_type": "code",
   "execution_count": 5,
   "metadata": {},
   "outputs": [
    {
     "name": "stdout",
     "output_type": "stream",
     "text": [
      "Up, up and AWAY.\n"
     ]
    }
   ],
   "source": [
    "var1 = \"Up\"\n",
    "var2 = \"away\"\n",
    "my_string = f\"{var1}, up and {var2.upper()}.\"\n",
    "print(my_string)"
   ]
  },
  {
   "cell_type": "markdown",
   "metadata": {},
   "source": [
    "## **Multi-line F-Strings**\n",
    "You can use the same ideas from the lesson on multi-line strings to make multi-line f-strings."
   ]
  },
  {
   "cell_type": "code",
   "execution_count": 7,
   "metadata": {},
   "outputs": [
    {
     "name": "stdout",
     "output_type": "stream",
     "text": [
      "My name is Param Vishwakarma. I am 6 year old.I am Student.\n"
     ]
    }
   ],
   "source": [
    "name = \"Param Vishwakarma\"\n",
    "age = 6\n",
    "occupation = \"Student\"\n",
    "senetence = f\"My name is {name}. \"\\\n",
    "    f\"I am {age} year old.\"\\\n",
    "    f\"I am {occupation}.\"\n",
    "print(senetence)"
   ]
  },
  {
   "cell_type": "markdown",
   "metadata": {},
   "source": [
    "### **What happens if you:**\n",
    "Use the `\"\"\"` method for multi-line strings?\n",
    "```\n",
    "name = \"Calvin\"\n",
    "age = 6\n",
    "occupation = \"student\"\n",
    "sentence = f\"\"\"My name is {name}.\n",
    "I am {age} years old.\n",
    "I am a {occupation}.\"\"\"\n",
    "print(sentence)\n",
    "```"
   ]
  },
  {
   "cell_type": "code",
   "execution_count": 8,
   "metadata": {},
   "outputs": [
    {
     "name": "stdout",
     "output_type": "stream",
     "text": [
      "My name is Calvin.\n",
      "I am 6 years old.\n",
      "I am a student.\n"
     ]
    }
   ],
   "source": [
    "name = \"Calvin\"\n",
    "age = 6\n",
    "occupation = \"student\"\n",
    "sentence = f\"\"\"My name is {name}.\n",
    "I am {age} years old.\n",
    "I am a {occupation}.\"\"\"\n",
    "print(sentence)"
   ]
  },
  {
   "cell_type": "markdown",
   "metadata": {},
   "source": [
    "#### **Use the appropriate number of `f'`s**\n",
    "The `\\` method for making multi-line strings requires that you put an `f` before each set of quotation marks. The `\"\"\"` method for making multi-line strings requires only one `f` before the `\"\"\"`. That is because there is only one set of `\"\"\"`. Be sure that you have an `f` for each set of quotation marks when making multi-line strings."
   ]
  },
  {
   "cell_type": "markdown",
   "metadata": {},
   "source": [
    "### **Reading Question**\n",
    "Fill in the blanks below to create a program that prints, **`Calvin and Hobbes`**.\n",
    "```\n",
    "var1 = “Hobbes”\n",
    "var2 = “Calvin”\n",
    "phrase = _________\"\n",
    " _____________and \n",
    "______________\"\n",
    "print(phrase)\n",
    "```"
   ]
  },
  {
   "cell_type": "code",
   "execution_count": 10,
   "metadata": {},
   "outputs": [
    {
     "name": "stdout",
     "output_type": "stream",
     "text": [
      "Calvin and Hobbes\n"
     ]
    }
   ],
   "source": [
    "var1 = \"Hobbes\"\n",
    "var2 = \"Calvin\"\n",
    "phrase = f\"{var2} and {var1}\"\n",
    "print(phrase)"
   ]
  },
  {
   "cell_type": "markdown",
   "metadata": {},
   "source": [
    "The first blank should be an `f` since you want to create an f-string. Since `Calvin` comes before `Hobbes`, use `{var2}` and then `{var1}`.\n",
    "*****\n",
    "```\n",
    "var1 = \"Hobbes\"\n",
    "var2 = \"Calvin\"\n",
    "phrase = f\"{var2} and {var1}\"\n",
    "print(phrase)\n",
    "```\n",
    "****"
   ]
  }
 ],
 "metadata": {
  "kernelspec": {
   "display_name": "Python 3.10.4 64-bit",
   "language": "python",
   "name": "python3"
  },
  "language_info": {
   "codemirror_mode": {
    "name": "ipython",
    "version": 3
   },
   "file_extension": ".py",
   "mimetype": "text/x-python",
   "name": "python",
   "nbconvert_exporter": "python",
   "pygments_lexer": "ipython3",
   "version": "3.10.4"
  },
  "orig_nbformat": 4,
  "vscode": {
   "interpreter": {
    "hash": "12d9efd1b418ad7485587f2da0512ee7fc7c20b6462fdb2a696d6f33bbf19b58"
   }
  }
 },
 "nbformat": 4,
 "nbformat_minor": 2
}
