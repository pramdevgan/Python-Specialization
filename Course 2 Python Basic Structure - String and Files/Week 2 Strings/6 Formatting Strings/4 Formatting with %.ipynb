{
 "cells": [
  {
   "cell_type": "markdown",
   "metadata": {},
   "source": [
    "# **Formatting with `%`**\n",
    "## **Formatting Strings with `%`**\n",
    "**Important:** Formatting strings with `%` is **not** the recommended way for string interpolation in Python 3. The `%` operator was commonly used for string interpolation, and has a similar syntax as the `format` method for string interpolation.\n",
    "![](https://apollo-media.codio.com/media%2F1%2F74b26879a570d62c39b48d14f70fcc16-8a8753c2-2a4e-47a1-9e6a-16405c698033.webp)"
   ]
  },
  {
   "cell_type": "code",
   "execution_count": 1,
   "metadata": {},
   "outputs": [
    {
     "name": "stdout",
     "output_type": "stream",
     "text": [
      "Up, up and away\n"
     ]
    }
   ],
   "source": [
    "var1 = \"Up\"\n",
    "var2 = \"away\"\n",
    "print(\"%s, up and %s\"%(var1, var2))"
   ]
  },
  {
   "cell_type": "markdown",
   "metadata": {},
   "source": [
    "#### **What does the s in `%s` mean?**\n",
    "The `s` means that the variable that will go in this position will be a string. If `var1` is an `integer`, use `%i`. If it is a `float`, use `%f`."
   ]
  },
  {
   "cell_type": "markdown",
   "metadata": {},
   "source": [
    "### **What happens if you:**\n",
    "- Swap the position of **`var1`** and **`var2`**?\n",
    "- Remove the **`s`** from the **`%`**?\n",
    "- Change **`var1`** to **`7`** and change the first **`%s`** to **`%i`**?"
   ]
  },
  {
   "cell_type": "code",
   "execution_count": 2,
   "metadata": {},
   "outputs": [
    {
     "name": "stdout",
     "output_type": "stream",
     "text": [
      "away, up and Up\n"
     ]
    }
   ],
   "source": [
    "var1 = \"Up\"\n",
    "var2 = \"away\"\n",
    "print(\"%s, up and %s\"%(var2, var1))"
   ]
  },
  {
   "cell_type": "code",
   "execution_count": 2,
   "metadata": {},
   "outputs": [
    {
     "ename": "ValueError",
     "evalue": "unsupported format character ',' (0x2c) at index 1",
     "output_type": "error",
     "traceback": [
      "\u001b[1;31m---------------------------------------------------------------------------\u001b[0m",
      "\u001b[1;31mValueError\u001b[0m                                Traceback (most recent call last)",
      "\u001b[1;32mc:\\Users\\vpram\\Python Specialization\\Course 2\\Week 2\\6 Formatting Strings\\4 Formatting with %.ipynb Cell 6\u001b[0m in \u001b[0;36m<module>\u001b[1;34m\u001b[0m\n\u001b[0;32m      <a href='vscode-notebook-cell:/c%3A/Users/vpram/Python%20Specialization/Course%202/Week%202/6%20Formatting%20Strings/4%20Formatting%20with%20%25.ipynb#W5sZmlsZQ%3D%3D?line=0'>1</a>\u001b[0m var1 \u001b[39m=\u001b[39m \u001b[39m\"\u001b[39m\u001b[39mUp\u001b[39m\u001b[39m\"\u001b[39m\n\u001b[0;32m      <a href='vscode-notebook-cell:/c%3A/Users/vpram/Python%20Specialization/Course%202/Week%202/6%20Formatting%20Strings/4%20Formatting%20with%20%25.ipynb#W5sZmlsZQ%3D%3D?line=1'>2</a>\u001b[0m var2 \u001b[39m=\u001b[39m \u001b[39m\"\u001b[39m\u001b[39maway\u001b[39m\u001b[39m\"\u001b[39m\n\u001b[1;32m----> <a href='vscode-notebook-cell:/c%3A/Users/vpram/Python%20Specialization/Course%202/Week%202/6%20Formatting%20Strings/4%20Formatting%20with%20%25.ipynb#W5sZmlsZQ%3D%3D?line=2'>3</a>\u001b[0m \u001b[39mprint\u001b[39m(\u001b[39m\"\u001b[39;49m\u001b[39m%\u001b[39;49m\u001b[39m, up and \u001b[39;49m\u001b[39m%\u001b[39;49m\u001b[39m\"\u001b[39;49m\u001b[39m%\u001b[39;49m(var2, var1))\n",
      "\u001b[1;31mValueError\u001b[0m: unsupported format character ',' (0x2c) at index 1"
     ]
    }
   ],
   "source": [
    "var1 = \"Up\"\n",
    "var2 = \"away\"\n",
    "print(\"%, up and %\"%(var2, var1))"
   ]
  },
  {
   "cell_type": "code",
   "execution_count": 1,
   "metadata": {},
   "outputs": [
    {
     "ename": "TypeError",
     "evalue": "%i format: a real number is required, not str",
     "output_type": "error",
     "traceback": [
      "\u001b[1;31m---------------------------------------------------------------------------\u001b[0m",
      "\u001b[1;31mTypeError\u001b[0m                                 Traceback (most recent call last)",
      "\u001b[1;32mc:\\Users\\vpram\\Python Specialization\\Course 2\\Week 2\\6 Formatting Strings\\4 Formatting with %.ipynb Cell 7\u001b[0m in \u001b[0;36m<module>\u001b[1;34m\u001b[0m\n\u001b[0;32m      <a href='vscode-notebook-cell:/c%3A/Users/vpram/Python%20Specialization/Course%202/Week%202/6%20Formatting%20Strings/4%20Formatting%20with%20%25.ipynb#W6sZmlsZQ%3D%3D?line=0'>1</a>\u001b[0m var1 \u001b[39m=\u001b[39m \u001b[39m7\u001b[39m\n\u001b[0;32m      <a href='vscode-notebook-cell:/c%3A/Users/vpram/Python%20Specialization/Course%202/Week%202/6%20Formatting%20Strings/4%20Formatting%20with%20%25.ipynb#W6sZmlsZQ%3D%3D?line=1'>2</a>\u001b[0m var2 \u001b[39m=\u001b[39m \u001b[39m\"\u001b[39m\u001b[39maway\u001b[39m\u001b[39m\"\u001b[39m\n\u001b[1;32m----> <a href='vscode-notebook-cell:/c%3A/Users/vpram/Python%20Specialization/Course%202/Week%202/6%20Formatting%20Strings/4%20Formatting%20with%20%25.ipynb#W6sZmlsZQ%3D%3D?line=2'>3</a>\u001b[0m \u001b[39mprint\u001b[39m(\u001b[39m\"\u001b[39;49m\u001b[39m%i\u001b[39;49;00m\u001b[39m, up and \u001b[39;49m\u001b[39m%s\u001b[39;49;00m\u001b[39m\"\u001b[39;49m\u001b[39m%\u001b[39;49m(var2, var1))\n",
      "\u001b[1;31mTypeError\u001b[0m: %i format: a real number is required, not str"
     ]
    }
   ],
   "source": [
    "var1 = 7\n",
    "var2 = \"away\"\n",
    "print(\"%i, up and %s\"%(var2, var1))"
   ]
  },
  {
   "cell_type": "markdown",
   "metadata": {},
   "source": [
    "### **Why Learn the Old Way?**\n",
    "Python was first released in 1991. Python 3 was not released until 2008. Even then, many developers were slow to adopt Python 3. Because of this, so many examples of Python that you will see in books, websites, and videos will use **`%`** for string interpolation. You should be able to read and understand this code. However, you should write code using modern methods of string interpolation."
   ]
  },
  {
   "cell_type": "markdown",
   "metadata": {},
   "source": [
    "### **Reading Question**\n",
    "Fill in the blanks below so that the code will print, **`Roses are red, violets are blue.`**\n",
    "```\n",
    "var1 = “blue”\n",
    "var2 = “Roses”\n",
    "var3 = “red”\n",
    "phrase = “________ are \n",
    "________________, violets are \n",
    "______________.” % (\n",
    "_____________,__________________ \n",
    ", ________________)\n",
    "print(phrase)\n",
    "````"
   ]
  },
  {
   "cell_type": "code",
   "execution_count": 3,
   "metadata": {},
   "outputs": [
    {
     "name": "stdout",
     "output_type": "stream",
     "text": [
      "Roses are red, violets are blue.\n"
     ]
    }
   ],
   "source": [
    "var1 = \"blue\"\n",
    "var2 = \"Roses\"\n",
    "var3 = \"red\"\n",
    "\n",
    "phrase =\"%s are %s, violets are %s.\"%(var2, var3, var1)\n",
    "print(phrase) "
   ]
  },
  {
   "cell_type": "markdown",
   "metadata": {},
   "source": [
    "The first three blanks are all **`%s`** because all of the variables are strings. Since “Roses” comes first, the first variable is **`var2`**. The next word should be \"red\", so variable **`var3`** is next. **`var1`** is the final variable.\n",
    "\n",
    "```\n",
    "var1 = \"blue\"\n",
    "var2 = \"Roses\"\n",
    "var3 = \"red\"\n",
    "phrase = \"%s are %s, violets are %s.\" % (var2, var3, var1)\n",
    "print(phrase)\n",
    "```"
   ]
  }
 ],
 "metadata": {
  "kernelspec": {
   "display_name": "Python 3.10.4 64-bit",
   "language": "python",
   "name": "python3"
  },
  "language_info": {
   "codemirror_mode": {
    "name": "ipython",
    "version": 3
   },
   "file_extension": ".py",
   "mimetype": "text/x-python",
   "name": "python",
   "nbconvert_exporter": "python",
   "pygments_lexer": "ipython3",
   "version": "3.10.4"
  },
  "orig_nbformat": 4,
  "vscode": {
   "interpreter": {
    "hash": "12d9efd1b418ad7485587f2da0512ee7fc7c20b6462fdb2a696d6f33bbf19b58"
   }
  }
 },
 "nbformat": 4,
 "nbformat_minor": 2
}
