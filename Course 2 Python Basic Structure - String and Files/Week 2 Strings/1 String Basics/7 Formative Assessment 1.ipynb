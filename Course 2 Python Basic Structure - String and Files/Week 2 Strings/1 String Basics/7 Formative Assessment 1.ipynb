{
 "cells": [
  {
   "cell_type": "markdown",
   "metadata": {},
   "source": [
    "# **Formative Assessment 1**\n",
    "## **String Basics**\n",
    "Rearrange the code blocks below to create a program that checks if `string1` is longer than `string2`. Then print the message `String1 is longer` if true. Hint, not all of the code blocks will be used.\n",
    "\n",
    "Drag from here\n",
    "```\n",
    "if length(string1) > length(string2):\n",
    "if len(string1) > len(string2):\n",
    "print(\"String1 is longer\")\n",
    "if string1.len() > string2.len():\n",
    "```\n",
    "Construct your solution here\n",
    "\n",
    "***if len(string1) > len(string2):*** <br>\n",
    "&nbsp;&nbsp;&nbsp;&nbsp;***print(\"String1 is longer\")*** <br>"
   ]
  },
  {
   "cell_type": "code",
   "execution_count": 3,
   "metadata": {},
   "outputs": [
    {
     "name": "stdout",
     "output_type": "stream",
     "text": [
      "String1 is longer\n"
     ]
    }
   ],
   "source": [
    "string1 = \"Hello World!\"\n",
    "string2 = \"Hello Param\"\n",
    "if len(string1) > len(string2):\n",
    "    print(\"String1 is longer\")\n",
    "else:\n",
    "    print()"
   ]
  }
 ],
 "metadata": {
  "kernelspec": {
   "display_name": "Python 3.10.4 64-bit",
   "language": "python",
   "name": "python3"
  },
  "language_info": {
   "codemirror_mode": {
    "name": "ipython",
    "version": 3
   },
   "file_extension": ".py",
   "mimetype": "text/x-python",
   "name": "python",
   "nbconvert_exporter": "python",
   "pygments_lexer": "ipython3",
   "version": "3.10.4"
  },
  "orig_nbformat": 4,
  "vscode": {
   "interpreter": {
    "hash": "12d9efd1b418ad7485587f2da0512ee7fc7c20b6462fdb2a696d6f33bbf19b58"
   }
  }
 },
 "nbformat": 4,
 "nbformat_minor": 2
}
