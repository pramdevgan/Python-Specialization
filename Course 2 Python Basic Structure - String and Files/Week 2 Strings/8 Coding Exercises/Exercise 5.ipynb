{
 "cells": [
  {
   "cell_type": "markdown",
   "metadata": {},
   "source": [
    "# Exercise 5\n",
    "---\n",
    "## Exercise 5\n",
    "\n",
    "**Problem**\n",
    "Write a program that captures input from the user. Then, swap the letters two at a time in the string. The first two characters change places, the third and fourth characters change places, etc. Assume that the user will only input strings with an even number of characters.  **Important** , do not put a prompt when asking for user input. Just use `input()`. Adding a prompt will cause your program to not pass the tests.\n",
    "\n",
    "**Expected Output**\n",
    "\n",
    "* If the user inputs `home`, then the output is `ohem`\n",
    "* If the user inputs `cars`, then the output is `acsr`"
   ]
  },
  {
   "cell_type": "markdown",
   "metadata": {},
   "source": [
    "### **Solution 1**"
   ]
  },
  {
   "cell_type": "markdown",
   "metadata": {},
   "source": [
    "Here is one possible solution to the problem. Create a variable `txt` to capture input from the user. You will also need a variable for the length of `txt`, and another variable `swapped_string` set to an empty string.\n",
    "\n",
    "```python\n",
    "txt = input()\n",
    "length = len(txt)\n",
    "swapped_string = \"\"\n",
    "```\n",
    "\n",
    "You cannot use a regular for loop for this problem. First, you need to increment the index (`i`) of the loop by two because you want to swap the characters two at a time. Since you will be dealing with the character at `i` and `i + 1` you want to stop the loop from running all the way to the end of the string. If `i` is the last index and you try to access `i + 1`, that will cause an error. So stop the loop at the length of `txt` - 1. The for loop should go from index 0 to the length of `txt` - 1 and increment by 2.\n",
    "\n",
    "```python\n",
    "for i in range(0, length - 1, 2):\n",
    "```\n",
    "\n",
    "Inside the loop, take the character from `i` + 1 and concatenate it to `swapped_string`. Then concatenate the character at `i`. Once the loop has finished, print `swapped_string`.\n",
    "\n",
    "```python\n",
    "    swapped_string += txt[i + 1]\n",
    "    swapped_string += txt[i]\n",
    "\n",
    "print(swapped_string)\n",
    "```"
   ]
  },
  {
   "cell_type": "markdown",
   "metadata": {},
   "source": [
    "***Final Code***"
   ]
  },
  {
   "cell_type": "code",
   "execution_count": 12,
   "metadata": {},
   "outputs": [
    {
     "name": "stdout",
     "output_type": "stream",
     "text": [
      "ohem\n"
     ]
    }
   ],
   "source": [
    "txt = input()\n",
    "length = len(txt)\n",
    "swapped_string = \"\"\n",
    "\n",
    "for i in range(0, length - 1, 2):\n",
    "    swapped_string += txt[i + 1]\n",
    "    swapped_string += txt[i]\n",
    "\n",
    "print(swapped_string)"
   ]
  }
 ],
 "metadata": {
  "kernelspec": {
   "display_name": "Python 3.10.4 64-bit",
   "language": "python",
   "name": "python3"
  },
  "language_info": {
   "codemirror_mode": {
    "name": "ipython",
    "version": 3
   },
   "file_extension": ".py",
   "mimetype": "text/x-python",
   "name": "python",
   "nbconvert_exporter": "python",
   "pygments_lexer": "ipython3",
   "version": "3.10.4"
  },
  "orig_nbformat": 4,
  "vscode": {
   "interpreter": {
    "hash": "12d9efd1b418ad7485587f2da0512ee7fc7c20b6462fdb2a696d6f33bbf19b58"
   }
  }
 },
 "nbformat": 4,
 "nbformat_minor": 2
}
