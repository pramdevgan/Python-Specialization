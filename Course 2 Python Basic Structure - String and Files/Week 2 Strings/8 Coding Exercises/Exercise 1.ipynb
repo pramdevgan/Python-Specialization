{
 "cells": [
  {
   "cell_type": "markdown",
   "metadata": {},
   "source": [
    "# Exercise 1\n",
    "\n",
    "## Strings Exercise 1\n",
    "\n",
    "**Problem**\n",
    "Write a program that takes input from a user and prints the first character of the input and the last character with some context.  **Important** , do not put a prompt when asking for user input. Just use `input()`. Adding a prompt will cause your program to not pass the tests.\n",
    "\n",
    "**Expected Output**\n",
    "\n",
    "* If `baseball` then you will print `b is the first character and l is the last character`\n",
    "* If `cat` then you will print `c is the first character and t is the last character`"
   ]
  },
  {
   "cell_type": "markdown",
   "metadata": {},
   "source": [
    "### **Solution 1**"
   ]
  },
  {
   "cell_type": "code",
   "execution_count": 2,
   "metadata": {},
   "outputs": [
    {
     "name": "stdout",
     "output_type": "stream",
     "text": [
      "b is the first character and l is the last character\n"
     ]
    }
   ],
   "source": [
    "my_string = input()\n",
    "first_char = \"\"\n",
    "last_char = \"\"\n",
    "\n",
    "for char in range(len(my_string)):\n",
    "    if char == 0:\n",
    "        first_char = my_string[char]\n",
    "    if char == len (my_string) - 1:\n",
    "        last_char = my_string[char]\n",
    "print(\"{} is the first character and {} is the last character\".format(first_char, last_char))"
   ]
  },
  {
   "cell_type": "markdown",
   "metadata": {},
   "source": [
    "### **Solution 2**"
   ]
  },
  {
   "cell_type": "code",
   "execution_count": 3,
   "metadata": {},
   "outputs": [
    {
     "name": "stdout",
     "output_type": "stream",
     "text": [
      "b is the first character and l is the last character\n"
     ]
    }
   ],
   "source": [
    "my_string = input()\n",
    "first = my_string[0]\n",
    "last = my_string[-1]\n",
    "print(\"{} is the first character and {} is the last character\".format(first, last))"
   ]
  }
 ],
 "metadata": {
  "kernelspec": {
   "display_name": "Python 3.10.4 64-bit",
   "language": "python",
   "name": "python3"
  },
  "language_info": {
   "codemirror_mode": {
    "name": "ipython",
    "version": 3
   },
   "file_extension": ".py",
   "mimetype": "text/x-python",
   "name": "python",
   "nbconvert_exporter": "python",
   "pygments_lexer": "ipython3",
   "version": "3.10.4"
  },
  "orig_nbformat": 4,
  "vscode": {
   "interpreter": {
    "hash": "12d9efd1b418ad7485587f2da0512ee7fc7c20b6462fdb2a696d6f33bbf19b58"
   }
  }
 },
 "nbformat": 4,
 "nbformat_minor": 2
}
