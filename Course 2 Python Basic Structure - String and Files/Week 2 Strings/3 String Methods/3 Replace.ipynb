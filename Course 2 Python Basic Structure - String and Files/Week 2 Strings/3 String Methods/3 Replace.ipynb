{
 "cells": [
  {
   "cell_type": "markdown",
   "metadata": {},
   "source": [
    "# **Replace**\n",
    "## **The Replace Method**\n",
    "The `replace` method returns a copy of the original string in which part of the original string (also called a substring) has been replaced with another set of characters.\n"
   ]
  },
  {
   "cell_type": "code",
   "execution_count": 3,
   "metadata": {},
   "outputs": [
    {
     "name": "stdout",
     "output_type": "stream",
     "text": [
      "dog mouse fish dog bear\n",
      "cat mouse fish cat bear\n"
     ]
    }
   ],
   "source": [
    "my_string = \"dog mouse fish dog bear\"\n",
    "print(my_string)\n",
    "new_string = my_string.replace(\"dog\", \"cat\")\n",
    "print(new_string)"
   ]
  },
  {
   "cell_type": "markdown",
   "metadata": {},
   "source": [
    "### **What happens if you:**\n",
    "- Change `my_string` to `\"dogmousefishdogbear\"`?\n",
    "- Change `new_string` to `\"my_string.replace(\"Dog\", \"cat\")`?\n",
    "- Change `new_string` to `\"my_string.replace(\"dog\", \"cat\", 1)`?"
   ]
  },
  {
   "cell_type": "code",
   "execution_count": 4,
   "metadata": {},
   "outputs": [
    {
     "name": "stdout",
     "output_type": "stream",
     "text": [
      "dogmousefishdogbear\n",
      "catmousefishcatbear\n"
     ]
    }
   ],
   "source": [
    "my_string = \"dogmousefishdogbear\"\n",
    "print(my_string)\n",
    "new_string = my_string.replace(\"dog\", \"cat\")\n",
    "print(new_string)"
   ]
  },
  {
   "cell_type": "code",
   "execution_count": 5,
   "metadata": {},
   "outputs": [
    {
     "name": "stdout",
     "output_type": "stream",
     "text": [
      "dogmousefishdogbear\n",
      "dogmousefishdogbear\n"
     ]
    }
   ],
   "source": [
    "my_string = \"dogmousefishdogbear\"\n",
    "print(my_string)\n",
    "new_string = my_string.replace(\"Dog\", \"cat\")\n",
    "print(new_string)"
   ]
  },
  {
   "cell_type": "code",
   "execution_count": 6,
   "metadata": {},
   "outputs": [
    {
     "name": "stdout",
     "output_type": "stream",
     "text": [
      "dogmousefishdogbear\n",
      "catmousefishdogbear\n"
     ]
    }
   ],
   "source": [
    "my_string = \"dogmousefishdogbear\"\n",
    "print(my_string)\n",
    "new_string = my_string.replace(\"dog\", \"cat\",1)\n",
    "print(new_string)"
   ]
  },
  {
   "cell_type": "markdown",
   "metadata": {},
   "source": [
    "### **Reading Question**\n",
    "Complete the code below so that all instances of `\"house\"` in the string `my_string` are replaced with `\"mouse\"`.\n",
    "\n",
    "my_string`.replace(\"house\", \"mouse\")`\n",
    "\n",
    "Use the `replace` method. The first parameter is the substring to search for, and the second parameter is what will be used in its place.\n",
    "\n",
    "***`my_string.replace(\"house\", \"mouse\")`***"
   ]
  }
 ],
 "metadata": {
  "kernelspec": {
   "display_name": "Python 3.10.4 64-bit",
   "language": "python",
   "name": "python3"
  },
  "language_info": {
   "codemirror_mode": {
    "name": "ipython",
    "version": 3
   },
   "file_extension": ".py",
   "mimetype": "text/x-python",
   "name": "python",
   "nbconvert_exporter": "python",
   "pygments_lexer": "ipython3",
   "version": "3.10.4"
  },
  "orig_nbformat": 4,
  "vscode": {
   "interpreter": {
    "hash": "12d9efd1b418ad7485587f2da0512ee7fc7c20b6462fdb2a696d6f33bbf19b58"
   }
  }
 },
 "nbformat": 4,
 "nbformat_minor": 2
}
