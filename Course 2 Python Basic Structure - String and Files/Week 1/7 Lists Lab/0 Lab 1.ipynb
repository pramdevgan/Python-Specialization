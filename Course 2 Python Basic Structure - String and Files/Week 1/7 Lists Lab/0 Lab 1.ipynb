{
 "cells": [
  {
   "cell_type": "markdown",
   "metadata": {},
   "source": [
    "# ***Lab 1***\n",
    "## **Odd or Even**\n",
    "Here is how you can iterate through a list, determine if the number is odd or even, and then put that number in a list of odd or even numbers. After the program has run, all of the odd numbers will be in the `odd` list and all of the even numbers will be in the `even` list.\n",
    "#### **Random Numbers**\n",
    "To make this project more interesting, we are going to use a list of randomly generated ints. First, import the `random` library into your program."
   ]
  },
  {
   "cell_type": "code",
   "execution_count": 3,
   "metadata": {},
   "outputs": [],
   "source": [
    "import random"
   ]
  },
  {
   "cell_type": "markdown",
   "metadata": {},
   "source": [
    "Next, we are going to create a list called `numbers` and fill it with twenty random ints. Start my declaring the list `numbers` and make it an empty list (it has no elements). Then write a for loop that runs twenty times. Each time the loop runs, generate a random number and add it to the list."
   ]
  },
  {
   "cell_type": "code",
   "execution_count": 4,
   "metadata": {},
   "outputs": [],
   "source": [
    "numbers = []\n",
    "for i in range (20):\n",
    "    numbers.append(random.randint(0, 100))"
   ]
  },
  {
   "cell_type": "markdown",
   "metadata": {},
   "source": [
    "#### **The Random Library**\n",
    "To use the `random` library, you first import it with `import random`. To access any of the features of the library, start with `random`. and then add the method. Since we want a random integer, we will use `random.randint`. `randint` takes two numbers as parameters, the start and stop for the random number choice. We want a random integer between 0 and 100, so we use `random.randint(0, 100)`."
   ]
  },
  {
   "cell_type": "markdown",
   "metadata": {},
   "source": [
    "#### **Odd and Even Lists**\n",
    "We are going to sort all of the random numbers into either the `even` list or the `odd` list. Create these lists and make them empty."
   ]
  },
  {
   "cell_type": "code",
   "execution_count": 8,
   "metadata": {},
   "outputs": [],
   "source": [
    "odd = []\n",
    "even = []"
   ]
  },
  {
   "cell_type": "markdown",
   "metadata": {},
   "source": [
    "#### **Iterating Over `numbers`**\n",
    "Now we are going to iterate over the `numbers` list and determine if the number is even or odd."
   ]
  },
  {
   "cell_type": "code",
   "execution_count": null,
   "metadata": {},
   "outputs": [],
   "source": [
    "for number in numbers:\n",
    "    if number % 2 == 0:\n",
    "        \n",
    "    else:\n"
   ]
  },
  {
   "cell_type": "markdown",
   "metadata": {},
   "source": [
    "#### **Sorting the Elements**\n",
    "Once you have determined if a number is odd or even, use the `append` method to place it in the appropriate list."
   ]
  },
  {
   "cell_type": "code",
   "execution_count": 12,
   "metadata": {},
   "outputs": [],
   "source": [
    "for number in numbers:\n",
    "    if number % 2 == 0:\n",
    "        even.append(number)\n",
    "    else:\n",
    "        odd.append(number)"
   ]
  },
  {
   "cell_type": "markdown",
   "metadata": {},
   "source": [
    "#### **Printing the Lists**\n",
    "Let’s print the three lists to see if our program worked. Don’t forget to add some context to the lists. And to check our work, add together the lengths of `odd` and `even` to make sure they total 20."
   ]
  },
  {
   "cell_type": "code",
   "execution_count": 19,
   "metadata": {},
   "outputs": [
    {
     "name": "stdout",
     "output_type": "stream",
     "text": [
      "The odd numbers: [53, 7, 47, 35, 19, 91, 81, 33, 13, 65, 95, 53, 7, 47, 35, 19, 91, 81, 33, 13, 65, 95]\n",
      "The even numbers: [78, 20, 64, 50, 30, 72, 80, 4, 6, 78, 20, 64, 50, 30, 72, 80, 4, 6]\n",
      "40\n"
     ]
    }
   ],
   "source": [
    "print(\"The odd numbers:\", odd)\n",
    "print(\"The even numbers:\", even)\n",
    "print(len(odd) + len(even))"
   ]
  },
  {
   "cell_type": "markdown",
   "metadata": {},
   "source": [
    "# **All Code**"
   ]
  },
  {
   "cell_type": "code",
   "execution_count": 31,
   "metadata": {},
   "outputs": [
    {
     "name": "stdout",
     "output_type": "stream",
     "text": [
      "The odd numbers:  [41, 35, 41, 99, 47, 7, 71, 25, 55, 81]\n",
      "The even numbers:  [60, 28, 84, 62, 20, 88, 46, 86, 52, 34]\n",
      "20\n"
     ]
    }
   ],
   "source": [
    "import random\n",
    "\n",
    "numbers = []\n",
    "for i in range(20):\n",
    "    numbers.append(random.randint(0, 100))\n",
    "\n",
    "odd = []\n",
    "even = []\n",
    "\n",
    "for number in numbers:\n",
    "    if number % 2 == 0:\n",
    "        even.append(number)\n",
    "    else:\n",
    "        odd.append(number)\n",
    "\n",
    "print(\"The odd numbers: \", odd)\n",
    "print(\"The even numbers: \", even)\n",
    "print(len(odd) + len(even))"
   ]
  },
  {
   "cell_type": "markdown",
   "metadata": {},
   "source": [
    "### **Append versus Concatenate**\n",
    "Why does the program above use the `append` method instead of the concatenate operator (`+`) when adding a number to either the `odd` or `even` lists?\n",
    "\n",
    "- You cannot concatenate lists\n",
    "- Either `append` or `+` would work\n",
    "- ***Because you need two lists in order to concatenate***  <---- Correct Answer\n",
    "- Because `append` comes first alphabetically\n",
    "\n",
    "The `append` method adds a value to a list. The concatenate operator combines two lists. Since `number` is an int and not a list, you must use the `append` method."
   ]
  }
 ],
 "metadata": {
  "kernelspec": {
   "display_name": "Python 3.10.4 64-bit",
   "language": "python",
   "name": "python3"
  },
  "language_info": {
   "codemirror_mode": {
    "name": "ipython",
    "version": 3
   },
   "file_extension": ".py",
   "mimetype": "text/x-python",
   "name": "python",
   "nbconvert_exporter": "python",
   "pygments_lexer": "ipython3",
   "version": "3.10.4"
  },
  "orig_nbformat": 4,
  "vscode": {
   "interpreter": {
    "hash": "12d9efd1b418ad7485587f2da0512ee7fc7c20b6462fdb2a696d6f33bbf19b58"
   }
  }
 },
 "nbformat": 4,
 "nbformat_minor": 2
}
