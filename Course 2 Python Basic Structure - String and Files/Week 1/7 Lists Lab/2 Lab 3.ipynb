{
 "cells": [
  {
   "cell_type": "markdown",
   "metadata": {},
   "source": [
    "# **Lab 3**\n",
    "## **Slicing a List**\n",
    "We are going to write a program that takes the middle third of a list and prints it. To keep things simple, we are going to work with list whose length is divisible by 3. The list will also be filled with random integers ranging from 0 to 100.\n",
    "\n",
    "#### **Setup**\n",
    "Start by importing the `random` library. Then declare `numbers` as an empty list."
   ]
  },
  {
   "cell_type": "code",
   "execution_count": 30,
   "metadata": {},
   "outputs": [],
   "source": [
    "import random\n",
    "numbers = []"
   ]
  },
  {
   "cell_type": "markdown",
   "metadata": {},
   "source": [
    "#### **Random Numbers**\n",
    "Use a for loop that repeats 9 times to append a random integer to `numbers`."
   ]
  },
  {
   "cell_type": "code",
   "execution_count": 31,
   "metadata": {},
   "outputs": [],
   "source": [
    "for i in range (9):\n",
    "    numbers.append(random.randint(0,100))"
   ]
  },
  {
   "cell_type": "markdown",
   "metadata": {},
   "source": [
    "#### **More Variables**\n",
    "We are going to need some more variables. First, we need to know how long the list is. So create a variable `length` and set it to `len(numbers)`. The `slice` operator requires two numbers, one is the starting position of the slice and the other is the stopping position of the slice. Create two variables, `start` and `stop`, and set their values to 0 for now. Finally, we will also need a list variable called `middle`. Set middle to the slice of numbers from `start` to `stop`."
   ]
  },
  {
   "cell_type": "code",
   "execution_count": 32,
   "metadata": {},
   "outputs": [],
   "source": [
    "length = len(numbers)\n",
    "start = 0\n",
    "stop = 0\n",
    "\n",
    "middle = numbers[start:stop]"
   ]
  },
  {
   "cell_type": "markdown",
   "metadata": {},
   "source": [
    "### **Calculating the Start and Stop Values**\n",
    "If you want to find the middle of a list of 9 numbers, divide the length (9) by 3, which is 3. So `numbers` is composed of three groups of three elements. That would mean that the middle third is the elements 4, 5, and 6. Another way to state this is that `start` is `length // 3 + 1` and `stop` is `length // 3 * 2`. However, this will not give the correct slice."
   ]
  },
  {
   "cell_type": "markdown",
   "metadata": {},
   "source": [
    "#### **Why use `//`?**\n",
    "The `slice` operator requires integers for its parameters. If you use regular division (`/`), it will always return a floating point number. Floor division (`//`) will always return an integer.\n",
    "![](https://apollo-media.codio.com/media/1/6cbf596cbb129f7076c704fb03f151fa-9fa43f3e-308e-4270-8056-9c89ffc7d1aa.webp)"
   ]
  },
  {
   "cell_type": "code",
   "execution_count": 33,
   "metadata": {},
   "outputs": [],
   "source": [
    "start = length // 3\n",
    "stop = length // 3 * 2\n",
    "middle = numbers[start:stop]"
   ]
  },
  {
   "cell_type": "markdown",
   "metadata": {},
   "source": [
    "### **Printing the Answer and Checking our Work**\n",
    "All of the calculations should be done. To check our work, start by printing the list `numbers`. Then print the value of `middle`. You should be able to check that `middle` actually is the middle third of `numbers`."
   ]
  },
  {
   "cell_type": "code",
   "execution_count": 34,
   "metadata": {},
   "outputs": [
    {
     "name": "stdout",
     "output_type": "stream",
     "text": [
      "[45, 21, 43, 27, 84, 74, 70, 66, 48]\n",
      "The middle is  [27, 84, 74]\n"
     ]
    }
   ],
   "source": [
    "print(numbers)\n",
    "print(\"The middle is \", middle)"
   ]
  },
  {
   "cell_type": "markdown",
   "metadata": {},
   "source": [
    "#### **All Code**"
   ]
  },
  {
   "cell_type": "code",
   "execution_count": 35,
   "metadata": {},
   "outputs": [
    {
     "name": "stdout",
     "output_type": "stream",
     "text": [
      "[84, 36, 52, 66, 71, 16, 29, 87, 71]\n",
      "The middle is  [66, 71, 16]\n"
     ]
    }
   ],
   "source": [
    "import random\n",
    "\n",
    "numbers = []\n",
    "for i in range(9):\n",
    "    numbers.append(random.randint(0, 100))\n",
    "\n",
    "length = len(numbers)\n",
    "start = length // 3\n",
    "stop = length // 3 * 2\n",
    "middle = numbers[start:stop]\n",
    "\n",
    "print(numbers)\n",
    "print(\"The middle is \", middle)"
   ]
  },
  {
   "cell_type": "markdown",
   "metadata": {},
   "source": [
    "## **Slice Operator**\n",
    "Fill in the blanks below. Using the list `my_list`, complete the `slice` operator so that it returns `[21, 17, 33]`.\n",
    "\n",
    "`my_list = [45, 99, 21, 17, 33, 7]`     \n",
    "`my_list[2:5]`\n",
    "\n",
    "The first element in the answer is `21`. Starting with 0, the index of `21` is 2. The third element in the answer is `33`. The index for `33` is 4. However, the second parameter of the `slice` operator does not include the element. Use 5 to ensure the slice includes `33`.\n",
    "\n",
    "my_list[2:5]"
   ]
  },
  {
   "cell_type": "code",
   "execution_count": 39,
   "metadata": {},
   "outputs": [
    {
     "name": "stdout",
     "output_type": "stream",
     "text": [
      "[21, 17, 33]\n"
     ]
    }
   ],
   "source": [
    "my_list = [45, 99, 21, 17, 33, 7]\n",
    "slice = my_list[2:5]\n",
    "print(slice)"
   ]
  }
 ],
 "metadata": {
  "kernelspec": {
   "display_name": "Python 3.10.4 64-bit",
   "language": "python",
   "name": "python3"
  },
  "language_info": {
   "codemirror_mode": {
    "name": "ipython",
    "version": 3
   },
   "file_extension": ".py",
   "mimetype": "text/x-python",
   "name": "python",
   "nbconvert_exporter": "python",
   "pygments_lexer": "ipython3",
   "version": "3.10.4"
  },
  "orig_nbformat": 4,
  "vscode": {
   "interpreter": {
    "hash": "12d9efd1b418ad7485587f2da0512ee7fc7c20b6462fdb2a696d6f33bbf19b58"
   }
  }
 },
 "nbformat": 4,
 "nbformat_minor": 2
}
