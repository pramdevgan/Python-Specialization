{
 "cells": [
  {
   "cell_type": "markdown",
   "metadata": {},
   "source": [
    "# ***Min***\n",
    "## **The Min Function**\n",
    "The `min` function is another built-in function that returns the minimum value of a list."
   ]
  },
  {
   "cell_type": "code",
   "execution_count": 1,
   "metadata": {},
   "outputs": [
    {
     "name": "stdout",
     "output_type": "stream",
     "text": [
      "1\n"
     ]
    }
   ],
   "source": [
    "my_list = [45, 12, 9, 1]\n",
    "smallest = min(my_list)\n",
    "print(smallest)"
   ]
  },
  {
   "cell_type": "markdown",
   "metadata": {},
   "source": [
    "### **What happens if you:**\n",
    "- Change the value of `my_list` to `[0, 1, 0.5, -0.2, -1]`?\n",
    "- Change the value of `my_list` to `[]`?"
   ]
  },
  {
   "cell_type": "code",
   "execution_count": 2,
   "metadata": {},
   "outputs": [
    {
     "name": "stdout",
     "output_type": "stream",
     "text": [
      "-1\n"
     ]
    }
   ],
   "source": [
    "my_list = [0, 1, 0.5, -0.2, -1]\n",
    "smallest = min(my_list)\n",
    "print(smallest)"
   ]
  },
  {
   "cell_type": "code",
   "execution_count": 3,
   "metadata": {},
   "outputs": [
    {
     "ename": "ValueError",
     "evalue": "min() arg is an empty sequence",
     "output_type": "error",
     "traceback": [
      "\u001b[1;31m---------------------------------------------------------------------------\u001b[0m",
      "\u001b[1;31mValueError\u001b[0m                                Traceback (most recent call last)",
      "\u001b[1;32mc:\\Users\\vpram\\Python Specialization\\Course 2\\Week 1\\4 List of Numbers\\2 Min.ipynb Cell 5\u001b[0m in \u001b[0;36m<module>\u001b[1;34m\u001b[0m\n\u001b[0;32m      <a href='vscode-notebook-cell:/c%3A/Users/vpram/Python%20Specialization/Course%202/Week%201/4%20List%20of%20Numbers/2%20Min.ipynb#ch0000004?line=0'>1</a>\u001b[0m my_list \u001b[39m=\u001b[39m []\n\u001b[1;32m----> <a href='vscode-notebook-cell:/c%3A/Users/vpram/Python%20Specialization/Course%202/Week%201/4%20List%20of%20Numbers/2%20Min.ipynb#ch0000004?line=1'>2</a>\u001b[0m smallest \u001b[39m=\u001b[39m \u001b[39mmin\u001b[39;49m(my_list)\n\u001b[0;32m      <a href='vscode-notebook-cell:/c%3A/Users/vpram/Python%20Specialization/Course%202/Week%201/4%20List%20of%20Numbers/2%20Min.ipynb#ch0000004?line=2'>3</a>\u001b[0m \u001b[39mprint\u001b[39m(smallest)\n",
      "\u001b[1;31mValueError\u001b[0m: min() arg is an empty sequence"
     ]
    }
   ],
   "source": [
    "my_list = []\n",
    "smallest = min(my_list)\n",
    "print(smallest)"
   ]
  },
  {
   "cell_type": "markdown",
   "metadata": {},
   "source": [
    "## **The Min Function & Strings**\n",
    "Unlike `sum`, the `min` function can work with strings. Python does this by selecting the element that comes first alphabetically."
   ]
  },
  {
   "cell_type": "code",
   "execution_count": null,
   "metadata": {},
   "outputs": [
    {
     "name": "stdout",
     "output_type": "stream",
     "text": [
      "aaron\n"
     ]
    }
   ],
   "source": [
    "my_list = [\"apple\", \"boy\", \"cat\", \"aaron\"]\n",
    "smallest = min(my_list)\n",
    "print(smallest)"
   ]
  },
  {
   "cell_type": "markdown",
   "metadata": {},
   "source": [
    "### **What happens if you:**\n",
    "- Change the value of `my_list` to `[\"apple\", \"boy\", \"123\", \"cat\"]`?\n",
    "- Change the value of `my_list` to `[\"apple\", \"boy\", 123, \"cat\"]`?"
   ]
  },
  {
   "cell_type": "code",
   "execution_count": null,
   "metadata": {},
   "outputs": [
    {
     "name": "stdout",
     "output_type": "stream",
     "text": [
      "123\n"
     ]
    }
   ],
   "source": [
    "my_list = [\"apple\", \"boy\", \"123\", \"cat\"]\n",
    "smallest = min(my_list)\n",
    "print(smallest)"
   ]
  },
  {
   "cell_type": "code",
   "execution_count": null,
   "metadata": {},
   "outputs": [
    {
     "ename": "TypeError",
     "evalue": "'<' not supported between instances of 'int' and 'str'",
     "output_type": "error",
     "traceback": [
      "\u001b[1;31m---------------------------------------------------------------------------\u001b[0m",
      "\u001b[1;31mTypeError\u001b[0m                                 Traceback (most recent call last)",
      "\u001b[1;32mc:\\Users\\vpram\\Python Specialization\\Course 2\\Week 1\\4 List of Numbers\\2 Min.ipynb Cell 10'\u001b[0m in \u001b[0;36m<module>\u001b[1;34m\u001b[0m\n\u001b[0;32m      <a href='vscode-notebook-cell:/c%3A/Users/vpram/Python%20Specialization/Course%202/Week%201/4%20List%20of%20Numbers/2%20Min.ipynb#ch0000009?line=0'>1</a>\u001b[0m my_list \u001b[39m=\u001b[39m [\u001b[39m\"\u001b[39m\u001b[39mapple\u001b[39m\u001b[39m\"\u001b[39m, \u001b[39m\"\u001b[39m\u001b[39mboy\u001b[39m\u001b[39m\"\u001b[39m, \u001b[39m123\u001b[39m, \u001b[39m\"\u001b[39m\u001b[39mcat\u001b[39m\u001b[39m\"\u001b[39m]\n\u001b[1;32m----> <a href='vscode-notebook-cell:/c%3A/Users/vpram/Python%20Specialization/Course%202/Week%201/4%20List%20of%20Numbers/2%20Min.ipynb#ch0000009?line=1'>2</a>\u001b[0m smallest \u001b[39m=\u001b[39m \u001b[39mmin\u001b[39;49m(my_list)\n\u001b[0;32m      <a href='vscode-notebook-cell:/c%3A/Users/vpram/Python%20Specialization/Course%202/Week%201/4%20List%20of%20Numbers/2%20Min.ipynb#ch0000009?line=2'>3</a>\u001b[0m \u001b[39mprint\u001b[39m(smallest)\n",
      "\u001b[1;31mTypeError\u001b[0m: '<' not supported between instances of 'int' and 'str'"
     ]
    }
   ],
   "source": [
    "my_list = [\"apple\", \"boy\", 123, \"cat\"]\n",
    "smallest = min(my_list)\n",
    "print(smallest)"
   ]
  },
  {
   "cell_type": "markdown",
   "metadata": {},
   "source": [
    "### **Reading Question**\n",
    "Imagine that you have a list that has all of the golf scores for you and your friends. In which scenario would you use the `min` function?\n",
    "\n",
    "\n",
    "- To find out who had the highest score\n",
    "- To find the total of all the scores\n",
    "- **To find out who had the lowest score**   <--- Correct Answer\n",
    "- To find the average score\n",
    "\n",
    "The `min` function returns the smallest value, so it would be used to find out who had the lowest score."
   ]
  }
 ],
 "metadata": {
  "interpreter": {
   "hash": "12d9efd1b418ad7485587f2da0512ee7fc7c20b6462fdb2a696d6f33bbf19b58"
  },
  "kernelspec": {
   "display_name": "Python 3.10.4 64-bit",
   "language": "python",
   "name": "python3"
  },
  "language_info": {
   "codemirror_mode": {
    "name": "ipython",
    "version": 3
   },
   "file_extension": ".py",
   "mimetype": "text/x-python",
   "name": "python",
   "nbconvert_exporter": "python",
   "pygments_lexer": "ipython3",
   "version": "3.10.4"
  },
  "orig_nbformat": 4
 },
 "nbformat": 4,
 "nbformat_minor": 2
}
