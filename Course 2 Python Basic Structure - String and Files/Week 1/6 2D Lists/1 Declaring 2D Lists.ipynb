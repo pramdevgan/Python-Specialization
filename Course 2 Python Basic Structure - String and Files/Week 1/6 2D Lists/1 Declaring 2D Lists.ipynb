{
 "cells": [
  {
   "cell_type": "markdown",
   "metadata": {},
   "source": [
    "# **_Declaring 2D Lists_**\n",
    "\n",
    "## **Declaring a 2D List**\n",
    "\n",
    "A 2D list is a list whose individual elements are other lists; sometimes referred to as a list of lists.\n",
    "![](https://apollo-media.codio.com/media%2F1%2F1faa98145d95675ec56614bae0e8f411-c07992970cf1cf1a.webp)\n",
    "\n",
    "To declare a 2D list, start as normal with a pair of square brackets (`[]`). For each element, declare another list with more square brackets. Be sure to use commas when separating each internal list.\n"
   ]
  },
  {
   "cell_type": "code",
   "execution_count": 1,
   "metadata": {},
   "outputs": [
    {
     "name": "stdout",
     "output_type": "stream",
     "text": [
      "[[1, 2, 3], [4, 5, 6], [7, 8, 9]]\n"
     ]
    }
   ],
   "source": [
    "my_2d_list = [[1, 2, 3], [4, 5, 6], [7, 8, 9]]\n",
    "print(my_2d_list)\n"
   ]
  },
  {
   "cell_type": "markdown",
   "metadata": {},
   "source": [
    "#### **Try this variation:**\n",
    "\n",
    "- Create a 2D list comprised of empty lists. Print this 2D list.\n",
    "\n",
    "##### **Solution**\n",
    "\n",
    "```\n",
    "my_empty_2d_list = [[], [], []]\n",
    "print(my_empty_2d_list)\n",
    "```\n"
   ]
  },
  {
   "cell_type": "code",
   "execution_count": 2,
   "metadata": {},
   "outputs": [
    {
     "name": "stdout",
     "output_type": "stream",
     "text": [
      "[[], [], []]\n"
     ]
    }
   ],
   "source": [
    "my_empty_2d_list = [[], [], []]\n",
    "print(my_empty_2d_list)\n"
   ]
  },
  {
   "cell_type": "markdown",
   "metadata": {},
   "source": [
    "## **Declaring 2D Lists in a Human Readable Way**\n",
    "\n",
    "2D lists are useful for when you want a group of data where each group is itself a group of data. Imagine that you are going to list the three most populous cities for America, France, China, and India. Declaring the list as described above, would make for a long line of code. While Python will not have trouble understanding this line of code, some humans might. It is a good idea to write your code in a way that is easy for humans to read. This will make debugging your code easier.\n"
   ]
  },
  {
   "cell_type": "code",
   "execution_count": 3,
   "metadata": {},
   "outputs": [
    {
     "name": "stdout",
     "output_type": "stream",
     "text": [
      "[['USA', 'New York City', 'Los Angeles', 'Chicago'], ['France', 'Paris', 'Marseille', 'Lyon'], ['China', 'Shanghai', 'Beijing', 'Chongqing'], ['India', 'Mumbai', 'Delhi', 'Bangalore']]\n"
     ]
    }
   ],
   "source": [
    "populous_cities = [\n",
    "                    [\"USA\", \"New York City\", \"Los Angeles\", \"Chicago\"],\n",
    "                    [\"France\", \"Paris\", \"Marseille\", \"Lyon\"],\n",
    "                    [\"China\", \"Shanghai\", \"Beijing\", \"Chongqing\"],\n",
    "                    [\"India\", \"Mumbai\", \"Delhi\", \"Bangalore\"]\n",
    "                ]\n",
    "print(populous_cities)\n"
   ]
  },
  {
   "cell_type": "markdown",
   "metadata": {},
   "source": [
    "##### **Printing a 2D list**\n",
    "The standard `print` statement does not print a 2D list in a human readable way. However, it is possible to print a 2D list in a more readable way. This will be covered on a later page.\n",
    "#### **Try this variation:**\n",
    "Create a 2D list in a human readable way based on the information in the table below. Print the list when done.\n",
    "#### **Popular Breeds**\n",
    "\n",
    "|     Pet       |           Popular Breeds          |\n",
    "|---------------|-----------------------------------|\n",
    "| Dogs          | Labrador Retriever, German Shepherd, Golden Retriever|\n",
    "| Cats          | Siamese, Persian, Maine Coon|"
   ]
  },
  {
   "cell_type": "code",
   "execution_count": 4,
   "metadata": {},
   "outputs": [
    {
     "name": "stdout",
     "output_type": "stream",
     "text": [
      "[['dogs', 'labrador retriever', 'german shepherd', 'golden retriever'], ['cats', 'siamese', 'persian', 'maine coon']]\n"
     ]
    }
   ],
   "source": [
    "pets = [\n",
    "    ['dogs', 'labrador retriever', 'german shepherd', 'golden retriever'],\n",
    "    ['cats', 'siamese', 'persian', 'maine coon']\n",
    "]\n",
    "print(pets)"
   ]
  },
  {
   "cell_type": "markdown",
   "metadata": {},
   "source": [
    "### **Reading Question**\n",
    "Select all examples of declaring a 2D list. **Note**: there is more than one example.\n",
    "\n",
    "\n",
    "- `my_2d_list = [(1, 2, 3), (4, 5, 6), (7, 8, 9)]`\n",
    "\n",
    "- `my_2d_list = [[1, 2, 3], [4, 5, 6], [7, 8, 9]]` <---- Correct Answer\n",
    "\n",
    "- `my_2d_list = [{1, 2, 3}, {4, 5, 6}, {7, 8, 9}]`\n",
    "\n",
    "- ```\n",
    "    my_2d_list = [\n",
    "                   [1, 2, 3],\n",
    "                   [4, 5, 6],      <------ Correct Answer\n",
    "                   [7, 8, 9]\n",
    "                 ]\n",
    "```"
   ]
  },
  {
   "cell_type": "markdown",
   "metadata": {},
   "source": [
    "The correct answers are:\n",
    "```\n",
    "my_2d_list = [[1, 2, 3], [4, 5, 6], [7, 8, 9]]\n",
    "```\n",
    "and\n",
    "```\n",
    "my_2d_list = [\n",
    "               [1, 2, 3],\n",
    "               [4, 5, 6],\n",
    "               [7, 8, 9]\n",
    "             ]\n",
    "```\n",
    "2D lists require that both the outer and inner lists use square brackets (`[]`). Two of the answers are incorrect because one of them uses parentheses for the interior lists and the other uses curly braces (`{}`) for the interior lists."
   ]
  }
 ],
 "metadata": {
  "interpreter": {
   "hash": "12d9efd1b418ad7485587f2da0512ee7fc7c20b6462fdb2a696d6f33bbf19b58"
  },
  "kernelspec": {
   "display_name": "Python 3.10.4 64-bit",
   "language": "python",
   "name": "python3"
  },
  "language_info": {
   "codemirror_mode": {
    "name": "ipython",
    "version": 3
   },
   "file_extension": ".py",
   "mimetype": "text/x-python",
   "name": "python",
   "nbconvert_exporter": "python",
   "pygments_lexer": "ipython3",
   "version": "3.10.4"
  },
  "orig_nbformat": 4
 },
 "nbformat": 4,
 "nbformat_minor": 2
}
