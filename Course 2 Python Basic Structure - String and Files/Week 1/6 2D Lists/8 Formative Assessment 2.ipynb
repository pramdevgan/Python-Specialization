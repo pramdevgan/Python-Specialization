{
 "cells": [
  {
   "cell_type": "markdown",
   "metadata": {},
   "source": [
    "## **Formative Assessment 2**\n",
    "\n",
    "2D Lists\n",
    "Assume the following code:\n",
    "\n",
    "```\n",
    "colors = [\n",
    "           [\"orange\", \"purple\", \"green\"],\n",
    "           [\"blue\", \"white\", \"brown\"],\n",
    "           [\"black\", \"red\", \"yellow\"],\n",
    "         ]\n",
    "```\n",
    "\n",
    "Drag the code blocks into the box below such that your program iterates over the 2D list and prints all of the elements. Hint: not all of the code blocks will be used.\n",
    "\n",
    "Drag from here\n",
    "\n",
    "```\n",
    "print(color[row][column])\n",
    "for row in range(len(colors)):\n",
    "```\n",
    "\n",
    "***Construct your solution here*** <br>\n",
    "<font color = green>\n",
    "**for row in colors: <br>\n",
    "&emsp;&emsp;&emsp; for color in row: <br>\n",
    "&emsp;&emsp;&emsp;&emsp;&emsp;&emsp;print(color)**<br>\n",
    "</font>"
   ]
  },
  {
   "cell_type": "code",
   "execution_count": 2,
   "metadata": {},
   "outputs": [
    {
     "name": "stdout",
     "output_type": "stream",
     "text": [
      "\t orange\n",
      "\t purple\n",
      "\t green\n",
      "\n",
      "\t blue\n",
      "\t white\n",
      "\t brown\n",
      "\n",
      "\t black\n",
      "\t red\n",
      "\t yellow\n",
      "\n"
     ]
    }
   ],
   "source": [
    "colors = [\n",
    "    [\"orange\", \"purple\", \"green\"],\n",
    "    [\"blue\", \"white\", \"brown\"],\n",
    "    [\"black\", \"red\", \"yellow\"],\n",
    "]\n",
    "for row in colors:\n",
    "    for color in row:\n",
    "        print(\"\\t\", color)\n",
    "    print()"
   ]
  }
 ],
 "metadata": {
  "kernelspec": {
   "display_name": "Python 3.10.4 64-bit",
   "language": "python",
   "name": "python3"
  },
  "language_info": {
   "codemirror_mode": {
    "name": "ipython",
    "version": 3
   },
   "file_extension": ".py",
   "mimetype": "text/x-python",
   "name": "python",
   "nbconvert_exporter": "python",
   "pygments_lexer": "ipython3",
   "version": "3.10.4"
  },
  "orig_nbformat": 4,
  "vscode": {
   "interpreter": {
    "hash": "12d9efd1b418ad7485587f2da0512ee7fc7c20b6462fdb2a696d6f33bbf19b58"
   }
  }
 },
 "nbformat": 4,
 "nbformat_minor": 2
}
