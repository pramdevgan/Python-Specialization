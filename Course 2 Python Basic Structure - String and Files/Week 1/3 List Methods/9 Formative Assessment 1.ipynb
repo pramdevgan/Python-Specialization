{
 "cells": [
  {
   "cell_type": "markdown",
   "metadata": {},
   "source": [
    "# ***Formative Assessment 1***\n",
    "#### **List Methods**\n",
    "Drag the appropriate code blocks to the box below. Your program should print a list that looks like this:\n",
    "\n",
    "`[\"Python\", \"List\", \"Methods\"]`\n",
    "\n",
    "Hint, not all of the code blocks will be used.\n",
    "\n",
    "Drag from here\n",
    "```\n",
    "my_list.pop()\n",
    "my_list.pop(\"DELETE ME\")\n",
    "my_list.remove(0)\n",
    "```\n",
    "Construct your solution here\n",
    "```\n",
    "my_list = [\"DELETE ME\", \"Python\", \"List\", \"Methods\"]\n",
    "my_list.remove(\"DELETE ME\")\n",
    "print(my_list)\n",
    "```"
   ]
  },
  {
   "cell_type": "code",
   "execution_count": 2,
   "metadata": {},
   "outputs": [
    {
     "name": "stdout",
     "output_type": "stream",
     "text": [
      "['Python', 'List', 'Methods']\n"
     ]
    }
   ],
   "source": [
    "my_list = [\"DELETE ME\", \"Python\", \"List\", \"Methods\"]\n",
    "my_list.remove(\"DELETE ME\")\n",
    "print(my_list)"
   ]
  },
  {
   "cell_type": "markdown",
   "metadata": {},
   "source": [
    "The difference between `pop` and `remove` is that `remove` searches for the object to remove. `pop` searches for an index and then removes the element at that index. `pop` also returns the element removed from the list.\n",
    "\n",
    "When dealing with an unsorted list, using `remove` is easier than using `pop`."
   ]
  }
 ],
 "metadata": {
  "interpreter": {
   "hash": "12d9efd1b418ad7485587f2da0512ee7fc7c20b6462fdb2a696d6f33bbf19b58"
  },
  "kernelspec": {
   "display_name": "Python 3.10.4 64-bit",
   "language": "python",
   "name": "python3"
  },
  "language_info": {
   "codemirror_mode": {
    "name": "ipython",
    "version": 3
   },
   "file_extension": ".py",
   "mimetype": "text/x-python",
   "name": "python",
   "nbconvert_exporter": "python",
   "pygments_lexer": "ipython3",
   "version": "3.10.4"
  },
  "orig_nbformat": 4
 },
 "nbformat": 4,
 "nbformat_minor": 2
}
