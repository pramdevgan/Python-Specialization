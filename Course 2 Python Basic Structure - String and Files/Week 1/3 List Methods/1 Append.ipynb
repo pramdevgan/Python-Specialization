{
 "cells": [
  {
   "cell_type": "markdown",
   "metadata": {},
   "source": [
    "# ***Append***\n",
    "## **What is a List Method?**\n",
    "Lists have special commands called methods (more on methods in a later lesson). Methods have a special syntax. First, start with a list (often a variable that represents a list). Add a period after the list. Finally, add the name of the method with any parameters. Parameters are values that the method will use.\n",
    "![](https://apollo-media.codio.com/media%2F1%2F17ce58f1a252a8f274cfde86f39bec19-a77affeb-11fa-48b4-a651-c7278cd0ab04.webp)\n",
    "\n",
    "**Translation:** Append the string `Hi` to the list `my_list`."
   ]
  },
  {
   "cell_type": "markdown",
   "metadata": {},
   "source": [
    "## **The Append Method**\n",
    "The `append` method adds an element to a list. `append` adds the element to the end of the list."
   ]
  },
  {
   "cell_type": "code",
   "execution_count": 1,
   "metadata": {},
   "outputs": [
    {
     "name": "stdout",
     "output_type": "stream",
     "text": [
      "[1, 2, 3, 4]\n"
     ]
    }
   ],
   "source": [
    "my_list = [1,2,3]\n",
    "new_element = 4\n",
    "my_list.append(new_element)\n",
    "print(my_list)"
   ]
  },
  {
   "cell_type": "markdown",
   "metadata": {},
   "source": [
    "### **What happens if you:**\n",
    "- Change the value of `new_element` to `\"four\"`?\n",
    "- Change the value of `new_element` to `len(my_list)`?\n",
    "- Change the value of `new_element` to `my_list[0]`?"
   ]
  },
  {
   "cell_type": "code",
   "execution_count": 2,
   "metadata": {},
   "outputs": [
    {
     "name": "stdout",
     "output_type": "stream",
     "text": [
      "[1, 2, 3, 4, 'four']\n"
     ]
    }
   ],
   "source": [
    "new_element = \"four\"\n",
    "my_list.append(new_element)\n",
    "print(my_list)"
   ]
  },
  {
   "cell_type": "code",
   "execution_count": 3,
   "metadata": {},
   "outputs": [
    {
     "name": "stdout",
     "output_type": "stream",
     "text": [
      "[1, 2, 3, 4, 'four', 5]\n"
     ]
    }
   ],
   "source": [
    "new_element = len(my_list)\n",
    "my_list.append(new_element)\n",
    "print(my_list)"
   ]
  },
  {
   "cell_type": "code",
   "execution_count": 4,
   "metadata": {},
   "outputs": [
    {
     "name": "stdout",
     "output_type": "stream",
     "text": [
      "[1, 2, 3, 4, 'four', 5, 1]\n"
     ]
    }
   ],
   "source": [
    "new_element = my_list[0]\n",
    "my_list.append(new_element)\n",
    "print(my_list)"
   ]
  },
  {
   "cell_type": "code",
   "execution_count": 5,
   "metadata": {},
   "outputs": [
    {
     "name": "stdout",
     "output_type": "stream",
     "text": [
      "[1, 2, 3, 4, 'four', 5, 1, True]\n"
     ]
    }
   ],
   "source": [
    "new_element = True\n",
    "my_list.append(new_element)\n",
    "print(my_list)"
   ]
  },
  {
   "cell_type": "markdown",
   "metadata": {},
   "source": [
    "#### `append` **versus** `+`\n",
    "There is an important difference between `append` and the concatenation operator (`+`). The `+` operator only combines two lists. The append method can add a value of any data type to a list."
   ]
  },
  {
   "cell_type": "markdown",
   "metadata": {},
   "source": [
    "#### **Reading Question**\n",
    "Which of the following code snippets is the correct way to append `red` to the list `colors`?\n",
    "\n",
    "\n",
    "- `my_list.append(\"red\")`\n",
    "- ***<font color = green>colors.append(\"red\")</font>*** <----- Correct answer\n",
    "- `colors[append(\"red\")]`\n",
    "- `colors,append(\"red\")`\n",
    "\n",
    "The pattern for using a list method is:\n",
    "\n",
    "list name + period + method + parameters\n",
    "\n",
    "The answer is: `colors.append(\"red\")`"
   ]
  }
 ],
 "metadata": {
  "interpreter": {
   "hash": "12d9efd1b418ad7485587f2da0512ee7fc7c20b6462fdb2a696d6f33bbf19b58"
  },
  "kernelspec": {
   "display_name": "Python 3.10.4 64-bit",
   "language": "python",
   "name": "python3"
  },
  "language_info": {
   "codemirror_mode": {
    "name": "ipython",
    "version": 3
   },
   "file_extension": ".py",
   "mimetype": "text/x-python",
   "name": "python",
   "nbconvert_exporter": "python",
   "pygments_lexer": "ipython3",
   "version": "3.10.4"
  },
  "orig_nbformat": 4
 },
 "nbformat": 4,
 "nbformat_minor": 2
}
