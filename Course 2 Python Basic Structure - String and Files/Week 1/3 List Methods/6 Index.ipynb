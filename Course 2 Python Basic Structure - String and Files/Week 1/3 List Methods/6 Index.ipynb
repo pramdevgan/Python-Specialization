{
 "cells": [
  {
   "cell_type": "markdown",
   "metadata": {},
   "source": [
    "# ***Index***\n",
    "### **The Index Method**\n",
    "The `index` method returns the index of a given element in a list. `index` has one parameter, the element in a list.\n",
    "\n",
    "![](https://apollo-media.codio.com/media%2F1%2F6a52e4206078c30fc1a411de9f7481bd-09e7147b-6b93-499f-a6d4-7f37fadfa45b.webp)"
   ]
  },
  {
   "cell_type": "code",
   "execution_count": 1,
   "metadata": {},
   "outputs": [
    {
     "name": "stdout",
     "output_type": "stream",
     "text": [
      "3\n"
     ]
    }
   ],
   "source": [
    "my_list = [\"dog\", True, 16, \"house\", 55.9, False, 16]\n",
    "index = my_list.index(\"house\")\n",
    "print(index)"
   ]
  },
  {
   "cell_type": "markdown",
   "metadata": {},
   "source": [
    "#### **What happens if you:**\n",
    "- Change the value of `index` to `my_list.index(False)`?\n",
    "- Change the value of `index` to `my_list.index(16)`?\n",
    "- Change the value of `index` to `my_list.index('cat')`?"
   ]
  },
  {
   "cell_type": "code",
   "execution_count": 2,
   "metadata": {},
   "outputs": [
    {
     "name": "stdout",
     "output_type": "stream",
     "text": [
      "5\n"
     ]
    }
   ],
   "source": [
    "my_list = [\"dog\", True, 16, \"house\", 55.9, False, 16]\n",
    "index = my_list.index(False)\n",
    "print(index)"
   ]
  },
  {
   "cell_type": "code",
   "execution_count": 3,
   "metadata": {},
   "outputs": [
    {
     "name": "stdout",
     "output_type": "stream",
     "text": [
      "2\n"
     ]
    }
   ],
   "source": [
    "my_list = [\"dog\", True, 16, \"house\", 55.9, False, 16]\n",
    "index = my_list.index(16)\n",
    "print(index)"
   ]
  },
  {
   "cell_type": "code",
   "execution_count": 4,
   "metadata": {},
   "outputs": [
    {
     "ename": "ValueError",
     "evalue": "'cat' is not in list",
     "output_type": "error",
     "traceback": [
      "\u001b[1;31m---------------------------------------------------------------------------\u001b[0m",
      "\u001b[1;31mValueError\u001b[0m                                Traceback (most recent call last)",
      "\u001b[1;32mc:\\Users\\vpram\\Python Specialization\\Course 2\\Week 1\\3 List Methods\\6 Index.ipynb Cell 6'\u001b[0m in \u001b[0;36m<module>\u001b[1;34m\u001b[0m\n\u001b[0;32m      <a href='vscode-notebook-cell:/c%3A/Users/vpram/Python%20Specialization/Course%202/Week%201/3%20List%20Methods/6%20Index.ipynb#ch0000006?line=0'>1</a>\u001b[0m my_list \u001b[39m=\u001b[39m [\u001b[39m\"\u001b[39m\u001b[39mdog\u001b[39m\u001b[39m\"\u001b[39m, \u001b[39mTrue\u001b[39;00m, \u001b[39m16\u001b[39m, \u001b[39m\"\u001b[39m\u001b[39mhouse\u001b[39m\u001b[39m\"\u001b[39m, \u001b[39m55.9\u001b[39m, \u001b[39mFalse\u001b[39;00m, \u001b[39m16\u001b[39m]\n\u001b[1;32m----> <a href='vscode-notebook-cell:/c%3A/Users/vpram/Python%20Specialization/Course%202/Week%201/3%20List%20Methods/6%20Index.ipynb#ch0000006?line=1'>2</a>\u001b[0m index \u001b[39m=\u001b[39m my_list\u001b[39m.\u001b[39;49mindex(\u001b[39m\"\u001b[39;49m\u001b[39mcat\u001b[39;49m\u001b[39m\"\u001b[39;49m)\n\u001b[0;32m      <a href='vscode-notebook-cell:/c%3A/Users/vpram/Python%20Specialization/Course%202/Week%201/3%20List%20Methods/6%20Index.ipynb#ch0000006?line=2'>3</a>\u001b[0m \u001b[39mprint\u001b[39m(index)\n",
      "\u001b[1;31mValueError\u001b[0m: 'cat' is not in list"
     ]
    }
   ],
   "source": [
    "my_list = [\"dog\", True, 16, \"house\", 55.9, False, 16]\n",
    "index = my_list.index(\"cat\")\n",
    "print(index)"
   ]
  },
  {
   "cell_type": "markdown",
   "metadata": {},
   "source": [
    "### **Reading Question**\n",
    "Fill in the blank below so that the code snippet returns the index `4`.\n",
    "\n",
    "```\n",
    "my_list = [flower, 3, True, 16.4, \"flower\", 32]\n",
    "my_list.index(___)\n",
    "```"
   ]
  },
  {
   "cell_type": "code",
   "execution_count": 2,
   "metadata": {},
   "outputs": [
    {
     "name": "stdout",
     "output_type": "stream",
     "text": [
      "4\n"
     ]
    }
   ],
   "source": [
    "flower = \"Lotus\"\n",
    "my_list = [flower, 3, True, 16.4, \"flower\", 32]\n",
    "print(my_list.index(\"flower\"))"
   ]
  },
  {
   "cell_type": "markdown",
   "metadata": {},
   "source": [
    "The answer is not `flower` because that would return index 0. The string “flower” is located at index 4. So `my_list.index(\"flower\")`."
   ]
  }
 ],
 "metadata": {
  "interpreter": {
   "hash": "12d9efd1b418ad7485587f2da0512ee7fc7c20b6462fdb2a696d6f33bbf19b58"
  },
  "kernelspec": {
   "display_name": "Python 3.10.4 64-bit",
   "language": "python",
   "name": "python3"
  },
  "language_info": {
   "codemirror_mode": {
    "name": "ipython",
    "version": 3
   },
   "file_extension": ".py",
   "mimetype": "text/x-python",
   "name": "python",
   "nbconvert_exporter": "python",
   "pygments_lexer": "ipython3",
   "version": "3.10.4"
  },
  "orig_nbformat": 4
 },
 "nbformat": 4,
 "nbformat_minor": 2
}
