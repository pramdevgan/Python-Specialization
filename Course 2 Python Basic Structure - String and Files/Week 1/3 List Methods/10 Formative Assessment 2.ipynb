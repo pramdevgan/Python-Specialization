{
 "cells": [
  {
   "cell_type": "markdown",
   "metadata": {},
   "source": [
    "# ***Formative Assessment 2***\n",
    "\n",
    "List Methods\n",
    "You are given the following code: `my_list = [\"Methods\", \"Python\"]`. You want the list to end up being: `my_list = [\"Python\", \"List\", \"Methods\"]`. What two methods do you need to use on `my_list` to get the desired result?\n",
    "\n",
    "\n",
    "- `my_list.reverse()`\n",
    "\n",
    "    `my_list.insert(1, \"List\")`\n",
    "\n",
    "- `my_list.reverse()`\n",
    "\n",
    "  `my_list.sort()`\n",
    "\n",
    "- `my_list.reverse()`\n",
    "\n",
    "  `my_list.append(\"List\")`\n",
    "\n",
    "- `my_list.reverse()`\n",
    "\n",
    "  `my_list.pop(\"List\")`\n",
    "\n",
    "\n",
    "There two things that need to be done. One is make `\"Python\"` come before `\"Methods\"` in the list. That is accomplished with the `reverse` method. The next thing to do is to add `\"List\"` between \"Python\" and `\"Methods\"`. Use the `insert` method to do this."
   ]
  },
  {
   "cell_type": "code",
   "execution_count": 2,
   "metadata": {},
   "outputs": [
    {
     "name": "stdout",
     "output_type": "stream",
     "text": [
      "['Python', 'List', 'Methods']\n"
     ]
    }
   ],
   "source": [
    "my_list = [\"Methods\", \"Python\"]\n",
    "my_list.reverse()\n",
    "my_list.insert(1, \"List\")\n",
    "print(my_list)"
   ]
  }
 ],
 "metadata": {
  "interpreter": {
   "hash": "12d9efd1b418ad7485587f2da0512ee7fc7c20b6462fdb2a696d6f33bbf19b58"
  },
  "kernelspec": {
   "display_name": "Python 3.10.4 64-bit",
   "language": "python",
   "name": "python3"
  },
  "language_info": {
   "codemirror_mode": {
    "name": "ipython",
    "version": 3
   },
   "file_extension": ".py",
   "mimetype": "text/x-python",
   "name": "python",
   "nbconvert_exporter": "python",
   "pygments_lexer": "ipython3",
   "version": "3.10.4"
  },
  "orig_nbformat": 4
 },
 "nbformat": 4,
 "nbformat_minor": 2
}
