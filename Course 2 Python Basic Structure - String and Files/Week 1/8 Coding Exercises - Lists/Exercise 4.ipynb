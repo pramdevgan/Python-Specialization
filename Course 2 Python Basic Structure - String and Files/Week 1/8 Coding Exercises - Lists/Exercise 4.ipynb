{
 "cells": [
  {
   "cell_type": "markdown",
   "metadata": {},
   "source": [
    "# **Exercise 4**\n",
    "## **Lists Exercise 4**\n",
    "### **Problem**\n",
    "Write a program that takes a list called numbers that contains integers in a sequence (the sequence is always increasing, never decreasing). Your program should add the next two numbers in the sequence, and then print the list.\n",
    "#### **Expected Output**\n",
    "- If `numbers = [1, 2, 3, 4]` then you will print `[1, 2, 3, 4, 5, 6]`\n",
    "- If `numbers = [-5, -4, -3, -2]` then you will print `[-5, -4, -3, -2, -1, 0]`\n",
    "#### **Important**\n",
    "Do not edit the code in the top section. This code is necessary for the auto-grader to work. Add your code in the section below.\n",
    "#### **Testing Your Code**\n",
    "The `TEST 1` will test your code with `numbers = [1, 2, 3, 4]`.  <br>\n",
    "The `TEST 2` will test your code with `numbers = [-5, -4, -3, -2]`.<br>"
   ]
  },
  {
   "cell_type": "markdown",
   "metadata": {},
   "source": [
    "<p style=\"color:brown;font-weight:bold;text-align:center; font-size:3rem\">THERE IS TWO WAY TO SOLVE THIS PROBLEM</p>"
   ]
  },
  {
   "cell_type": "markdown",
   "metadata": {},
   "source": [
    "<p style=\"color:#ff80ed;font-weight:bold;text-align:center; font-size:2rem\">First Way</p>"
   ]
  },
  {
   "cell_type": "code",
   "execution_count": 4,
   "metadata": {},
   "outputs": [
    {
     "name": "stdout",
     "output_type": "stream",
     "text": [
      "[1, 2, 3, 4, 5, 6]\n"
     ]
    }
   ],
   "source": [
    "########################################################\n",
    "# DO NOT EDIT THE CODE IN THE SECTION BELOW\n",
    "########################################################\n",
    "import sys\n",
    "\n",
    "numbers = [1, 2, 3, 4]\n",
    "for i in range(len(numbers)-2):\n",
    "    numbers[i] = int(numbers[i])\n",
    "\n",
    "########################################################\n",
    "# Enter your code below\n",
    "########################################################\n",
    "    newNumber = numbers[-1]+1\n",
    "    numbers.append(newNumber)\n",
    "print(numbers)"
   ]
  },
  {
   "cell_type": "markdown",
   "metadata": {},
   "source": [
    "<p style=\"color:#ff80ed;font-weight:bold;text-align:center; font-size:2rem\">Second Way</p>\n",
    "\n",
    "Since two numbers need to be added to the list, the loop will run two times. `numbers[-1]` is the last element in the list. Then it is incremented by 1. Finally it is appended to `numbers`. Once this process has been done twice, `numbers` is printed."
   ]
  },
  {
   "cell_type": "code",
   "execution_count": 12,
   "metadata": {},
   "outputs": [
    {
     "name": "stdout",
     "output_type": "stream",
     "text": [
      "[-5, -4, -3, -2, -1, 0]\n"
     ]
    }
   ],
   "source": [
    "numbers = [-5, -4, -3, -2]\n",
    "for i in range(2):\n",
    "    new_number = numbers[-1] + 1\n",
    "    numbers.append(new_number)\n",
    "print(numbers)"
   ]
  }
 ],
 "metadata": {
  "kernelspec": {
   "display_name": "Python 3.10.4 64-bit",
   "language": "python",
   "name": "python3"
  },
  "language_info": {
   "codemirror_mode": {
    "name": "ipython",
    "version": 3
   },
   "file_extension": ".py",
   "mimetype": "text/x-python",
   "name": "python",
   "nbconvert_exporter": "python",
   "pygments_lexer": "ipython3",
   "version": "3.10.4"
  },
  "orig_nbformat": 4,
  "vscode": {
   "interpreter": {
    "hash": "12d9efd1b418ad7485587f2da0512ee7fc7c20b6462fdb2a696d6f33bbf19b58"
   }
  }
 },
 "nbformat": 4,
 "nbformat_minor": 2
}
