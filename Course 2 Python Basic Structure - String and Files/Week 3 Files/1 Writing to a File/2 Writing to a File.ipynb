{
 "cells": [
  {
   "cell_type": "markdown",
   "metadata": {},
   "source": [
    "# Writing to a File\n",
    "---\n",
    "## Writing to a File\n",
    "\n",
    "Once the file is opened, the `writelines()` method is used to write text to the file. Any string of text passed to `writelines()` will appear in the file. Once you are done writing to the file, close the file."
   ]
  },
  {
   "cell_type": "code",
   "execution_count": 2,
   "metadata": {},
   "outputs": [],
   "source": [
    "import os\n",
    "output_file = open(\"student_folder/text/practice1.txt\", \"w\")\n",
    "output_file.writelines(\"Hello Param Vishwakarma\")\n",
    "output_file.close()"
   ]
  },
  {
   "cell_type": "markdown",
   "metadata": {},
   "source": [
    "**[open practice1.txt](student_folder/text/practice1.txt)**"
   ]
  },
  {
   "cell_type": "markdown",
   "metadata": {},
   "source": [
    "**Raw Text**\n",
    "\n",
    "When writing to text files, Python outputs raw text. Raw text is the text that appears in a text editor. There is no special formatting or extra information attached to this text. Text in MS Word is not raw text. Raw text files have the extension `.txt`."
   ]
  },
  {
   "cell_type": "markdown",
   "metadata": {},
   "source": [
    "## What happens if you:\n",
    "\n",
    "* Change the string in `writelines()` to `\"Goodbye\"`?\n",
    "* Change the string in `writelines()` to `\"\"`?\n",
    "* Change the mode to `open(\"student_folder/text/practice1.txt\", \"r\")`?"
   ]
  },
  {
   "cell_type": "code",
   "execution_count": 6,
   "metadata": {},
   "outputs": [],
   "source": [
    "import os\n",
    "output_file = open(\"student_folder/text/practice1.txt\", \"w\")\n",
    "output_file.writelines(\"Goodbye Param Vishwakarma\")\n",
    "output_file.close()"
   ]
  },
  {
   "cell_type": "markdown",
   "metadata": {},
   "source": [
    "**[Open practice1.txt](student_folder/text/practice1.txt)**"
   ]
  },
  {
   "cell_type": "code",
   "execution_count": 4,
   "metadata": {},
   "outputs": [],
   "source": [
    "import os\n",
    "output_file = open(\"student_folder/text/practice1.txt\", \"w\")\n",
    "output_file.writelines(\"\")\n",
    "output_file.close()"
   ]
  },
  {
   "cell_type": "markdown",
   "metadata": {},
   "source": [
    "**[Open practice1.txt](student_folder/text/practice1.txt)**"
   ]
  },
  {
   "cell_type": "code",
   "execution_count": 5,
   "metadata": {},
   "outputs": [
    {
     "ename": "UnsupportedOperation",
     "evalue": "not writable",
     "output_type": "error",
     "traceback": [
      "\u001b[1;31m---------------------------------------------------------------------------\u001b[0m",
      "\u001b[1;31mUnsupportedOperation\u001b[0m                      Traceback (most recent call last)",
      "\u001b[1;32mc:\\Users\\vpram\\Python Specialization\\Course 2\\Week 3\\1 Writing to a File\\2 Writing to a File.ipynb Cell 10\u001b[0m in \u001b[0;36m<module>\u001b[1;34m\u001b[0m\n\u001b[0;32m      <a href='vscode-notebook-cell:/c%3A/Users/vpram/Python%20Specialization/Course%202/Week%203/1%20Writing%20to%20a%20File/2%20Writing%20to%20a%20File.ipynb#X14sZmlsZQ%3D%3D?line=0'>1</a>\u001b[0m \u001b[39mimport\u001b[39;00m \u001b[39mos\u001b[39;00m\n\u001b[0;32m      <a href='vscode-notebook-cell:/c%3A/Users/vpram/Python%20Specialization/Course%202/Week%203/1%20Writing%20to%20a%20File/2%20Writing%20to%20a%20File.ipynb#X14sZmlsZQ%3D%3D?line=1'>2</a>\u001b[0m output_file \u001b[39m=\u001b[39m \u001b[39mopen\u001b[39m(\u001b[39m\"\u001b[39m\u001b[39mstudent_folder/text/practice1.txt\u001b[39m\u001b[39m\"\u001b[39m, \u001b[39m\"\u001b[39m\u001b[39mr\u001b[39m\u001b[39m\"\u001b[39m)\n\u001b[1;32m----> <a href='vscode-notebook-cell:/c%3A/Users/vpram/Python%20Specialization/Course%202/Week%203/1%20Writing%20to%20a%20File/2%20Writing%20to%20a%20File.ipynb#X14sZmlsZQ%3D%3D?line=2'>3</a>\u001b[0m output_file\u001b[39m.\u001b[39;49mwritelines(\u001b[39m\"\u001b[39;49m\u001b[39mHello Param Vishwakarma\u001b[39;49m\u001b[39m\"\u001b[39;49m)\n\u001b[0;32m      <a href='vscode-notebook-cell:/c%3A/Users/vpram/Python%20Specialization/Course%202/Week%203/1%20Writing%20to%20a%20File/2%20Writing%20to%20a%20File.ipynb#X14sZmlsZQ%3D%3D?line=3'>4</a>\u001b[0m output_file\u001b[39m.\u001b[39mclose()\n",
      "\u001b[1;31mUnsupportedOperation\u001b[0m: not writable"
     ]
    }
   ],
   "source": [
    "import os\n",
    "output_file = open(\"student_folder/text/practice1.txt\", \"r\")\n",
    "output_file.writelines(\"Hello Param Vishwakarma\")\n",
    "output_file.close()"
   ]
  },
  {
   "cell_type": "markdown",
   "metadata": {},
   "source": [
    "**[Open practice1.txt](student_folder/text/practice1.txt)**"
   ]
  },
  {
   "cell_type": "markdown",
   "metadata": {},
   "source": [
    "## Reading Question\n",
    "\n",
    "What two parameters are passed to the `open` command?\n",
    "\n",
    "- The text to be added to the file and the file size.\n",
    "- **The file to be `opened` and the `mode`.**\n",
    "- The file extension and the file name.\n",
    "- The file name and the text to write to the file.\n",
    "\n",
    "The `open` command requires the file to be opened and the mode in which to open the file."
   ]
  }
 ],
 "metadata": {
  "kernelspec": {
   "display_name": "Python 3.10.4 64-bit",
   "language": "python",
   "name": "python3"
  },
  "language_info": {
   "codemirror_mode": {
    "name": "ipython",
    "version": 3
   },
   "file_extension": ".py",
   "mimetype": "text/x-python",
   "name": "python",
   "nbconvert_exporter": "python",
   "pygments_lexer": "ipython3",
   "version": "3.10.4"
  },
  "orig_nbformat": 4,
  "vscode": {
   "interpreter": {
    "hash": "12d9efd1b418ad7485587f2da0512ee7fc7c20b6462fdb2a696d6f33bbf19b58"
   }
  }
 },
 "nbformat": 4,
 "nbformat_minor": 2
}
