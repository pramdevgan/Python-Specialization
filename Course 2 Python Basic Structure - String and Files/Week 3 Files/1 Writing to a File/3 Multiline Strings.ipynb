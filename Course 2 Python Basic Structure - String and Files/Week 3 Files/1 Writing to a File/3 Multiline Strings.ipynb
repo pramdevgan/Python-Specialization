{
 "cells": [
  {
   "cell_type": "markdown",
   "metadata": {},
   "source": [
    "# Multiline Strings\n",
    "---\n",
    "## Multiline Strings\n",
    "\n",
    "Imagine that you want to write the words `Hello` and `there` on separate lines of a file called `practice2.txt`. If the `print` statement writes each string on its own line, then `writelines` should too."
   ]
  },
  {
   "cell_type": "code",
   "execution_count": 1,
   "metadata": {},
   "outputs": [],
   "source": [
    "output_file = open(\"student_folder/text/practice2.txt\", \"w\")\n",
    "output_file.writelines(\"Hello\")\n",
    "output_file.writelines(\"there\")\n",
    "output_file.close()"
   ]
  },
  {
   "cell_type": "markdown",
   "metadata": {},
   "source": [
    "**Closing a File**\n",
    "\n",
    "Closing the file is an important step in working with files. If you forget to close a file, some unpredictable actions may take place. For example, if you open a file with newly written text before closing the file, that text may not be in the file. Be sure that you close all of the files that you open."
   ]
  },
  {
   "cell_type": "markdown",
   "metadata": {},
   "source": [
    "**[Open practice2.txt](student_folder/text/practice2.txt)**"
   ]
  },
  {
   "cell_type": "markdown",
   "metadata": {},
   "source": [
    "If you want to have text appear on a new line, then you need to use the newline character (\\n)."
   ]
  },
  {
   "cell_type": "markdown",
   "metadata": {},
   "source": [
    "## What happens if you:\n",
    "\n",
    "* Change the `writelines()` code to:\n",
    "\n",
    "```python\n",
    "output_file.writelines(\"Hello\\n\")\n",
    "output_file.writelines(\"there\")\n",
    "```\n",
    "\n",
    "* Change the `writelines()` code to:\n",
    "\n",
    "```python\n",
    "output_file.writelines(\"Hello\\nthere\")\n",
    "```"
   ]
  },
  {
   "cell_type": "code",
   "execution_count": 2,
   "metadata": {},
   "outputs": [],
   "source": [
    "output_file = open(\"student_folder/text/practice2.txt\", \"w\")\n",
    "output_file.writelines(\"Hello\\n\")\n",
    "output_file.writelines(\"there\")\n",
    "output_file.close()"
   ]
  },
  {
   "cell_type": "markdown",
   "metadata": {},
   "source": [
    "**[Open practice2.txt](student_folder/text/practice2.txt)**"
   ]
  },
  {
   "cell_type": "code",
   "execution_count": 3,
   "metadata": {},
   "outputs": [],
   "source": [
    "output_file = open(\"student_folder/text/practice2.txt\", \"w\")\n",
    "output_file.writelines(\"Hello\\nthere\")\n",
    "output_file.close()"
   ]
  },
  {
   "cell_type": "markdown",
   "metadata": {},
   "source": [
    "**[Open practice2.txt](student_folder/text/practice2.txt)**"
   ]
  },
  {
   "cell_type": "markdown",
   "metadata": {},
   "source": [
    "## A List of Strings\n",
    "\n",
    "It is possible to use a list of strings with the `writelines()` method. However, these strings will be written one after another with no space between. If you want spaces, be sure to add them. If you want text to appear on a newline, use `\\n`."
   ]
  },
  {
   "cell_type": "code",
   "execution_count": 4,
   "metadata": {},
   "outputs": [],
   "source": [
    "lines_to_write = [\"First Sentence\", \"Second Sentence\", \"Third Sentence\"]\n",
    "output_file = open(\"student_folder/text/practice2.txt\",\"w\")\n",
    "output_file.writelines(lines_to_write)\n",
    "output_file.close()"
   ]
  },
  {
   "cell_type": "markdown",
   "metadata": {},
   "source": [
    "**[Open practice2.txt](student_folder/text/practice2.txt)**"
   ]
  },
  {
   "cell_type": "markdown",
   "metadata": {},
   "source": [
    "## What happens if you:\n",
    "\n",
    "* Change `lines_to_write` to:\n",
    "  `[\"First sentence. \", \"Second sentence. \", \"Third sentence.\"]`\n",
    "* Change `lines_to_write` to:\n",
    "  `[\"First sentence.\\n\", \"Second sentence.\\n\", \"Third sentence.\\n\"]`"
   ]
  },
  {
   "cell_type": "code",
   "execution_count": 5,
   "metadata": {},
   "outputs": [],
   "source": [
    "lines_to_write = [\"First sentence. \", \"Second sentence. \", \"Third sentence.\"]\n",
    "output_file = open(\"student_folder/text/practice2.txt\",\"w\")\n",
    "output_file.writelines(lines_to_write)\n",
    "output_file.close()"
   ]
  },
  {
   "cell_type": "markdown",
   "metadata": {},
   "source": [
    "**[Open practice2.txt](student_folder/text/practice2.txt)**"
   ]
  },
  {
   "cell_type": "code",
   "execution_count": 6,
   "metadata": {},
   "outputs": [],
   "source": [
    "lines_to_write = [\"First sentence.\\n\", \"Second sentence.\\n\", \"Third sentence.\\n\"]\n",
    "output_file = open(\"student_folder/text/practice2.txt\",\"w\")\n",
    "output_file.writelines(lines_to_write)\n",
    "output_file.close()"
   ]
  },
  {
   "cell_type": "markdown",
   "metadata": {},
   "source": [
    "**[Open practice2.txt](student_folder/text/practice2.txt)**"
   ]
  },
  {
   "cell_type": "markdown",
   "metadata": {},
   "source": [
    "## Reading Question\n",
    "\n",
    "Assume the variable `lines_to_write` is a list of strings. You want to write these strings to a file so that it looks like this:\n",
    "\n",
    "```\n",
    "One upon a time\n",
    "In a land far, far away\n",
    "Lived a king and queen\n",
    "```\n",
    "\n",
    "How should `lines_to_write` be defined?\n",
    "\n",
    "- `lines_to_write = [\"One upon a time\", \"In a land far, far away\", \"Lived a king and queen\"]`\n",
    "- `lines_to_write = [\"One upon a time, end=''\", \"In a land far, far away, end=''\", \"Lived a king and queen, end=''\"]`\n",
    "- `lines_to_write = [\"One upon a time/n\", \"In a land far, far away/n\", \"Lived a king and queen/n\"]`\n",
    "- **`lines_to_write = [\"One upon a time\\n\", \"In a land far, far away\\n\", \"Lived a king and queen\\n\"]`**\n",
    "\n",
    "The correct answer is:\n",
    "\n",
    "`lines_to_write = [\"One upon a time\\n\", \"In a land far, far away\\n\", \"Lived a king and queen\\n\"]`\n",
    "\n",
    "You need a newline character after each string so that they appear on their own line. The character `\\n` is the escape character for a new line. The answer with just the strings is not correct. The answer with `/n` is not correct because this is not a valid escape character. Finally, `end=''` is used with the `print` statement to remove the newline character."
   ]
  },
  {
   "cell_type": "code",
   "execution_count": 10,
   "metadata": {},
   "outputs": [],
   "source": [
    "lines_to_write = [\"One upon a time\\n\", \"In a land far, far away\\n\", \"Lived a king and queen\\n\"]\n",
    "output_file = open(\"student_folder/text/quiz.txt\", \"w\")\n",
    "output_file.writelines(lines_to_write)\n",
    "output_file.close()"
   ]
  },
  {
   "cell_type": "markdown",
   "metadata": {},
   "source": [
    "[Open quiz.txt](student_folder/text/quiz.txt)"
   ]
  }
 ],
 "metadata": {
  "kernelspec": {
   "display_name": "Python 3.10.4 64-bit",
   "language": "python",
   "name": "python3"
  },
  "language_info": {
   "codemirror_mode": {
    "name": "ipython",
    "version": 3
   },
   "file_extension": ".py",
   "mimetype": "text/x-python",
   "name": "python",
   "nbconvert_exporter": "python",
   "pygments_lexer": "ipython3",
   "version": "3.10.4"
  },
  "orig_nbformat": 4,
  "vscode": {
   "interpreter": {
    "hash": "12d9efd1b418ad7485587f2da0512ee7fc7c20b6462fdb2a696d6f33bbf19b58"
   }
  }
 },
 "nbformat": 4,
 "nbformat_minor": 2
}
