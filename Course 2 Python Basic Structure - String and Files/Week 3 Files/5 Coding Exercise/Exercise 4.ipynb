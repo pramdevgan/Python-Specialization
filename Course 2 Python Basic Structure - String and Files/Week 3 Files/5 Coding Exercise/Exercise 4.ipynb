{
 "cells": [
  {
   "cell_type": "markdown",
   "metadata": {},
   "source": [
    "# Exercise 4\n",
    "## Files Exercise 4\n",
    "**Problem**\n",
    "Write a program that reads a tab delimited CSV file and prints the name of the oldest person in the file.\n",
    "\n",
    "**Expected Output**\n",
    "The CSV file will look something like the one below.  **Note** , there will be a row with header titles.\n",
    "\n",
    "| Name  | Age | Career           |\n",
    "| ----- | --- | ---------------- |\n",
    "| Peter | 38  | Doctor           |\n",
    "| Paul  | 41  | Lawyer           |\n",
    "| Mary  | 32  | Systems Engineer |\n",
    "\n",
    "The first two lines of your code **must** look like this:\n",
    "\n",
    "```python\n",
    "import sys, csv\n",
    "\n",
    "test_file = sys.argv[1]\n",
    "```\n",
    "\n",
    "This allows for different text files to be sent to your program for testing.  **Hint** , to open the file use `with open(test_file, \"r\"...`. The `TRY IT` button below will send a test file to your program. You should see the following output:\n",
    "\n",
    "```text\n",
    "The oldest person is Paul.\n",
    "```"
   ]
  },
  {
   "cell_type": "code",
   "execution_count": 8,
   "metadata": {},
   "outputs": [
    {
     "name": "stdout",
     "output_type": "stream",
     "text": [
      "The oldest person is Paul.\n"
     ]
    }
   ],
   "source": [
    "import csv\n",
    "oldest_age = 0\n",
    "oldest_name = \"\"\n",
    "\n",
    "with open(\"student_folder/.exercise/age.csv\", \"r\") as input_file:\n",
    "    reader = csv.reader(input_file) # to submit code you have to add delimiter=\"\\t\"\n",
    "    next(reader)\n",
    "    for name, age, career in reader:\n",
    "        if int(age) > oldest_age:\n",
    "            oldest_age = int(age)\n",
    "            oldest_name = name\n",
    "            \n",
    "print(\"The oldest person is {}.\".format(oldest_name))"
   ]
  },
  {
   "cell_type": "markdown",
   "metadata": {},
   "source": [
    "### **Here is the steps to complete the code:**\n",
    "The first two lines are given to you. Do not forget about the `csv` module.\n",
    "\n",
    "```python\n",
    "import sys, csv\n",
    "\n",
    "test_file = sys.argv[1]\n",
    "```\n",
    "\n",
    "You will also need two more variables. One to keep track of the oldest age and another to keep track of the oldest name. Set the oldest age variable to 0 and the oldest person to an empty string.\n",
    "\n",
    "```python\n",
    "oldest_age = 0\n",
    "oldest_name = \"\"\n",
    "```\n",
    "\n",
    "Open the CSV file and use the `csv.reader` to parse the CSV file. Since this is a tab delimited file, make sure to tell Python to use tabs when separating the data.\n",
    "\n",
    "```python\n",
    "with open(test_file, \"r\") as input_file:\n",
    "    reader = csv.reader(input_file, delimiter=\"\\t\")\n",
    "```\n",
    "\n",
    "Before you can start searching the file for the oldest person, you need to account for the first row that has the header files. Use the `next` command to skip this row, and then start iterating over the CSV file. Use the unpacking method to give each piece of information in a row its own variable name.\n",
    "\n",
    "```python\n",
    "    next(reader)\n",
    "    for name, age, career in reader:\n",
    "```\n",
    "\n",
    "Compare the `age` in the row to the variable `oldest_age`. Remember, data in a CSV file is stored as a string. Typecast `age` as an int to make this comparison. If `age` is greater than `oldest_age`, then update `oldest_age` with `age`. Also set `oldest_name` to `name`.\n",
    "\n",
    "```python\n",
    "        if int(age) > oldest_age:\n",
    "            oldest_age = int(age)\n",
    "            oldest_name = name\n",
    "```\n",
    "\n",
    "Once the loop has finished running, print the name of the oldest person.\n",
    "\n",
    "```python\n",
    "print(\"The oldest person is {}.\".format(oldest_name))\n",
    "```\n",
    "\n",
    "Here is the final code:\n",
    "\n",
    "```python\n",
    "import sys, csv\n",
    "\n",
    "test_file = sys.argv[1]\n",
    "oldest_age = 0\n",
    "oldest_name = \"\"\n",
    "\n",
    "with open(test_file, \"r\") as input_file:\n",
    "    reader = csv.reader(input_file, delimiter=\"\\t\")\n",
    "    next(reader)\n",
    "    for name, age, career in reader:\n",
    "        if int(age) > oldest_age:\n",
    "            oldest_age = int(age)\n",
    "            oldest_name = name\n",
    "        \n",
    "print(\"The oldest person is {}.\".format(oldest_name))\n",
    "```"
   ]
  }
 ],
 "metadata": {
  "kernelspec": {
   "display_name": "Python 3.10.4 64-bit",
   "language": "python",
   "name": "python3"
  },
  "language_info": {
   "codemirror_mode": {
    "name": "ipython",
    "version": 3
   },
   "file_extension": ".py",
   "mimetype": "text/x-python",
   "name": "python",
   "nbconvert_exporter": "python",
   "pygments_lexer": "ipython3",
   "version": "3.10.4"
  },
  "orig_nbformat": 4,
  "vscode": {
   "interpreter": {
    "hash": "12d9efd1b418ad7485587f2da0512ee7fc7c20b6462fdb2a696d6f33bbf19b58"
   }
  }
 },
 "nbformat": 4,
 "nbformat_minor": 2
}
