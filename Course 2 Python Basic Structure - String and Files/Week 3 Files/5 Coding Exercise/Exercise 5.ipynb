{
 "cells": [
  {
   "cell_type": "markdown",
   "metadata": {},
   "source": [
    "# Exercise 5\n",
    "\n",
    "## Files Exercise 5\n",
    "\n",
    "**Problem**\n",
    "Write a program that reads a comma delimited CSV file and prints all of the cities which reside in the Southern Hemisphere.  **Note** , any latitude with a negative value is south of the equator.\n",
    "\n",
    "**Expected Output**\n",
    "The CSV file will look something like the one below.  **Note** , there will be a row with header titles.\n",
    "\n",
    "| City         | Country          | Latitude | Longitude |\n",
    "| ------------ | ---------------- | -------- | --------- |\n",
    "| Beijing      | China            | 39       | 116       |\n",
    "| Perth        | Australia        | -57      | 115       |\n",
    "| Port Moresby | Papua New Guinea | -25      | 147       |\n",
    "| Tokyo        | Japan            | 35       | 139       |\n",
    "\n",
    "The first two lines of your code **must** look like this:\n",
    "\n",
    "```python\n",
    "import sys, csv\n",
    "\n",
    "test_file = sys.argv[1]\n",
    "```\n",
    "\n",
    "This allows for different text files to be sent to your program for testing.  **Hint** , to open the file use `with open(test_file, \"r\"...`. The `TRY IT` button below will send a test file to your program. You should see the following output:\n",
    "\n",
    "```text\n",
    "The following cities are in the Southern Hemisphere: Perth, Port Moresby.\n",
    "```"
   ]
  },
  {
   "cell_type": "code",
   "execution_count": 3,
   "metadata": {},
   "outputs": [
    {
     "name": "stdout",
     "output_type": "stream",
     "text": [
      "The following cities are in the Southern Hemisphere: Perth, Port Moresby.\n"
     ]
    }
   ],
   "source": [
    "import sys, csv\n",
    "\n",
    "cities = []\n",
    "\n",
    "with open(\"student_folder/.exercise/city.csv\", \"r\") as input_file:\n",
    "    reader = csv.reader(input_file)\n",
    "    next(reader)\n",
    "    for city, country, latitude, longitude in reader:\n",
    "        if int(latitude) < 0:\n",
    "            cities.append(city)\n",
    "            \n",
    "print(\"The following cities are in the Southern Hemisphere: \", end=\"\")\n",
    "for city in cities:\n",
    "    if city == cities[-1]:\n",
    "        print(city + \".\")\n",
    "    else:\n",
    "        print(city, end=\", \")"
   ]
  },
  {
   "cell_type": "markdown",
   "metadata": {},
   "source": [
    "### **Here is the steps to code:**\n",
    "The first two lines are already given. Remember, reading CSV files requires the csv module. You will also need an empty list to store all of the cities in the Southern Hemisphere. Declare cities and set it to an empty list.\n",
    "\n",
    "import sys, csv\n",
    "\n",
    "test_file = sys.argv[1]\n",
    "cities = []\n",
    "Open the CSV file in read mode. Then use csv.reader to parse the CSV file. Since the file has headers, use the next command to skip over them.\n",
    "\n",
    "with open(test_file, \"r\") as input_file:\n",
    "    reader = csv.reader(input_file)\n",
    "    next(reader)\n",
    "Iterate through the CSV file while using the unpacking method to give each item in the row its own variable name. Check to see if the latitude is a negative number, which represents the Southern Hemisphere. Data stored in a CSV file are strings, so typecast latitude as an int. If the city is in the Southern Hemisphere, add it to the cities list.\n",
    "\n",
    "    for city, country, latitude, longitude in reader:\n",
    "        if int(latitude) < 0:\n",
    "            cities.append(city)\n",
    "Once the loop has finished running, you need to print the results. There are two parts to the results: the text \"The following cities are in the Southern Hemisphere: \" and the list of cities. Print the first part, but be sure to add end=\"\" so that the list of cities does not appear on the next line. The iterate over the list cities.\n",
    "\n",
    "print(\"The following cities are in the Southern Hemisphere: \", end=\"\")\n",
    "for city in cities:\n",
    "As for printing the cities, either you print the city followed by a comma and a space, or you print the city followed by a period. Check to see if the city you are printing is the last element in the list cities. If yes, print the city and a period. In all other cases print the city followed by a comma and a space.\n",
    "\n",
    "    if city == cities[-1]:\n",
    "        print(city + \".\")\n",
    "    else:\n",
    "        print(city, end=\", \")\n",
    "Here is all of the code:\n",
    "```python\n",
    "import sys, csv\n",
    "\n",
    "test_file = sys.argv[1]\n",
    "cities = []\n",
    "\n",
    "with open(test_file, \"r\") as input_file:\n",
    "    reader = csv.reader(input_file)\n",
    "    next(reader)\n",
    "    for city, country, latitude, longitude in reader:\n",
    "        if int(latitude) < 0:\n",
    "            cities.append(city)\n",
    "            \n",
    "print(\"The following cities are in the Southern Hemisphere: \", end=\"\")\n",
    "for city in cities:\n",
    "    if city == cities[-1]:\n",
    "        print(city + \".\")\n",
    "    else:\n",
    "        print(city, end=\", \")\n",
    "```"
   ]
  }
 ],
 "metadata": {
  "kernelspec": {
   "display_name": "Python 3.10.4 64-bit",
   "language": "python",
   "name": "python3"
  },
  "language_info": {
   "codemirror_mode": {
    "name": "ipython",
    "version": 3
   },
   "file_extension": ".py",
   "mimetype": "text/x-python",
   "name": "python",
   "nbconvert_exporter": "python",
   "pygments_lexer": "ipython3",
   "version": "3.10.4"
  },
  "orig_nbformat": 4,
  "vscode": {
   "interpreter": {
    "hash": "12d9efd1b418ad7485587f2da0512ee7fc7c20b6462fdb2a696d6f33bbf19b58"
   }
  }
 },
 "nbformat": 4,
 "nbformat_minor": 2
}
