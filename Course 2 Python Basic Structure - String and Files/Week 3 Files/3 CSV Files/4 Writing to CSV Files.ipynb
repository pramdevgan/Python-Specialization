{
 "cells": [
  {
   "cell_type": "markdown",
   "metadata": {},
   "source": [
    "# Writing to CSV Files\n",
    "---\n",
    "## Writerow\n",
    "Writing to a CSV file is similar to writing to a text file. Open the file and set the mode to write (`\"w\"`). If the file does not exist, Python will create it. Send content to the file with the method `writerow`. Like reading a CSV, you need to import the `csv` module. Instead of using a `reader`, you need to use a `writter` to write information to the file. When you read information from a CSV file, it is a list of strings. So information written to a CSV file should also be a list of strings."
   ]
  },
  {
   "cell_type": "code",
   "execution_count": 1,
   "metadata": {},
   "outputs": [],
   "source": [
    "import csv\n",
    "\n",
    "with open(\"student_folder/csv/write_practice.csv\", 'w') as output_file:\n",
    "    writer = csv.writer(output_file, lineterminator='\\n')\n",
    "    writer.writerow([\"Greeting\", \"Languages\"])\n",
    "    writer.writerow([\"Hello\", \"English\"])\n",
    "    writer.writerow([\"Bonjour\", \"French\"])\n",
    "    writer.writerow([\"Hola\", \"Spanish\"])\n",
    "    writer.writerow([\"Namaste\", \"Hindi\"])"
   ]
  },
  {
   "cell_type": "markdown",
   "metadata": {},
   "source": [
    "**[Open write_practice.csv](student_folder/csv/write_practice.csv)**"
   ]
  },
  {
   "cell_type": "markdown",
   "metadata": {},
   "source": [
    "**What does `lineterminator` mean?**\n",
    "\n",
    "The `csv` writer ends each line with the escape characters `\\r\\n`. The combination of two different escape characters causes the following warning.\n",
    "\n",
    "![Mixed Line End](https://i.imgur.com/aMY5ifk.png)\n",
    "\n",
    "Changing the `lineterminator` to `\\n` will remove this warning because there will only be one escape character at the end of each line."
   ]
  },
  {
   "cell_type": "markdown",
   "metadata": {},
   "source": [
    "## What happens if you:\n",
    "\n",
    "* Add a different delimiter: `csv.writer(output_file, delimiter=\"\\t\")`?\n",
    "* Remove the last two lines of code and run it again?\n",
    "* Change the mode to append `\"a\"` and run the program again?"
   ]
  },
  {
   "cell_type": "code",
   "execution_count": 7,
   "metadata": {},
   "outputs": [],
   "source": [
    "import csv\n",
    "\n",
    "with open(\"student_folder/csv/write_practice.csv\", 'w') as output_file:\n",
    "    writer = csv.writer(output_file, lineterminator='\\t')\n",
    "    writer.writerow([\"Greeting\", \"Languages\"])\n",
    "    writer.writerow([\"Hello\", \"English\"])\n",
    "    writer.writerow([\"Bonjour\", \"French\"])\n",
    "    writer.writerow([\"Hola\", \"Spanish\"])\n",
    "    writer.writerow([\"Namaste\", \"Hindi\"])"
   ]
  },
  {
   "cell_type": "markdown",
   "metadata": {},
   "source": [
    "**[Open write_practice.csv](student_folder/csv/write_practice.csv)**"
   ]
  },
  {
   "cell_type": "code",
   "execution_count": 8,
   "metadata": {},
   "outputs": [],
   "source": [
    "import csv\n",
    "\n",
    "with open(\"student_folder/csv/write_practice.csv\", 'w') as output_file:\n",
    "    writer = csv.writer(output_file, lineterminator='\\t')\n",
    "    writer.writerow([\"Greeting\", \"Languages\"])\n",
    "    writer.writerow([\"Hello\", \"English\"])\n",
    "    writer.writerow([\"Bonjour\", \"French\"])"
   ]
  },
  {
   "cell_type": "markdown",
   "metadata": {},
   "source": [
    "**[Open write_practice.csv](student_folder/csv/write_practice.csv)**"
   ]
  },
  {
   "cell_type": "code",
   "execution_count": 9,
   "metadata": {},
   "outputs": [],
   "source": [
    "import csv\n",
    "\n",
    "with open(\"student_folder/csv/write_practice.csv\", 'a') as output_file:\n",
    "    writer = csv.writer(output_file, lineterminator='\\n')\n",
    "    writer.writerow([\"Greeting\", \"Languages\"])\n",
    "    writer.writerow([\"Hello\", \"English\"])\n",
    "    writer.writerow([\"Bonjour\", \"French\"])\n",
    "    writer.writerow([\"Hola\", \"Spanish\"])\n",
    "    writer.writerow([\"Namaste\", \"Hindi\"])"
   ]
  },
  {
   "cell_type": "markdown",
   "metadata": {},
   "source": [
    "**[Open write_practice.csv](student_folder/csv/write_practice.csv)**"
   ]
  },
  {
   "cell_type": "markdown",
   "metadata": {},
   "source": [
    "## Writerows\n",
    "\n",
    "The `writerow` method writes only one row of information to a CSV file. The `writerows` method can write several rows of information to a CSV file. `writerows` takes either a list of strings (a single row of information) or a list of lists of strings (many rows of information).\n",
    "\n",
    "![Writerows](https://apollo-media.codio.com/media%2F1%2Fdbf3d6a01dc93225b417a16b18a29fc6-f412d6b3-8e8e-4092-9a5d-577efea9107d.webp)"
   ]
  },
  {
   "cell_type": "code",
   "execution_count": 24,
   "metadata": {},
   "outputs": [],
   "source": [
    "import csv\n",
    "with open (\"student_folder/csv/write_practice.csv\", \"w\") as output_file:\n",
    "    writer = csv.writer(output_file, lineterminator=\"\\n\")\n",
    "    writer.writerows([\n",
    "        [\"Artist\", \"Album\", \"Copies\"],\n",
    "        [\"Michael Jackson\", \"Thriller\", \"47 million\"],\n",
    "        [\"Eagles\", \"Their Greatest Hits 1971-1975\", \"38 million\"],\n",
    "        [\"Eagles\", \"Hotel California\",\"26 million\"]\n",
    "    ])"
   ]
  },
  {
   "cell_type": "markdown",
   "metadata": {},
   "source": [
    "**[Open write_practice.csv](student_folder/csv/write_practice.csv)**"
   ]
  },
  {
   "cell_type": "markdown",
   "metadata": {},
   "source": [
    "## What happens if you:\n",
    "\n",
    "* Change `writerows` to `writerow` and open the file?\n",
    "* Change the mode to append `\"a\"` and run the program again?"
   ]
  },
  {
   "cell_type": "code",
   "execution_count": 26,
   "metadata": {},
   "outputs": [],
   "source": [
    "import csv\n",
    "with open (\"student_folder/csv/write_practice.csv\", \"w\") as output_file:\n",
    "    writer = csv.writer(output_file, lineterminator=\"\\n\")\n",
    "    writer.writerow([\n",
    "        [\"Artist\", \"Album\", \"Copies\"],\n",
    "        [\"Michael Jackson\", \"Thriller\", \"47 million\"],\n",
    "        [\"Eagles\", \"Their Greatest Hits 1971-1975\", \"38 million\"],\n",
    "        [\"Eagles\", \"Hotel California\",\"26 million\"]\n",
    "    ])"
   ]
  },
  {
   "cell_type": "markdown",
   "metadata": {},
   "source": [
    "**[Open write_practice.csv](student_folder/csv/write_practice.csv)**"
   ]
  },
  {
   "cell_type": "code",
   "execution_count": 29,
   "metadata": {},
   "outputs": [],
   "source": [
    "import csv\n",
    "with open (\"student_folder/csv/write_practice.csv\", \"a\") as output_file:\n",
    "    writer = csv.writer(output_file, lineterminator=\"\\n\")\n",
    "    writer.writerows([\n",
    "        [\"Artist\", \"Album\", \"Copies\"],\n",
    "        [\"Michael Jackson\", \"Thriller\", \"47 million\"],\n",
    "        [\"Eagles\", \"Their Greatest Hits 1971-1975\", \"38 million\"],\n",
    "        [\"Eagles\", \"Hotel California\",\"26 million\"]\n",
    "    ])"
   ]
  },
  {
   "cell_type": "markdown",
   "metadata": {},
   "source": [
    "**[Open write_practice.csv](student_folder/csv/write_practice.csv)**"
   ]
  },
  {
   "cell_type": "markdown",
   "metadata": {},
   "source": [
    "## Reading Question\n",
    "\n",
    "Fill in the blanks below.\n",
    "\n",
    "The **`writerows`** method can write either a single list of strings or a list of lists of strings to a CSV file.\n",
    "\n",
    "The **`writerow`** method can write only a single list of strings to a CSV file."
   ]
  }
 ],
 "metadata": {
  "kernelspec": {
   "display_name": "Python 3.10.4 64-bit",
   "language": "python",
   "name": "python3"
  },
  "language_info": {
   "codemirror_mode": {
    "name": "ipython",
    "version": 3
   },
   "file_extension": ".py",
   "mimetype": "text/x-python",
   "name": "python",
   "nbconvert_exporter": "python",
   "pygments_lexer": "ipython3",
   "version": "3.10.4"
  },
  "orig_nbformat": 4,
  "vscode": {
   "interpreter": {
    "hash": "12d9efd1b418ad7485587f2da0512ee7fc7c20b6462fdb2a696d6f33bbf19b58"
   }
  }
 },
 "nbformat": 4,
 "nbformat_minor": 2
}
