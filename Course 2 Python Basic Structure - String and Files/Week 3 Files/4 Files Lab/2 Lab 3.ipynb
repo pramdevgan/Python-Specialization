{
 "cells": [
  {
   "cell_type": "markdown",
   "metadata": {},
   "source": [
    "# Lab 3\n",
    "---\n",
    "## Lab 3\n",
    "\n",
    "The following program will ask the user to enter the name of a superhero and then to enter their superpower. These two pieces of information will be written to the CSV file called `superheroes.csv`. When the user enters `stop` for the superhero name, the program will stop running.\n",
    "\n",
    "Start by importing the `csv` modules. Open the `superheroes.csv` file in write mode as `output_file`.\n",
    "\n",
    "```python\n",
    "import csv\n",
    "\n",
    "with open(\"student_folder/csv/superheroes.csv\", \"w\") as output_file:\n",
    "```\n",
    "\n",
    "Setup a `csv.writer`, and be sure to set the `lineterminator` to `\\n` to avoid the mixed line endings warning. The first row in the CSV file should be headers for each column of data.\n",
    "\n",
    "```python\n",
    "    writer = csv.writer(output_file, lineterminator=\"\\n\")\n",
    "    writer.writerow([\"Superhero\", \"Power\"])\n",
    "```\n",
    "\n",
    "Now is the time to ask the user to input the name of the superhero and their superpower. You should also tell the user how to quit the program.\n",
    "\n",
    "```python\n",
    "    print(\"Enter `stop` to quit the program\")\n",
    "    name = input(\"Enter the superhero's name: \")\n",
    "    power = input(\"Enter their superpower: \")\n",
    "```\n",
    "\n",
    "The program should run again and again until the user enters `stop`. Since the for loop runs for a predetermined amount of time, an infinite while loop is a better choice. The stop condition is when `name` is equal to `stop`.\n",
    "\n",
    "```python\n",
    "    while True:\n",
    "```\n",
    "\n",
    "Now, write a line to the CSV file with `name` and `power`. Then ask the user to enter another superhero name. Be sure to check and if it is equal to `\"stop\"`. Exit the loop with a `break` statement. Finally, ask the user to enter the superpower.\n",
    "\n",
    "```python\n",
    "        writer.writerow([name, power])\n",
    "        name = input(\"Enter the superhero's name: \")\n",
    "        if name == \"stop\":\n",
    "            break\n",
    "        power = input(\"Enter their superpower: \")\n",
    "```\n",
    "\n",
    "Run the program and enter some information. Click the link below to view the CSV file."
   ]
  },
  {
   "cell_type": "markdown",
   "metadata": {},
   "source": [
    "**[Open superheroes.csv](student_folder/.labs/superheroes.csv)**"
   ]
  },
  {
   "cell_type": "code",
   "execution_count": 3,
   "metadata": {},
   "outputs": [
    {
     "name": "stdout",
     "output_type": "stream",
     "text": [
      "Enter 'stop' to quit the program\n"
     ]
    }
   ],
   "source": [
    "import csv\n",
    "\n",
    "with open(\"student_folder/.labs/superheroes.csv\", \"w\") as output_file:\n",
    "    writer = csv.writer(output_file, lineterminator=\"\\n\")\n",
    "    writer.writerow([\"Superhero\", \"Power\"])\n",
    "    print(\"Enter 'stop' to quit the program\")\n",
    "    name = input(\"Enter the superhero's name: \")\n",
    "    power = input(\"Enter their superpower: \")\n",
    "    while True:\n",
    "        writer.writerow([name, power])\n",
    "        name = input(\"Enter the superhero's name: \")\n",
    "        if name == \"stop\":\n",
    "            break\n",
    "        power = input(\"Enter their superpower: \")"
   ]
  },
  {
   "cell_type": "markdown",
   "metadata": {},
   "source": [
    "**[Open superheroes.csv](student_folder/.labs/superheroes.csv)**"
   ]
  },
  {
   "cell_type": "markdown",
   "metadata": {},
   "source": [
    "## Lab Question\n",
    "\n",
    "What is the default delimiter for `csv.writer`?\n",
    "\n",
    "- Space\n",
    "- Semi-colon\n",
    "- Tab\n",
    "- **Comma**\n",
    "\n",
    "The default delimiter for `csv.writer` is a comma. You can change the delimiter with `writer = csv.writer(file, delimiter=\"\\t\")`."
   ]
  }
 ],
 "metadata": {
  "kernelspec": {
   "display_name": "Python 3.10.4 64-bit",
   "language": "python",
   "name": "python3"
  },
  "language_info": {
   "codemirror_mode": {
    "name": "ipython",
    "version": 3
   },
   "file_extension": ".py",
   "mimetype": "text/x-python",
   "name": "python",
   "nbconvert_exporter": "python",
   "pygments_lexer": "ipython3",
   "version": "3.10.4"
  },
  "orig_nbformat": 4,
  "vscode": {
   "interpreter": {
    "hash": "12d9efd1b418ad7485587f2da0512ee7fc7c20b6462fdb2a696d6f33bbf19b58"
   }
  }
 },
 "nbformat": 4,
 "nbformat_minor": 2
}
