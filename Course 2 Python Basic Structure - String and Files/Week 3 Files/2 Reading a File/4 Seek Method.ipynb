{
 "cells": [
  {
   "cell_type": "markdown",
   "metadata": {},
   "source": [
    "# Seek Method\n",
    "---\n",
    "## Seek Method\n",
    "\n",
    "The seek method takes an integer as a parameter, and causes Python to go to a specific character in the text file. The integer is the index for the text file. So `seek(0)` is the first character of the file, `seek(1)` is the second character, etc."
   ]
  },
  {
   "cell_type": "code",
   "execution_count": 3,
   "metadata": {},
   "outputs": [
    {
     "name": "stdout",
     "output_type": "stream",
     "text": [
      "n Rossum.\n",
      "\n",
      "Python was created by Guido van Rossum.\n",
      "\n"
     ]
    }
   ],
   "source": [
    "with open (\"student_folder/text/read_practice.txt\", \"r\") as read_file:\n",
    "    read_file.seek(30)\n",
    "    print(read_file.readline())\n",
    "    read_file.seek(0)\n",
    "    print(read_file.readline())"
   ]
  },
  {
   "cell_type": "markdown",
   "metadata": {},
   "source": [
    "## What happens if you:\n",
    "\n",
    "* Change a `seek` to `180`?\n",
    "* Change a `seek` to `1000`?\n",
    "* Change a `seek` to `-1`?"
   ]
  },
  {
   "cell_type": "code",
   "execution_count": 4,
   "metadata": {},
   "outputs": [
    {
     "name": "stdout",
     "output_type": "stream",
     "text": [
      "0.\n",
      "\n",
      "Python was created by Guido van Rossum.\n",
      "\n"
     ]
    }
   ],
   "source": [
    "with open(\"student_folder/text/read_practice.txt\", 'r') as read_file:\n",
    "    read_file.seek(180)\n",
    "    print(read_file.readline())\n",
    "    read_file.seek(0)\n",
    "    print(read_file.readline())"
   ]
  },
  {
   "cell_type": "code",
   "execution_count": 5,
   "metadata": {},
   "outputs": [
    {
     "name": "stdout",
     "output_type": "stream",
     "text": [
      "\n",
      "Python was created by Guido van Rossum.\n",
      "\n"
     ]
    }
   ],
   "source": [
    "with open(\"student_folder/text/read_practice.txt\", 'r') as read_file:\n",
    "    read_file.seek(1000)\n",
    "    print(read_file.readline())\n",
    "    read_file.seek(0)\n",
    "    print(read_file.readline())"
   ]
  },
  {
   "cell_type": "code",
   "execution_count": 7,
   "metadata": {},
   "outputs": [
    {
     "ename": "ValueError",
     "evalue": "negative seek position -1",
     "output_type": "error",
     "traceback": [
      "\u001b[1;31m---------------------------------------------------------------------------\u001b[0m",
      "\u001b[1;31mValueError\u001b[0m                                Traceback (most recent call last)",
      "\u001b[1;32mc:\\Users\\vpram\\Python Specialization\\Course 2\\Week 3\\2 Reading a File\\4 Seek Method.ipynb Cell 6\u001b[0m in \u001b[0;36m<module>\u001b[1;34m\u001b[0m\n\u001b[0;32m      <a href='vscode-notebook-cell:/c%3A/Users/vpram/Python%20Specialization/Course%202/Week%203/2%20Reading%20a%20File/4%20Seek%20Method.ipynb#W6sZmlsZQ%3D%3D?line=0'>1</a>\u001b[0m \u001b[39mwith\u001b[39;00m \u001b[39mopen\u001b[39m(\u001b[39m\"\u001b[39m\u001b[39mstudent_folder/text/read_practice.txt\u001b[39m\u001b[39m\"\u001b[39m, \u001b[39m'\u001b[39m\u001b[39mr\u001b[39m\u001b[39m'\u001b[39m) \u001b[39mas\u001b[39;00m read_file:\n\u001b[1;32m----> <a href='vscode-notebook-cell:/c%3A/Users/vpram/Python%20Specialization/Course%202/Week%203/2%20Reading%20a%20File/4%20Seek%20Method.ipynb#W6sZmlsZQ%3D%3D?line=1'>2</a>\u001b[0m     read_file\u001b[39m.\u001b[39;49mseek(\u001b[39m-\u001b[39;49m\u001b[39m1\u001b[39;49m)\n\u001b[0;32m      <a href='vscode-notebook-cell:/c%3A/Users/vpram/Python%20Specialization/Course%202/Week%203/2%20Reading%20a%20File/4%20Seek%20Method.ipynb#W6sZmlsZQ%3D%3D?line=2'>3</a>\u001b[0m     \u001b[39mprint\u001b[39m(read_file\u001b[39m.\u001b[39mreadline())\n\u001b[0;32m      <a href='vscode-notebook-cell:/c%3A/Users/vpram/Python%20Specialization/Course%202/Week%203/2%20Reading%20a%20File/4%20Seek%20Method.ipynb#W6sZmlsZQ%3D%3D?line=3'>4</a>\u001b[0m     read_file\u001b[39m.\u001b[39mseek(\u001b[39m0\u001b[39m)\n",
      "\u001b[1;31mValueError\u001b[0m: negative seek position -1"
     ]
    }
   ],
   "source": [
    "with open(\"student_folder/text/read_practice.txt\", 'r') as read_file:\n",
    "    read_file.seek(-1)\n",
    "    print(read_file.readline())\n",
    "    read_file.seek(0)\n",
    "    print(read_file.readline())"
   ]
  },
  {
   "cell_type": "markdown",
   "metadata": {},
   "source": [
    "## Read a File Multiple Times\n",
    "\n",
    "It was previously stated that a file cannot be read multiple times. That is true when trying to use `readlines` twice. You must close and then open the file to read it again. However, the `seek` method can also be used to move Python back to the beginning of the text file."
   ]
  },
  {
   "cell_type": "code",
   "execution_count": 8,
   "metadata": {},
   "outputs": [
    {
     "name": "stdout",
     "output_type": "stream",
     "text": [
      "First Time\n",
      "Python was created by Guido van Rossum.\n",
      "It was named for the TV show Monty Python's Flying Circus.\n",
      "Version 1 was released in January 1994.\n",
      "Python 2.0 was released in October 2000.\n",
      "The third version came out in December 2008.\n",
      "\n",
      "Second Time\n",
      "Python was created by Guido van Rossum.\n",
      "It was named for the TV show Monty Python's Flying Circus.\n",
      "Version 1 was released in January 1994.\n",
      "Python 2.0 was released in October 2000.\n",
      "The third version came out in December 2008."
     ]
    }
   ],
   "source": [
    "with open(\"student_folder/text/read_practice.txt\", \"r\") as read_file:\n",
    "    print(\"First Time\")\n",
    "    for line in read_file.readlines():\n",
    "        print(line, end=\"\")\n",
    "    read_file.seek(0)\n",
    "    print(\"\\n\\nSecond Time\")\n",
    "    for line in read_file.readlines():\n",
    "        print(line, end=\"\")"
   ]
  },
  {
   "cell_type": "markdown",
   "metadata": {},
   "source": [
    "## Reading Question\n",
    "\n",
    "Assume you have opened a text file with the variable `my_text`. Which command will go to the 35th character?\n",
    "\n",
    "- **`my_text.seek(34)`**\n",
    "- `read_file.seek(34)`\n",
    "- `my_text.search(35)`\n",
    "- `my_text.seek(35)`\n",
    "\n",
    "The variable that represents the text file is named `my_file` and the method to find a specific character is `seek`. You are looking for the 35th character, and the `seek` method starts with index 0. So the 35th character would be index `34`.\n",
    "\n",
    "`my_file.seek(34)`"
   ]
  }
 ],
 "metadata": {
  "kernelspec": {
   "display_name": "Python 3.10.4 64-bit",
   "language": "python",
   "name": "python3"
  },
  "language_info": {
   "codemirror_mode": {
    "name": "ipython",
    "version": 3
   },
   "file_extension": ".py",
   "mimetype": "text/x-python",
   "name": "python",
   "nbconvert_exporter": "python",
   "pygments_lexer": "ipython3",
   "version": "3.10.4"
  },
  "orig_nbformat": 4,
  "vscode": {
   "interpreter": {
    "hash": "12d9efd1b418ad7485587f2da0512ee7fc7c20b6462fdb2a696d6f33bbf19b58"
   }
  }
 },
 "nbformat": 4,
 "nbformat_minor": 2
}
