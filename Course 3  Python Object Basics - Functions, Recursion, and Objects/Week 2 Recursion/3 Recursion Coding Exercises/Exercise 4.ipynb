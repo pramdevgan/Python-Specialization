{
 "cells": [
  {
   "cell_type": "markdown",
   "metadata": {},
   "source": [
    "# Exercise 4\n",
    "\n",
    "---\n",
    "\n",
    "## Recursion Exercise 4\n",
    "\n",
    "**Problem**\n",
    "Write a recursive function called `reverse_string` that takes a string as a parameter. Return the string in reverse order.  **Hint** , the `slice` operator will be helpful when solving this problem.\n",
    "\n",
    "**Expected Output**\n",
    "\n",
    "* If the function call is `reverse_string(\"cat\")`, then the function would return `tac`\n",
    "* If the function call is `reverse_string(\"house\")`, then the function would return `esuoh`"
   ]
  },
  {
   "cell_type": "code",
   "execution_count": 8,
   "metadata": {},
   "outputs": [
    {
     "data": {
      "text/plain": [
       "'tac'"
      ]
     },
     "execution_count": 8,
     "metadata": {},
     "output_type": "execute_result"
    }
   ],
   "source": [
    "def reverse_string(string):\n",
    "    length = len(string)\n",
    "    if length == 1:\n",
    "        return string[0]\n",
    "    else:\n",
    "        return string[-1] + reverse_string(string[:-1])\n",
    "\n",
    "reverse_string(\"cat\")"
   ]
  },
  {
   "cell_type": "code",
   "execution_count": 9,
   "metadata": {},
   "outputs": [
    {
     "data": {
      "text/plain": [
       "'esuoh'"
      ]
     },
     "execution_count": 9,
     "metadata": {},
     "output_type": "execute_result"
    }
   ],
   "source": [
    "reverse_string(\"house\")"
   ]
  },
  {
   "cell_type": "markdown",
   "metadata": {},
   "source": [
    "The recursive pattern is to take the last character from the string pass to the recursive function and concatenate it with the `reverse_string` using the string minus the last character. This is done with the slice operator (`[:-1]`). The base case is when the length of the string is 1, then you return the last character. Here is one possible solution:\n",
    "\n",
    "```python\n",
    "def reverse_string(word):\n",
    "    if len(word) == 1:\n",
    "        return word[0]\n",
    "    else:\n",
    "        return word[-1] + reverse_string(word[:-1])\n",
    "```"
   ]
  }
 ],
 "metadata": {
  "kernelspec": {
   "display_name": "Python 3.10.4 64-bit",
   "language": "python",
   "name": "python3"
  },
  "language_info": {
   "codemirror_mode": {
    "name": "ipython",
    "version": 3
   },
   "file_extension": ".py",
   "mimetype": "text/x-python",
   "name": "python",
   "nbconvert_exporter": "python",
   "pygments_lexer": "ipython3",
   "version": "3.10.4"
  },
  "orig_nbformat": 4,
  "vscode": {
   "interpreter": {
    "hash": "12d9efd1b418ad7485587f2da0512ee7fc7c20b6462fdb2a696d6f33bbf19b58"
   }
  }
 },
 "nbformat": 4,
 "nbformat_minor": 2
}
