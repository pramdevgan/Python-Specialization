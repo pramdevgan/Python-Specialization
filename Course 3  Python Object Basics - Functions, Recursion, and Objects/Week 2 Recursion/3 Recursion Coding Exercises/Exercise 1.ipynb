{
 "cells": [
  {
   "cell_type": "markdown",
   "metadata": {},
   "source": [
    "# Exercise 1\n",
    "\n",
    "---\n",
    "\n",
    "## Recursion Exercise 1\n",
    "\n",
    "**Problem**\n",
    "Write a recursive function called `recursive_sum` that takes an integer as a parameter. Return the sum of all integers between 0 and the number passed to `recursive_sum`.\n",
    "\n",
    "**Expected Output**\n",
    "\n",
    "* If the function call is `recursive_sum(5)`, then the function would return `15`\n",
    "* If the function call is `recursive_sum(10)`, then the function would return `55`"
   ]
  },
  {
   "cell_type": "code",
   "execution_count": 4,
   "metadata": {},
   "outputs": [
    {
     "data": {
      "text/plain": [
       "15"
      ]
     },
     "execution_count": 4,
     "metadata": {},
     "output_type": "execute_result"
    }
   ],
   "source": [
    "def recursive_sum (num):\n",
    "    if num == 0:\n",
    "        return 0\n",
    "    else:\n",
    "        return recursive_sum(num-1) + num\n",
    "\n",
    "recursive_sum(5)"
   ]
  },
  {
   "cell_type": "code",
   "execution_count": 8,
   "metadata": {},
   "outputs": [
    {
     "name": "stdout",
     "output_type": "stream",
     "text": [
      "55\n",
      "120\n",
      "210\n"
     ]
    }
   ],
   "source": [
    "print(recursive_sum(10))\n",
    "print(recursive_sum(15))\n",
    "print(recursive_sum(20))"
   ]
  },
  {
   "cell_type": "markdown",
   "metadata": {},
   "source": [
    "The recursive pattern is to take the num passed as a parameter and add it to `recursive_sum` with the number minus 1. The base case is when the number passed is 0. `recursive_sum` should return 0 when the parameter is 0."
   ]
  }
 ],
 "metadata": {
  "kernelspec": {
   "display_name": "Python 3.10.4 64-bit",
   "language": "python",
   "name": "python3"
  },
  "language_info": {
   "codemirror_mode": {
    "name": "ipython",
    "version": 3
   },
   "file_extension": ".py",
   "mimetype": "text/x-python",
   "name": "python",
   "nbconvert_exporter": "python",
   "pygments_lexer": "ipython3",
   "version": "3.10.4"
  },
  "orig_nbformat": 4,
  "vscode": {
   "interpreter": {
    "hash": "12d9efd1b418ad7485587f2da0512ee7fc7c20b6462fdb2a696d6f33bbf19b58"
   }
  }
 },
 "nbformat": 4,
 "nbformat_minor": 2
}
