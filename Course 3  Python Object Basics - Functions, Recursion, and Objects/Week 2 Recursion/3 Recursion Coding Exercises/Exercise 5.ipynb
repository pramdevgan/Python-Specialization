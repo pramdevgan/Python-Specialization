{
 "cells": [
  {
   "cell_type": "markdown",
   "metadata": {},
   "source": [
    "# Exercise 5\n",
    "\n",
    "---\n",
    "\n",
    "## Recursion Exercise 5\n",
    "\n",
    "**Problem**\n",
    "Write a recursive function called `get_max` that takes a list of numbers as a parameter. Return the largest number in the list.\n",
    "\n",
    "**Expected Output**\n",
    "\n",
    "* If the function call is `get_max([1, 2, 3, 4, 5])`, then the function would return `5`\n",
    "* If the function call is `get_max([11, 22, 3, 41, 15])`, then the function would return `41`"
   ]
  },
  {
   "cell_type": "code",
   "execution_count": 2,
   "metadata": {},
   "outputs": [
    {
     "name": "stdout",
     "output_type": "stream",
     "text": [
      "5\n",
      "41\n"
     ]
    }
   ],
   "source": [
    "def get_max(li):\n",
    "    length = len(li)\n",
    "    if length == 1:\n",
    "        return li[0]\n",
    "    else:\n",
    "        max = get_max(li[1:])\n",
    "        return max if max > li[0] else li[0]\n",
    "\n",
    "print(get_max([1, 2, 3, 4, 5]))\n",
    "print(get_max([11, 22, 3, 41, 15]))"
   ]
  }
 ],
 "metadata": {
  "kernelspec": {
   "display_name": "Python 3.10.4 64-bit",
   "language": "python",
   "name": "python3"
  },
  "language_info": {
   "codemirror_mode": {
    "name": "ipython",
    "version": 3
   },
   "file_extension": ".py",
   "mimetype": "text/x-python",
   "name": "python",
   "nbconvert_exporter": "python",
   "pygments_lexer": "ipython3",
   "version": "3.10.4"
  },
  "orig_nbformat": 4,
  "vscode": {
   "interpreter": {
    "hash": "12d9efd1b418ad7485587f2da0512ee7fc7c20b6462fdb2a696d6f33bbf19b58"
   }
  }
 },
 "nbformat": 4,
 "nbformat_minor": 2
}
