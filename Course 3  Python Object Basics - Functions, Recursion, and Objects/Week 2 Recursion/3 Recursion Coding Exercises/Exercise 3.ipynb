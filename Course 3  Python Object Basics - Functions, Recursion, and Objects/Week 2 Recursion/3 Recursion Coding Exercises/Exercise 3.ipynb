{
 "cells": [
  {
   "cell_type": "markdown",
   "metadata": {},
   "source": [
    "# Exercise 3\n",
    "\n",
    "---\n",
    "\n",
    "## Recursion Exercise 3\n",
    "\n",
    "**Problem**\n",
    "Write a recursive function called `bunny_ears` that takes the number of bunnies (an integer) as a parameter. Return the number of bunny ears (2 per bunny). Do not use multiplication; instead use addition.\n",
    "\n",
    "**Expected Output**\n",
    "\n",
    "* If the function call is `bunny_ears(8)`, then the function would return `16`\n",
    "* If the function call is `bunny_ears(0)`, then the function would return `0`"
   ]
  },
  {
   "cell_type": "code",
   "execution_count": 6,
   "metadata": {},
   "outputs": [
    {
     "name": "stdout",
     "output_type": "stream",
     "text": [
      "16\n",
      "0\n"
     ]
    }
   ],
   "source": [
    "def bunny_ears(ear):\n",
    "    if ear == 0:\n",
    "        return 0\n",
    "    else:\n",
    "        return 2 + bunny_ears(ear- 1)\n",
    "\n",
    "print(bunny_ears(8))\n",
    "print(bunny_ears(0))"
   ]
  },
  {
   "cell_type": "markdown",
   "metadata": {},
   "source": [
    "The problem is asking you to perform multiplication between 2 and the number of bunnies. The recursive pattern is adding 2 then calling `bunny_ears` with the number of bunnies minus 1. The base case is when the number of bunnies is 0. Here is a possible solution:\n",
    "\n",
    "```python\n",
    "def bunny_ears(bunnies):\n",
    "    \"\"\"Recursively determine the number of bunny ears (2 per bunny)\"\"\"\n",
    "    if bunnies == 0:\n",
    "        return 0\n",
    "    else:\n",
    "        return 2 + bunny_ears(bunnies - 1)\n",
    "```"
   ]
  }
 ],
 "metadata": {
  "kernelspec": {
   "display_name": "Python 3.10.4 64-bit",
   "language": "python",
   "name": "python3"
  },
  "language_info": {
   "codemirror_mode": {
    "name": "ipython",
    "version": 3
   },
   "file_extension": ".py",
   "mimetype": "text/x-python",
   "name": "python",
   "nbconvert_exporter": "python",
   "pygments_lexer": "ipython3",
   "version": "3.10.4"
  },
  "orig_nbformat": 4,
  "vscode": {
   "interpreter": {
    "hash": "12d9efd1b418ad7485587f2da0512ee7fc7c20b6462fdb2a696d6f33bbf19b58"
   }
  }
 },
 "nbformat": 4,
 "nbformat_minor": 2
}
