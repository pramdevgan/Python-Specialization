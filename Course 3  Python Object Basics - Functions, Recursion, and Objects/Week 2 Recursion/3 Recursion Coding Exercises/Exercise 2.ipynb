{
 "cells": [
  {
   "cell_type": "markdown",
   "metadata": {},
   "source": [
    "# Exercise 2\n",
    "\n",
    "---\n",
    "\n",
    "## Recursion Exercise 2\n",
    "\n",
    "**Problem**\n",
    "Write a recursive function called `list_sum` that takes a list of numbers as a parameter. Return the sum of all of the numbers in the list.  **Hint** , the `slice` operator will be helpful in solving this problem.\n",
    "\n",
    "**Expected Output**\n",
    "\n",
    "* If the function call is `list_sum([1, 2, 3, 4, 5])`, then the function would return `15`\n",
    "* If the function call is `list_sum([10, 12.5, 10, 7])`, then the function would return `39.5`"
   ]
  },
  {
   "cell_type": "code",
   "execution_count": 1,
   "metadata": {},
   "outputs": [],
   "source": [
    "def list_sum(li):\n",
    "    length = len(li)\n",
    "    if length == 0:\n",
    "        return 0\n",
    "    else:\n",
    "        return li[0] + list_sum(li[1:])"
   ]
  },
  {
   "cell_type": "code",
   "execution_count": 2,
   "metadata": {},
   "outputs": [
    {
     "name": "stdout",
     "output_type": "stream",
     "text": [
      "15\n",
      "39.5\n"
     ]
    }
   ],
   "source": [
    "print(list_sum([1, 2, 3, 4, 5]))\n",
    "print(list_sum([10, 12.5, 10, 7]))"
   ]
  },
  {
   "cell_type": "markdown",
   "metadata": {},
   "source": [
    "The recursive pattern is to take the first item from the list and add it to the `list_sum` of the original list from element 1 to the end of the list. The base case is when the list has just one element in it; return this last element. Here is a possible solution:\n",
    "\n",
    "```python\n",
    "def list_sum(my_list):\n",
    "    \"\"\"Recursively calculate the sum of a list of numbers\"\"\"\n",
    "    if len(my_list) == 1:\n",
    "        return my_list[0]\n",
    "    else:\n",
    "        return my_list[0] + list_sum(my_list[1:])\n",
    "```"
   ]
  }
 ],
 "metadata": {
  "kernelspec": {
   "display_name": "Python 3.10.4 64-bit",
   "language": "python",
   "name": "python3"
  },
  "language_info": {
   "codemirror_mode": {
    "name": "ipython",
    "version": 3
   },
   "file_extension": ".py",
   "mimetype": "text/x-python",
   "name": "python",
   "nbconvert_exporter": "python",
   "pygments_lexer": "ipython3",
   "version": "3.10.4"
  },
  "orig_nbformat": 4,
  "vscode": {
   "interpreter": {
    "hash": "12d9efd1b418ad7485587f2da0512ee7fc7c20b6462fdb2a696d6f33bbf19b58"
   }
  }
 },
 "nbformat": 4,
 "nbformat_minor": 2
}
