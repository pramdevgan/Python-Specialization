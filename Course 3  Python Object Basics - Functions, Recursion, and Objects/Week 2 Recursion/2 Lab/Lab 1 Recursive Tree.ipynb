{
 "cells": [
  {
   "cell_type": "markdown",
   "metadata": {},
   "source": [
    "# Lab 1\n",
    "\n",
    "## Lab 1 - Recursive Tree\n",
    "\n",
    "![Recursive Tree](https://apollo-media.codio.com/media/1/4f8643e2f99084e56b9831b4827c5211-12e6fe17-875e-43ea-b637-7f70e0728a21.webp)\n",
    "\n",
    "Trees can be drawn recursively. Draw a branch. At the end of the branch, draw two smaller branches with one to the left and the other to the right. Repeat until a certain condition is true. This program will walk you through drawing a tree in this way.\n",
    "\n",
    "Start by importing the `turtle` module. Declare a turtle object, and define the function `recursive_tree`. This function should take three parameters, `branch_length`, `angle`, and `t`. Use `pass` as the function body for now. Finally, use `turtle.mainlooop()` at the end of the program.\n",
    "\n",
    "```python\n",
    "import turtle\n",
    "\n",
    "t = turtle.Turtle()\n",
    "\n",
    "def recursive_tree(branch_length, angle, t):\n",
    "    \"\"\"Draw a tree recursively\"\"\"\n",
    "    pass\n",
    "  \n",
    "turtle.mainloop()\n",
    "```\n",
    "\n",
    "The base case for this function is a bit different. In previous examples, if the base case is true a value was returned. The function `recursive_tree` does not return a value, it draws on the screen. So the base case will be to keep recursing as long as `branch_length` is greater than some value. Define the base case as `branch_length` as being greater than 5. Use `pass` for the body of the conditional.\n",
    "\n",
    "```python\n",
    "def recursive_tree(branch_length, angle, t):\n",
    "    \"\"\"Draw a tree recursively\"\"\"\n",
    "    if branch_length > 5:\n",
    "        pass\n",
    "    \n",
    "turtle.mainloop()\n",
    "```\n",
    "\n",
    "Start drawing the tree by going forward and turning right. Call `recursive_tree` again, but reduce `branch_length` by 15. The code should run, but the tree will not look like a tree. It looks more like a curve made of series of line segments decreasing in size."
   ]
  },
  {
   "cell_type": "code",
   "execution_count": null,
   "metadata": {},
   "outputs": [],
   "source": [
    "import turtle\n",
    "t = turtle.Turtle()"
   ]
  },
  {
   "cell_type": "code",
   "execution_count": null,
   "metadata": {},
   "outputs": [],
   "source": [
    "def recursive_tree(branch_length, angle, t):\n",
    "    \"\"\"Draw a tree recursively\"\"\"\n",
    "    if branch_length > 5:\n",
    "        t.forward(branch_length)\n",
    "        t.right(angle)\n",
    "        recursive_tree(branch_length - 15, angle, t)\n",
    "\n",
    "recursive_tree(45, 20, t)\n",
    "turtle.mainloop()"
   ]
  }
 ],
 "metadata": {
  "kernelspec": {
   "display_name": "Python 3.10.4 64-bit",
   "language": "python",
   "name": "python3"
  },
  "language_info": {
   "name": "python",
   "version": "3.10.4"
  },
  "orig_nbformat": 4,
  "vscode": {
   "interpreter": {
    "hash": "12d9efd1b418ad7485587f2da0512ee7fc7c20b6462fdb2a696d6f33bbf19b58"
   }
  }
 },
 "nbformat": 4,
 "nbformat_minor": 2
}
