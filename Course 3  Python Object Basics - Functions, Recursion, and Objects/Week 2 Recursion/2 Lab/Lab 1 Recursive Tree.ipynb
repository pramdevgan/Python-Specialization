{
 "cells": [
  {
   "cell_type": "markdown",
   "metadata": {},
   "source": [
    "# Lab 1\n",
    "\n",
    "## Lab 1 - Recursive Tree\n",
    "\n",
    "![Recursive Tree](https://apollo-media.codio.com/media/1/4f8643e2f99084e56b9831b4827c5211-12e6fe17-875e-43ea-b637-7f70e0728a21.webp)\n",
    "\n",
    "Trees can be drawn recursively. Draw a branch. At the end of the branch, draw two smaller branches with one to the left and the other to the right. Repeat until a certain condition is true. This program will walk you through drawing a tree in this way.\n",
    "\n",
    "Start by importing the `turtle` module. Declare a turtle object, and define the function `recursive_tree`. This function should take three parameters, `branch_length`, `angle`, and `t`. Use `pass` as the function body for now. Finally, use `turtle.mainlooop()` at the end of the program.\n",
    "\n",
    "```python\n",
    "import turtle\n",
    "\n",
    "t = turtle.Turtle()\n",
    "\n",
    "def recursive_tree(branch_length, angle, t):\n",
    "    \"\"\"Draw a tree recursively\"\"\"\n",
    "    pass\n",
    "  \n",
    "turtle.mainloop()\n",
    "```\n",
    "\n",
    "The base case for this function is a bit different. In previous examples, if the base case is true a value was returned. The function `recursive_tree` does not return a value, it draws on the screen. So the base case will be to keep recursing as long as `branch_length` is greater than some value. Define the base case as `branch_length` as being greater than 5. Use `pass` for the body of the conditional.\n",
    "\n",
    "```python\n",
    "def recursive_tree(branch_length, angle, t):\n",
    "    \"\"\"Draw a tree recursively\"\"\"\n",
    "    if branch_length > 5:\n",
    "        pass\n",
    "    \n",
    "turtle.mainloop()\n",
    "```\n",
    "\n",
    "Start drawing the tree by going forward and turning right. Call `recursive_tree` again, but reduce `branch_length` by 15. The code should run, but the tree will not look like a tree. It looks more like a curve made of series of line segments decreasing in size."
   ]
  },
  {
   "cell_type": "code",
   "execution_count": 1,
   "metadata": {},
   "outputs": [],
   "source": [
    "import turtle\n",
    "import importlib\n",
    "\n",
    "t = turtle.Turtle()\n",
    "importlib.reload(turtle)\n",
    "turtle.TurtleScreen._RUNNING=True\n",
    "def recursive_tree(branch_length, angle, t):\n",
    "    \"\"\"Draw a tree recursively\"\"\"\n",
    "    pass\n",
    "\n",
    "turtle.mainloop()"
   ]
  },
  {
   "cell_type": "code",
   "execution_count": 2,
   "metadata": {},
   "outputs": [],
   "source": [
    "def recursive_tree(branch_length, angle, t):\n",
    "    \"\"\"Draw a tree recursively\"\"\"\n",
    "    if branch_length > 5:\n",
    "        t.forward(branch_length)\n",
    "        t.right(angle)\n",
    "        recursive_tree(branch_length - 15, angle, t)\n",
    "\n",
    "\n",
    "importlib.reload(turtle)\n",
    "turtle.TurtleScreen._RUNNING=True\n",
    "t = turtle.Turtle()\n",
    "recursive_tree(45, 20, t)\n",
    "turtle.mainloop()"
   ]
  },
  {
   "cell_type": "markdown",
   "metadata": {},
   "source": [
    "The next step is to draw the branch that goes off to the left. Since the turtle turned to the right the number of degrees that the parameter `angle` represents, the turtle needs to turn to the left twice the degrees of `angle`. Turning to the left `angle` will put the turtle back at its original heading. The turtle needs to go further to the left. Then draw another branch whose length is reduced by 15."
   ]
  },
  {
   "cell_type": "code",
   "execution_count": 3,
   "metadata": {},
   "outputs": [],
   "source": [
    "def recursive_tree(branch_length, angle, t):\n",
    "    \"\"\"Draw a tree recursively\"\"\"\n",
    "    if branch_length > 5:\n",
    "        t.forward(branch_length)\n",
    "        t.right(angle)\n",
    "        recursive_tree(branch_length - 15, angle, t)\n",
    "        t.left(angle * 2)\n",
    "        recursive_tree(branch_length - 15, angle, t)\n",
    "\n",
    "importlib.reload(turtle)\n",
    "turtle.TurtleScreen._RUNNING=True\n",
    "t = turtle.Turtle()\n",
    "recursive_tree(45, 20, t)\n",
    "turtle.mainloop()"
   ]
  },
  {
   "cell_type": "markdown",
   "metadata": {},
   "source": [
    "The tree is looking better, but there are two more things that need to be done. First, put the turtle back to its original heading by turning right `angle` degrees. Then go backwards the length of the branch. Call the `recursive_tree` function to draw a tree."
   ]
  },
  {
   "cell_type": "code",
   "execution_count": 4,
   "metadata": {},
   "outputs": [],
   "source": [
    "def recursive_tree(branch_length, angle, t):\n",
    "    \"\"\"Draw a tree recursively\"\"\"\n",
    "    if branch_length > 5:\n",
    "        t.forward(branch_length)\n",
    "        t.right(angle)\n",
    "        recursive_tree(branch_length - 15, angle, t)\n",
    "        t.left(angle * 2)\n",
    "        recursive_tree(branch_length - 15, angle, t)\n",
    "        t.right(angle)\n",
    "        t.backward(branch_length)\n",
    "        \n",
    "importlib.reload(turtle)\n",
    "turtle.TurtleScreen._RUNNING=True\n",
    "t = turtle.Turtle()\n",
    "recursive_tree(45, 90, t)\n",
    "turtle.mainloop()"
   ]
  },
  {
   "cell_type": "markdown",
   "metadata": {},
   "source": [
    "## What happens if you:\n",
    "\n",
    "* Increase the branch length when calling `recursive_tree` for the first time?\n",
    "* Increase and decrease the angle when calling `recursive_tree` for the first time?\n",
    "* When decreasing `branch_length`, change 15 to something smaller (be sure to change all of the 15’s)?\n",
    "* Change the base case to `if branch_length > 1:`?\n",
    "* Rotate the turtle 90 degrees to the left before calling `recursive_tree` for the first time?"
   ]
  },
  {
   "cell_type": "markdown",
   "metadata": {},
   "source": [
    "<details open=\"\"><summary><strong>Solution</strong></summary>\n",
    "\n",
    "```python\n",
    "import turtle\n",
    "\n",
    "t = turtle.Turtle()\n",
    "t.lt(90)\n",
    "t.penup()\n",
    "t.backward(150)\n",
    "t.pendown()\n",
    "t.speed(10)\n",
    "\n",
    "def recursive_tree(branch_length, angle, t):\n",
    "    \"\"\"Draw a tree recursively\"\"\"\n",
    "    if branch_length > 1:\n",
    "        t.forward(branch_length)\n",
    "        t.right(angle)\n",
    "        recursive_tree(branch_length - 7, angle, t)\n",
    "        t.left(angle * 2)\n",
    "        recursive_tree(branch_length - 7, angle, t)\n",
    "        t.right(angle)\n",
    "        t.backward(branch_length)\n",
    "  \n",
    "recursive_tree(60, 20, t)\n",
    "turtle.mainloop()\n",
    "```\n",
    "\n",
    "</details>\n"
   ]
  },
  {
   "cell_type": "code",
   "execution_count": 1,
   "metadata": {},
   "outputs": [],
   "source": [
    "import turtle\n",
    "import importlib\n",
    "\n",
    "t = turtle.Turtle()\n",
    "t.lt(90)\n",
    "t.penup()\n",
    "t.backward(150)\n",
    "t.pendown()\n",
    "t.speed(10)\n",
    "\n",
    "def recursive_tree(branch_length, angle, t):\n",
    "    \"\"\"Draw a tree recursively\"\"\"\n",
    "    if branch_length > 1:\n",
    "        t.forward(branch_length)\n",
    "        t.right(angle)\n",
    "        recursive_tree(branch_length - 7, angle, t)\n",
    "        t.left(angle * 2)\n",
    "        recursive_tree(branch_length - 7, angle, t)\n",
    "        t.right(angle)\n",
    "        t.backward(branch_length)\n",
    "\n",
    "importlib.reload(turtle)\n",
    "turtle.TurtleScreen._RUNNING=True\n",
    "t = turtle.Turtle()\n",
    "recursive_tree(60, 90, t)\n",
    "turtle.mainloop()"
   ]
  },
  {
   "cell_type": "markdown",
   "metadata": {},
   "source": [
    "## Lab Question\n",
    "\n",
    "Look at the code below. Select the answer that best describes why the code is problematic.\n",
    "\n",
    "```python\n",
    "def recursive_function(num):\n",
    "    if num < 0:\n",
    "        return 1\n",
    "    else:\n",
    "        return num + recursive_function(num)\n",
    "```\n",
    "\n",
    "- There is nothing wrong with the function\n",
    "- The base case should be `if num < 5:`\n",
    "- **When using recursion, `num` should get smaller so that the base case becomes true**\n",
    "- It should be `return num - recursive_function(num)`\n",
    "\n",
    "In the code above, `recursive_function` is called with `num` staying the same value. If it never gets smaller, then `num` will never be less than 0. The function will be stuck in an infinite loop. The parameter in the recursive function should change so that the base case becomes true."
   ]
  }
 ],
 "metadata": {
  "kernelspec": {
   "display_name": "Python 3.10.4 64-bit",
   "language": "python",
   "name": "python3"
  },
  "language_info": {
   "codemirror_mode": {
    "name": "ipython",
    "version": 3
   },
   "file_extension": ".py",
   "mimetype": "text/x-python",
   "name": "python",
   "nbconvert_exporter": "python",
   "pygments_lexer": "ipython3",
   "version": "3.10.4"
  },
  "orig_nbformat": 4,
  "vscode": {
   "interpreter": {
    "hash": "12d9efd1b418ad7485587f2da0512ee7fc7c20b6462fdb2a696d6f33bbf19b58"
   }
  }
 },
 "nbformat": 4,
 "nbformat_minor": 2
}
