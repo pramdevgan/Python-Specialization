{
 "cells": [
  {
   "cell_type": "markdown",
   "metadata": {},
   "source": [
    "# Lab 3\n",
    "\n",
    "## Lab 3 - Sierpinski Triangle\n",
    "\n",
    "![Sierpinski Triangle](https://apollo-media.codio.com/media/1/a08a76132cb07517711bb2f52ba7570d-a6b65742-4cd1-4d40-9688-3368d144f6a0.webp)\n",
    "\n",
    "If you start to zoom in on fractals, you will see the same shapes repeat themselves. Fractals are said to be self-similar, which means they can be drawn with recursion. This lab will walk you though drawing a [Sierpinski triangle](https://en.wikipedia.org/wiki/Sierpi%C5%84ski_triangle). Start by preparing the program to use Python’s turtle graphics. Sierpinski triangles can become quite complex, so increase the turtle’s speed to 10 (the maximum).\n"
   ]
  },
  {
   "cell_type": "code",
   "execution_count": 18,
   "metadata": {},
   "outputs": [],
   "source": [
    "import turtle\n",
    "import importlib\n",
    "importlib.reload(turtle)\n",
    "turtle.TurtleScreen._RUNNING = True\n",
    "t = turtle.Turtle()\n",
    "t.speed(4)\n",
    "turtle.mainloop()"
   ]
  },
  {
   "cell_type": "markdown",
   "metadata": {},
   "source": [
    "The building block of this fractal is the triangle. Create a function (with a parameter for length) to draw a triangle. The turtle will be walking all over the screen, so it is important to make sure that the turtle is facing a consistent position before drawing the `triangle. t.setheading(180)` ensures the turtle is facing to the left.\n"
   ]
  },
  {
   "cell_type": "code",
   "execution_count": 17,
   "metadata": {},
   "outputs": [],
   "source": [
    "import turtle\n",
    "importlib.reload(turtle)\n",
    "turtle.TurtleScreen._RUNNING = True\n",
    "t = turtle.Turtle()\n",
    "t.speed(10)\n",
    "\n",
    "def draw_triangle(length):\n",
    "    t.setheading(180)\n",
    "    for i in range(3):\n",
    "        t.rt(120)\n",
    "        t.fd(length)\n",
    "\n",
    "draw_triangle(50)\n",
    "turtle.mainloop()"
   ]
  },
  {
   "cell_type": "markdown",
   "metadata": {},
   "source": [
    "Look closely at a Sierpinski triangle, and you will see clusters of three triangles that make up clusters of triangles and so forth.\n",
    "\n",
    "![Sierpinski Triangle Evolution](https://apollo-media.codio.com/media/1/1bfa207f4b6780ac669390ef2e11ca16-bf363d1f-7af0-4d8b-8c93-aa9829bb3d21.webp)\n",
    "\n",
    "You are now going to create a recursive function that draws this cluster of three triangles. Define the function `sierpinski` that takes `length` and `n` as parameters. The base case is if `n` is equal to `1`. If so, draw a triangle of size `length`. If `n` is not equal to 1, then you are going to call `sierpinski` again, but with `n-1`. These new triangles need to be in a different position, so move the turtle after drawing each turtle. Finally, replace the `draw_triangle` function call with `sierpinski(50, 1)`.\n"
   ]
  },
  {
   "cell_type": "code",
   "execution_count": 4,
   "metadata": {},
   "outputs": [],
   "source": [
    "import turtle\n",
    "importlib.reload(turtle)\n",
    "turtle.TurtleScreen._RUNNING = True\n",
    "t = turtle.Turtle()\n",
    "t.speed(10)\n",
    "\n",
    "def sierpinski(length, n):\n",
    "    if n == 1:\n",
    "        draw_triangle(length)\n",
    "    else:\n",
    "        sierpinski(length, n-1)\n",
    "        t.rt(120)\n",
    "        t.fd(length)\n",
    "        sierpinski(length, n-1)\n",
    "        t.lt(120)\n",
    "        t.fd(length)\n",
    "        sierpinski(length, n-1)\n",
    "        t.fd(length)\n",
    "\n",
    "def draw_triangle(length):\n",
    "    t.setheading(180)\n",
    "    for i in range(3):\n",
    "        t.rt(120)\n",
    "        t.fd(length)\n",
    "\n",
    "sierpinski(50, 1)\n",
    "turtle.mainloop()"
   ]
  },
  {
   "cell_type": "markdown",
   "metadata": {},
   "source": [
    "## What happens if you:\n",
    "\n",
    "- Change the function call to `sierpinski(50, 2)`?\n",
    "- Change the function call to `sierpinski(50, 3)`?\n",
    "- Change the function call to `sierpinski(50, 4)`?\n"
   ]
  },
  {
   "cell_type": "code",
   "execution_count": 9,
   "metadata": {},
   "outputs": [],
   "source": [
    "import turtle\n",
    "importlib.reload(turtle)\n",
    "turtle.TurtleScreen._RUNNING = True\n",
    "t = turtle.Turtle()\n",
    "t.speed(10)\n",
    "\n",
    "\n",
    "def sierpinski(length, n):\n",
    "    if n == 1:\n",
    "        draw_triangle(length)\n",
    "    else:\n",
    "        sierpinski(length, n-1)\n",
    "        t.rt(120)\n",
    "        t.fd(length)\n",
    "        sierpinski(length, n-1)\n",
    "        t.lt(120)\n",
    "        t.fd(length)\n",
    "        sierpinski(length, n-1)\n",
    "        t.fd(length)\n",
    "\n",
    "\n",
    "def draw_triangle(length):\n",
    "    t.setheading(180)\n",
    "    for i in range(3):\n",
    "        t.rt(120)\n",
    "        t.fd(length)\n",
    "\n",
    "\n",
    "# sierpinski(50, 3)\n",
    "# sierpinski(50, 2)\n",
    "sierpinski(50, 4)\n",
    "turtle.mainloop()\n"
   ]
  },
  {
   "cell_type": "markdown",
   "metadata": {},
   "source": [
    "The triangles are clustered together, but the Sierpinski triangle has larger triangle-shaped voids. An adjustment needs to be made to the distance the turtle moves between calls to the `sierpinski` function. Instead of moving forward the distance of `length`, the turtle will move forward `length * (n-1)`. Change the `sierpinski` function call to `sierpinski(20, 4)`.\n"
   ]
  },
  {
   "cell_type": "code",
   "execution_count": 10,
   "metadata": {},
   "outputs": [],
   "source": [
    "import turtle\n",
    "importlib.reload(turtle)\n",
    "turtle.TurtleScreen._RUNNING = True\n",
    "t = turtle.Turtle()\n",
    "t.speed(10)\n",
    "\n",
    "\n",
    "def sierpinski(length, n):\n",
    "    if n == 1:\n",
    "        draw_triangle(length)\n",
    "    else:\n",
    "        sierpinski(length, n-1)\n",
    "        t.rt(120)\n",
    "        t.fd(length * (n-1))\n",
    "        sierpinski(length, n-1)\n",
    "        t.lt(120)\n",
    "        t.fd(length * (n-1))\n",
    "        sierpinski(length, n-1)\n",
    "        t.fd(length * (n-1))\n",
    "\n",
    "\n",
    "def draw_triangle(length):\n",
    "    t.setheading(180)\n",
    "    for i in range(3):\n",
    "        t.rt(120)\n",
    "        t.fd(length)\n",
    "\n",
    "\n",
    "sierpinski(20, 4)\n",
    "turtle.mainloop()\n"
   ]
  },
  {
   "cell_type": "markdown",
   "metadata": {},
   "source": [
    "The fractal is getting better, but there are a few areas where the program can be improved. Change the distance the turtle goes forward from `t.fd(length * (n-1))` to `t.fd(length * 2 ** (n-2))`.\n"
   ]
  },
  {
   "cell_type": "code",
   "execution_count": 11,
   "metadata": {},
   "outputs": [],
   "source": [
    "import turtle\n",
    "importlib.reload(turtle)\n",
    "turtle.TurtleScreen._RUNNING = True\n",
    "t = turtle.Turtle()\n",
    "t.speed(10)\n",
    "\n",
    "\n",
    "def sierpinski(length, n):\n",
    "    if n == 1:\n",
    "        draw_triangle(length)\n",
    "    else:\n",
    "        sierpinski(length, n-1)\n",
    "        t.rt(120)\n",
    "        t.fd(length * 2**(n-2))\n",
    "        sierpinski(length, n-1)\n",
    "        t.lt(120)\n",
    "        t.fd(length * 2**(n-2))\n",
    "        sierpinski(length, n-1)\n",
    "        t.fd(length * 2**(n-2))\n",
    "\n",
    "def draw_triangle(length):\n",
    "    t.setheading(180)\n",
    "    for i in range(3):\n",
    "        t.rt(120)\n",
    "        t.fd(length)\n",
    "\n",
    "sierpinski(20, 4)\n",
    "turtle.mainloop()"
   ]
  },
  {
   "cell_type": "markdown",
   "metadata": {},
   "source": [
    "## What happens if you:\n",
    "\n",
    "* Change the `sierpinski` function call to `sierpinski(5, 6)`?\n",
    "* Change the `sierpinski` function call to `sierpinski(5, 8)`?"
   ]
  },
  {
   "cell_type": "code",
   "execution_count": 13,
   "metadata": {},
   "outputs": [],
   "source": [
    "import turtle\n",
    "importlib.reload(turtle)\n",
    "turtle.TurtleScreen._RUNNING = True\n",
    "t = turtle.Turtle()\n",
    "t.speed(10)\n",
    "\n",
    "\n",
    "def sierpinski(length, n):\n",
    "    if n == 1:\n",
    "        draw_triangle(length)\n",
    "    else:\n",
    "        sierpinski(length, n-1)\n",
    "        t.rt(120)\n",
    "        t.fd(length * 2**(n-2))\n",
    "        sierpinski(length, n-1)\n",
    "        t.lt(120)\n",
    "        t.fd(length * 2**(n-2))\n",
    "        sierpinski(length, n-1)\n",
    "        t.fd(length * 2**(n-2))\n",
    "\n",
    "def draw_triangle(length):\n",
    "    t.setheading(180)\n",
    "    for i in range(3):\n",
    "        t.rt(120)\n",
    "        t.fd(length)\n",
    "\n",
    "# sierpinski(5, 6)\n",
    "sierpinski(5, 8)\n",
    "turtle.mainloop()"
   ]
  },
  {
   "cell_type": "markdown",
   "metadata": {},
   "source": [
    "## Lab Question\n",
    "\n",
    "What is the relationship between the `draw_triangle` function and the `sierpinski` function?\n",
    "\n",
    "`sierpinski` is a helper function for `draw_triangle`\n",
    "\n",
    "***`draw_triangle` is a helper function for `sierpinski`*** *Correct Answer*\n",
    "\n",
    "`draw_triangle` is declared inside `sierpinski`\n",
    "\n",
    "`draw_triangle` is called as a parameter for the `sierpinski` function\n",
    "\n",
    "`draw_triangle` is a helper function for `sierpinski` because the `sierpinski` function calls `draw_triangle`."
   ]
  }
 ],
 "metadata": {
  "kernelspec": {
   "display_name": "Python 3.10.4 64-bit",
   "language": "python",
   "name": "python3"
  },
  "language_info": {
   "codemirror_mode": {
    "name": "ipython",
    "version": 3
   },
   "file_extension": ".py",
   "mimetype": "text/x-python",
   "name": "python",
   "nbconvert_exporter": "python",
   "pygments_lexer": "ipython3",
   "version": "3.10.4"
  },
  "orig_nbformat": 4,
  "vscode": {
   "interpreter": {
    "hash": "12d9efd1b418ad7485587f2da0512ee7fc7c20b6462fdb2a696d6f33bbf19b58"
   }
  }
 },
 "nbformat": 4,
 "nbformat_minor": 2
}
