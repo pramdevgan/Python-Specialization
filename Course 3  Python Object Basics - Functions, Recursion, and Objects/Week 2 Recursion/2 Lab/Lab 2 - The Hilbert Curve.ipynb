{
 "cells": [
  {
   "cell_type": "markdown",
   "metadata": {},
   "source": [
    "# Lab 2\n",
    "\n",
    "## Lab 2 - The Hilbert Curve\n",
    "\n",
    "![Hilbert Curve](https://apollo-media.codio.com/media/1/7c4a60cfb14584712073c0ddfaa369ca-59b0319e-e07d-4396-9e30-c163c55dac8a.webp)\n",
    "\n",
    "The [Hilbert Curve](https://en.wikipedia.org/wiki/Hilbert_curve) is a fractal, space-filling curve. Start by importing the turtle module, create a turtle object, and write the function header for the recursive function `hilbert`. The parameters for the function are the distance the turtle will travel, the rule to be used, an angle (determines how tight the fractal is), depth (how intricate the fractal is), and the turtle object. Use `pass` for the body for now."
   ]
  },
  {
   "cell_type": "code",
   "execution_count": 1,
   "metadata": {},
   "outputs": [],
   "source": [
    "import turtle\n",
    "import importlib\n",
    "\n",
    "importlib.reload(turtle)\n",
    "turtle.TurtleScreen._RUNNING=True\n",
    "\n",
    "t = turtle.Turtle()\n",
    "\n",
    "def hilbert(dist, rule, angle, depth, t):\n",
    "    \"\"\"Draw a Hilber Curve\"\"\"\n",
    "    pass\n",
    "\n",
    "turtle.mainloop()"
   ]
  },
  {
   "cell_type": "markdown",
   "metadata": {},
   "source": [
    "The base case for the function is when `depth` is 0. Another way to think about the base case is that if `depth` is greater than 0, keep drawing the fractal. Use `if depth > 0:` as the base case. Also, there are two rules for the turtle. Ask if `rule` is equal to 1 or if it is equal to 2. Use `pass` for the body of these conditionals."
   ]
  },
  {
   "cell_type": "code",
   "execution_count": 2,
   "metadata": {},
   "outputs": [],
   "source": [
    "importlib.reload(turtle)\n",
    "turtle.TurtleScreen._RUNNING=True\n",
    "\n",
    "def hilbert(dist, rule, angle, depth, t):\n",
    "    \"\"\"Draw a Hilber Curve\"\"\"\n",
    "    if depth > 0:\n",
    "    \n",
    "        if rule == 1:\n",
    "            pass\n",
    "\n",
    "        if rule == 2:\n",
    "            pass\n",
    "\n",
    "turtle.mainloop()"
   ]
  },
  {
   "cell_type": "markdown",
   "metadata": {},
   "source": [
    "If `rule` is equal to 1, then the turtle is going to turn left, recursively call the `hilbert` function with `rule` set to 2, go forward, turn right, recursively call the `hilbert` function with `rule` set to 1, go forward, recursively call the `hilbert` function with `rule` set to 1, turn right, and finally move forward. Because the base case is based on `depth`, it must be reduced by 1 each time the `hilbert` function is called recursively.\n",
    "\n",
    "```python\n",
    "        if rule == 1:\n",
    "            t.left(angle)\n",
    "            hilbert(dist, 2, angle, depth - 1, t)\n",
    "            t.forward(dist)\n",
    "            t.right(angle)\n",
    "            hilbert(dist, 1, angle, depth - 1, t)\n",
    "            t.forward(dist)\n",
    "            hilbert(dist, 1, angle, depth - 1, t)\n",
    "            t.right(angle)\n",
    "            t.forward(dist)\n",
    "            hilbert(dist, 2, angle, depth - 1, t)\n",
    "            t.left(angle)\n",
    "```\n",
    "\n",
    "If `rule` is equal to 2, then the code is almost the inverse of when `rule` is equal to 1. The turtle will still go forward, but left turns become right turns, right turns become left turns, and recursive calls to `hilbert` will use 2 instead of 1 for the `rule` parameter (and vice versa).\n",
    "\n",
    "```python\n",
    "        if rule == 2:\n",
    "            t.right(angle)\n",
    "            hilbert(dist, 1, angle, depth - 1, t)\n",
    "            t.forward(dist)\n",
    "            t.left(angle)\n",
    "            hilbert(dist, 2, angle, depth - 1, t)\n",
    "            t.forward(dist)\n",
    "            hilbert(dist, 2, angle, depth - 1, t)\n",
    "            t.left(angle)\n",
    "            t.forward(dist)\n",
    "            hilbert(dist, 1, angle, depth - 1, t)\n",
    "            t.right(angle)\n",
    "```"
   ]
  },
  {
   "cell_type": "code",
   "execution_count": 3,
   "metadata": {},
   "outputs": [],
   "source": [
    "importlib.reload(turtle)\n",
    "turtle.TurtleScreen._RUNNING=True\n",
    "t = turtle.Turtle()\n",
    "\n",
    "def hilbert(dist, rule, angle, depth, t):\n",
    "    \"\"\"Draw a Hilber Curve\"\"\"\n",
    "    if depth > 0:\n",
    "    \n",
    "        if rule == 1:\n",
    "            t.left(angle)\n",
    "            hilbert(dist, 2, angle, depth - 1, t)\n",
    "            t.forward(dist)\n",
    "            t.right(angle)\n",
    "            hilbert(dist, 1, angle, depth - 1, t)\n",
    "            t.forward(dist)\n",
    "            hilbert(dist, 1, angle, depth - 1, t)\n",
    "            t.right(angle)\n",
    "            t.forward(dist)\n",
    "            hilbert(dist, 2, angle, depth - 1, t)\n",
    "            t.left(angle)\n",
    "\n",
    "        if rule == 2:\n",
    "            t.right(angle)\n",
    "            hilbert(dist, 1, angle, depth - 1, t)\n",
    "            t.forward(dist)\n",
    "            t.left(angle)\n",
    "            hilbert(dist, 2, angle, depth - 1, t)\n",
    "            t.forward(dist)\n",
    "            hilbert(dist, 2, angle, depth - 1, t)\n",
    "            t.left(angle)\n",
    "            t.forward(dist)\n",
    "            hilbert(dist, 1, angle, depth - 1, t)\n",
    "            t.right(angle)\n",
    "\n",
    "turtle.mainloop()"
   ]
  },
  {
   "cell_type": "markdown",
   "metadata": {},
   "source": [
    "Finally, call the `hilbert` function and run the program to see the fractal.\n",
    "\n",
    "```python\n",
    "hilbert(5, 1, 90, 5, t)\n",
    "turtle.mainloop()\n",
    "```"
   ]
  },
  {
   "cell_type": "code",
   "execution_count": 5,
   "metadata": {},
   "outputs": [],
   "source": [
    "importlib.reload(turtle)\n",
    "turtle.TurtleScreen._RUNNING=True\n",
    "t = turtle.Turtle()\n",
    "\n",
    "def hilbert(dist, rule, angle, depth, t):\n",
    "    \"\"\"Draw a Hilber Curve\"\"\"\n",
    "    if depth > 0:\n",
    "    \n",
    "        if rule == 1:\n",
    "            t.left(angle)\n",
    "            hilbert(dist, 2, angle, depth - 1, t)\n",
    "            t.forward(dist)\n",
    "            t.right(angle)\n",
    "            hilbert(dist, 1, angle, depth - 1, t)\n",
    "            t.forward(dist)\n",
    "            hilbert(dist, 1, angle, depth - 1, t)\n",
    "            t.right(angle)\n",
    "            t.forward(dist)\n",
    "            hilbert(dist, 2, angle, depth - 1, t)\n",
    "            t.left(angle)\n",
    "\n",
    "        if rule == 2:\n",
    "            t.right(angle)\n",
    "            hilbert(dist, 1, angle, depth - 1, t)\n",
    "            t.forward(dist)\n",
    "            t.left(angle)\n",
    "            hilbert(dist, 2, angle, depth - 1, t)\n",
    "            t.forward(dist)\n",
    "            hilbert(dist, 2, angle, depth - 1, t)\n",
    "            t.left(angle)\n",
    "            t.forward(dist)\n",
    "            hilbert(dist, 1, angle, depth - 1, t)\n",
    "            t.right(angle)\n",
    "\n",
    "importlib.reload(turtle)\n",
    "turtle.TurtleScreen._RUNNING=True\n",
    "t.speed(10)\n",
    "hilbert(5, 1, 90, 5, t)\n",
    "turtle.mainloop()"
   ]
  },
  {
   "cell_type": "markdown",
   "metadata": {},
   "source": [
    "<details open=\"\"><summary><strong>Speeding up the turtle</strong></summary>\n",
    "\n",
    "The Hilbert Curve can be slow to draw. You can change the speed of the turtle with the following command `t.speed(10)`.\n",
    "\n",
    "</details>"
   ]
  },
  {
   "cell_type": "markdown",
   "metadata": {},
   "source": [
    "## What happens if you:\n",
    "\n",
    "* Change the `dist` parameter?\n",
    "* Start with the `rule` parameter as 2?\n",
    "* Increase or decrease the `angle` parameter?\n",
    "* Increase or decrease the `depth` parameter?"
   ]
  },
  {
   "cell_type": "markdown",
   "metadata": {},
   "source": [
    "### **Lab Question**\n",
    "Rearrange the blocks below to create a recursive function. Assume that the recursive function is called with this code:\n",
    "\n",
    "`my_recursive_function(15)`\n",
    "\n",
    "**Note**, a docstring is required, but not all of the code blocks will be used.\n",
    "\n",
    "**solution**\n",
    "*****\n",
    "```python\n",
    "def my_recursive_function(num):\n",
    "    \"\"\"Creates a recursive function\"\"\"\n",
    "    if num < 0:\n",
    "        return 1\n",
    "    else:\n",
    "        return num + my_recursive_function(num - 1)\n",
    "```\n",
    "\n",
    "Recursive functions need to return values, not print them. So you can ignore the code blocks that say `print`. Since the base case is testing if `num` is less than 0 and `my_recursive_function` was initially called with a parameter of 15, you need to use the code block that says `return num + my_recursive_function(num - 1)`. The value of `num` must get to be equal to or less than 0. If not, the recursive function will become an infinite loop."
   ]
  }
 ],
 "metadata": {
  "kernelspec": {
   "display_name": "Python 3.10.4 64-bit",
   "language": "python",
   "name": "python3"
  },
  "language_info": {
   "codemirror_mode": {
    "name": "ipython",
    "version": 3
   },
   "file_extension": ".py",
   "mimetype": "text/x-python",
   "name": "python",
   "nbconvert_exporter": "python",
   "pygments_lexer": "ipython3",
   "version": "3.10.4"
  },
  "orig_nbformat": 4,
  "vscode": {
   "interpreter": {
    "hash": "12d9efd1b418ad7485587f2da0512ee7fc7c20b6462fdb2a696d6f33bbf19b58"
   }
  }
 },
 "nbformat": 4,
 "nbformat_minor": 2
}
