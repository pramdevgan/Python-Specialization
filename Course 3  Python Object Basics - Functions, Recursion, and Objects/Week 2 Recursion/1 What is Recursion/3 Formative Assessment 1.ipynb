{
 "cells": [
  {
   "cell_type": "markdown",
   "metadata": {},
   "source": [
    "# Formative Assessment 1\n",
    "\n",
    "---\n",
    "\n",
    "## Formative Assessment\n",
    "\n",
    "Rearrange the code blocks below to create a recursive function that finds the sum of `n` integers. For example, `find_sum(5)` would add up the numbers 0 to 5.  **Note** , you must use a docstring, and not all of the blocks will be used.\n",
    "\n",
    "Drag from here\n",
    "\n",
    "* if n == 0:\n",
    "* \"\"\"Recursively calculate the sum of the first n numbers\"\"\"\n",
    "* else:\n",
    "* return 0\n",
    "* print(0)\n",
    "* def find_sum(n):\n",
    "* return(n + find_sum(n-1))\n",
    "* return(n - find_sum(n-1))\n",
    "* return(n + find_sum(n+1))\n",
    "\n",
    "Construct your solution here\n",
    "```python\n",
    "def find_sum(n):\n",
    "    \"\"\"Recursively calculate the sum of the first n numbers\"\"\"\n",
    "    if n == 0:\n",
    "        return 0\n",
    "    else:\n",
    "        return (n + find_sum(n - 1))\n",
    "```"
   ]
  },
  {
   "cell_type": "code",
   "execution_count": 2,
   "metadata": {},
   "outputs": [
    {
     "data": {
      "text/plain": [
       "21"
      ]
     },
     "execution_count": 2,
     "metadata": {},
     "output_type": "execute_result"
    }
   ],
   "source": [
    "def find_sum(n):\n",
    "    \"\"\"Recursively calculate the sum of the first n numbers\"\"\"\n",
    "    if n == 0:\n",
    "        return 0\n",
    "    else:\n",
    "        return (n + find_sum(n - 1))\n",
    "\n",
    "find_sum(6)"
   ]
  },
  {
   "cell_type": "markdown",
   "metadata": {},
   "source": [
    "Start off with the function header and docstring. The next line of code is the base case `if n == 0:`. Recursive functions return values, they do not print them. Ignore the code block that says `print(0)`, and use `return 0`. Next is the else statement. There are two incorrect blocks for the recursive case. First, ignore the code block that says `return(n - find_sum(n-1))`. The function should find the sum, but this code block is subtracting from `n`. Also, the recursive function call should move `n` closer to the base case. Since the base case is 0, `n` should get smaller. Use the code block that says, `return(n + find_sum(n-1))`."
   ]
  }
 ],
 "metadata": {
  "kernelspec": {
   "display_name": "Python 3.10.4 64-bit",
   "language": "python",
   "name": "python3"
  },
  "language_info": {
   "codemirror_mode": {
    "name": "ipython",
    "version": 3
   },
   "file_extension": ".py",
   "mimetype": "text/x-python",
   "name": "python",
   "nbconvert_exporter": "python",
   "pygments_lexer": "ipython3",
   "version": "3.10.4"
  },
  "orig_nbformat": 4,
  "vscode": {
   "interpreter": {
    "hash": "12d9efd1b418ad7485587f2da0512ee7fc7c20b6462fdb2a696d6f33bbf19b58"
   }
  }
 },
 "nbformat": 4,
 "nbformat_minor": 2
}
