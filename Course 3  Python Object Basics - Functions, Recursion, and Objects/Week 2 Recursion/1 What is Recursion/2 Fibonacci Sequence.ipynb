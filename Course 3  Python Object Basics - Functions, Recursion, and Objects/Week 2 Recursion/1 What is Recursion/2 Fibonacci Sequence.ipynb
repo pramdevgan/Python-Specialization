{
 "cells": [
  {
   "cell_type": "markdown",
   "metadata": {},
   "source": [
    "# Fibonacci Sequence\n",
    "\n",
    "---\n",
    "\n",
    "## Fibonacci Number\n",
    "\n",
    "A Fibonacci number is a number in which the current number is the sum of the previous two Fibonacci numbers.\n",
    "\n",
    "![Fibonacci Sequence](https://apollo-media.codio.com/media/1/828848379f34c40703a9a3fae123d024-dc91f86c-c6cf-4203-b36b-2a383e4cba93.webp)\n",
    "\n",
    "Calculating a Fibonacci number is self-similar, which means it can be define with recursion. Setting the base case is important to avoid infinite recursion. When the number `n` is 0 the Fibonacci number is 0, and when `n` is 1 the Fibonacci number is 1. So if `n` is less than or equal to 1, then return `n`. That is the base case."
   ]
  },
  {
   "cell_type": "code",
   "execution_count": 2,
   "metadata": {},
   "outputs": [
    {
     "name": "stdout",
     "output_type": "stream",
     "text": [
      "2\n"
     ]
    }
   ],
   "source": [
    "def fibonacci(n):\n",
    "    \"\"\"Calculate Fibonacci numbers\"\"\"\n",
    "    if n <= 1:\n",
    "        return n\n",
    "    else:\n",
    "        return fibonacci(n - 1) + fibonacci(n-2)\n",
    "\n",
    "print(fibonacci(3))"
   ]
  },
  {
   "cell_type": "markdown",
   "metadata": {},
   "source": [
    "## What happens if you:\n",
    "\n",
    "* Change the print statment to `print(fibonacci(0))`?\n",
    "* Change the print statment to `print(fibonacci(8))`?\n",
    "* Change the print statment to `print(fibonacci(30))`?"
   ]
  },
  {
   "cell_type": "code",
   "execution_count": 3,
   "metadata": {},
   "outputs": [
    {
     "name": "stdout",
     "output_type": "stream",
     "text": [
      "0\n",
      "21\n",
      "832040\n"
     ]
    }
   ],
   "source": [
    "print(fibonacci(0))\n",
    "print(fibonacci(8))\n",
    "print(fibonacci(30))"
   ]
  },
  {
   "cell_type": "markdown",
   "metadata": {},
   "source": [
    "## Fibonacci Sequence\n",
    "\n",
    "Fibonacci numbers are most often talked about as a sequence. The code below adds the functionality of printing a Fibonacci sequence of predetermined length."
   ]
  },
  {
   "cell_type": "code",
   "execution_count": 23,
   "metadata": {},
   "outputs": [
    {
     "name": "stdout",
     "output_type": "stream",
     "text": [
      "1\t1\t2\t3\t5\t8\t13\t21\t34\t55\t"
     ]
    }
   ],
   "source": [
    "def fibonacci(n):\n",
    "    \"\"\"Calculate Fibonacci numbers\"\"\"\n",
    "    if n <= 1:\n",
    "        return 1\n",
    "    else:\n",
    "        return fibonacci(n-1) + fibonacci(n-2)\n",
    "\n",
    "fibonacci_length = 10\n",
    "for num in range(fibonacci_length):\n",
    "    print(fibonacci(num), end=\"\\t\")"
   ]
  },
  {
   "cell_type": "markdown",
   "metadata": {},
   "source": [
    "## What happens if you:\n",
    "\n",
    "* Change `fibonacci_length` to 30?\n",
    "* Change `fibonacci_length` to 50?"
   ]
  },
  {
   "cell_type": "code",
   "execution_count": 24,
   "metadata": {},
   "outputs": [
    {
     "name": "stdout",
     "output_type": "stream",
     "text": [
      "1\t1\t2\t3\t5\t8\t13\t21\t34\t55\t89\t144\t233\t377\t610\t987\t1597\t2584\t4181\t6765\t10946\t17711\t28657\t46368\t75025\t121393\t196418\t317811\t514229\t832040\t"
     ]
    }
   ],
   "source": [
    "fibonacci_length = 30\n",
    "for num in range(fibonacci_length):\n",
    "    print(fibonacci(num), end=\"\\t\")"
   ]
  },
  {
   "cell_type": "code",
   "execution_count": 26,
   "metadata": {},
   "outputs": [
    {
     "name": "stdout",
     "output_type": "stream",
     "text": [
      "1\t1\t2\t3\t5\t8\t13\t21\t34\t55\t89\t144\t233\t377\t610\t987\t1597\t2584\t4181\t6765\t10946\t17711\t28657\t46368\t75025\t121393\t196418\t317811\t514229\t832040\t1346269\t2178309\t3524578\t5702887\t"
     ]
    }
   ],
   "source": [
    "fibonacci_length = 34\n",
    "for num in range(fibonacci_length):\n",
    "    print(fibonacci(num), end=\"\\t\")"
   ]
  },
  {
   "cell_type": "markdown",
   "metadata": {},
   "source": [
    "<details open=\"\"><summary><strong>Why is Python timing out?</strong></summary>\n",
    "\n",
    "The code written above is terribly inefficient. Each time through the loop, Python is calculating the same Fibonacci numbers again and again. When `num` is 1, Python calculates the Fibonacci numbers for 0 and 1. When `num` is 2, Python is calculating the Fibonacci numbers for 0, 1, and 2. Once `num` becomes large enough, it becomes too much work for Python to have to recalculate these large numbers over and over again. There is a more efficient way to do this by using a data structure called a dictionary. The idea is to store previously calculated Fibonacci numbers in the dictionary. So instead of recalculating the same numbers again and again, you can get these numbers from the dictionary. If a Fibonacci number is not in the dictionary, then calculate it and add it to the dictionary. Data structures are a bit beyond the scope of these lessons, but here is the code of a more efficient way to calculate and print the Fibonacci sequence. Copy and paste the code below into the IDE if you want to run it."
   ]
  },
  {
   "cell_type": "code",
   "execution_count": 29,
   "metadata": {},
   "outputs": [
    {
     "name": "stdout",
     "output_type": "stream",
     "text": [
      "0\t1\t1\t2\t3\t5\t8\t13\t21\t34\t55\t89\t144\t233\t377\t610\t987\t1597\t2584\t4181\t6765\t10946\t17711\t28657\t46368\t75025\t121393\t196418\t317811\t514229\t832040\t1346269\t2178309\t3524578\t5702887\t9227465\t14930352\t24157817\t39088169\t63245986\t102334155\t165580141\t267914296\t433494437\t701408733\t1134903170\t1836311903\t2971215073\t4807526976\t7778742049\t"
     ]
    }
   ],
   "source": [
    "fibcache = {} #dictionary of Fibonacci numbers\n",
    "\n",
    "def fibonacci(n):\n",
    "    \"\"\"Check to see if a Fibonacci number has been calculated (in the dictionary).\n",
    "    If not, add it to the dictionary and return it.\n",
    "    If yes, return the number from the dictionary.\"\"\"\n",
    "    if n not in fibcache.keys():\n",
    "        fibcache[n] = _fibonacci(n)\n",
    "    return fibcache[n]\n",
    "\n",
    "def _fibonacci(n):\n",
    "    \"\"\"Calculate Fibonacci number\"\"\"\n",
    "    if n <= 1:\n",
    "        return n\n",
    "    else:\n",
    "        fib = fibonacci(n-1) + fibonacci(n-2)\n",
    "        return fib\n",
    "    \n",
    "fibonacci_length = 50\n",
    "for num in range(fibonacci_length):\n",
    "    print(fibonacci(num), end=\"\\t\")"
   ]
  },
  {
   "cell_type": "markdown",
   "metadata": {},
   "source": [
    "## Reading Question\n",
    "\n",
    "What is the purpose of the base case in recursion?\n",
    "- The base case tells the function to call itself.\n",
    "- The base case is another name for recursion.\n",
    "- The base case is the name of the recursive function.\n",
    "- **When true, the base case stops the recursive calls and returns a value.**\n",
    "\n",
    "When true, the base case stops the recursive calls and returns a value. In the example of factorial, the base case is when `n` is less than or equal to 1. The function returns `1` and the long line of multiplication happens."
   ]
  }
 ],
 "metadata": {
  "kernelspec": {
   "display_name": "Python 3.10.4 64-bit",
   "language": "python",
   "name": "python3"
  },
  "language_info": {
   "codemirror_mode": {
    "name": "ipython",
    "version": 3
   },
   "file_extension": ".py",
   "mimetype": "text/x-python",
   "name": "python",
   "nbconvert_exporter": "python",
   "pygments_lexer": "ipython3",
   "version": "3.10.4"
  },
  "orig_nbformat": 4,
  "vscode": {
   "interpreter": {
    "hash": "12d9efd1b418ad7485587f2da0512ee7fc7c20b6462fdb2a696d6f33bbf19b58"
   }
  }
 },
 "nbformat": 4,
 "nbformat_minor": 2
}
