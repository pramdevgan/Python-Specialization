{
 "cells": [
  {
   "cell_type": "markdown",
   "metadata": {},
   "source": [
    "# What is Recursion?\n",
    "\n",
    "---\n",
    "\n",
    "## What is Recursion?\n",
    "\n",
    "Solving a coding problem with functions involves breaking down the problem into smaller problems. When these smaller problems are variations of the larger problem (also know as self-similar), then recursion can be used. For example, the mathematical function factorial is self-similar. Five factorial (`5!`) is calculated as `5 * 4 * 3 * 2 * 1`. Mouse over the image below to see that `5!` is really just `5 * 4!`, and `4!` is really just `4 * 3!` and so on.    \n",
    " \n",
    "![](https://i.imgur.com/mLjv5H3.png)   \n",
    "Because `5!` is self-similar, recursion can be used to calculate the answer. Recursive functions are functions that call themselves. Use the Code Visualizer to see how Python handles this recursive function."
   ]
  },
  {
   "cell_type": "code",
   "execution_count": 1,
   "metadata": {},
   "outputs": [
    {
     "name": "stdout",
     "output_type": "stream",
     "text": [
      "120\n"
     ]
    }
   ],
   "source": [
    "def factorial (n):\n",
    "    \"\"\"Calculate factorial recursively.\"\"\"\n",
    "    if n == 1:\n",
    "        return 1\n",
    "    else:\n",
    "        return n * factorial(n - 1)\n",
    "print(factorial(5))"
   ]
  },
  {
   "cell_type": "markdown",
   "metadata": {},
   "source": [
    "Recursion is an abstract and difficult topic, so it might be a bit hard to follow what is going on here. When `n` is 5, Python starts a multiplication problem of `5 * factorial(4)`. The function runs again and the multiplication problem becomes `5 * 4 * factorial(3)`. This continues until `n` is 1. Python returns the value `1`, and Python solves the multiplication problem `5 * 4 * 3 * 2 * 1`. The video below should help explain how `5!` is calculated recursively.   \n",
    "![]()\n",
    "<video width=\"320\" height=\"240\" controls>\n",
    "  <source src=\"https://canyongorilla-factorsilence.codio.io/.guides/video/recursion-video.m4v\" type=\"video/mp4\" controls=\"autoplay>\n",
    "</video>"
   ]
  },
  {
   "cell_type": "markdown",
   "metadata": {},
   "source": [
    "## The Base Case\n",
    "\n",
    "Each recursive function has two parts: the recursive case (where the function calls itself with a different parameter) and the base case (where the function stops calling itself and returns a value).\n",
    "\n",
    "![Cases for Recursion](https://apollo-media.codio.com/media/1/3e9e3931be856d0ec0afa9bb9d932894-a98d5cad-7b26-4010-b77b-70da94706c21.webp)\n",
    "\n",
    "The base case is the most important part of a recursive function. Without it, the function will never stop calling itself. Like an infinite loop, Python will stop the program with an error."
   ]
  },
  {
   "cell_type": "code",
   "execution_count": null,
   "metadata": {},
   "outputs": [
    {
     "ename": "",
     "evalue": "",
     "output_type": "error",
     "traceback": [
      "\u001b[1;31mCanceled future for execute_request message before replies were done"
     ]
    },
    {
     "ename": "",
     "evalue": "",
     "output_type": "error",
     "traceback": [
      "The Kernel crashed while executing code in the the current cell or a previous cell. Please review the code in the cell(s) to identify a possible cause of the failure. Click <a href='https://aka.ms/vscodeJupyterKernelCrash'>here</a> for more info. View Jupyter <a href='command:jupyter.viewOutput'>log</a> for further details."
     ]
    }
   ],
   "source": [
    "def factorial(n):\n",
    "    \"\"\"Recursion without a base case.\"\"\"\n",
    "    return n * factorial(n - 1)\n",
    "\n",
    "print(factorial(5))"
   ]
  },
  {
   "cell_type": "markdown",
   "metadata": {},
   "source": [
    "Always start with the base case when creating a recursive function. Each time the function is called recursively, the program should get one step closer to the base case.\n",
    "\n",
    "## What happens if you:\n",
    "\n",
    "* Add a base case for the `factorial` function?\n",
    "* Change the print statement to `print(factorial(0))`?\n",
    "\n",
    "Modify the base case so that `factorial(0)` does not result in an error. Test your new base case with a negative number."
   ]
  },
  {
   "cell_type": "markdown",
   "metadata": {},
   "source": [
    "## What happens if you:\n",
    "\n",
    "* Add a base case for the `factorial` function?\n",
    "* Change the print statement to `print(factorial(0))`?\n",
    "\n",
    "Modify the base case so that `factorial(0)` does not result in an error. Test your new base case with a negative number.\n",
    "\n",
    "<details open=\"\"><summary><strong>Solution</strong></summary>\n",
    "\n",
    "The [factorial operation](https://en.wikipedia.org/wiki/Factorial) only works with positive integers. So the base case should be `if n <= 0:`.\n",
    "\n",
    "</details>"
   ]
  },
  {
   "cell_type": "code",
   "execution_count": 2,
   "metadata": {},
   "outputs": [
    {
     "name": "stdout",
     "output_type": "stream",
     "text": [
      "0\n"
     ]
    }
   ],
   "source": [
    "def factorial(n):\n",
    "    \"\"\"Recursion without a base case.\"\"\"\n",
    "    if n <= 0:\n",
    "        return n == 1\n",
    "    else:\n",
    "        return n * factorial(n - 1)\n",
    "\n",
    "print(factorial(5))"
   ]
  },
  {
   "cell_type": "code",
   "execution_count": 1,
   "metadata": {},
   "outputs": [
    {
     "ename": "NameError",
     "evalue": "name 'factorial' is not defined",
     "output_type": "error",
     "traceback": [
      "\u001b[1;31m---------------------------------------------------------------------------\u001b[0m",
      "\u001b[1;31mNameError\u001b[0m                                 Traceback (most recent call last)",
      "\u001b[1;32mc:\\Users\\vpram\\Python Specialization\\Course 3  Python Object Basics - Functions, Recursion, and Objects\\Week 2 Recursion\\1 What is Recursion\\1 What is Recursion.ipynb Cell 9\u001b[0m in \u001b[0;36m<module>\u001b[1;34m\u001b[0m\n\u001b[1;32m----> <a href='vscode-notebook-cell:/c%3A/Users/vpram/Python%20Specialization/Course%203%20%20Python%20Object%20Basics%20-%20Functions%2C%20Recursion%2C%20and%20Objects/Week%202%20Recursion/1%20What%20is%20Recursion/1%20What%20is%20Recursion.ipynb#X13sZmlsZQ%3D%3D?line=0'>1</a>\u001b[0m \u001b[39mprint\u001b[39m(factorial(\u001b[39m0\u001b[39m))\n",
      "\u001b[1;31mNameError\u001b[0m: name 'factorial' is not defined"
     ]
    }
   ],
   "source": [
    "print(factorial(0))"
   ]
  },
  {
   "cell_type": "markdown",
   "metadata": {},
   "source": [
    "## Reading Question\n",
    "\n",
    "Under what circumstances does it make sense to use recursion?\n",
    "- Recursion can be used at any time\n",
    "- **Recursion works best when the solution is self-similar**\n",
    "- Recursion is too hard; avoid it at all costs\n",
    "- Recursion only works with mathematical concepts like factorial and the Fibonacci sequence\n",
    "\n",
    "Recursion works best when the solution is self-similar. That is, when the problem is broken down into smaller parts, and the smaller parts are a variation of the large problem."
   ]
  }
 ],
 "metadata": {
  "kernelspec": {
   "display_name": "Python 3.10.4 64-bit",
   "language": "python",
   "name": "python3"
  },
  "language_info": {
   "codemirror_mode": {
    "name": "ipython",
    "version": 3
   },
   "file_extension": ".py",
   "mimetype": "text/x-python",
   "name": "python",
   "nbconvert_exporter": "python",
   "pygments_lexer": "ipython3",
   "version": "3.10.4"
  },
  "orig_nbformat": 4,
  "vscode": {
   "interpreter": {
    "hash": "12d9efd1b418ad7485587f2da0512ee7fc7c20b6462fdb2a696d6f33bbf19b58"
   }
  }
 },
 "nbformat": 4,
 "nbformat_minor": 2
}
