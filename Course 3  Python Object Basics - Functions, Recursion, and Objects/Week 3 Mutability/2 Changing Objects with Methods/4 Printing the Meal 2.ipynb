{
 "cells": [
  {
   "cell_type": "markdown",
   "metadata": {},
   "source": [
    "# Printing the Meal 2\n",
    "\n",
    "## One Item Was Served\n",
    "\n",
    "This is a simple case. If only one item is served, that item should be capitalized followed by `\" was served with the meal.\"`. Use the `capitalize` method to capitalize the first letter of a string.\n",
    "\n",
    "```python\n",
    "def print_meal(self):\n",
    "    \"\"\"Prints the meal\"\"\"\n",
    "    courses = [self.drinks, self.appetizers, self.main_course, self.desserts]\n",
    "    for position in range(4):\n",
    "      course = courses[position]\n",
    "      if len(course) == 0: #check for an empty list\n",
    "        print(f\"No {self.course_name(position)} served with the meal.\")\n",
    "      elif len(course) == 1: #check for only one item\n",
    "        print(f\"{course[0].capitalize()} was served with the meal.\")\n",
    "```\n",
    "\n",
    "**Note** , remove the comment symbol `#` for `dinner.add_dessert(\"chocolate cake\")`."
   ]
  },
  {
   "cell_type": "markdown",
   "metadata": {},
   "source": [
    "## Two Items Were Served\n",
    "\n",
    "If there are two items being served, the first item should be capitalized followed by `and` and the second item. The sentence will end with `\" were served with the meal.\"`."
   ]
  },
  {
   "cell_type": "markdown",
   "metadata": {},
   "source": [
    "```python\n",
    "def print_meal(self):\n",
    "    \"\"\"Prints the meal\"\"\"\n",
    "    courses = [self.drinks, self.appetizers, self.main_course, self.desserts]\n",
    "    for position in range(4):\n",
    "      course = courses[position]\n",
    "      if len(course) == 0: #check for an empty list\n",
    "        print(f\"No {self.course_name(position)} served with the meal.\")\n",
    "      elif len(course) == 1: #check for only one item\n",
    "        print(f\"{course[0].capitalize()} was served with the meal.\")\n",
    "      elif len(course) == 2: #check for only two items\n",
    "        print(f\"{course[0].capitalize()} and {course[1]} were served with the meal.\")\n",
    "```"
   ]
  },
  {
   "cell_type": "markdown",
   "metadata": {},
   "source": [
    "**Note** , remove the comment symbol `#` for `dinner.add_drink(\"water\")` and `dinner.add_drink(\"coffee\")`."
   ]
  },
  {
   "cell_type": "markdown",
   "metadata": {},
   "source": [
    "## More than Two Items Were Served\n",
    "\n",
    "If more than two items are served, then you need a comma-separated list. The first item should be capitalized followed by a comma and a space. The next items are followed by commas and spaces. The final item in the list is prefaced with `and`. No comma is used after the last item. The sentence ends with `\" were served with the meal.\"`. Remember, the final print statement needs to add a new line character. Be sure that it does not have `end=\"\"` in it.\n",
    "\n",
    "```python\n",
    "def print_meal(self):\n",
    "    \"\"\"Prints the meal\"\"\"\n",
    "    courses = [self.drinks, self.appetizers, self.main_course, self.desserts]\n",
    "    for position in range(4):\n",
    "      course = courses[position]\n",
    "      if len(course) == 0: #check for an empty list\n",
    "        print(f\"No {self.course_name(position)} served with the meal.\")\n",
    "      elif len(course) == 1: #check for only one item\n",
    "        print(f\"{course[0].capitalize()} was served with the meal.\")\n",
    "      elif len(course) == 2: #check for only two items\n",
    "        print(f\"{course[0].capitalize()} and {course[1]} were served with the meal.\")\n",
    "      else: #many items were served\n",
    "        for item in course:\n",
    "          if course.index(item) == 0: #check to see if first element\n",
    "            print(f\"{item.capitalize()}, \", end=\"\")\n",
    "          elif item == course[-1]: #check to see if last element\n",
    "            print(f\"and {item} \", end=\"\")\n",
    "          else:\n",
    "            print(f\"{item}, \", end=\"\")\n",
    "        print(\"were served with the meal.\")\n",
    "```"
   ]
  },
  {
   "cell_type": "code",
   "execution_count": 5,
   "metadata": {},
   "outputs": [],
   "source": [
    "class Meal:\n",
    "    \"\"\"Class to represent a meal\"\"\"\n",
    "    def __init__(self):\n",
    "        self.drinks = []\n",
    "        self.appetizers = []\n",
    "        self.courses = []\n",
    "        self.desserts = []\n",
    "    \n",
    "    def add_drink(meal, drink):\n",
    "        \"\"\"Add a drink (d) to the meal (m)\"\"\"\n",
    "        meal.drinks.append(drink)\n",
    "\n",
    "    def add_appetizer(meal, appetizer):\n",
    "        \"\"\"Add an appetizer (a) to the meal (m)\"\"\"\n",
    "        meal.appetizers.append(appetizer)\n",
    "\n",
    "    def add_course(meal, course):\n",
    "        \"\"\"Add a course (course) to the meal (meal)\"\"\"\n",
    "        meal.courses.append(course)\n",
    "\n",
    "    def add_dessert(meal, dessert):\n",
    "        \"\"\"Add a dessert (dessert) to the meal (meal)\"\"\"\n",
    "        meal.desserts.append(dessert)\n",
    "\n",
    "    def course_name (self, position):\n",
    "        if position == 0:\n",
    "            return \"drinks were\"\n",
    "        elif position == 1:\n",
    "            return \"appetizers were\"\n",
    "        elif position == 2:\n",
    "            return \"main course was\"\n",
    "        elif position == 3:\n",
    "            return \"dessert was\"\n",
    "\n",
    "    def print_meal(self):\n",
    "        courses = [self.drinks,  self.appetizers, self.courses, self.desserts]\n",
    "        for position in range(4):\n",
    "            course = courses[position]\n",
    "            if len(course) == 0: #check for an empty list\n",
    "                print(f\"No {self.course_name(position)} served with the meal\")\n",
    "            elif len(course) == 1: #check for only one item\n",
    "                print(f\"{course[0].capitalize()} was served with the meal.\")\n",
    "            elif len(course) == 2: #check for only two items\n",
    "                print(f\"{course[0].capitalize()} and {course[1]} were served with the meal.\")\n",
    "            else: # many items were served\n",
    "                for item in course:\n",
    "                    if course.index(item) == 0: # check to see if first element\n",
    "                        print(f\"{item.capitalize()}, \", end=\"\")\n",
    "                    elif item == course[-1]: # check to see if last element\n",
    "                        print(f\"and {item} \", end=\"\")\n",
    "                    else:\n",
    "                        print(f\"{item}, \", end=\"\")\n",
    "                print(\"were served with the meal\")"
   ]
  },
  {
   "cell_type": "code",
   "execution_count": 6,
   "metadata": {},
   "outputs": [
    {
     "name": "stdout",
     "output_type": "stream",
     "text": [
      "White wine was served with the meal.\n",
      "Tapenade and antipasto were served with the meal.\n",
      "Cauliflower bolognese, butternut squash soup, and kale salad were served with the meal\n",
      "No dessert was served with the meal\n"
     ]
    }
   ],
   "source": [
    "dinner = Meal()\n",
    "dinner.add_drink(\"white wine\")\n",
    "dinner.add_appetizer(\"tapenade\")\n",
    "dinner.add_appetizer(\"antipasto\")\n",
    "dinner.add_course(\"cauliflower bolognese\")\n",
    "dinner.add_course(\"butternut squash soup\")\n",
    "dinner.add_course(\"kale salad\")\n",
    "dinner.print_meal()"
   ]
  },
  {
   "cell_type": "markdown",
   "metadata": {},
   "source": [
    "## Reading Question\n",
    "\n",
    "Assume the class `Author` is defined as follows:\n",
    "\n",
    "```python\n",
    "class Author:\n",
    "  def __init__(self, name, famous_book):\n",
    "    self.name = name\n",
    "    self.book = famous_book\n",
    "```\n",
    "\n",
    "Fill in the blanks below so that the method `print_author` is correct.\n",
    "\n",
    "```python\n",
    "def print_author():\n",
    "  print(f\"{} is known for their book {}.\")\n",
    "```"
   ]
  },
  {
   "cell_type": "markdown",
   "metadata": {},
   "source": [
    "### ***Solution***"
   ]
  },
  {
   "cell_type": "code",
   "execution_count": 7,
   "metadata": {},
   "outputs": [],
   "source": [
    "class Author:\n",
    "    def __init__(self, name, famous_book):\n",
    "        self.name = name\n",
    "        self.book = famous_book\n",
    "\n",
    "    def print_author(self):\n",
    "        print(f\"{self.name} is know for their book {self.book}\")"
   ]
  },
  {
   "cell_type": "code",
   "execution_count": 8,
   "metadata": {},
   "outputs": [],
   "source": [
    "param = Author(\"Param\", \"Intro to Python\")"
   ]
  },
  {
   "cell_type": "code",
   "execution_count": null,
   "metadata": {},
   "outputs": [
    {
     "name": "stdout",
     "output_type": "stream",
     "text": [
      "Param is know for their book Intro to Python\n"
     ]
    }
   ],
   "source": [
    "param.print_author()"
   ]
  },
  {
   "cell_type": "markdown",
   "metadata": {},
   "source": [
    "Instance methods always take `self` as the first parameter. Accessing instance variables is done with `self.` plus the variable’s name. So accessing the `name` and `book` attributes is done with `self.name` and `self.book` respectively."
   ]
  }
 ],
 "metadata": {
  "kernelspec": {
   "display_name": "Python 3.11.0 64-bit",
   "language": "python",
   "name": "python3"
  },
  "language_info": {
   "codemirror_mode": {
    "name": "ipython",
    "version": 3
   },
   "file_extension": ".py",
   "mimetype": "text/x-python",
   "name": "python",
   "nbconvert_exporter": "python",
   "pygments_lexer": "ipython3",
   "version": "3.11.0"
  },
  "orig_nbformat": 4,
  "vscode": {
   "interpreter": {
    "hash": "cfebaf9e48837dc440118a5254a217b2fe7848380d0f089486e02fcdd00d89a2"
   }
  }
 },
 "nbformat": 4,
 "nbformat_minor": 2
}
