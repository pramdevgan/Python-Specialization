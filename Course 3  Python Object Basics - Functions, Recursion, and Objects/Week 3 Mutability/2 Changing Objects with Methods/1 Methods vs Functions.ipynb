{
 "cells": [
  {
   "cell_type": "markdown",
   "metadata": {},
   "source": [
    "# Methods vs Functions\n",
    "\n",
    "---\n",
    "\n",
    "## Methods\n",
    "\n",
    "Back in the introduction to classes and objects lesson, a class was defined as “a collection of data and the actions that can modify the data.” The constructor built the \"collection of data\", but nothing in the class modified the data. Instead, external functions were used to modify the object.\n",
    "\n",
    "Instead of functions, methods should be used to modify an object. Think of a method as an function that is attached to an object. The instance method is the most common type of method. Notice how instance methods are declared inside of the class. The keyword `self` is used to represent the instance being modified by the method. These methods are called instance methods because they have access to the instance variables (the attributes declared in the constructor). Methods are invoked using dot-notation.\n",
    "\n",
    "<details open=\"\"><summary><strong>Method versus Instance Method</strong></summary>\n",
    "\n",
    "Instance methods are the most common type of methods in Python. They are so common that when programmers say \"method\" they often mean an instance method.\n",
    "\n",
    "</details>\n",
    "\n",
    "![Functions vs Methods](https://apollo-media.codio.com/media%2F1%2Fdfc8535e7b249fbdbd5acfdbb25c9012-af7512cdd3653a4d.webp)\n",
    "\n",
    "When mutability was first introduced, you made a `Player` class with a few functions. You are now going to transform these functions into methods. The `Player` class will be defined just as before. This time, however, `print_player` will be a part of class (indented to match the constructor), `self` replaces `p` to represent the `Player` object being modified, and the method is called using dot-notation.# Methods vs Functions\n",
    "\n",
    "---\n",
    "\n",
    "## Methods\n",
    "\n",
    "Back in the introduction to classes and objects lesson, a class was defined as “a collection of data and the actions that can modify the data.” The constructor built the \"collection of data\", but nothing in the class modified the data. Instead, external functions were used to modify the object.\n",
    "\n",
    "Instead of functions, methods should be used to modify an object. Think of a method as an function that is attached to an object. The instance method is the most common type of method. Notice how instance methods are declared inside of the class. The keyword `self` is used to represent the instance being modified by the method. These methods are called instance methods because they have access to the instance variables (the attributes declared in the constructor). Methods are invoked using dot-notation.\n",
    "\n",
    "<details open=\"\"><summary><strong>Method versus Instance Method</strong></summary>\n",
    "\n",
    "Instance methods are the most common type of methods in Python. They are so common that when programmers say \"method\" they often mean an instance method.\n",
    "\n",
    "</details>\n",
    "\n",
    "![Functions vs Methods](https://apollo-media.codio.com/media%2F1%2Fdfc8535e7b249fbdbd5acfdbb25c9012-af7512cdd3653a4d.webp)\n",
    "\n",
    "When mutability was first introduced, you made a `Player` class with a few functions. You are now going to transform these functions into methods. The `Player` class will be defined just as before. This time, however, `print_player` will be a part of class (indented to match the constructor), `self` replaces `p` to represent the `Player` object being modified, and the method is called using dot-notation."
   ]
  },
  {
   "cell_type": "code",
   "execution_count": 2,
   "metadata": {},
   "outputs": [
    {
     "name": "stdout",
     "output_type": "stream",
     "text": [
      "This player has 100 health, a score of 0, and is on level 1.\n"
     ]
    }
   ],
   "source": [
    "class Player:\n",
    "    \"\"\"Simple player class\"\"\"\n",
    "    def __init__(self, health = 100, score = 0, level = 1):\n",
    "        self.health = health\n",
    "        self.score = score\n",
    "        self.level = level\n",
    "\n",
    "    def print_player(self):\n",
    "        \"\"\"Print the status of a player\"\"\"\n",
    "        if self.health <= 0:\n",
    "            print(f\"This player is dead. They died on level {self.level} with a score of {self.score}.\")\n",
    "        else:\n",
    "            print(f\"This player has {self.health} health, a score of {self.score}, and is on level {self.level}.\")\n",
    "\n",
    "mario = Player()\n",
    "mario.print_player()"
   ]
  },
  {
   "cell_type": "markdown",
   "metadata": {},
   "source": [
    "<details open=\"\"><summary><strong>What does<span> </span><code>self</code><span> </span>mean?</strong></summary>\n",
    "\n",
    "`self` is required as the first parameter for instance methods. It gives the method access to the instance variables. Without `self`, `print_player` would not be able to \"see\" the `health`, `score`, and `level` instance variables for `mario`. Remove `self` from the `print_player` definition, and Python will return an error message.\n",
    "\n",
    "</details>"
   ]
  },
  {
   "cell_type": "markdown",
   "metadata": {},
   "source": [
    "## Try this variation:\n",
    "\n",
    "Call `print_player` like this?\n",
    "\n",
    "```python\n",
    "mario = Player()\n",
    "print_player(mario)\n",
    "```"
   ]
  },
  {
   "cell_type": "code",
   "execution_count": 3,
   "metadata": {},
   "outputs": [
    {
     "ename": "NameError",
     "evalue": "name 'print_player' is not defined",
     "output_type": "error",
     "traceback": [
      "\u001b[1;31m---------------------------------------------------------------------------\u001b[0m",
      "\u001b[1;31mNameError\u001b[0m                                 Traceback (most recent call last)",
      "Cell \u001b[1;32mIn [3], line 2\u001b[0m\n\u001b[0;32m      1\u001b[0m mario \u001b[39m=\u001b[39m Player()\n\u001b[1;32m----> 2\u001b[0m print_player(mario)\n",
      "\u001b[1;31mNameError\u001b[0m: name 'print_player' is not defined"
     ]
    }
   ],
   "source": [
    "mario = Player()\n",
    "print_player(mario)"
   ]
  },
  {
   "cell_type": "markdown",
   "metadata": {},
   "source": [
    "<details open=\"\"><summary><strong>Why did this generate an error?</strong></summary>\n",
    "\n",
    "Python says that `print_player` is not defined even though the definition is on line 8. Because nothing comes before `print_player`, Python assumes that this is a function. However, `print_player` is indented inside the `Player` class, which means it is a method. Methods must be called with dot-notation like `mario.print_player()`.\n",
    "</details>"
   ]
  },
  {
   "cell_type": "markdown",
   "metadata": {},
   "source": [
    "## More Player Methods\n",
    "\n",
    "The next methods to add to the `Player` class are those to print the `health` and `level` of the `Player` instance. Start with the method `change_health`. This method takes `self` and the `amount` of change as parameters. `change_health` will add `amount` to the `health` attribute. If a player’s health increases, `amount` is positive. If their health decreases, `amount` is negative. Remember, make sure `change_health` is indented so that it is a part of the `Player` class.\n",
    "```python\n",
    "  def change_health(self, amount):\n",
    "    \"\"\"Change a player's health\"\"\"\n",
    "    self.health += amount\n",
    "```"
   ]
  },
  {
   "cell_type": "code",
   "execution_count": 4,
   "metadata": {},
   "outputs": [
    {
     "name": "stdout",
     "output_type": "stream",
     "text": [
      "This player has 90 health, a score of 0, and is on level 1.\n"
     ]
    }
   ],
   "source": [
    "class Player:\n",
    "    \"\"\"Simple player class\"\"\"\n",
    "    def __init__(self, health = 100, score = 0, level = 1):\n",
    "        self.health = health\n",
    "        self.score = score\n",
    "        self.level = level\n",
    "\n",
    "    def print_player(self):\n",
    "        \"\"\"Print the status of a player\"\"\"\n",
    "        if self.health <= 0:\n",
    "            print(f\"This player is dead. They died on level {self.level} with a score of {self.score}.\")\n",
    "        else:\n",
    "            print(f\"This player has {self.health} health, a score of {self.score}, and is on level {self.level}.\")\n",
    "\n",
    "    def change_health(self, amount):\n",
    "        \"\"\"Change a player's health\"\"\"\n",
    "        self.health += amount\n",
    "mario = Player()\n",
    "mario.change_health(-10)\n",
    "mario.print_player()"
   ]
  },
  {
   "cell_type": "markdown",
   "metadata": {},
   "source": [
    "The method `change_level` is going to be similar to `change_health` except for one difference. `change_level` only needs one parameter, `self`. In video games, players go up in levels; rarely do they decrease. So the `level` attribute will increase by one when the method is called. This method also needs to be indented so it is a part of the `Player` class.\n",
    "\n",
    "```python\n",
    "  def change_level(self):\n",
    "    \"\"\"Change a player's level\"\"\"\n",
    "    self.level += 1\n",
    "```"
   ]
  },
  {
   "cell_type": "code",
   "execution_count": 5,
   "metadata": {},
   "outputs": [
    {
     "name": "stdout",
     "output_type": "stream",
     "text": [
      "This player has 100 health, a score of 0, and is on level 1.\n",
      "This player has 90 health, a score of 0, and is on level 1.\n"
     ]
    }
   ],
   "source": [
    "class Player:\n",
    "    \"\"\"Simple player class\"\"\"\n",
    "    def __init__(self, health = 100, score = 0, level = 1):\n",
    "        self.health = health\n",
    "        self.score = score\n",
    "        self.level = level\n",
    "\n",
    "    def print_player(self):\n",
    "        \"\"\"Print the status of a player\"\"\"\n",
    "        if self.health <= 0:\n",
    "            print(f\"This player is dead. They died on level {self.level} with a score of {self.score}.\")\n",
    "        else:\n",
    "            print(f\"This player has {self.health} health, a score of {self.score}, and is on level {self.level}.\")\n",
    "\n",
    "    def change_health(self, amount):\n",
    "        \"\"\"Change a player's health\"\"\"\n",
    "        self.health += amount\n",
    "    \n",
    "    def change_level(self):\n",
    "        \"\"\"Change a player's level\"\"\"\n",
    "        self.level =+ 1\n",
    "mario = Player()\n",
    "mario.print_player()\n",
    "mario.change_health(-10)\n",
    "mario.change_level()\n",
    "mario.print_player()"
   ]
  },
  {
   "cell_type": "markdown",
   "metadata": {},
   "source": [
    "## Try these variations:\n",
    "\n",
    "* Call `change_health` and `chagne_level` for `mario`, and then print the player to make sure the methods work.\n",
    "\n",
    "<details open=\"\"><summary><strong>One possible solution</strong></summary>\n",
    "\n",
    "```python\n",
    "mario = Player()\n",
    "mario.print_player()\n",
    "mario.change_health(-10)\n",
    "mario.change_level()\n",
    "mario.print_player()\n",
    "```\n",
    "\n",
    "</details>\n",
    "\n",
    "* Create a method to change a player’s score?\n",
    "\n",
    "<details open=\"\"><summary><strong>One possible solution</strong></summary>\n",
    "\n",
    "```python\n",
    "def change_score(self, amount):\n",
    "  \"\"\"Change a player's score\"\"\"\n",
    "  self.score += amount\n",
    "```\n",
    "\n",
    "</details>"
   ]
  },
  {
   "cell_type": "code",
   "execution_count": 6,
   "metadata": {},
   "outputs": [
    {
     "name": "stdout",
     "output_type": "stream",
     "text": [
      "This player has 100 health, a score of 0, and is on level 1.\n",
      "This player has 89 health, a score of 0, and is on level 1.\n"
     ]
    }
   ],
   "source": [
    "param = Player()\n",
    "param.print_player()\n",
    "param.change_health(-11)\n",
    "param.change_level()\n",
    "param.print_player()"
   ]
  },
  {
   "cell_type": "code",
   "execution_count": 7,
   "metadata": {},
   "outputs": [
    {
     "name": "stdout",
     "output_type": "stream",
     "text": [
      "This player has 100 health, a score of 0, and is on level 1.\n",
      "This player has 105 health, a score of 14, and is on level 1.\n",
      "This player has 105 health, a score of 19, and is on level 1.\n"
     ]
    }
   ],
   "source": [
    "class Player:\n",
    "    \"\"\"Simple player class\"\"\"\n",
    "    def __init__(self, health = 100, score = 0, level = 1):\n",
    "        self.health = health\n",
    "        self.score = score\n",
    "        self.level = level\n",
    "\n",
    "    def print_player(self):\n",
    "        \"\"\"Print the status of a player\"\"\"\n",
    "        if self.health <= 0:\n",
    "            print(f\"This player is dead. They died on level {self.level} with a score of {self.score}.\")\n",
    "        else:\n",
    "            print(f\"This player has {self.health} health, a score of {self.score}, and is on level {self.level}.\")\n",
    "\n",
    "    def change_health(self, amount):\n",
    "        \"\"\"Change a player's health\"\"\"\n",
    "        self.health += amount\n",
    "    \n",
    "    def change_level(self):\n",
    "        \"\"\"Change a player's level\"\"\"\n",
    "        self.level =+ 1\n",
    "    def change_score(self, amount):\n",
    "        \"\"\"Change a player's score\"\"\"\n",
    "        self.score += amount\n",
    "\n",
    "sweta = Player()\n",
    "sweta.print_player()\n",
    "sweta.change_health(5)\n",
    "sweta.change_level()\n",
    "sweta.change_score(14)\n",
    "sweta.print_player()\n",
    "sweta.change_score(5)\n",
    "sweta.print_player()"
   ]
  },
  {
   "cell_type": "markdown",
   "metadata": {},
   "source": [
    "<details open=\"\"><summary><strong>Why learn about functions that modify objects when Python has methods?</strong></summary>\n",
    "\n",
    "It might seem like a waste of time to learn how to write functions that modify objects. But this approach builds upon concepts you have already seen — functions and objects. This allows you to understand mutability without having to worry about methods. Once you understand how these ideas work, transforming a function into a method is much simpler. Functions that modify objects serve as an intermediary step on the way to learning about methods.\n",
    "</details>"
   ]
  },
  {
   "cell_type": "markdown",
   "metadata": {},
   "source": [
    "## Reading Question\n",
    "\n",
    "Fill in the blanks with either **function** , **instance method** , or **functions and methods** so that the sentence is correct.\n",
    "\n",
    "An **instance method** has the parameter 'self’.\n",
    "\n",
    "A **function** is declared outside of a class.\n",
    "\n",
    "**Functions and methods** can modify an object.\n",
    "\n",
    "The correct answers are:\n",
    "```text\n",
    "An instance method has the parameter 'self’.\n",
    "A function is declared outside of a class.\n",
    "Functions and methods can modify an object.\n",
    "\n",
    "Instance methods use `self` as a parameter while functions do not. Functions are declared outside of a class, while methods are declared inside a class. Both functions and methods can modify an object.\n",
    "```"
   ]
  }
 ],
 "metadata": {
  "kernelspec": {
   "display_name": "Python 3.11.0 64-bit",
   "language": "python",
   "name": "python3"
  },
  "language_info": {
   "codemirror_mode": {
    "name": "ipython",
    "version": 3
   },
   "file_extension": ".py",
   "mimetype": "text/x-python",
   "name": "python",
   "nbconvert_exporter": "python",
   "pygments_lexer": "ipython3",
   "version": "3.11.0"
  },
  "orig_nbformat": 4,
  "vscode": {
   "interpreter": {
    "hash": "cfebaf9e48837dc440118a5254a217b2fe7848380d0f089486e02fcdd00d89a2"
   }
  }
 },
 "nbformat": 4,
 "nbformat_minor": 2
}
