{
 "cells": [
  {
   "cell_type": "markdown",
   "metadata": {},
   "source": [
    "# More Methods\n",
    "\n",
    "---\n",
    "\n",
    "## More on Methods and Objects\n",
    "\n",
    "Changes to objects should happen exclusively through methods. This makes your code easier to organize and easier for others to understand. Imagine you are going to create a class that keeps track of a meal. In this case, a meal can be thought of as all of the drinks, appetizers, courses, and desserts served. Each one of these categories will become an instance variable. Assign each attribute an empty list with the constructor, and create an instance of the `Meal` class.\n",
    "```python\n",
    "class Meal:\n",
    "    \"\"\"Class to represent a meal\"\"\"\n",
    "    def __init__(self):\n",
    "        self.drinks = []\n",
    "        self.appetizers = []\n",
    "        self.main_course = []\n",
    "        self.desserts = []\n",
    "dinner = Meal()\n",
    "```"
   ]
  },
  {
   "cell_type": "markdown",
   "metadata": {},
   "source": [
    "Next, add a method to add a drink to `dinner`. `self.drinks` is used to access the list of drinks, and `.append` is the command to add an element to the list. So `self.drinks.append(d)` adds the drink `d` to the list `drinks`. Test your code to make sure it is working as expected. Remember to indent `add_drink` so that it is a part of the `Meal` class.\n",
    "\n",
    "```python\n",
    "  def add_drink(self, d):\n",
    "    \"\"\"Add a drink (d) to the meal (self)\"\"\"\n",
    "    self.drinks.append(d)\n",
    "  \n",
    "dinner = Meal()\n",
    "dinner.add_drink(\"water\")\n",
    "print(dinner.drinks)\n",
    "```"
   ]
  },
  {
   "cell_type": "markdown",
   "metadata": {},
   "source": [
    "Now create the `add_appetizer` method to the class. Like the method above, `add_appetizer` accepts a string as a parameter and appends it to the `appetizers` attribute. Add `\"bruschetta\"` to the `dinner` instance and print it.\n",
    "\n",
    "```python\n",
    "  def add_appetizer(self, a):\n",
    "    \"\"\"Add an appetizer (a) to the meal (self)\"\"\"\n",
    "    self.appetizers.append(a)\n",
    "  \n",
    "dinner = Meal()\n",
    "dinner.add_drink(\"water\")\n",
    "print(dinner.drinks)\n",
    "dinner.add_appetizer(\"bruschetta\")\n",
    "print(dinner.appetizers)\n",
    "```"
   ]
  },
  {
   "cell_type": "markdown",
   "metadata": {},
   "source": [
    "## Create the following methods:\n",
    "\n",
    "* `add_course` - accepts a string which represents a course and adds it to the meal.\n",
    "* `add_dessert` - accepts a string which represents a dessert and adds it to the meal.\n",
    "\n",
    "Test your code using `\"roast chicken\"` as a main course and `\"chocolate cake\"` as a dessert. Then print out each course of the meal.## Create the following methods:\n",
    "```python\n",
    "def add_course(self, c):\n",
    "  \"\"\"Add a course (c) to the meal (m)\"\"\"\n",
    "  self.courses.append(c)\n",
    "```\n",
    "\n",
    "```python\n",
    "def add_dessert(self, d):\n",
    "  \"\"\"Add a dessert (d) to the meal (m)\"\"\"\n",
    "  self.desserts.append(d)\n",
    "```"
   ]
  },
  {
   "cell_type": "code",
   "execution_count": 2,
   "metadata": {},
   "outputs": [
    {
     "name": "stdout",
     "output_type": "stream",
     "text": [
      "['water']\n",
      "['bruschetta']\n",
      "['roast chicken']\n",
      "['chocolate cake']\n"
     ]
    }
   ],
   "source": [
    "class Meal:\n",
    "    \"\"\"Class to represent a meal\"\"\"\n",
    "\n",
    "    def __init__(self):\n",
    "        self.drinks = []\n",
    "        self.appetizer = []\n",
    "        self.courses = []\n",
    "        self.dessert = []\n",
    "\n",
    "dinner = Meal()\n",
    "\n",
    "def add_drinks(m, drink):\n",
    "    \"\"\"Add a drink (drink) to the meal (self)\"\"\"\n",
    "    m.drinks.append(drink)\n",
    "\n",
    "def add_appetizer(m, appet):\n",
    "    \"\"\"Add an appetizer (appet) to the meal (self)\"\"\"\n",
    "    m.appetizer.append(appet)\n",
    "\n",
    "def add_course(m, cour):\n",
    "    \"\"\"Add a course (cour) to the meal (self)\"\"\"\n",
    "    m.courses.append(cour)\n",
    "\n",
    "def add_dessert(m, dess):\n",
    "    \"\"\"Add a dessert (dess) to the meal (self)\"\"\"\n",
    "    m.dessert.append(dess)\n",
    "\n",
    "add_drinks(dinner, \"water\")\n",
    "add_appetizer(dinner, \"bruschetta\")\n",
    "add_course(dinner, \"roast chicken\")\n",
    "add_dessert(dinner, \"chocolate cake\")\n",
    "\n",
    "print(dinner.drinks)\n",
    "print(dinner.appetizer)\n",
    "print(dinner.courses)\n",
    "print(dinner.dessert)"
   ]
  },
  {
   "cell_type": "markdown",
   "metadata": {},
   "source": [
    "## Reading Question\n",
    "\n",
    "Assume you have the `Person` class as defined below, and `alice` is an instance of the `Person` class:\n",
    "\n",
    "```python\n",
    "class Person:\n",
    "  def __init__(self, name, age):\n",
    "    self.name = name\n",
    "    self.age = age\n",
    "\n",
    "alice = Person(\"Alice\", 32)\n",
    "```\n",
    "\n",
    "Using the code blocks below to create a method called `birthday` that adds a year to Alice’s age. **Note** , not all of the code blocks will be used, but you **must** add a docstring to your function.\n",
    "\n",
    "Drag from here\n",
    "\n",
    "* def birthday(p):\n",
    "* self.age += 1\n",
    "* def birthday(self):\n",
    "* \"\"\"Add a year to a person's age\"\"\"\n",
    "* age += 1\n",
    "\n",
    "Construct your solution here"
   ]
  },
  {
   "cell_type": "code",
   "execution_count": 20,
   "metadata": {},
   "outputs": [
    {
     "name": "stdout",
     "output_type": "stream",
     "text": [
      "33\n",
      "34\n"
     ]
    }
   ],
   "source": [
    "class Person:\n",
    "    def __init__(self, name, age):\n",
    "        self.name = name\n",
    "        self.age = age\n",
    "\n",
    "    def birthday(self):\n",
    "        \"\"\"Add a year to a person's age\"\"\"\n",
    "        self.age += 1\n",
    "\n",
    "\n",
    "alice = Person(\"Alice\", 33)\n",
    "print(alice.age)\n",
    "alice.birthday()\n",
    "print(alice.age)\n"
   ]
  },
  {
   "cell_type": "markdown",
   "metadata": {},
   "source": [
    "The correct answer is:\n",
    "\n",
    "```python\n",
    "def birthday(self):\n",
    "  \"\"\"Add a year to a person's (self) age\"\"\"\n",
    "  self.age += 1\n",
    "```\n",
    "\n",
    "`age` is an attribute of the `Person` class, so it must be referenced with `self.age`. Methods use `self` as a parameter, not `p`."
   ]
  }
 ],
 "metadata": {
  "kernelspec": {
   "display_name": "Python 3.11.0 64-bit",
   "language": "python",
   "name": "python3"
  },
  "language_info": {
   "codemirror_mode": {
    "name": "ipython",
    "version": 3
   },
   "file_extension": ".py",
   "mimetype": "text/x-python",
   "name": "python",
   "nbconvert_exporter": "python",
   "pygments_lexer": "ipython3",
   "version": "3.11.0"
  },
  "orig_nbformat": 4,
  "vscode": {
   "interpreter": {
    "hash": "cfebaf9e48837dc440118a5254a217b2fe7848380d0f089486e02fcdd00d89a2"
   }
  }
 },
 "nbformat": 4,
 "nbformat_minor": 2
}
