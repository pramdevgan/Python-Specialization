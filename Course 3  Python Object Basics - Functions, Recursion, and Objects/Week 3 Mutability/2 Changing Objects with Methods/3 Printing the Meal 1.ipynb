{
 "cells": [
  {
   "cell_type": "markdown",
   "metadata": {},
   "source": [
    "# Printing the Meal 1\n",
    "\n",
    "## Planning the Method\n",
    "\n",
    "Before writing the method to print the meal, think about what you want the output should like. Imagine that a meal consists of the following courses:\n",
    "\n",
    "* Drinks - water and coffee\n",
    "* Appetizers - nothing served as an appetizer\n",
    "* Main course - roast chicken, mashed potatoes, and salad.\n",
    "* Dessert - chocolate cake\n",
    "\n",
    "Change your code to reflect this meal. Also, add the `print_meal` method even though it has not yet been declared.\n",
    "\n",
    "```python\n",
    "dinner = Meal()\n",
    "dinner.add_drink(\"water\")\n",
    "dinner.add_drink(\"coffee\")\n",
    "dinner.add_course(\"roast chicken\")\n",
    "dinner.add_course(\"mashed potatoes\")\n",
    "dinner.add_course(\"salad\")\n",
    "dinner.add_dessert(\"chocolate cake\")\n",
    "dinner.print_meal()\n",
    "```"
   ]
  },
  {
   "cell_type": "code",
   "execution_count": 2,
   "metadata": {},
   "outputs": [
    {
     "name": "stdout",
     "output_type": "stream",
     "text": [
      "['water']\n",
      "['bruschetta']\n",
      "['roast chicken']\n",
      "['chocolate cake']\n"
     ]
    }
   ],
   "source": [
    "class Meal:\n",
    "    \"\"\"Class to represent a meal\"\"\"\n",
    "\n",
    "    def __init__(self):\n",
    "        self.drinks = []\n",
    "        self.appetizer = []\n",
    "        self.courses = []\n",
    "        self.dessert = []\n",
    "\n",
    "dinner = Meal()\n",
    "\n",
    "def add_drinks(m, drink):\n",
    "    \"\"\"Add a drink (drink) to the meal (self)\"\"\"\n",
    "    m.drinks.append(drink)\n",
    "\n",
    "def add_appetizer(m, appet):\n",
    "    \"\"\"Add an appetizer (appet) to the meal (self)\"\"\"\n",
    "    m.appetizer.append(appet)\n",
    "\n",
    "def add_course(m, cour):\n",
    "    \"\"\"Add a course (cour) to the meal (self)\"\"\"\n",
    "    m.courses.append(cour)\n",
    "\n",
    "def add_dessert(m, dess):\n",
    "    \"\"\"Add a dessert (dess) to the meal (self)\"\"\"\n",
    "    m.dessert.append(dess)\n",
    "\n",
    "add_drinks(dinner, \"water\")\n",
    "add_appetizer(dinner, \"bruschetta\")\n",
    "add_course(dinner, \"roast chicken\")\n",
    "add_dessert(dinner, \"chocolate cake\")\n",
    "\n",
    "print(dinner.drinks)\n",
    "print(dinner.appetizer)\n",
    "print(dinner.courses)\n",
    "print(dinner.dessert)"
   ]
  }
 ],
 "metadata": {
  "kernelspec": {
   "display_name": "Python 3.11.0 64-bit",
   "language": "python",
   "name": "python3"
  },
  "language_info": {
   "codemirror_mode": {
    "name": "ipython",
    "version": 3
   },
   "file_extension": ".py",
   "mimetype": "text/x-python",
   "name": "python",
   "nbconvert_exporter": "python",
   "pygments_lexer": "ipython3",
   "version": "3.11.0"
  },
  "orig_nbformat": 4,
  "vscode": {
   "interpreter": {
    "hash": "cfebaf9e48837dc440118a5254a217b2fe7848380d0f089486e02fcdd00d89a2"
   }
  }
 },
 "nbformat": 4,
 "nbformat_minor": 2
}
