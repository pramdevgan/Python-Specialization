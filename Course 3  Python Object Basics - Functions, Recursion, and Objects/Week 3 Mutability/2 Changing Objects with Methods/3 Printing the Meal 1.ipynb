{
 "cells": [
  {
   "cell_type": "markdown",
   "metadata": {},
   "source": [
    "# Printing the Meal 1\n",
    "\n",
    "## Planning the Method\n",
    "\n",
    "Before writing the method to print the meal, think about what you want the output should like. Imagine that a meal consists of the following courses:\n",
    "\n",
    "* Drinks - water and coffee\n",
    "* Appetizers - nothing served as an appetizer\n",
    "* Main course - roast chicken, mashed potatoes, and salad.\n",
    "* Dessert - chocolate cake\n",
    "\n",
    "Change your code to reflect this meal. Also, add the `print_meal` method even though it has not yet been declared.\n",
    "\n",
    "```python\n",
    "dinner = Meal()\n",
    "dinner.add_drink(\"water\")\n",
    "dinner.add_drink(\"coffee\")\n",
    "dinner.add_course(\"roast chicken\")\n",
    "dinner.add_course(\"mashed potatoes\")\n",
    "dinner.add_course(\"salad\")\n",
    "dinner.add_dessert(\"chocolate cake\")\n",
    "dinner.print_meal()\n",
    "```"
   ]
  },
  {
   "cell_type": "markdown",
   "metadata": {},
   "source": [
    "The `print_meal` method should be able to handle an empty list (nothing served), a list of length 1, a list of length 2, and a list of 3 or more elements. Each of these scenarios has specific requirements: Is the verb singular or plural? Do you need a comma-separated list or just the word `\"and\"`? Should the word be capitalized?"
   ]
  },
  {
   "cell_type": "markdown",
   "metadata": {},
   "source": [
    "## Nothing was Served\n",
    "\n",
    "The method should print all of the courses of the meal. So start with a list of all of the courses. Next, iterate over the list. However, we are not going to use the `for course in courses:` syntax. Use `for position in range(4):` syntax. Then create the variable `course` which is assigned the element at index `position`. You will know that nothing is served if the length of `course` is 0."
   ]
  },
  {
   "cell_type": "markdown",
   "metadata": {},
   "source": [
    "```python\n",
    "def print_meal(self):\n",
    "    \"\"\"Prints the meal\"\"\"\n",
    "    courses = [self.drinks, self.appetizer, self.courses, self.dessert]\n",
    "    for position in range(len(courses)):\n",
    "        course = courses[position]\n",
    "        if len(course) == 0: # check for an empty list\n",
    "```"
   ]
  },
  {
   "cell_type": "markdown",
   "metadata": {},
   "source": [
    "<details open=\"\"><summary><strong>Why not use<span> </span><code>for course in courses:</code>?</strong></summary>\n",
    "\n",
    "**Open the [Code Visualizer](http://www.pythontutor.com/visualize.html#code=my_list%20%3D%20%5B%22bird%22,%20%22cat%22,%20%22dog%22,%20%22cat%22%5D%0Afor%20item%20in%20my_list%3A%0A%20%20%20%20print%28my_list.index%28item%29%29&cumulative=false&curInstr=9&heapPrimitives=nevernest&mode=display&origin=opt-frontend.js&py=3&rawInputLstJSON=%5B%5D&textReferences=false)**\n",
    "Later on in this program, you will need access to the index of each element. The list method `index` returns the index of an element in a list. However, this method becomes a problem when you have two or more elements that are the same. Look at the code in the visualizer (click the link above). The loop prints the index of each element. You would expect it to output `0 1 2 3`. Instead it prints `0 1 2 1`. That is because the `index` list method returns the first index with the desired value. So the last element was not accessed by the loop. Using `range` in the for loop allows you to access each element in the list.\n",
    "\n",
    "</details>"
   ]
  },
  {
   "cell_type": "markdown",
   "metadata": {},
   "source": [
    "Printing a message for an empty list becomes tricky because the sentence changes based on the course.\n",
    "\n",
    "* No **drinks were** served with the meal.\n",
    "* No **appetizers were** served with the meal.\n",
    "* No **main course was** served with the meal.\n",
    "* No **dessert was** served with the meal.\n",
    "\n",
    "The best way to handle this is to use an f-string for the print statement and a helper method to generate the text in bold from above."
   ]
  },
  {
   "cell_type": "markdown",
   "metadata": {},
   "source": [
    "```python\n",
    "def course_name(self, position):\n",
    "  pass\n",
    "\n",
    "def print_meal(self):\n",
    "    \"\"\"Prints the meal\"\"\"\n",
    "    courses = [self.drinks, self.appetizers, self.main_course, self.desserts]\n",
    "    for position in range(4):\n",
    "      course = courses[position]\n",
    "      if len(course) == 0: #check for an empty list\n",
    "        print(f\"No {self.course_name(position)} served with the meal.\")\n",
    "```"
   ]
  },
  {
   "cell_type": "markdown",
   "metadata": {},
   "source": [
    "\n",
    "\n",
    "The helper method `course_name` will compare `course` with each of the instance attributes and return the required string.\n",
    "\n",
    "```python\n",
    "def course_name(self, position):\n",
    "    if position == 0:\n",
    "      return \"drinks were\"\n",
    "    elif position == 1:\n",
    "      return \"appetizers were\"\n",
    "    elif position == 2:\n",
    "      return \"main course was\"\n",
    "    elif position == 3:\n",
    "      return \"dessert was\"\n",
    "```"
   ]
  },
  {
   "cell_type": "markdown",
   "metadata": {},
   "source": [
    "<details open=\"\"><summary><strong>The power of f-strings</strong></summary>\n",
    "\n",
    "F-strings are more concise than using the `.format` string method. They also allow you to put almost anything between the `{ }` characters. Variables, expressions, function calls, and method calls are all valid with f-strings.\n",
    "\n",
    "</details>\n",
    "\n",
    "Running the code now should produce `\"No appetizers were served with the meal.\"` since it is the only course that is an empty string"
   ]
  },
  {
   "cell_type": "code",
   "execution_count": 1,
   "metadata": {},
   "outputs": [],
   "source": [
    "class Meal:\n",
    "    \"\"\"Class to represent a meal\"\"\"\n",
    "    def __init__(self):\n",
    "        self.drinks = []\n",
    "        self.appetizers = []\n",
    "        self.courses = []\n",
    "        self.desserts = []\n",
    "    \n",
    "    def add_drink(meal, drink):\n",
    "        \"\"\"Add a drink (d) to the meal (m)\"\"\"\n",
    "        meal.drinks.append(drink)\n",
    "\n",
    "    def add_appetizer(meal, appetizer):\n",
    "        \"\"\"Add an appetizer (a) to the meal (m)\"\"\"\n",
    "        meal.appetizers.append(appetizer)\n",
    "\n",
    "    def add_course(meal, course):\n",
    "        \"\"\"Add a course (course) to the meal (meal)\"\"\"\n",
    "        meal.courses.append(course)\n",
    "\n",
    "    def add_dessert(meal, dessert):\n",
    "        \"\"\"Add a dessert (dessert) to the meal (meal)\"\"\"\n",
    "        meal.desserts.append(dessert)\n",
    "\n",
    "    def course_name (self, position):\n",
    "        if position == 0:\n",
    "            return \"drinks were\"\n",
    "        elif position == 1:\n",
    "            return \"appetizers were\"\n",
    "        elif position == 2:\n",
    "            return \"main course was\"\n",
    "        elif position == 3:\n",
    "            return \"dessert was\"\n",
    "\n",
    "    def print_meal(self):\n",
    "        courses = [self.drinks,  self.appetizers, self.courses, self.desserts]\n",
    "        for position in range(4):\n",
    "            course = courses[position]\n",
    "            if len(course) == 0: #check for an empty list\n",
    "                print(f\"No {self.course_name(position)} served with the meal\")\n"
   ]
  },
  {
   "cell_type": "code",
   "execution_count": 2,
   "metadata": {},
   "outputs": [
    {
     "name": "stdout",
     "output_type": "stream",
     "text": [
      "No drinks were served with the meal\n",
      "No appetizers were served with the meal\n",
      "No main course was served with the meal\n",
      "No dessert was served with the meal\n"
     ]
    }
   ],
   "source": [
    "dinner = Meal()\n",
    "#dinner.add_drink(\"water\")\n",
    "#dinner.add_drink(\"coffee\")\n",
    "#dinner.add_course(\"roast chicken\")\n",
    "#dinner.add_course(\"mashed potatoes\")\n",
    "#dinner.add_course(\"salad\")\n",
    "#dinner.add_dessert(\"chocolate cake\")\n",
    "dinner.print_meal()"
   ]
  },
  {
   "cell_type": "code",
   "execution_count": 3,
   "metadata": {},
   "outputs": [
    {
     "data": {
      "text/plain": [
       "{'drinks': [], 'appetizers': [], 'courses': [], 'desserts': []}"
      ]
     },
     "execution_count": 3,
     "metadata": {},
     "output_type": "execute_result"
    }
   ],
   "source": [
    "dinner.__dict__"
   ]
  },
  {
   "cell_type": "markdown",
   "metadata": {},
   "source": [
    "## Try this variation:\n",
    "\n",
    "Use the comment symbol `#` to comment out all of the lines with a method that adds a course to the `dinner` object. Run the program. The output should be:\n",
    "\n",
    "```No drinks were served **with** **the** meal.\n",
    "No appetizers were served **with** **the** meal.\n",
    "No main course was served **with** **the** meal.\n",
    "No dessert was served **with** **the** meal.\n",
    "```\n",
    "\n",
    "<details open=\"\"><summary><strong>Code</strong></summary>\n",
    "\n",
    "```python\n",
    "dinner = Meal()\n",
    "#dinner.add_drink(\"water\")\n",
    "#dinner.add_drink(\"coffee\")\n",
    "#dinner.add_course(\"roast chicken\")\n",
    "#dinner.add_course(\"mashed potatoes\")\n",
    "#dinner.add_course(\"salad\")\n",
    "#dinner.add_dessert(\"chocolate cake\")\n",
    "dinner.print_meal()\n",
    "```\n",
    "</details>"
   ]
  },
  {
   "cell_type": "markdown",
   "metadata": {},
   "source": [
    "## Reading Question\n",
    "\n",
    "The name for a Python method that modifies the instances variables of an object is called:\n",
    "\n",
    "- Class method\n",
    "- ***Instance Method***\n",
    "- Static Method\n",
    "\n",
    "<details open=\"\"><summary> <strong> Statement</strong><summary>\n",
    "\n",
    "The name for a Python method that modifies the instance variables of an object is called an `instance method`. These are the methods that you have been learning. Class and static methods are other types of Python methods, and will be introduced in a later lesson.\n",
    "</details>"
   ]
  }
 ],
 "metadata": {
  "kernelspec": {
   "display_name": "Python 3.11.0 64-bit",
   "language": "python",
   "name": "python3"
  },
  "language_info": {
   "codemirror_mode": {
    "name": "ipython",
    "version": 3
   },
   "file_extension": ".py",
   "mimetype": "text/x-python",
   "name": "python",
   "nbconvert_exporter": "python",
   "pygments_lexer": "ipython3",
   "version": "3.11.0"
  },
  "orig_nbformat": 4,
  "vscode": {
   "interpreter": {
    "hash": "cfebaf9e48837dc440118a5254a217b2fe7848380d0f089486e02fcdd00d89a2"
   }
  }
 },
 "nbformat": 4,
 "nbformat_minor": 2
}
