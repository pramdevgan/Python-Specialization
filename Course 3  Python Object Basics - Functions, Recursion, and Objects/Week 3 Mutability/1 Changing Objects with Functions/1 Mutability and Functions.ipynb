{
 "cells": [
  {
   "cell_type": "markdown",
   "metadata": {},
   "source": [
    "# Mutability and Functions\n",
    "\n",
    "---\n",
    "\n",
    "## Mutability\n",
    "\n",
    "Objects are mutable, which means that objects (specifically their attributes) can change value. Think of a video game; the main character in the game is constantly changing. It could be their position on the screen, the score, their health, the items in their inventory, etc. Imagine a simple class called `Player`. A newly instantiated `Player` object has a `health` of 100, a `score` of 0, and starts on `level` 1. This object can lose health, increase their score, and advance levels."
   ]
  },
  {
   "cell_type": "code",
   "execution_count": 1,
   "metadata": {},
   "outputs": [
    {
     "name": "stdout",
     "output_type": "stream",
     "text": [
      "This player has 100 health, a score of 0, and is on level 1.\n",
      "This player has 90 health, a score of 25, and is on level 2.\n"
     ]
    }
   ],
   "source": [
    "class Player:\n",
    "    \"\"\"Simple player class\"\"\"\n",
    "    def __init__(self, health=100, score =0, level=1):\n",
    "        self.health = health\n",
    "        self.score = score\n",
    "        self.level = level\n",
    "\n",
    "player1 = Player()\n",
    "print(f\"This player has {player1.health} health, a score of {player1.score}, and is on level {player1.level}.\")\n",
    "player1.health -= 10\n",
    "player1.score += 25\n",
    "player1.level += 1\n",
    "print(f\"This player has {player1.health} health, a score of {player1.score}, and is on level {player1.level}.\")"
   ]
  },
  {
   "cell_type": "markdown",
   "metadata": {},
   "source": [
    "## Try these variations:\n",
    "\n",
    "* Change the health of `player1` to 0?\n",
    "* Print the status of `player1` once their `health` is 0?\n",
    "\n",
    "One Possible Solution:\n",
    "\n",
    "```python\n",
    "print(f\"This player is dead. They died on level {player1.level} with a score of {player1.score}.\")\n",
    "```"
   ]
  },
  {
   "cell_type": "code",
   "execution_count": 2,
   "metadata": {},
   "outputs": [
    {
     "name": "stdout",
     "output_type": "stream",
     "text": [
      "This player is dead. They died on level 2 with a score of 25.\n"
     ]
    }
   ],
   "source": [
    "player1.health = 0\n",
    "print(f\"This player is dead. They died on level {player1.level} with a score of {player1.score}.\")"
   ]
  },
  {
   "cell_type": "markdown",
   "metadata": {},
   "source": [
    "## Functions and Objects\n",
    "\n",
    "One of the benefits of functions is code reusability. The example above has a repetition of the `print` statement. This is a good opportunity to use a function."
   ]
  },
  {
   "cell_type": "code",
   "execution_count": 2,
   "metadata": {},
   "outputs": [
    {
     "name": "stdout",
     "output_type": "stream",
     "text": [
      "This player has 100 health, a score of 0, and is on level 1\n",
      "This player has 90 health, a score of 25, and is on level 2\n"
     ]
    }
   ],
   "source": [
    "class Player:\n",
    "    \"\"\"Simple Player class\"\"\"\n",
    "    def __init__(self, health=100, score=0, level=1):\n",
    "        self.health = health\n",
    "        self.score = score\n",
    "        self.level = level\n",
    "    \n",
    "def print_player(p):\n",
    "    \"\"\"Print the status of a player\"\"\"\n",
    "    print(f\"This player has {p.health} health, a score of {p.score}, and is on level {p.level}\")\n",
    "\n",
    "player1 = Player()\n",
    "\n",
    "print_player(player1)\n",
    "player1.health -=10\n",
    "player1.score += 25\n",
    "player1.level += 1\n",
    "print_player(player1)"
   ]
  },
  {
   "cell_type": "markdown",
   "metadata": {},
   "source": [
    "Using a function to print the status of `player1` may not seem like it was worth the effort to change the code. But when these functions become more complex, The efficiency becomes clear."
   ]
  },
  {
   "cell_type": "code",
   "execution_count": 8,
   "metadata": {},
   "outputs": [
    {
     "name": "stdout",
     "output_type": "stream",
     "text": [
      "This player has 100 has,  a score of 0, and is on level 1\n",
      "This player is dead. They died on level 2 with a score of 25.\n"
     ]
    }
   ],
   "source": [
    "class Plyer():\n",
    "    \"\"\"Simple player class\"\"\"\n",
    "    def __init__(self, health = 100, score = 0, level = 1):\n",
    "        self.health = health\n",
    "        self.score = score\n",
    "        self.level = level\n",
    "\n",
    "def print_player(p):\n",
    "    \"\"\"Print the status of a player\"\"\"\n",
    "    if p.health <=0:\n",
    "        print(f\"This player is dead. They died on level {p.level} with a score of {p.score}.\")\n",
    "    else:\n",
    "        print(f\"This player has {p.health} has,  a score of {p.score}, and is on level {p.level}\")\n",
    "\n",
    "player1 = Player()\n",
    "print_player(player1)\n",
    "player1.health = 0\n",
    "player1.score += 25\n",
    "player1.level += 1\n",
    "print_player(player1)"
   ]
  },
  {
   "cell_type": "markdown",
   "metadata": {},
   "source": [
    "## Can you:\n",
    "\n",
    "* Create a function to change a player’s health?\n",
    "\n",
    "<details open=\"\"><summary><strong>One possible solution</strong></summary>\n",
    "\n",
    "```python\n",
    "def change_health(p, amount):\n",
    "  \"\"\"Change a player's health\"\"\"\n",
    "  p.health += amount\n",
    "```\n",
    "\n",
    "</details>\n",
    "\n",
    "* Create a function to change a player’s level?\n",
    "\n",
    "<details open=\"\"><summary><strong>One possible solution</strong></summary>\n",
    "\n",
    "```python\n",
    "def change_level(p):\n",
    "  \"\"\"Change a player's level\"\"\"\n",
    "  p.level += 1\n",
    "```\n",
    "\n",
    "</details>\n"
   ]
  },
  {
   "cell_type": "markdown",
   "metadata": {},
   "source": [
    "## Reading Questio\n",
    "\n",
    "Objects are mutable. What does this mean?\n",
    "\n",
    "- Mutability means that the you can change the variable name for the object.\n",
    "- Mutability means that objects must remain the same at all times.\n",
    "- ***Mutability means that object attributes can be changed.***\n",
    "- Mutability means that an object change one time only.\n",
    "```text\n",
    "Object mutability is the concept that object attributes can be changed.\n",
    "```"
   ]
  }
 ],
 "metadata": {
  "kernelspec": {
   "display_name": "Python 3.11.0 64-bit",
   "language": "python",
   "name": "python3"
  },
  "language_info": {
   "codemirror_mode": {
    "name": "ipython",
    "version": 3
   },
   "file_extension": ".py",
   "mimetype": "text/x-python",
   "name": "python",
   "nbconvert_exporter": "python",
   "pygments_lexer": "ipython3",
   "version": "3.11.0"
  },
  "orig_nbformat": 4,
  "vscode": {
   "interpreter": {
    "hash": "cfebaf9e48837dc440118a5254a217b2fe7848380d0f089486e02fcdd00d89a2"
   }
  }
 },
 "nbformat": 4,
 "nbformat_minor": 2
}
