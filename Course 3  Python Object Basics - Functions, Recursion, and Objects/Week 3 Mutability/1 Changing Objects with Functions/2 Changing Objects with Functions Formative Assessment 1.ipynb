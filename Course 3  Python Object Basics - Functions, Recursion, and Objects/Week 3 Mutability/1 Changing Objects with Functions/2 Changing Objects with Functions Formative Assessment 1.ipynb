{
 "cells": [
  {
   "cell_type": "markdown",
   "metadata": {},
   "source": [
    "# Changing Objects with Functions Formative Assessment 1\n",
    "\n",
    "---\n",
    "\n",
    "## Formative Assessment\n",
    "\n",
    "Imagine that the class `Dog` is defined as follows:\n",
    "\n",
    "```python\n",
    "class Dog:\n",
    "  def __init__(self):\n",
    "    self.name = \"fido\"\n",
    "    self.breed = \"golden retriever\"\n",
    "```\n",
    "\n",
    "Use the code blocks below to create the function `change_breed` that accepts a string as a parameter and updates the breed of the `Dog` object. **Note** , not all of the blocks will be used.\n",
    "\n",
    "Drag from here\n",
    "\n",
    "* breed = new_breed\n",
    "* def change_breed(dog, new_breed):\n",
    "* d.breed = new_breed\n",
    "* dog.breed = new_breed\n",
    "* def change_breed(new_breed)\n",
    "\n",
    "Construct your solution here"
   ]
  },
  {
   "cell_type": "code",
   "execution_count": 2,
   "metadata": {},
   "outputs": [
    {
     "name": "stdout",
     "output_type": "stream",
     "text": [
      "fido golden retriever\n"
     ]
    }
   ],
   "source": [
    "class Dog:\n",
    "  def __init__(self):\n",
    "    self.name = \"fido\"\n",
    "    self.breed = \"golden retriever\"\n",
    "\n",
    "def change_breed(dog, new_breed):\n",
    "    dog.breed = new_breed\n",
    "\n",
    "dog1 = Dog()\n",
    "print(dog1.name, dog1.breed)"
   ]
  },
  {
   "cell_type": "code",
   "execution_count": 3,
   "metadata": {},
   "outputs": [],
   "source": [
    "change_breed(dog1, \"German Shephard\")"
   ]
  },
  {
   "cell_type": "code",
   "execution_count": 4,
   "metadata": {},
   "outputs": [
    {
     "name": "stdout",
     "output_type": "stream",
     "text": [
      "German Shephard\n"
     ]
    }
   ],
   "source": [
    "print(dog1.breed)"
   ]
  },
  {
   "cell_type": "markdown",
   "metadata": {},
   "source": [
    "The correct answer is:\n",
    "\n",
    "```python\n",
    "def change_breed(dog, new_breed):\n",
    "  dog.breed = new_breed\n",
    "```\n",
    "\n",
    "Remember the parameter `dog` represents the `Dog` object that is going to be modified. It must be included with the function `change_breed`. Because of this, `def change_breed(new_breed):` is not correct. Accessing the `breed` attribute must be done with dot notation using the `dog` parameter. `breed = new_breed` is not correct because it omits `dog`. `d.breed = new_breed` is not correct because the parameter `d` does not exist in the function header."
   ]
  }
 ],
 "metadata": {
  "kernelspec": {
   "display_name": "Python 3.11.0 64-bit",
   "language": "python",
   "name": "python3"
  },
  "language_info": {
   "codemirror_mode": {
    "name": "ipython",
    "version": 3
   },
   "file_extension": ".py",
   "mimetype": "text/x-python",
   "name": "python",
   "nbconvert_exporter": "python",
   "pygments_lexer": "ipython3",
   "version": "3.11.0"
  },
  "orig_nbformat": 4,
  "vscode": {
   "interpreter": {
    "hash": "cfebaf9e48837dc440118a5254a217b2fe7848380d0f089486e02fcdd00d89a2"
   }
  }
 },
 "nbformat": 4,
 "nbformat_minor": 2
}
