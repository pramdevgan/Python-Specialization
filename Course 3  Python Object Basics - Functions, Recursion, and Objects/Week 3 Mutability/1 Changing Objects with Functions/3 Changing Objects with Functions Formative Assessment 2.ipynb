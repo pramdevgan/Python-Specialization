{
 "cells": [
  {
   "cell_type": "markdown",
   "metadata": {},
   "source": [
    "# Changing Objects with Functions Formative Assessment 2\n",
    "\n",
    "---\n",
    "\n",
    "## Formative Assessment\n",
    "\n",
    "Imagine there exists a `Player` class that represents a video game character. Fill in the blanks below to complete the function `level_up`. The function should do the following things:\n",
    "\n",
    "* Increase the player’s level by 1\n",
    "* Increase the player’s health by 10\n",
    "* Increase the player’s score by 100\n",
    "\n",
    "```python\n",
    "def level_up(            ):\n",
    "  p.               += 1\n",
    "                 .health += 10\n",
    "                  += 100\n",
    " ```"
   ]
  },
  {
   "cell_type": "code",
   "execution_count": 1,
   "metadata": {},
   "outputs": [],
   "source": [
    "def level_up(p):\n",
    "    p.level += 1\n",
    "    p.health += 10\n",
    "    p.score += 100"
   ]
  },
  {
   "cell_type": "markdown",
   "metadata": {},
   "source": [
    "The correct answer is:\n",
    "\n",
    "```python\n",
    "def level_up(p):\n",
    "  p.level += 1\n",
    "  p.health += 10\n",
    "  p.score += 100\n",
    "```\n",
    "\n",
    "Using the first line of the function body, you see that `p` is the parameter passed to `level_up`. Since the level increases by 1, the second blank is `level`. The third blank is `p` since the `health` attribute cannot be accessed without a reference to the `Player` object. The last blank is `p.score` since this is the attribute that increases by 100."
   ]
  }
 ],
 "metadata": {
  "kernelspec": {
   "display_name": "Python 3.11.0 64-bit",
   "language": "python",
   "name": "python3"
  },
  "language_info": {
   "codemirror_mode": {
    "name": "ipython",
    "version": 3
   },
   "file_extension": ".py",
   "mimetype": "text/x-python",
   "name": "python",
   "nbconvert_exporter": "python",
   "pygments_lexer": "ipython3",
   "version": "3.11.0"
  },
  "orig_nbformat": 4,
  "vscode": {
   "interpreter": {
    "hash": "cfebaf9e48837dc440118a5254a217b2fe7848380d0f089486e02fcdd00d89a2"
   }
  }
 },
 "nbformat": 4,
 "nbformat_minor": 2
}
