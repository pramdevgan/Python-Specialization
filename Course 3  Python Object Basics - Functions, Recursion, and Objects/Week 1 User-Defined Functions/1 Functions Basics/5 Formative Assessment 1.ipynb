{
 "cells": [
  {
   "cell_type": "markdown",
   "metadata": {},
   "source": [
    "# Formative Assessment 1\n",
    "---\n",
    "## Formative Assessment\n",
    "\n",
    "Rearrange the code blocks below to define and call the function `caesar_quote`. Be sure to include the docstring in your answer.  **Note** , not all of the code blocs will be used.\n",
    "\n",
    "Drag from here\n",
    "\n",
    "* \"\"\"Print the Latin version of 'I came, I saw, I conquered'\"\"\"\n",
    "* print(\"Veni, vidi, vici\")\n",
    "* caesar_quote\n",
    "* caesarQuote()\n",
    "* def caesar_quote():\n",
    "* caesar_quote()\n",
    "* define caesar_quote():\n",
    "\n",
    "Construct your solution here\n",
    "```python\n",
    "def caesar_quote():\n",
    "    \"\"\"Print the Latin version of 'I came, I saw, I conquered'\"\"\"\n",
    "    print(\"Veni, vidi, vici\")\n",
    "caesar_quote()\n",
    "```\n",
    "A function needs to be defined before it can be called. In Python, function definitions are started with the keyword `def`. Function definitions should start with the function header, then the docstring, and finally the function body. Be sure to indent the docstring and the function body. To call a function, write the function’s name (as stated in the function header) followed by parentheses. The function call should not be indented."
   ]
  },
  {
   "cell_type": "code",
   "execution_count": 1,
   "metadata": {},
   "outputs": [
    {
     "name": "stdout",
     "output_type": "stream",
     "text": [
      "Veni, vidi, vici\n"
     ]
    }
   ],
   "source": [
    "def caesar_quote():\n",
    "    \"\"\"Print the Latin version of 'I came, I saw, I conquered'\"\"\"\n",
    "    print(\"Veni, vidi, vici\")\n",
    "\n",
    "caesar_quote()"
   ]
  }
 ],
 "metadata": {
  "kernelspec": {
   "display_name": "Python 3.10.4 64-bit",
   "language": "python",
   "name": "python3"
  },
  "language_info": {
   "codemirror_mode": {
    "name": "ipython",
    "version": 3
   },
   "file_extension": ".py",
   "mimetype": "text/x-python",
   "name": "python",
   "nbconvert_exporter": "python",
   "pygments_lexer": "ipython3",
   "version": "3.10.4"
  },
  "orig_nbformat": 4,
  "vscode": {
   "interpreter": {
    "hash": "12d9efd1b418ad7485587f2da0512ee7fc7c20b6462fdb2a696d6f33bbf19b58"
   }
  }
 },
 "nbformat": 4,
 "nbformat_minor": 2
}
