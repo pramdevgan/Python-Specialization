{
 "cells": [
  {
   "cell_type": "markdown",
   "metadata": {},
   "source": [
    "# When to Use a Function\n",
    "---\n",
    "## Divide and Conquer\n",
    "\n",
    "If you had to explain how to draw a house, you would make a list of shapes to draw. Draw a triangle for the roof, draw a square for the house, draw a rectangle for the door, etc. Combine all of these shapes, and you have a house. This approach to problem solving makes complex problems easier to understand, easier to solve, and easier to fix.\n",
    "\n",
    "Functions allow for the same divide and conquer approach to problem solving but for programming. Each of the tasks above become a function. Combine all of the functions together, and you should have a house."
   ]
  },
  {
   "cell_type": "code",
   "execution_count": 1,
   "metadata": {},
   "outputs": [],
   "source": [
    "import turtle\n",
    "import importlib\n",
    "\n",
    "importlib.reload(turtle)\n",
    "turtle.TurtleScreen._RUNNING=True\n",
    "\n",
    "t = turtle.Turtle()\n",
    "\n",
    "def roof():\n",
    "    \"\"\"Draw a triangle to represent a roof\"\"\"\n",
    "    for i in range(3):\n",
    "        t.left(120)\n",
    "        t.forward(100)\n",
    "\n",
    "def house():\n",
    "    \"\"\"Draw a rectangle to represent a house\"\"\"\n",
    "    for i in range(4):\n",
    "        t.right(90)\n",
    "        t.forward(100)\n",
    "\n",
    "def door():\n",
    "    \"\"\"Draw a rectangle to represent a door\"\"\"\n",
    "    # go to starting position\n",
    "    t.right(90)\n",
    "    t.forward(100)\n",
    "    t.right(90)\n",
    "    t.forward(60)\n",
    "\n",
    "    # draw door\n",
    "    t.right(90)\n",
    "    t.forward(40)\n",
    "    t.right(90)\n",
    "    t.forward(20)\n",
    "    t.right(90)\n",
    "    t.forward(40)\n",
    "    t.hideturtle() # t.ht() for hide turtle\n",
    "\n",
    "\n",
    "roof()\n",
    "house()\n",
    "door()\n",
    "\n",
    "turtle.mainloop()"
   ]
  },
  {
   "cell_type": "markdown",
   "metadata": {},
   "source": [
    "## Reading Question\n",
    "\n",
    "What are the benefits to using functions?  **Note** , there is more than one right answer.\n",
    "\n",
    "- **Breakdown complex problems into smaller problems.**\n",
    "- **The smaller problems are easier to reason about.**\n",
    "- **The smaller problems are easier to debug.**\n",
    "- **Combine many simple functions to solve complex problems.**\n",
    "\n",
    "    Using functions in your programs allows for the following things:\n",
    "    * Breakdown complex problems into smaller problems.\n",
    "    * These smaller problems are easier to reason about.\n",
    "    * It is easier to debug a simple function as compared to a complex block of code.\n",
    "    * Simple functions can be combined to solve complex problems."
   ]
  }
 ],
 "metadata": {
  "kernelspec": {
   "display_name": "Python 3.10.4 64-bit",
   "language": "python",
   "name": "python3"
  },
  "language_info": {
   "codemirror_mode": {
    "name": "ipython",
    "version": 3
   },
   "file_extension": ".py",
   "mimetype": "text/x-python",
   "name": "python",
   "nbconvert_exporter": "python",
   "pygments_lexer": "ipython3",
   "version": "3.10.4"
  },
  "orig_nbformat": 4,
  "vscode": {
   "interpreter": {
    "hash": "12d9efd1b418ad7485587f2da0512ee7fc7c20b6462fdb2a696d6f33bbf19b58"
   }
  }
 },
 "nbformat": 4,
 "nbformat_minor": 2
}
