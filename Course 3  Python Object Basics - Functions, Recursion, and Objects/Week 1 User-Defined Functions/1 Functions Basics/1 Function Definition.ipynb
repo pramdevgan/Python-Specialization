{
 "cells": [
  {
   "cell_type": "markdown",
   "metadata": {},
   "source": [
    "# Function Definition\n",
    "\n",
    "---\n",
    "\n",
    "## Function Syntax\n",
    "\n",
    "You have seen and used built-in functions like the length function (`len(my_list)`). This unit deals with user-defined function. Functions are composed of two parts, the header and the body.\n",
    "\n",
    "![Fuction Header & Body](https://apollo-media.codio.com/media/1/1544d476297cf34b824c1ac53da40c70-c72177b6-a791-4d4c-b301-98071fedb224.webp)\n",
    "\n",
    "The function header contains the `def` keyword which signals the definition of a function. Next is the name of the function. Function names follow the same rules as variable names; letters, numbers, and underscores. Function names cannot start with a number. Parentheses are required, and any parameters go between them. Finally, the header ends with a colon.\n",
    "\n",
    "![Function Header](https://apollo-media.codio.com/media/1/fa509d8646c741b1ea1da4e0771fc3d3-366a63a2-8177-4340-ad3c-d2a5b19fb0cb.webp)\n",
    "\n",
    "The function body is the list of actions the function performs. All of the code for the function body must be indented (four spaces is the Python standard) from the function header. The function ends when the code is no longer indented.\n",
    "\n",
    "![Function Body](https://apollo-media.codio.com/media/1/73e75c88e41da1a56317a1f06e8043b2-665d99f1-6016-4d41-b6ce-568b7371b174.webp)\n",
    "\n",
    "## Calling a Function\n",
    "\n",
    "Enter the code below into the editor and click the `TRY IT` button. Nothing is printed. Defining a function does not cause Python to run it."
   ]
  },
  {
   "cell_type": "code",
   "execution_count": 1,
   "metadata": {},
   "outputs": [],
   "source": [
    "def greet_twice():\n",
    "    print(\"Hello, Param\")\n",
    "    print(\"Hello, Nikhil\")"
   ]
  },
  {
   "cell_type": "markdown",
   "metadata": {},
   "source": [
    "You have to explicitly call the function if you want it to run. Add `greet_twice()` after the function definition. Remember **do not** indent the function call. Run the code again."
   ]
  },
  {
   "cell_type": "code",
   "execution_count": 2,
   "metadata": {},
   "outputs": [
    {
     "name": "stdout",
     "output_type": "stream",
     "text": [
      "Hello, Param\n",
      "Hello, Nikhil\n"
     ]
    }
   ],
   "source": [
    "greet_twice()"
   ]
  },
  {
   "cell_type": "markdown",
   "metadata": {},
   "source": [
    "## What happens if you:\n",
    "\n",
    "* Add another line code that says `greet_twice()`?\n",
    "* Indent `greet_twice` four spaces?\n",
    "* Add a `1` between the parentheses of the function call `greet_twice(1)`?"
   ]
  },
  {
   "cell_type": "code",
   "execution_count": 3,
   "metadata": {},
   "outputs": [
    {
     "name": "stdout",
     "output_type": "stream",
     "text": [
      "Hello, Param\n",
      "Hello, Nikhil\n",
      "Hello, Param\n",
      "Hello, Nikhil\n"
     ]
    }
   ],
   "source": [
    "greet_twice()\n",
    "greet_twice()"
   ]
  },
  {
   "cell_type": "code",
   "execution_count": 4,
   "metadata": {},
   "outputs": [
    {
     "ename": "IndentationError",
     "evalue": "expected an indented block after function definition on line 1 (1968388463.py, line 2)",
     "output_type": "error",
     "traceback": [
      "\u001b[1;36m  Input \u001b[1;32mIn [4]\u001b[1;36m\u001b[0m\n\u001b[1;33m    print(\"Hello, Param\")\u001b[0m\n\u001b[1;37m    ^\u001b[0m\n\u001b[1;31mIndentationError\u001b[0m\u001b[1;31m:\u001b[0m expected an indented block after function definition on line 1\n"
     ]
    }
   ],
   "source": [
    "    def greet_twice():\n",
    "    print(\"Hello, Param\")\n",
    "    print(\"Hello, Nikhil\")"
   ]
  },
  {
   "cell_type": "code",
   "execution_count": null,
   "metadata": {},
   "outputs": [],
   "source": [
    "def greet_twice():\n",
    "    print(\"Hello, Param\")\n",
    "    print(\"Hello, Nikhil\")"
   ]
  },
  {
   "cell_type": "markdown",
   "metadata": {},
   "source": [
    "## Reading Question\n",
    "\n",
    "What is the difference between defining a function and calling a function?\n",
    "\n",
    "- Calling a function tells Python what actions the function will perform. Defining a function tells Python to perform those actions.\n",
    "- Defining a function creates a class, while calling a function creates a method.\n",
    "- **`Defining a function tells Python what actions the function will perform. Calling a function tells Python to perform those actions.`**\n",
    "- Defining a function and calling a function are interchangeable terms.\n",
    "\n",
    "Defining a function tells Python what actions the function will perform. Calling a function tells Python to perform those actions."
   ]
  }
 ],
 "metadata": {
  "kernelspec": {
   "display_name": "Python 3.10.4 64-bit",
   "language": "python",
   "name": "python3"
  },
  "language_info": {
   "codemirror_mode": {
    "name": "ipython",
    "version": 3
   },
   "file_extension": ".py",
   "mimetype": "text/x-python",
   "name": "python",
   "nbconvert_exporter": "python",
   "pygments_lexer": "ipython3",
   "version": "3.10.4"
  },
  "orig_nbformat": 4,
  "vscode": {
   "interpreter": {
    "hash": "12d9efd1b418ad7485587f2da0512ee7fc7c20b6462fdb2a696d6f33bbf19b58"
   }
  }
 },
 "nbformat": 4,
 "nbformat_minor": 2
}
