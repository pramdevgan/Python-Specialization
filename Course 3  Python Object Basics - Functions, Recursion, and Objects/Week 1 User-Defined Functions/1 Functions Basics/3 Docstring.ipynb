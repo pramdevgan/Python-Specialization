{
 "cells": [
  {
   "cell_type": "markdown",
   "metadata": {},
   "source": [
    "# Docstring\n",
    "---\n",
    "## Function Documentation\n",
    "\n",
    "Python has a built-in function called `help` that explains how other functions work. This is a handy way of learning how to use a function without having to look it up in the official documentation."
   ]
  },
  {
   "cell_type": "code",
   "execution_count": 3,
   "metadata": {},
   "outputs": [
    {
     "name": "stdout",
     "output_type": "stream",
     "text": [
      "Help on built-in function len in module builtins:\n",
      "\n",
      "len(obj, /)\n",
      "    Return the number of items in a container.\n",
      "\n"
     ]
    }
   ],
   "source": [
    "help(len)"
   ]
  },
  {
   "cell_type": "markdown",
   "metadata": {},
   "source": [
    "## What happens if you:\n",
    "\n",
    "* Replace `len` with `max`?\n",
    "* Change the code to look like this:\n",
    "\n",
    "```python\n",
    "def greet_twice():\n",
    "    print(\"Hello\")\n",
    "    print(\"Hello\")\n",
    "  \n",
    "help(greet_twice)\n",
    "```"
   ]
  },
  {
   "cell_type": "code",
   "execution_count": 4,
   "metadata": {},
   "outputs": [
    {
     "name": "stdout",
     "output_type": "stream",
     "text": [
      "Help on built-in function max in module builtins:\n",
      "\n",
      "max(...)\n",
      "    max(iterable, *[, default=obj, key=func]) -> value\n",
      "    max(arg1, arg2, *args, *[, key=func]) -> value\n",
      "    \n",
      "    With a single iterable argument, return its biggest item. The\n",
      "    default keyword-only argument specifies an object to return if\n",
      "    the provided iterable is empty.\n",
      "    With two or more arguments, return the largest argument.\n",
      "\n"
     ]
    }
   ],
   "source": [
    "help(max)"
   ]
  },
  {
   "cell_type": "code",
   "execution_count": 5,
   "metadata": {},
   "outputs": [
    {
     "name": "stdout",
     "output_type": "stream",
     "text": [
      "Help on function greet_twice in module __main__:\n",
      "\n",
      "greet_twice()\n",
      "\n"
     ]
    }
   ],
   "source": [
    "def greet_twice():\n",
    "    print(\"Hello\")\n",
    "    print(\"Hello\")\n",
    "\n",
    "help(greet_twice)"
   ]
  },
  {
   "cell_type": "markdown",
   "metadata": {},
   "source": [
    "## Docstring\n",
    "\n",
    "The `help` function does not provide any information for user-defined functions. Adding a docstring to a user-defined function will provide output for the `help` function. A docstring goes between the function header and the function body. Use triple-quotes to create a string which explains what the function does and how to use it. Remember, triple-quotes respect all of the whitespace in the string. You can indent or add a new line to increase readability.\n",
    "\n",
    "![Docstring](https://apollo-media.codio.com/media/1/3a849eff3af2336f6a7620339d992bd8-39faafc7-71b3-435c-807c-2c65bd195299.webp)"
   ]
  },
  {
   "cell_type": "code",
   "execution_count": 8,
   "metadata": {},
   "outputs": [
    {
     "name": "stdout",
     "output_type": "stream",
     "text": [
      "Help on function greet_twice in module __main__:\n",
      "\n",
      "greet_twice()\n",
      "    Print the string 'Hello' two times\n",
      "\n"
     ]
    }
   ],
   "source": [
    "def greet_twice():\n",
    "    \"\"\"Print the string 'Hello' two times\"\"\"\n",
    "    print(\"Hello\")\n",
    "    print(\"Hello\")\n",
    "\n",
    "help(greet_twice)"
   ]
  },
  {
   "cell_type": "markdown",
   "metadata": {},
   "source": [
    "## What happens if you:\n",
    "\n",
    "* Remove the indentation for the docstring?\n",
    "* Indent the docstring and then change it to:\n",
    "\n",
    "```python\n",
    "\"\"\"Print the string\n",
    "'Hello' two times\"\"\"\n",
    "```\n",
    "\n",
    "* Change the docstring to `\"Print the string 'Hello' two times\"`?\n",
    "* Change the docstring to:\n",
    "\n",
    "```python\n",
    "\"Print the string\n",
    "'Hello' two times\"\n",
    "```"
   ]
  },
  {
   "cell_type": "code",
   "execution_count": 9,
   "metadata": {},
   "outputs": [
    {
     "ename": "IndentationError",
     "evalue": "expected an indented block after function definition on line 1 (1436838436.py, line 2)",
     "output_type": "error",
     "traceback": [
      "\u001b[1;36m  Input \u001b[1;32mIn [9]\u001b[1;36m\u001b[0m\n\u001b[1;33m    \"\"\"Print the string 'Hello' two times\"\"\"\u001b[0m\n\u001b[1;37m    ^\u001b[0m\n\u001b[1;31mIndentationError\u001b[0m\u001b[1;31m:\u001b[0m expected an indented block after function definition on line 1\n"
     ]
    }
   ],
   "source": [
    "def greet_twice():\n",
    "\"\"\"Print the string 'Hello' two times\"\"\"\n",
    "    print(\"Hello\")\n",
    "    print(\"Hello\")\n",
    "\n",
    "help(greet_twice)"
   ]
  },
  {
   "cell_type": "code",
   "execution_count": 10,
   "metadata": {},
   "outputs": [
    {
     "name": "stdout",
     "output_type": "stream",
     "text": [
      "Help on function greet_twice in module __main__:\n",
      "\n",
      "greet_twice()\n",
      "    Print the string \n",
      "    'Hello' two times\n",
      "\n"
     ]
    }
   ],
   "source": [
    "def greet_twice():\n",
    "    \"\"\"Print the string \n",
    "    'Hello' two times\"\"\"\n",
    "    print(\"Hello\")\n",
    "    print(\"Hello\")\n",
    "\n",
    "help(greet_twice)"
   ]
  },
  {
   "cell_type": "code",
   "execution_count": 11,
   "metadata": {},
   "outputs": [
    {
     "name": "stdout",
     "output_type": "stream",
     "text": [
      "Help on function greet_twice in module __main__:\n",
      "\n",
      "greet_twice()\n",
      "    Print the string 'Hello' two times\n",
      "\n"
     ]
    }
   ],
   "source": [
    "def greet_twice():\n",
    "    \"Print the string 'Hello' two times\"\n",
    "    print(\"Hello\")\n",
    "    print(\"Hello\")\n",
    "\n",
    "help(greet_twice)"
   ]
  },
  {
   "cell_type": "code",
   "execution_count": 12,
   "metadata": {},
   "outputs": [
    {
     "ename": "SyntaxError",
     "evalue": "unterminated string literal (detected at line 2) (2727198281.py, line 2)",
     "output_type": "error",
     "traceback": [
      "\u001b[1;36m  Input \u001b[1;32mIn [12]\u001b[1;36m\u001b[0m\n\u001b[1;33m    \"Print the string\u001b[0m\n\u001b[1;37m    ^\u001b[0m\n\u001b[1;31mSyntaxError\u001b[0m\u001b[1;31m:\u001b[0m unterminated string literal (detected at line 2)\n"
     ]
    }
   ],
   "source": [
    "def greet_twice():\n",
    "    \"Print the string \n",
    "    'Hello' two times\"\n",
    "    print(\"Hello\")\n",
    "    print(\"Hello\")\n",
    "\n",
    "help(greet_twice)"
   ]
  },
  {
   "cell_type": "markdown",
   "metadata": {},
   "source": [
    "## Reading Question\n",
    "\n",
    "Select all of the true statements about the docstring.  **Note** , there is more than one right answer.\n",
    "\n",
    "- **Must be indented like the function body**\n",
    "- **Will be displayed when used with the `help` function**\n",
    "- **The docstring is a form of documentation on what the function does and how to use it**\n",
    "- If you do not have a docstring, there will be an error message\n",
    "\n",
    "    All of the statements are true of docstrings:\n",
    "    * Must be indented like the function body\n",
    "    * Will be displayed when used with the `help` function\n",
    "    * The docstring is a form of documentation on what the function does and how to use it\n",
    "\n",
    "If your function does not have a docstring and you use `help` on the function, it will not generate an error. Where the docstring would appear is blank. See the last suggestion in the “What happens if you:” box."
   ]
  }
 ],
 "metadata": {
  "kernelspec": {
   "display_name": "Python 3.10.4 64-bit",
   "language": "python",
   "name": "python3"
  },
  "language_info": {
   "codemirror_mode": {
    "name": "ipython",
    "version": 3
   },
   "file_extension": ".py",
   "mimetype": "text/x-python",
   "name": "python",
   "nbconvert_exporter": "python",
   "pygments_lexer": "ipython3",
   "version": "3.10.4"
  },
  "orig_nbformat": 4,
  "vscode": {
   "interpreter": {
    "hash": "12d9efd1b418ad7485587f2da0512ee7fc7c20b6462fdb2a696d6f33bbf19b58"
   }
  }
 },
 "nbformat": 4,
 "nbformat_minor": 2
}
