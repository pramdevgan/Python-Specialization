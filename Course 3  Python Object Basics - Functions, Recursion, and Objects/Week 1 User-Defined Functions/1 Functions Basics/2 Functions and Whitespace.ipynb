{
 "cells": [
  {
   "cell_type": "markdown",
   "metadata": {},
   "source": [
    "# Functions and Whitespace\n",
    "---\n",
    "## Whitespace\n",
    "\n",
    "Whitespace refers to indentations and blank lines in your program. Indentations matter greatly for Python; your program can change greatly when indentation is not properly done. Notice that there is no function call in the code below. What do you think will happen when you run this program?"
   ]
  },
  {
   "cell_type": "code",
   "execution_count": 1,
   "metadata": {},
   "outputs": [
    {
     "name": "stdout",
     "output_type": "stream",
     "text": [
      "Hello\n"
     ]
    }
   ],
   "source": [
    "def greet_twicee():\n",
    "    print(\"Hello\")\n",
    "print(\"Hello\")"
   ]
  },
  {
   "cell_type": "markdown",
   "metadata": {},
   "source": [
    "So the first print statement does not run because there is no function call. However, the second print statement is not a part of the function definition because it is not indented. So it will run when the program is executed."
   ]
  },
  {
   "cell_type": "markdown",
   "metadata": {},
   "source": [
    "## What happens if you:\n",
    "\n",
    "* Change the code to look like this:\n",
    "\n",
    "```python\n",
    "def greet_twice():\n",
    "  print(\"Hello\")\n",
    "    print(\"Hello\")\n",
    "greet_twice()\n",
    "```\n",
    "\n",
    "* Change the code to look like this:\n",
    "\n",
    "```python\n",
    "def greet_twice():\n",
    "  \n",
    "  print(\"Hello\")\n",
    "  \n",
    "  print(\"Hello\")\n",
    "\n",
    "greet_twice()\n",
    "```\n",
    "\n",
    "* Change the code to look like this:\n",
    "\n",
    "```python\n",
    "def greet_twice():\n",
    "    print(\"Hello\")\n",
    "    print(\"Hello\")\n",
    "    greet_twice()\n",
    "```"
   ]
  },
  {
   "cell_type": "code",
   "execution_count": 3,
   "metadata": {},
   "outputs": [
    {
     "ename": "IndentationError",
     "evalue": "unexpected indent (2147332476.py, line 3)",
     "output_type": "error",
     "traceback": [
      "\u001b[1;36m  Input \u001b[1;32mIn [3]\u001b[1;36m\u001b[0m\n\u001b[1;33m    print(\"Hello\")\u001b[0m\n\u001b[1;37m    ^\u001b[0m\n\u001b[1;31mIndentationError\u001b[0m\u001b[1;31m:\u001b[0m unexpected indent\n"
     ]
    }
   ],
   "source": [
    "def greet_twice():\n",
    "  print(\"Hello\")\n",
    "    print(\"Hello\")\n",
    "greet_twice()"
   ]
  },
  {
   "cell_type": "code",
   "execution_count": 4,
   "metadata": {},
   "outputs": [
    {
     "name": "stdout",
     "output_type": "stream",
     "text": [
      "Hello\n",
      "Hello\n"
     ]
    }
   ],
   "source": [
    "def greet_twice():\n",
    "  \n",
    "  print(\"Hello\")\n",
    "  \n",
    "  print(\"Hello\")\n",
    "\n",
    "greet_twice()"
   ]
  },
  {
   "cell_type": "code",
   "execution_count": 5,
   "metadata": {},
   "outputs": [],
   "source": [
    "def greet_twice():\n",
    "    print(\"Hello\")\n",
    "    print(\"Hello\")\n",
    "    greet_twice()"
   ]
  },
  {
   "cell_type": "markdown",
   "metadata": {},
   "source": [
    "## Order Matters\n",
    "\n",
    "The order of function definitions and function calls is important in Python. In the code below, the function call appears before the function definition. What do you think will happen when you run the code?"
   ]
  },
  {
   "cell_type": "code",
   "execution_count": 7,
   "metadata": {},
   "outputs": [
    {
     "ename": "NameError",
     "evalue": "name 'greet_twice1' is not defined",
     "output_type": "error",
     "traceback": [
      "\u001b[1;31m---------------------------------------------------------------------------\u001b[0m",
      "\u001b[1;31mNameError\u001b[0m                                 Traceback (most recent call last)",
      "\u001b[1;32mc:\\Users\\vpram\\Python Specialization\\Course 3  Python Object Basics - Functions, Recursion, and Objects\\Week 1 User-Defined Functions\\1 Functions Basics\\2 Functions and Whitespace.ipynb Cell 9\u001b[0m in \u001b[0;36m<module>\u001b[1;34m\u001b[0m\n\u001b[1;32m----> <a href='vscode-notebook-cell:/c%3A/Users/vpram/Python%20Specialization/Course%203%20%20Python%20Object%20Basics%20-%20Functions%2C%20Recursion%2C%20and%20Objects/Week%201%20User-Defined%20Functions/1%20Functions%20Basics/2%20Functions%20and%20Whitespace.ipynb#X13sZmlsZQ%3D%3D?line=0'>1</a>\u001b[0m greet_twice1()\n\u001b[0;32m      <a href='vscode-notebook-cell:/c%3A/Users/vpram/Python%20Specialization/Course%203%20%20Python%20Object%20Basics%20-%20Functions%2C%20Recursion%2C%20and%20Objects/Week%201%20User-Defined%20Functions/1%20Functions%20Basics/2%20Functions%20and%20Whitespace.ipynb#X13sZmlsZQ%3D%3D?line=2'>3</a>\u001b[0m \u001b[39mdef\u001b[39;00m \u001b[39mgreet_twice1\u001b[39m():\n\u001b[0;32m      <a href='vscode-notebook-cell:/c%3A/Users/vpram/Python%20Specialization/Course%203%20%20Python%20Object%20Basics%20-%20Functions%2C%20Recursion%2C%20and%20Objects/Week%201%20User-Defined%20Functions/1%20Functions%20Basics/2%20Functions%20and%20Whitespace.ipynb#X13sZmlsZQ%3D%3D?line=3'>4</a>\u001b[0m     \u001b[39mprint\u001b[39m(\u001b[39m\"\u001b[39m\u001b[39mHello\u001b[39m\u001b[39m\"\u001b[39m)\n",
      "\u001b[1;31mNameError\u001b[0m: name 'greet_twice1' is not defined"
     ]
    }
   ],
   "source": [
    "greet_twice1()\n",
    "\n",
    "def greet_twice1():\n",
    "    print(\"Hello\")\n",
    "    print(\"Hello\")"
   ]
  },
  {
   "cell_type": "markdown",
   "metadata": {},
   "source": [
    "Python says that `greet_twice` is not defined. But two lines later the function is clearly defined. Python requires that functions be defined before they are called."
   ]
  },
  {
   "cell_type": "markdown",
   "metadata": {},
   "source": [
    "## Reading Question\n",
    "\n",
    "How do you tell Python that your function declaration is done?\n",
    "\n",
    "- **`Remove the indentation`**\n",
    "- Use the `}` character\n",
    "- Use the `end` keyword\n",
    "- Use the `)` character\n",
    "\n",
    "Python uses whitespace to differentiate between normal code and a function definition. Code for a function definition is indented (4 spaces is convention). Once code no longer has this indentation, the function definition is done. Blank lines have no affect on how Python interprets your code. Though blank lines can make your code easier to read for humans."
   ]
  }
 ],
 "metadata": {
  "kernelspec": {
   "display_name": "Python 3.10.4 64-bit",
   "language": "python",
   "name": "python3"
  },
  "language_info": {
   "codemirror_mode": {
    "name": "ipython",
    "version": 3
   },
   "file_extension": ".py",
   "mimetype": "text/x-python",
   "name": "python",
   "nbconvert_exporter": "python",
   "pygments_lexer": "ipython3",
   "version": "3.10.4"
  },
  "orig_nbformat": 4,
  "vscode": {
   "interpreter": {
    "hash": "12d9efd1b418ad7485587f2da0512ee7fc7c20b6462fdb2a696d6f33bbf19b58"
   }
  }
 },
 "nbformat": 4,
 "nbformat_minor": 2
}
