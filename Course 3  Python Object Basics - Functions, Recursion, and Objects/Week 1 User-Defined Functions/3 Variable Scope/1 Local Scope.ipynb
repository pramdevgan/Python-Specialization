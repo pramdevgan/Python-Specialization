{
 "cells": [
  {
   "cell_type": "markdown",
   "metadata": {},
   "source": [
    "# Local Scope\n",
    "---\n",
    "## Local Scope\n",
    "\n",
    "Take a look at the code below. The first function declares the variable `my_var` and then prints it. The second function also prints `my_var`. What do you think the output will be?"
   ]
  },
  {
   "cell_type": "code",
   "execution_count": 4,
   "metadata": {},
   "outputs": [
    {
     "name": "stdout",
     "output_type": "stream",
     "text": [
      "Hello\n"
     ]
    },
    {
     "ename": "NameError",
     "evalue": "name 'my_var' is not defined",
     "output_type": "error",
     "traceback": [
      "\u001b[1;31m---------------------------------------------------------------------------\u001b[0m",
      "\u001b[1;31mNameError\u001b[0m                                 Traceback (most recent call last)",
      "\u001b[1;32mc:\\Users\\vpram\\Python Specialization\\Course 3  Python Object Basics - Functions, Recursion, and Objects\\Week 1 User-Defined Functions\\3 Variable Scope\\1 Local Scope.ipynb Cell 2\u001b[0m in \u001b[0;36m<module>\u001b[1;34m\u001b[0m\n\u001b[0;32m      <a href='vscode-notebook-cell:/c%3A/Users/vpram/Python%20Specialization/Course%203%20%20Python%20Object%20Basics%20-%20Functions%2C%20Recursion%2C%20and%20Objects/Week%201%20User-Defined%20Functions/3%20Variable%20Scope/1%20Local%20Scope.ipynb#W1sZmlsZQ%3D%3D?line=5'>6</a>\u001b[0m     \u001b[39mprint\u001b[39m(my_var)\n\u001b[0;32m      <a href='vscode-notebook-cell:/c%3A/Users/vpram/Python%20Specialization/Course%203%20%20Python%20Object%20Basics%20-%20Functions%2C%20Recursion%2C%20and%20Objects/Week%201%20User-Defined%20Functions/3%20Variable%20Scope/1%20Local%20Scope.ipynb#W1sZmlsZQ%3D%3D?line=7'>8</a>\u001b[0m function_1()\n\u001b[1;32m----> <a href='vscode-notebook-cell:/c%3A/Users/vpram/Python%20Specialization/Course%203%20%20Python%20Object%20Basics%20-%20Functions%2C%20Recursion%2C%20and%20Objects/Week%201%20User-Defined%20Functions/3%20Variable%20Scope/1%20Local%20Scope.ipynb#W1sZmlsZQ%3D%3D?line=8'>9</a>\u001b[0m function_2()\n",
      "\u001b[1;32mc:\\Users\\vpram\\Python Specialization\\Course 3  Python Object Basics - Functions, Recursion, and Objects\\Week 1 User-Defined Functions\\3 Variable Scope\\1 Local Scope.ipynb Cell 2\u001b[0m in \u001b[0;36mfunction_2\u001b[1;34m()\u001b[0m\n\u001b[0;32m      <a href='vscode-notebook-cell:/c%3A/Users/vpram/Python%20Specialization/Course%203%20%20Python%20Object%20Basics%20-%20Functions%2C%20Recursion%2C%20and%20Objects/Week%201%20User-Defined%20Functions/3%20Variable%20Scope/1%20Local%20Scope.ipynb#W1sZmlsZQ%3D%3D?line=4'>5</a>\u001b[0m \u001b[39mdef\u001b[39;00m \u001b[39mfunction_2\u001b[39m():\n\u001b[1;32m----> <a href='vscode-notebook-cell:/c%3A/Users/vpram/Python%20Specialization/Course%203%20%20Python%20Object%20Basics%20-%20Functions%2C%20Recursion%2C%20and%20Objects/Week%201%20User-Defined%20Functions/3%20Variable%20Scope/1%20Local%20Scope.ipynb#W1sZmlsZQ%3D%3D?line=5'>6</a>\u001b[0m     \u001b[39mprint\u001b[39m(my_var)\n",
      "\u001b[1;31mNameError\u001b[0m: name 'my_var' is not defined"
     ]
    }
   ],
   "source": [
    "def function_1():\n",
    "    my_var = \"Hello\"\n",
    "    print(my_var)\n",
    "    \n",
    "def function_2():\n",
    "    print(my_var)\n",
    "    \n",
    "function_1()\n",
    "function_2()\n"
   ]
  },
  {
   "cell_type": "markdown",
   "metadata": {},
   "source": [
    "Python says the problem is that `my_var` is not defined even though the variable is defined on line 3. Variables declared inside a function have local scope. That means `my_var` only “exists” in `function_1`, it cannot be referenced outside of its function. In the image below, light blue box represents the scope of `my_var`. Since `function_2` is outside the scope of `my_var` an error occurs.\n",
    "\n",
    "![Local Scope](https://apollo-media.codio.com/media%2F1%2F2d59f6c1def12e02b9ad1fa448ca191c-1ad719af-1795-4aa3-981a-a71cc192cf53.webp)"
   ]
  },
  {
   "cell_type": "markdown",
   "metadata": {},
   "source": [
    "## What happens if you:\n",
    "* Change `function_2` to look like this:\n",
    "\n",
    "```python\n",
    "def function_2():\n",
    "    my_var2 = \"Hello\"\n",
    "    print(my_var2)\n",
    "```"
   ]
  },
  {
   "cell_type": "code",
   "execution_count": 1,
   "metadata": {},
   "outputs": [
    {
     "name": "stdout",
     "output_type": "stream",
     "text": [
      "Hello\n"
     ]
    }
   ],
   "source": [
    "def function_2():\n",
    "    my_var = \"Hello\"\n",
    "    print(my_var)\n",
    "\n",
    "function_2()"
   ]
  },
  {
   "cell_type": "markdown",
   "metadata": {},
   "source": [
    "## More Local Scope\n",
    "\n",
    "Each function has its own local scope. That means you can declare two variables with the same name as long as they are in separate functions. The red `my_var` exists only in the light red box, and the blue `my_var` exists only in the light blue box. The boundaries of local scope keep Python from overwriting the value of the first variable with the contents of the second.\n",
    "\n",
    "![Local Scope](https://apollo-media.codio.com/media%2F1%2F828becb561d213b7db02959796287aae-c0ff5924-74b3-47ec-8d6a-1a8d48a60a51.webp)"
   ]
  },
  {
   "cell_type": "code",
   "execution_count": 3,
   "metadata": {},
   "outputs": [
    {
     "name": "stdout",
     "output_type": "stream",
     "text": [
      "Hello\n",
      "Bonjour\n"
     ]
    }
   ],
   "source": [
    "def function_1 ():\n",
    "    my_var = \"Hello\"\n",
    "    print(my_var)\n",
    "\n",
    "def function_2 ():\n",
    "    my_var = \"Bonjour\"\n",
    "    print(my_var)\n",
    "\n",
    "\n",
    "function_1()\n",
    "function_2()"
   ]
  },
  {
   "cell_type": "markdown",
   "metadata": {},
   "source": [
    "## What happens if you:\n",
    "\n",
    "* Declare and call `function_3`:\n",
    "\n",
    "```python\n",
    "def function_3():\n",
    "    my_var = \"Hola\"\n",
    "    print(my_var)\n",
    "```"
   ]
  },
  {
   "cell_type": "code",
   "execution_count": 4,
   "metadata": {},
   "outputs": [
    {
     "name": "stdout",
     "output_type": "stream",
     "text": [
      "Hello\n",
      "Bonjour\n",
      "Hola\n"
     ]
    }
   ],
   "source": [
    "def function_1 ():\n",
    "    my_var = \"Hello\"\n",
    "    print(my_var)\n",
    "\n",
    "def function_2 ():\n",
    "    my_var = \"Bonjour\"\n",
    "    print(my_var)\n",
    "\n",
    "def function_3 ():\n",
    "    my_var = \"Hola\"\n",
    "    print(my_var)\n",
    "\n",
    "\n",
    "function_1()\n",
    "function_2()\n",
    "function_3()"
   ]
  },
  {
   "cell_type": "markdown",
   "metadata": {},
   "source": [
    "## Reading Question\n",
    "\n",
    "Fill in the blanks below.\n",
    "\n",
    "**`Variables`** declared inside a function have\n",
    "\n",
    "**`local`** scope. This means you can only reference the variable from\n",
    "\n",
    "**`inside`** the function. Trying to reference the variable from\n",
    "\n",
    "**`outside`** the function will cause an error.\n",
    "\n",
    "Variables declared inside a function have local scope. This means you can only reference the variable from inside the function. Trying to reference the variable from outside the function will cause an error."
   ]
  }
 ],
 "metadata": {
  "kernelspec": {
   "display_name": "Python 3.10.4 64-bit",
   "language": "python",
   "name": "python3"
  },
  "language_info": {
   "codemirror_mode": {
    "name": "ipython",
    "version": 3
   },
   "file_extension": ".py",
   "mimetype": "text/x-python",
   "name": "python",
   "nbconvert_exporter": "python",
   "pygments_lexer": "ipython3",
   "version": "3.10.4"
  },
  "orig_nbformat": 4,
  "vscode": {
   "interpreter": {
    "hash": "12d9efd1b418ad7485587f2da0512ee7fc7c20b6462fdb2a696d6f33bbf19b58"
   }
  }
 },
 "nbformat": 4,
 "nbformat_minor": 2
}
