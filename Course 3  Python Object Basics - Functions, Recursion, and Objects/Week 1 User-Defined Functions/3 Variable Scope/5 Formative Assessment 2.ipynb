{
 "cells": [
  {
   "cell_type": "markdown",
   "metadata": {},
   "source": [
    "# Formative Assessment 2\n",
    "---\n",
    "## Formative Assessment\n",
    "\n",
    "Rearrange the code blocks below to create a program with the global variable `my_var`. Define and call the function `change_var`, which should be able to modify the value of `my_var`.  **Note** , not all of the code blocks will be used.\n",
    "\n",
    "Drag from here\n",
    "```python\n",
    "def change_var():\n",
    "global my_var\n",
    "my_var.global()\n",
    "my_var = 0\n",
    "global(my_var)\n",
    "change_var()\n",
    "my_var += 1\n",
    "```\n",
    "\n",
    "Construct your solution here\n",
    "\n",
    "Start with declaring the global variable `my_var`. Then declare the function `change_var`. In order to modify the a global variable in a function, use the keyword `global` followed by the variable name. Change the value of `my_var` (in this case add 1). Finally call the function `change_var`.\n",
    "\n",
    "```python\n",
    "my_var = 0\n",
    "def change_var ():\n",
    "    global my_var\n",
    "    my_var += 1\n",
    "change_var()\n",
    "```"
   ]
  },
  {
   "cell_type": "code",
   "execution_count": 3,
   "metadata": {},
   "outputs": [],
   "source": [
    "my_var = 0\n",
    "def change_var ():\n",
    "    global my_var\n",
    "    my_var += 1\n",
    "change_var()"
   ]
  }
 ],
 "metadata": {
  "kernelspec": {
   "display_name": "Python 3.10.4 64-bit",
   "language": "python",
   "name": "python3"
  },
  "language_info": {
   "codemirror_mode": {
    "name": "ipython",
    "version": 3
   },
   "file_extension": ".py",
   "mimetype": "text/x-python",
   "name": "python",
   "nbconvert_exporter": "python",
   "pygments_lexer": "ipython3",
   "version": "3.10.4"
  },
  "orig_nbformat": 4,
  "vscode": {
   "interpreter": {
    "hash": "12d9efd1b418ad7485587f2da0512ee7fc7c20b6462fdb2a696d6f33bbf19b58"
   }
  }
 },
 "nbformat": 4,
 "nbformat_minor": 2
}
