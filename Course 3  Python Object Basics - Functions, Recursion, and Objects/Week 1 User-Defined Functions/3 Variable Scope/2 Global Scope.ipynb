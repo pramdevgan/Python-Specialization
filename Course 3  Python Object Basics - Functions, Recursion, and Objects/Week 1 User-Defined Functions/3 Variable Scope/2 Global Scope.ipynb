{
 "cells": [
  {
   "cell_type": "markdown",
   "metadata": {},
   "source": [
    "# Global Scope\n",
    "\n",
    "## Global Scope - Referencing Variables\n",
    "\n",
    "When a variable is declared inside a function, it has local scope. When a variable is declared in the main program, it has global scope. Global variables are declared outside of functions, but can be referenced inside a function.\n",
    "\n",
    "![Global Scope 1](https://apollo-media.codio.com/media%2F1%2F54f0f1800b18a7b9c5550dc427fbee6c-f8689593-bbf8-47d7-83a5-4eb78ca58d4f.webp)"
   ]
  },
  {
   "cell_type": "code",
   "execution_count": 4,
   "metadata": {},
   "outputs": [
    {
     "name": "stdout",
     "output_type": "stream",
     "text": [
      "Hello\n",
      "Help on function say_hello in module __main__:\n",
      "\n",
      "say_hello()\n",
      "    Print a greeting\n",
      "\n"
     ]
    }
   ],
   "source": [
    "greeting = \"Hello\"\n",
    "def say_hello():\n",
    "    \"\"\"Print a greeting\"\"\"\n",
    "    print(greeting)\n",
    "\n",
    "say_hello()\n",
    "help(say_hello)"
   ]
  },
  {
   "cell_type": "markdown",
   "metadata": {},
   "source": [
    "There is a dotted line around the function because there are limitations on what can be done to global variables.\n",
    "\n",
    "## What happens if you:\n",
    "\n",
    "* Modify `greeting` inside the function:\n",
    "\n",
    "```python\n",
    "greeting = \"Hello\"\n",
    "\n",
    "def say_hello():\n",
    "    \"\"\"Print a greeting\"\"\"\n",
    "    greeting = \"Bonjour\"\n",
    "    print(greeting)\n",
    "\n",
    "say_hello()\n",
    "print(greeting)\n",
    "```"
   ]
  },
  {
   "cell_type": "code",
   "execution_count": 6,
   "metadata": {},
   "outputs": [
    {
     "name": "stdout",
     "output_type": "stream",
     "text": [
      "Bonjour\n",
      "Hello\n"
     ]
    }
   ],
   "source": [
    "greeting = \"Hello\"\n",
    "def say_hello():\n",
    "    \"\"\"Print a greeting\"\"\"\n",
    "    greeting = \"Bonjour\"\n",
    "    print(greeting)\n",
    "\n",
    "say_hello()\n",
    "print(greeting)"
   ]
  },
  {
   "cell_type": "markdown",
   "metadata": {},
   "source": [
    "## Global Scope - Modifying Variables\n",
    "\n",
    "The suggestion above asked you to try and modify `greeting` inside the function. However, the output of the program did not change the value of the original `greeting`. Be default, you can reference a global variable in a function, but you cannot modify it. The `global` keyword allows you to modify global variables inside a function. In the image below, there is no more dotted line around the function. `global` removes the restriction for modifying `greeting`. That is why the output is `Bonjour` and `Bonjour`.\n",
    "\n",
    "![Global Scope 2](https://apollo-media.codio.com/media%2F1%2Ff4fe002304a221d3ef4379a94569368c-595d0d0c-f501-4458-bd4c-8559efc46f80.webp)"
   ]
  },
  {
   "cell_type": "code",
   "execution_count": 7,
   "metadata": {},
   "outputs": [
    {
     "name": "stdout",
     "output_type": "stream",
     "text": [
      "Bonjour\n",
      "Bonjour\n"
     ]
    }
   ],
   "source": [
    "greeting = \"Hello\"\n",
    "\n",
    "def say_hello():\n",
    "    \"\"\"Demonstrate how to use the global keyword\"\"\"\n",
    "    global greeting\n",
    "    greeting = \"Bonjour\"\n",
    "    print(greeting)\n",
    "\n",
    "say_hello()\n",
    "print(greeting)"
   ]
  },
  {
   "cell_type": "markdown",
   "metadata": {},
   "source": [
    "## What happens if you:\n",
    "* Make the code look like this:\n",
    "\n",
    "```python\n",
    "def say_hello():\n",
    "    \"\"\"Demonstrate how to use the global keyword\"\"\"\n",
    "    global greeting\n",
    "    greeting = \"Bonjour\"\n",
    "    print(greeting)\n",
    "\n",
    "say_hello()\n",
    "print(greeting)\n",
    "```\n",
    "\n",
    "* Flip the order of `say_hello()` and `print(greeting)`, and run the program again?"
   ]
  },
  {
   "cell_type": "code",
   "execution_count": 8,
   "metadata": {},
   "outputs": [
    {
     "name": "stdout",
     "output_type": "stream",
     "text": [
      "Bonjour\n",
      "Bonjour\n"
     ]
    }
   ],
   "source": [
    "def say_hello():\n",
    "    \"\"\"Demonstrate how to use the global keyword\"\"\"\n",
    "    global greeting\n",
    "    greeting = \"Bonjour\"\n",
    "    print(greeting)\n",
    "\n",
    "say_hello()\n",
    "print(greeting)"
   ]
  },
  {
   "cell_type": "code",
   "execution_count": 9,
   "metadata": {},
   "outputs": [
    {
     "name": "stdout",
     "output_type": "stream",
     "text": [
      "Bonjour\n",
      "Bonjour\n"
     ]
    }
   ],
   "source": [
    "print(greeting)\n",
    "say_hello()"
   ]
  },
  {
   "cell_type": "markdown",
   "metadata": {},
   "source": [
    "## Reading Question\n",
    "\n",
    "What does the `global` keyword do?\n",
    "\n",
    "- Without the `global` keyword, all variables will be local variables.\n",
    "- **The `global` keyword allows for a global variable to be modified inside a function.**\n",
    "- The `global` keyword allows for a global variable to be “seen” inside a function, but it cannot be modified.\n",
    "- The `global` keyword is required for all variable declarations. You will get an error message if you do not use it.\n",
    "\n",
    "All variables declared in the main program are global variables. This means they can be “seen” inside all functions. However, the global variables cannot be modified by the functions. The `global` keyword allows functions to modify global variables."
   ]
  }
 ],
 "metadata": {
  "kernelspec": {
   "display_name": "Python 3.10.4 64-bit",
   "language": "python",
   "name": "python3"
  },
  "language_info": {
   "codemirror_mode": {
    "name": "ipython",
    "version": 3
   },
   "file_extension": ".py",
   "mimetype": "text/x-python",
   "name": "python",
   "nbconvert_exporter": "python",
   "pygments_lexer": "ipython3",
   "version": "3.10.4"
  },
  "orig_nbformat": 4,
  "vscode": {
   "interpreter": {
    "hash": "12d9efd1b418ad7485587f2da0512ee7fc7c20b6462fdb2a696d6f33bbf19b58"
   }
  }
 },
 "nbformat": 4,
 "nbformat_minor": 2
}
