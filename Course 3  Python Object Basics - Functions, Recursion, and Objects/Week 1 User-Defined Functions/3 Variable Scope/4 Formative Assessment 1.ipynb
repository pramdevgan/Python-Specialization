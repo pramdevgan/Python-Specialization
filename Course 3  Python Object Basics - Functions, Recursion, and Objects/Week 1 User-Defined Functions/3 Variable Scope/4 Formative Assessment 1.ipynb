{
 "cells": [
  {
   "cell_type": "markdown",
   "metadata": {},
   "source": [
    "Formative Assessment 1\n",
    "Formative Assessment\n",
    "Rearrange the code blocks below so that the program has a global variable called my_var. The function add_5 should add 5 to my_var.\n",
    "\n",
    "Drag from here\n",
    "```python\n",
    "print(my_var + 5)\n",
    "def add_5():\n",
    "my_var = 5\n",
    "add_5()\n",
    "```\n",
    "Construct your solution here\n",
    "\n",
    "Since **`my_var`** has to be a global variable, it must be declared outside of the function.\n",
    "```python\n",
    "my_var = 5\n",
    "def add_5 ():\n",
    "    print(my_var + 5)\n",
    "add_5()\n",
    "```"
   ]
  },
  {
   "cell_type": "code",
   "execution_count": 1,
   "metadata": {},
   "outputs": [
    {
     "name": "stdout",
     "output_type": "stream",
     "text": [
      "10\n"
     ]
    }
   ],
   "source": [
    "my_var = 5\n",
    "def add_5 ():\n",
    "    print(my_var + 5)\n",
    "add_5()"
   ]
  }
 ],
 "metadata": {
  "kernelspec": {
   "display_name": "Python 3.10.4 64-bit",
   "language": "python",
   "name": "python3"
  },
  "language_info": {
   "codemirror_mode": {
    "name": "ipython",
    "version": 3
   },
   "file_extension": ".py",
   "mimetype": "text/x-python",
   "name": "python",
   "nbconvert_exporter": "python",
   "pygments_lexer": "ipython3",
   "version": "3.10.4"
  },
  "orig_nbformat": 4,
  "vscode": {
   "interpreter": {
    "hash": "12d9efd1b418ad7485587f2da0512ee7fc7c20b6462fdb2a696d6f33bbf19b58"
   }
  }
 },
 "nbformat": 4,
 "nbformat_minor": 2
}
