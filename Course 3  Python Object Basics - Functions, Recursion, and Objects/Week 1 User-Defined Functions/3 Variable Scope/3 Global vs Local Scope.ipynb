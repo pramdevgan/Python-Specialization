{
 "cells": [
  {
   "cell_type": "markdown",
   "metadata": {},
   "source": [
    "# Global vs Local Scope\n",
    "\n",
    "## Global vs Local Scope\n",
    "\n",
    "If there is a collision of local and global variables in a function, the local variable will always take precedence. The global `my_var` (the red one) exists only in the light red area. The local `my_var` (the blue one) exists only in the light blue area. The blue `my_var` is independent of the red `my_var`. That is why the output of the program is two different strings.\n",
    "\n",
    "![Variable Scope](https://apollo-media.codio.com/media%2F1%2Fffcb2f79537579c2b1586a60b86b6325-0df12c4d-be5c-4b8d-8012-401fd4d5fcc7.webp)"
   ]
  },
  {
   "cell_type": "code",
   "execution_count": 1,
   "metadata": {},
   "outputs": [
    {
     "name": "stdout",
     "output_type": "stream",
     "text": [
      "local scope\n",
      "global scope\n"
     ]
    }
   ],
   "source": [
    "my_var = \"global scope\"\n",
    "\n",
    "def print_scope():\n",
    "    \"\"\"Demonstrate local scope vs global scope\"\"\"\n",
    "    my_var = \"local scope\"\n",
    "    print(my_var)\n",
    "\n",
    "print_scope()\n",
    "print(my_var)"
   ]
  },
  {
   "cell_type": "markdown",
   "metadata": {},
   "source": [
    "The exception to this rule is when the `global` keyword is being used. In this case, the global variable takes precedence."
   ]
  },
  {
   "cell_type": "code",
   "execution_count": 2,
   "metadata": {},
   "outputs": [
    {
     "name": "stdout",
     "output_type": "stream",
     "text": [
      "local scope\n",
      "local scope\n"
     ]
    }
   ],
   "source": [
    "my_var = \"global scope\"\n",
    "\n",
    "def print_scope():\n",
    "    \"\"\"Demonstrate local scope vs global scope\"\"\"\n",
    "    global my_var\n",
    "    my_var = \"local scope\"\n",
    "    print(my_var)\n",
    "\n",
    "print_scope()\n",
    "print(my_var)"
   ]
  },
  {
   "cell_type": "markdown",
   "metadata": {},
   "source": [
    "## What happens if you:\n",
    "\n",
    "* Add the parameter `my_var` to the `print_scope` function and pass `my_var` to `print_scope` in the function call?\n",
    "\n",
    "```python\n",
    "my_var = \"global scope\"\n",
    "\n",
    "def print_scope(my_var):\n",
    "    \"\"\"Demonstrate local scope vs global scope\"\"\"\n",
    "    my_var = \"local scope\"\n",
    "    print(my_var)\n",
    "\n",
    "print_scope(my_var)\n",
    "print(my_var)\n",
    "```"
   ]
  },
  {
   "cell_type": "code",
   "execution_count": 3,
   "metadata": {},
   "outputs": [
    {
     "name": "stdout",
     "output_type": "stream",
     "text": [
      "local scope\n",
      "global scope\n"
     ]
    }
   ],
   "source": [
    "my_var = \"global scope\"\n",
    "\n",
    "def print_scope(my_var):\n",
    "    \"\"\"Demonstrate local scope vs global scope\"\"\"\n",
    "    my_var = \"local scope\"\n",
    "    print(my_var)\n",
    "\n",
    "print_scope(my_var)\n",
    "print(my_var)"
   ]
  },
  {
   "cell_type": "markdown",
   "metadata": {},
   "source": [
    "## Reading Question\n",
    "\n",
    "Fill in the blanks below.\n",
    "\n",
    "- When you have a local and global variable with the same name and there is no **`global`** keyword, the local scope variable takes precedence.\n",
    "\n",
    "- When you have a local and global variable with the same name and the **`global`** keyword is being used, the global scope variable takes precedence.\n",
    "\n",
    "When there are a local and global variable with the same name and the **`global`** keyword **is not** being used, then the local scope variable takes precedence.\n",
    "\n",
    "When there are a local and global variable with the same name and the **`global`** keyword **is** being used, then the global scope variable takes precedence."
   ]
  }
 ],
 "metadata": {
  "kernelspec": {
   "display_name": "Python 3.10.4 64-bit",
   "language": "python",
   "name": "python3"
  },
  "language_info": {
   "codemirror_mode": {
    "name": "ipython",
    "version": 3
   },
   "file_extension": ".py",
   "mimetype": "text/x-python",
   "name": "python",
   "nbconvert_exporter": "python",
   "pygments_lexer": "ipython3",
   "version": "3.10.4"
  },
  "orig_nbformat": 4,
  "vscode": {
   "interpreter": {
    "hash": "12d9efd1b418ad7485587f2da0512ee7fc7c20b6462fdb2a696d6f33bbf19b58"
   }
  }
 },
 "nbformat": 4,
 "nbformat_minor": 2
}
