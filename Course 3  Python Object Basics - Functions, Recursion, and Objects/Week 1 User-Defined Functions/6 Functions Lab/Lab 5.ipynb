{
 "cells": [
  {
   "cell_type": "markdown",
   "metadata": {},
   "source": [
    "# Lab 5\n",
    "\n",
    "## Lab 5 - Adding Helper Functions\n",
    "\n",
    "On the previous page, the following functions were referenced in the program, but have not yet been declared. Create the functions before the `user_interface` function. Set the function bodies to `pass` for now.\n"
   ]
  },
  {
   "cell_type": "code",
   "execution_count": 1,
   "metadata": {},
   "outputs": [],
   "source": [
    "def ask_column():\n",
    "    \"\"\"Ask the user by which criteria they want to sort the data\"\"\"\n",
    "    pass\n",
    "\n",
    "\n",
    "def sanitize_column(column):\n",
    "    \"\"\"Return True if the user entered a valid number, else return False\"\"\"\n",
    "    pass\n",
    "\n",
    "\n",
    "def ask_order():\n",
    "    \"\"\"Ask the user how they want the data sorted: ascending or descending\"\"\"\n",
    "    pass\n",
    "\n",
    "\n",
    "def sanitize_order(order):\n",
    "    \"\"\"Return True if the user entered a valid number, else return False\"\"\"\n",
    "    pass\n"
   ]
  },
  {
   "cell_type": "markdown",
   "metadata": {},
   "source": [
    "The code technically works, but it is not a good idea to run it just yet. Because none of the above functions do anything, your program will be stuck in an infinite loop.\n",
    "\n",
    "<details open=\"\"><summary><strong>Why is the program an infinite loop?</strong></summary>\n",
    "\n",
    "Running your program calls the `user_interface` function. This function has a `while True:` loop. The `break` statement is run only when the variable `column` is `\"6\"`. The `ask_column` function above is responsible for generating the value for `column`. Right now, the function returns `pass` which is not equal to `\"6\"`, so the `break` statement is never called, and the loop runs infinitely.\n",
    "\n",
    "</details>\n",
    "\n",
    "The function `ask_column` should ask the user to type in a number 1 to 6, with each number representing a choice. To make this readable, each choice should be on its own line. This is where the triple-quote makes printed formatted text easy. The function should return the value `column`.\n"
   ]
  },
  {
   "cell_type": "code",
   "execution_count": 2,
   "metadata": {},
   "outputs": [],
   "source": [
    "def ask_column():\n",
    "    \"\"\"Ask the user by which criteria they want to sort the data\"\"\"\n",
    "    column = input(\"\"\"How do you want to sort the movie data? Enter '6' to exit the program\n",
    "        1) By Film Title\n",
    "        2) Genre\n",
    "        3) Lead Studio\n",
    "        4) Audience Score %\n",
    "        5) Profitability\n",
    "        6) Rotten Tomatoes %\n",
    "        7) Worldwide Gross\n",
    "        8) Year\n",
    "        9) Quit\\n\"\"\")\n",
    "    return column\n"
   ]
  },
  {
   "cell_type": "markdown",
   "metadata": {},
   "source": [
    "The function `sanitize_column` returns `True` if the user typed in a valid choice. It returns `False` if they did not. Two things must be true for `column` to be a valid choice. First, it must be a number. Any data coming from `input` is captured as a string. The string `\"6\"` can be typecast as an int; the string `\"cat\"` cannot. If `column` cannot be typecast as an int, then there is a `ValueError`. So this function is going to use `try... except`. A `ValueError` should result in the function returning `False`. The second thing that must be true is that `column` must be greater than or equal to 1 and less than or equal to 6. Return the value of this boolean expression.\n"
   ]
  },
  {
   "cell_type": "code",
   "execution_count": 3,
   "metadata": {},
   "outputs": [],
   "source": [
    "def sanitize_column(column):\n",
    "    \"\"\"Return True if the user entered a valid number, else return False\"\"\"\n",
    "    try:\n",
    "        int(column)\n",
    "        return int(column) >= 1 and int(column) <= 8\n",
    "    except ValueError:\n",
    "        return False\n"
   ]
  },
  {
   "cell_type": "markdown",
   "metadata": {},
   "source": [
    "The `ask_order` function is almost identical to the `ask_column` function. Instead, it asks the user to enter a 1 or 2.\n"
   ]
  },
  {
   "cell_type": "code",
   "execution_count": 4,
   "metadata": {},
   "outputs": [],
   "source": [
    "def ask_order():\n",
    "        \"\"\"Ask the user how they want the data sorted: ascending or descending\"\"\"\n",
    "        order = input(\"\"\"How do you want the movie data ordered?\n",
    "                1) Ascending Order\n",
    "                2) Descending Order\\n\"\"\")\n",
    "        return order"
   ]
  },
  {
   "cell_type": "markdown",
   "metadata": {},
   "source": [
    "Similarly, `santize_order` is almost identical to `sanitize_column`. Instead, it checks to see if `order` is either a 1 or 2.\n"
   ]
  },
  {
   "cell_type": "code",
   "execution_count": 5,
   "metadata": {},
   "outputs": [],
   "source": [
    "def sanitize_order(order):\n",
    "    \"\"\"Return True if the user entered a valid number, else return False\"\"\"\n",
    "    try:\n",
    "        int(order)\n",
    "        return int(order) >= 1 and int(order) <= 2\n",
    "    except ValueError:\n",
    "        return False\n"
   ]
  },
  {
   "cell_type": "code",
   "execution_count": 8,
   "metadata": {},
   "outputs": [
    {
     "name": "stdout",
     "output_type": "stream",
     "text": [
      "Film                                           Genre         Lead Studio                Audience score %   Profitability       Rotten Tomatoes %   Worldwide Gross    Year \n",
      "Zack and Miri Make a Porno                     Romance       The Weinstein Company             70          1.747541667                 64          $41.94             2008 \n",
      "Youth in Revolt                                Comedy        The Weinstein Company             52          1.09                        68          $19.62             2010 \n",
      "You Will Meet a Tall Dark Stranger             Comedy        Independent                       35          1.211818182                 43          $26.66             2010 \n",
      "When in Rome                                   Comedy        Disney                            44          0                           15          $43.04             2010 \n",
      "What Happens in Vegas                          Comedy        Fox                               72          6.267647029                 28          $219.37            2008 \n",
      "Water For Elephants                            Drama         20th Century Fox                  72          3.081421053                 60          $117.09            2011 \n",
      "Waitress                                       Romance       Independent                       67          11.0897415                  89          $22.18             2007 \n",
      "Waiting For Forever                            Romance       Independent                       53          0.005                       6           $0.03              2011 \n",
      "WALL-E                                         Animation     Disney                            89          2.896019067                 96          $521.28            2008 \n",
      "Valentine's Day                                Comedy        Warner Bros.                      54          4.184038462                 17          $217.57            2010 \n",
      "Tyler Perry's Why Did I get Married            Romance       Independent                       47          3.7241924                   46          $55.86             2007 \n",
      "Twilight: Breaking Dawn                        Romance       Independent                       68          6.383363636                 26          $702.17            2011 \n",
      "Twilight                                       Romance       Summit                            82          10.18002703                 49          $376.66            2008 \n",
      "The Ugly Truth                                 Comedy        Independent                       68          5.402631579                 14          $205.30            2009 \n",
      "The Twilight Saga: New Moon                    Drama         Summit                            78          14.1964                     27          $709.82            2009 \n",
      "The Time Traveler's Wife                       Drama         Paramount                         65          2.598205128                 38          $101.33            2009 \n",
      "The Proposal                                   Comedy        Disney                            74          7.8675                      43          $314.70            2009 \n",
      "The Invention of Lying                         Comedy        Warner Bros.                      47          1.751351351                 56          $32.40             2009 \n",
      "The Heartbreak Kid                             Comedy        Paramount                         41          2.129444167                 30          $127.77            2007 \n",
      "The Duchess                                    Drama         Paramount                         68          3.207850222                 60          $43.31             2008 \n",
      "The Curious Case of Benjamin Button            Fantasy       Warner Bros.                      81          1.78394375                  73          $285.43            2008 \n",
      "The Back-up Plan                               Comedy        CBS                               47          2.202571429                 20          $77.09             2010 \n",
      "Tangled                                        Animation     Disney                            88          1.365692308                 89          $355.01            2010 \n",
      "Something Borrowed                             Romance       Independent                       48          1.719514286                 15          $60.18             2011 \n",
      "She's Out of My League                         Comedy        Paramount                         60          2.4405                      57          $48.81             2010 \n",
      "Sex and the City Two                           Comedy        Warner Bros.                      49          2.8835                      15          $288.35            2010 \n",
      "Sex and the City 2                             Comedy        Warner Bros.                      49          2.8835                      15          $288.35            2010 \n",
      "Sex and the City                               Comedy        Warner Bros.                      81          7.221795791                 49          $415.25            2008 \n",
      "Remember Me                                    Drama         Summit                            70          3.49125                     28          $55.86             2010 \n",
      "Rachel Getting Married                         Drama         Independent                       61          1.384166667                 85          $16.61             2008 \n",
      "Penelope                                       Comedy        Summit                            74          1.382799733                 52          $20.74             2008 \n",
      "P.S. I Love You                                Romance       Independent                       82          5.103116833                 21          $153.09            2007 \n",
      "Over Her Dead Body                             Comedy        New Line                          47          2.071                       15          $20.71             2008 \n",
      "Our Family Wedding                             Comedy        Independent                       49          0                           14          $21.37             2010 \n",
      "One Day                                        Romance       Independent                       54          3.682733333                 37          $55.24             2011 \n",
      "Not Easily Broken                              Drama         Independent                       66          2.14                        34          $10.70             2009 \n",
      "No Reservations                                Comedy        Warner Bros.                      64          3.307180357                 39          $92.60             2007 \n",
      "Nick and Norah's Infinite Playlist             Comedy        Sony                              67          3.3527293                   73          $33.53             2008 \n",
      "New Year's Eve                                 Romance       Warner Bros.                      48          2.536428571                 8           $142.04            2011 \n",
      "My Week with Marilyn                           Drama         The Weinstein Company             84          0.8258                      83          $8.26              2011 \n",
      "Music and Lyrics                               Romance       Warner Bros.                      70          3.64741055                  63          $145.90            2007 \n",
      "Monte Carlo                                    Romance       20th Century Fox                  50          1.9832                      38          $39.66             2011 \n",
      "Miss Pettigrew Lives for a Day                 Comedy        Independent                       70          0.2528949                   78          $15.17             2008 \n",
      "Midnight in Paris                              Romence       Sony                              84          8.744705882                 93          $148.66            2011 \n",
      "Marley and Me                                  Comedy        Fox                               77          3.746781818                 63          $206.07            2008 \n",
      "Mamma Mia!                                     Comedy        Universal                         76          9.234453864                 53          $609.47            2008 \n",
      "Mamma Mia!                                     Comedy        Universal                         76          9.234453864                 53          $609.47            2008 \n",
      "Made of Honor                                  Comdy         Sony                              61          2.64906835                  13          $105.96            2008 \n",
      "Love Happens                                   Drama         Universal                         40          2.004444444                 18          $36.08             2009 \n",
      "Love & Other Drugs                             Comedy        Fox                               55          1.817666667                 48          $54.53             2010 \n",
      "Life as We Know It                             Comedy        Independent                       62          2.530526316                 28          $96.16             2010 \n",
      "License to Wed                                 Comedy        Warner Bros.                      55          1.9802064                   8           $69.31             2007 \n",
      "Letters to Juliet                              Comedy        Summit                            62          2.639333333                 40          $79.18             2010 \n",
      "Leap Year                                      Comedy        Universal                         49          1.715263158                 21          $32.59             2010 \n",
      "Knocked Up                                     Comedy        Universal                         83          6.636401848                 91          $219               2007 \n",
      "Killers                                        Action        Lionsgate                         45          1.245333333                 11          $93.40             2010 \n",
      "Just Wright                                    Comedy        Fox                               58          1.797416667                 45          $21.57             2010 \n",
      "Jane Eyre                                      Romance       Universal                         77          0                           85          $30.15             2011 \n",
      "It's Complicated                               Comedy        Universal                         63          2.642352941                 56          $224.60            2009 \n",
      "I Love You Phillip Morris                      Comedy        Independent                       57          1.34                        71          $20.10             2010 \n",
      "High School Musical 3: Senior Year             Comedy        Disney                            76          22.91313646                 65          $252.04            2008 \n",
      "He's Just Not That Into You                    Comedy        Warner Bros.                      60          7.1536                      42          $178.84            2009 \n",
      "Good Luck Chuck                                Comedy        Lionsgate                         61          2.36768512                  3           $59.19             2007 \n",
      "Going the Distance                             Comedy        Warner Bros.                      56          1.3140625                   53          $42.05             2010 \n",
      "Gnomeo and Juliet                              Animation     Disney                            52          5.387972222                 56          $193.97            2011 \n",
      "Gnomeo and Juliet                              Animation     Disney                            52          5.387972222                 56          $193.97            2011 \n",
      "Ghosts of Girlfriends Past                     Comedy        Warner Bros.                      47          2.0444                      27          $102.22            2009 \n",
      "Four Christmases                               Comedy        Warner Bros.                      52          2.022925                    26          $161.83            2008 \n",
      "Fireproof                                      Drama         Independent                       51          66.934                      40          $33.47             2008 \n",
      "Enchanted                                      Comedy        Disney                            80          4.005737082                 93          $340.49            2007 \n",
      "Dear John                                      Drama         Sony                              66          4.5988                      29          $114.97            2010 \n",
      "Beginners                                      Comedy        Independent                       80          4.471875                    84          $14.31             2011 \n",
      "Across the Universe                            romance       Independent                       84          0.652603178                 54          $29.37             2007 \n",
      "A Serious Man                                  Drama         Universal                         64          4.382857143                 89          $30.68             2009 \n",
      "A Dangerous Method                             Drama         Independent                       89          0.44864475                  79          $8.97              2011 \n",
      "27 Dresses                                     Comedy        Fox                               71          5.3436218                   40          $160.31            2008 \n",
      "(500) Days of Summer                           comedy        Fox                               81          8.096                       87          $60.72             2009 \n"
     ]
    }
   ],
   "source": [
    "import csv\n",
    "import operator\n",
    "\n",
    "movie_csv = \"student_folder/.labs/movies.csv\"\n",
    "\n",
    "def fetch_movie_data(movie_csv):\n",
    "    \"\"\"Return movie data from a CSV file\"\"\"\n",
    "    with open(movie_csv, \"r\") as movie_file:\n",
    "        reader = csv.reader(movie_file)\n",
    "        movie_info = []\n",
    "        for row in reader:\n",
    "            movie_info.append(row)\n",
    "        return movie_info\n",
    "\n",
    "\n",
    "def get_money(gross):\n",
    "    return float(gross[3])\n",
    "\n",
    "\n",
    "def print_movie_data(data):\n",
    "    \"\"\"Print the movie data in easy to read columns\"\"\"\n",
    "    for Film, Genre, Lead_Studio, Audience_score , Profitability, Rotten_Tomatoes, Worldwide_Gross, Year in data:\n",
    "        print(\"{:46} {:13} {:24} {:^20} {:18} {:^20} {:18} {} \".format(Film, Genre, Lead_Studio, Audience_score , Profitability, Rotten_Tomatoes, Worldwide_Gross, Year))\n",
    "\n",
    "\n",
    "\n",
    "def sort_movie_data(data, index, descending):\n",
    "    \"\"\"Sort movie data based on the column data\"\"\"\n",
    "    header = data[0]\n",
    "    sorted_movies = data[1:]\n",
    "    if index == 3:\n",
    "        sorted_movies.sort(key=get_money)\n",
    "    else:\n",
    "        sorted_movies.sort(key=operator.itemgetter(index))\n",
    "    if descending:\n",
    "        sorted_movies.reverse()\n",
    "    sorted_movies.insert(0, header)\n",
    "    return sorted_movies\n",
    "\n",
    "\n",
    "def user_interface():\n",
    "    \"\"\"Ask user how they want to sort the movie data\"\"\"\n",
    "    while True:\n",
    "        column = ask_column()\n",
    "        if column == \"9\":\n",
    "            break\n",
    "        if sanitize_column(column):\n",
    "            order = ask_order()\n",
    "            if sanitize_order(order):\n",
    "                movie_data = fetch_movie_data(movie_csv)\n",
    "                print_movie_data(sort_movie_data(\n",
    "                    movie_data, int(column) - 1, int(order) == 2))\n",
    "            else:\n",
    "                print(\"Enter a number 1 or 2.\\n\")\n",
    "        else:\n",
    "            print(\"Enter a number 1 to 8.\\n\")\n",
    "user_interface()\n"
   ]
  },
  {
   "cell_type": "markdown",
   "metadata": {},
   "source": [
    "## Lab Question\n",
    "\n",
    "Fill in the blank below.  **Hint** , the answer is two words.\n",
    "\n",
    "The function `user_interface` calls several functions like `ask_column` and `ask_order`. This is an example of ***`Helper Functions`***.\n",
    "\n",
    "When a function calls another function, this is an example of helper functions."
   ]
  }
 ],
 "metadata": {
  "kernelspec": {
   "display_name": "Python 3.10.4 64-bit",
   "language": "python",
   "name": "python3"
  },
  "language_info": {
   "codemirror_mode": {
    "name": "ipython",
    "version": 3
   },
   "file_extension": ".py",
   "mimetype": "text/x-python",
   "name": "python",
   "nbconvert_exporter": "python",
   "pygments_lexer": "ipython3",
   "version": "3.10.4"
  },
  "orig_nbformat": 4,
  "vscode": {
   "interpreter": {
    "hash": "12d9efd1b418ad7485587f2da0512ee7fc7c20b6462fdb2a696d6f33bbf19b58"
   }
  }
 },
 "nbformat": 4,
 "nbformat_minor": 2
}
