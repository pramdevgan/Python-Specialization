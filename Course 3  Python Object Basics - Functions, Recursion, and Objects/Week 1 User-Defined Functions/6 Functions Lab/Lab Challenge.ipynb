{
 "cells": [
  {
   "cell_type": "markdown",
   "metadata": {},
   "source": [
    "# Lab Challenge\n",
    "\n",
    "Write the function `to_upper` which accepts a string parameter. The function should return string, but in all caps.\n",
    "\n",
    "The `TRY IT` button below will test your code with `hello`. If your code returns `HELLO` then you will receive the message that your code passed the test."
   ]
  },
  {
   "cell_type": "code",
   "execution_count": 4,
   "metadata": {},
   "outputs": [
    {
     "data": {
      "text/plain": [
       "'HELLO'"
      ]
     },
     "execution_count": 4,
     "metadata": {},
     "output_type": "execute_result"
    }
   ],
   "source": [
    "def to_upper(str):\n",
    "    return str.upper()\n",
    "\n",
    "str = input(\"Enter a lowercase string:\")\n",
    "to_upper(str)"
   ]
  },
  {
   "cell_type": "markdown",
   "metadata": {},
   "source": [
    "Submit your code when ready\n",
    "\n",
    "The problem asks you to create function named `to_upper` that receives a string parameter and returns the text in uppercase. The easiest way to do that is to use the `upper()` method on the string that is passed to the function.\n",
    "\n",
    "```python\n",
    "def to_upper(txt):\n",
    "    return txt.upper()\n",
    "```\n",
    "\n",
    "Check It!\n",
    "\n",
    "LAST RUN on 8/25/2022, 8:16:08 PM\n",
    "\n",
    "<pre tabindex=\"0\" aria-label=\"Scrollable feedback \" class=\"codio-button-result-out codio-button-result-out-pass codio-feedback-comments\"><h2>Testing your code...</h2>\n",
    "Test 1 <b>passed</b>.\n",
    "Test 2 <b>passed</b>.\n",
    "Test 3 <b>passed</b>.\n",
    "<hr/>\n",
    "<h3>All tests passed!</h3></pre>"
   ]
  }
 ],
 "metadata": {
  "kernelspec": {
   "display_name": "Python 3.10.4 64-bit",
   "language": "python",
   "name": "python3"
  },
  "language_info": {
   "codemirror_mode": {
    "name": "ipython",
    "version": 3
   },
   "file_extension": ".py",
   "mimetype": "text/x-python",
   "name": "python",
   "nbconvert_exporter": "python",
   "pygments_lexer": "ipython3",
   "version": "3.10.4"
  },
  "orig_nbformat": 4,
  "vscode": {
   "interpreter": {
    "hash": "12d9efd1b418ad7485587f2da0512ee7fc7c20b6462fdb2a696d6f33bbf19b58"
   }
  }
 },
 "nbformat": 4,
 "nbformat_minor": 2
}
