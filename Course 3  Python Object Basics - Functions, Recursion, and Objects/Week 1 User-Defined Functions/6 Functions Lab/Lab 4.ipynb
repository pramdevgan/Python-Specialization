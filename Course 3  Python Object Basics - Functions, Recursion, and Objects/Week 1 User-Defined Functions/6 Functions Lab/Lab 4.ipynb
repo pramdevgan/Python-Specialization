{
 "cells": [
  {
   "cell_type": "markdown",
   "metadata": {},
   "source": [
    "# Lab 4\n",
    "\n",
    "## Lab 4 - Command Line Interface\n",
    "\n",
    "The next step is to build an interface for the user of this program. The interface should run continuously until the user tells the program to quite. Define a function `user_interface` with no parameters. Inside the function, have a `while True` loop. The body of the loop should be `pass`."
   ]
  },
  {
   "cell_type": "code",
   "execution_count": 1,
   "metadata": {},
   "outputs": [],
   "source": [
    "import csv,operator\n",
    "\n",
    "movie_csv = \"student_folder/.labs/movies.csv\"\n",
    "\n",
    "def fetch_movie_data(movie_csv):\n",
    "    \"\"\"Return movie data from a CSV file\"\"\"\n",
    "    with open(movie_csv, \"r\") as movie_file:\n",
    "        reader = csv.reader(movie_file)\n",
    "        movie_info = []\n",
    "        for row in reader:\n",
    "            movie_info.append(row)\n",
    "        return movie_info\n",
    "\n",
    "def print_movie_data(data):\n",
    "    \"\"\"Print the movie data in easy to read columns\"\"\"\n",
    "    for Film, Genre, Lead_Studio, Audience_score , Profitability, Rotten_Tomatoes, Worldwide_Gross, Year in data:\n",
    "        print(\"{:46} {:13} {:24} {:20} {:18} {:20} {:18} {} \".format(Film, Genre, Lead_Studio, Audience_score , Profitability, Rotten_Tomatoes, Worldwide_Gross, Year))"
   ]
  },
  {
   "cell_type": "code",
   "execution_count": 2,
   "metadata": {},
   "outputs": [],
   "source": [
    "def user_interface():\n",
    "    \"\"\"Ask user how they want to sort the movie data\"\"\"\n",
    "    while True:\n",
    "        pass"
   ]
  },
  {
   "cell_type": "markdown",
   "metadata": {},
   "source": [
    "Here is the flow of the function `user_interface`:\n",
    "\n",
    "* Ask the user by which criteria they want to sort the data\n",
    "* If the user entered \"6\", quit the program\n",
    "* Check to make sure the data entered is valid\n",
    "  * If not, print a message and start again; the program should not crash\n",
    "* Ask the user if they want ascending or descending order\n",
    "* Check to make sure the data entered is valid\n",
    "  * If not, print a message and start again; the program should not crash\n",
    "* Print the sorted data\n",
    "* Repeat until the user quits\n",
    "\n",
    "Many of the above tasks will be put into their own functions. You will also need some conditionals to control the flow of the program. The code below is the skeleton of the above tasks."
   ]
  },
  {
   "cell_type": "markdown",
   "metadata": {},
   "source": [
    "```python\n",
    "def user_interface():\n",
    "    \"\"\"Ask user how they want to sort the movie data\"\"\"\n",
    "    while True:\n",
    "        column = ask_column()\n",
    "        if column == \"6\":\n",
    "            break\n",
    "        if sanitize_column(column):\n",
    "            order = ask_order()\n",
    "            if sanitize_order(order):\n",
    "                movie_data = fetch_movie_data(movie_csv) \n",
    "                print_movie_data(sort_movie_data(movie_data, int(column) - 1, int(order) == 2))\n",
    "            else:\n",
    "                print(\"Enter a number 1 or 2.\\n\")\n",
    "        else:\n",
    "            print(\"Enter a number 1 to 6.\\n\")\n",
    "```"
   ]
  },
  {
   "cell_type": "markdown",
   "metadata": {},
   "source": [
    "Remove the variable definiton of `move_data` and the function call `print_movie_data`. In their place, call `user_interface` instead.\n",
    "\n",
    "```python\n",
    "user_interface()\n",
    "```\n",
    "\n",
    "Here are a couple of things to take note of:\n",
    "\n",
    "* `column` is an integer that represents the column in the CSV file by which the data will be sorted.\n",
    "* `ask_column` is a function that presents the columns and asks the user to type 1 to 6.\n",
    "* `sanitize_column` is a function that returns `True` if the number is between 1 and 6, it returns `False` if not.\n",
    "* `order` is an integer (1 or 2) that represents ascending or descending order.\n",
    "* `ask_order` is a function that asks the user to type 1 or 2.\n",
    "* `sanitize_order` returns `True` if the user typed a 1 or 2, it returns `False` if not.\n",
    "* `column` and `order` are user input, which is stored as a string; they must be typecast as ints in order to use them.\n",
    "* `column` is a number 1 to 6 (with 6 being the command to quit). The CSV file has columns 0 to 4, so subtract 1 from `column` so it matches the CSV file.\n",
    "* `order` is an integer, but the parameter needs to be a boolean. Using a boolean expression as a parameter ensures either `True` or `False` will be passed to `print_movie_data`.\n",
    "\n",
    " **Note** , there is no button to run the code. Right now, the code would generate several errors. Continue to the next page to get the program in a workable state."
   ]
  },
  {
   "cell_type": "markdown",
   "metadata": {},
   "source": [
    "## Lab Question\n",
    "\n",
    "Look at this code and fill in the blank below.  **Hint** , the solution is two words.\n",
    "\n",
    "```python\n",
    "print_movie_data(sort_movie_data(movie_data, 2, True))\n",
    "```\n",
    "\n",
    "The function `print_movie_data` has another function, `sort_movie_data` as a parameter. This is an example of **`Function Composition.`**\n",
    "\n",
    "When a function has another function as a parameter, this is called function composition."
   ]
  }
 ],
 "metadata": {
  "kernelspec": {
   "display_name": "Python 3.10.4 64-bit",
   "language": "python",
   "name": "python3"
  },
  "language_info": {
   "codemirror_mode": {
    "name": "ipython",
    "version": 3
   },
   "file_extension": ".py",
   "mimetype": "text/x-python",
   "name": "python",
   "nbconvert_exporter": "python",
   "pygments_lexer": "ipython3",
   "version": "3.10.4"
  },
  "orig_nbformat": 4,
  "vscode": {
   "interpreter": {
    "hash": "12d9efd1b418ad7485587f2da0512ee7fc7c20b6462fdb2a696d6f33bbf19b58"
   }
  }
 },
 "nbformat": 4,
 "nbformat_minor": 2
}
