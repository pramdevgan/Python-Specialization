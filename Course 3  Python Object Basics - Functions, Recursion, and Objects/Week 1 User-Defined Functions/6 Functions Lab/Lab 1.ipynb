{
 "cells": [
  {
   "cell_type": "markdown",
   "metadata": {},
   "source": [
    "# Lab 1\n",
    "\n",
    "## Lab 1 - Building a Command Line Application\n",
    "\n",
    "The next couple of labs will walk you through making a command line application that sorts a slightly modified version of this [movie data](https://gist.github.com/tiangechen/b68782efa49a16edaf07dc2cdaa855ea).\n",
    "\n",
    "<details open=\"\"><summary><strong>How has the CSV file been modified?</strong></summary>\n",
    "\n",
    "The CSV file used for this project only contains the columns for the film, genre, Rotten Tomatoes score, the worldwide gross, and the year the film was released. Including all of the data would be too world for the terminal. Rows of data would go onto a second line, which hurt human readability. In addition, duplicates were removed, and a few of the genres needed to be capitalized.\n",
    "\n",
    "</details>\n",
    "\n",
    "This lab focuses on reading the information from a CSV file, and then printing the information in a human readable way.\n",
    "\n",
    "### Reading the CSV\n",
    "\n",
    "The most important function is the one that reads the information from a CSV file. Once the file has been read, the information will be stored in the variable `movie_data`, and the file will be closed. There is no need to leave the file open for this program. You will need global variables for the path and file name of the CSV file. The program should print `None`.\n"
   ]
  },
  {
   "cell_type": "code",
   "execution_count": 1,
   "metadata": {},
   "outputs": [
    {
     "name": "stdout",
     "output_type": "stream",
     "text": [
      "None\n"
     ]
    }
   ],
   "source": [
    "import csv\n",
    "\n",
    "movie_csv = \"student_folder/.labs/movies.csv\"\n",
    "\n",
    "\n",
    "def fetch_movie_data(movie_csv):\n",
    "    \"\"\"Return movie data from a CSV file\"\"\"\n",
    "    pass\n",
    "\n",
    "\n",
    "movie_data = fetch_movie_data(movie_csv)\n",
    "print(movie_data)\n"
   ]
  },
  {
   "cell_type": "markdown",
   "metadata": {},
   "source": [
    "<details open=\"\"><summary><strong>What does \"pass\" mean?</strong></summary>\n",
    "\n",
    "Think of `pass` as a placeholder for a function. We know that the function needs to do something or else an error message will appear. Using `pass` means that the function will not do anything, but there will not be an error message either.\n",
    "\n",
    "</details>\n",
    "\n",
    "Using `with open`, read the entire CSV file and then pass it to a `csv.reader`. Create the local variable `movie_info` and set it to an empty list. Use a for loop to iterate through the file and append each row to the list `movie_info`. Once done iterating through the file, return `movie_info`. Running the program now should return a list of lists with a bunch of information that is hard to understand.\n",
    "\n",
    "<pre><br class=\"Apple-interchange-newline\"/>\n",
    "</pre>\n"
   ]
  },
  {
   "cell_type": "code",
   "execution_count": 5,
   "metadata": {},
   "outputs": [
    {
     "name": "stdout",
     "output_type": "stream",
     "text": [
      "[['Film', 'Genre', 'Lead Studio', 'Audience score %', 'Profitability', 'Rotten Tomatoes %', 'Worldwide Gross', 'Year'], ['Zack and Miri Make a Porno', 'Romance', 'The Weinstein Company', '70', '1.747541667', '64', '$41.94 ', '2008'], ['Youth in Revolt', 'Comedy', 'The Weinstein Company', '52', '1.09', '68', '$19.62 ', '2010'], ['You Will Meet a Tall Dark Stranger', 'Comedy', 'Independent', '35', '1.211818182', '43', '$26.66 ', '2010'], ['When in Rome', 'Comedy', 'Disney', '44', '0', '15', '$43.04 ', '2010'], ['What Happens in Vegas', 'Comedy', 'Fox', '72', '6.267647029', '28', '$219.37 ', '2008'], ['Water For Elephants', 'Drama', '20th Century Fox', '72', '3.081421053', '60', '$117.09 ', '2011'], ['WALL-E', 'Animation', 'Disney', '89', '2.896019067', '96', '$521.28 ', '2008'], ['Waitress', 'Romance', 'Independent', '67', '11.0897415', '89', '$22.18 ', '2007'], ['Waiting For Forever', 'Romance', 'Independent', '53', '0.005', '6', '$0.03 ', '2011'], [\"Valentine's Day\", 'Comedy', 'Warner Bros.', '54', '4.184038462', '17', '$217.57 ', '2010'], [\"Tyler Perry's Why Did I get Married\", 'Romance', 'Independent', '47', '3.7241924', '46', '$55.86 ', '2007'], ['Twilight: Breaking Dawn', 'Romance', 'Independent', '68', '6.383363636', '26', '$702.17 ', '2011'], ['Twilight', 'Romance', 'Summit', '82', '10.18002703', '49', '$376.66 ', '2008'], ['The Ugly Truth', 'Comedy', 'Independent', '68', '5.402631579', '14', '$205.30 ', '2009'], ['The Twilight Saga: New Moon', 'Drama', 'Summit', '78', '14.1964', '27', '$709.82 ', '2009'], [\"The Time Traveler's Wife\", 'Drama', 'Paramount', '65', '2.598205128', '38', '$101.33 ', '2009'], ['The Proposal', 'Comedy', 'Disney', '74', '7.8675', '43', '$314.70 ', '2009'], ['The Invention of Lying', 'Comedy', 'Warner Bros.', '47', '1.751351351', '56', '$32.40 ', '2009'], ['The Heartbreak Kid', 'Comedy', 'Paramount', '41', '2.129444167', '30', '$127.77 ', '2007'], ['The Duchess', 'Drama', 'Paramount', '68', '3.207850222', '60', '$43.31 ', '2008'], ['The Curious Case of Benjamin Button', 'Fantasy', 'Warner Bros.', '81', '1.78394375', '73', '$285.43 ', '2008'], ['The Back-up Plan', 'Comedy', 'CBS', '47', '2.202571429', '20', '$77.09 ', '2010'], ['Tangled', 'Animation', 'Disney', '88', '1.365692308', '89', '$355.01 ', '2010'], ['Something Borrowed', 'Romance', 'Independent', '48', '1.719514286', '15', '$60.18 ', '2011'], [\"She's Out of My League\", 'Comedy', 'Paramount', '60', '2.4405', '57', '$48.81 ', '2010'], ['Sex and the City Two', 'Comedy', 'Warner Bros.', '49', '2.8835', '15', '$288.35 ', '2010'], ['Sex and the City 2', 'Comedy', 'Warner Bros.', '49', '2.8835', '15', '$288.35 ', '2010'], ['Sex and the City', 'Comedy', 'Warner Bros.', '81', '7.221795791', '49', '$415.25 ', '2008'], ['Remember Me', 'Drama', 'Summit', '70', '3.49125', '28', '$55.86 ', '2010'], ['Rachel Getting Married', 'Drama', 'Independent', '61', '1.384166667', '85', '$16.61 ', '2008'], ['Penelope', 'Comedy', 'Summit', '74', '1.382799733', '52', '$20.74 ', '2008'], ['P.S. I Love You', 'Romance', 'Independent', '82', '5.103116833', '21', '$153.09 ', '2007'], ['Over Her Dead Body', 'Comedy', 'New Line', '47', '2.071', '15', '$20.71 ', '2008'], ['Our Family Wedding', 'Comedy', 'Independent', '49', '0', '14', '$21.37 ', '2010'], ['One Day', 'Romance', 'Independent', '54', '3.682733333', '37', '$55.24 ', '2011'], ['Not Easily Broken', 'Drama', 'Independent', '66', '2.14', '34', '$10.70 ', '2009'], ['No Reservations', 'Comedy', 'Warner Bros.', '64', '3.307180357', '39', '$92.60 ', '2007'], [\"Nick and Norah's Infinite Playlist\", 'Comedy', 'Sony', '67', '3.3527293', '73', '$33.53 ', '2008'], [\"New Year's Eve\", 'Romance', 'Warner Bros.', '48', '2.536428571', '8', '$142.04 ', '2011'], ['My Week with Marilyn', 'Drama', 'The Weinstein Company', '84', '0.8258', '83', '$8.26 ', '2011'], ['Music and Lyrics', 'Romance', 'Warner Bros.', '70', '3.64741055', '63', '$145.90 ', '2007'], ['Monte Carlo', 'Romance', '20th Century Fox', '50', '1.9832', '38', '$39.66 ', '2011'], ['Miss Pettigrew Lives for a Day', 'Comedy', 'Independent', '70', '0.2528949', '78', '$15.17 ', '2008'], ['Midnight in Paris', 'Romence', 'Sony', '84', '8.744705882', '93', '$148.66 ', '2011'], ['Marley and Me', 'Comedy', 'Fox', '77', '3.746781818', '63', '$206.07 ', '2008'], ['Mamma Mia!', 'Comedy', 'Universal', '76', '9.234453864', '53', '$609.47 ', '2008'], ['Mamma Mia!', 'Comedy', 'Universal', '76', '9.234453864', '53', '$609.47 ', '2008'], ['Made of Honor', 'Comdy', 'Sony', '61', '2.64906835', '13', '$105.96 ', '2008'], ['Love Happens', 'Drama', 'Universal', '40', '2.004444444', '18', '$36.08 ', '2009'], ['Love & Other Drugs', 'Comedy', 'Fox', '55', '1.817666667', '48', '$54.53 ', '2010'], ['Life as We Know It', 'Comedy', 'Independent', '62', '2.530526316', '28', '$96.16 ', '2010'], ['License to Wed', 'Comedy', 'Warner Bros.', '55', '1.9802064', '8', '$69.31 ', '2007'], ['Letters to Juliet', 'Comedy', 'Summit', '62', '2.639333333', '40', '$79.18 ', '2010'], ['Leap Year', 'Comedy', 'Universal', '49', '1.715263158', '21', '$32.59 ', '2010'], ['Knocked Up', 'Comedy', 'Universal', '83', '6.636401848', '91', '$219 ', '2007'], ['Killers', 'Action', 'Lionsgate', '45', '1.245333333', '11', '$93.40 ', '2010'], ['Just Wright', 'Comedy', 'Fox', '58', '1.797416667', '45', '$21.57 ', '2010'], ['Jane Eyre', 'Romance', 'Universal', '77', '0', '85', '$30.15 ', '2011'], [\"It's Complicated\", 'Comedy', 'Universal', '63', '2.642352941', '56', '$224.60 ', '2009'], ['I Love You Phillip Morris', 'Comedy', 'Independent', '57', '1.34', '71', '$20.10 ', '2010'], ['High School Musical 3: Senior Year', 'Comedy', 'Disney', '76', '22.91313646', '65', '$252.04 ', '2008'], [\"He's Just Not That Into You\", 'Comedy', 'Warner Bros.', '60', '7.1536', '42', '$178.84 ', '2009'], ['Good Luck Chuck', 'Comedy', 'Lionsgate', '61', '2.36768512', '3', '$59.19 ', '2007'], ['Going the Distance', 'Comedy', 'Warner Bros.', '56', '1.3140625', '53', '$42.05 ', '2010'], ['Gnomeo and Juliet', 'Animation', 'Disney', '52', '5.387972222', '56', '$193.97 ', '2011'], ['Gnomeo and Juliet', 'Animation', 'Disney', '52', '5.387972222', '56', '$193.97 ', '2011'], ['Ghosts of Girlfriends Past', 'Comedy', 'Warner Bros.', '47', '2.0444', '27', '$102.22 ', '2009'], ['Four Christmases', 'Comedy', 'Warner Bros.', '52', '2.022925', '26', '$161.83 ', '2008'], ['Fireproof', 'Drama', 'Independent', '51', '66.934', '40', '$33.47 ', '2008'], ['Enchanted', 'Comedy', 'Disney', '80', '4.005737082', '93', '$340.49 ', '2007'], ['Dear John', 'Drama', 'Sony', '66', '4.5988', '29', '$114.97 ', '2010'], ['Beginners', 'Comedy', 'Independent', '80', '4.471875', '84', '$14.31 ', '2011'], ['Across the Universe', 'romance', 'Independent', '84', '0.652603178', '54', '$29.37 ', '2007'], ['A Serious Man', 'Drama', 'Universal', '64', '4.382857143', '89', '$30.68 ', '2009'], ['A Dangerous Method', 'Drama', 'Independent', '89', '0.44864475', '79', '$8.97 ', '2011'], ['27 Dresses', 'Comedy', 'Fox', '71', '5.3436218', '40', '$160.31 ', '2008'], ['(500) Days of Summer', 'comedy', 'Fox', '81', '8.096', '87', '$60.72 ', '2009']]\n"
     ]
    }
   ],
   "source": [
    "import csv\n",
    "\n",
    "movie_csv = \"student_folder/.labs/movies.csv\"\n",
    "\n",
    "\n",
    "def fetch_movie_data(movie_csv):\n",
    "    \"\"\"Return movie data from a CSV file\"\"\"\n",
    "    with open(movie_csv, \"r\") as movie_file:\n",
    "        reader = csv.reader(movie_file)\n",
    "        movie_info = []\n",
    "        for row in reader:\n",
    "            movie_info.append(row)\n",
    "        return movie_info\n",
    "\n",
    "\n",
    "movie_data = fetch_movie_data(movie_csv)\n",
    "print(movie_data)\n"
   ]
  },
  {
   "cell_type": "markdown",
   "metadata": {},
   "source": [
    "### Printing the Movie Information\n",
    "\n",
    "Since this is a command line application, the output should be easy to read for humans. The `print` command will print square brackets, and it does not format the output. It is not sufficient. Create the function `print_movie_data` that takes the parameter `data`. Use the unpacking method to be able to reference each element of the list. The `{:10}` syntax adds padding to the right of the string. This will align all of the data in neat rows. A `$` needs to be added for `gross` so that the user knows that column relates to money. Add a function call for `print_movie_data` and remove `print(movie_data)`.\n",
    "\n",
    "<details>\n",
    "<summary><strong>Formatting a String with Padding</strong></summary>\n",
    "\n",
    "![](https://i.imgur.com/ddmVkko.png)\n",
    "\n",
    "</details>\n"
   ]
  },
  {
   "cell_type": "code",
   "execution_count": 36,
   "metadata": {},
   "outputs": [
    {
     "name": "stdout",
     "output_type": "stream",
     "text": [
      "Film                                           Genre         Lead Studio              Audience score %     Profitability      Rotten Tomatoes %    Worldwide Gross    Year \n",
      "Zack and Miri Make a Porno                     Romance       The Weinstein Company    70                   1.747541667        64                   $41.94             2008 \n",
      "Youth in Revolt                                Comedy        The Weinstein Company    52                   1.09               68                   $19.62             2010 \n",
      "You Will Meet a Tall Dark Stranger             Comedy        Independent              35                   1.211818182        43                   $26.66             2010 \n",
      "When in Rome                                   Comedy        Disney                   44                   0                  15                   $43.04             2010 \n",
      "What Happens in Vegas                          Comedy        Fox                      72                   6.267647029        28                   $219.37            2008 \n",
      "Water For Elephants                            Drama         20th Century Fox         72                   3.081421053        60                   $117.09            2011 \n",
      "WALL-E                                         Animation     Disney                   89                   2.896019067        96                   $521.28            2008 \n",
      "Waitress                                       Romance       Independent              67                   11.0897415         89                   $22.18             2007 \n",
      "Waiting For Forever                            Romance       Independent              53                   0.005              6                    $0.03              2011 \n",
      "Valentine's Day                                Comedy        Warner Bros.             54                   4.184038462        17                   $217.57            2010 \n",
      "Tyler Perry's Why Did I get Married            Romance       Independent              47                   3.7241924          46                   $55.86             2007 \n",
      "Twilight: Breaking Dawn                        Romance       Independent              68                   6.383363636        26                   $702.17            2011 \n",
      "Twilight                                       Romance       Summit                   82                   10.18002703        49                   $376.66            2008 \n",
      "The Ugly Truth                                 Comedy        Independent              68                   5.402631579        14                   $205.30            2009 \n",
      "The Twilight Saga: New Moon                    Drama         Summit                   78                   14.1964            27                   $709.82            2009 \n",
      "The Time Traveler's Wife                       Drama         Paramount                65                   2.598205128        38                   $101.33            2009 \n",
      "The Proposal                                   Comedy        Disney                   74                   7.8675             43                   $314.70            2009 \n",
      "The Invention of Lying                         Comedy        Warner Bros.             47                   1.751351351        56                   $32.40             2009 \n",
      "The Heartbreak Kid                             Comedy        Paramount                41                   2.129444167        30                   $127.77            2007 \n",
      "The Duchess                                    Drama         Paramount                68                   3.207850222        60                   $43.31             2008 \n",
      "The Curious Case of Benjamin Button            Fantasy       Warner Bros.             81                   1.78394375         73                   $285.43            2008 \n",
      "The Back-up Plan                               Comedy        CBS                      47                   2.202571429        20                   $77.09             2010 \n",
      "Tangled                                        Animation     Disney                   88                   1.365692308        89                   $355.01            2010 \n",
      "Something Borrowed                             Romance       Independent              48                   1.719514286        15                   $60.18             2011 \n",
      "She's Out of My League                         Comedy        Paramount                60                   2.4405             57                   $48.81             2010 \n",
      "Sex and the City Two                           Comedy        Warner Bros.             49                   2.8835             15                   $288.35            2010 \n",
      "Sex and the City 2                             Comedy        Warner Bros.             49                   2.8835             15                   $288.35            2010 \n",
      "Sex and the City                               Comedy        Warner Bros.             81                   7.221795791        49                   $415.25            2008 \n",
      "Remember Me                                    Drama         Summit                   70                   3.49125            28                   $55.86             2010 \n",
      "Rachel Getting Married                         Drama         Independent              61                   1.384166667        85                   $16.61             2008 \n",
      "Penelope                                       Comedy        Summit                   74                   1.382799733        52                   $20.74             2008 \n",
      "P.S. I Love You                                Romance       Independent              82                   5.103116833        21                   $153.09            2007 \n",
      "Over Her Dead Body                             Comedy        New Line                 47                   2.071              15                   $20.71             2008 \n",
      "Our Family Wedding                             Comedy        Independent              49                   0                  14                   $21.37             2010 \n",
      "One Day                                        Romance       Independent              54                   3.682733333        37                   $55.24             2011 \n",
      "Not Easily Broken                              Drama         Independent              66                   2.14               34                   $10.70             2009 \n",
      "No Reservations                                Comedy        Warner Bros.             64                   3.307180357        39                   $92.60             2007 \n",
      "Nick and Norah's Infinite Playlist             Comedy        Sony                     67                   3.3527293          73                   $33.53             2008 \n",
      "New Year's Eve                                 Romance       Warner Bros.             48                   2.536428571        8                    $142.04            2011 \n",
      "My Week with Marilyn                           Drama         The Weinstein Company    84                   0.8258             83                   $8.26              2011 \n",
      "Music and Lyrics                               Romance       Warner Bros.             70                   3.64741055         63                   $145.90            2007 \n",
      "Monte Carlo                                    Romance       20th Century Fox         50                   1.9832             38                   $39.66             2011 \n",
      "Miss Pettigrew Lives for a Day                 Comedy        Independent              70                   0.2528949          78                   $15.17             2008 \n",
      "Midnight in Paris                              Romence       Sony                     84                   8.744705882        93                   $148.66            2011 \n",
      "Marley and Me                                  Comedy        Fox                      77                   3.746781818        63                   $206.07            2008 \n",
      "Mamma Mia!                                     Comedy        Universal                76                   9.234453864        53                   $609.47            2008 \n",
      "Mamma Mia!                                     Comedy        Universal                76                   9.234453864        53                   $609.47            2008 \n",
      "Made of Honor                                  Comdy         Sony                     61                   2.64906835         13                   $105.96            2008 \n",
      "Love Happens                                   Drama         Universal                40                   2.004444444        18                   $36.08             2009 \n",
      "Love & Other Drugs                             Comedy        Fox                      55                   1.817666667        48                   $54.53             2010 \n",
      "Life as We Know It                             Comedy        Independent              62                   2.530526316        28                   $96.16             2010 \n",
      "License to Wed                                 Comedy        Warner Bros.             55                   1.9802064          8                    $69.31             2007 \n",
      "Letters to Juliet                              Comedy        Summit                   62                   2.639333333        40                   $79.18             2010 \n",
      "Leap Year                                      Comedy        Universal                49                   1.715263158        21                   $32.59             2010 \n",
      "Knocked Up                                     Comedy        Universal                83                   6.636401848        91                   $219               2007 \n",
      "Killers                                        Action        Lionsgate                45                   1.245333333        11                   $93.40             2010 \n",
      "Just Wright                                    Comedy        Fox                      58                   1.797416667        45                   $21.57             2010 \n",
      "Jane Eyre                                      Romance       Universal                77                   0                  85                   $30.15             2011 \n",
      "It's Complicated                               Comedy        Universal                63                   2.642352941        56                   $224.60            2009 \n",
      "I Love You Phillip Morris                      Comedy        Independent              57                   1.34               71                   $20.10             2010 \n",
      "High School Musical 3: Senior Year             Comedy        Disney                   76                   22.91313646        65                   $252.04            2008 \n",
      "He's Just Not That Into You                    Comedy        Warner Bros.             60                   7.1536             42                   $178.84            2009 \n",
      "Good Luck Chuck                                Comedy        Lionsgate                61                   2.36768512         3                    $59.19             2007 \n",
      "Going the Distance                             Comedy        Warner Bros.             56                   1.3140625          53                   $42.05             2010 \n",
      "Gnomeo and Juliet                              Animation     Disney                   52                   5.387972222        56                   $193.97            2011 \n",
      "Gnomeo and Juliet                              Animation     Disney                   52                   5.387972222        56                   $193.97            2011 \n",
      "Ghosts of Girlfriends Past                     Comedy        Warner Bros.             47                   2.0444             27                   $102.22            2009 \n",
      "Four Christmases                               Comedy        Warner Bros.             52                   2.022925           26                   $161.83            2008 \n",
      "Fireproof                                      Drama         Independent              51                   66.934             40                   $33.47             2008 \n",
      "Enchanted                                      Comedy        Disney                   80                   4.005737082        93                   $340.49            2007 \n",
      "Dear John                                      Drama         Sony                     66                   4.5988             29                   $114.97            2010 \n",
      "Beginners                                      Comedy        Independent              80                   4.471875           84                   $14.31             2011 \n",
      "Across the Universe                            romance       Independent              84                   0.652603178        54                   $29.37             2007 \n",
      "A Serious Man                                  Drama         Universal                64                   4.382857143        89                   $30.68             2009 \n",
      "A Dangerous Method                             Drama         Independent              89                   0.44864475         79                   $8.97              2011 \n",
      "27 Dresses                                     Comedy        Fox                      71                   5.3436218          40                   $160.31            2008 \n",
      "(500) Days of Summer                           comedy        Fox                      81                   8.096              87                   $60.72             2009 \n"
     ]
    }
   ],
   "source": [
    "import csv\n",
    "movie_csv = \"student_folder/.labs/movies.csv\"\n",
    "\n",
    "def fetch_movie_data(movie_csv):\n",
    "    \"\"\"Return movie data from a CSV file\"\"\"\n",
    "    with open(movie_csv, \"r\") as movie_file:\n",
    "        reader = csv.reader(movie_file)\n",
    "        movie_info = []\n",
    "        for row in reader:\n",
    "          movie_info.append(row)\n",
    "        return movie_info\n",
    "\n",
    "def print_movie_data(data):\n",
    "    \"\"\"Print the movie data in easy to read columns\"\"\"\n",
    "    for Film, Genre, Lead_Studio, Audience_score , Profitability, Rotten_Tomatoes, Worldwide_Gross, Year in data:\n",
    "      print(\"{:46} {:13} {:24} {:20} {:18} {:20} {:18} {} \".format(Film, Genre, Lead_Studio, Audience_score , Profitability, Rotten_Tomatoes, Worldwide_Gross, Year))\n",
    "\n",
    "movie_data = fetch_movie_data(movie_csv)\n",
    "print_movie_data(movie_data)"
   ]
  },
  {
   "cell_type": "markdown",
   "metadata": {},
   "source": [
    "## Lab Question\n",
    "\n",
    "Fill in the blanks below.\n",
    "\n",
    "- A **`local`** variable is declared inside a function and cannot be accessed outside of the function.\n",
    "- A **`global`** variable is declared outside of a function and can be accessed inside a function.\n",
    "\n",
    "A local variable is declared inside a function and cannot be accessed outside the function.\n",
    "\n",
    "A global variable is declared outside a function and can be accessed inside a function."
   ]
  }
 ],
 "metadata": {
  "kernelspec": {
   "display_name": "Python 3.10.4 64-bit",
   "language": "python",
   "name": "python3"
  },
  "language_info": {
   "codemirror_mode": {
    "name": "ipython",
    "version": 3
   },
   "file_extension": ".py",
   "mimetype": "text/x-python",
   "name": "python",
   "nbconvert_exporter": "python",
   "pygments_lexer": "ipython3",
   "version": "3.10.4"
  },
  "orig_nbformat": 4,
  "vscode": {
   "interpreter": {
    "hash": "12d9efd1b418ad7485587f2da0512ee7fc7c20b6462fdb2a696d6f33bbf19b58"
   }
  }
 },
 "nbformat": 4,
 "nbformat_minor": 2
}
