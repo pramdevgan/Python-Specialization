{
 "cells": [
  {
   "cell_type": "markdown",
   "metadata": {},
   "source": [
    "# Passing Parameters\n",
    "---\n",
    "## Parameters\n",
    "\n",
    "Parameters are required values passed to a function. The function uses the parameters to accomplish the stated goal in the docstring. In the example below, the function adds the parameters together. Parameters are those values in between the parentheses. If your function uses parameters, they need to be present when you define and call the function. Multiple parameters are separated by commas.\n",
    "\n",
    "![Parameters](https://apollo-media.codio.com/media%2F1%2F9c7ae9d50796c767d6a9a3eb60fe4282-6778447a-3101-4f84-8151-6ad21dba3fd5.webp)"
   ]
  },
  {
   "cell_type": "code",
   "execution_count": 2,
   "metadata": {},
   "outputs": [
    {
     "name": "stdout",
     "output_type": "stream",
     "text": [
      "12\n",
      "Help on function addiiton in module __main__:\n",
      "\n",
      "addiiton(num1, num2)\n",
      "    The sum of two number\n",
      "\n"
     ]
    }
   ],
   "source": [
    "def addiiton(num1, num2):\n",
    "    \"\"\"The sum of two number\"\"\"\n",
    "    print(num1 + num2)\n",
    "\n",
    "addiiton(5,7)\n",
    "help(addiiton)"
   ]
  },
  {
   "cell_type": "markdown",
   "metadata": {},
   "source": [
    "## What happens if you:\n",
    "\n",
    "* Change the function header to `def addition(num1):`?\n",
    "* Change the function call to `addition()`?\n",
    "* Change the function call to `addition(5, 10, 15)`?"
   ]
  },
  {
   "cell_type": "code",
   "execution_count": 1,
   "metadata": {},
   "outputs": [
    {
     "ename": "TypeError",
     "evalue": "addiiton() takes 1 positional argument but 2 were given",
     "output_type": "error",
     "traceback": [
      "\u001b[1;31m---------------------------------------------------------------------------\u001b[0m",
      "\u001b[1;31mTypeError\u001b[0m                                 Traceback (most recent call last)",
      "\u001b[1;32mc:\\Users\\vpram\\Python Specialization\\Course 3  Python Object Basics - Functions, Recursion, and Objects\\Week 1 User-Defined Functions\\2 Parameters\\1 Passing Parameters.ipynb Cell 4\u001b[0m in \u001b[0;36m<module>\u001b[1;34m\u001b[0m\n\u001b[0;32m      <a href='vscode-notebook-cell:/c%3A/Users/vpram/Python%20Specialization/Course%203%20%20Python%20Object%20Basics%20-%20Functions%2C%20Recursion%2C%20and%20Objects/Week%201%20User-Defined%20Functions/2%20Parameters/1%20Passing%20Parameters.ipynb#W3sZmlsZQ%3D%3D?line=1'>2</a>\u001b[0m     \u001b[39m\"\"\"The sum of two number\"\"\"\u001b[39;00m\n\u001b[0;32m      <a href='vscode-notebook-cell:/c%3A/Users/vpram/Python%20Specialization/Course%203%20%20Python%20Object%20Basics%20-%20Functions%2C%20Recursion%2C%20and%20Objects/Week%201%20User-Defined%20Functions/2%20Parameters/1%20Passing%20Parameters.ipynb#W3sZmlsZQ%3D%3D?line=2'>3</a>\u001b[0m     \u001b[39mprint\u001b[39m(num1 \u001b[39m+\u001b[39m num2)\n\u001b[1;32m----> <a href='vscode-notebook-cell:/c%3A/Users/vpram/Python%20Specialization/Course%203%20%20Python%20Object%20Basics%20-%20Functions%2C%20Recursion%2C%20and%20Objects/Week%201%20User-Defined%20Functions/2%20Parameters/1%20Passing%20Parameters.ipynb#W3sZmlsZQ%3D%3D?line=4'>5</a>\u001b[0m addiiton(\u001b[39m5\u001b[39;49m,\u001b[39m7\u001b[39;49m)\n\u001b[0;32m      <a href='vscode-notebook-cell:/c%3A/Users/vpram/Python%20Specialization/Course%203%20%20Python%20Object%20Basics%20-%20Functions%2C%20Recursion%2C%20and%20Objects/Week%201%20User-Defined%20Functions/2%20Parameters/1%20Passing%20Parameters.ipynb#W3sZmlsZQ%3D%3D?line=5'>6</a>\u001b[0m help(addiiton)\n",
      "\u001b[1;31mTypeError\u001b[0m: addiiton() takes 1 positional argument but 2 were given"
     ]
    }
   ],
   "source": [
    "def addiiton(num1):\n",
    "    \"\"\"The sum of two number\"\"\"\n",
    "    print(num1 + num2)\n",
    "\n",
    "addiiton(5,7)\n",
    "help(addiiton)"
   ]
  },
  {
   "cell_type": "code",
   "execution_count": 2,
   "metadata": {},
   "outputs": [
    {
     "ename": "TypeError",
     "evalue": "addiiton() takes 0 positional arguments but 2 were given",
     "output_type": "error",
     "traceback": [
      "\u001b[1;31m---------------------------------------------------------------------------\u001b[0m",
      "\u001b[1;31mTypeError\u001b[0m                                 Traceback (most recent call last)",
      "\u001b[1;32mc:\\Users\\vpram\\Python Specialization\\Course 3  Python Object Basics - Functions, Recursion, and Objects\\Week 1 User-Defined Functions\\2 Parameters\\1 Passing Parameters.ipynb Cell 5\u001b[0m in \u001b[0;36m<module>\u001b[1;34m\u001b[0m\n\u001b[0;32m      <a href='vscode-notebook-cell:/c%3A/Users/vpram/Python%20Specialization/Course%203%20%20Python%20Object%20Basics%20-%20Functions%2C%20Recursion%2C%20and%20Objects/Week%201%20User-Defined%20Functions/2%20Parameters/1%20Passing%20Parameters.ipynb#W4sZmlsZQ%3D%3D?line=1'>2</a>\u001b[0m     \u001b[39m\"\"\"The sum of two number\"\"\"\u001b[39;00m\n\u001b[0;32m      <a href='vscode-notebook-cell:/c%3A/Users/vpram/Python%20Specialization/Course%203%20%20Python%20Object%20Basics%20-%20Functions%2C%20Recursion%2C%20and%20Objects/Week%201%20User-Defined%20Functions/2%20Parameters/1%20Passing%20Parameters.ipynb#W4sZmlsZQ%3D%3D?line=2'>3</a>\u001b[0m     \u001b[39mprint\u001b[39m(num1 \u001b[39m+\u001b[39m num2)\n\u001b[1;32m----> <a href='vscode-notebook-cell:/c%3A/Users/vpram/Python%20Specialization/Course%203%20%20Python%20Object%20Basics%20-%20Functions%2C%20Recursion%2C%20and%20Objects/Week%201%20User-Defined%20Functions/2%20Parameters/1%20Passing%20Parameters.ipynb#W4sZmlsZQ%3D%3D?line=4'>5</a>\u001b[0m addiiton(\u001b[39m5\u001b[39;49m,\u001b[39m7\u001b[39;49m)\n\u001b[0;32m      <a href='vscode-notebook-cell:/c%3A/Users/vpram/Python%20Specialization/Course%203%20%20Python%20Object%20Basics%20-%20Functions%2C%20Recursion%2C%20and%20Objects/Week%201%20User-Defined%20Functions/2%20Parameters/1%20Passing%20Parameters.ipynb#W4sZmlsZQ%3D%3D?line=5'>6</a>\u001b[0m help(addiiton)\n",
      "\u001b[1;31mTypeError\u001b[0m: addiiton() takes 0 positional arguments but 2 were given"
     ]
    }
   ],
   "source": [
    "def addiiton():\n",
    "    \"\"\"The sum of two number\"\"\"\n",
    "    print(num1 + num2)\n",
    "\n",
    "addiiton(5,7)\n",
    "help(addiiton)"
   ]
  },
  {
   "cell_type": "code",
   "execution_count": 3,
   "metadata": {},
   "outputs": [
    {
     "ename": "TypeError",
     "evalue": "addiiton() takes 2 positional arguments but 3 were given",
     "output_type": "error",
     "traceback": [
      "\u001b[1;31m---------------------------------------------------------------------------\u001b[0m",
      "\u001b[1;31mTypeError\u001b[0m                                 Traceback (most recent call last)",
      "\u001b[1;32mc:\\Users\\vpram\\Python Specialization\\Course 3  Python Object Basics - Functions, Recursion, and Objects\\Week 1 User-Defined Functions\\2 Parameters\\1 Passing Parameters.ipynb Cell 6\u001b[0m in \u001b[0;36m<module>\u001b[1;34m\u001b[0m\n\u001b[0;32m      <a href='vscode-notebook-cell:/c%3A/Users/vpram/Python%20Specialization/Course%203%20%20Python%20Object%20Basics%20-%20Functions%2C%20Recursion%2C%20and%20Objects/Week%201%20User-Defined%20Functions/2%20Parameters/1%20Passing%20Parameters.ipynb#W5sZmlsZQ%3D%3D?line=1'>2</a>\u001b[0m     \u001b[39m\"\"\"The sum of two number\"\"\"\u001b[39;00m\n\u001b[0;32m      <a href='vscode-notebook-cell:/c%3A/Users/vpram/Python%20Specialization/Course%203%20%20Python%20Object%20Basics%20-%20Functions%2C%20Recursion%2C%20and%20Objects/Week%201%20User-Defined%20Functions/2%20Parameters/1%20Passing%20Parameters.ipynb#W5sZmlsZQ%3D%3D?line=2'>3</a>\u001b[0m     \u001b[39mprint\u001b[39m(num1 \u001b[39m+\u001b[39m num2)\n\u001b[1;32m----> <a href='vscode-notebook-cell:/c%3A/Users/vpram/Python%20Specialization/Course%203%20%20Python%20Object%20Basics%20-%20Functions%2C%20Recursion%2C%20and%20Objects/Week%201%20User-Defined%20Functions/2%20Parameters/1%20Passing%20Parameters.ipynb#W5sZmlsZQ%3D%3D?line=4'>5</a>\u001b[0m addiiton(\u001b[39m5\u001b[39;49m,\u001b[39m10\u001b[39;49m,\u001b[39m15\u001b[39;49m)\n\u001b[0;32m      <a href='vscode-notebook-cell:/c%3A/Users/vpram/Python%20Specialization/Course%203%20%20Python%20Object%20Basics%20-%20Functions%2C%20Recursion%2C%20and%20Objects/Week%201%20User-Defined%20Functions/2%20Parameters/1%20Passing%20Parameters.ipynb#W5sZmlsZQ%3D%3D?line=5'>6</a>\u001b[0m help(addiiton)\n",
      "\u001b[1;31mTypeError\u001b[0m: addiiton() takes 2 positional arguments but 3 were given"
     ]
    }
   ],
   "source": [
    "def addiiton(num1, num2):\n",
    "    \"\"\"The sum of two number\"\"\"\n",
    "    print(num1 + num2)\n",
    "\n",
    "addiiton(5,10,15)\n",
    "help(addiiton)"
   ]
  },
  {
   "cell_type": "markdown",
   "metadata": {},
   "source": [
    "## Parameters as Variables\n",
    "\n",
    "You can think of parameters as variables. They are declared in the function header, and their values are determined by the function call. Because of this, the order of parameters is important. The first parameter in the function call will be the first parameter in the function header, the second parameter from the function call will be the second parameter in the function header, etc.\n",
    "\n",
    "![Parameter Order](https://apollo-media.codio.com/media%2F1%2Ff31e7cda85356dd5ee2b0e61cc4ca90f-211d45db-563d-4a07-ae6f-9f0940fd393b.webp)"
   ]
  },
  {
   "cell_type": "code",
   "execution_count": 7,
   "metadata": {},
   "outputs": [
    {
     "name": "stdout",
     "output_type": "stream",
     "text": [
      "0\n"
     ]
    }
   ],
   "source": [
    "def add_sub(num1, num2, num3):\n",
    "    \"\"\"add_sub does the following:\n",
    "    Add the first two parameters\n",
    "    Subtract the third parameter\n",
    "    print the result\"\"\"\n",
    "    print(num1+ num2 - num3)\n",
    "\n",
    "add_sub(5,10,15)"
   ]
  },
  {
   "cell_type": "markdown",
   "metadata": {},
   "source": [
    "## What happens if you:\n",
    "\n",
    "* Change the function call to `add_sub(10, 15, 5)`?\n",
    "* Change the function call to `add_sub(15, 5, 10)`?\n",
    "* Change the function call to `add_sub(10 + 5, 20 // 4, 5 * 2)`?"
   ]
  },
  {
   "cell_type": "code",
   "execution_count": 8,
   "metadata": {},
   "outputs": [
    {
     "name": "stdout",
     "output_type": "stream",
     "text": [
      "10\n"
     ]
    }
   ],
   "source": [
    "def add_sub(num1, num2, num3):\n",
    "    \"\"\"add_sub does the following:\n",
    "    Add the first two parameters\n",
    "    Subtract the third parameter\n",
    "    print the result\"\"\"\n",
    "    print(num1+ num2 - num3)\n",
    "\n",
    "add_sub(5,10,5)"
   ]
  },
  {
   "cell_type": "code",
   "execution_count": 9,
   "metadata": {},
   "outputs": [
    {
     "name": "stdout",
     "output_type": "stream",
     "text": [
      "10\n"
     ]
    }
   ],
   "source": [
    "def add_sub(num1, num2, num3):\n",
    "    \"\"\"add_sub does the following:\n",
    "    Add the first two parameters\n",
    "    Subtract the third parameter\n",
    "    print the result\"\"\"\n",
    "    print(num1+ num2 - num3)\n",
    "\n",
    "add_sub(15,5,10)"
   ]
  },
  {
   "cell_type": "code",
   "execution_count": 10,
   "metadata": {},
   "outputs": [
    {
     "name": "stdout",
     "output_type": "stream",
     "text": [
      "10\n"
     ]
    }
   ],
   "source": [
    "def add_sub(num1, num2, num3):\n",
    "    \"\"\"add_sub does the following:\n",
    "    Add the first two parameters\n",
    "    Subtract the third parameter\n",
    "    print the result\"\"\"\n",
    "    print(num1+ num2 - num3)\n",
    "\n",
    "add_sub(10+5, 20//4, 5*2)"
   ]
  },
  {
   "cell_type": "markdown",
   "metadata": {},
   "source": [
    "### passing parameters reading question\n",
    "\n",
    "## Reading Question\n",
    "\n",
    "Look at the function definition and the function call below, and then answer the questions.\n",
    "\n",
    "```python\n",
    "def add_nums(num1, num2):\n",
    "    \"\"\"Prints the sum of two numbers\"\"\"\n",
    "    print(num1 + num2)\n",
    "\n",
    "add_nums(7, 35)\n",
    "```\n",
    "\n",
    "The value of `num2` is **`35`**.\n",
    "\n",
    "The value of `num1` is **`7`**.\n",
    "\n",
    "The value of `num2` is 35 and the value of `num1` is 7. Because 7 comes first in the function call, it is stored in the parameter `num1`. Since 35 is the second number in the function call, it is stored in the second parameter, `num2`."
   ]
  }
 ],
 "metadata": {
  "kernelspec": {
   "display_name": "Python 3.10.4 64-bit",
   "language": "python",
   "name": "python3"
  },
  "language_info": {
   "codemirror_mode": {
    "name": "ipython",
    "version": 3
   },
   "file_extension": ".py",
   "mimetype": "text/x-python",
   "name": "python",
   "nbconvert_exporter": "python",
   "pygments_lexer": "ipython3",
   "version": "3.10.4"
  },
  "orig_nbformat": 4,
  "vscode": {
   "interpreter": {
    "hash": "12d9efd1b418ad7485587f2da0512ee7fc7c20b6462fdb2a696d6f33bbf19b58"
   }
  }
 },
 "nbformat": 4,
 "nbformat_minor": 2
}
