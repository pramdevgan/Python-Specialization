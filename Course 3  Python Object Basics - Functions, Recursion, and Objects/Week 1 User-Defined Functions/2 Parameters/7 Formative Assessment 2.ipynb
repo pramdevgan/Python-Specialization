{
 "cells": [
  {
   "cell_type": "markdown",
   "metadata": {},
   "source": [
    "# Formative Assessment 2\n",
    "---\n",
    "## Formative Assessment\n",
    "\n",
    "Rearrange the code blocks below to create a program that divides the first parameter by the second. The function should check for division by zero and print an appropriate message.  **Note** , not all of the code blocks will be used.\n",
    "\n",
    "Drag from here\n",
    "\n",
    "* except TypeError:\n",
    "* try print(num1 / num2):\n",
    "* except:\n",
    "* print(num3, num4)\n",
    "\n",
    "Construct your solution here\n",
    "```python\n",
    "def division(num1, num2):\n",
    "    try:\n",
    "        print(num1 / num2)\n",
    "    except ZeroDivisionError:\n",
    "        print(\"Division by zero is not allowed\")\n",
    "```\n",
    "There is only one code block with a function definition. The `try` keyword exists on its own, so the block that says `try print(num1 / num2):` should be ignored. The function header declares two parameters with `num1` and `num2`. So the code block that says `print(num3 / num4)` should be ignored because those variables do not exist. The key to this program is that it has to check for a division by zero error. So ignore the code block that says `except:` because that checks for any error, not just division by zero. Also ignore `except TypeError:` because this checks only for type errors."
   ]
  },
  {
   "cell_type": "code",
   "execution_count": 2,
   "metadata": {},
   "outputs": [
    {
     "name": "stdout",
     "output_type": "stream",
     "text": [
      "2.5\n",
      "Division by zero is not allowed\n"
     ]
    }
   ],
   "source": [
    "def division (num1, num2):\n",
    "    try:\n",
    "        print(num1 / num2)\n",
    "    except ZeroDivisionError:\n",
    "        print(\"Division by zero is not allowed\")\n",
    "\n",
    "division(5,2)\n",
    "division(5,0)"
   ]
  }
 ],
 "metadata": {
  "kernelspec": {
   "display_name": "Python 3.10.4 64-bit",
   "language": "python",
   "name": "python3"
  },
  "language_info": {
   "codemirror_mode": {
    "name": "ipython",
    "version": 3
   },
   "file_extension": ".py",
   "mimetype": "text/x-python",
   "name": "python",
   "nbconvert_exporter": "python",
   "pygments_lexer": "ipython3",
   "version": "3.10.4"
  },
  "orig_nbformat": 4,
  "vscode": {
   "interpreter": {
    "hash": "12d9efd1b418ad7485587f2da0512ee7fc7c20b6462fdb2a696d6f33bbf19b58"
   }
  }
 },
 "nbformat": 4,
 "nbformat_minor": 2
}
