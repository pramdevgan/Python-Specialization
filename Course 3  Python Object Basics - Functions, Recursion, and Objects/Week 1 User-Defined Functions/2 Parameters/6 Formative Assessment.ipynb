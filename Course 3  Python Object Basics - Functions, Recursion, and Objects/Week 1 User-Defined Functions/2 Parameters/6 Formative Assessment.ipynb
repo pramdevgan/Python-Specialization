{
 "cells": [
  {
   "cell_type": "markdown",
   "metadata": {},
   "source": [
    "# Formative Assessment 1\n",
    "---\n",
    "## Formative Assessment\n",
    "\n",
    "Rearrange the code blocks below to create a program that prints the following output:\n",
    "\n",
    "```text\n",
    "Clouds are white. Firetrucks are red. Grass is green.\n",
    "```\n",
    "\n",
    " **Note** , not all of the code blocks will be used.\n",
    "\n",
    "Drag from here\n",
    "\n",
    "* color_sentences(\"Firetrucks\", \"Clouds\", \"Grass\")\n",
    "* def color_sentences(red, green, white):\n",
    "* colors(\"Clouds\", \"Firetrucks\", \"Grass\")\n",
    "\n",
    "Construct your solution here\n",
    "```Python\n",
    "def color_sentences(white, red, green):\n",
    "    print(\"{} are white. {} are red. {} is green.\".format(white, red, green))\n",
    "\n",
    "color_sentences(\"Clouds\", \"Firetrucks\", \"Grass\")\n",
    "```"
   ]
  },
  {
   "cell_type": "code",
   "execution_count": 2,
   "metadata": {},
   "outputs": [
    {
     "name": "stdout",
     "output_type": "stream",
     "text": [
      "Clouds are white. Firetrucks are red. Grass is green.\n"
     ]
    }
   ],
   "source": [
    "def color_sentences(white, red, green):\n",
    "    print(\"{} are white. {} are red. {} is green.\".format(white, red, green))\n",
    "\n",
    "color_sentences(\"Clouds\", \"Firetrucks\", \"Grass\")"
   ]
  }
 ],
 "metadata": {
  "kernelspec": {
   "display_name": "Python 3.10.4 64-bit",
   "language": "python",
   "name": "python3"
  },
  "language_info": {
   "codemirror_mode": {
    "name": "ipython",
    "version": 3
   },
   "file_extension": ".py",
   "mimetype": "text/x-python",
   "name": "python",
   "nbconvert_exporter": "python",
   "pygments_lexer": "ipython3",
   "version": "3.10.4"
  },
  "orig_nbformat": 4,
  "vscode": {
   "interpreter": {
    "hash": "12d9efd1b418ad7485587f2da0512ee7fc7c20b6462fdb2a696d6f33bbf19b58"
   }
  }
 },
 "nbformat": 4,
 "nbformat_minor": 2
}
