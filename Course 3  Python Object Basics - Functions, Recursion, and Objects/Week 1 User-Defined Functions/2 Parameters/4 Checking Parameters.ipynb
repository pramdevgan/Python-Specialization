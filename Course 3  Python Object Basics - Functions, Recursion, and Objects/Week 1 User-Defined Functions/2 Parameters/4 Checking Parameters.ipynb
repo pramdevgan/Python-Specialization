{
 "cells": [
  {
   "cell_type": "markdown",
   "metadata": {},
   "source": [
    "# Checking Parameters\n",
    "\n",
    "## Checking Parameter Data Types\n",
    "\n",
    "Functions can fail with the wrong data type is passed as a parameter. The function definition below expects two numbers, but the function calls passes a string."
   ]
  },
  {
   "cell_type": "code",
   "execution_count": 1,
   "metadata": {},
   "outputs": [
    {
     "ename": "TypeError",
     "evalue": "unsupported operand type(s) for +: 'int' and 'str'",
     "output_type": "error",
     "traceback": [
      "\u001b[1;31m---------------------------------------------------------------------------\u001b[0m",
      "\u001b[1;31mTypeError\u001b[0m                                 Traceback (most recent call last)",
      "\u001b[1;32mc:\\Users\\vpram\\Python Specialization\\Course 3  Python Object Basics - Functions, Recursion, and Objects\\Week 1 User-Defined Functions\\2 Parameters\\4 Checking Parameters.ipynb Cell 2\u001b[0m in \u001b[0;36m<module>\u001b[1;34m\u001b[0m\n\u001b[0;32m      <a href='vscode-notebook-cell:/c%3A/Users/vpram/Python%20Specialization/Course%203%20%20Python%20Object%20Basics%20-%20Functions%2C%20Recursion%2C%20and%20Objects/Week%201%20User-Defined%20Functions/2%20Parameters/4%20Checking%20Parameters.ipynb#W2sZmlsZQ%3D%3D?line=1'>2</a>\u001b[0m     \u001b[39m\"\"\"Add the two parameters together\"\"\"\u001b[39;00m\n\u001b[0;32m      <a href='vscode-notebook-cell:/c%3A/Users/vpram/Python%20Specialization/Course%203%20%20Python%20Object%20Basics%20-%20Functions%2C%20Recursion%2C%20and%20Objects/Week%201%20User-Defined%20Functions/2%20Parameters/4%20Checking%20Parameters.ipynb#W2sZmlsZQ%3D%3D?line=2'>3</a>\u001b[0m     \u001b[39mprint\u001b[39m(num1 \u001b[39m+\u001b[39m num2)\n\u001b[1;32m----> <a href='vscode-notebook-cell:/c%3A/Users/vpram/Python%20Specialization/Course%203%20%20Python%20Object%20Basics%20-%20Functions%2C%20Recursion%2C%20and%20Objects/Week%201%20User-Defined%20Functions/2%20Parameters/4%20Checking%20Parameters.ipynb#W2sZmlsZQ%3D%3D?line=4'>5</a>\u001b[0m addition(\u001b[39m5\u001b[39;49m, \u001b[39m\"\u001b[39;49m\u001b[39mcat\u001b[39;49m\u001b[39m\"\u001b[39;49m)\n",
      "\u001b[1;32mc:\\Users\\vpram\\Python Specialization\\Course 3  Python Object Basics - Functions, Recursion, and Objects\\Week 1 User-Defined Functions\\2 Parameters\\4 Checking Parameters.ipynb Cell 2\u001b[0m in \u001b[0;36maddition\u001b[1;34m(num1, num2)\u001b[0m\n\u001b[0;32m      <a href='vscode-notebook-cell:/c%3A/Users/vpram/Python%20Specialization/Course%203%20%20Python%20Object%20Basics%20-%20Functions%2C%20Recursion%2C%20and%20Objects/Week%201%20User-Defined%20Functions/2%20Parameters/4%20Checking%20Parameters.ipynb#W2sZmlsZQ%3D%3D?line=0'>1</a>\u001b[0m \u001b[39mdef\u001b[39;00m \u001b[39maddition\u001b[39m (num1, num2):\n\u001b[0;32m      <a href='vscode-notebook-cell:/c%3A/Users/vpram/Python%20Specialization/Course%203%20%20Python%20Object%20Basics%20-%20Functions%2C%20Recursion%2C%20and%20Objects/Week%201%20User-Defined%20Functions/2%20Parameters/4%20Checking%20Parameters.ipynb#W2sZmlsZQ%3D%3D?line=1'>2</a>\u001b[0m     \u001b[39m\"\"\"Add the two parameters together\"\"\"\u001b[39;00m\n\u001b[1;32m----> <a href='vscode-notebook-cell:/c%3A/Users/vpram/Python%20Specialization/Course%203%20%20Python%20Object%20Basics%20-%20Functions%2C%20Recursion%2C%20and%20Objects/Week%201%20User-Defined%20Functions/2%20Parameters/4%20Checking%20Parameters.ipynb#W2sZmlsZQ%3D%3D?line=2'>3</a>\u001b[0m     \u001b[39mprint\u001b[39m(num1 \u001b[39m+\u001b[39;49m num2)\n",
      "\u001b[1;31mTypeError\u001b[0m: unsupported operand type(s) for +: 'int' and 'str'"
     ]
    }
   ],
   "source": [
    "def addition (num1, num2):\n",
    "    \"\"\"Add the two parameters together\"\"\"\n",
    "    print(num1 + num2)\n",
    "\n",
    "addition(5, \"cat\")"
   ]
  },
  {
   "cell_type": "markdown",
   "metadata": {},
   "source": [
    "This code generates a type error. Python says the `+` operator cannot work with operands (the items being used with `+`) of type string. The program terminates with a cryptic error message. The `try... except` keywords allow for a more user-friendly error message.\n",
    "\n",
    "![Try Except](https://apollo-media.codio.com/media%2F1%2Ff09737f94fcd40c7c6f6098bd64df90a-e14d4edd-a44c-46c5-a845-b1bb17e8e284.webp)"
   ]
  },
  {
   "cell_type": "code",
   "execution_count": 4,
   "metadata": {},
   "outputs": [
    {
     "name": "stdout",
     "output_type": "stream",
     "text": [
      "There is an error in your code.\n"
     ]
    }
   ],
   "source": [
    "from pprint import pprint\n",
    "\n",
    "\n",
    "def addition (num1, num2):\n",
    "    \"\"\"Add the two parameters together\n",
    "    Use try/except to catch any errors\"\"\"\n",
    "    try:\n",
    "        print(num1 + num2)\n",
    "    except:\n",
    "        print(\"There is an error in your code.\")\n",
    "\n",
    "addition(5, \"cat\")"
   ]
  },
  {
   "cell_type": "markdown",
   "metadata": {},
   "source": [
    "Notice that a green check mark appears even though there is an error in the function call. `try... except` keeps the program running while providing feedback to the user."
   ]
  },
  {
   "cell_type": "markdown",
   "metadata": {},
   "source": [
    "<details open=\"\"><summary><strong>Failing Gracefully</strong></summary>\n",
    "\n",
    "No computer program works as intended 100% of the time. It is a good idea to design your code to \"fail gracefully\". That is, your program should not come crashing to a halt with each error. Think of ways that your program can roll with the punches even when mistakes happen.\n",
    "\n",
    "</details>"
   ]
  },
  {
   "cell_type": "markdown",
   "metadata": {},
   "source": [
    "## What happens if you:\n",
    "\n",
    "* Change the function call to `addition(5, 3)`?"
   ]
  },
  {
   "cell_type": "code",
   "execution_count": 5,
   "metadata": {},
   "outputs": [
    {
     "name": "stdout",
     "output_type": "stream",
     "text": [
      "8\n"
     ]
    }
   ],
   "source": [
    "addition (5, 3)"
   ]
  },
  {
   "cell_type": "markdown",
   "metadata": {},
   "source": [
    "## Error Types\n",
    "\n",
    "The code above provides an error message that is easy to understand, but it is not very helpful. What exactly is the problem? Python allows you to customize the exception messages based on the type of error. Trying to add a string to an int causes a type error, so the exception and message should reflect this."
   ]
  },
  {
   "cell_type": "code",
   "execution_count": 1,
   "metadata": {},
   "outputs": [
    {
     "name": "stdout",
     "output_type": "stream",
     "text": [
      "Please pass the function two numbers\n"
     ]
    }
   ],
   "source": [
    "def addition (num1, num2):\n",
    "    \"\"\"Add the two parameters together\n",
    "    Use try/except to catch any errors\"\"\"\n",
    "    try:\n",
    "        print(num1 + num2)\n",
    "    except TypeError:\n",
    "        print(\"Please pass the function two numbers\")\n",
    "\n",
    "addition(5, \"cat\")"
   ]
  },
  {
   "cell_type": "markdown",
   "metadata": {},
   "source": [
    "<details open=\"\"><summary><strong>Python Errors</strong></summary>\n",
    "\n",
    "There are many kinds of [errors](https://docs.python.org/3/tutorial/errors.html) that can be used with the `except` keyword, but here is a list of some of the more common ones:* **SyntaxError** - Incorrect syntax; missing parentheses for example\n",
    "\n",
    "* **ZeroDivisionError** - Divide a number by zero\n",
    "* **NameError** - Reference a variable that has not been declared\n",
    "* **TypeError** - Function or operation is applied to an incorrect type\n",
    "* **IndexError** - Reference an index that is out of range\n",
    "\n",
    "</details>\n"
   ]
  },
  {
   "cell_type": "markdown",
   "metadata": {},
   "source": [
    "## What happens if you:\n",
    "\n",
    "* Change the print statement in the `try` block to `print(num1 + num3)`?"
   ]
  },
  {
   "cell_type": "code",
   "execution_count": 2,
   "metadata": {},
   "outputs": [
    {
     "ename": "NameError",
     "evalue": "name 'num3' is not defined",
     "output_type": "error",
     "traceback": [
      "\u001b[1;31m---------------------------------------------------------------------------\u001b[0m",
      "\u001b[1;31mNameError\u001b[0m                                 Traceback (most recent call last)",
      "\u001b[1;32mc:\\Users\\vpram\\Python Specialization\\Course 3  Python Object Basics - Functions, Recursion, and Objects\\Week 1 User-Defined Functions\\2 Parameters\\4 Checking Parameters.ipynb Cell 13\u001b[0m in \u001b[0;36m<module>\u001b[1;34m\u001b[0m\n\u001b[0;32m      <a href='vscode-notebook-cell:/c%3A/Users/vpram/Python%20Specialization/Course%203%20%20Python%20Object%20Basics%20-%20Functions%2C%20Recursion%2C%20and%20Objects/Week%201%20User-Defined%20Functions/2%20Parameters/4%20Checking%20Parameters.ipynb#X16sZmlsZQ%3D%3D?line=5'>6</a>\u001b[0m     \u001b[39mexcept\u001b[39;00m \u001b[39mTypeError\u001b[39;00m:\n\u001b[0;32m      <a href='vscode-notebook-cell:/c%3A/Users/vpram/Python%20Specialization/Course%203%20%20Python%20Object%20Basics%20-%20Functions%2C%20Recursion%2C%20and%20Objects/Week%201%20User-Defined%20Functions/2%20Parameters/4%20Checking%20Parameters.ipynb#X16sZmlsZQ%3D%3D?line=6'>7</a>\u001b[0m         \u001b[39mprint\u001b[39m(\u001b[39m\"\u001b[39m\u001b[39mPlease pass the function two numbers\u001b[39m\u001b[39m\"\u001b[39m)\n\u001b[1;32m----> <a href='vscode-notebook-cell:/c%3A/Users/vpram/Python%20Specialization/Course%203%20%20Python%20Object%20Basics%20-%20Functions%2C%20Recursion%2C%20and%20Objects/Week%201%20User-Defined%20Functions/2%20Parameters/4%20Checking%20Parameters.ipynb#X16sZmlsZQ%3D%3D?line=8'>9</a>\u001b[0m addition(\u001b[39m5\u001b[39;49m, \u001b[39m\"\u001b[39;49m\u001b[39mcat\u001b[39;49m\u001b[39m\"\u001b[39;49m)\n",
      "\u001b[1;32mc:\\Users\\vpram\\Python Specialization\\Course 3  Python Object Basics - Functions, Recursion, and Objects\\Week 1 User-Defined Functions\\2 Parameters\\4 Checking Parameters.ipynb Cell 13\u001b[0m in \u001b[0;36maddition\u001b[1;34m(num1, num2)\u001b[0m\n\u001b[0;32m      <a href='vscode-notebook-cell:/c%3A/Users/vpram/Python%20Specialization/Course%203%20%20Python%20Object%20Basics%20-%20Functions%2C%20Recursion%2C%20and%20Objects/Week%201%20User-Defined%20Functions/2%20Parameters/4%20Checking%20Parameters.ipynb#X16sZmlsZQ%3D%3D?line=1'>2</a>\u001b[0m \u001b[39m\"\"\"Add the two parameters together\u001b[39;00m\n\u001b[0;32m      <a href='vscode-notebook-cell:/c%3A/Users/vpram/Python%20Specialization/Course%203%20%20Python%20Object%20Basics%20-%20Functions%2C%20Recursion%2C%20and%20Objects/Week%201%20User-Defined%20Functions/2%20Parameters/4%20Checking%20Parameters.ipynb#X16sZmlsZQ%3D%3D?line=2'>3</a>\u001b[0m \u001b[39mUse try/except to catch any errors\"\"\"\u001b[39;00m\n\u001b[0;32m      <a href='vscode-notebook-cell:/c%3A/Users/vpram/Python%20Specialization/Course%203%20%20Python%20Object%20Basics%20-%20Functions%2C%20Recursion%2C%20and%20Objects/Week%201%20User-Defined%20Functions/2%20Parameters/4%20Checking%20Parameters.ipynb#X16sZmlsZQ%3D%3D?line=3'>4</a>\u001b[0m \u001b[39mtry\u001b[39;00m:\n\u001b[1;32m----> <a href='vscode-notebook-cell:/c%3A/Users/vpram/Python%20Specialization/Course%203%20%20Python%20Object%20Basics%20-%20Functions%2C%20Recursion%2C%20and%20Objects/Week%201%20User-Defined%20Functions/2%20Parameters/4%20Checking%20Parameters.ipynb#X16sZmlsZQ%3D%3D?line=4'>5</a>\u001b[0m     \u001b[39mprint\u001b[39m(num1 \u001b[39m+\u001b[39m num3)\n\u001b[0;32m      <a href='vscode-notebook-cell:/c%3A/Users/vpram/Python%20Specialization/Course%203%20%20Python%20Object%20Basics%20-%20Functions%2C%20Recursion%2C%20and%20Objects/Week%201%20User-Defined%20Functions/2%20Parameters/4%20Checking%20Parameters.ipynb#X16sZmlsZQ%3D%3D?line=5'>6</a>\u001b[0m \u001b[39mexcept\u001b[39;00m \u001b[39mTypeError\u001b[39;00m:\n\u001b[0;32m      <a href='vscode-notebook-cell:/c%3A/Users/vpram/Python%20Specialization/Course%203%20%20Python%20Object%20Basics%20-%20Functions%2C%20Recursion%2C%20and%20Objects/Week%201%20User-Defined%20Functions/2%20Parameters/4%20Checking%20Parameters.ipynb#X16sZmlsZQ%3D%3D?line=6'>7</a>\u001b[0m     \u001b[39mprint\u001b[39m(\u001b[39m\"\u001b[39m\u001b[39mPlease pass the function two numbers\u001b[39m\u001b[39m\"\u001b[39m)\n",
      "\u001b[1;31mNameError\u001b[0m: name 'num3' is not defined"
     ]
    }
   ],
   "source": [
    "def addition (num1, num2):\n",
    "    \"\"\"Add the two parameters together\n",
    "    Use try/except to catch any errors\"\"\"\n",
    "    try:\n",
    "        print(num1 + num3)\n",
    "    except TypeError:\n",
    "        print(\"Please pass the function two numbers\")\n",
    "\n",
    "addition(5, \"cat\")"
   ]
  },
  {
   "cell_type": "markdown",
   "metadata": {},
   "source": [
    "## Reading Question\n",
    "\n",
    "Select all of the things that the `try... except` keywords allow you to do.  **Note** , there is more than one right answer.\n",
    "\n",
    "- **Allows your program to keep running even if there is an error**\n",
    "- **Allows you to write custom error messages.**\n",
    "- Is the only way to detect certain errors in Python.\n",
    "- **Allows you to check for specific kinds of errors.**\n",
    "\n",
    "    The following statements are true about the `try... except` keywords:\n",
    "\n",
    "    * Allows your program to keep running even if there is an error.\n",
    "    * Allows you to write custom error messages.\n",
    "    * Allows you to check for specific kinds of errors.\n",
    "\n",
    "Python will still be able to detect any errors that are not explicitly stated by the `try... except` keywords."
   ]
  }
 ],
 "metadata": {
  "kernelspec": {
   "display_name": "Python 3.10.4 64-bit",
   "language": "python",
   "name": "python3"
  },
  "language_info": {
   "codemirror_mode": {
    "name": "ipython",
    "version": 3
   },
   "file_extension": ".py",
   "mimetype": "text/x-python",
   "name": "python",
   "nbconvert_exporter": "python",
   "pygments_lexer": "ipython3",
   "version": "3.10.4"
  },
  "orig_nbformat": 4,
  "vscode": {
   "interpreter": {
    "hash": "12d9efd1b418ad7485587f2da0512ee7fc7c20b6462fdb2a696d6f33bbf19b58"
   }
  }
 },
 "nbformat": 4,
 "nbformat_minor": 2
}
