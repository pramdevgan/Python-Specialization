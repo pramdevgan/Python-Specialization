{
 "cells": [
  {
   "cell_type": "markdown",
   "metadata": {},
   "source": [
    "# Parameter Values\n",
    "---\n",
    "## Named Parameters\n",
    "\n",
    "Typically, parameter values are assigned based on their position in the function call. However, Python allows you to pass a value to a parameter based its name."
   ]
  },
  {
   "cell_type": "code",
   "execution_count": 3,
   "metadata": {},
   "outputs": [
    {
     "name": "stdout",
     "output_type": "stream",
     "text": [
      "5 - 2 is -> 3\n",
      "2 - 5 is -> -3\n",
      "2 - 5 is -> -3\n"
     ]
    }
   ],
   "source": [
    "def subtract(num1, num2):\n",
    "    \"\"\"Subtract the second parameter from the first\"\"\"\n",
    "    print(\"{} - {} is ->\".format(num1,num2),(num1 - num2))\n",
    "\n",
    "subtract(5,2)\n",
    "subtract(2,5)\n",
    "subtract(num1=2, num2=5)"
   ]
  },
  {
   "cell_type": "markdown",
   "metadata": {},
   "source": [
    "## What happens if you:\n",
    "\n",
    "* Change the function call to `subtract(num3=2, num1=5)`?\n",
    "* Change the function call to `subtract(num1=2, 5)`?\n",
    "* Change the function call to `subtract(num1=2, num1=5)`?"
   ]
  },
  {
   "cell_type": "code",
   "execution_count": 4,
   "metadata": {},
   "outputs": [
    {
     "ename": "TypeError",
     "evalue": "subtract() got an unexpected keyword argument 'num3'",
     "output_type": "error",
     "traceback": [
      "\u001b[1;31m---------------------------------------------------------------------------\u001b[0m",
      "\u001b[1;31mTypeError\u001b[0m                                 Traceback (most recent call last)",
      "\u001b[1;32mc:\\Users\\vpram\\Python Specialization\\Course 3  Python Object Basics - Functions, Recursion, and Objects\\Week 1 User-Defined Functions\\2 Parameters\\3 Parameter Values.ipynb Cell 4\u001b[0m in \u001b[0;36m<module>\u001b[1;34m\u001b[0m\n\u001b[1;32m----> <a href='vscode-notebook-cell:/c%3A/Users/vpram/Python%20Specialization/Course%203%20%20Python%20Object%20Basics%20-%20Functions%2C%20Recursion%2C%20and%20Objects/Week%201%20User-Defined%20Functions/2%20Parameters/3%20Parameter%20Values.ipynb#W4sZmlsZQ%3D%3D?line=0'>1</a>\u001b[0m subtract(num3\u001b[39m=\u001b[39;49m\u001b[39m2\u001b[39;49m, num1\u001b[39m=\u001b[39;49m\u001b[39m5\u001b[39;49m)\n",
      "\u001b[1;31mTypeError\u001b[0m: subtract() got an unexpected keyword argument 'num3'"
     ]
    }
   ],
   "source": [
    "subtract(num3=2, num1=5)"
   ]
  },
  {
   "cell_type": "code",
   "execution_count": 5,
   "metadata": {},
   "outputs": [
    {
     "ename": "SyntaxError",
     "evalue": "positional argument follows keyword argument (342855138.py, line 1)",
     "output_type": "error",
     "traceback": [
      "\u001b[1;36m  Input \u001b[1;32mIn [5]\u001b[1;36m\u001b[0m\n\u001b[1;33m    subtract(num1=2, 5)\u001b[0m\n\u001b[1;37m                      ^\u001b[0m\n\u001b[1;31mSyntaxError\u001b[0m\u001b[1;31m:\u001b[0m positional argument follows keyword argument\n"
     ]
    }
   ],
   "source": [
    "subtract(num1=2, 5)"
   ]
  },
  {
   "cell_type": "code",
   "execution_count": 6,
   "metadata": {},
   "outputs": [
    {
     "ename": "SyntaxError",
     "evalue": "keyword argument repeated: num1 (788585938.py, line 1)",
     "output_type": "error",
     "traceback": [
      "\u001b[1;36m  Input \u001b[1;32mIn [6]\u001b[1;36m\u001b[0m\n\u001b[1;33m    subtract(num1=2, num1=5)\u001b[0m\n\u001b[1;37m                     ^\u001b[0m\n\u001b[1;31mSyntaxError\u001b[0m\u001b[1;31m:\u001b[0m keyword argument repeated: num1\n"
     ]
    }
   ],
   "source": [
    "subtract(num1=2, num1=5)"
   ]
  },
  {
   "cell_type": "markdown",
   "metadata": {},
   "source": [
    "## Parameter Values\n",
    "\n",
    "If parameters can be thought of as variables, then they can have the same values as variables: ints, floats, strings, boolean, lists, etc."
   ]
  },
  {
   "cell_type": "code",
   "execution_count": 7,
   "metadata": {},
   "outputs": [
    {
     "name": "stdout",
     "output_type": "stream",
     "text": [
      "The type of 1 is <class 'int'>\n",
      "The type of 5.9 is <class 'float'>\n",
      "The type of Beatles is <class 'str'>\n",
      "The type of False is <class 'bool'>\n"
     ]
    }
   ],
   "source": [
    "def parameter_types(param1, param2, param3, param4):\n",
    "    \"\"\"Takes four parameters\n",
    "    Print the type of each element\"\"\"\n",
    "    print(\"The type of {} is {}\".format(param1, type(param1)))\n",
    "    print(\"The type of {} is {}\".format(param2, type(param2)))\n",
    "    print(\"The type of {} is {}\".format(param3, type(param3)))\n",
    "    print(\"The type of {} is {}\".format(param4, type(param4)))\n",
    "        \n",
    "parameter_types(1, 5.9, \"Beatles\", False)"
   ]
  },
  {
   "cell_type": "markdown",
   "metadata": {},
   "source": [
    "## What happens if you:\n",
    "\n",
    "* Change the function call to `parameter_types([1,2,3], -6, len, True)`?\n",
    "* Change the function call to `parameter_types(range(10), \"\", parameter_types, 45)`?"
   ]
  },
  {
   "cell_type": "code",
   "execution_count": 8,
   "metadata": {},
   "outputs": [
    {
     "name": "stdout",
     "output_type": "stream",
     "text": [
      "The type of [1, 2, 3] is <class 'list'>\n",
      "The type of -6 is <class 'int'>\n",
      "The type of <built-in function len> is <class 'builtin_function_or_method'>\n",
      "The type of True is <class 'bool'>\n"
     ]
    }
   ],
   "source": [
    "parameter_types([1,2,3], -6, len, True)"
   ]
  },
  {
   "cell_type": "code",
   "execution_count": 9,
   "metadata": {},
   "outputs": [
    {
     "name": "stdout",
     "output_type": "stream",
     "text": [
      "The type of range(0, 10) is <class 'range'>\n",
      "The type of  is <class 'str'>\n",
      "The type of <function parameter_types at 0x000002CD98E26B00> is <class 'function'>\n",
      "The type of 45 is <class 'int'>\n"
     ]
    }
   ],
   "source": [
    "parameter_types(range(10), \"\", parameter_types, 45)"
   ]
  },
  {
   "cell_type": "markdown",
   "metadata": {},
   "source": [
    "## Reading Question\n",
    "\n",
    "Select all of the data types that can be passed to a function as a parameter.  **Note** , there is more than one correct answer.\n",
    "\n",
    "- **Numbers (floats or ints)**\n",
    "- **Strings**\n",
    "- **Booleans**\n",
    "- **Lists of strings, numbers, or booleans**\n",
    "\n",
    "Any of the data types covered so far (plus many more) can be passed as a parameter to a function. This includes lists of strings, numbers, booleans, or a combination of those data types."
   ]
  }
 ],
 "metadata": {
  "kernelspec": {
   "display_name": "Python 3.10.4 64-bit",
   "language": "python",
   "name": "python3"
  },
  "language_info": {
   "codemirror_mode": {
    "name": "ipython",
    "version": 3
   },
   "file_extension": ".py",
   "mimetype": "text/x-python",
   "name": "python",
   "nbconvert_exporter": "python",
   "pygments_lexer": "ipython3",
   "version": "3.10.4"
  },
  "orig_nbformat": 4,
  "vscode": {
   "interpreter": {
    "hash": "12d9efd1b418ad7485587f2da0512ee7fc7c20b6462fdb2a696d6f33bbf19b58"
   }
  }
 },
 "nbformat": 4,
 "nbformat_minor": 2
}
