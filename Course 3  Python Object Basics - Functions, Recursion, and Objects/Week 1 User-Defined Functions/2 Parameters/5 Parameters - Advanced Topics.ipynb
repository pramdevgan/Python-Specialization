{
 "cells": [
  {
   "cell_type": "markdown",
   "metadata": {},
   "source": [
    "# Parameters - Advanced Topics\n",
    "---\n",
    "## Optional Parameters\n",
    "\n",
    "Python allows you to create functions with optional parameters. They are considered to be optional because the function call can state the parameter or not. However, the function declaration will name this parameter and give it a default value.\n",
    "\n",
    "![Optional Parameters](https://apollo-media.codio.com/media%2F1%2F8be98b691b95ffdc6ec7d6df8dfdc94a-b0ba783c-6ad1-4df1-b948-8166ba9c5b0e.webp)"
   ]
  },
  {
   "cell_type": "code",
   "execution_count": 1,
   "metadata": {},
   "outputs": [
    {
     "name": "stdout",
     "output_type": "stream",
     "text": [
      "12\n",
      "No additon, bool is false\n"
     ]
    }
   ],
   "source": [
    "def add_if_ture (num1, num2, bool=True):\n",
    "    \"\"\"Prints the sum of two numbers\n",
    "    if the variable bool is true\"\"\"\n",
    "\n",
    "    if bool:\n",
    "        print(num1 + num2)\n",
    "    else:\n",
    "        print(\"No additon, bool is false\")\n",
    "\n",
    "add_if_ture(5,7)\n",
    "add_if_ture(5,7, False)"
   ]
  },
  {
   "cell_type": "markdown",
   "metadata": {},
   "source": [
    "## What happens if you:\n",
    "\n",
    "* Add a function call that looks like this `add_if_true(29, 45, True)`?"
   ]
  },
  {
   "cell_type": "code",
   "execution_count": 2,
   "metadata": {},
   "outputs": [
    {
     "name": "stdout",
     "output_type": "stream",
     "text": [
      "74\n"
     ]
    }
   ],
   "source": [
    "def add_if_ture(num1, num2, bool=True):\n",
    "    \"\"\"Prints the sum of two numbers\n",
    "    if the variable bool is true\"\"\"\n",
    "\n",
    "    if bool:\n",
    "        print(num1 + num2)\n",
    "    else:\n",
    "        print(\"No addition, bool is false\")\n",
    "\n",
    "add_if_ture(29,45,True)"
   ]
  },
  {
   "cell_type": "markdown",
   "metadata": {},
   "source": [
    "## Variable Parameter Lists\n",
    "\n",
    "It is possible to declare a function with a list of variables of an undetermined length. The function below will find the sum for any number passed as a parameter. There can be two parameters or twenty, but it is not necessary to write out each parameter. Instead, use a `*` before a single parameter name. This creates a list of parameters."
   ]
  },
  {
   "cell_type": "code",
   "execution_count": 3,
   "metadata": {},
   "outputs": [
    {
     "name": "stdout",
     "output_type": "stream",
     "text": [
      "55\n"
     ]
    }
   ],
   "source": [
    "def calc_sum (*nums):\n",
    "    total = 0\n",
    "    for num in nums:\n",
    "        total = total + num\n",
    "    print(total)\n",
    "\n",
    "calc_sum(1, 2, 3, 4, 5, 6, 7, 8, 9, 10)"
   ]
  },
  {
   "cell_type": "markdown",
   "metadata": {},
   "source": [
    "## What happens if you:\n",
    "\n",
    "* Change the function call to `calc_sum(4)`?\n",
    "* Change the function call to `calc_sum()`?"
   ]
  },
  {
   "cell_type": "code",
   "execution_count": 4,
   "metadata": {},
   "outputs": [
    {
     "name": "stdout",
     "output_type": "stream",
     "text": [
      "4\n"
     ]
    }
   ],
   "source": [
    "calc_sum(4)"
   ]
  },
  {
   "cell_type": "code",
   "execution_count": 5,
   "metadata": {},
   "outputs": [
    {
     "name": "stdout",
     "output_type": "stream",
     "text": [
      "0\n"
     ]
    }
   ],
   "source": [
    "calc_sum()"
   ]
  },
  {
   "cell_type": "markdown",
   "metadata": {},
   "source": [
    "## Reading Question\n",
    "\n",
    "Fill in the blanks below about optional parameters in Python.\n",
    "\n",
    "You do not have to specify the optional parameter with the function **`call`**. However, you must specify the optional parameter and its default value in the function **`definition`**."
   ]
  }
 ],
 "metadata": {
  "kernelspec": {
   "display_name": "Python 3.10.4 64-bit",
   "language": "python",
   "name": "python3"
  },
  "language_info": {
   "codemirror_mode": {
    "name": "ipython",
    "version": 3
   },
   "file_extension": ".py",
   "mimetype": "text/x-python",
   "name": "python",
   "nbconvert_exporter": "python",
   "pygments_lexer": "ipython3",
   "version": "3.10.4"
  },
  "orig_nbformat": 4,
  "vscode": {
   "interpreter": {
    "hash": "12d9efd1b418ad7485587f2da0512ee7fc7c20b6462fdb2a696d6f33bbf19b58"
   }
  }
 },
 "nbformat": 4,
 "nbformat_minor": 2
}
