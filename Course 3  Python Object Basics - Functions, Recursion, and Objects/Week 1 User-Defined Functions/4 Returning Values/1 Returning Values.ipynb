{
 "cells": [
  {
   "cell_type": "markdown",
   "metadata": {},
   "source": [
    "# Returning Values\n",
    "\n",
    "---\n",
    "\n",
    "## The Return Keyword\n",
    "\n",
    "Every function in Python returns a value. Think of the `len` function. This function returns the length (an int) of either a string or list. So the return value of `len` is of type int. `len` does not print anything to the screen, it just returns a number. From here on out, functions will no longer use the print statement. Instead, functions will return a value — use the `return` keyword in place of `print`."
   ]
  },
  {
   "cell_type": "code",
   "execution_count": 1,
   "metadata": {},
   "outputs": [
    {
     "data": {
      "text/plain": [
       "15"
      ]
     },
     "execution_count": 1,
     "metadata": {},
     "output_type": "execute_result"
    }
   ],
   "source": [
    "def add_five(num):\n",
    "    \"\"\"Add five to the parameter num\"\"\"\n",
    "    return (num + 5)\n",
    "\n",
    "add_five(10)"
   ]
  },
  {
   "cell_type": "markdown",
   "metadata": {},
   "source": [
    "The program no longer prints anything to the screen. That is because the function only adds 5 to whatever parameter is passed to the function, and back the function returns this value to the program. Explicitly tell Python to print the return value of the function."
   ]
  },
  {
   "cell_type": "code",
   "execution_count": 2,
   "metadata": {},
   "outputs": [
    {
     "name": "stdout",
     "output_type": "stream",
     "text": [
      "15\n"
     ]
    }
   ],
   "source": [
    "def add_five(num):\n",
    "    \"\"\"Add five to the parameter num\"\"\"\n",
    "    return(num + 5)\n",
    "\n",
    "new_number = add_five(10)\n",
    "print(new_number)"
   ]
  },
  {
   "cell_type": "markdown",
   "metadata": {},
   "source": [
    "<details open=\"\"><summary><strong>What is the return value for functions that use<span> </span><code>print</code>?</strong></summary>\n",
    "\n",
    "If every function in Python has a return value, what is the return value for functions that use `print`? The keyword `return` is not used, so you cannot see if it returns a string, a float, a list, etc. Functions that use `print` instead of `return` have a special return value called `NoneType`. Enter the code below to see the return type of the print statement as compared to the return value of the `len` function.\n",
    "</details>"
   ]
  },
  {
   "cell_type": "code",
   "execution_count": 3,
   "metadata": {},
   "outputs": [
    {
     "name": "stdout",
     "output_type": "stream",
     "text": [
      "Hello\n",
      "<class 'NoneType'>\n",
      "<class 'int'>\n"
     ]
    }
   ],
   "source": [
    "def print_hello():\n",
    "    '''Prints the string Hello'''\n",
    "    print('Hello')\n",
    "\n",
    "print(type(print_hello()))\n",
    "print(type(len('Hello')))"
   ]
  },
  {
   "cell_type": "markdown",
   "metadata": {},
   "source": [
    "## Returning Values\n",
    "\n",
    "Functions can return any value in Python — ints, floats, strings, lists, etc."
   ]
  },
  {
   "cell_type": "code",
   "execution_count": 4,
   "metadata": {},
   "outputs": [
    {
     "name": "stdout",
     "output_type": "stream",
     "text": [
      "3\n",
      "3.3333333333333335\n",
      "Hello friend\n"
     ]
    }
   ],
   "source": [
    "def return_int(num1, num2):\n",
    "    \"\"\"Return the floor division of num1 divided by num2\"\"\"\n",
    "    return(num1 // num2)\n",
    "\n",
    "def return_float(num1, num2):\n",
    "    \"\"\"Return num1 divided by num2\"\"\"\n",
    "    return(num1 / num2)\n",
    "\n",
    "def return_string(string):\n",
    "    \"\"\"Return the value of string appended to 'Hello' \"\"\"\n",
    "    return(\"Hello\" + string)\n",
    "\n",
    "print(return_int(10, 3))\n",
    "print(return_float(10, 3))\n",
    "print(return_string(\" friend\"))"
   ]
  },
  {
   "cell_type": "markdown",
   "metadata": {},
   "source": [
    "## Can you write a function that returns a list?\n",
    "\n",
    "If you want to return a list, it is a good idea to have a list be passed as a parameter. Modify the list in some way, and then return it to the program.\n",
    "\n",
    "<details><summary><strong>One possible solution</strong></summary>\n",
    "\n",
    "The code below takes a list of numbers as a parameter. Each element of the list is multiplied by 5, and the new list is returned.\n",
    "\n",
    "```python\n",
    "def mult_by_5(my_list):\n",
    "    \"\"\"Takes a list of ints and returns a new\n",
    "    list where each element is multiplied by 5\"\"\"\n",
    "    new_list = []\n",
    "    for elem in my_list:\n",
    "        new_list.append(elem * 5)\n",
    "    return new_list\n",
    "\n",
    "print(mult_by_5([1, 2, 3, 4, 5]))\n",
    "```\n",
    "\n",
    "</details>\n"
   ]
  },
  {
   "cell_type": "code",
   "execution_count": 5,
   "metadata": {},
   "outputs": [
    {
     "name": "stdout",
     "output_type": "stream",
     "text": [
      "[5, 10, 15, 20, 25]\n"
     ]
    }
   ],
   "source": [
    "def mult_by_5 (my_list):\n",
    "    \"\"\"Takes a list of ints and returns a new\n",
    "    list where each element is multiplied by 5\"\"\"\n",
    "    new_list = []\n",
    "    for elem in my_list:\n",
    "        new_list.append(elem * 5)\n",
    "    return new_list\n",
    "\n",
    "print(mult_by_5([1, 2, 3, 4, 5]))"
   ]
  },
  {
   "cell_type": "markdown",
   "metadata": {},
   "source": [
    "## Reading Question\n",
    "\n",
    "What does the `return` keyword do?\n",
    "\n",
    "- **Returns a value calculated by a function back to the program.**\n",
    "- Prints a value to the screen.\n",
    "- The `return` keyword must be used to terminate a function.\n",
    "- The `return` keyword is only used with ints and floats. Other values cannot be used with `return`.\n",
    "\n",
    "The `return` keyword returns a value calculated by a function back to the program. `reuturn` does not print anything to the screen. Functions do not require `return` when they terminate (think of all of the functions you wrote that use `print` at the end). Functions can return any datatype that is valid in Python."
   ]
  }
 ],
 "metadata": {
  "kernelspec": {
   "display_name": "Python 3.10.4 64-bit",
   "language": "python",
   "name": "python3"
  },
  "language_info": {
   "codemirror_mode": {
    "name": "ipython",
    "version": 3
   },
   "file_extension": ".py",
   "mimetype": "text/x-python",
   "name": "python",
   "nbconvert_exporter": "python",
   "pygments_lexer": "ipython3",
   "version": "3.10.4"
  },
  "orig_nbformat": 4,
  "vscode": {
   "interpreter": {
    "hash": "12d9efd1b418ad7485587f2da0512ee7fc7c20b6462fdb2a696d6f33bbf19b58"
   }
  }
 },
 "nbformat": 4,
 "nbformat_minor": 2
}
