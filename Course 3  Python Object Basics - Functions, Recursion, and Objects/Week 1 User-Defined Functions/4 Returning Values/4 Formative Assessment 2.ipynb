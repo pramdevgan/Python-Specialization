{
 "cells": [
  {
   "cell_type": "markdown",
   "metadata": {},
   "source": [
    "# Formative Assessment 2\n",
    "\n",
    "---\n",
    "\n",
    "## Formative Assessment\n",
    "\n",
    "The code below has a side effect (printing).\n",
    "\n",
    "```python\n",
    "def has_letter_a(word):\n",
    "    if \"a\" in word:\n",
    "        print(\"{} has the letter 'a' in it.\".format(word))\n",
    "    else:\n",
    "        print(\"{} does not have the letter 'a' in it.\".format(word))\n",
    "has_letter_a(\"apple\")\n",
    "```\n",
    "\n",
    "Which of the code samples below produces the same output but without having any side effects in the function `has_letter_a`?\n",
    "\n",
    "```python\n",
    "def has_letter_a(word):\n",
    "    if \"a\" in word:\n",
    "        return(\"{} has the letter 'a' in it.\".format(word))\n",
    "    else:\n",
    "        return(\"{} does not have the letter 'a' in it.\".format(word))\n",
    "has_letter_a(\"apple\")\n",
    "```\n",
    "\n",
    "```python\n",
    "def has_letter_a(word):\n",
    "    if \"a\" in word:\n",
    "        print(\"{} has the letter 'a' in it.\".format(word))\n",
    "    else:\n",
    "        print(\"{} does not have the letter 'a' in it.\".format(word))\n",
    "print(has_letter_a(\"apple\"))\n",
    "```\n",
    "\n",
    "```python\n",
    "def has_letter_a(word):\n",
    "    if \"a\" in word:\n",
    "        return(\"{} has the letter 'a' in it.\".format(word)) # Correct Answer\n",
    "    else:\n",
    "        return(\"{} does not have the letter 'a' in it.\".format(word))\n",
    "print(has_letter_a(\"apple\"))\n",
    "```\n",
    "\n",
    "```python\n",
    "def has_letter_a(word):\n",
    "    if \"a\" in word:\n",
    "        return(\"{} has the letter 'a' in it.\".format(word))\n",
    "    else:\n",
    "        return(\"{} does not have the letter 'a' in it.\".format(word))\n",
    "print(has_letter_a)\n",
    "```"
   ]
  },
  {
   "cell_type": "markdown",
   "metadata": {},
   "source": [
    "The side effects in the original function are the print statements. The solution should not have print statements in the function `has_letter_a`. Replace the print statements with `return` statements. Finally the print statement should come outside the function, and you want to print the results of `has_letter_a(\"apple\")`.\n",
    "\n",
    "```python\n",
    "def has_letter_a(word):\n",
    "    if \"a\" in word:\n",
    "        return(\"{} has the letter 'a' in it.\".format(word))\n",
    "    else:\n",
    "        return(\"{} does not have the letter 'a' in it.\".format(word))\n",
    "print(has_letter_a(\"apple\"))\n",
    "```"
   ]
  }
 ],
 "metadata": {
  "kernelspec": {
   "display_name": "Python 3.10.4 64-bit",
   "language": "python",
   "name": "python3"
  },
  "language_info": {
   "name": "python",
   "version": "3.10.4"
  },
  "orig_nbformat": 4,
  "vscode": {
   "interpreter": {
    "hash": "12d9efd1b418ad7485587f2da0512ee7fc7c20b6462fdb2a696d6f33bbf19b58"
   }
  }
 },
 "nbformat": 4,
 "nbformat_minor": 2
}
