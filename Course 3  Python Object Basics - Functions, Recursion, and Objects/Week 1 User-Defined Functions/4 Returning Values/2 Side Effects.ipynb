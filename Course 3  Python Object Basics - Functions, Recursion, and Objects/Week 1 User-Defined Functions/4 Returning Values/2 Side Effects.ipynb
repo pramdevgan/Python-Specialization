{
 "cells": [
  {
   "cell_type": "markdown",
   "metadata": {},
   "source": [
    "# Side Effects\n",
    "---\n",
    "## Side Effects\n",
    "\n",
    "Side effects are any changes that a function produces that are external to the function itself. Examples of side effects are printing to the screen, changing a global variable, writing to a file, etc. Sometimes side effects are the desired outcome, but there are many programmers who believe that functions should not have side effects (these are called pure functions). The examples below demonstrate how to incorporate pure functions into programs that have side effects.\n",
    "\n",
    "### Modify a Global Variable\n",
    "\n",
    "Global variables can be modified by a function without using the `global` keyword, which is a side effect. In the for loop, the new value of `my_num` is calculated by calling the function `add_5`. You can see the value of `my_num` change each time the loop runs."
   ]
  },
  {
   "cell_type": "code",
   "execution_count": 1,
   "metadata": {},
   "outputs": [
    {
     "name": "stdout",
     "output_type": "stream",
     "text": [
      "5\n",
      "10\n",
      "15\n",
      "20\n",
      "25\n",
      "30\n",
      "35\n",
      "40\n",
      "45\n",
      "50\n"
     ]
    }
   ],
   "source": [
    "my_num = 0\n",
    "\n",
    "def add_5 (num):\n",
    "    \"\"\"Recive a number add 5  total the number, and\n",
    "    return the new number.\"\"\"\n",
    "    return (num + 5)\n",
    "\n",
    "for i in range(10):\n",
    "    my_num = add_5(my_num)\n",
    "    print(my_num)"
   ]
  },
  {
   "cell_type": "markdown",
   "metadata": {},
   "source": [
    "## What happens if you:\n",
    "\n",
    "* Change the program to look like this:\n",
    "\n",
    "```python\n",
    "my_num = 0\n",
    "\n",
    "def add_5():\n",
    "    \"\"\"Add 5 to my_num and return the new number\"\"\"\n",
    "    return(my_num + 5)\n",
    "  \n",
    "for i in range(10):\n",
    "    my_num = add_5()\n",
    "    print(my_num)\n",
    "```"
   ]
  },
  {
   "cell_type": "code",
   "execution_count": 2,
   "metadata": {},
   "outputs": [
    {
     "name": "stdout",
     "output_type": "stream",
     "text": [
      "5\n",
      "10\n",
      "15\n",
      "20\n",
      "25\n",
      "30\n",
      "35\n",
      "40\n",
      "45\n",
      "50\n"
     ]
    }
   ],
   "source": [
    "my_num = 0\n",
    "\n",
    "def add_5():\n",
    "    \"\"\"Add 5 to my_num and return the new number\"\"\"\n",
    "    return(my_num + 5)\n",
    "\n",
    "for i in range(10):\n",
    "    my_num = add_5()\n",
    "    print(my_num)"
   ]
  },
  {
   "cell_type": "markdown",
   "metadata": {},
   "source": [
    "<details open=\"\"><summary><strong>Why the above code is not preferred</strong></summary>\n",
    "\n",
    "The code where `add_5` has no parameters produces the exact same output as the code where `add_5` has a parameter. However, the code where `add_5` has a parameter is preferable to the code where `add_5` does not have a parameter. The function without the parameter relies on the global variable `my_num`. If you were to copy/paste this function into another program, it would only work if there was a global variable named `my_num`. The function with the parameter, however, will work in used in another program. Having the parameter means the function is not dependent upon specific global variables. This reduces the chance for an error.\n",
    "\n",
    "</details>"
   ]
  },
  {
   "cell_type": "markdown",
   "metadata": {},
   "source": [
    "### Printing\n",
    "\n",
    "The code below prints if a number is odd or even. The first function determines if a number is odd or even. The second function constructs the appropriate string. Neither function has a side effect. The act of printing is left to the main program."
   ]
  },
  {
   "cell_type": "code",
   "execution_count": 3,
   "metadata": {},
   "outputs": [
    {
     "name": "stdout",
     "output_type": "stream",
     "text": [
      "2 is an even number.\n"
     ]
    }
   ],
   "source": [
    "def is_even(num):\n",
    "    \"\"\"Return True if num is even\n",
    "    return False if num is odd\"\"\"\n",
    "    return num % 2 == 0\n",
    "\n",
    "def output(num):\n",
    "    \"\"\"Return a string with a number,\n",
    "    and states if that number is even or odd\"\"\"\n",
    "    if is_even(num):\n",
    "        return \"{} is an even number.\".format(num)\n",
    "    else:\n",
    "        return \"{} is an odd number.\".format(num)\n",
    "\n",
    "print(output(2))"
   ]
  },
  {
   "cell_type": "markdown",
   "metadata": {},
   "source": [
    "## What happens if you:\n",
    "\n",
    "* Change the print statement to `print(output(3))`?"
   ]
  },
  {
   "cell_type": "code",
   "execution_count": 4,
   "metadata": {},
   "outputs": [
    {
     "name": "stdout",
     "output_type": "stream",
     "text": [
      "3 is an odd number.\n"
     ]
    }
   ],
   "source": [
    "print(output(3))"
   ]
  },
  {
   "cell_type": "markdown",
   "metadata": {},
   "source": [
    "## Reading Question\n",
    "\n",
    "What is a side effect?\n",
    "\n",
    "- When your code has a bug in it, the error message is a side effect of bad code.\n",
    "- A side effect is when a function causes a change that is internal to the function.\n",
    "- **A side effect is when a function causes a change that is external to the function itself.**\n",
    "- A side effect is an unwanted change in your program.\n",
    "\n",
    "A side effect is when a function causes a change that is external to the function itself. While some programmers try to limit the amount of side effects in their code, sometimes side effects are the desired result. Examples of side effects include modifying a global variable, printing to the screen, writing to a file, etc."
   ]
  }
 ],
 "metadata": {
  "kernelspec": {
   "display_name": "Python 3.10.4 64-bit",
   "language": "python",
   "name": "python3"
  },
  "language_info": {
   "codemirror_mode": {
    "name": "ipython",
    "version": 3
   },
   "file_extension": ".py",
   "mimetype": "text/x-python",
   "name": "python",
   "nbconvert_exporter": "python",
   "pygments_lexer": "ipython3",
   "version": "3.10.4"
  },
  "orig_nbformat": 4,
  "vscode": {
   "interpreter": {
    "hash": "12d9efd1b418ad7485587f2da0512ee7fc7c20b6462fdb2a696d6f33bbf19b58"
   }
  }
 },
 "nbformat": 4,
 "nbformat_minor": 2
}
