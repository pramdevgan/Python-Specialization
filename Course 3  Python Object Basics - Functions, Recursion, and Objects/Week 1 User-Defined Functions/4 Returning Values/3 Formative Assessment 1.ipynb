{
 "cells": [
  {
   "cell_type": "markdown",
   "metadata": {},
   "source": [
    "# Formative Assessment 1\n",
    "---\n",
    "## Formative Assessment\n",
    "\n",
    "Rearrange the code blocks below to create the function `is_even` that takes the parameter `num`. The function should return a boolean to indicate if a number is even.  **Note** , not all of the code blocks will be used.\n",
    "\n",
    "Drag from here\n",
    "```python\n",
    "return(num % 2)\n",
    "print(num % 2 == 0)\n",
    "return(num % 2 == 0)\n",
    "def is_even():\n",
    "def is_even(num):\n",
    "```\n",
    "Construct your solution here\n",
    "Two important pieces of information were give about the function `is_even`. One, it has a parameter `num`. Two, the function returns a boolean statement. So the function header should have the parameter `num` and the function body should have a `return` statement.\n",
    "\n",
    "```python\n",
    "def is_even(num):\n",
    "    return(num % 2 == 0)\n",
    "```"
   ]
  },
  {
   "cell_type": "code",
   "execution_count": 22,
   "metadata": {},
   "outputs": [
    {
     "data": {
      "text/plain": [
       "True"
      ]
     },
     "execution_count": 22,
     "metadata": {},
     "output_type": "execute_result"
    }
   ],
   "source": [
    "def is_even(num):\n",
    "    return (num % 2 == 0)\n",
    "\n",
    "is_even(16)"
   ]
  }
 ],
 "metadata": {
  "kernelspec": {
   "display_name": "Python 3.10.4 64-bit",
   "language": "python",
   "name": "python3"
  },
  "language_info": {
   "codemirror_mode": {
    "name": "ipython",
    "version": 3
   },
   "file_extension": ".py",
   "mimetype": "text/x-python",
   "name": "python",
   "nbconvert_exporter": "python",
   "pygments_lexer": "ipython3",
   "version": "3.10.4"
  },
  "orig_nbformat": 4,
  "vscode": {
   "interpreter": {
    "hash": "12d9efd1b418ad7485587f2da0512ee7fc7c20b6462fdb2a696d6f33bbf19b58"
   }
  }
 },
 "nbformat": 4,
 "nbformat_minor": 2
}
