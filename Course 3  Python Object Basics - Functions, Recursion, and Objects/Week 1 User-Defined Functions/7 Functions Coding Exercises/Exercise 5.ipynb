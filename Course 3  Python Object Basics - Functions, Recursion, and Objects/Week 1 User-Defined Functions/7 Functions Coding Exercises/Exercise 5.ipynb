{
 "cells": [
  {
   "cell_type": "markdown",
   "metadata": {},
   "source": [
    "# Exercise 5\n",
    "\n",
    "---\n",
    "\n",
    "## Functions Exercise 5\n",
    "\n",
    "**Problem**\n",
    "Write a function called `is_palindrome` that takes a string as a parameter. The function will return `True` if the string is a palindrome (is the same forward and backward). The function will return `False` if the string is not a palindrome.\n",
    "\n",
    "**Expected Output**\n",
    "\n",
    "* If the function call is `is_palindrome(\"level\")`, the the function would return `True`\n",
    "* If the function call is `is_palindrome(\"house\")`, the the function would return `False`\n",
    "\n",
    "**Important**\n",
    "**Do not** use a helper function for this problem. Though this is good situation in which to use one, the auto-grader only works if all of the coding is done inside the `is_palindrome` function."
   ]
  },
  {
   "cell_type": "code",
   "execution_count": 3,
   "metadata": {},
   "outputs": [
    {
     "name": "stdout",
     "output_type": "stream",
     "text": [
      "True\n",
      "False\n"
     ]
    }
   ],
   "source": [
    "def is_palindrome(string):\n",
    "    rev_string= \"\"\n",
    "    pos = len(string) - 1\n",
    "    while pos >= 0:\n",
    "        rev_string += string[pos]\n",
    "        pos -= 1\n",
    "    if string == rev_string:\n",
    "        return True\n",
    "    else:\n",
    "        return False\n",
    "\n",
    "print(is_palindrome(\"level\"))\n",
    "print(is_palindrome(\"house\"))"
   ]
  },
  {
   "cell_type": "markdown",
   "metadata": {},
   "source": [
    "Submit your code when ready\n",
    "\n",
    "The solution to this problem has two parts. First, reverse the string passed as a parameter. The second part is to compare the original string and the reversed string and then return True or False. One way to reverse a string is to create an empty string. The iterate backwards through the original string. Take each character and concatenate it with the reversed string. This was done using a while loop. Calculate how many times the loop needs to run. Because strings start counting each character with 0, the last character in the string is the string’s length minus 1. Store this number that will represent the position as you iterate backwards through the string. Start at this variable, concatenate the character, and and subtract one from the position variable. Finally, compare the original string and the reversed string. Return True if they are the same, return false if they are different. Here is one possible solution:\n",
    "\n",
    "```python\n",
    "def is_palindrome(string):\n",
    "    reversed_string= \"\"\n",
    "    position = len(string) - 1\n",
    "    while position >= 0:\n",
    "        reversed_string += string[position]\n",
    "        position -= 1\n",
    "    if string == reversed_string:\n",
    "        return True\n",
    "    else:\n",
    "        return False\n",
    "```\n",
    "\n",
    "Check It!\n",
    "\n",
    "LAST RUN on 8/26/2022, 12:00:53 AM\n",
    "\n",
    "```\n",
    "True\n",
    "False\n",
    "```\n",
    "<pre tabindex=\"0\" aria-label=\"Scrollable feedback \" class=\"codio-button-result-out codio-button-result-out-pass codio-feedback-comments\"><h2>Testing your code...</h2>\n",
    "Test 1 <b>passed</b>.\n",
    "Test 2 <b>passed</b>.\n",
    "Test 3 <b>passed</b>.\n",
    "<hr/>\n",
    "<h3>All tests passed!</h3></pre>\n"
   ]
  }
 ],
 "metadata": {
  "kernelspec": {
   "display_name": "Python 3.10.4 64-bit",
   "language": "python",
   "name": "python3"
  },
  "language_info": {
   "codemirror_mode": {
    "name": "ipython",
    "version": 3
   },
   "file_extension": ".py",
   "mimetype": "text/x-python",
   "name": "python",
   "nbconvert_exporter": "python",
   "pygments_lexer": "ipython3",
   "version": "3.10.4"
  },
  "orig_nbformat": 4,
  "vscode": {
   "interpreter": {
    "hash": "12d9efd1b418ad7485587f2da0512ee7fc7c20b6462fdb2a696d6f33bbf19b58"
   }
  }
 },
 "nbformat": 4,
 "nbformat_minor": 2
}
