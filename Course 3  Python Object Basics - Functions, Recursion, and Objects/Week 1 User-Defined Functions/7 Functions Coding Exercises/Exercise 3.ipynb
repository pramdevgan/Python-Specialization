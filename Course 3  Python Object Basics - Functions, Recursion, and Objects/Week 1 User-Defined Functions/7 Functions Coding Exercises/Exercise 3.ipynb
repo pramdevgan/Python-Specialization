{
 "cells": [
  {
   "cell_type": "markdown",
   "metadata": {},
   "source": [
    "# Exercise 3\n",
    "---\n",
    "## Functions Exercise 3\n",
    "\n",
    "**Problem**\n",
    "Write a function called `search_list` that takes a list and a search term as parameters. If the search term is located in the list, return the index of the matching element. The function should work even if there is a difference in capitalization. If the search term is not in the list, return `-1`.\n",
    "\n",
    "**Expected Output**\n",
    "\n",
    "* If the function call is `search_list([\"dog\", \"fish\", \"cat\"], \"Cat\")`, the the function would return `2`\n",
    "* If the function call is `search_list([\"water\", \"Toy\", \"house\"], \"toy\")`, then the function would return `1`\n",
    "* If the function call is `search_list([\"box\", \"car\", \"hat\"], \"mouse\")`, the the function would return `-1`"
   ]
  },
  {
   "cell_type": "code",
   "execution_count": 2,
   "metadata": {},
   "outputs": [
    {
     "name": "stdout",
     "output_type": "stream",
     "text": [
      "2\n",
      "1\n",
      "-1\n"
     ]
    }
   ],
   "source": [
    "def search_list(my_list, search_item):\n",
    "    for i in range(len(my_list)):\n",
    "        search_item = search_item.lower()\n",
    "        my_list[i] = my_list[i].lower()\n",
    "\n",
    "        if my_list[i] == search_item:\n",
    "            return i\n",
    "    return -1\n",
    "\n",
    "print(search_list([\"dog\", \"fish\", \"cat\"], \"Cat\"))\n",
    "print(search_list([\"water\", \"Toy\", \"house\"], \"toy\"))\n",
    "print(search_list([\"box\", \"car\", \"hat\"], \"mouse\"))"
   ]
  },
  {
   "cell_type": "markdown",
   "metadata": {},
   "source": [
    "Submit your code when ready\n",
    "\n",
    "The function `search_list` needs a list of strings parameter and a string parameter. Iterate through the list and check each item against the search term (string parameter). The key is to put both strings (the item from the list and the search term) into the same case for the comparison. If there is a match, return the index of the item with the list method `.index()`. If there is no match, return `-1`. Here is one possible solution:\n",
    "\n",
    "```python\n",
    "def search_list(lst, term):\n",
    "    \"\"\"Search for item in a list\n",
    "    Return the index if found\n",
    "    Return -1 if not found\"\"\"\n",
    "    for item in lst:\n",
    "        if item.lower() == term.lower():\n",
    "            return lst.index(item)\n",
    "    return -1\n",
    "```\n",
    "\n",
    "Check It!\n",
    "\n",
    "LAST RUN on 8/25/2022, 9:18:49 PM\n",
    "\n",
    "<pre tabindex=\"0\" aria-label=\"Scrollable feedback \" class=\"codio-button-result-out codio-button-result-out-pass codio-feedback-comments\"><h2>Testing your code...</h2>\n",
    "Test 1 <b>passed</b>.\n",
    "Test 2 <b>passed</b>.\n",
    "Test 3 <b>passed</b>.\n",
    "<hr/>\n",
    "<h3>All tests passed!</h3></pre>"
   ]
  }
 ],
 "metadata": {
  "kernelspec": {
   "display_name": "Python 3.10.4 64-bit",
   "language": "python",
   "name": "python3"
  },
  "language_info": {
   "codemirror_mode": {
    "name": "ipython",
    "version": 3
   },
   "file_extension": ".py",
   "mimetype": "text/x-python",
   "name": "python",
   "nbconvert_exporter": "python",
   "pygments_lexer": "ipython3",
   "version": "3.10.4"
  },
  "orig_nbformat": 4,
  "vscode": {
   "interpreter": {
    "hash": "12d9efd1b418ad7485587f2da0512ee7fc7c20b6462fdb2a696d6f33bbf19b58"
   }
  }
 },
 "nbformat": 4,
 "nbformat_minor": 2
}
