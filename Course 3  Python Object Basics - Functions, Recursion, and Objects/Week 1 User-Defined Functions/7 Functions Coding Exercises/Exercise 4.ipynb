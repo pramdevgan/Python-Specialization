{
 "cells": [
  {
   "cell_type": "markdown",
   "metadata": {},
   "source": [
    "# Exercise 4\n",
    "---\n",
    "## Functions Exercise 4\n",
    "\n",
    "**Problem**\n",
    "Write a function called `best_team` that takes a csv file as a parameter. Read the comma-delimited CSV file specified by the variable `mlb_data`. The CSV file has a list of all of the MLB teams and their performance from the 2019 season. The function should return the team name for the team with the most wins.  **Important** , the CSV file has a header of `Tm,Lg,G,W,L`, which stands for team name, league, games played, wins, and losses. Below are the file name and file path variables you will need for this exercise.\n",
    "\n",
    "```python\n",
    "mlb_data = \"student_folder/.exercises/mlb_data.csv\"\n",
    "```\n",
    "\n",
    "**Expected Output**\n",
    "The function call should look like this, `best_team(file)`, and the function should return `HOU`. However, your function will be tested with other CSV files in which different teams will have the highest win total."
   ]
  },
  {
   "cell_type": "code",
   "execution_count": 1,
   "metadata": {},
   "outputs": [],
   "source": [
    "import csv\n",
    "\n",
    "mlb_data = \"student_folder/.exercises/mlb_data.csv\"\n",
    "\n",
    "def best_team(file):\n",
    "    with open(file, \"r\") as csv_file:\n",
    "        reader = csv.reader(csv_file)\n",
    "        next(reader)\n",
    "        most_wins = 0\n",
    "        best_team = \"\"\n",
    "        for row in reader:\n",
    "            if int(row[3]) > most_wins:\n",
    "                most_wins = int(row[3])\n",
    "                best_team = row[0]\n",
    "        return best_team"
   ]
  },
  {
   "cell_type": "markdown",
   "metadata": {},
   "source": [
    "Submit your code when ready\n",
    "\n",
    "Even though goal of this activity is to write a function, you will need some important pieces of information outside of the function. First, you need to import the `csv` module. You also need to create the global variable `mlb_data` as given by the problem. Once the `best_team` function has been declared, open a CSV file. Then use the `csv.reader` method on the opened CSV file. As stated in the problem, the first row are headers; skip this row with the `next` function. You will need two variables to keep track of the most wins and the team name who has the most wins. Set the variable for the wins to 0, and make the variable for the team name an empty string. Then iterate through the CSV file. Compare wins in each row (element 3) to the variable that stores the most wins. Remember, all data in a CSV file is stored as a string. So you need to type cast the CSV wins into an integer for the comparison. If the team in the row has more wins, set the wins variable to the number of wins from the row (element 3). Again, be sure to type cast these wins to an integer. Then give the team name variable the name from the row (element 0). Once you have iterated through the file, return the variable with the team name. Here is one possible solution:\n",
    "\n",
    "```python\n",
    "import csv\n",
    "\n",
    "mlb_data = \"student_folder/.exercises/mlb_data.csv\"\n",
    "\n",
    "def best_team(file):\n",
    "    \"\"\"Read a CSV of baseball data.\n",
    "    Return the team name with the most wins\"\"\"\n",
    "    with open(file, \"r\") as csv_file:\n",
    "        reader = csv.reader(csv_file)\n",
    "        next(reader)\n",
    "        most_wins = 0\n",
    "        best_team = \"\"\n",
    "        for row in reader:\n",
    "            if int(row[3]) > most_wins:\n",
    "                most_wins = int(row[3])\n",
    "                best_team = row[0]\n",
    "        return best_team\n",
    "```\n",
    "\n",
    "Check It!\n",
    "\n",
    "LAST RUN on 8/25/2022, 11:57:56 PM\n",
    "\n",
    "<pre tabindex=\"0\" aria-label=\"Scrollable feedback \" class=\"codio-button-result-out codio-button-result-out-pass codio-feedback-comments\"><h2>Testing your code...</h2>\n",
    "Test 1 <b>passed</b>.\n",
    "Test 2 <b>passed</b>.\n",
    "Test 3 <b>passed</b>.\n",
    "<hr/>\n",
    "<h3>All tests passed!</h3></pre>"
   ]
  }
 ],
 "metadata": {
  "kernelspec": {
   "display_name": "Python 3.10.4 64-bit",
   "language": "python",
   "name": "python3"
  },
  "language_info": {
   "codemirror_mode": {
    "name": "ipython",
    "version": 3
   },
   "file_extension": ".py",
   "mimetype": "text/x-python",
   "name": "python",
   "nbconvert_exporter": "python",
   "pygments_lexer": "ipython3",
   "version": "3.10.4"
  },
  "orig_nbformat": 4,
  "vscode": {
   "interpreter": {
    "hash": "12d9efd1b418ad7485587f2da0512ee7fc7c20b6462fdb2a696d6f33bbf19b58"
   }
  }
 },
 "nbformat": 4,
 "nbformat_minor": 2
}
