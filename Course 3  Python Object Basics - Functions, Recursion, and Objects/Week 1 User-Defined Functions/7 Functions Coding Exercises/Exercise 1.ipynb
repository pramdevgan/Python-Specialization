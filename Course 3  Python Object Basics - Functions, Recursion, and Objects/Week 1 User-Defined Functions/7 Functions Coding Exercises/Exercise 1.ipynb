{
 "cells": [
  {
   "cell_type": "markdown",
   "metadata": {},
   "source": [
    "# Exercise 1\n",
    "\n",
    "---\n",
    "\n",
    "## Functions Exercise 1\n",
    "\n",
    "**Problem**\n",
    "Write a function called `avg` that takes two parameters. Return the average of these two parameters. If the parameters are not numbers, return the string, `Please use two numbers as parameters`.\n",
    "\n",
    "**Expected Output**\n",
    "\n",
    "* If the function call is `avg(10,25)`, then the function would return `17.5`\n",
    "* If the function call is `avg(10, \"cat\")`, then the function would return `Please use two numbers as parameters`"
   ]
  },
  {
   "cell_type": "code",
   "execution_count": 10,
   "metadata": {},
   "outputs": [
    {
     "name": "stdout",
     "output_type": "stream",
     "text": [
      "17.5\n",
      "Please use two numbers as parameters\n"
     ]
    }
   ],
   "source": [
    "def avg(num1, num2):\n",
    "    try:\n",
    "        return (num1 + num2) / 2\n",
    "    except TypeError:\n",
    "        return(\"Please use two numbers as parameters\")\n",
    "\n",
    "print(avg(10,25))\n",
    "print(avg(10,\"cat\"))"
   ]
  },
  {
   "cell_type": "markdown",
   "metadata": {},
   "source": [
    "Submit your code when ready\n",
    "\n",
    "The function needs to do two things. One, test to make sure that the two parameters are can be added together and then divided. Use a `try/except` block. You can check for a `TypeError` and return the string `Please use two numbers as parameters`. Otherwise return the sum of the two parameters divided by two.\n",
    "\n",
    "```python\n",
    "def avg(n1, n2):\n",
    "    \"\"\"Return average of two numbers\n",
    "    Return a message is a non-number is passed\"\"\"\n",
    "    try:\n",
    "      return(n1 + n2) / 2\n",
    "    except TypeError:\n",
    "      return(\"Please use two numbers as parameters\")\n",
    "```\n",
    "\n",
    "Check It!\n",
    "\n",
    "LAST RUN on 8/25/2022, 8:31:23 PM\n",
    "\n",
    "<pre tabindex=\"0\" aria-label=\"Scrollable feedback \" class=\"codio-button-result-out codio-button-result-out-pass codio-feedback-comments\"><h2>Testing your code...</h2>\n",
    "Test 1 <b>passed</b>.\n",
    "Test 2 <b>passed</b>.\n",
    "Test 3 <b>passed</b>.\n",
    "<hr/>\n",
    "<h3>All tests passed!</h3></pre>"
   ]
  }
 ],
 "metadata": {
  "kernelspec": {
   "display_name": "Python 3.10.4 64-bit",
   "language": "python",
   "name": "python3"
  },
  "language_info": {
   "codemirror_mode": {
    "name": "ipython",
    "version": 3
   },
   "file_extension": ".py",
   "mimetype": "text/x-python",
   "name": "python",
   "nbconvert_exporter": "python",
   "pygments_lexer": "ipython3",
   "version": "3.10.4"
  },
  "orig_nbformat": 4,
  "vscode": {
   "interpreter": {
    "hash": "12d9efd1b418ad7485587f2da0512ee7fc7c20b6462fdb2a696d6f33bbf19b58"
   }
  }
 },
 "nbformat": 4,
 "nbformat_minor": 2
}
