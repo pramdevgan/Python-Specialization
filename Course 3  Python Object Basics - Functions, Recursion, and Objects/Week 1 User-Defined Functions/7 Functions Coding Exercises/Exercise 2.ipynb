{
 "cells": [
  {
   "cell_type": "markdown",
   "metadata": {},
   "source": [
    "# Exercise 2\n",
    "---\n",
    "## Functions Exercise 2\n",
    "\n",
    "**Problem**\n",
    "Write a function called `odds_or_evens` that takes a boolean and a list of integers as parameters. If the boolean parameter is `True`, return a list of only even numbers. If the boolean parameter is `False`, return a list of only odd numbers.\n",
    "\n",
    "**Expected Output**\n",
    "\n",
    "* If the function call is `odds_or_evens(True, [13, 22, 8, 31])`, the the function would return `[22, 8]`\n",
    "* If the function call is `odds_or_evens(False, [13, 22, 8, 31])`, the the function would return `[13, 31]`"
   ]
  },
  {
   "cell_type": "code",
   "execution_count": 11,
   "metadata": {},
   "outputs": [
    {
     "name": "stdout",
     "output_type": "stream",
     "text": [
      "[22, 8]\n",
      "[13, 31]\n"
     ]
    }
   ],
   "source": [
    "def odds_or_evens (boolean, list_Ints):\n",
    "    \n",
    "    return_result =[]\n",
    "    for num in list_Ints:\n",
    "        if boolean:\n",
    "            if num % 2 == 0:\n",
    "                return_result.append(num)\n",
    "        else:\n",
    "            if num % 2 != 0:\n",
    "                return_result.append(num)\n",
    "    return return_result\n",
    "print(odds_or_evens(True, [13, 22, 8, 31]))\n",
    "print(odds_or_evens(False, [13, 22, 8, 31]))"
   ]
  },
  {
   "cell_type": "markdown",
   "metadata": {},
   "source": [
    "Submit your code when ready.\n",
    "\n",
    "The function will do one of two things, either return all of the even numbers from a list or return all of the odd numbers from a list. The first thing to do is to create an empty list that the function will return. If the boolean parameter is True, then iterate through the list passed to the function. Check to see if each number is even (`num % 2 == 0`), and append the number to the list if even. If the boolean parameter is False, check if each element in the given list is odd. Append it to the list that will be returned. Here is one possible solution to the problem:\n",
    "\n",
    "```python\n",
    "def odds_or_evens(my_bool, nums):\n",
    "    \"\"\"Returns all of the odd or\n",
    "    even numbers from a list\"\"\"\n",
    "    return_list = []\n",
    "    for num in nums:\n",
    "      if my_bool:\n",
    "          if num % 2 == 0:\n",
    "              return_list.append(num)\n",
    "      else:\n",
    "          if num % 2 != 0:\n",
    "              return_list.append(num)\n",
    "              \n",
    "    return return_list\n",
    "```\n",
    "\n",
    "Check It!\n",
    "\n",
    "LAST RUN on 8/25/2022, 9:07:24 PM\n",
    "\n",
    "[22, 8] <br>\n",
    "[13, 31]\n",
    "<pre tabindex=\"0\" aria-label=\"Scrollable feedback \" class=\"codio-button-result-out codio-button-result-out-pass codio-feedback-comments\"><h2>Testing your code...</h2>\n",
    "Test 1 <b>passed</b>.\n",
    "Test 2 <b>passed</b>.\n",
    "Test 3 <b>passed</b>.\n",
    "<hr/>\n",
    "<h3>All tests passed!</h3></pre>"
   ]
  }
 ],
 "metadata": {
  "kernelspec": {
   "display_name": "Python 3.10.4 64-bit",
   "language": "python",
   "name": "python3"
  },
  "language_info": {
   "codemirror_mode": {
    "name": "ipython",
    "version": 3
   },
   "file_extension": ".py",
   "mimetype": "text/x-python",
   "name": "python",
   "nbconvert_exporter": "python",
   "pygments_lexer": "ipython3",
   "version": "3.10.4"
  },
  "orig_nbformat": 4,
  "vscode": {
   "interpreter": {
    "hash": "12d9efd1b418ad7485587f2da0512ee7fc7c20b6462fdb2a696d6f33bbf19b58"
   }
  }
 },
 "nbformat": 4,
 "nbformat_minor": 2
}
