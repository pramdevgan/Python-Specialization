{
 "cells": [
  {
   "cell_type": "markdown",
   "metadata": {},
   "source": [
    "# Formative Assessment 1\n",
    "---\n",
    "## Formative Assessment\n",
    "\n",
    "In physics, force can be calculated with the equation `force = mass * acceleration` and acceleration can be defined as `acceleration = change in velocity / time`. Rearrange the code blocks below to create function declarations for `force` and `acceleration`. The `acceleration` function must be an **internal helper** function for `force`.\n",
    "```python\n",
    "return(dv / time)\n",
    "\"\"\"Calculate force\"\"\"\n",
    "\"\"\"Calculate acceleration\"\"\"\n",
    "def acceleration(dv, time):\n",
    "return(mass * acceleration(dv, time))\n",
    "def force(dv, time, mass):\n",
    "```"
   ]
  },
  {
   "cell_type": "code",
   "execution_count": 3,
   "metadata": {},
   "outputs": [
    {
     "data": {
      "text/plain": [
       "0.18"
      ]
     },
     "execution_count": 3,
     "metadata": {},
     "output_type": "execute_result"
    }
   ],
   "source": [
    "def force(dv, time, mass):\n",
    "    \"\"\"Calculate force\"\"\"\n",
    "    def acceleration(dv, time):\n",
    "        \"\"\"Calculate acceleration\"\"\"\n",
    "        return(dv / time)\n",
    "    return(mass * acceleration(dv, time))\n",
    "\n",
    "force(1.5, 25, 3)"
   ]
  }
 ],
 "metadata": {
  "kernelspec": {
   "display_name": "Python 3.10.4 64-bit",
   "language": "python",
   "name": "python3"
  },
  "language_info": {
   "codemirror_mode": {
    "name": "ipython",
    "version": 3
   },
   "file_extension": ".py",
   "mimetype": "text/x-python",
   "name": "python",
   "nbconvert_exporter": "python",
   "pygments_lexer": "ipython3",
   "version": "3.10.4"
  },
  "orig_nbformat": 4,
  "vscode": {
   "interpreter": {
    "hash": "12d9efd1b418ad7485587f2da0512ee7fc7c20b6462fdb2a696d6f33bbf19b58"
   }
  }
 },
 "nbformat": 4,
 "nbformat_minor": 2
}
