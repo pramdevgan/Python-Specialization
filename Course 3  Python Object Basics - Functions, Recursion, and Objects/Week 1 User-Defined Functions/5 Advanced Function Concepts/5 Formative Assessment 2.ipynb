{
 "cells": [
  {
   "cell_type": "markdown",
   "metadata": {},
   "source": [
    "# Formative Assessment 2\n",
    "\n",
    "---\n",
    "\n",
    "## Formative Assessment\n",
    "\n",
    "In physics, velocity can be defined as `velocity = change in position / time` and a change in position can be defined as `position_change = final_position - starting_position`. Fill in the blanks below to make a function composition of the `velocity` and `position_change` functions. Assume the starting position is 0, the final position is 100 and the time is 30.\n",
    "\n",
    "`_____________________(___________________(0, 100),`  \n",
    "\n",
    "`_____________________)`"
   ]
  },
  {
   "cell_type": "markdown",
   "metadata": {},
   "source": [
    "Since the `velocity` function is dependent upon the `position_change` function, `velocity` is the outermost function. In addition, 0 and 100 were given as the starting and final positions for the `position_change` function, which is on the inside. Lastly, the `velocity` also requires a time parameter (30), which is the final blank.\n",
    "\n",
    "```python\n",
    "velocity(position_change(0, 100), 30)\n",
    "```"
   ]
  }
 ],
 "metadata": {
  "kernelspec": {
   "display_name": "Python 3.10.4 64-bit",
   "language": "python",
   "name": "python3"
  },
  "language_info": {
   "name": "python",
   "version": "3.10.4"
  },
  "orig_nbformat": 4,
  "vscode": {
   "interpreter": {
    "hash": "12d9efd1b418ad7485587f2da0512ee7fc7c20b6462fdb2a696d6f33bbf19b58"
   }
  }
 },
 "nbformat": 4,
 "nbformat_minor": 2
}
