{
 "cells": [
  {
   "cell_type": "markdown",
   "metadata": {},
   "source": [
    "# Function Composition\n",
    "---\n",
    "## Function Composition\n",
    "\n",
    "Function composition is similar to helper functions in that two or more functions are used together to complete a larger task. However, function composition is a specific way in which functions are combined. Instead of calling the helper function from within another function, the helper function is called as a parameter of the function it is helping.\n",
    "\n",
    "![Function Composition](https://apollo-media.codio.com/media/1/140a840b7b8b84fad245ae06db4a66a0-c4031482-0ad8-4554-b24c-09713cbb057e.webp)\n",
    "\n",
    "It is important to note that the function definition for `area` **does not** take a function as a parameter. It expects a value (the radius of the circle). There is an order of operation for function composition. The `radius` function is executed first, and then the value it returns is passed to the `area` function."
   ]
  },
  {
   "cell_type": "code",
   "execution_count": 1,
   "metadata": {},
   "outputs": [
    {
     "name": "stdout",
     "output_type": "stream",
     "text": [
      "100.53096491487341\n"
     ]
    }
   ],
   "source": [
    "import math\n",
    "\n",
    "def area(r):\n",
    "    \"\"\"Area of a circle\"\"\"\n",
    "    return(math.pi * math.pow(r, 2))\n",
    "\n",
    "def radius(x1, y1, x2, y2):\n",
    "    \"\"\"Distance formula to calculate the radius\"\"\"\n",
    "    return(math.sqrt(math.pow(x2 - x1, 2) + math.pow(y2 - y1, 2)))\n",
    "\n",
    "print(area(radius(0, 0, 4, 4)))"
   ]
  },
  {
   "cell_type": "markdown",
   "metadata": {},
   "source": [
    "## Function Composition vs Helper Functions\n",
    "\n",
    "Both function composition and helper functions provide the same functionality. Using one over the other will not affect the end result. However, function composition offers improved readability. Look at the two function calls below:\n",
    "\n",
    "```python\n",
    "circle_area1(x1, y1, x2, y2)\n",
    "circle_area2(radius(x1, y1, x2, y2), math.pi)\n",
    "```\n",
    "\n",
    "Without seeing the function definitions, it is not clear how area can be derived from two points on a Cartesian plane in the first function call. The second function makes it very clear that the radius and pi are being used to calculate the area.\n",
    "\n",
    "Another difference between the two is that helper functions can only be used with user-defined functions. You do not have access to the function definitions for the built-in functions for Python, so you cannot call a helper function from within a built-in function. You can, however, use function composition to combine built-in functions to accomplish a larger task."
   ]
  },
  {
   "cell_type": "code",
   "execution_count": 2,
   "metadata": {},
   "outputs": [
    {
     "name": "stdout",
     "output_type": "stream",
     "text": [
      "5.0\n"
     ]
    }
   ],
   "source": [
    "import math\n",
    "print(math.sqrt(int(\"25\")))"
   ]
  },
  {
   "cell_type": "markdown",
   "metadata": {},
   "source": [
    "## What happens if you:\n",
    "\n",
    "* Add the print statement `print(math.pow(int(\"2\"), int(\"3\")))`?"
   ]
  },
  {
   "cell_type": "code",
   "execution_count": 3,
   "metadata": {},
   "outputs": [
    {
     "name": "stdout",
     "output_type": "stream",
     "text": [
      "8.0\n"
     ]
    }
   ],
   "source": [
    "print(math.pow(int(\"2\"), int(\"3\")))"
   ]
  },
  {
   "cell_type": "markdown",
   "metadata": {},
   "source": [
    "## **Limits of Function Composition and Readability**\n",
    "Function composition can improve readability, but there is a limit. The following code is an example of function composition taken too far."
   ]
  },
  {
   "cell_type": "code",
   "execution_count": 4,
   "metadata": {},
   "outputs": [
    {
     "name": "stdout",
     "output_type": "stream",
     "text": [
      "21\n"
     ]
    }
   ],
   "source": [
    "print(len(str(math.sqrt(math.pow(3, math.degrees(math.sin(5.79)))))))"
   ]
  },
  {
   "cell_type": "markdown",
   "metadata": {},
   "source": [
    "This may be valid code and Python may not have any trouble understanding the code, it is not very readable for humans. Instead, try breaking the function composition into smaller, more accessible parts."
   ]
  },
  {
   "cell_type": "code",
   "execution_count": 5,
   "metadata": {},
   "outputs": [
    {
     "name": "stdout",
     "output_type": "stream",
     "text": [
      "21\n"
     ]
    }
   ],
   "source": [
    "step1 = math.degrees(math.sin(5.79))\n",
    "step2 = math.sqrt(math.pow(3, step1))\n",
    "step3 = len(str(step2))\n",
    "print(step3)"
   ]
  },
  {
   "cell_type": "markdown",
   "metadata": {},
   "source": [
    "## Reading Question\n",
    "\n",
    "Select the code sample below that represents function composition.\n",
    "\n",
    "- `function1(12)`   \n",
    "  `function2(7)`\n",
    "\n",
    "- `function2(7)`   \n",
    "  `function1(12)`\n",
    "\n",
    "- **`function1(function2(7))`**\n",
    "- It is impossible to combine the two functions.\n",
    "\n",
    "Function composition is when a function call is a parameter to another function.\n",
    "\n",
    "```python\n",
    "function1(function2(7))\n",
    "```"
   ]
  }
 ],
 "metadata": {
  "kernelspec": {
   "display_name": "Python 3.10.4 64-bit",
   "language": "python",
   "name": "python3"
  },
  "language_info": {
   "codemirror_mode": {
    "name": "ipython",
    "version": 3
   },
   "file_extension": ".py",
   "mimetype": "text/x-python",
   "name": "python",
   "nbconvert_exporter": "python",
   "pygments_lexer": "ipython3",
   "version": "3.10.4"
  },
  "orig_nbformat": 4,
  "vscode": {
   "interpreter": {
    "hash": "12d9efd1b418ad7485587f2da0512ee7fc7c20b6462fdb2a696d6f33bbf19b58"
   }
  }
 },
 "nbformat": 4,
 "nbformat_minor": 2
}
