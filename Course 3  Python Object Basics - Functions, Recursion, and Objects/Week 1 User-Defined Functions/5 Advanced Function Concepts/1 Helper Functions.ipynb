{
 "cells": [
  {
   "cell_type": "markdown",
   "metadata": {},
   "source": [
    "# Helper Functions\n",
    "---\n",
    "## Helper Functions\n",
    "\n",
    "Well written functions are those with a single, specific task. Complex problems will require more than one function for the solution. Helper functions are functions that are called from within other functions. Take, for example, the formula for calculating the area of a circle:   \n",
    "![Area of circle](https://i.imgur.com/yO98o1W.png)\n",
    "\n",
    "It would be quite easy to write a Python function to calculate the area of a circle. However, instead of knowing the radius of the circle, you have the X/Y coordinates for a point at the center of the circle and another point on the circle. The distance formula (which is based on the Pythagorean Theorem) can calculate the radius of the circle.   \n",
    "![Pythagorean Theorem formula](https://i.imgur.com/oudRrD1.png)  \n",
    "![](https://apollo-media.codio.com/media/1/8122fada056f457f460bf858dfe67b6b-35844309-a59e-490d-a023-70e473e79e81.webp)\n",
    "\n",
    "The area function is dependent upon the distance formula. This is where helper functions come into play. Start by defining a function `radius`. The square root function is included in the `math` module. Be sure to import `math` in your program. Then define a function `area` which calls `radius`. Since `area` requires `radius`, `area` also requires all of the parameters needed for the `radius` function. Finally, print the result of the area of a circle with the points (0, 0) and (4, 4)."
   ]
  },
  {
   "cell_type": "code",
   "execution_count": 1,
   "metadata": {},
   "outputs": [
    {
     "name": "stdout",
     "output_type": "stream",
     "text": [
      "100.53096491487341\n"
     ]
    }
   ],
   "source": [
    "import math\n",
    "\n",
    "def radius(x1, y1, x2, y2):\n",
    "    \"\"\"Distance formula to determine the radius of circle\"\"\"\n",
    "    return (math.sqrt((x2 - x1)**2 + (y2 - y1)**2))\n",
    "\n",
    "def area (x1, y1, x2, y2):\n",
    "    \"\"\"Area of circle function\"\"\"\n",
    "    return (math.pi * radius(x1, y1, x2, y2)**2)\n",
    "\n",
    "\n",
    "print(area(0, 0, 4, 4))"
   ]
  },
  {
   "cell_type": "markdown",
   "metadata": {},
   "source": [
    "## Another way to do powers\n",
    "\n",
    "Another way to do powers is to use `math.pow`. This function has two arguments, the base and the exponent. So `3 ** 2` becomes `math.pow(3, 2)`. Rewrite the `return` statements for the two functions above using `math.pow`.\n",
    "\n",
    "<details open=\"\"><summary><strong>Solution</strong></summary>\n",
    "\n",
    "The new return statements are:\n",
    "\n",
    "```python\n",
    "return(math.sqrt(math.pow(x2 - x1, 2) + math.pow(y2 - y1, 2)))\n",
    "```\n",
    "\n",
    "and\n",
    "\n",
    "```python\n",
    "return(math.pi * math.pow(radius(x1, y1, x2, y2), 2))\n",
    "```\n",
    "\n",
    "</details>"
   ]
  },
  {
   "cell_type": "markdown",
   "metadata": {},
   "source": [
    "## Inner Functions\n",
    "\n",
    "Python allows you to declare a function inside another function. Doing this hides the inner function from the main program. In the code below, only the `area` function can call the `radius` function."
   ]
  },
  {
   "cell_type": "code",
   "execution_count": 2,
   "metadata": {},
   "outputs": [
    {
     "name": "stdout",
     "output_type": "stream",
     "text": [
      "100.53096491487341\n"
     ]
    }
   ],
   "source": [
    "import math\n",
    "\n",
    "def area (x1, y1, x2, y2):\n",
    "    \"\"\"Area of circle function\"\"\"\n",
    "    def radius(x1, y1, x2, y2):\n",
    "        \"\"\"Distance formula to determine the radius of circle\"\"\"\n",
    "        return math.sqrt(math.pow((x2-x1),2) + math.pow(y2-y1, 2))\n",
    "    return (math.pi * math.pow(radius(x1,y1,x2,y2),2))\n",
    "\n",
    "\n",
    "print(area(0,0,4,4))"
   ]
  },
  {
   "cell_type": "markdown",
   "metadata": {},
   "source": [
    "## What happens if you:\n",
    "\n",
    "Try to call the `radius` function from your program?\n",
    "\n",
    "```python\n",
    "print(radius(0, 0, 4, 4))\n",
    "```\n",
    "\n",
    "<details open=\"\"><summary><strong>Why does this cause an error?</strong></summary>\n",
    "\n",
    "Just as variables have scope, so do functions. The Python program cannot \"see\" inside the `area` function, so it cannot call the `radius` function. That is why your code produces the error `NameError: name 'radius' is not defined`."
   ]
  },
  {
   "cell_type": "markdown",
   "metadata": {},
   "source": [
    "## Reading Question\n",
    "\n",
    "Select the best definition for a helper function.\n",
    "\n",
    "- Helper functions are any functions that are defined with `def_helper`.\n",
    "- **Helper functions provide a calculation used by another function.**\n",
    "- A function is a helper function **only** if it is declared inside another function.\n",
    "- Helper functions are functions that are used independently from any other functions.\n",
    "\n",
    "Helper functions are any functions which provide a result that is used by another function. Helper functions can be declared outside of the function it helps. Or, a helper function can be declared inside the function it helps.\n"
   ]
  }
 ],
 "metadata": {
  "kernelspec": {
   "display_name": "Python 3.10.4 64-bit",
   "language": "python",
   "name": "python3"
  },
  "language_info": {
   "codemirror_mode": {
    "name": "ipython",
    "version": 3
   },
   "file_extension": ".py",
   "mimetype": "text/x-python",
   "name": "python",
   "nbconvert_exporter": "python",
   "pygments_lexer": "ipython3",
   "version": "3.10.4"
  },
  "orig_nbformat": 4,
  "vscode": {
   "interpreter": {
    "hash": "12d9efd1b418ad7485587f2da0512ee7fc7c20b6462fdb2a696d6f33bbf19b58"
   }
  }
 },
 "nbformat": 4,
 "nbformat_minor": 2
}
