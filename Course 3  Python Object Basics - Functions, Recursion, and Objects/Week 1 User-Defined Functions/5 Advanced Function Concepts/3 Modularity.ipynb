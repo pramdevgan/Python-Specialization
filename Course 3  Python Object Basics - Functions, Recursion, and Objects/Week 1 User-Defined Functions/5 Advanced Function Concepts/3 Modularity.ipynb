{
 "cells": [
  {
   "cell_type": "markdown",
   "metadata": {},
   "source": [
    "# Modularity\n",
    "\n",
    "## Modularity\n",
    "\n",
    "Another benefit to using functions in your programs is modularity. Modularity means dividing a program into separate and independent units. In a previous lesson, you used Python’s turtle graphics to draw a house. Think about how you would write functions to draw the following image. The red dots represents the starting points for each of the shapes. Look for repeating patterns and think about how these patterns could be represented in a modular way.\n",
    "\n",
    "![House](https://apollo-media.codio.com/media/1/fcc1f6efa58e69e82658adaafb7fc420-e6a8ae5a-2126-49b2-98fa-b526158082c1.webp)\n",
    "\n",
    "The image is composed of two shapes: a rectangle (a square is a rectangle with four sides of equal length) and a triangle. You also need the ability to reposition the turtle without drawing any lines on the screen. These are the three functions that will make up the drawing."
   ]
  },
  {
   "cell_type": "code",
   "execution_count": 2,
   "metadata": {},
   "outputs": [],
   "source": [
    "import turtle\n",
    "import importlib\n",
    "\n",
    "importlib.reload(turtle)\n",
    "turtle.TurtleScreen._RUNNING=True\n",
    "\n",
    "t = turtle.Turtle()\n",
    "\n",
    "def triangle(size):\n",
    "    \"\"\"Draw a triangle with a given size\"\"\"\n",
    "    for i in range(3):\n",
    "        t.lt(120)\n",
    "        t.forward(size)\n",
    "\n",
    "def rectangle(width, height):\n",
    "    \"\"\"Draw a rectangle with a given width and height\"\"\"\n",
    "    for i in range(2):\n",
    "        t.forward(width)\n",
    "        t.lt(90)\n",
    "        t.forward(height)\n",
    "        t.lt(90)\n",
    "        \n",
    "def reposition(x, y):\n",
    "    \"\"\"Pick up the pen, move the turtle, set the\n",
    "    direction of the turtle, and put the pen down\"\"\"\n",
    "    t.penup()\n",
    "    t.goto(x, y)\n",
    "    t.setheading(0)\n",
    "    t.pendown()\n",
    "        \n",
    "rectangle(100, 100) #draw the house\n",
    "reposition(100, 100) #move to starting point for the roof\n",
    "triangle(100) #draw the roof\n",
    "reposition(40, 0) #move to starting point for the door\n",
    "rectangle(20, 40) #draw the door\n",
    "reposition(10, 50) #move to starting point for the left window\n",
    "rectangle(20, 20) #draw the left window\n",
    "reposition(70, 50) #move to starting point for the right window\n",
    "rectangle(20, 20) #draw the right window\n",
    "\n",
    "turtle.mainloop()\n",
    "turtle.done = True"
   ]
  },
  {
   "cell_type": "markdown",
   "metadata": {},
   "source": [
    "These functions are modular in that each one draws a shape. More importantly, the functions were written with parameters to specify the size of each shape. Modularity makes functions reusable. This way you do not have write a function for the house, another for the door, and a third for the windows."
   ]
  },
  {
   "cell_type": "markdown",
   "metadata": {},
   "source": [
    "## Tiny House\n",
    "\n",
    "Change the code to draw a house that is half of the size of the original."
   ]
  },
  {
   "cell_type": "code",
   "execution_count": 4,
   "metadata": {},
   "outputs": [],
   "source": [
    "import turtle\n",
    "import importlib\n",
    "\n",
    "importlib.reload(turtle)\n",
    "turtle.TurtleScreen._RUNNING=True\n",
    "\n",
    "t = turtle.Turtle()\n",
    "\n",
    "def triangle(size):\n",
    "    \"\"\"Draw a triangle with a given size\"\"\"\n",
    "    for i in range(3):\n",
    "        t.lt(120)\n",
    "        t.forward(size)\n",
    "\n",
    "def rectangle(width, height):\n",
    "    \"\"\"Draw a rectangle with a given width and height\"\"\"\n",
    "    for i in range(2):\n",
    "        t.forward(width)\n",
    "        t.lt(90)\n",
    "        t.forward(height)\n",
    "        t.lt(90)\n",
    "        \n",
    "def reposition(x, y):\n",
    "    \"\"\"Pick up the pen, move the turtle, set the\n",
    "    direction of the turtle, and put the pen down\"\"\"\n",
    "    t.penup()\n",
    "    t.goto(x, y)\n",
    "    t.setheading(0)\n",
    "    t.pendown()\n",
    "\n",
    "\n",
    "rectangle(50, 50)\n",
    "reposition(50, 50)\n",
    "triangle(50)\n",
    "reposition(15, 0)\n",
    "rectangle(10, 20)\n",
    "reposition(5, 30)\n",
    "rectangle(10, 10)\n",
    "reposition(35, 30)\n",
    "rectangle(10, 10)\n",
    "\n",
    "turtle.mainloop()\n",
    "turtle.Screen().bye()"
   ]
  }
 ],
 "metadata": {
  "kernelspec": {
   "display_name": "Python 3.10.4 64-bit",
   "language": "python",
   "name": "python3"
  },
  "language_info": {
   "codemirror_mode": {
    "name": "ipython",
    "version": 3
   },
   "file_extension": ".py",
   "mimetype": "text/x-python",
   "name": "python",
   "nbconvert_exporter": "python",
   "pygments_lexer": "ipython3",
   "version": "3.10.4"
  },
  "orig_nbformat": 4,
  "vscode": {
   "interpreter": {
    "hash": "12d9efd1b418ad7485587f2da0512ee7fc7c20b6462fdb2a696d6f33bbf19b58"
   }
  }
 },
 "nbformat": 4,
 "nbformat_minor": 2
}
