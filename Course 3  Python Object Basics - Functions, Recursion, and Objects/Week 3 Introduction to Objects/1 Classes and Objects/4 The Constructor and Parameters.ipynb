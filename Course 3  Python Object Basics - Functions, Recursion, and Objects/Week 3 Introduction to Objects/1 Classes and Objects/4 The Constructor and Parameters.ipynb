{
 "cells": [
  {
   "cell_type": "markdown",
   "metadata": {},
   "source": [
    "# The Constructor and Parameters\n",
    "\n",
    "---\n",
    "\n",
    "## The Constructor and Parameters\n",
    "\n",
    "Now imagine that you want to use the `Actor` class to instantiate an object for Helen Mirren and Tom Hanks."
   ]
  },
  {
   "cell_type": "code",
   "execution_count": 1,
   "metadata": {},
   "outputs": [
    {
     "name": "stdout",
     "output_type": "stream",
     "text": [
      "Helen Mirren\n",
      "Helen Mirren\n"
     ]
    }
   ],
   "source": [
    "class Actor:\n",
    "    \"\"\"Define the actor class\"\"\"\n",
    "    def __init__(self):\n",
    "        self.first_name = \"Helen\"\n",
    "        self.last_name = \"Mirren\"\n",
    "        self.birthday = \"July 26\"\n",
    "        self.total_films = 80\n",
    "        self.oscar_nominations = 4\n",
    "        self.oscar_wins = 1\n",
    "    \n",
    "helen = Actor()\n",
    "tom = Actor()\n",
    "\n",
    "print(helen.first_name, helen.last_name)\n",
    "print(tom.first_name, tom.last_name)"
   ]
  },
  {
   "cell_type": "markdown",
   "metadata": {},
   "source": [
    "The `Actor` class only creates an object with information about Helen Mirren. You can make the `Actor` class more flexible by passing it a parameter for each of attributes in the constructor. Python still requires `self` as the first parameter. Parameters for the constructor method work just as they do for functions."
   ]
  },
  {
   "cell_type": "code",
   "execution_count": 2,
   "metadata": {},
   "outputs": [
    {
     "name": "stdout",
     "output_type": "stream",
     "text": [
      "Helen Mirren\n",
      "Tom Hanks\n"
     ]
    }
   ],
   "source": [
    "class Actor:\n",
    "    \"\"\"Define the actor class\"\"\"\n",
    "    def __init__(self, first_name, last_name, birthday, total_films, oscar_nominations, oscar_wins):\n",
    "        self.first_name = first_name\n",
    "        self.last_name = last_name\n",
    "        self.birthday = birthday\n",
    "        self.total_films = total_films\n",
    "        self.oscar_nominations = oscar_nominations\n",
    "        self.oscar_wins = oscar_wins\n",
    "\n",
    "helen = Actor(\"Helen\", \"Mirren\", \"July 25\", 80, 4, 1)\n",
    "tom = Actor(\"Tom\", \"Hanks\", \"July 9\", 76, 5, 2)\n",
    "\n",
    "print(helen.first_name, helen.last_name)\n",
    "print(tom.first_name, tom.last_name)"
   ]
  },
  {
   "cell_type": "markdown",
   "metadata": {},
   "source": [
    "## What happens if you:\n",
    "\n",
    "* Create an instance of the `Actor` class for Denzel Washington (December 28, 47 films, 8 nominations, 2 wins)?\n",
    "* Add a print statement that say `print(help(Actor))`?"
   ]
  },
  {
   "cell_type": "code",
   "execution_count": 3,
   "metadata": {},
   "outputs": [
    {
     "name": "stdout",
     "output_type": "stream",
     "text": [
      "Denzel Washington\n"
     ]
    }
   ],
   "source": [
    "Denzel = Actor(\"Denzel\", \"Washington\", \"December 28\", 47, 8, 2)\n",
    "print(Denzel.first_name, Denzel.last_name)"
   ]
  },
  {
   "cell_type": "code",
   "execution_count": 4,
   "metadata": {},
   "outputs": [
    {
     "name": "stdout",
     "output_type": "stream",
     "text": [
      "Help on class Actor in module __main__:\n",
      "\n",
      "class Actor(builtins.object)\n",
      " |  Actor(first_name, last_name, birthday, total_films, oscar_nominations, oscar_wins)\n",
      " |  \n",
      " |  Define the actor class\n",
      " |  \n",
      " |  Methods defined here:\n",
      " |  \n",
      " |  __init__(self, first_name, last_name, birthday, total_films, oscar_nominations, oscar_wins)\n",
      " |      Initialize self.  See help(type(self)) for accurate signature.\n",
      " |  \n",
      " |  ----------------------------------------------------------------------\n",
      " |  Data descriptors defined here:\n",
      " |  \n",
      " |  __dict__\n",
      " |      dictionary for instance variables (if defined)\n",
      " |  \n",
      " |  __weakref__\n",
      " |      list of weak references to the object (if defined)\n",
      "\n",
      "None\n"
     ]
    }
   ],
   "source": [
    "print(help(Actor))"
   ]
  },
  {
   "cell_type": "markdown",
   "metadata": {},
   "source": [
    "<details open=\"\"><summary><strong>What does<span> </span><code>help</code><span> </span>do?</strong></summary>\n",
    "\n",
    "The `help` function returns the documentation for objects, functions, keywords, etc. For a user-defined class, the `help` function returns the docstring (which is why a well-written docstring is useful) and any methods associated with the class. You should see the `__init__` method and its parameters.\n",
    "\n",
    "</details>\n",
    "\n",
    "## Default Parameters\n",
    "\n",
    "Like functions, classes can use default parameters for `__init__`. Most actors have not been nominated for an Oscar; even fewer win one. It is reasonable to assume that the “default” actor has 0 Oscar nominations and 0 wins. So these two parameters can default to 0 unless explicitly stated."
   ]
  },
  {
   "cell_type": "code",
   "execution_count": 5,
   "metadata": {},
   "outputs": [
    {
     "name": "stdout",
     "output_type": "stream",
     "text": [
      "Helen won 1 oscar(s).\n",
      "Dwayne won 0 oscar(s).\n"
     ]
    }
   ],
   "source": [
    "class Actor:\n",
    "    \"\"\"Define the actor class\"\"\"\n",
    "    def __init__(self, first_name, last_name, birthday, total_films, oscar_nominations=0, oscar_wins=0):\n",
    "        self.first_name = first_name\n",
    "        self.last_name = last_name\n",
    "        self.birthday = birthday\n",
    "        self.total_films = total_films\n",
    "        self.oscar_nominations = oscar_nominations\n",
    "        self.oscar_wins = oscar_wins\n",
    "\n",
    "helen = Actor(\"Helen\", \"Mirren\", \"July 26\", 80, 4, 1)\n",
    "dwayne = Actor(\"Dwayne\", \"Johnson\", \"July 9\", 34)\n",
    "\n",
    "print(f'{helen.first_name} won {helen.oscar_wins} oscar(s).')\n",
    "print(f'{dwayne.first_name} won {dwayne.oscar_wins} oscar(s).')"
   ]
  },
  {
   "cell_type": "code",
   "execution_count": 14,
   "metadata": {},
   "outputs": [
    {
     "name": "stdout",
     "output_type": "stream",
     "text": [
      "Param Devgan birthday is January 1 and he has done 10 films\n"
     ]
    }
   ],
   "source": [
    "class Actor:\n",
    "    \"\"\"Define the actor class\"\"\"\n",
    "    def __init__(self, first_name, last_name, birthday=\"January 1\", total_films=10, oscar_nominations=0, oscar_wins=0):\n",
    "        self.first_name = first_name\n",
    "        self.last_name = last_name\n",
    "        self.birthday = birthday\n",
    "        self.total_films = total_films\n",
    "        self.oscar_nominations = oscar_nominations\n",
    "        self.oscar_wins = oscar_wins\n",
    "\n",
    "helen = Actor(\"Helen\", \"Mirren\", \"July 26\", 80, 4, 1)\n",
    "dwayne = Actor(\"Dwayne\", \"Johnson\", \"July 9\", 34)\n",
    "\n",
    "param = Actor(\"Param\", \"Devgan\")\n",
    "print(f'{param.first_name} {param.last_name} birthday is {param.birthday} and he has done {param.total_films} films')"
   ]
  },
  {
   "cell_type": "markdown",
   "metadata": {},
   "source": [
    "<details open=\"\"><summary><strong>Why did I get the error above?</strong></summary>\n",
    "\n",
    "In Python, default parameters must come **at the end** of the parameter list. Both `oscar_nominations` and `oscar_wins` are at the end of the parameter list, so this does not cause a problem. When `birthday` is a default parameter, however, it is not at the end of the list. `total_films` comes after `birthday` and it requires a parameter. That is why you saw an error. When `birthday`, `total_films`, `oscar_nominations` and `oscar_wins` are all default parameters, the error message goes away.|\n",
    "</details>"
   ]
  },
  {
   "cell_type": "markdown",
   "metadata": {},
   "source": [
    "Select the code snippet that defines a constructor with the parameters `age` and `hometown`.\n",
    "\n",
    "- ***`def __init__(self, age, hometown):`*** <---- Correct Answer\n",
    "\n",
    "- `def __init__(age, hometown):`\n",
    "\n",
    "- `def __init__(age, hometown, self):`\n",
    "\n",
    "- `constructor __init__(self, age, hometown):`\n",
    "\n",
    "The correct answer is:\n",
    "\n",
    "`def __init__(self, age, hometown):`\n",
    "\n",
    "The `def` keyword is used to define the constructor. The constructor must have `self` as the first parameter."
   ]
  }
 ],
 "metadata": {
  "kernelspec": {
   "display_name": "Python 3.11.0 64-bit",
   "language": "python",
   "name": "python3"
  },
  "language_info": {
   "codemirror_mode": {
    "name": "ipython",
    "version": 3
   },
   "file_extension": ".py",
   "mimetype": "text/x-python",
   "name": "python",
   "nbconvert_exporter": "python",
   "pygments_lexer": "ipython3",
   "version": "3.11.0"
  },
  "orig_nbformat": 4,
  "vscode": {
   "interpreter": {
    "hash": "cfebaf9e48837dc440118a5254a217b2fe7848380d0f089486e02fcdd00d89a2"
   }
  }
 },
 "nbformat": 4,
 "nbformat_minor": 2
}
