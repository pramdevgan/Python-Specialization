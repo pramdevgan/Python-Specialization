{
 "cells": [
  {
   "cell_type": "markdown",
   "metadata": {},
   "source": [
    "# The Constructor\n",
    "\n",
    "---\n",
    "\n",
    "## Too Much Code\n",
    "\n",
    "Using the `Actor` class from before, create a detailed object for Helen Mirren. Adding each attribute individually would require a lot of code."
   ]
  },
  {
   "cell_type": "code",
   "execution_count": 1,
   "metadata": {},
   "outputs": [
    {
     "name": "stdout",
     "output_type": "stream",
     "text": [
      "Helen Mirren\n"
     ]
    }
   ],
   "source": [
    "class Actor:\n",
    "    \"\"\"Define the actor class\"\"\"\n",
    "    pass\n",
    "\n",
    "helen = Actor()\n",
    "helen.first_name = \"Helen\"\n",
    "helen.last_name = \"Mirren\"\n",
    "helen.birthday = \"July 26\"\n",
    "helen.total_films = 80\n",
    "helen.oscar_nominations = 4\n",
    "helen.oscar_wins = 1\n",
    "print(helen.first_name, helen.last_name)"
   ]
  },
  {
   "cell_type": "markdown",
   "metadata": {},
   "source": [
    "The class `Actor` does nothing but create a class. It does not create any attributes; the user has to do this. A class is suppose to be a blueprint. It should lay out all of the attributes for the user. Classes can do this when you use the constructor."
   ]
  },
  {
   "cell_type": "markdown",
   "metadata": {},
   "source": [
    "## The Constructor\n",
    "\n",
    "The constructor is a special method (more on methods in another lesson) for a class. Its job is to define all of attributes associated with the object. These attributes are called instance variables. In Python, the constructor is coded as `__init__`. The double underscores before and after `init` are required. The constructor also **must** have `self` as a parameter. Use the same syntax for the constructor as you would a function. Be sure to indent the constructor four spaces since it is a part of the class. Attributes will be referred to as `self.attribute_name`. Instantiating `helen` as an instance of the `Actor` class automatically calls the constructor.\n",
    "\n",
    "<details open=\"\"><summary><strong>What's up with the double underscores?</strong></summary>\n",
    "\n",
    "Objects often have methods with double underscores. These are referred to as \"dunder\" methods. A dunder method is an implicit method and is called behind the scenes by an explicit operation. You never have to call `helen.__init__`. When you instantiate the object, Python calls `__init__` automatically.\n",
    "\n",
    "</details>"
   ]
  },
  {
   "cell_type": "code",
   "execution_count": 2,
   "metadata": {},
   "outputs": [
    {
     "name": "stdout",
     "output_type": "stream",
     "text": [
      "Helen Mirren\n"
     ]
    }
   ],
   "source": [
    "class Actor:\n",
    "    \"\"\"Define the actor class\"\"\"\n",
    "    def __init__(self):\n",
    "        self.first_name = \"Helen\"\n",
    "        self.last_name = \"Mirren\"\n",
    "        self.birthday = \"July 26\"\n",
    "        self.total_films = 80\n",
    "        self.oscar_nominations = 4\n",
    "        self.oscar_wins = 1\n",
    "    \n",
    "helen = Actor()\n",
    "print(helen.first_name, helen.last_name)"
   ]
  },
  {
   "cell_type": "markdown",
   "metadata": {},
   "source": [
    "## What happens if you:\n",
    "\n",
    "* Add the line of code `print(\"{} {}'s birthday is {}.\".format(helen.first_name, helen.last_name, helen.birthday))`?\n",
    "* Add the line of code `print(\"{} {} won an oscar {}% of the time.\".format(helen.first_name, helen.last_name, helen.oscar_wins / helen.oscar_nominations))`?"
   ]
  },
  {
   "cell_type": "code",
   "execution_count": 4,
   "metadata": {},
   "outputs": [
    {
     "name": "stdout",
     "output_type": "stream",
     "text": [
      "Helen Mirren's birthday is July 26.\n",
      "Helen Mirren won an oscar 0.25% of the time.\n"
     ]
    }
   ],
   "source": [
    "print(\"{} {}'s birthday is {}.\".format(helen.first_name, helen.last_name, helen.birthday))\n",
    "print(\"{} {} won an oscar {}% of the time.\".format(helen.first_name, helen.last_name, helen.oscar_wins / helen.oscar_nominations))"
   ]
  },
  {
   "cell_type": "markdown",
   "metadata": {},
   "source": [
    "### Reading Question\n",
    "###### What is the constructor in Python?\n",
    "\n",
    "\n",
    "- `constructor`\n",
    "\n",
    "* `_init_`\n",
    "\n",
    "* `init`\n",
    "\n",
    "* **`__init__`** <--- Correct Answer\n",
    "\n",
    "The constructor in Python is called __init__. The double underscores are required."
   ]
  }
 ],
 "metadata": {
  "kernelspec": {
   "display_name": "Python 3.11.0 64-bit",
   "language": "python",
   "name": "python3"
  },
  "language_info": {
   "codemirror_mode": {
    "name": "ipython",
    "version": 3
   },
   "file_extension": ".py",
   "mimetype": "text/x-python",
   "name": "python",
   "nbconvert_exporter": "python",
   "pygments_lexer": "ipython3",
   "version": "3.11.0"
  },
  "orig_nbformat": 4,
  "vscode": {
   "interpreter": {
    "hash": "cfebaf9e48837dc440118a5254a217b2fe7848380d0f089486e02fcdd00d89a2"
   }
  }
 },
 "nbformat": 4,
 "nbformat_minor": 2
}
