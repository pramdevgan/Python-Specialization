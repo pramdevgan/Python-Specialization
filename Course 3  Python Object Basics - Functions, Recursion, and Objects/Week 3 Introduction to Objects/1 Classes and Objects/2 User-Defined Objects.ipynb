{
 "cells": [
  {
   "cell_type": "markdown",
   "metadata": {},
   "source": [
    "# User-Defined Objects\n",
    "\n",
    "---\n",
    "\n",
    "## Defining an Object\n",
    "\n",
    "Assume you want to collect information about actors. Creating a class is a good way to keep this data organized. The `class` keyword is used to define a class. For now, use `pass` as the body of the class. Declaring a class does not doing anything on its own, so print `Actor`."
   ]
  },
  {
   "cell_type": "code",
   "execution_count": 1,
   "metadata": {},
   "outputs": [
    {
     "name": "stdout",
     "output_type": "stream",
     "text": [
      "<class '__main__.Actor'>\n"
     ]
    }
   ],
   "source": [
    "class Actor:\n",
    "    pass\n",
    "print(Actor)"
   ]
  },
  {
   "cell_type": "markdown",
   "metadata": {},
   "source": [
    "<details open=\"\"><summary><strong>Naming classes</strong></summary>\n",
    "\n",
    "The convention for naming classes in Python is to use a capital letter. A lowercase letter will not cause an error message, but it is not considered to be \"correct\". If a class has a name with multiple words, do not use an `_` to separate the words like for variable and function names. Instead, all of the words are pushed together, and a capital letter is used for the first letter of each word. This is called camel case.\n",
    "\n",
    "</details>\n",
    "\n",
    "Classes are just the blueprint. To you use a class, you need to instantiate an object. Here is an object to represent Helen Mirren."
   ]
  },
  {
   "cell_type": "code",
   "execution_count": 2,
   "metadata": {},
   "outputs": [
    {
     "name": "stdout",
     "output_type": "stream",
     "text": [
      "<class '__main__.Actor'>\n"
     ]
    }
   ],
   "source": [
    "class Actor:\n",
    "    pass\n",
    "helen = Actor()\n",
    "print(type(helen))"
   ]
  },
  {
   "cell_type": "markdown",
   "metadata": {},
   "source": [
    "So you now have `helen`, which is an instance of the `Actor` class.\n",
    "\n",
    "## Adding Attributes\n",
    "\n",
    "The point of having a class is to collect information and define actions that can modify the data. The `Actor` class should contain things like the name of the actor, notable films, awards they have won, etc. These pieces of information related to a class are called attributes. You access the attributes by using dot notation, which is `object_name.attribute`. Adding an attribute is done with the assignment operator, `object_name.attribute = attribute_value`. Object attributes can be treated like any other variable."
   ]
  },
  {
   "cell_type": "code",
   "execution_count": 3,
   "metadata": {},
   "outputs": [
    {
     "name": "stdout",
     "output_type": "stream",
     "text": [
      "Helen Mirren\n"
     ]
    }
   ],
   "source": [
    "class Actor:\n",
    "    pass\n",
    "\n",
    "helen = Actor()\n",
    "\n",
    "helen.first_name = \"Helen\"\n",
    "helen.last_name = \"Mirren\"\n",
    "print(helen.first_name, helen.last_name)"
   ]
  },
  {
   "cell_type": "markdown",
   "metadata": {},
   "source": [
    "## What happens if you:\n",
    "\n",
    "* Add the print statement `print(helen.first_name.upper(), helen.last_name.lower())`?\n",
    "* Add the attribute `total_films` with the value of `80`?\n",
    "* Add the attribute `notable_films` with the value of `[\"The Queen\", \"The Madness of King George\", \"Gosford Park\"]`?\n",
    "* Add the print statement `print(helen)`?"
   ]
  },
  {
   "cell_type": "code",
   "execution_count": 4,
   "metadata": {},
   "outputs": [
    {
     "name": "stdout",
     "output_type": "stream",
     "text": [
      "HELEN mirren\n"
     ]
    }
   ],
   "source": [
    "print(helen.first_name.upper(), helen.last_name.lower())"
   ]
  },
  {
   "cell_type": "code",
   "execution_count": 5,
   "metadata": {},
   "outputs": [],
   "source": [
    "helen.total_films = 80"
   ]
  },
  {
   "cell_type": "code",
   "execution_count": 6,
   "metadata": {},
   "outputs": [],
   "source": [
    "helen.notable_films = [\"The Queen\", \"The Madness of King George\", \"Gosford Park\"]"
   ]
  },
  {
   "cell_type": "code",
   "execution_count": 7,
   "metadata": {},
   "outputs": [
    {
     "name": "stdout",
     "output_type": "stream",
     "text": [
      "<__main__.Actor object at 0x000002586CFE91E0>\n"
     ]
    }
   ],
   "source": [
    "print(helen)"
   ]
  },
  {
   "cell_type": "markdown",
   "metadata": {},
   "source": [
    "<details open=\"\"><summary><strong>What is all that gibberish after<span> </span><code>at</code>?</strong></summary>\n",
    "\n",
    "All of that gibberish is the location in your computer's memory where the object is being stored."
   ]
  },
  {
   "cell_type": "markdown",
   "metadata": {},
   "source": [
    "## Reading Question\n",
    "\n",
    "Look at the code snippets below, and select the one that declares the `Pitcher` class, instantiates an object, and add the attribute `era` with the value `2.93`.\n",
    "\n",
    "\n",
    "----\n",
    "```python\n",
    "def Pitcher:\n",
    "  pass\n",
    "pedro = Pitcher()\n",
    "pedro.era = 2.93\n",
    "```\n",
    "----\n",
    "```python\n",
    "class Pitcher:\n",
    "  pass\n",
    "pedro = Pitcher()\n",
    "pedro.era = 2.93\n",
    "```\n",
    "----\n",
    "```python\n",
    "class Pitcher:\n",
    "  pass\n",
    "Pitcher.era = 2.93\n",
    "```\n",
    "----\n",
    "```python\n",
    "class Pitcher:\n",
    "  pass\n",
    "pedro = Pitcher()\n",
    "pedro[era] = 2.93\n",
    "```\n",
    "----"
   ]
  },
  {
   "cell_type": "markdown",
   "metadata": {},
   "source": [
    "***The correct answer is:***\n",
    "\n",
    "\n",
    "```python\n",
    "class Pitcher:\n",
    "  pass\n",
    "\n",
    "pedro = Pitcher()\n",
    "pedro.era = 2.93\n",
    "```\n",
    "\n",
    "The other options are not correct because `def` is not used to create a class (`class Pitcher:`), you need to instantiate an object (`pedro = Pitcher()`), and dot notation is used when referencing an attribute (`pedro.era`)."
   ]
  }
 ],
 "metadata": {
  "kernelspec": {
   "display_name": "Python 3.10.4 64-bit",
   "language": "python",
   "name": "python3"
  },
  "language_info": {
   "codemirror_mode": {
    "name": "ipython",
    "version": 3
   },
   "file_extension": ".py",
   "mimetype": "text/x-python",
   "name": "python",
   "nbconvert_exporter": "python",
   "pygments_lexer": "ipython3",
   "version": "3.10.4"
  },
  "orig_nbformat": 4,
  "vscode": {
   "interpreter": {
    "hash": "12d9efd1b418ad7485587f2da0512ee7fc7c20b6462fdb2a696d6f33bbf19b58"
   }
  }
 },
 "nbformat": 4,
 "nbformat_minor": 2
}
