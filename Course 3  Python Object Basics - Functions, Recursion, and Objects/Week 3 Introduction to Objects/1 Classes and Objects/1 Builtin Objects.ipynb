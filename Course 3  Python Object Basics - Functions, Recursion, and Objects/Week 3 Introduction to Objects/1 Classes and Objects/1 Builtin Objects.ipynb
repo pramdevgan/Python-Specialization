{
 "cells": [
  {
   "cell_type": "markdown",
   "metadata": {},
   "source": [
    "# Built-in Objects\n",
    "\n",
    "---\n",
    "\n",
    "## The String Object\n",
    "\n",
    "You have already been using built-in Python objects. Strings are an example of a Python object."
   ]
  },
  {
   "cell_type": "code",
   "execution_count": 1,
   "metadata": {},
   "outputs": [
    {
     "name": "stdout",
     "output_type": "stream",
     "text": [
      "<class 'str'>\n"
     ]
    }
   ],
   "source": [
    "s = \"I am a string\"\n",
    "print(type(s))"
   ]
  },
  {
   "cell_type": "markdown",
   "metadata": {},
   "source": [
    "Python says that the type of `s` is the class `str` (which is a string). Add the following line of code and run the program again."
   ]
  },
  {
   "cell_type": "code",
   "execution_count": 2,
   "metadata": {},
   "outputs": [
    {
     "name": "stdout",
     "output_type": "stream",
     "text": [
      "['__add__', '__class__', '__contains__', '__delattr__', '__dir__', '__doc__', '__eq__', '__format__', '__ge__', '__getattribute__', '__getitem__', '__getnewargs__', '__gt__', '__hash__', '__init__', '__init_subclass__', '__iter__', '__le__', '__len__', '__lt__', '__mod__', '__mul__', '__ne__', '__new__', '__reduce__', '__reduce_ex__', '__repr__', '__rmod__', '__rmul__', '__setattr__', '__sizeof__', '__str__', '__subclasshook__', 'capitalize', 'casefold', 'center', 'count', 'encode', 'endswith', 'expandtabs', 'find', 'format', 'format_map', 'index', 'isalnum', 'isalpha', 'isascii', 'isdecimal', 'isdigit', 'isidentifier', 'islower', 'isnumeric', 'isprintable', 'isspace', 'istitle', 'isupper', 'join', 'ljust', 'lower', 'lstrip', 'maketrans', 'partition', 'removeprefix', 'removesuffix', 'replace', 'rfind', 'rindex', 'rjust', 'rpartition', 'rsplit', 'rstrip', 'split', 'splitlines', 'startswith', 'strip', 'swapcase', 'title', 'translate', 'upper', 'zfill']\n"
     ]
    }
   ],
   "source": [
    "print(dir(str))"
   ]
  },
  {
   "cell_type": "markdown",
   "metadata": {},
   "source": [
    "`dir` is a built-in function that tells the user all of the attributes and methods associated with a class. If you look carefully at the output, you may be confused by the information on the screen. However, a few things, like `upper` and `lower`, may seem familiar. Attributes and methods will be covered in a later lesson, but it is important to understand that a string is not a simple collection of characters. Because a string is a class, it is a powerful way of collecting and modifying data.\n",
    "\n",
    "## What happens if you:\n",
    "\n",
    "* Add the line of code `print(s.__add__(\"!\"))`?\n",
    "* Add the line of code `print(s.__sizeof__())`?\n",
    "* Add the line of code `print(s.startswith(\"I\"))`?"
   ]
  },
  {
   "cell_type": "code",
   "execution_count": 6,
   "metadata": {},
   "outputs": [
    {
     "name": "stdout",
     "output_type": "stream",
     "text": [
      "I am a string!\n",
      "62\n",
      "True\n"
     ]
    }
   ],
   "source": [
    "print(s.__add__(\"!\"))\n",
    "print(s.__sizeof__())\n",
    "print(s.startswith(\"I\"))"
   ]
  },
  {
   "cell_type": "markdown",
   "metadata": {},
   "source": [
    "## Vocabulary\n",
    "\n",
    "In the text above, the words “class” and “object” are used in an almost interchangeable manner. There are many similarities between classes and objects, but there is also an important difference. Working with objects has a lot of specialized vocabulary.\n",
    "\n",
    "**Classes** - Classes are a collection of data and the actions that can modify the data. Programming is a very abstract task. Classes were created to give users a mental model of how to think about data in a more concrete way. Classes act as the blueprint. They tell Python what data is collected and how it can be modified.\n",
    "\n",
    "**Objects** - Objects are constructed according to the blueprint that is the class. In the code above, the variable `s` is a string object. It is not the class. The string class tells Python that `s` has methods like `__add__`, `__sizeof__`, and `startswith`. When a programmer wants to use a class, they create an object.\n",
    "\n",
    "**Instance** - Another way that programmers talk about objects is to say that an object is an instance of a particular class. For example, `s` is an instance of the string class.\n",
    "\n",
    "**Instantiation** - Instantiation is the process where an object is created according to blueprint of the class. The phrase “define a variable” means to create a variable. The variable is given a name and a value. Once it has been defined, you can use the variable. With objects, you use the phrase \"instantiate an object\". That means to create an object, give it a name, store any data, and define the actions the object can perform.\n",
    "\n",
    "![Class vs Object](https://apollo-media.codio.com/media%2F1%2Feac5bef4c53e77247d95334ba23d3335-7e6606c8-229f-48a2-955b-c4eeec56de3a.webp)"
   ]
  },
  {
   "cell_type": "markdown",
   "metadata": {},
   "source": [
    "## Reading Question\n",
    "\n",
    "Fill in the blanks below.\n",
    "\n",
    "A `class` is the blueprint used to create object.\n",
    "\n",
    "An `object` a version of a class used by programmers.\n",
    "\n",
    "An object is said to be an `instance` of a class.\n",
    "\n",
    "`Instantiation` is when an object is created from a class.\n",
    "\n",
    "```text\n",
    "A class is the blueprint used to create object.\n",
    "An object a version of a class used by programmers.\n",
    "An object is said to be an instance of a class.\n",
    "Instantiation is when an object is created from a class.\n",
    "```"
   ]
  }
 ],
 "metadata": {
  "kernelspec": {
   "display_name": "Python 3.10.4 64-bit",
   "language": "python",
   "name": "python3"
  },
  "language_info": {
   "codemirror_mode": {
    "name": "ipython",
    "version": 3
   },
   "file_extension": ".py",
   "mimetype": "text/x-python",
   "name": "python",
   "nbconvert_exporter": "python",
   "pygments_lexer": "ipython3",
   "version": "3.10.4"
  },
  "orig_nbformat": 4,
  "vscode": {
   "interpreter": {
    "hash": "12d9efd1b418ad7485587f2da0512ee7fc7c20b6462fdb2a696d6f33bbf19b58"
   }
  }
 },
 "nbformat": 4,
 "nbformat_minor": 2
}
