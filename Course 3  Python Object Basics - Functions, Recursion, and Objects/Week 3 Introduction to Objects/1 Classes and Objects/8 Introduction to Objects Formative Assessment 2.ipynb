{
 "cells": [
  {
   "cell_type": "markdown",
   "metadata": {},
   "source": [
    "## Formative Assessment\n",
    "\n",
    "Select **all** of the statements that are true about shallow and deep copies.\n",
    "\n",
    "- You need to use the `copy` module to make a deep copy\n",
    "- Shallow copies only copy the object but not the object attributes\n",
    "- Deep copies make a copy of the object and the object attributes\n",
    "- Changing an attribute of one shallow copy will affect the attribute of the other shallow copy\n",
    "\n",
    "```text\n",
    "All of the statements are true.\n",
    "\n",
    "Python requires the copy module to make a deep copy.\n",
    "Shallow copies only make a copy of the object, but not of the attributes.\n",
    "Deep copes make a copy of the object and the attributes.\n",
    "Changing an attribute of one shallow copy will affect the attribute of the other shallow copy.\n",
    "```"
   ]
  }
 ],
 "metadata": {
  "kernelspec": {
   "display_name": "Python 3.11.0 64-bit",
   "language": "python",
   "name": "python3"
  },
  "language_info": {
   "name": "python",
   "version": "3.11.0"
  },
  "orig_nbformat": 4,
  "vscode": {
   "interpreter": {
    "hash": "cfebaf9e48837dc440118a5254a217b2fe7848380d0f089486e02fcdd00d89a2"
   }
  }
 },
 "nbformat": 4,
 "nbformat_minor": 2
}
