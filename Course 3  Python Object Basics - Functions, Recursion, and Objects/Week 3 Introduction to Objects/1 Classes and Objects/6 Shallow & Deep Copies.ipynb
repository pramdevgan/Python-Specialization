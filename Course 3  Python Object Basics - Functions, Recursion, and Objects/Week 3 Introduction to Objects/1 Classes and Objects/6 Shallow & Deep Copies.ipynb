{
 "cells": [
  {
   "cell_type": "markdown",
   "metadata": {},
   "source": [
    "# Shallow & Deep Copies\n",
    "\n",
    "---\n",
    "\n",
    "## Shallow Copies\n",
    "\n",
    "The code below will instantiate `a` as an instance of the `ComicBookCharacter` class. Object `a` will be given a name, an age, and a type. Object `b` will be a copy of `a`. Finally, the `name` attribute of object `a` is changed. What do you expect to see when the `name` attributes of objects `a` and `b` are printed?"
   ]
  },
  {
   "cell_type": "code",
   "execution_count": 1,
   "metadata": {},
   "outputs": [
    {
     "name": "stdout",
     "output_type": "stream",
     "text": [
      "Hobbes\n",
      "Hobbes\n"
     ]
    }
   ],
   "source": [
    "class ComicBooCharacter():\n",
    "    pass\n",
    "\n",
    "a = ComicBooCharacter()\n",
    "a.name = \"Calvin\"\n",
    "a.age = 6\n",
    "a.type  = \"human\"\n",
    "\n",
    "b = a\n",
    "a.name = \"Hobbes\"\n",
    "print(a.name)\n",
    "print(a.name)"
   ]
  },
  {
   "cell_type": "markdown",
   "metadata": {},
   "source": [
    "Both of the `name` attributes changed, even though the code only changed the `name` attribute of object `a`. This is because object `b` is a shallow copy of object `a`. Python makes a copy of object `a`, but object `b` shares the attributes with object `a`. That is why changing `name` for object `a` also affects the `name` attribute for object `b`.\n",
    "\n",
    "![Shallow Copy](https://apollo-media.codio.com/media%2F1%2Fd80990ba4769f80c556b7320d7877ae5-c3df5088-3691-4617-bf4e-bdfc7704d09e.webp)"
   ]
  },
  {
   "cell_type": "markdown",
   "metadata": {},
   "source": [
    "## Deep Copy\n",
    "\n",
    "A deep copy is when Python makes a copy of object `a` and makes copies of each attribute. A deep copy keeps the attributes of one object independent of the other object. To create a deep copy, you need to import the `copy` module.\n",
    "\n",
    "![Deep Copy](https://apollo-media.codio.com/media%2F1%2F261210720d128976210bfe3edcfea9b3-acdf143e-8f25-45ff-8aa1-1f28e6cb58db.webp)"
   ]
  },
  {
   "cell_type": "code",
   "execution_count": 2,
   "metadata": {},
   "outputs": [
    {
     "name": "stdout",
     "output_type": "stream",
     "text": [
      "Hobbes\n",
      "Calvin\n"
     ]
    }
   ],
   "source": [
    "import copy\n",
    "\n",
    "class ComicBooCharacter():\n",
    "    pass\n",
    "\n",
    "a = ComicBooCharacter()\n",
    "a.name = \"Calvin\"\n",
    "a.age = 6\n",
    "a.type = \"human\"\n",
    "\n",
    "b = copy.deepcopy(a)\n",
    "a.name = \"Hobbes\"\n",
    "\n",
    "print(a.name)\n",
    "print(b.name)"
   ]
  },
  {
   "cell_type": "markdown",
   "metadata": {},
   "source": [
    "## Reading Question\n",
    "\n",
    "Fill in the blanks below.\n",
    "\n",
    "- A <u>**deep**</u> copy is when Python makes a copy of the object and its attributes.\n",
    "\n",
    "- A <u>**shallow**</u> copy is when Python makes a copy of the object, but the attributes are shared.\n",
    "```text\n",
    "A deep copy is when Python makes a copy of the object and its attributes.\n",
    "A shallow copy is when Python makes a copy of the object, but the attributes are shared.\n",
    "```"
   ]
  },
  {
   "cell_type": "markdown",
   "metadata": {},
   "source": []
  }
 ],
 "metadata": {
  "kernelspec": {
   "display_name": "Python 3.11.0 64-bit",
   "language": "python",
   "name": "python3"
  },
  "language_info": {
   "codemirror_mode": {
    "name": "ipython",
    "version": 3
   },
   "file_extension": ".py",
   "mimetype": "text/x-python",
   "name": "python",
   "nbconvert_exporter": "python",
   "pygments_lexer": "ipython3",
   "version": "3.11.0"
  },
  "orig_nbformat": 4,
  "vscode": {
   "interpreter": {
    "hash": "cfebaf9e48837dc440118a5254a217b2fe7848380d0f089486e02fcdd00d89a2"
   }
  }
 },
 "nbformat": 4,
 "nbformat_minor": 2
}
