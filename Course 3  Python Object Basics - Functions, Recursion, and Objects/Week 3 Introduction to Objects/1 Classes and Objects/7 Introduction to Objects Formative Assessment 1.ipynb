{
 "cells": [
  {
   "cell_type": "markdown",
   "metadata": {},
   "source": [
    "# Introduction to Objects Formative Assessment 1\n",
    "\n",
    "---\n",
    "\n",
    "## Formative Assessment\n",
    "\n",
    "Rearrange the code blocks below to declare the `Dog` class. Instantiate `fido` as an instance of the `Dog` class. Give the object a `breed` attribute of `poodle`. **Note** , not all of the code blocks will be used.\n",
    "\n",
    "Drag from here\n",
    "\n",
    "* breed = \"poodle\"\n",
    "* fido = new Dog()\n",
    "* pass\n",
    "* fido.breed = \"poodle\"\n",
    "* class Dog:\n",
    "* fido = Dog()\n",
    "* def dog():\n",
    "\n",
    "Construct your solution here"
   ]
  },
  {
   "cell_type": "markdown",
   "metadata": {},
   "source": [
    "The block that uses the keyword `new` to instantiate `fido` as an instance of the `Dog` class is incorrect because Python does not use `new` for object instantiation. The block that says `def dog():` would create a function called `dog`, not a class. Finally, the block that says `breed = \"poodle\"` is incorrect because this creates a variable. To create an object attribute, use the dot notation (`fido.breed = \"poodle\"`)."
   ]
  },
  {
   "cell_type": "code",
   "execution_count": 1,
   "metadata": {},
   "outputs": [],
   "source": [
    "class Dog:\n",
    "    pass\n",
    "\n",
    "fido = Dog()\n",
    "fido.breed = \"poodle\""
   ]
  },
  {
   "cell_type": "code",
   "execution_count": 2,
   "metadata": {},
   "outputs": [
    {
     "name": "stdout",
     "output_type": "stream",
     "text": [
      "poodle\n"
     ]
    }
   ],
   "source": [
    "print(fido.breed)"
   ]
  }
 ],
 "metadata": {
  "kernelspec": {
   "display_name": "Python 3.11.0 64-bit",
   "language": "python",
   "name": "python3"
  },
  "language_info": {
   "codemirror_mode": {
    "name": "ipython",
    "version": 3
   },
   "file_extension": ".py",
   "mimetype": "text/x-python",
   "name": "python",
   "nbconvert_exporter": "python",
   "pygments_lexer": "ipython3",
   "version": "3.11.0"
  },
  "orig_nbformat": 4,
  "vscode": {
   "interpreter": {
    "hash": "cfebaf9e48837dc440118a5254a217b2fe7848380d0f089486e02fcdd00d89a2"
   }
  }
 },
 "nbformat": 4,
 "nbformat_minor": 2
}
