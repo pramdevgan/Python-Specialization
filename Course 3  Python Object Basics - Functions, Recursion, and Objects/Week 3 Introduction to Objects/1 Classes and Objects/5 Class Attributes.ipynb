{
 "cells": [
  {
   "cell_type": "markdown",
   "metadata": {},
   "source": [
    "# Class Attributes\n",
    "\n",
    "---\n",
    "\n",
    "## Class Attributes\n",
    "\n",
    "Python also allows you to create a class attribute. The `__init__` method creates object attributes. These can be different from object to object. The objects `helen` and `dwayne` are completely different. However, a class attribute is the same for every object. The class attribute is defined after the docstring and before the `__init__` method."
   ]
  },
  {
   "cell_type": "code",
   "execution_count": 1,
   "metadata": {},
   "outputs": [
    {
     "name": "stdout",
     "output_type": "stream",
     "text": [
      "Helen Mirren is a member of the Screen Actors Guild.\n",
      "Dwayne Johnson is a member of the Screen Actors Guild.\n"
     ]
    }
   ],
   "source": [
    "class Actor:\n",
    "    \"\"\"Define the actor class\"\"\"\n",
    "    union = \"Screen Actors Guild\"\n",
    "    def __init__(self, first_name, last_name, birthday, total_films, oscar_nominations=0, oscar_wins=0):\n",
    "        self.first_name = first_name\n",
    "        self.last_name = last_name\n",
    "        self.birthday = birthday\n",
    "        self.total_films = total_films\n",
    "        self.oscar_nominations = oscar_nominations\n",
    "        self.oscar_wins = oscar_wins\n",
    "    \n",
    "helen = Actor(\"Helen\", \"Mirren\", \"July 26\", 80, 4, 1)\n",
    "dwayne = Actor(\"Dwayne\", \"Johnson\", \"July 9\", 34)\n",
    "\n",
    "print(\"{} {} is a member of the {}.\".format(helen.first_name, helen.last_name, helen.union))\n",
    "print(\"{} {} is a member of the {}.\".format(dwayne.first_name, dwayne.last_name, dwayne.union))"
   ]
  },
  {
   "cell_type": "markdown",
   "metadata": {},
   "source": [
    "## What happens if you:\n",
    "\n",
    "* Add `helen.union = \"Teamsters\"` before the print statements and then run the program?\n",
    "* Add the print statement `print(help(Actor))`?"
   ]
  },
  {
   "cell_type": "code",
   "execution_count": 4,
   "metadata": {},
   "outputs": [
    {
     "name": "stdout",
     "output_type": "stream",
     "text": [
      "Teamsters\n"
     ]
    }
   ],
   "source": [
    "helen.union = \"Teamsters\"\n",
    "print(helen.union)"
   ]
  },
  {
   "cell_type": "code",
   "execution_count": 5,
   "metadata": {},
   "outputs": [
    {
     "name": "stdout",
     "output_type": "stream",
     "text": [
      "Help on class Actor in module __main__:\n",
      "\n",
      "class Actor(builtins.object)\n",
      " |  Actor(first_name, last_name, birthday, total_films, oscar_nominations=0, oscar_wins=0)\n",
      " |  \n",
      " |  Define the actor class\n",
      " |  \n",
      " |  Methods defined here:\n",
      " |  \n",
      " |  __init__(self, first_name, last_name, birthday, total_films, oscar_nominations=0, oscar_wins=0)\n",
      " |      Initialize self.  See help(type(self)) for accurate signature.\n",
      " |  \n",
      " |  ----------------------------------------------------------------------\n",
      " |  Data descriptors defined here:\n",
      " |  \n",
      " |  __dict__\n",
      " |      dictionary for instance variables (if defined)\n",
      " |  \n",
      " |  __weakref__\n",
      " |      list of weak references to the object (if defined)\n",
      " |  \n",
      " |  ----------------------------------------------------------------------\n",
      " |  Data and other attributes defined here:\n",
      " |  \n",
      " |  union = 'Screen Actors Guild'\n",
      "\n",
      "None\n"
     ]
    }
   ],
   "source": [
    "print(help(Actor))"
   ]
  },
  {
   "cell_type": "markdown",
   "metadata": {},
   "source": [
    "## Reading Question\n",
    "\n",
    "Fill in the blanks below.\n",
    "\n",
    "- A **class** attribute is an attribute shared by all instances of a class.\n",
    "\n",
    "- An **object** attribute is an attribute created by the`__init__` method.\n",
    "\n",
    "```text\n",
    "A class attribute is an attribute shared by all instances of a class.\n",
    "An object attribute is an attribute created by the __init__ method.\n",
    "```"
   ]
  },
  {
   "cell_type": "code",
   "execution_count": null,
   "metadata": {},
   "outputs": [],
   "source": []
  }
 ],
 "metadata": {
  "kernelspec": {
   "display_name": "Python 3.11.0 64-bit",
   "language": "python",
   "name": "python3"
  },
  "language_info": {
   "codemirror_mode": {
    "name": "ipython",
    "version": 3
   },
   "file_extension": ".py",
   "mimetype": "text/x-python",
   "name": "python",
   "nbconvert_exporter": "python",
   "pygments_lexer": "ipython3",
   "version": "3.11.0"
  },
  "orig_nbformat": 4,
  "vscode": {
   "interpreter": {
    "hash": "cfebaf9e48837dc440118a5254a217b2fe7848380d0f089486e02fcdd00d89a2"
   }
  }
 },
 "nbformat": 4,
 "nbformat_minor": 2
}
