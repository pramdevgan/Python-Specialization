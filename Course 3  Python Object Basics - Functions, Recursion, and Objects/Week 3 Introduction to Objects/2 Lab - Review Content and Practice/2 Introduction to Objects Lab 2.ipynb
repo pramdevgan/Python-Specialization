{
 "cells": [
  {
   "cell_type": "markdown",
   "metadata": {},
   "source": [
    "# Introduction to Objects Lab 2\n",
    "\n",
    "---\n",
    "\n",
    "## Lab 2\n",
    "\n",
    "Now that you have all of the information needed to make a post, you can turn that into visual output using the `Tkinter` module. `Tkinter` allows you to build simple graphical user interfaces with a minimal amount of code. The next lab is going to be an introduction to `Tkinter` and a few of its features.\n",
    "\n",
    "<details open=\"\"><summary><strong>What to learn more about<span> </span><code>Tkinter</code>?</strong></summary>\n",
    "\n",
    "These labs will only cover a tiny fraction of what can be done with the `Tkinter` module. The full documentation for `Tkinter` can be found [here](http://tcl.tk/man/tcl8.5/TkCmd/contents.htm). This documentation is not very user-friendly. A more beginner-friendly way to learn about `Tkinter`code> is with this YouTube [playlist](https://www.youtube.com/playlist?list=PLCC34OHNcOtoC6GglhF3ncJ5rLwQrLGnV).\n",
    "\n",
    "</details>\n",
    "\n",
    "### Main Window\n",
    "\n",
    "`Tkinter`'s output is a window. There are three steps needed to get a window up and running. First, import the `tkinter` module. Second, create a window. Third, run the `mainloop` for the window. Just like with Turtle graphics, the `import` statement should be at the very top of the program, and the `mainloop` should come at the very end. The rest of your program will go between these two lines of code."
   ]
  },
  {
   "cell_type": "code",
   "execution_count": 1,
   "metadata": {},
   "outputs": [],
   "source": [
    "import tkinter\n",
    "window = tkinter.Tk()\n",
    "window.mainloop()"
   ]
  },
  {
   "cell_type": "markdown",
   "metadata": {},
   "source": [
    "That is really all it takes to get a window up and running. You can add a title to the window and set its size with these commands:"
   ]
  },
  {
   "cell_type": "code",
   "execution_count": 3,
   "metadata": {},
   "outputs": [],
   "source": [
    "import tkinter\n",
    "window = tkinter.Tk()\n",
    "window.title(\"My Window\")\n",
    "window.geometry(\"500x350\")\n",
    "window.mainloop()"
   ]
  },
  {
   "cell_type": "markdown",
   "metadata": {},
   "source": [
    "### Label Widget - Text\n",
    "\n",
    "`Tkinter` refers to items added to the the main window as widgets. The `Label` is going to be the building block for these labs.\n",
    "\n",
    "![Label Widget](https://apollo-media.codio.com/media%2F1%2F844ffceb089dfb26c3b838a327e76615-03ba312f-d4cd-4d2a-966c-1f775f8bf4a9.webp)\n",
    "\n",
    "Create a text label for your window:"
   ]
  },
  {
   "cell_type": "code",
   "execution_count": 15,
   "metadata": {},
   "outputs": [],
   "source": [
    "import tkinter\n",
    "window = tkinter.Tk()\n",
    "window.title(\"My Window\")\n",
    "window.geometry(\"500x350\")\n",
    "my_label = tkinter.Label(window, text=\"Hello World\", font=\"DejaVuSerif 18\")\n",
    "window.mainloop()"
   ]
  },
  {
   "cell_type": "markdown",
   "metadata": {},
   "source": [
    "Other options for text `Labels`:\n",
    "\n",
    "* Font - You can set the font family and size with `font` options. The available fonts are DejaVuSerif, DejaVuSansMono, DejaVuSans. You can also set the font to `bold` as well. An example of the `font` option is: `font=\"DejaVuSeif 18 bold\"`.\n",
    "* Justify - The `justify` option allows you to align text inside of a `Label`. The options are `\"left\"`, `\"right\"`, and `\"center\"`. An example of the `justify` option is: `justify=\"left\"`.\n",
    "* Background Color - Use the `bg` option to set the background color. Colors can be done with either CSS or hex colors. An example of the `bg` option is: `bg=\"blue\"`.\n",
    "* Text Color - Use the `fg` option (foreground) to set the color of the text. An example of the `fg` option is: `fg=\"red\"`.\n",
    "* Wrap Length - Widgets set their size based on its contents. While this can be helpful, this can also make getting the perfect layout difficult at times. The `wraplength` option tells `Tkinter` when to continue the text on the next line. This keeps the label widget from becoming too wide for your desired layout.\n",
    "\n",
    "### Grid System\n",
    "\n",
    "Adding widgets to the window is a two-step process. First define the widget, then place it in the window using the grid system. The grid system works by positioning widgets with a row and column number. Rows and columns start counting with 0. The sizes of rows and columns is dependent upon the size of the widget. Here is how to place the `my_label` widget in the top-left corner.\n",
    "\n",
    "```python\n",
    "my_label.grid(row=0, column=0)\n",
    "```\n",
    "The grid system can be a bit difficult to use. For instance, if you want to put a single label in location `row=1, column=1`, the label will appear in the top-left corner. Positioning is relative to other widgets.\n",
    "\n",
    "### Image Label\n",
    "\n",
    "Using an image in a label is also a two-step process. First create an image object for `Tkinter`, then attach the image to the label by replacing the `text` option with `image`. You still need to use `grid` to place the image in the window."
   ]
  },
  {
   "cell_type": "code",
   "execution_count": 17,
   "metadata": {},
   "outputs": [],
   "source": [
    "import tkinter\n",
    "window = tkinter.Tk()\n",
    "window.title(\"My Window\")\n",
    "window.geometry(\"500x350\")\n",
    "my_label = tkinter.Label(window, text=\"Hello World\", font=\"DejaVuSerif 18\")\n",
    "feather_image = tkinter.PhotoImage(file=\"student_folder/img/feather.png\")\n",
    "image_label = tkinter.Label(window, image=feather_image)\n",
    "image_label.grid(row=1, column=1)\n",
    "window.mainloop()"
   ]
  },
  {
   "cell_type": "markdown",
   "metadata": {},
   "source": [
    "## Explore `Tkinter`\n",
    "\n",
    "* Try out various fonts and font sizes\n",
    "* Position labels around the window with the grid system\n",
    "* Create other image objects (`tkinter.PhotoImage`) and add more images to the window"
   ]
  },
  {
   "cell_type": "markdown",
   "metadata": {},
   "source": [
    "## Lab Question\n",
    "\n",
    "What does “instantiate an object” mean?\n",
    "- ***Instantiating an object means to create an object based on a class.*** <--- Correct Answer\n",
    "- Instantiating an object means to create a class.\n",
    "- Instantiating an object means to use the `new` keyword when creating an object.\n",
    "- Instantiating an object means to declare a variable.\n",
    "\n",
    "Instantiating an object means to create an object based on a class. The class is the blueprint from which objects are made. The act of creating an object based on the class blueprint is called instantiation."
   ]
  }
 ],
 "metadata": {
  "kernelspec": {
   "display_name": "Python 3.11.0 64-bit",
   "language": "python",
   "name": "python3"
  },
  "language_info": {
   "codemirror_mode": {
    "name": "ipython",
    "version": 3
   },
   "file_extension": ".py",
   "mimetype": "text/x-python",
   "name": "python",
   "nbconvert_exporter": "python",
   "pygments_lexer": "ipython3",
   "version": "3.11.0"
  },
  "orig_nbformat": 4,
  "vscode": {
   "interpreter": {
    "hash": "cfebaf9e48837dc440118a5254a217b2fe7848380d0f089486e02fcdd00d89a2"
   }
  }
 },
 "nbformat": 4,
 "nbformat_minor": 2
}
