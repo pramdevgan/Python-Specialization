{
 "cells": [
  {
   "cell_type": "markdown",
   "metadata": {},
   "source": [
    "# Introduction to Objects Lab 1\n",
    "\n",
    "---\n",
    "\n",
    "## Lab 1\n",
    "\n",
    "The previous coding examples for objects have revolved around the `Actor` object. Using a real-world example makes the concept of classes a little easier to understand. But the `Actor` class does not accurately reflect how objects are used in programming. The following pages show how object could be used by a social network like Instagram. Imagine there exists a social network called Photogram that allows you to share, like, and comment on photos. Your feed is comprised of a series of posts containing information like the username, media(image or video), a message, likes, and a list of comments. We are going to create a `Post` object to reflect this.\n",
    "\n",
    "<details open=\"\"><summary><strong>Is this how Instagram really works?</strong></summary>\n",
    "\n",
    "No. Data for Instagram is stored as JSON, which stands for Javascript Object Notation. While \"object\" is a part of JSON, Python objects and JSON objects are different in an important way. JSON objects do not have methods, which will be covered in the next unit. However, using Python objects to represent posts in a social media feed is not far from reality.\n",
    "\n",
    "</details>\n",
    "\n",
    "### Components of a Post\n",
    "\n",
    "It is always a good idea to think about all the various pieces of information that need to be stored in an object. It is also important to think about how that information should be represented. Let’s say you have 100 followers. You could represent that as a string, `\"100\"`. But storing the follower count as an int is a better idea. If you gain a follower, you cannot say `\"100\" + 1`. You would have to typecast `\"100\"` as an int, add the new follower, and then typecast the new follower count back to a string. Storing this information as an int is much easier. Here are the elements that make up a post for Photogram:\n",
    "\n",
    "* Username - The user who creates the post should be stored as a string.\n",
    "* Id - Some social networks let you change your username. To avoid confusion about usernames, an unique id number is used to refer to each user on a social network. This should be stored as an int.\n",
    "* Media - Each post has an image or video to display. Media files are often stored elsewhere on a server. The object should store the path to the media file so it can be retrieved and shown to the public. This information should be stored as a string.\n",
    "* Avatar - The user’s avatar should appear next to their post. The object should store the path to an avatar as a string.\n",
    "* Comment Button - Each post has a button so viewers can add their comment. The object should store the path to this button as a string. **Note** , this will not be a working button.\n",
    "* Caption - The caption that accompanies the media file should be stored as a string.\n",
    "* Likes - The number of times people have liked a post should be stored as an int.\n",
    "* Comments - Comments should be stored as a string. However, each post can have a multitude of comments. So this information should be stored as a list of strings.\n",
    "* Like Button - Heart-shaped icon views could click to like a post. This will be stored as a string.\n",
    "\n",
    "### Defining the Post Class\n",
    "\n",
    "Now that you know all of the attributes needed to create a post for Photogram, you can define the `Post` class."
   ]
  },
  {
   "cell_type": "code",
   "execution_count": 1,
   "metadata": {},
   "outputs": [],
   "source": [
    "class Post():\n",
    "    \"\"\"Create a post object for the fictitious social network Photogram\"\"\"\n",
    "    def __init__ (self, username, user_id, media, avatar, comment_button, caption, likes, comments, likes_button):\n",
    "        self.username = username\n",
    "        self.user_id = user_id\n",
    "        self.media = media\n",
    "        self.avatar = avatar\n",
    "        self.comment_button = comment_button\n",
    "        self.caption = caption\n",
    "        self.likes = likes\n",
    "        self.comments = comments\n",
    "        self.like_button = likes_button\n"
   ]
  },
  {
   "cell_type": "markdown",
   "metadata": {},
   "source": [
    "Now, declare an instance of the `Post` class with some information. For the sake of readability, each of the parameters will be assigned to a variable. Then, the variables will be passed to the object for instantiation. **Note** there is an actual image file that will be used, so be sure the file path is correct."
   ]
  },
  {
   "cell_type": "code",
   "execution_count": 2,
   "metadata": {},
   "outputs": [],
   "source": [
    "username = \"Sally_17\"\n",
    "user_id = 112010\n",
    "media = \"student_folder/img/photogram/waterfall.png\"\n",
    "avatar = \"student_folder/img/photogram/avatar_icon.png\"\n",
    "comment_button = \"student_folder/img/photogram/add_comment.png\"\n",
    "caption = \"First time at Yosemite. It has surpassed all of my expectations.\"\n",
    "likes = 23\n",
    "comments = [\"Beautiful!\", \"I wish I was there too.\", \"Is that Nevada Falls?\", \"Love it!\", \"Can't wait for the Halfdome pictures\", \"More pics please\"]\n",
    "like_button = \"student_folder/img/photogram/likes_icon.png\"\n",
    "\n",
    "post1 = Post(username, user_id, media, avatar, comment_button, caption, likes, comments, like_button)"
   ]
  },
  {
   "cell_type": "markdown",
   "metadata": {},
   "source": [
    "## Check your work\n",
    "\n",
    "Print each attribute of `post1` to see that everything is working as expected."
   ]
  },
  {
   "cell_type": "code",
   "execution_count": 3,
   "metadata": {},
   "outputs": [
    {
     "name": "stdout",
     "output_type": "stream",
     "text": [
      "Sally_17 112010 student_folder/img/photogram/waterfall.png student_folder/img/photogram/avatar_icon.png student_folder/img/photogram/add_comment.png First time at Yosemite. It has surpassed all of my expectations. 23 ['Beautiful!', 'I wish I was there too.', 'Is that Nevada Falls?', 'Love it!', \"Can't wait for the Halfdome pictures\", 'More pics please'] student_folder/img/photogram/likes_icon.png\n"
     ]
    }
   ],
   "source": [
    "print(post1.username, post1.user_id, post1.media, post1.avatar, post1.comment_button,post1.caption, post1.likes, post1.comments, post1.like_button)"
   ]
  },
  {
   "cell_type": "markdown",
   "metadata": {},
   "source": [
    "## Lab Question\n",
    "\n",
    "Look at the `Car` class definition below. How many parameters are used when creating an instance of the `Car` class?\n",
    "\n",
    "```python\n",
    "class Car:\n",
    "    def __init__(self, make, model, year, color):\n",
    "        self.make = make\n",
    "        self.model = model\n",
    "        self.year = year\n",
    "        self.color = color\n",
    "```\n",
    "- 3\n",
    "- 5\n",
    "- ***4*** <--- Correct Answer\n",
    "- 2\n",
    "\n",
    "When creating an instance of the `Car` class, there will need to be four parameters. Remember, the `self` parameter is required, but it is not passed to the constructor when instantiating an object."
   ]
  }
 ],
 "metadata": {
  "kernelspec": {
   "display_name": "Python 3.11.0 64-bit",
   "language": "python",
   "name": "python3"
  },
  "language_info": {
   "codemirror_mode": {
    "name": "ipython",
    "version": 3
   },
   "file_extension": ".py",
   "mimetype": "text/x-python",
   "name": "python",
   "nbconvert_exporter": "python",
   "pygments_lexer": "ipython3",
   "version": "3.11.0"
  },
  "orig_nbformat": 4,
  "vscode": {
   "interpreter": {
    "hash": "cfebaf9e48837dc440118a5254a217b2fe7848380d0f089486e02fcdd00d89a2"
   }
  }
 },
 "nbformat": 4,
 "nbformat_minor": 2
}
