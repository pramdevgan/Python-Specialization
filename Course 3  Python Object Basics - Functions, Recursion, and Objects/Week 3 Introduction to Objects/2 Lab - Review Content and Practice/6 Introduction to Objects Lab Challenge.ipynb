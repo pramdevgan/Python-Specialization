{
 "cells": [
  {
   "cell_type": "markdown",
   "metadata": {},
   "source": [
    "# Introduction to Objects Lab Challenge\n",
    "\n",
    "---\n",
    "\n",
    "## Lab Challenge\n",
    "\n",
    "Create the variable `dog1`, and instantiate an object of the `Dog` class. This dog’s name is `Marceline` and she is a `German Shepherd`. Create the variable `dog2` and make a **deep copy** of `dog1`. `dog2` should be named `Cajun` and have the breed `Belgian Malinois`. Test your code by printing the `name` and `breed` of each dog to make sure they fulfill the requirements above."
   ]
  },
  {
   "cell_type": "code",
   "execution_count": null,
   "metadata": {},
   "outputs": [],
   "source": [
    "#Use the class below to solve the lab challenge\n",
    "import copy\n",
    "\n",
    "class Dog:\n",
    "  def __init__(self, name, breed):\n",
    "    self.name = name\n",
    "    self.breed = breed\n",
    "    \n",
    "#Start your program below this line"
   ]
  }
 ],
 "metadata": {
  "kernelspec": {
   "display_name": "Python 3.11.0 64-bit",
   "language": "python",
   "name": "python3"
  },
  "language_info": {
   "name": "python",
   "version": "3.11.0"
  },
  "orig_nbformat": 4,
  "vscode": {
   "interpreter": {
    "hash": "cfebaf9e48837dc440118a5254a217b2fe7848380d0f089486e02fcdd00d89a2"
   }
  }
 },
 "nbformat": 4,
 "nbformat_minor": 2
}
