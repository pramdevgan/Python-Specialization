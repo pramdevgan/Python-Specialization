{
 "cells": [
  {
   "cell_type": "markdown",
   "metadata": {},
   "source": [
    "# Introduction to Objects Lab Challenge\n",
    "\n",
    "---\n",
    "\n",
    "## Lab Challenge\n",
    "\n",
    "Create the variable `dog1`, and instantiate an object of the `Dog` class. This dog’s name is `Marceline` and she is a `German Shepherd`. Create the variable `dog2` and make a **deep copy** of `dog1`. `dog2` should be named `Cajun` and have the breed `Belgian Malinois`. Test your code by printing the `name` and `breed` of each dog to make sure they fulfill the requirements above."
   ]
  },
  {
   "cell_type": "code",
   "execution_count": 13,
   "metadata": {},
   "outputs": [
    {
     "name": "stdout",
     "output_type": "stream",
     "text": [
      "Marceline German Shepherd\n",
      "Cajun Belgian Malinois\n"
     ]
    }
   ],
   "source": [
    "#Use the class below to solve the lab challenge\n",
    "import copy\n",
    "\n",
    "class Dog:\n",
    "  def __init__(self, name, breed):\n",
    "    self.name = name\n",
    "    self.breed = breed\n",
    "    \n",
    "#Start your program below this line\n",
    "dog1 = Dog(\"Marceline\", \"German Shepherd\")\n",
    "print(dog1.name, dog1.breed)\n",
    "dog2 = copy.deepcopy(dog1)\n",
    "dog2.name = \"Cajun\"\n",
    "dog2.breed = \"Belgian Malinois\"\n",
    "print(dog2.name,dog2.breed)"
   ]
  },
  {
   "cell_type": "markdown",
   "metadata": {},
   "source": [
    "Submit your code when ready.\n",
    "\n",
    "Your program needs to do four things to pass the code test:\n",
    "\n",
    "1. Import the copy module with `import copy`\n",
    "2. Instantiate `dog1` with the proper name and breed with `dog1 = Dog(\"Marceline\", \"German Shepherd\")`\n",
    "3. Make a deep copy with `dog2 = copy.deepcopy(dog1)`\n",
    "4. Change the breed and name of `dog2` with\n",
    "\n",
    "```python\n",
    "dog2.name = \"Cajun\"\n",
    "dog2.breed = \"Belgian Malinois\"\n",
    "```\n",
    "\n",
    "\n",
    "LAST RUN on 17/11/2022, 11:58:42 pm\n",
    "\n",
    "<pre tabindex=\"0\" aria-label=\"Scrollable feedback \" class=\"codio-button-result-out codio-button-result-out-pass codio-feedback-comments\"><h2>Test passed!</h2></pre>"
   ]
  }
 ],
 "metadata": {
  "kernelspec": {
   "display_name": "Python 3.11.0 64-bit",
   "language": "python",
   "name": "python3"
  },
  "language_info": {
   "codemirror_mode": {
    "name": "ipython",
    "version": 3
   },
   "file_extension": ".py",
   "mimetype": "text/x-python",
   "name": "python",
   "nbconvert_exporter": "python",
   "pygments_lexer": "ipython3",
   "version": "3.11.0"
  },
  "orig_nbformat": 4,
  "vscode": {
   "interpreter": {
    "hash": "cfebaf9e48837dc440118a5254a217b2fe7848380d0f089486e02fcdd00d89a2"
   }
  }
 },
 "nbformat": 4,
 "nbformat_minor": 2
}
