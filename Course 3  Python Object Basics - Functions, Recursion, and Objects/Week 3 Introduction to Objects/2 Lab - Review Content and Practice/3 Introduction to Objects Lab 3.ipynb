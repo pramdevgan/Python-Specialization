{
 "cells": [
  {
   "cell_type": "markdown",
   "metadata": {},
   "source": [
    "# Introduction to Objects Lab 3\n",
    "\n",
    "---\n",
    "\n",
    "## Lab 3\n",
    "\n",
    "Now that you have had a brief introduction to `Tkinter`, you are going to create a mockup of a post on Photogram using the information stored in the `Post` object created in Lab 1.\n",
    "\n",
    "### Setting up the Window\n",
    "\n",
    "The first step is to setup the window for the app. Just as in Lab 2, you are going to create a window, give it a title, set the size, and choose a background color.\n",
    "\n",
    "```python\n",
    "import tkinter\n",
    "\n",
    "class Post:\n",
    "    \"\"\"Create a post object for the fictitious social network Photogram\"\"\"\n",
    "    ##########\n",
    "    # The rest of the Post class code goes here\n",
    "    ##########\n",
    " \n",
    "window = tkinter.Tk()\n",
    "window.title(\"Photogram\")\n",
    "window.geometry(\"800x500\")\n",
    "window.configure(background=\"white\")\n",
    "\n",
    "window.mainloop()  # This should be the last line of code in your program\n",
    "```"
   ]
  },
  {
   "cell_type": "code",
   "execution_count": 1,
   "metadata": {},
   "outputs": [
    {
     "name": "stdout",
     "output_type": "stream",
     "text": [
      "Sally_17 112010 student_folder/img/photogram/waterfall.png student_folder/img/photogram/avatar_icon.png student_folder/img/photogram/add_comment.png First time at Yosemite. It has surpassed all of my expectations. 23 ['Beautiful!', 'I wish I was there too.', 'Is that Nevada Falls?', 'Love it!', \"Can't wait for the Halfdome pictures\", 'More pics please'] student_folder/img/photogram/likes_icon.png\n"
     ]
    }
   ],
   "source": [
    "import tkinter\n",
    "class Post():\n",
    "    \"\"\"Create a post object for the fictitious social network Photogram\"\"\"\n",
    "    def __init__ (self, username, user_id, media, avatar, comment_button, caption, likes, comments, likes_button):\n",
    "        self.username = username\n",
    "        self.user_id = user_id\n",
    "        self.media = media\n",
    "        self.avatar = avatar\n",
    "        self.comment_button = comment_button\n",
    "        self.caption = caption\n",
    "        self.likes = likes\n",
    "        self.comments = comments\n",
    "        self.like_button = likes_button\n",
    "\n",
    "username = \"Sally_17\"\n",
    "user_id = 112010\n",
    "media = \"student_folder/img/photogram/waterfall.png\"\n",
    "avatar = \"student_folder/img/photogram/avatar_icon.png\"\n",
    "comment_button = \"student_folder/img/photogram/add_comment.png\"\n",
    "caption = \"First time at Yosemite. It has surpassed all of my expectations.\"\n",
    "likes = 23\n",
    "comments = [\"Beautiful!\", \"I wish I was there too.\", \"Is that Nevada Falls?\", \"Love it!\", \"Can't wait for the Halfdome pictures\", \"More pics please\"]\n",
    "like_button = \"student_folder/img/photogram/likes_icon.png\"\n",
    "\n",
    "post1 = Post(username, user_id, media, avatar, comment_button, caption, likes, comments, like_button)\n",
    "print(post1.username, post1.user_id, post1.media, post1.avatar, post1.comment_button,post1.caption, post1.likes, post1.comments, post1.like_button)\n",
    "\n",
    "window = tkinter.Tk()\n",
    "window.title(\"Photogram\")\n",
    "window.geometry(\"800x500\")\n",
    "window.configure(background=\"white\")\n",
    "\n",
    "window.mainloop()  # This should be the last line of code in your program"
   ]
  },
  {
   "cell_type": "markdown",
   "metadata": {},
   "source": [
    "It is important to know in advance what the layout of the app should be. This will influence how the window is created. The image below shows the general layout of Photogram.\n",
    "\n",
    "![Photogram Layout](https://apollo-media.codio.com/media%2F1%2Fdaf3a3e708e2b5491b860fc929dc5f14-4fd04f07-fa10-497d-8a2a-7cea84281ac0.webp)\n",
    "\n",
    "It is important to note that the window has three columns. Column 0 will be as wide as the image; `Tkinter` does this automatically. We want column 2 to be twice as wide as column 1. This will ensure that the avatar and like icon will be positioned properly. Add the following two lines of code to make column 2 twice as wide as column 1. Running the program will show a large, white rectangle. These lines of code should go before `window.mainloop()`."
   ]
  },
  {
   "cell_type": "markdown",
   "metadata": {},
   "source": [
    "python\n",
    "<details open=\"\"><summary><strong>Larger viewing area</strong></summary>\n",
    "\n",
    "Click the blue triangle icon to open the `Tkinter` project in a new tab. You can leave this tab open. Each time you click a `TRY IT` button, the tab will update with the latest version of your project.\n",
    "\n",
    "</details>\n",
    "\n",
    "### Add Photo Variables\n",
    "\n",
    "Just like in Lab 2, you will need to create a `Tkinter` image object for each image, and then store them in a variable.\n",
    "\n",
    "```python\n",
    "photo = tkinter.PhotoImage(file=post1.media)\n",
    "comment_button = tkinter.PhotoImage(file=post1.comment_button)\n",
    "avatar = tkinter.PhotoImage(file=post1.avatar)\n",
    "like_button = tkinter.PhotoImage(file=post1.like_button)\n",
    "```\n",
    "### Add Main Photo\n",
    "\n",
    "Create the variable `image` to represent the large image on the left. Adding the image is going to be a two-step process: create the label and place the label.\n",
    "\n",
    "```python\n",
    "# Big photo on the left\n",
    "image = tkinter.Label(\n",
    "    window,\n",
    "    image=photo,\n",
    "    bg=\"white\")\n",
    "\n",
    "image.grid(\n",
    "    row=0,\n",
    "    column=0,\n",
    "    rowspan=10,\n",
    "    stick=\"W\")\n",
    "```\n",
    "There are a couple of things that were not covered in Lab 2. First, `rowspan=10` means that the main photo is going to span across ten rows. If you did not do this, row 1 would start below the main photo. In the layout image above, there is nothing below the main photo. `stick=\"W\"` makes the main photo “sticky” to the “west” (left). If the `Tkinter` window were to be resized, the main photo would always remain to the far left."
   ]
  },
  {
   "cell_type": "code",
   "execution_count": 3,
   "metadata": {},
   "outputs": [],
   "source": [
    "window = tkinter.Tk()\n",
    "window.title(\"Photogram\")\n",
    "window.geometry(\"800x500\")\n",
    "window.configure(background=\"white\")\n",
    "window.grid_columnconfigure(1, weight=0)\n",
    "window.grid_columnconfigure(2, weight=1)\n",
    "photo = tkinter.PhotoImage(file=post1.media)\n",
    "comment_button = tkinter.PhotoImage(file=post1.comment_button)\n",
    "avatar = tkinter.PhotoImage(file=post1.avatar)\n",
    "like_button = tkinter.PhotoImage(file=post1.like_button)\n",
    "# Big photo on the left\n",
    "image = tkinter.Label(\n",
    "    window,\n",
    "    image=photo,\n",
    "    bg=\"white\")\n",
    "\n",
    "image.grid(\n",
    "    row=0,\n",
    "    column=0,\n",
    "    rowspan=10,\n",
    "    stick=\"W\")\n",
    "\n",
    "window.mainloop()  # This should be the last line of code in your program"
   ]
  },
  {
   "cell_type": "markdown",
   "metadata": {},
   "source": [
    "There are a couple of things that were not covered in Lab 2. First, `rowspan=10` means that the main photo is going to span across ten rows. If you did not do this, row 1 would start below the main photo. In the layout image above, there is nothing below the main photo. `stick=\"W\"` makes the main photo “sticky” to the “west” (left). If the `Tkinter` window were to be resized, the main photo would always remain to the far left."
   ]
  },
  {
   "cell_type": "markdown",
   "metadata": {},
   "source": [
    "## Lab Question\n",
    "\n",
    "The four following lines of code were used in this lab. Which line of code instantiated a Tkinter object?\n",
    "\n",
    "- window.title(“Photogram”)\n",
    "- window.geometry(“800x500”)\n",
    "- window.configure(background=\"white\")\n",
    "- ***window = tkinter.Tk()*** <---- Correct Answer\n",
    "\n",
    "The correct answer is: `window = tkinter.Tk()`. This looks a bit different because of the `tkinter` library. However, you can tell this is an object instantiation because the name of the class is capitalized and the class name is followed by `()`."
   ]
  }
 ],
 "metadata": {
  "kernelspec": {
   "display_name": "Python 3.11.0 64-bit",
   "language": "python",
   "name": "python3"
  },
  "language_info": {
   "codemirror_mode": {
    "name": "ipython",
    "version": 3
   },
   "file_extension": ".py",
   "mimetype": "text/x-python",
   "name": "python",
   "nbconvert_exporter": "python",
   "pygments_lexer": "ipython3",
   "version": "3.11.0"
  },
  "orig_nbformat": 4,
  "vscode": {
   "interpreter": {
    "hash": "cfebaf9e48837dc440118a5254a217b2fe7848380d0f089486e02fcdd00d89a2"
   }
  }
 },
 "nbformat": 4,
 "nbformat_minor": 2
}
