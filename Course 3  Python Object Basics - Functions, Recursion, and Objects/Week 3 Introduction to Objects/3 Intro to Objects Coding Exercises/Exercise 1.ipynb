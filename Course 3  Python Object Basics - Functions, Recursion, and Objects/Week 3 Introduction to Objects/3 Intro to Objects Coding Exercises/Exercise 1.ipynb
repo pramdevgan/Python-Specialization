{
 "cells": [
  {
   "cell_type": "markdown",
   "metadata": {},
   "source": [
    "# Introduction to Objects Exercise 1\n",
    "\n",
    "---\n",
    "\n",
    "## Exercise 1\n",
    "\n",
    "Define the class `PracticeClass`. This class **should not** have a constructor or any attributes (instance variables). Test your code with the `TRY IT` button below before submitting your work"
   ]
  },
  {
   "cell_type": "code",
   "execution_count": 1,
   "metadata": {},
   "outputs": [],
   "source": [
    "class PracticeClass:\n",
    "    pass"
   ]
  },
  {
   "cell_type": "markdown",
   "metadata": {},
   "source": [
    "Submit your code when ready.\n",
    "\n",
    "Here is solution:\n",
    "\n",
    "```python\n",
    "class PracticeClass:\n",
    "  pass\n",
    "```\n",
    "\n",
    "Classes are defined with the `class` keyword followed by the name of the class, which is `PracticeClass`. Since this class cannot have a constructor or attributes, the `pass` keyword is used as a placeholder. Leaving the class blank will cause an error."
   ]
  },
  {
   "cell_type": "markdown",
   "metadata": {},
   "source": []
  }
 ],
 "metadata": {
  "kernelspec": {
   "display_name": "Python 3.11.0 64-bit",
   "language": "python",
   "name": "python3"
  },
  "language_info": {
   "codemirror_mode": {
    "name": "ipython",
    "version": 3
   },
   "file_extension": ".py",
   "mimetype": "text/x-python",
   "name": "python",
   "nbconvert_exporter": "python",
   "pygments_lexer": "ipython3",
   "version": "3.11.0"
  },
  "orig_nbformat": 4,
  "vscode": {
   "interpreter": {
    "hash": "cfebaf9e48837dc440118a5254a217b2fe7848380d0f089486e02fcdd00d89a2"
   }
  }
 },
 "nbformat": 4,
 "nbformat_minor": 2
}
