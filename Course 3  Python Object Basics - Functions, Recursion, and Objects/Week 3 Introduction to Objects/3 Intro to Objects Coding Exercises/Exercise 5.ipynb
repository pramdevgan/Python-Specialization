{
 "cells": [
  {
   "cell_type": "markdown",
   "metadata": {},
   "source": [
    "# Introduction to Objects Exercise 5\n",
    "\n",
    "---\n",
    "\n",
    "## Exercise 5\n",
    "\n",
    "Define the class `BigCat` which will help record information on the animals in the Panthera genus (tiger, lion, jaguar, leopard, and snow leopard). Since all animals are in the same genus, the object should have the **class attribute** `genus` with the value `panthera`. The constructor should accept the following parameters (in this order):\n",
    "\n",
    "* `species`- String with the species of the animal, e.g. `\"tigris\"`\n",
    "* `common_name` - String with the common name of the animal, e.g. `\"tiger\"`\n",
    "* `habitat` - List of strings with location of the animal, e.g. `[\"asia\"]`\n",
    "\n",
    "Test your code with print statements and the `TRY IT` button below before submitting your work."
   ]
  },
  {
   "cell_type": "code",
   "execution_count": 6,
   "metadata": {},
   "outputs": [
    {
     "name": "stdout",
     "output_type": "stream",
     "text": [
      "tigris tiger ['asia'] panthera\n",
      "Big cat species name is tigris their common name is tiger they are found in ['asia'] their genus name is panthera\n"
     ]
    }
   ],
   "source": [
    "class BigCat():\n",
    "    \"\"\"This class is for Big cat\"\"\"\n",
    "    genus = \"panthera\"\n",
    "    def __init__ (self, species, common_name, habitat):\n",
    "        self.species = species\n",
    "        self.common_name = common_name\n",
    "        self.habitat = habitat\n",
    "\n",
    "tiger = BigCat(\"tigris\", \"tiger\", [\"asia\"])\n",
    "print(tiger.species, tiger.common_name, tiger.habitat, tiger.genus)\n",
    "print(\"Big cat species name is {} their common name is {} they are found in {} their genus name is {}\".format(tiger.species, tiger.common_name, tiger.habitat, tiger.genus))"
   ]
  },
  {
   "cell_type": "markdown",
   "metadata": {},
   "source": [
    "Submit your code when ready\n",
    "\n",
    "Start by declaring the class `BigCat`. Class attributes go before the constructor, so create attribute `genus` and assign it the value of `panthera`. Define the constructor with the parameters: `self`, `species`, `common_name`, and `habitat`. Assign each attribute their corresponding parameter. Be sure to preface each attribute with `self.`.\n",
    "\n",
    "```python\n",
    "class BigCat:\n",
    "  genus = \"panthera\"\n",
    "  def __init__(self, species, common_name, habitat):\n",
    "    self.species = species\n",
    "    self.common_name = common_name\n",
    "    self.habitat = habitat\n",
    "```\n",
    "\n",
    "LAST RUN on 18/11/2022, 1:13:01 am\n",
    "\n",
    "```\n",
    "tigris tiger ['asia'] panthera\n",
    "All tests passed!\n",
    "```"
   ]
  }
 ],
 "metadata": {
  "kernelspec": {
   "display_name": "Python 3.11.0 64-bit",
   "language": "python",
   "name": "python3"
  },
  "language_info": {
   "codemirror_mode": {
    "name": "ipython",
    "version": 3
   },
   "file_extension": ".py",
   "mimetype": "text/x-python",
   "name": "python",
   "nbconvert_exporter": "python",
   "pygments_lexer": "ipython3",
   "version": "3.11.0"
  },
  "orig_nbformat": 4,
  "vscode": {
   "interpreter": {
    "hash": "cfebaf9e48837dc440118a5254a217b2fe7848380d0f089486e02fcdd00d89a2"
   }
  }
 },
 "nbformat": 4,
 "nbformat_minor": 2
}
