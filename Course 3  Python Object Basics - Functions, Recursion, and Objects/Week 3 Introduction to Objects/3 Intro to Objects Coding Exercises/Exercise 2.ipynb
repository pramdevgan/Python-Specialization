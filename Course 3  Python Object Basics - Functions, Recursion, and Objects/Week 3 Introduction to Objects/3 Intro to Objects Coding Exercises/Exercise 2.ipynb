{
 "cells": [
  {
   "cell_type": "markdown",
   "metadata": {},
   "source": [
    "# Introduction to Objects Exercise 2\n",
    "\n",
    "---\n",
    "\n",
    "## Exercise 2\n",
    "\n",
    "Define the class `Cat`. The class should have a constructor but without any parameters. The constructor will generate the following attributes.\n",
    "\n",
    "* `breed` - `\"american shorthair\"`\n",
    "* `color` - `\"black\"`\n",
    "* `name` - `\"kiwi\"`\n",
    "\n",
    "Test your code with print statements and the `TRY IT` button below before submitting your work."
   ]
  },
  {
   "cell_type": "code",
   "execution_count": 6,
   "metadata": {},
   "outputs": [
    {
     "name": "stdout",
     "output_type": "stream",
     "text": [
      "Cat name is kiwi and her color is black and she is american shorthair breed\n"
     ]
    }
   ],
   "source": [
    "class Cat():\n",
    "  def __init__(self):\n",
    "    self.breed = \"american shorthair\"\n",
    "    self.color = \"black\"\n",
    "    self.name = \"kiwi\"\n",
    "\n",
    "kiwi = Cat()\n",
    "print(f'Cat name is {kiwi.name} and her color is {kiwi.color} and she is {kiwi.breed} breed')"
   ]
  },
  {
   "cell_type": "markdown",
   "metadata": {},
   "source": [
    "Submit your code when ready\n",
    "\n",
    "Define the class `Cat` and create the constructor. Even though the constructor does not have any parameters for the instance attributes you still need to use `self` as the first parameter. When creating the attributes, be sure to preface each of them with `self.`.\n",
    "\n",
    "```python\n",
    "class Cat:\n",
    "  def __init__(self):\n",
    "    self.breed = \"american shorthair\"\n",
    "    self.color= \"black\"\n",
    "    self.name = \"kiwi\"\n",
    "```\n",
    "\n",
    "LAST RUN on 18/11/2022, 12:17:44 am\n",
    "\n",
    "<pre tabindex=\"0\" aria-label=\"Scrollable feedback \" class=\"codio-button-result-out codio-button-result-out-pass codio-feedback-comments\"><h2>Breed Test</h2>\n",
    "Test passed!\n",
    "<h2>Color Test</h2>\n",
    "Test passed!\n",
    "<h2>Name Test</h2>\n",
    "Test passed!\n",
    "<h2>Tests passed!</h2></pre>"
   ]
  }
 ],
 "metadata": {
  "kernelspec": {
   "display_name": "Python 3.11.0 64-bit",
   "language": "python",
   "name": "python3"
  },
  "language_info": {
   "codemirror_mode": {
    "name": "ipython",
    "version": 3
   },
   "file_extension": ".py",
   "mimetype": "text/x-python",
   "name": "python",
   "nbconvert_exporter": "python",
   "pygments_lexer": "ipython3",
   "version": "3.11.0"
  },
  "orig_nbformat": 4,
  "vscode": {
   "interpreter": {
    "hash": "cfebaf9e48837dc440118a5254a217b2fe7848380d0f089486e02fcdd00d89a2"
   }
  }
 },
 "nbformat": 4,
 "nbformat_minor": 2
}
