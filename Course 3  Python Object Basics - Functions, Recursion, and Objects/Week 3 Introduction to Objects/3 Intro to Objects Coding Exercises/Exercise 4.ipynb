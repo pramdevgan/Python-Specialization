{
 "cells": [
  {
   "cell_type": "markdown",
   "metadata": {},
   "source": [
    "# Introduction to Objects Exercise 4\n",
    "\n",
    "---\n",
    "\n",
    "## Exercise 4\n",
    "\n",
    "Define the class `Observation` which will help record observational data from a scientific outpost in Antarctica. The class should have a constructor that accepts parameters for `date`, `temperature`, `elevation`, `precipitation`, and `penguins`. Since Antarctica is a desert, `precipitation` should **default** to 0.\n",
    "\n",
    "* `date`- String with the date of the observation, e.g. `\"October 26, 2019\"`\n",
    "* `temperature` - Float with the temperature in Celsius, e.g. `-47`\n",
    "* `elevation` - Float with elevation in meters, e.g. `329.4`\n",
    "* `penguins` - Integer representing the number of penguins observed, e.g. `3`\n",
    "* `precipitation`- Float with precipitation in centimeters, e.g. `0.7`\n",
    "\n",
    "Test your code with print statements and the `TRY IT` button below before submitting your work"
   ]
  },
  {
   "cell_type": "code",
   "execution_count": 1,
   "metadata": {},
   "outputs": [
    {
     "name": "stdout",
     "output_type": "stream",
     "text": [
      "In Antarctica at October 26, 2019 their temp was -47 and it was 329.4 sink they count 3 no of penguins found and the precipitation was 0.7\n"
     ]
    }
   ],
   "source": [
    "class Observation():\n",
    "  def __init__(self, date, temperature, elevation, penguins, precipitation=0):\n",
    "    self.date = date\n",
    "    self.temperature = temperature\n",
    "    self.elevation = elevation\n",
    "    self.penguins = penguins\n",
    "    self.precipitation = precipitation\n",
    "\n",
    "antarctica = Observation(\"October 26, 2019\", -47, 329.4, 3, 0.7)\n",
    "print(\"In Antarctica at {} their temp was {} and it was {} sink they count {} no of penguins found and the precipitation was {}\".format(antarctica.date, antarctica.temperature, antarctica.elevation, antarctica.penguins, antarctica.precipitation))"
   ]
  },
  {
   "cell_type": "markdown",
   "metadata": {},
   "source": [
    "Submit your code when ready\n",
    "\n",
    "Here is a possible solution:\n",
    "\n",
    "```python\n",
    "class Observation:\n",
    "  def __init__(self, date, temperature, elevation, penguins, precipitation=0):\n",
    "    self.date = date\n",
    "    self.temperature = temperature\n",
    "    self.elevation = elevation\n",
    "    self.penguins = penguins\n",
    "    self.precipitation = precipitation\n",
    "```\n",
    "\n",
    "The parameter `self` must come first in the constructor, and `precipitation` must come last since it is an optional parameter. The rest of the parameters can go in any order. The order must match when the object is instantiated.\n",
    "\n",
    "Check It!\n",
    "\n",
    "LAST RUN on 18/11/2022, 12:55:48 am\n",
    "\n",
    "<pre tabindex=\"0\" aria-label=\"Scrollable feedback \" class=\"codio-button-result-out codio-button-result-out-pass codio-feedback-comments\"><h2>All tests passed!</h2></pre>"
   ]
  }
 ],
 "metadata": {
  "kernelspec": {
   "display_name": "Python 3.11.0 64-bit",
   "language": "python",
   "name": "python3"
  },
  "language_info": {
   "codemirror_mode": {
    "name": "ipython",
    "version": 3
   },
   "file_extension": ".py",
   "mimetype": "text/x-python",
   "name": "python",
   "nbconvert_exporter": "python",
   "pygments_lexer": "ipython3",
   "version": "3.11.0"
  },
  "orig_nbformat": 4,
  "vscode": {
   "interpreter": {
    "hash": "cfebaf9e48837dc440118a5254a217b2fe7848380d0f089486e02fcdd00d89a2"
   }
  }
 },
 "nbformat": 4,
 "nbformat_minor": 2
}
