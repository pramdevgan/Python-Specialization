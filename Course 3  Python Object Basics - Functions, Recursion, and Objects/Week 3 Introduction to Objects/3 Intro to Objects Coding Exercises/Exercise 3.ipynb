{
 "cells": [
  {
   "cell_type": "markdown",
   "metadata": {},
   "source": [
    "# Introduction to Objects Exercise 3\n",
    "\n",
    "---\n",
    "\n",
    "## Exercise 3\n",
    "\n",
    "Define the class `SuperHero`. The class should have a constructor that accepts the following parameters (in this order):\n",
    "\n",
    "* `name`- String with the name of the super hero, e.g. `\"Spider-Man\"`\n",
    "* `secret_identity` - String with the true name of the hero, e.g. `\"Peter Parker\"`\n",
    "* `powers` - A list of strings with each element representing a power, e.g. `[\"superhuman strength\", \"superhuman speed\", \"superhuman reflexes\", \"superhuman durability\", \"healing factor\", \"spider-sense alert\", \"heightened senses\", \"wallcrawling\"]`\n",
    "\n",
    "Test your code with print statements and the `TRY IT` button below before submitting your work."
   ]
  },
  {
   "cell_type": "code",
   "execution_count": 1,
   "metadata": {},
   "outputs": [
    {
     "name": "stdout",
     "output_type": "stream",
     "text": [
      "Spider-Man secret identity is Peter Parker and his super power is ['superhuman strength', 'superhuman speed', 'superhuman reflexes', 'superhuman durability', 'healing factor', 'spider-sense alert', 'heightened senses', 'wallcrawling']\n"
     ]
    }
   ],
   "source": [
    "class SuperHero():\n",
    "    def __init__(self, name, secret_identity, powers):\n",
    "        self.name = name\n",
    "        self.secret_identity = secret_identity\n",
    "        self.powers = powers\n",
    "spider_man = SuperHero(\"Spider-Man\", \"Peter Parker\", [\"superhuman strength\", \"superhuman speed\", \"superhuman reflexes\", \"superhuman durability\", \"healing factor\", \"spider-sense alert\", \"heightened senses\", \"wallcrawling\"])\n",
    "\n",
    "print(\"{} secret identity is {} and his super power is {}\".format(spider_man.name, spider_man.secret_identity, spider_man.powers))"
   ]
  },
  {
   "cell_type": "markdown",
   "metadata": {},
   "source": [
    "Submit your work when ready\n",
    "\n",
    "Start by declaring the `SuperHero` class. The constructor should include `self` as the first parameter, as well as `name`, `secret_identity`, and`powers`. Be sure to keep the parameters in this order; otherwise your code will not pass the automated tests. Set each attribute to its matching parameter. Be sure to preface each attribute with `self.`.\n",
    "\n",
    "```python\n",
    "class SuperHero:\n",
    "  def __init__(self, name, secret_identity, powers):\n",
    "    self.name = name\n",
    "    self.secret_identity = secret_identity\n",
    "    self.powers = powers\n",
    "```\n",
    "\n",
    "\n",
    "LAST RUN on 18/11/2022, 12:41:02 am\n",
    "\n",
    "```\n",
    "Spider-Man secret identity is Peter Parker and his super power is ['superhuman strength', 'superhuman speed', 'superhuman reflexes', 'superhuman durability', 'healing factor', 'spider-sense alert', 'heightened senses', 'wallcrawling']\n",
    "All tests passed!\n",
    "```"
   ]
  }
 ],
 "metadata": {
  "kernelspec": {
   "display_name": "Python 3.11.0 64-bit",
   "language": "python",
   "name": "python3"
  },
  "language_info": {
   "codemirror_mode": {
    "name": "ipython",
    "version": 3
   },
   "file_extension": ".py",
   "mimetype": "text/x-python",
   "name": "python",
   "nbconvert_exporter": "python",
   "pygments_lexer": "ipython3",
   "version": "3.11.0"
  },
  "orig_nbformat": 4,
  "vscode": {
   "interpreter": {
    "hash": "cfebaf9e48837dc440118a5254a217b2fe7848380d0f089486e02fcdd00d89a2"
   }
  }
 },
 "nbformat": 4,
 "nbformat_minor": 2
}
